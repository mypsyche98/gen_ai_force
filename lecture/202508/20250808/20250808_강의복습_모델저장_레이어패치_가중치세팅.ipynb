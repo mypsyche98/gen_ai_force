{
 "cells": [
  {
   "cell_type": "markdown",
   "metadata": {
    "id": "bBharx7creFS"
   },
   "source": [
    "모듈 설치"
   ]
  },
  {
   "cell_type": "code",
   "execution_count": null,
   "metadata": {
    "id": "Odip-LOmrIw3"
   },
   "outputs": [],
   "source": [
    "import numpy as np\n",
    "\n",
    "# 'encoder_outputs'를 생성한 인코더 레이어의 이름\n",
    "encoder_layer_name = 'lstm_layer_1' \n",
    "\n",
    "# 모델에서 특정 레이어를 가져오기\n",
    "encoder_layer = model.get_layer(encoder_layer_name)\n",
    "\n",
    "# 해당 레이어의 가중치 추출 (NumPy 배열 형식)\n",
    "encoder_weights = encoder_layer.get_weights()\n",
    "\n",
    "# 가중치를 .npy 파일로 저장\n",
    "np.save('encoder_weights.npy', encoder_weights)"
   ]
  },
  {
   "cell_type": "code",
   "execution_count": null,
   "metadata": {
    "id": "-CCOjbPsrJux"
   },
   "outputs": [],
   "source": [
    "import numpy as np\n",
    "from tensorflow.keras.layers import Dense\n",
    "\n",
    "# (예시) Dense 레이어 생성 및 가중치 저장\n",
    "original_dense_layer = Dense(units=128, activation='relu', name='dense_layer_1')\n",
    "# ... 이 레이어를 포함한 모델을 학습시키고 가중치를 얻었다고 가정합니다.\n",
    "# dummy 가중치를 생성해 실제 상황을 시뮬레이션합니다.\n",
    "dummy_weights = [np.random.rand(784, 128), np.random.rand(128,)] \n",
    "original_dense_layer.build(input_shape=(None, 784))\n",
    "original_dense_layer.set_weights(dummy_weights)\n",
    "\n",
    "# 가중치를 .npy 파일로 저장\n",
    "np.save('dense_layer_weights.npy', original_dense_layer.get_weights())\n",
    "print(\"가중치가 'dense_layer_weights.npy' 파일로 저장되었습니다.\")"
   ]
  },
  {
   "cell_type": "code",
   "execution_count": null,
   "metadata": {},
   "outputs": [],
   "source": [
    "import numpy as np\n",
    "from tensorflow.keras.layers import Dense\n",
    "from tensorflow.keras.models import Sequential\n",
    "\n",
    "# 1. 저장했던 가중치 파일 불러오기\n",
    "loaded_weights = np.load('dense_layer_weights.npy', allow_pickle=True)\n",
    "print(\"가중치 파일이 성공적으로 로드되었습니다.\")\n",
    "\n",
    "# 2. 가중치를 적용할 새로운 레이어 인스턴스 만들기\n",
    "# 주의: 원본 레이어와 동일한 구조(units, activation 등)여야 합니다.\n",
    "new_dense_layer = Dense(units=128, activation='relu', name='new_dense_layer')\n",
    "\n",
    "# 3. 모델을 구성하여 레이어의 가중치를 초기화(빌드)\n",
    "# set_weights를 사용하기 전에 레이어는 input shape을 알아야 합니다.\n",
    "# 모델 내에서 레이어를 처음 호출하면 자동으로 빌드됩니다.\n",
    "model = Sequential([\n",
    "    # 이 레이어의 input_shape은 원본 레이어와 동일해야 합니다.\n",
    "    new_dense_layer\n",
    "])\n",
    "model.build(input_shape=(None, 784)) # 또는 모델에 데이터를 넣고 predict()를 한 번 실행해도 됩니다.\n",
    "\n",
    "# 4. 불러온 가중치를 레이어에 적용\n",
    "new_dense_layer.set_weights(loaded_weights)\n",
    "print(\"새로운 레이어에 가중치가 성공적으로 적용되었습니다.\")\n",
    "\n",
    "# 이제 new_dense_layer는 학습된 가중치를 가지고 있으므로 예측에 바로 사용할 수 있습니다.\n",
    "# 예를 들어, 이 레이어를 사용하여 다른 모델을 만들거나 추론에 활용할 수 있습니다."
   ]
  },
  {
   "cell_type": "code",
   "execution_count": null,
   "metadata": {
    "id": "1Zvf_3GtrPQq"
   },
   "outputs": [],
   "source": [
    "import tensorflow as tf\n",
    "\n",
    "# 모델 정의 및 학습 (예시)\n",
    "model = tf.keras.models.Sequential([\n",
    "    tf.keras.layers.Dense(128, activation='relu', name='dense_1', input_shape=(784,)),\n",
    "    tf.keras.layers.Dense(10, activation='softmax', name='dense_2')\n",
    "])\n",
    "model.compile(optimizer='adam', loss='sparse_categorical_crossentropy', metrics=['accuracy'])\n",
    "# ... 모델 학습 코드 ...\n",
    "\n",
    "# 모델 전체를 .h5 파일로 저장\n",
    "model.save('my_model.h5')"
   ]
  },
  {
   "cell_type": "code",
   "execution_count": null,
   "metadata": {
    "id": "PFDqKd3MrR_K"
   },
   "outputs": [],
   "source": [
    "import h5py\n",
    "import numpy as np\n",
    "\n",
    "# 저장된 .h5 파일 열기\n",
    "with h5py.File('my_model.h5', 'r') as f:\n",
    "    # 'dense_1' 레이어 그룹에 접근\n",
    "    dense_1_weights_group = f['dense_1']\n",
    "    \n",
    "    # 'dense_1' 레이어의 가중치 데이터셋 불러오기\n",
    "    # 보통 가중치는 'kernel:0'과 'bias:0'이라는 이름으로 저장됩니다.\n",
    "    kernel = dense_1_weights_group['dense_1']['kernel:0'][:]\n",
    "    bias = dense_1_weights_group['dense_1']['bias:0'][:]\n",
    "    \n",
    "    # 불러온 가중치를 NumPy 배열로 확인\n",
    "    print(\"dense_1 레이어의 kernel 가중치:\", kernel.shape)\n",
    "    print(\"dense_1 레이어의 bias 가중치:\", bias.shape)\n",
    "\n",
    "    # 새로운 레이어에 가중치 적용 (예시)\n",
    "    from tensorflow.keras.layers import Dense\n",
    "    new_dense_layer = Dense(128, activation='relu', name='new_layer_with_weights')\n",
    "    new_dense_layer.build(input_shape=(None, 784))\n",
    "    new_dense_layer.set_weights([kernel, bias])\n",
    "    print(\"새로운 dense 레이어에 가중치가 성공적으로 적용되었습니다.\")"
   ]
  }
 ],
 "metadata": {
  "colab": {
   "authorship_tag": "ABX9TyNKGGphdgMN3KOzUwov0xUh",
   "provenance": []
  },
  "kernelspec": {
   "display_name": "Python 3 (ipykernel)",
   "language": "python",
   "name": "python3"
  },
  "language_info": {
   "codemirror_mode": {
    "name": "ipython",
    "version": 3
   },
   "file_extension": ".py",
   "mimetype": "text/x-python",
   "name": "python",
   "nbconvert_exporter": "python",
   "pygments_lexer": "ipython3",
   "version": "3.11.11"
  }
 },
 "nbformat": 4,
 "nbformat_minor": 4
}
