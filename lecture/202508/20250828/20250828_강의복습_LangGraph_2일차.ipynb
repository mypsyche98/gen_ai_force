{
 "cells": [
  {
   "cell_type": "code",
   "execution_count": null,
   "metadata": {
    "scrolled": true
   },
   "outputs": [],
   "source": [
    "!pip install PyDrive"
   ]
  },
  {
   "cell_type": "code",
   "execution_count": 1,
   "metadata": {},
   "outputs": [
    {
     "name": "stdout",
     "output_type": "stream",
     "text": [
      "아래 링크를 복사하여 웹 브라우저에 붙여넣으세요.\n",
      "https://accounts.google.com/o/oauth2/auth?client_id=35726703810-4v13dfqmilhgv6shlc3cv9i3ktuh73j1.apps.googleusercontent.com&redirect_uri=http%3A%2F%2Flocalhost&scope=https%3A%2F%2Fwww.googleapis.com%2Fauth%2Fdrive&access_type=offline&response_type=code\n",
      "Authentication successful.\n",
      "mykey => set HUGGINGFACEHUB_API_TOKEN is done\n",
      "mykey => set OPENAI_API_KEY is done\n",
      "mykey => set LANGCHAIN_API_KEY is done\n",
      "mykey => set LANGCHAIN_HUB_API_KEY is done\n",
      "mykey => set GOOGLE_API_KEY is done\n",
      "mykey => set UPSTAGE_API_KEY is done\n",
      "mykey => set COHERE_API_KEY is done\n",
      "mykey => set JINA_API_KEY is done\n",
      "mykey => set ANTHROPIC_API_KEY is done\n",
      "mykey => set DEEPL_API_KEY is done\n",
      "mykey => set TAVILY_API_KEY is done\n",
      "mykey => set TOGETHER_API_KEY is done\n"
     ]
    }
   ],
   "source": [
    "import mykeys\n",
    "\n",
    "mykeys.setOsEnv()"
   ]
  },
  {
   "cell_type": "code",
   "execution_count": 2,
   "metadata": {},
   "outputs": [],
   "source": [
    "import os\n",
    "\n",
    "project_name = 'CH17_LangGraph_SUB01'\n",
    "\n",
    "os.environ[\"LANGCHAIN_TRACING_V2\"] = \"true\"\n",
    "os.environ[\"LANGCHAIN_ENDPOINT\"] = \"https://api.smith.langchain.com\"\n",
    "os.environ[\"LANGCHAIN_PROJECT\"] = project_name"
   ]
  },
  {
   "cell_type": "code",
   "execution_count": 3,
   "metadata": {},
   "outputs": [
    {
     "name": "stdout",
     "output_type": "stream",
     "text": [
      "LangSmith 추적을 시작합니다.\n",
      "[프로젝트명]\n",
      "CH17_LangGraph_SUB01\n"
     ]
    }
   ],
   "source": [
    "from langchain_teddynote import logging\n",
    "\n",
    "# 프로젝트 이름을 입력합니다.\n",
    "logging.langsmith(project_name)"
   ]
  },
  {
   "cell_type": "code",
   "execution_count": null,
   "metadata": {},
   "outputs": [],
   "source": [
    "from langchain_teddynote import logging\n",
    "\n",
    "# set_enable=False 로 지정하면 추적을 하지 않습니다.\n",
    "logging.langsmith(project_name, set_enable=False)"
   ]
  },
  {
   "cell_type": "markdown",
   "metadata": {},
   "source": [
    "CH17 LangGraph"
   ]
  },
  {
   "cell_type": "markdown",
   "metadata": {},
   "source": [
    "01. 핵심 기능"
   ]
  },
  {
   "cell_type": "markdown",
   "metadata": {},
   "source": [
    "08. 사람(Human)에게 물어보는 노드 추가"
   ]
  },
  {
   "cell_type": "code",
   "execution_count": 4,
   "metadata": {},
   "outputs": [],
   "source": [
    "from typing import Annotated\n",
    "from typing_extensions import TypedDict\n",
    "from langchain_teddynote.tools.tavily import TavilySearch\n",
    "from langgraph.checkpoint.memory import MemorySaver\n",
    "from langgraph.graph import StateGraph, START\n",
    "from langgraph.graph.message import add_messages\n",
    "from langgraph.prebuilt import ToolNode, tools_condition\n"
   ]
  },
  {
   "cell_type": "code",
   "execution_count": 5,
   "metadata": {},
   "outputs": [],
   "source": [
    "class State(TypedDict):\n",
    "    # 메시지 목록\n",
    "    messages: Annotated[list, add_messages]\n",
    "    # 사람에게 질문할지 여부를 묻는 상태 추가\n",
    "    ask_human: bool\n"
   ]
  },
  {
   "cell_type": "code",
   "execution_count": 6,
   "metadata": {},
   "outputs": [],
   "source": [
    "from pydantic import BaseModel\n",
    "\n",
    "\n",
    "class HumanRequest(BaseModel):\n",
    "    \"\"\"Forward the conversation to an expert. Use when you can't assist directly or the user needs assistance that exceeds your authority.\n",
    "    To use this function, pass the user's 'request' so that an expert can provide appropriate guidance.\n",
    "    \"\"\"\n",
    "\n",
    "    request: str\n"
   ]
  },
  {
   "cell_type": "code",
   "execution_count": 7,
   "metadata": {},
   "outputs": [],
   "source": [
    "from langchain_openai import ChatOpenAI\n",
    "\n",
    "# 도구 추가\n",
    "tool = TavilySearch(max_results=3)\n",
    "\n",
    "# 도구 목록 추가(HumanRequest 도구)\n",
    "tools = [tool, HumanRequest]\n",
    "\n",
    "# LLM 추가\n",
    "llm = ChatOpenAI(model=\"gpt-4.1\", temperature=0)\n",
    "\n",
    "# 도구 바인딩\n",
    "llm_with_tools = llm.bind_tools(tools)\n",
    "\n",
    "\n",
    "def chatbot(state: State):\n",
    "    # LLM 도구 호출을 통한 응답 생성\n",
    "    response = llm_with_tools.invoke(state[\"messages\"])\n",
    "\n",
    "    # 사람에게 질문할지 여부 초기화\n",
    "    ask_human = False\n",
    "\n",
    "    # 도구 호출이 있고 이름이 'HumanRequest' 인 경우\n",
    "    if response.tool_calls and response.tool_calls[0][\"name\"] == HumanRequest.__name__:\n",
    "        ask_human = True\n",
    "\n",
    "    # 메시지와 ask_human 상태 반환\n",
    "    return {\"messages\": [response], \"ask_human\": ask_human}\n"
   ]
  },
  {
   "cell_type": "code",
   "execution_count": 8,
   "metadata": {},
   "outputs": [
    {
     "data": {
      "text/plain": [
       "<langgraph.graph.state.StateGraph at 0x113bc0490>"
      ]
     },
     "execution_count": 8,
     "metadata": {},
     "output_type": "execute_result"
    }
   ],
   "source": [
    "# 상태 그래프 초기화\n",
    "graph_builder = StateGraph(State)\n",
    "\n",
    "# 챗봇 노드 추가\n",
    "graph_builder.add_node(\"chatbot\", chatbot)\n",
    "\n",
    "# 도구 노드 추가\n",
    "graph_builder.add_node(\"tools\", ToolNode(tools=[tool]))\n"
   ]
  },
  {
   "cell_type": "code",
   "execution_count": 9,
   "metadata": {},
   "outputs": [
    {
     "data": {
      "text/plain": [
       "<langgraph.graph.state.StateGraph at 0x113bc0490>"
      ]
     },
     "execution_count": 9,
     "metadata": {},
     "output_type": "execute_result"
    }
   ],
   "source": [
    "from langchain_core.messages import AIMessage, ToolMessage\n",
    "\n",
    "\n",
    "# 응답 메시지 생성(ToolMessage 생성을 위한 함수)\n",
    "def create_response(response: str, ai_message: AIMessage):\n",
    "    return ToolMessage(\n",
    "        content=response,\n",
    "        tool_call_id=ai_message.tool_calls[0][\"id\"],\n",
    "    )\n",
    "\n",
    "\n",
    "# 인간 노드 처리\n",
    "def human_node(state: State):\n",
    "    new_messages = []\n",
    "    if not isinstance(state[\"messages\"][-1], ToolMessage):\n",
    "        # 사람으로부터 응답이 없는 경우\n",
    "        new_messages.append(\n",
    "            create_response(\"No response from human.\", state[\"messages\"][-1])\n",
    "        )\n",
    "    return {\n",
    "        # 새 메시지 추가\n",
    "        \"messages\": new_messages,\n",
    "        # 플래그 해제\n",
    "        \"ask_human\": False,\n",
    "    }\n",
    "\n",
    "\n",
    "# 그래프에 인간 노드 추가\n",
    "graph_builder.add_node(\"human\", human_node)\n"
   ]
  },
  {
   "cell_type": "code",
   "execution_count": 10,
   "metadata": {},
   "outputs": [
    {
     "data": {
      "text/plain": [
       "<langgraph.graph.state.StateGraph at 0x113bc0490>"
      ]
     },
     "execution_count": 10,
     "metadata": {},
     "output_type": "execute_result"
    }
   ],
   "source": [
    "from langgraph.graph import END\n",
    "\n",
    "\n",
    "# 다음 노드 선택\n",
    "def select_next_node(state: State):\n",
    "    # 인간에게 질문 여부 확인\n",
    "    if state[\"ask_human\"]:\n",
    "        return \"human\"\n",
    "    # 이전과 동일한 경로 설정\n",
    "    return tools_condition(state)\n",
    "\n",
    "\n",
    "# 조건부 엣지 추가\n",
    "graph_builder.add_conditional_edges(\n",
    "    \"chatbot\",\n",
    "    select_next_node,\n",
    "    {\"human\": \"human\", \"tools\": \"tools\", END: END},\n",
    ")\n"
   ]
  },
  {
   "cell_type": "code",
   "execution_count": 11,
   "metadata": {},
   "outputs": [],
   "source": [
    "# 엣지 추가: 'tools'에서 'chatbot'으로\n",
    "graph_builder.add_edge(\"tools\", \"chatbot\")\n",
    "\n",
    "# 엣지 추가: 'human'에서 'chatbot'으로\n",
    "graph_builder.add_edge(\"human\", \"chatbot\")\n",
    "\n",
    "# 엣지 추가: START에서 'chatbot'으로\n",
    "graph_builder.add_edge(START, \"chatbot\")\n",
    "\n",
    "# 메모리 저장소 초기화\n",
    "memory = MemorySaver()\n",
    "\n",
    "# 그래프 컴파일: 메모리 체크포인터 사용\n",
    "graph = graph_builder.compile(\n",
    "    checkpointer=memory,\n",
    "    # 'human' 이전에 인터럽트 설정\n",
    "    interrupt_before=[\"human\"],\n",
    ")\n"
   ]
  },
  {
   "cell_type": "code",
   "execution_count": 12,
   "metadata": {},
   "outputs": [
    {
     "data": {
      "image/png": "[encoded data removed]",
      "text/plain": [
       "<IPython.core.display.Image object>"
      ]
     },
     "metadata": {},
     "output_type": "display_data"
    }
   ],
   "source": [
    "from langchain_teddynote.graphs import visualize_graph\n",
    "\n",
    "# 그래프 시각화\n",
    "visualize_graph(graph)"
   ]
  },
  {
   "cell_type": "code",
   "execution_count": 13,
   "metadata": {},
   "outputs": [
    {
     "name": "stdout",
     "output_type": "stream",
     "text": [
      "================================\u001b[1m Human Message \u001b[0m=================================\n",
      "\n",
      "이 AI 에이전트를 구축하기 위해 전문가의 도움이 필요합니다. 도움을 요청할 수 있나요?\n",
      "==================================\u001b[1m Ai Message \u001b[0m==================================\n",
      "Tool Calls:\n",
      "  HumanRequest (call_5KhRIpj5g9o2Y7mbshwue20L)\n",
      " Call ID: call_5KhRIpj5g9o2Y7mbshwue20L\n",
      "  Args:\n",
      "    request: 이 AI 에이전트를 구축하기 위해 전문가의 도움이 필요합니다. 전문가의 도움을 요청합니다.\n"
     ]
    }
   ],
   "source": [
    "# user_input = \"이 AI 에이전트를 구축하기 위해 전문가의 도움이 필요합니다. 검색해서 답변하세요\" (Human 이 아닌 웹검색을 수행하는 경우)\n",
    "user_input = \"이 AI 에이전트를 구축하기 위해 전문가의 도움이 필요합니다. 도움을 요청할 수 있나요?\"\n",
    "\n",
    "# config 설정\n",
    "config = {\"configurable\": {\"thread_id\": \"1\"}}\n",
    "\n",
    "# 스트림 또는 호출의 두 번째 위치 인수로서의 구성\n",
    "events = graph.stream(\n",
    "    {\"messages\": [(\"user\", user_input)]}, config, stream_mode=\"values\"\n",
    ")\n",
    "for event in events:\n",
    "    if \"messages\" in event:\n",
    "        # 마지막 메시지의 예쁜 출력\n",
    "        event[\"messages\"][-1].pretty_print()\n"
   ]
  },
  {
   "cell_type": "code",
   "execution_count": 14,
   "metadata": {},
   "outputs": [
    {
     "data": {
      "text/plain": [
       "('human',)"
      ]
     },
     "execution_count": 14,
     "metadata": {},
     "output_type": "execute_result"
    }
   ],
   "source": [
    "# 그래프 상태 스냅샷 생성\n",
    "snapshot = graph.get_state(config)\n",
    "\n",
    "# 다음 스냅샷 상태 접근\n",
    "snapshot.next\n"
   ]
  },
  {
   "cell_type": "code",
   "execution_count": 15,
   "metadata": {},
   "outputs": [
    {
     "data": {
      "text/plain": [
       "{'configurable': {'thread_id': '1',\n",
       "  'checkpoint_ns': '',\n",
       "  'checkpoint_id': '1f083a45-332f-6ee8-8002-d86b4a40b050'}}"
      ]
     },
     "execution_count": 15,
     "metadata": {},
     "output_type": "execute_result"
    }
   ],
   "source": [
    "# AI 메시지 추출\n",
    "ai_message = snapshot.values[\"messages\"][-1]\n",
    "\n",
    "# 인간 응답 생성\n",
    "human_response = (\n",
    "    \"전문가들이 도와드리겠습니다! 에이전트 구축을 위해 LangGraph를 확인해 보시기를 적극 추천드립니다. \"\n",
    "    \"단순한 자율 에이전트보다 훨씬 더 안정적이고 확장성이 뛰어납니다. \"\n",
    "    \"https://wikidocs.net/233785 에서 더 많은 정보를 확인할 수 있습니다.\"\n",
    ")\n",
    "\n",
    "# 도구 메시지 생성\n",
    "tool_message = create_response(human_response, ai_message)\n",
    "\n",
    "# 그래프 상태 업데이트\n",
    "graph.update_state(config, {\"messages\": [tool_message]})\n"
   ]
  },
  {
   "cell_type": "code",
   "execution_count": 16,
   "metadata": {},
   "outputs": [
    {
     "data": {
      "text/plain": [
       "[HumanMessage(content='이 AI 에이전트를 구축하기 위해 전문가의 도움이 필요합니다. 도움을 요청할 수 있나요?', additional_kwargs={}, response_metadata={}, id='fb423ebc-4abf-474a-a163-655351bd87e5'),\n",
       " AIMessage(content='', additional_kwargs={'tool_calls': [{'id': 'call_5KhRIpj5g9o2Y7mbshwue20L', 'function': {'arguments': '{\"request\":\"이 AI 에이전트를 구축하기 위해 전문가의 도움이 필요합니다. 전문가의 도움을 요청합니다.\"}', 'name': 'HumanRequest'}, 'type': 'function'}], 'refusal': None}, response_metadata={'token_usage': {'completion_tokens': 36, 'prompt_tokens': 171, 'total_tokens': 207, 'completion_tokens_details': {'accepted_prediction_tokens': 0, 'audio_tokens': 0, 'reasoning_tokens': 0, 'rejected_prediction_tokens': 0}, 'prompt_tokens_details': {'audio_tokens': 0, 'cached_tokens': 0}}, 'model_name': 'gpt-4.1-2025-04-14', 'system_fingerprint': 'fp_daf5fcc80a', 'id': 'chatcmpl-C9Kb2soS06phsOBBGgPWpYtYrmNOc', 'service_tier': 'default', 'finish_reason': 'tool_calls', 'logprobs': None}, id='run--afdb4e75-a2fc-4c18-bc5d-f7c70b65d863-0', tool_calls=[{'name': 'HumanRequest', 'args': {'request': '이 AI 에이전트를 구축하기 위해 전문가의 도움이 필요합니다. 전문가의 도움을 요청합니다.'}, 'id': 'call_5KhRIpj5g9o2Y7mbshwue20L', 'type': 'tool_call'}], usage_metadata={'input_tokens': 171, 'output_tokens': 36, 'total_tokens': 207, 'input_token_details': {'audio': 0, 'cache_read': 0}, 'output_token_details': {'audio': 0, 'reasoning': 0}}),\n",
       " ToolMessage(content='전문가들이 도와드리겠습니다! 에이전트 구축을 위해 LangGraph를 확인해 보시기를 적극 추천드립니다. 단순한 자율 에이전트보다 훨씬 더 안정적이고 확장성이 뛰어납니다. https://wikidocs.net/233785 에서 더 많은 정보를 확인할 수 있습니다.', id='b41d0e24-9000-4714-9fec-3e42c2f8e582', tool_call_id='call_5KhRIpj5g9o2Y7mbshwue20L')]"
      ]
     },
     "execution_count": 16,
     "metadata": {},
     "output_type": "execute_result"
    }
   ],
   "source": [
    "# 그래프 상태에서 메시지 값 가져오기\n",
    "graph.get_state(config).values[\"messages\"]\n"
   ]
  },
  {
   "cell_type": "code",
   "execution_count": 17,
   "metadata": {},
   "outputs": [
    {
     "name": "stdout",
     "output_type": "stream",
     "text": [
      "=================================\u001b[1m Tool Message \u001b[0m=================================\n",
      "\n",
      "전문가들이 도와드리겠습니다! 에이전트 구축을 위해 LangGraph를 확인해 보시기를 적극 추천드립니다. 단순한 자율 에이전트보다 훨씬 더 안정적이고 확장성이 뛰어납니다. https://wikidocs.net/233785 에서 더 많은 정보를 확인할 수 있습니다.\n",
      "=================================\u001b[1m Tool Message \u001b[0m=================================\n",
      "\n",
      "전문가들이 도와드리겠습니다! 에이전트 구축을 위해 LangGraph를 확인해 보시기를 적극 추천드립니다. 단순한 자율 에이전트보다 훨씬 더 안정적이고 확장성이 뛰어납니다. https://wikidocs.net/233785 에서 더 많은 정보를 확인할 수 있습니다.\n",
      "==================================\u001b[1m Ai Message \u001b[0m==================================\n",
      "\n",
      "전문가의 안내에 따라, AI 에이전트 구축을 위해 LangGraph를 확인해 보시는 것이 좋습니다. LangGraph는 단순한 자율 에이전트보다 훨씬 더 안정적이고 확장성이 뛰어난 프레임워크입니다.\n",
      "\n",
      "더 자세한 정보와 실습 예제는 아래 링크에서 확인하실 수 있습니다:\n",
      "- LangGraph 소개 및 활용법: https://wikidocs.net/233785\n",
      "\n",
      "추가적으로 궁금한 점이나 구체적인 구현에 대한 질문이 있으시면 언제든 말씀해 주세요!\n"
     ]
    }
   ],
   "source": [
    "# 그래프에서 이벤트 스트림 생성\n",
    "events = graph.stream(None, config, stream_mode=\"values\")\n",
    "\n",
    "# 각 이벤트에 대한 처리\n",
    "for event in events:\n",
    "    # 메시지가 있는 경우 마지막 메시지 출력\n",
    "    if \"messages\" in event:\n",
    "        event[\"messages\"][-1].pretty_print()\n"
   ]
  },
  {
   "cell_type": "code",
   "execution_count": 18,
   "metadata": {},
   "outputs": [
    {
     "name": "stdout",
     "output_type": "stream",
     "text": [
      "================================\u001b[1m Human Message \u001b[0m=================================\n",
      "\n",
      "이 AI 에이전트를 구축하기 위해 전문가의 도움이 필요합니다. 도움을 요청할 수 있나요?\n",
      "==================================\u001b[1m Ai Message \u001b[0m==================================\n",
      "Tool Calls:\n",
      "  HumanRequest (call_5KhRIpj5g9o2Y7mbshwue20L)\n",
      " Call ID: call_5KhRIpj5g9o2Y7mbshwue20L\n",
      "  Args:\n",
      "    request: 이 AI 에이전트를 구축하기 위해 전문가의 도움이 필요합니다. 전문가의 도움을 요청합니다.\n",
      "=================================\u001b[1m Tool Message \u001b[0m=================================\n",
      "\n",
      "전문가들이 도와드리겠습니다! 에이전트 구축을 위해 LangGraph를 확인해 보시기를 적극 추천드립니다. 단순한 자율 에이전트보다 훨씬 더 안정적이고 확장성이 뛰어납니다. https://wikidocs.net/233785 에서 더 많은 정보를 확인할 수 있습니다.\n",
      "==================================\u001b[1m Ai Message \u001b[0m==================================\n",
      "\n",
      "전문가의 안내에 따라, AI 에이전트 구축을 위해 LangGraph를 확인해 보시는 것이 좋습니다. LangGraph는 단순한 자율 에이전트보다 훨씬 더 안정적이고 확장성이 뛰어난 프레임워크입니다.\n",
      "\n",
      "더 자세한 정보와 실습 예제는 아래 링크에서 확인하실 수 있습니다:\n",
      "- LangGraph 소개 및 활용법: https://wikidocs.net/233785\n",
      "\n",
      "추가적으로 궁금한 점이나 구체적인 구현에 대한 질문이 있으시면 언제든 말씀해 주세요!\n"
     ]
    }
   ],
   "source": [
    "# 최종 상태 확인\n",
    "state = graph.get_state(config)\n",
    "\n",
    "# 단계별 메시지 출력\n",
    "for message in state.values[\"messages\"]:\n",
    "    message.pretty_print()\n"
   ]
  },
  {
   "cell_type": "markdown",
   "metadata": {},
   "source": [
    "09. 메시지 삭제(RemoveMessage)"
   ]
  },
  {
   "cell_type": "code",
   "execution_count": 19,
   "metadata": {},
   "outputs": [],
   "source": [
    "from typing import Literal\n",
    "\n",
    "from langchain_core.tools import tool\n",
    "from langchain_openai import ChatOpenAI\n",
    "from langgraph.checkpoint.memory import MemorySaver\n",
    "from langgraph.graph import MessagesState, StateGraph, START, END\n",
    "from langgraph.prebuilt import ToolNode, tools_condition\n",
    "\n",
    "# 체크포인트 저장을 위한 메모리 객체 초기화\n",
    "memory = MemorySaver()\n",
    "\n",
    "\n",
    "# 웹 검색 기능을 모방하는 도구 함수 정의\n",
    "@tool\n",
    "def search(query: str):\n",
    "    \"\"\"Call to surf on the web.\"\"\"\n",
    "    return \"웹 검색 결과: LangGraph 한글 튜토리얼은 https://wikidocs.net/233785 에서 확인할 수 있습니다.\"\n",
    "\n",
    "\n",
    "# 도구 목록 생성 및 도구 노드 초기화\n",
    "tools = [search]\n",
    "tool_node = ToolNode(tools)\n",
    "\n",
    "# 모델 초기화 및 도구 바인딩\n",
    "model = ChatOpenAI(model_name=\"gpt-4.1\")\n",
    "bound_model = model.bind_tools(tools)\n",
    "\n",
    "\n",
    "# # 대화 상태에 따른 다음 실행 노드 결정 함수\n",
    "def should_continue(state: MessagesState):\n",
    "    last_message = state[\"messages\"][-1]\n",
    "    if not last_message.tool_calls:\n",
    "        return END\n",
    "    return \"tool\"\n",
    "\n",
    "\n",
    "# LLM 모델 호출 및 응답 처리 함수\n",
    "def call_model(state: MessagesState):\n",
    "    response = model.invoke(state[\"messages\"])\n",
    "    return {\"messages\": response}\n",
    "\n",
    "\n",
    "# 상태 기반 워크플로우 그래프 초기화\n",
    "workflow = StateGraph(MessagesState)\n",
    "\n",
    "# 에이전트와 액션 노드 추가\n",
    "workflow.add_node(\"agent\", call_model)\n",
    "workflow.add_node(\"tool\", tool_node)\n",
    "\n",
    "# 시작점을 에이전트 노드로 설정\n",
    "workflow.add_edge(START, \"agent\")\n",
    "\n",
    "# 조건부 엣지 설정: 에이전트 노드 이후의 실행 흐름 정의\n",
    "workflow.add_conditional_edges(\"agent\", should_continue, {\"tool\": \"tool\", END: END})\n",
    "\n",
    "# 도구 실행 후 에이전트로 돌아가는 엣지 추가\n",
    "workflow.add_edge(\"tool\", \"agent\")\n",
    "\n",
    "# 체크포인터가 포함된 최종 실행 가능한 워크플로우 컴파일\n",
    "app = workflow.compile(checkpointer=memory)\n"
   ]
  },
  {
   "cell_type": "code",
   "execution_count": 20,
   "metadata": {},
   "outputs": [
    {
     "data": {
      "image/png": "[encoded data removed]",
      "text/plain": [
       "<IPython.core.display.Image object>"
      ]
     },
     "metadata": {},
     "output_type": "display_data"
    }
   ],
   "source": [
    "from langchain_teddynote.graphs import visualize_graph\n",
    "\n",
    "visualize_graph(app)\n"
   ]
  },
  {
   "cell_type": "code",
   "execution_count": 21,
   "metadata": {},
   "outputs": [
    {
     "name": "stdout",
     "output_type": "stream",
     "text": [
      "================================\u001b[1m Human Message \u001b[0m=================================\n",
      "\n",
      "안녕하세요! 제 이름은 Charlie입니다. 잘 부탁드립니다.\n",
      "==================================\u001b[1m Ai Message \u001b[0m==================================\n",
      "\n",
      "안녕하세요, Charlie님! 만나서 반갑습니다. 무엇을 도와드릴까요? 궁금한 점이나 필요한 것이 있으시면 언제든 말씀해 주세요. 잘 부탁드립니다! 😊\n"
     ]
    }
   ],
   "source": [
    "from langchain_core.messages import HumanMessage\n",
    "\n",
    "# 스레드 ID가 1인 기본 설정 객체 초기화\n",
    "config = {\"configurable\": {\"thread_id\": \"1\"}}\n",
    "\n",
    "# 1번째 질문 수행\n",
    "input_message = HumanMessage(\n",
    "    content=\"안녕하세요! 제 이름은 Charlie입니다. 잘 부탁드립니다.\"\n",
    ")\n",
    "\n",
    "# 스트림 모드로 메시지 처리 및 응답 출력, 마지막 메시지의 상세 정보 표시\n",
    "for event in app.stream({\"messages\": [input_message]}, config, stream_mode=\"values\"):\n",
    "    event[\"messages\"][-1].pretty_print()\n"
   ]
  },
  {
   "cell_type": "code",
   "execution_count": 22,
   "metadata": {},
   "outputs": [
    {
     "name": "stdout",
     "output_type": "stream",
     "text": [
      "================================\u001b[1m Human Message \u001b[0m=================================\n",
      "\n",
      "내 이름이 뭐라고요?\n",
      "==================================\u001b[1m Ai Message \u001b[0m==================================\n",
      "\n",
      "Charlie라고 하셨죠! Charlie님, 또 궁금한 점 있으시면 언제든 말씀해 주세요. 😊\n"
     ]
    }
   ],
   "source": [
    "# 후속 질문 수행\n",
    "input_message = HumanMessage(content=\"내 이름이 뭐라고요?\")\n",
    "\n",
    "# 스트림 모드로 두 번째 메시지 처리 및 응답 출력\n",
    "for event in app.stream({\"messages\": [input_message]}, config, stream_mode=\"values\"):\n",
    "    event[\"messages\"][-1].pretty_print()\n"
   ]
  },
  {
   "cell_type": "code",
   "execution_count": 23,
   "metadata": {},
   "outputs": [
    {
     "name": "stdout",
     "output_type": "stream",
     "text": [
      "================================\u001b[1m Human Message \u001b[0m=================================\n",
      "\n",
      "안녕하세요! 제 이름은 Charlie입니다. 잘 부탁드립니다.\n",
      "==================================\u001b[1m Ai Message \u001b[0m==================================\n",
      "\n",
      "안녕하세요, Charlie님! 만나서 반갑습니다. 무엇을 도와드릴까요? 궁금한 점이나 필요한 것이 있으시면 언제든 말씀해 주세요. 잘 부탁드립니다! 😊\n",
      "================================\u001b[1m Human Message \u001b[0m=================================\n",
      "\n",
      "내 이름이 뭐라고요?\n",
      "==================================\u001b[1m Ai Message \u001b[0m==================================\n",
      "\n",
      "Charlie라고 하셨죠! Charlie님, 또 궁금한 점 있으시면 언제든 말씀해 주세요. 😊\n"
     ]
    }
   ],
   "source": [
    "# 단계별 상태 확인\n",
    "messages = app.get_state(config).values[\"messages\"]\n",
    "for message in messages:\n",
    "    message.pretty_print()\n"
   ]
  },
  {
   "cell_type": "code",
   "execution_count": 25,
   "metadata": {},
   "outputs": [
    {
     "data": {
      "text/plain": [
       "{'configurable': {'thread_id': '1',\n",
       "  'checkpoint_ns': '',\n",
       "  'checkpoint_id': '1f083a4d-10f7-631e-8005-dc3785d54986'}}"
      ]
     },
     "execution_count": 25,
     "metadata": {},
     "output_type": "execute_result"
    }
   ],
   "source": [
    "from langchain_core.messages import RemoveMessage\n",
    "\n",
    "# 메시지 배열의 첫 번째 메시지를 ID 기반으로 제거하고 앱 상태 업데이트\n",
    "app.update_state(config, {\"messages\": RemoveMessage(id=messages[0].id)})\n",
    "\n"
   ]
  },
  {
   "cell_type": "code",
   "execution_count": 26,
   "metadata": {},
   "outputs": [
    {
     "name": "stdout",
     "output_type": "stream",
     "text": [
      "==================================\u001b[1m Ai Message \u001b[0m==================================\n",
      "\n",
      "안녕하세요, Charlie님! 만나서 반갑습니다. 무엇을 도와드릴까요? 궁금한 점이나 필요한 것이 있으시면 언제든 말씀해 주세요. 잘 부탁드립니다! 😊\n",
      "================================\u001b[1m Human Message \u001b[0m=================================\n",
      "\n",
      "내 이름이 뭐라고요?\n",
      "==================================\u001b[1m Ai Message \u001b[0m==================================\n",
      "\n",
      "Charlie라고 하셨죠! Charlie님, 또 궁금한 점 있으시면 언제든 말씀해 주세요. 😊\n"
     ]
    }
   ],
   "source": [
    "# 앱 상태에서 메시지 목록 추출 및 저장된 대화 내역 조회\n",
    "messages = app.get_state(config).values[\"messages\"]\n",
    "for message in messages:\n",
    "    message.pretty_print()\n"
   ]
  },
  {
   "cell_type": "code",
   "execution_count": 27,
   "metadata": {},
   "outputs": [],
   "source": [
    "from langchain_core.messages import RemoveMessage\n",
    "from langgraph.graph import END\n",
    "\n",
    "\n",
    "# 메시지 개수가 3개 초과 시 오래된 메시지 삭제 및 최신 메시지만 유지\n",
    "def delete_messages(state):\n",
    "    messages = state[\"messages\"]\n",
    "    if len(messages) > 3:\n",
    "        return {\"messages\": [RemoveMessage(id=m.id) for m in messages[:-3]]}\n",
    "\n",
    "\n",
    "# 메시지 상태에 따른 다음 실행 노드 결정 로직\n",
    "def should_continue(state: MessagesState) -> Literal[\"action\", \"delete_messages\"]:\n",
    "    \"\"\"Return the next node to execute.\"\"\"\n",
    "    last_message = state[\"messages\"][-1]\n",
    "    # 함수 호출이 없는 경우 메시지 삭제 함수 실행\n",
    "    if not last_message.tool_calls:\n",
    "        return \"delete_messages\"\n",
    "    # 함수 호출이 있는 경우 액션 실행\n",
    "    return \"action\"\n",
    "\n",
    "\n",
    "# 메시지 상태 기반 워크플로우 그래프 정의\n",
    "workflow = StateGraph(MessagesState)\n",
    "\n",
    "# 에이전트와 액션 노드 추가\n",
    "workflow.add_node(\"agent\", call_model)\n",
    "workflow.add_node(\"action\", tool_node)\n",
    "\n",
    "# 메시지 삭제 노드 추가\n",
    "workflow.add_node(delete_messages)\n",
    "\n",
    "# 시작 노드에서 에이전트 노드로 연결\n",
    "workflow.add_edge(START, \"agent\")\n",
    "\n",
    "# 조건부 엣지 추가를 통한 노드 간 흐름 제어\n",
    "workflow.add_conditional_edges(\n",
    "    \"agent\",\n",
    "    should_continue,\n",
    ")\n",
    "\n",
    "# 액션 노드에서 에이전트 노드로 연결\n",
    "workflow.add_edge(\"action\", \"agent\")\n",
    "\n",
    "# 메시지 삭제 노드에서 종료 노드로 연결\n",
    "workflow.add_edge(\"delete_messages\", END)\n",
    "\n",
    "# 메모리 체크포인터를 사용하여 워크플로우 컴파일\n",
    "app = workflow.compile(checkpointer=memory)\n"
   ]
  },
  {
   "cell_type": "code",
   "execution_count": 28,
   "metadata": {},
   "outputs": [
    {
     "data": {
      "image/png": "[encoded data removed]",
      "text/plain": [
       "<IPython.core.display.Image object>"
      ]
     },
     "metadata": {},
     "output_type": "display_data"
    }
   ],
   "source": [
    "from langchain_teddynote.graphs import visualize_graph\n",
    "\n",
    "visualize_graph(app)\n"
   ]
  },
  {
   "cell_type": "code",
   "execution_count": 29,
   "metadata": {},
   "outputs": [
    {
     "name": "stdout",
     "output_type": "stream",
     "text": [
      "[('human', '안녕하세요! 제 이름은 Charlie입니다. 잘 부탁드립니다.')]\n",
      "[('human', '안녕하세요! 제 이름은 Charlie입니다. 잘 부탁드립니다.'), ('ai', '안녕하세요, Charlie님! 만나서 반갑습니다. 무엇을 도와드릴까요? 궁금한 점이나 필요한 것이 있으시면 언제든 말씀해 주세요. 잘 부탁드립니다! 😊')]\n"
     ]
    }
   ],
   "source": [
    "# LangChain 메시지 처리를 위한 HumanMessage 클래스 임포트\n",
    "from langchain_core.messages import HumanMessage\n",
    "\n",
    "# 스레드 ID가 포함된 설정 객체 초기화\n",
    "config = {\"configurable\": {\"thread_id\": \"2\"}}\n",
    "\n",
    "# 1번째 질문 수행\n",
    "input_message = HumanMessage(\n",
    "    content=\"안녕하세요! 제 이름은 Charlie입니다. 잘 부탁드립니다.\"\n",
    ")\n",
    "for event in app.stream({\"messages\": [input_message]}, config, stream_mode=\"values\"):\n",
    "    print([(message.type, message.content) for message in event[\"messages\"]])\n"
   ]
  },
  {
   "cell_type": "code",
   "execution_count": 30,
   "metadata": {},
   "outputs": [
    {
     "name": "stdout",
     "output_type": "stream",
     "text": [
      "[('human', '안녕하세요! 제 이름은 Charlie입니다. 잘 부탁드립니다.'), ('ai', '안녕하세요, Charlie님! 만나서 반갑습니다. 무엇을 도와드릴까요? 궁금한 점이나 필요한 것이 있으시면 언제든 말씀해 주세요. 잘 부탁드립니다! 😊'), ('human', '내 이름이 뭐라고요?')]\n",
      "[('human', '안녕하세요! 제 이름은 Charlie입니다. 잘 부탁드립니다.'), ('ai', '안녕하세요, Charlie님! 만나서 반갑습니다. 무엇을 도와드릴까요? 궁금한 점이나 필요한 것이 있으시면 언제든 말씀해 주세요. 잘 부탁드립니다! 😊'), ('human', '내 이름이 뭐라고요?'), ('ai', '당신의 이름은 **Charlie**입니다.')]\n",
      "[('ai', '안녕하세요, Charlie님! 만나서 반갑습니다. 무엇을 도와드릴까요? 궁금한 점이나 필요한 것이 있으시면 언제든 말씀해 주세요. 잘 부탁드립니다! 😊'), ('human', '내 이름이 뭐라고요?'), ('ai', '당신의 이름은 **Charlie**입니다.')]\n"
     ]
    }
   ],
   "source": [
    "# 2번째 질문 수행\n",
    "input_message = HumanMessage(content=\"내 이름이 뭐라고요?\")\n",
    "\n",
    "for event in app.stream({\"messages\": [input_message]}, config, stream_mode=\"values\"):\n",
    "    print([(message.type, message.content) for message in event[\"messages\"]])\n"
   ]
  },
  {
   "cell_type": "code",
   "execution_count": 31,
   "metadata": {},
   "outputs": [
    {
     "name": "stdout",
     "output_type": "stream",
     "text": [
      "==================================\u001b[1m Ai Message \u001b[0m==================================\n",
      "\n",
      "안녕하세요, Charlie님! 만나서 반갑습니다. 무엇을 도와드릴까요? 궁금한 점이나 필요한 것이 있으시면 언제든 말씀해 주세요. 잘 부탁드립니다! 😊\n",
      "================================\u001b[1m Human Message \u001b[0m=================================\n",
      "\n",
      "내 이름이 뭐라고요?\n",
      "==================================\u001b[1m Ai Message \u001b[0m==================================\n",
      "\n",
      "당신의 이름은 **Charlie**입니다.\n"
     ]
    }
   ],
   "source": [
    "# 앱 상태에서 메시지 목록 추출 및 저장\n",
    "messages = app.get_state(config).values[\"messages\"]\n",
    "# 메시지 목록 반환\n",
    "for message in messages:\n",
    "    message.pretty_print()\n"
   ]
  },
  {
   "cell_type": "markdown",
   "metadata": {},
   "source": [
    "10. ToolNode 를 사용하여 도구를 호출하는 방법"
   ]
  },
  {
   "cell_type": "code",
   "execution_count": 33,
   "metadata": {},
   "outputs": [
    {
     "name": "stdout",
     "output_type": "stream",
     "text": [
      "Collecting langchain_experimental\n",
      "  Using cached langchain_experimental-0.3.4-py3-none-any.whl.metadata (1.7 kB)\n",
      "Collecting langchain-community<0.4.0,>=0.3.0 (from langchain_experimental)\n",
      "  Downloading langchain_community-0.3.29-py3-none-any.whl.metadata (2.9 kB)\n",
      "Requirement already satisfied: langchain-core<0.4.0,>=0.3.28 in /opt/anaconda3/envs/LangChain/lib/python3.10/site-packages (from langchain_experimental) (0.3.75)\n",
      "Requirement already satisfied: langchain<2.0.0,>=0.3.27 in /opt/anaconda3/envs/LangChain/lib/python3.10/site-packages (from langchain-community<0.4.0,>=0.3.0->langchain_experimental) (0.3.27)\n",
      "Requirement already satisfied: SQLAlchemy<3,>=1.4 in /opt/anaconda3/envs/LangChain/lib/python3.10/site-packages (from langchain-community<0.4.0,>=0.3.0->langchain_experimental) (2.0.43)\n",
      "Requirement already satisfied: requests<3,>=2.32.5 in /opt/anaconda3/envs/LangChain/lib/python3.10/site-packages (from langchain-community<0.4.0,>=0.3.0->langchain_experimental) (2.32.5)\n",
      "Requirement already satisfied: PyYAML>=5.3 in /opt/anaconda3/envs/LangChain/lib/python3.10/site-packages (from langchain-community<0.4.0,>=0.3.0->langchain_experimental) (6.0.2)\n",
      "Collecting aiohttp<4.0.0,>=3.8.3 (from langchain-community<0.4.0,>=0.3.0->langchain_experimental)\n",
      "  Using cached aiohttp-3.12.15-cp310-cp310-macosx_11_0_arm64.whl.metadata (7.7 kB)\n",
      "Requirement already satisfied: tenacity!=8.4.0,<10,>=8.1.0 in /opt/anaconda3/envs/LangChain/lib/python3.10/site-packages (from langchain-community<0.4.0,>=0.3.0->langchain_experimental) (9.1.2)\n",
      "Collecting dataclasses-json<0.7,>=0.6.7 (from langchain-community<0.4.0,>=0.3.0->langchain_experimental)\n",
      "  Using cached dataclasses_json-0.6.7-py3-none-any.whl.metadata (25 kB)\n",
      "Collecting pydantic-settings<3.0.0,>=2.10.1 (from langchain-community<0.4.0,>=0.3.0->langchain_experimental)\n",
      "  Using cached pydantic_settings-2.10.1-py3-none-any.whl.metadata (3.4 kB)\n",
      "Requirement already satisfied: langsmith>=0.1.125 in /opt/anaconda3/envs/LangChain/lib/python3.10/site-packages (from langchain-community<0.4.0,>=0.3.0->langchain_experimental) (0.4.18)\n",
      "Collecting httpx-sse<1.0.0,>=0.4.0 (from langchain-community<0.4.0,>=0.3.0->langchain_experimental)\n",
      "  Using cached httpx_sse-0.4.1-py3-none-any.whl.metadata (9.4 kB)\n",
      "Requirement already satisfied: numpy>=1.26.2 in /opt/anaconda3/envs/LangChain/lib/python3.10/site-packages (from langchain-community<0.4.0,>=0.3.0->langchain_experimental) (2.2.6)\n",
      "Collecting aiohappyeyeballs>=2.5.0 (from aiohttp<4.0.0,>=3.8.3->langchain-community<0.4.0,>=0.3.0->langchain_experimental)\n",
      "  Using cached aiohappyeyeballs-2.6.1-py3-none-any.whl.metadata (5.9 kB)\n",
      "Collecting aiosignal>=1.4.0 (from aiohttp<4.0.0,>=3.8.3->langchain-community<0.4.0,>=0.3.0->langchain_experimental)\n",
      "  Using cached aiosignal-1.4.0-py3-none-any.whl.metadata (3.7 kB)\n",
      "Requirement already satisfied: async-timeout<6.0,>=4.0 in /opt/anaconda3/envs/LangChain/lib/python3.10/site-packages (from aiohttp<4.0.0,>=3.8.3->langchain-community<0.4.0,>=0.3.0->langchain_experimental) (4.0.3)\n",
      "Requirement already satisfied: attrs>=17.3.0 in /opt/anaconda3/envs/LangChain/lib/python3.10/site-packages (from aiohttp<4.0.0,>=3.8.3->langchain-community<0.4.0,>=0.3.0->langchain_experimental) (25.3.0)\n",
      "Collecting frozenlist>=1.1.1 (from aiohttp<4.0.0,>=3.8.3->langchain-community<0.4.0,>=0.3.0->langchain_experimental)\n",
      "  Using cached frozenlist-1.7.0-cp310-cp310-macosx_11_0_arm64.whl.metadata (18 kB)\n",
      "Collecting multidict<7.0,>=4.5 (from aiohttp<4.0.0,>=3.8.3->langchain-community<0.4.0,>=0.3.0->langchain_experimental)\n",
      "  Using cached multidict-6.6.4-cp310-cp310-macosx_11_0_arm64.whl.metadata (5.3 kB)\n",
      "Collecting propcache>=0.2.0 (from aiohttp<4.0.0,>=3.8.3->langchain-community<0.4.0,>=0.3.0->langchain_experimental)\n",
      "  Using cached propcache-0.3.2-cp310-cp310-macosx_11_0_arm64.whl.metadata (12 kB)\n",
      "Collecting yarl<2.0,>=1.17.0 (from aiohttp<4.0.0,>=3.8.3->langchain-community<0.4.0,>=0.3.0->langchain_experimental)\n",
      "  Using cached yarl-1.20.1-cp310-cp310-macosx_11_0_arm64.whl.metadata (73 kB)\n",
      "Collecting marshmallow<4.0.0,>=3.18.0 (from dataclasses-json<0.7,>=0.6.7->langchain-community<0.4.0,>=0.3.0->langchain_experimental)\n",
      "  Using cached marshmallow-3.26.1-py3-none-any.whl.metadata (7.3 kB)\n",
      "Collecting typing-inspect<1,>=0.4.0 (from dataclasses-json<0.7,>=0.6.7->langchain-community<0.4.0,>=0.3.0->langchain_experimental)\n",
      "  Using cached typing_inspect-0.9.0-py3-none-any.whl.metadata (1.5 kB)\n",
      "Requirement already satisfied: langchain-text-splitters<1.0.0,>=0.3.9 in /opt/anaconda3/envs/LangChain/lib/python3.10/site-packages (from langchain<2.0.0,>=0.3.27->langchain-community<0.4.0,>=0.3.0->langchain_experimental) (0.3.9)\n",
      "Requirement already satisfied: pydantic<3.0.0,>=2.7.4 in /opt/anaconda3/envs/LangChain/lib/python3.10/site-packages (from langchain<2.0.0,>=0.3.27->langchain-community<0.4.0,>=0.3.0->langchain_experimental) (2.11.7)\n",
      "Requirement already satisfied: jsonpatch<2.0,>=1.33 in /opt/anaconda3/envs/LangChain/lib/python3.10/site-packages (from langchain-core<0.4.0,>=0.3.28->langchain_experimental) (1.33)\n",
      "Requirement already satisfied: typing-extensions>=4.7 in /opt/anaconda3/envs/LangChain/lib/python3.10/site-packages (from langchain-core<0.4.0,>=0.3.28->langchain_experimental) (4.15.0)\n",
      "Requirement already satisfied: packaging>=23.2 in /opt/anaconda3/envs/LangChain/lib/python3.10/site-packages (from langchain-core<0.4.0,>=0.3.28->langchain_experimental) (25.0)\n",
      "Requirement already satisfied: jsonpointer>=1.9 in /opt/anaconda3/envs/LangChain/lib/python3.10/site-packages (from jsonpatch<2.0,>=1.33->langchain-core<0.4.0,>=0.3.28->langchain_experimental) (3.0.0)\n",
      "Requirement already satisfied: annotated-types>=0.6.0 in /opt/anaconda3/envs/LangChain/lib/python3.10/site-packages (from pydantic<3.0.0,>=2.7.4->langchain<2.0.0,>=0.3.27->langchain-community<0.4.0,>=0.3.0->langchain_experimental) (0.7.0)\n",
      "Requirement already satisfied: pydantic-core==2.33.2 in /opt/anaconda3/envs/LangChain/lib/python3.10/site-packages (from pydantic<3.0.0,>=2.7.4->langchain<2.0.0,>=0.3.27->langchain-community<0.4.0,>=0.3.0->langchain_experimental) (2.33.2)\n",
      "Requirement already satisfied: typing-inspection>=0.4.0 in /opt/anaconda3/envs/LangChain/lib/python3.10/site-packages (from pydantic<3.0.0,>=2.7.4->langchain<2.0.0,>=0.3.27->langchain-community<0.4.0,>=0.3.0->langchain_experimental) (0.4.1)\n",
      "Requirement already satisfied: python-dotenv>=0.21.0 in /opt/anaconda3/envs/LangChain/lib/python3.10/site-packages (from pydantic-settings<3.0.0,>=2.10.1->langchain-community<0.4.0,>=0.3.0->langchain_experimental) (1.1.1)\n",
      "Requirement already satisfied: charset_normalizer<4,>=2 in /opt/anaconda3/envs/LangChain/lib/python3.10/site-packages (from requests<3,>=2.32.5->langchain-community<0.4.0,>=0.3.0->langchain_experimental) (3.4.3)\n",
      "Requirement already satisfied: idna<4,>=2.5 in /opt/anaconda3/envs/LangChain/lib/python3.10/site-packages (from requests<3,>=2.32.5->langchain-community<0.4.0,>=0.3.0->langchain_experimental) (3.10)\n",
      "Requirement already satisfied: urllib3<3,>=1.21.1 in /opt/anaconda3/envs/LangChain/lib/python3.10/site-packages (from requests<3,>=2.32.5->langchain-community<0.4.0,>=0.3.0->langchain_experimental) (2.5.0)\n",
      "Requirement already satisfied: certifi>=2017.4.17 in /opt/anaconda3/envs/LangChain/lib/python3.10/site-packages (from requests<3,>=2.32.5->langchain-community<0.4.0,>=0.3.0->langchain_experimental) (2025.8.3)\n",
      "Collecting mypy-extensions>=0.3.0 (from typing-inspect<1,>=0.4.0->dataclasses-json<0.7,>=0.6.7->langchain-community<0.4.0,>=0.3.0->langchain_experimental)\n",
      "  Using cached mypy_extensions-1.1.0-py3-none-any.whl.metadata (1.1 kB)\n",
      "Requirement already satisfied: httpx<1,>=0.23.0 in /opt/anaconda3/envs/LangChain/lib/python3.10/site-packages (from langsmith>=0.1.125->langchain-community<0.4.0,>=0.3.0->langchain_experimental) (0.28.1)\n",
      "Requirement already satisfied: orjson>=3.9.14 in /opt/anaconda3/envs/LangChain/lib/python3.10/site-packages (from langsmith>=0.1.125->langchain-community<0.4.0,>=0.3.0->langchain_experimental) (3.11.3)\n",
      "Requirement already satisfied: requests-toolbelt>=1.0.0 in /opt/anaconda3/envs/LangChain/lib/python3.10/site-packages (from langsmith>=0.1.125->langchain-community<0.4.0,>=0.3.0->langchain_experimental) (1.0.0)\n",
      "Requirement already satisfied: zstandard>=0.23.0 in /opt/anaconda3/envs/LangChain/lib/python3.10/site-packages (from langsmith>=0.1.125->langchain-community<0.4.0,>=0.3.0->langchain_experimental) (0.24.0)\n",
      "Requirement already satisfied: anyio in /opt/anaconda3/envs/LangChain/lib/python3.10/site-packages (from httpx<1,>=0.23.0->langsmith>=0.1.125->langchain-community<0.4.0,>=0.3.0->langchain_experimental) (4.10.0)\n",
      "Requirement already satisfied: httpcore==1.* in /opt/anaconda3/envs/LangChain/lib/python3.10/site-packages (from httpx<1,>=0.23.0->langsmith>=0.1.125->langchain-community<0.4.0,>=0.3.0->langchain_experimental) (1.0.9)\n",
      "Requirement already satisfied: h11>=0.16 in /opt/anaconda3/envs/LangChain/lib/python3.10/site-packages (from httpcore==1.*->httpx<1,>=0.23.0->langsmith>=0.1.125->langchain-community<0.4.0,>=0.3.0->langchain_experimental) (0.16.0)\n",
      "Requirement already satisfied: exceptiongroup>=1.0.2 in /opt/anaconda3/envs/LangChain/lib/python3.10/site-packages (from anyio->httpx<1,>=0.23.0->langsmith>=0.1.125->langchain-community<0.4.0,>=0.3.0->langchain_experimental) (1.3.0)\n",
      "Requirement already satisfied: sniffio>=1.1 in /opt/anaconda3/envs/LangChain/lib/python3.10/site-packages (from anyio->httpx<1,>=0.23.0->langsmith>=0.1.125->langchain-community<0.4.0,>=0.3.0->langchain_experimental) (1.3.1)\n",
      "Using cached langchain_experimental-0.3.4-py3-none-any.whl (209 kB)\n",
      "Downloading langchain_community-0.3.29-py3-none-any.whl (2.5 MB)\n",
      "\u001b[2K   \u001b[38;2;114;156;31m━━━━━━━━━━━━━━━━━━━━━━━━━━━━━━━━━━━━━━━━\u001b[0m \u001b[32m2.5/2.5 MB\u001b[0m \u001b[31m18.2 MB/s\u001b[0m eta \u001b[36m0:00:00\u001b[0m\n",
      "\u001b[?25hUsing cached aiohttp-3.12.15-cp310-cp310-macosx_11_0_arm64.whl (468 kB)\n",
      "Using cached dataclasses_json-0.6.7-py3-none-any.whl (28 kB)\n",
      "Downloading httpx_sse-0.4.1-py3-none-any.whl (8.1 kB)\n",
      "Using cached marshmallow-3.26.1-py3-none-any.whl (50 kB)\n",
      "Using cached multidict-6.6.4-cp310-cp310-macosx_11_0_arm64.whl (44 kB)\n",
      "Using cached pydantic_settings-2.10.1-py3-none-any.whl (45 kB)\n",
      "Using cached typing_inspect-0.9.0-py3-none-any.whl (8.8 kB)\n",
      "Using cached yarl-1.20.1-cp310-cp310-macosx_11_0_arm64.whl (89 kB)\n",
      "Using cached aiohappyeyeballs-2.6.1-py3-none-any.whl (15 kB)\n",
      "Using cached aiosignal-1.4.0-py3-none-any.whl (7.5 kB)\n",
      "Using cached frozenlist-1.7.0-cp310-cp310-macosx_11_0_arm64.whl (46 kB)\n",
      "Using cached mypy_extensions-1.1.0-py3-none-any.whl (5.0 kB)\n",
      "Using cached propcache-0.3.2-cp310-cp310-macosx_11_0_arm64.whl (43 kB)\n",
      "Installing collected packages: propcache, mypy-extensions, multidict, marshmallow, httpx-sse, frozenlist, aiohappyeyeballs, yarl, typing-inspect, aiosignal, pydantic-settings, dataclasses-json, aiohttp, langchain-community, langchain_experimental\n",
      "\u001b[2K   \u001b[38;2;114;156;31m━━━━━━━━━━━━━━━━━━━━━━━━━━━━━━━━━━━━━━━━\u001b[0m \u001b[32m15/15\u001b[0m [langchain_experimental]32m13/15\u001b[0m [langchain-community]\n",
      "\u001b[1A\u001b[2KSuccessfully installed aiohappyeyeballs-2.6.1 aiohttp-3.12.15 aiosignal-1.4.0 dataclasses-json-0.6.7 frozenlist-1.7.0 httpx-sse-0.4.1 langchain-community-0.3.29 langchain_experimental-0.3.4 marshmallow-3.26.1 multidict-6.6.4 mypy-extensions-1.1.0 propcache-0.3.2 pydantic-settings-2.10.1 typing-inspect-0.9.0 yarl-1.20.1\n"
     ]
    }
   ],
   "source": [
    "!pip install langchain_experimental"
   ]
  },
  {
   "cell_type": "code",
   "execution_count": 34,
   "metadata": {},
   "outputs": [],
   "source": [
    "from langchain_core.messages import AIMessage\n",
    "from langchain_core.tools import tool\n",
    "from langchain_experimental.tools.python.tool import PythonAstREPLTool\n",
    "from langchain_teddynote.tools import GoogleNews\n",
    "from typing import List, Dict\n",
    "\n",
    "\n",
    "# 도구 생성\n",
    "@tool\n",
    "def search_news(query: str) -> List[Dict[str, str]]:\n",
    "    \"\"\"Search Google News by input keyword\"\"\"\n",
    "    news_tool = GoogleNews()\n",
    "    return news_tool.search_by_keyword(query, k=5)\n",
    "\n",
    "\n",
    "@tool\n",
    "def python_code_interpreter(code: str):\n",
    "    \"\"\"Call to execute python code.\"\"\"\n",
    "    return PythonAstREPLTool().invoke(code)\n"
   ]
  },
  {
   "cell_type": "code",
   "execution_count": 35,
   "metadata": {},
   "outputs": [],
   "source": [
    "from langgraph.prebuilt import ToolNode, tools_condition\n",
    "\n",
    "# 도구 리스트 생성\n",
    "tools = [search_news, python_code_interpreter]\n",
    "\n",
    "# ToolNode 초기화\n",
    "tool_node = ToolNode(tools)\n"
   ]
  },
  {
   "cell_type": "code",
   "execution_count": 36,
   "metadata": {},
   "outputs": [
    {
     "data": {
      "text/plain": [
       "{'messages': [ToolMessage(content='[{\"url\": \"https://news.google.com/rss/articles/CBMigwFBVV95cUxPMmRDbXdvaXNzbmxOc1hGWWNPTjdMeWxhNlRRNFVSZ2drel9Xb3FCWnZwSmxEYnIxdkJZaU1aV1JsVGIyT25YVVJXRGlTX0dlRlRCcUstY2V4V1pNU2pkZVBscGxDWnBaelhGMWtWQmdKTERER2JJaGFEMEE5d0J2N0Qwb9IBlwFBVV95cUxOakxuRy1QS29kVk9FbmRjVTJzb1dmLTdlSEgteElmRjdNQ24xb0Y5MUlqcERGSWtOa3hKZEpyZDd6NGpzT0dfVGhfa0VjaEFfOEZlcEh1cEZSVktranc4bmJZOC1IWVdLVHVGVGZFSkg4a3hYdm9PaVBUeTExU3dvSzl2aURyOHI1SVNfeEdCLUYyT01mX1d3?oc=5\", \"content\": \"AI가 통역 해주는 시대... 영어 공부 해? 말어? - 조선일보\"}, {\"url\": \"https://news.google.com/rss/articles/CBMiakFVX3lxTFBRblA0bGV3ZXByTUtURXJhTnMxV29FbjlkVkJObU5XdHJBekpFUHI0cWphQ29nRUYtNkFoYXBUTnQ0bXZCN213OWZpS1dXajVpTGZNbHRPSkUxYktjYzM3YktnY2lIMUp2eVE?oc=5\", \"content\": \"메타에 합류한 연구원 2명, 오픈AI로 복귀...MSL, 두달 만에 3명 이탈 - AI타임스\"}, {\"url\": \"https://news.google.com/rss/articles/CBMiZEFVX3lxTE9Eb2pTSDJxRnpKVUxfMENiMnBNYzR6bFFMaGpva0k3MGRpNXh0ZHdudUZvbl9DZUhDVEhYaTh1T1FfQkVJbzhGS3VUX2wwaExMWjFCWS11T25Hcl9vU004bU9HeUM?oc=5\", \"content\": \"최승범 삼성전자 부사장 \\\\\"AI홈 사치 아닌 필수…돌봄 파트너로\\\\\" - 뉴스1\"}, {\"url\": \"https://news.google.com/rss/articles/CBMiW0FVX3lxTFBJOEE0bGxEeWh4bXUyYTE3QmNqQ0FYdWlZNUZ1djE5ZHNrWmpPVzd2WEEtN0EwTVplQXZKZEZCTGh0ejVaQzhvUHdvaEc0TktlX2ZnRlo4Y1dzam_SAWBBVV95cUxNQk9IM1FROTFEZG55V3pQQWVMY25YdmJDZHZyR1dsRmpHN0hKeFJXSEkwby0yMXZXUjNxTy1yOFhkX1FjNVB5NzY5bWpnbEVUUFZ3TTlMYU1wS3VZbVN0ZTU?oc=5\", \"content\": \"전기·수도처럼…삼성 \\\\\"AI 홈, 삶의 인프라로 자리 잡을 것\\\\\" - 연합뉴스\"}, {\"url\": \"https://news.google.com/rss/articles/CBMiW0FVX3lxTE5xTFdCZXlVZ3VJeDJFMXRub3ZpcGE3MnJDYnBuaHI3VXBKVUFQX0JKeFZPY2pNNG9mMFVjUEppY2EycFJrSGZUQkYyS1d2aVFOUjlNSjAtWmMtZzDSAWBBVV95cUxPOXo0UEV2cmFIMGZwZlBrM1NmNFlJd0VxYlFiUFdWTi1qNm93S01rYVAyYmlHMjVzQnVwWUpVZW9lT08tcF9mM2VMRjdTaUVaLUlta1hPc0VZTHZyWm5OUFo?oc=5\", \"content\": \"삼성전자, 2025년형 TV에 마이크로소프트 AI \\'코파일럿\\' 탑재 - 연합뉴스\"}]', name='search_news', tool_call_id='tool_call_id')]}"
      ]
     },
     "execution_count": 36,
     "metadata": {},
     "output_type": "execute_result"
    }
   ],
   "source": [
    "# 단일 도구 호출을 포함하는 AI 메시지 객체 생성\n",
    "# AIMessage 객체이어야 함\n",
    "message_with_single_tool_call = AIMessage(\n",
    "    content=\"\",\n",
    "    tool_calls=[\n",
    "        {\n",
    "            \"name\": \"search_news\",  # 도구 이름\n",
    "            \"args\": {\"query\": \"AI\"},  # 도구 인자\n",
    "            \"id\": \"tool_call_id\",  # 도구 호출 ID\n",
    "            \"type\": \"tool_call\",  # 도구 호출 유형\n",
    "        }\n",
    "    ],\n",
    ")\n",
    "\n",
    "# 도구 노드를 통한 메시지 처리 및 날씨 정보 요청 실행\n",
    "tool_node.invoke({\"messages\": [message_with_single_tool_call]})\n"
   ]
  },
  {
   "cell_type": "code",
   "execution_count": 37,
   "metadata": {},
   "outputs": [
    {
     "data": {
      "text/plain": [
       "{'messages': [ToolMessage(content='[{\"url\": \"https://news.google.com/rss/articles/CBMigwFBVV95cUxPMmRDbXdvaXNzbmxOc1hGWWNPTjdMeWxhNlRRNFVSZ2drel9Xb3FCWnZwSmxEYnIxdkJZaU1aV1JsVGIyT25YVVJXRGlTX0dlRlRCcUstY2V4V1pNU2pkZVBscGxDWnBaelhGMWtWQmdKTERER2JJaGFEMEE5d0J2N0Qwb9IBlwFBVV95cUxOakxuRy1QS29kVk9FbmRjVTJzb1dmLTdlSEgteElmRjdNQ24xb0Y5MUlqcERGSWtOa3hKZEpyZDd6NGpzT0dfVGhfa0VjaEFfOEZlcEh1cEZSVktranc4bmJZOC1IWVdLVHVGVGZFSkg4a3hYdm9PaVBUeTExU3dvSzl2aURyOHI1SVNfeEdCLUYyT01mX1d3?oc=5\", \"content\": \"AI가 통역 해주는 시대... 영어 공부 해? 말어? - 조선일보\"}, {\"url\": \"https://news.google.com/rss/articles/CBMiakFVX3lxTFBRblA0bGV3ZXByTUtURXJhTnMxV29FbjlkVkJObU5XdHJBekpFUHI0cWphQ29nRUYtNkFoYXBUTnQ0bXZCN213OWZpS1dXajVpTGZNbHRPSkUxYktjYzM3YktnY2lIMUp2eVE?oc=5\", \"content\": \"메타에 합류한 연구원 2명, 오픈AI로 복귀...MSL, 두달 만에 3명 이탈 - AI타임스\"}, {\"url\": \"https://news.google.com/rss/articles/CBMiZEFVX3lxTE9Eb2pTSDJxRnpKVUxfMENiMnBNYzR6bFFMaGpva0k3MGRpNXh0ZHdudUZvbl9DZUhDVEhYaTh1T1FfQkVJbzhGS3VUX2wwaExMWjFCWS11T25Hcl9vU004bU9HeUM?oc=5\", \"content\": \"최승범 삼성전자 부사장 \\\\\"AI홈 사치 아닌 필수…돌봄 파트너로\\\\\" - 뉴스1\"}, {\"url\": \"https://news.google.com/rss/articles/CBMiW0FVX3lxTFBJOEE0bGxEeWh4bXUyYTE3QmNqQ0FYdWlZNUZ1djE5ZHNrWmpPVzd2WEEtN0EwTVplQXZKZEZCTGh0ejVaQzhvUHdvaEc0TktlX2ZnRlo4Y1dzam_SAWBBVV95cUxNQk9IM1FROTFEZG55V3pQQWVMY25YdmJDZHZyR1dsRmpHN0hKeFJXSEkwby0yMXZXUjNxTy1yOFhkX1FjNVB5NzY5bWpnbEVUUFZ3TTlMYU1wS3VZbVN0ZTU?oc=5\", \"content\": \"전기·수도처럼…삼성 \\\\\"AI 홈, 삶의 인프라로 자리 잡을 것\\\\\" - 연합뉴스\"}, {\"url\": \"https://news.google.com/rss/articles/CBMiW0FVX3lxTE5xTFdCZXlVZ3VJeDJFMXRub3ZpcGE3MnJDYnBuaHI3VXBKVUFQX0JKeFZPY2pNNG9mMFVjUEppY2EycFJrSGZUQkYyS1d2aVFOUjlNSjAtWmMtZzDSAWBBVV95cUxPOXo0UEV2cmFIMGZwZlBrM1NmNFlJd0VxYlFiUFdWTi1qNm93S01rYVAyYmlHMjVzQnVwWUpVZW9lT08tcF9mM2VMRjdTaUVaLUlta1hPc0VZTHZyWm5OUFo?oc=5\", \"content\": \"삼성전자, 2025년형 TV에 마이크로소프트 AI \\'코파일럿\\' 탑재 - 연합뉴스\"}]', name='search_news', tool_call_id='tool_call_id'),\n",
       "  ToolMessage(content='10\\n', name='python_code_interpreter', tool_call_id='tool_call_id')]}"
      ]
     },
     "execution_count": 37,
     "metadata": {},
     "output_type": "execute_result"
    }
   ],
   "source": [
    "# 다중 도구 호출을 포함하는 AI 메시지 객체 생성 및 초기화\n",
    "message_with_multiple_tool_calls = AIMessage(\n",
    "    content=\"\",\n",
    "    tool_calls=[\n",
    "        {\n",
    "            \"name\": \"search_news\",\n",
    "            \"args\": {\"query\": \"AI\"},\n",
    "            \"id\": \"tool_call_id\",\n",
    "            \"type\": \"tool_call\",\n",
    "        },\n",
    "        {\n",
    "            \"name\": \"python_code_interpreter\",\n",
    "            \"args\": {\"code\": \"print(1+2+3+4)\"},\n",
    "            \"id\": \"tool_call_id\",\n",
    "            \"type\": \"tool_call\",\n",
    "        },\n",
    "    ],\n",
    ")\n",
    "\n",
    "# 생성된 메시지를 도구 노드에 전달하여 다중 도구 호출 실행\n",
    "tool_node.invoke({\"messages\": [message_with_multiple_tool_calls]})\n"
   ]
  },
  {
   "cell_type": "code",
   "execution_count": 53,
   "metadata": {},
   "outputs": [],
   "source": [
    "from langchain_openai import ChatOpenAI\n",
    "\n",
    "# LLM 모델 초기화 및 도구 바인딩\n",
    "model_with_tools = ChatOpenAI(model=\"gpt-4o-mini\", temperature=0).bind_tools(tools)\n"
   ]
  },
  {
   "cell_type": "code",
   "execution_count": 54,
   "metadata": {},
   "outputs": [
    {
     "data": {
      "text/plain": [
       "[{'name': 'python_code_interpreter',\n",
       "  'args': {'code': 'def first_n_primes(n):\\n    primes = []\\n    num = 2  # Starting from the first prime number\\n    while len(primes) < n:\\n        is_prime = True\\n        for i in range(2, int(num**0.5) + 1):\\n            if num % i == 0:\\n                is_prime = False\\n                break\\n        if is_prime:\\n            primes.append(num)\\n        num += 1\\n    return primes\\n\\n# Get the first 5 prime numbers\\nfirst_n_primes(5)'},\n",
       "  'id': 'call_PihtMpON6uIXyTl6vGmbd2ck',\n",
       "  'type': 'tool_call'}]"
      ]
     },
     "execution_count": 54,
     "metadata": {},
     "output_type": "execute_result"
    }
   ],
   "source": [
    "# 도구 호출 확인\n",
    "model_with_tools.invoke(\"처음 5개의 소수를 출력하는 python code 를 작성해줘\").tool_calls\n"
   ]
  },
  {
   "cell_type": "code",
   "execution_count": 55,
   "metadata": {},
   "outputs": [
    {
     "data": {
      "text/plain": [
       "{'messages': [ToolMessage(content='[2, 3, 5, 7, 11]', name='python_code_interpreter', tool_call_id='call_yg4jN4n9ZUIOWpVVP3uLQ9G1')]}"
      ]
     },
     "execution_count": 55,
     "metadata": {},
     "output_type": "execute_result"
    }
   ],
   "source": [
    "# 도구 노드를 통한 메시지 처리 및 LLM 모델의 도구 기반 응답 생성\n",
    "tool_node.invoke(\n",
    "    {\n",
    "        \"messages\": [\n",
    "            model_with_tools.invoke(\n",
    "                \"처음 5개의 소수를 출력하는 python code 를 작성해줘\"\n",
    "            )\n",
    "        ]\n",
    "    }\n",
    ")\n"
   ]
  },
  {
   "cell_type": "code",
   "execution_count": 56,
   "metadata": {},
   "outputs": [],
   "source": [
    "# LangGraph 워크플로우 상태 및 메시지 처리를 위한 타입 임포트\n",
    "from langgraph.graph import StateGraph, MessagesState, START, END\n",
    "\n",
    "\n",
    "# LLM 모델을 사용하여 메시지 처리 및 응답 생성, 도구 호출이 포함된 응답 반환\n",
    "def call_model(state: MessagesState):\n",
    "    messages = state[\"messages\"]\n",
    "    response = model_with_tools.invoke(messages)\n",
    "    return {\"messages\": [response]}\n",
    "\n",
    "\n",
    "# 메시지 상태 기반 워크플로우 그래프 초기화\n",
    "workflow = StateGraph(MessagesState)\n",
    "\n",
    "# 에이전트와 도구 노드 정의 및 워크플로우 그래프에 추가\n",
    "workflow.add_node(\"agent\", call_model)\n",
    "workflow.add_node(\"tools\", tool_node)\n",
    "\n",
    "# 워크플로우 시작점에서 에이전트 노드로 연결\n",
    "workflow.add_edge(START, \"agent\")\n",
    "\n",
    "# 에이전트 노드에서 조건부 분기 설정, 도구 노드 또는 종료 지점으로 연결\n",
    "workflow.add_conditional_edges(\"agent\", tools_condition)\n",
    "\n",
    "# 도구 노드에서 에이전트 노드로 순환 연결\n",
    "workflow.add_edge(\"tools\", \"agent\")\n",
    "\n",
    "# 에이전트 노드에서 종료 지점으로 연결\n",
    "workflow.add_edge(\"agent\", END)\n",
    "\n",
    "\n",
    "# 정의된 워크플로우 그래프 컴파일 및 실행 가능한 애플리케이션 생성\n",
    "app = workflow.compile()\n"
   ]
  },
  {
   "cell_type": "code",
   "execution_count": 57,
   "metadata": {},
   "outputs": [
    {
     "data": {
      "image/png": "[encoded data removed]",
      "text/plain": [
       "<IPython.core.display.Image object>"
      ]
     },
     "metadata": {},
     "output_type": "display_data"
    }
   ],
   "source": [
    "from langchain_teddynote.graphs import visualize_graph\n",
    "\n",
    "visualize_graph(app)\n"
   ]
  },
  {
   "cell_type": "code",
   "execution_count": 58,
   "metadata": {},
   "outputs": [
    {
     "name": "stdout",
     "output_type": "stream",
     "text": [
      "================================\u001b[1m Human Message \u001b[0m=================================\n",
      "\n",
      "처음 5개의 소수를 출력하는 python code 를 작성해줘\n",
      "==================================\u001b[1m Ai Message \u001b[0m==================================\n",
      "Tool Calls:\n",
      "  python_code_interpreter (call_Y2dNCQOEXDi2WY07he2NtL2E)\n",
      " Call ID: call_Y2dNCQOEXDi2WY07he2NtL2E\n",
      "  Args:\n",
      "    code: def first_n_primes(n):\n",
      "    primes = []\n",
      "    num = 2  # Starting from the first prime number\n",
      "    while len(primes) < n:\n",
      "        is_prime = True\n",
      "        for i in range(2, int(num**0.5) + 1):\n",
      "            if num % i == 0:\n",
      "                is_prime = False\n",
      "                break\n",
      "        if is_prime:\n",
      "            primes.append(num)\n",
      "        num += 1\n",
      "    return primes\n",
      "\n",
      "# Get the first 5 prime numbers\n",
      "first_n_primes(5)\n",
      "=================================\u001b[1m Tool Message \u001b[0m=================================\n",
      "Name: python_code_interpreter\n",
      "\n",
      "[2, 3, 5, 7, 11]\n",
      "==================================\u001b[1m Ai Message \u001b[0m==================================\n",
      "\n",
      "처음 5개의 소수는 다음과 같습니다: [2, 3, 5, 7, 11]\n"
     ]
    }
   ],
   "source": [
    "# 실행 및 결과 확인\n",
    "for chunk in app.stream(\n",
    "    {\"messages\": [(\"human\", \"처음 5개의 소수를 출력하는 python code 를 작성해줘\")]},\n",
    "    stream_mode=\"values\",\n",
    "):\n",
    "    # 마지막 메시지 출력\n",
    "    chunk[\"messages\"][-1].pretty_print()\n"
   ]
  },
  {
   "cell_type": "code",
   "execution_count": 47,
   "metadata": {},
   "outputs": [
    {
     "name": "stdout",
     "output_type": "stream",
     "text": [
      "================================\u001b[1m Human Message \u001b[0m=================================\n",
      "\n",
      "search google news about AI\n",
      "==================================\u001b[1m Ai Message \u001b[0m==================================\n",
      "Tool Calls:\n",
      "  search_news (call_wgVECtKPM8OAKjVBAwe3EY5K)\n",
      " Call ID: call_wgVECtKPM8OAKjVBAwe3EY5K\n",
      "  Args:\n",
      "    query: AI\n",
      "=================================\u001b[1m Tool Message \u001b[0m=================================\n",
      "Name: search_news\n",
      "\n",
      "[{\"url\": \"https://news.google.com/rss/articles/CBMigwFBVV95cUxPMmRDbXdvaXNzbmxOc1hGWWNPTjdMeWxhNlRRNFVSZ2drel9Xb3FCWnZwSmxEYnIxdkJZaU1aV1JsVGIyT25YVVJXRGlTX0dlRlRCcUstY2V4V1pNU2pkZVBscGxDWnBaelhGMWtWQmdKTERER2JJaGFEMEE5d0J2N0Qwb9IBlwFBVV95cUxOakxuRy1QS29kVk9FbmRjVTJzb1dmLTdlSEgteElmRjdNQ24xb0Y5MUlqcERGSWtOa3hKZEpyZDd6NGpzT0dfVGhfa0VjaEFfOEZlcEh1cEZSVktranc4bmJZOC1IWVdLVHVGVGZFSkg4a3hYdm9PaVBUeTExU3dvSzl2aURyOHI1SVNfeEdCLUYyT01mX1d3?oc=5\", \"content\": \"AI가 통역 해주는 시대... 영어 공부 해? 말어? - 조선일보\"}, {\"url\": \"https://news.google.com/rss/articles/CBMiakFVX3lxTFBRblA0bGV3ZXByTUtURXJhTnMxV29FbjlkVkJObU5XdHJBekpFUHI0cWphQ29nRUYtNkFoYXBUTnQ0bXZCN213OWZpS1dXajVpTGZNbHRPSkUxYktjYzM3YktnY2lIMUp2eVE?oc=5\", \"content\": \"메타에 합류한 연구원 2명, 오픈AI로 복귀...MSL, 두달 만에 3명 이탈 - AI타임스\"}, {\"url\": \"https://news.google.com/rss/articles/CBMiW0FVX3lxTFBJOEE0bGxEeWh4bXUyYTE3QmNqQ0FYdWlZNUZ1djE5ZHNrWmpPVzd2WEEtN0EwTVplQXZKZEZCTGh0ejVaQzhvUHdvaEc0TktlX2ZnRlo4Y1dzam_SAWBBVV95cUxNQk9IM1FROTFEZG55V3pQQWVMY25YdmJDZHZyR1dsRmpHN0hKeFJXSEkwby0yMXZXUjNxTy1yOFhkX1FjNVB5NzY5bWpnbEVUUFZ3TTlMYU1wS3VZbVN0ZTU?oc=5\", \"content\": \"전기·수도처럼…삼성 \\\"AI 홈, 삶의 인프라로 자리 잡을 것\\\" - 연합뉴스\"}, {\"url\": \"https://news.google.com/rss/articles/CBMiZEFVX3lxTE9Eb2pTSDJxRnpKVUxfMENiMnBNYzR6bFFMaGpva0k3MGRpNXh0ZHdudUZvbl9DZUhDVEhYaTh1T1FfQkVJbzhGS3VUX2wwaExMWjFCWS11T25Hcl9vU004bU9HeUM?oc=5\", \"content\": \"최승범 삼성전자 부사장 \\\"AI홈 사치 아닌 필수…돌봄 파트너로\\\" - 뉴스1\"}, {\"url\": \"https://news.google.com/rss/articles/CBMiW0FVX3lxTE5xTFdCZXlVZ3VJeDJFMXRub3ZpcGE3MnJDYnBuaHI3VXBKVUFQX0JKeFZPY2pNNG9mMFVjUEppY2EycFJrSGZUQkYyS1d2aVFOUjlNSjAtWmMtZzDSAWBBVV95cUxPOXo0UEV2cmFIMGZwZlBrM1NmNFlJd0VxYlFiUFdWTi1qNm93S01rYVAyYmlHMjVzQnVwWUpVZW9lT08tcF9mM2VMRjdTaUVaLUlta1hPc0VZTHZyWm5OUFo?oc=5\", \"content\": \"삼성전자, 2025년형 TV에 마이크로소프트 AI '코파일럿' 탑재 - 연합뉴스\"}]\n",
      "==================================\u001b[1m Ai Message \u001b[0m==================================\n",
      "\n",
      "Here are some recent Google News articles about AI:\n",
      "\n",
      "1. \"AI가 통역 해주는 시대... 영어 공부 해? 말어?\" - 조선일보\n",
      "   (The era where AI interprets for you... Should you still study English?)\n",
      "   Read more: [Link](https://news.google.com/rss/articles/CBMigwFBVV95cUxPMmRDbXdvaXNzbmxOc1hGWWNPTjdMeWxhNlRRNFVSZ2drel9Xb3FCWnZwSmxEYnIxdkJZaU1aV1JsVGIyT25YVVJXRGlTX0dlRlRCcUstY2V4V1pNU2pkZVBscGxDWnBaelhGMWtWQmdKTERER2JJaGFEMEE5d0J2N0Qwb9IBlwFBVV95cUxOakxuRy1QS29kVk9FbmRjVTJzb1dmLTdlSEgteElmRjdNQ24xb0Y5MUlqcERGSWtOa3hKZEpyZDd6NGpzT0dfVGhfa0VjaEFfOEZlcEh1cEZSVktranc4bmJZOC1IWVdLVHVGVGZFSkg4a3hYdm9PaVBUeTExU3dvSzl2aURyOHI1SVNfeEdCLUYyT01mX1d3?oc=5)\n",
      "\n",
      "2. \"메타에 합류한 연구원 2명, 오픈AI로 복귀...MSL, 두달 만에 3명 이탈\" - AI타임스\n",
      "   (Two researchers who joined Meta return to OpenAI... 3 left MSL in two months)\n",
      "   Read more: [Link](https://news.google.com/rss/articles/CBMiakFVX3lxTFBRblA0bGV3ZXByTUtURXJhTnMxV29FbjlkVkJObU5XdHJBekpFUHI0cWphQ29nRUYtNkFoYXBUTnQ0bXZCN213OWZpS1dXajVpTGZNbHRPSkUxYktjYzM3YktnY2lIMUp2eVE?oc=5)\n",
      "\n",
      "3. \"전기·수도처럼…삼성 'AI 홈, 삶의 인프라로 자리 잡을 것'\" - 연합뉴스\n",
      "   (Like electricity and water... Samsung: \"AI home will become life infrastructure\")\n",
      "   Read more: [Link](https://news.google.com/rss/articles/CBMiW0FVX3lxTFBJOEE0bGxEeWh4bXUyYTE3QmNqQ0FYdWlZNUZ1djE5ZHNrWmpPVzd2WEEtN0EwTVplQXZKZEZCTGh0ejVaQzhvUHdvaEc0TktlX2ZnRlo4Y1dzam_SAWBBVV95cUxNQk9IM1FROTFEZG55V3pQQWVMY25YdmJDZHZyR1dsRmpHN0hKeFJXSEkwby0yMXZXUjNxTy1yOFhkX1FjNVB5NzY5bWpnbEVUUFZ3TTlMYU1wS3VZbVN0ZTU?oc=5)\n",
      "\n",
      "4. \"최승범 삼성전자 부사장 'AI홈 사치 아닌 필수…돌봄 파트너로'\" - 뉴스1\n",
      "   (Samsung VP: \"AI home is not a luxury but a necessity... as a care partner\")\n",
      "   Read more: [Link](https://news.google.com/rss/articles/CBMiZEFVX3lxTE9Eb2pTSDJxRnpKVUxfMENiMnBNYzR6bFFMaGpva0k3MGRpNXh0ZHdudUZvbl9DZUhDVEhYaTh1T1FfQkVJbzhGS3VUX2wwaExMWjFCWS11T25Hcl9vU004bU9HeUM?oc=5)\n",
      "\n",
      "5. \"삼성전자, 2025년형 TV에 마이크로소프트 AI '코파일럿' 탑재\" - 연합뉴스\n",
      "   (Samsung Electronics to equip 2025 TVs with Microsoft AI 'Copilot')\n",
      "   Read more: [Link](https://news.google.com/rss/articles/CBMiW0FVX3lxTE5xTFdCZXlVZ3VJeDJFMXRub3ZpcGE3MnJDYnBuaHI3VXBKVUFQX0JKeFZPY2pNNG9mMFVjUEppY2EycFJrSGZUQkYyS1d2aVFOUjlNSjAtWmMtZzDSAWBBVV95cUxPOXo0UEV2cmFIMGZwZlBrM1NmNFlJd0VxYlFiUFdWTi1qNm93S01rYVAyYmlHMjVzQnVwWUpVZW9lT08tcF9mM2VMRjdTaUVaLUlta1hPc0VZTHZyWm5OUFo?oc=5)\n",
      "\n",
      "If you want more details or news in English, let me know!\n"
     ]
    }
   ],
   "source": [
    "# 검색 질문 수행\n",
    "for chunk in app.stream(\n",
    "    {\"messages\": [(\"human\", \"search google news about AI\")]},\n",
    "    stream_mode=\"values\",\n",
    "):\n",
    "    chunk[\"messages\"][-1].pretty_print()\n"
   ]
  },
  {
   "cell_type": "code",
   "execution_count": null,
   "metadata": {},
   "outputs": [],
   "source": [
    "# 도구 호출이 필요 없는 질문 수행\n",
    "for chunk in app.stream(\n",
    "    {\"messages\": [(\"human\", \"안녕? 반가워\")]},\n",
    "    stream_mode=\"values\",\n",
    "):\n",
    "    chunk[\"messages\"][-1].pretty_print()\n",
    "\n"
   ]
  }
 ],
 "metadata": {
  "colab": {
   "authorship_tag": "ABX9TyMs2OSEsEhI+eP+P38efuYH",
   "provenance": []
  },
  "kernelspec": {
   "display_name": "Python 3 (ipykernel)",
   "language": "python",
   "name": "python3"
  },
  "language_info": {
   "codemirror_mode": {
    "name": "ipython",
    "version": 3
   },
   "file_extension": ".py",
   "mimetype": "text/x-python",
   "name": "python",
   "nbconvert_exporter": "python",
   "pygments_lexer": "ipython3",
   "version": "3.10.18"
  }
 },
 "nbformat": 4,
 "nbformat_minor": 4
}
