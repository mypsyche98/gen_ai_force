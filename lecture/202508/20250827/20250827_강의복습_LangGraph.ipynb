{
 "cells": [
  {
   "cell_type": "code",
   "execution_count": null,
   "metadata": {
    "scrolled": true
   },
   "outputs": [],
   "source": [
    "!pip install PyDrive"
   ]
  },
  {
   "cell_type": "code",
   "execution_count": 1,
   "metadata": {},
   "outputs": [
    {
     "name": "stdout",
     "output_type": "stream",
     "text": [
      "아래 링크를 복사하여 웹 브라우저에 붙여넣으세요.\n",
      "https://accounts.google.com/o/oauth2/auth?client_id=35726703810-4v13dfqmilhgv6shlc3cv9i3ktuh73j1.apps.googleusercontent.com&redirect_uri=http%3A%2F%2Flocalhost&scope=https%3A%2F%2Fwww.googleapis.com%2Fauth%2Fdrive&access_type=offline&response_type=code\n",
      "Authentication successful.\n"
     ]
    }
   ],
   "source": [
    "import os\n",
    "import mykeys\n",
    "\n",
    "project_name = 'CH17_LangGraph_SUB01'\n",
    "\n",
    "os.environ[\"LANGCHAIN_TRACING_V2\"] = \"true\"\n",
    "os.environ[\"LANGCHAIN_ENDPOINT\"] = \"https://api.smith.langchain.com\"\n",
    "os.environ[\"LANGCHAIN_PROJECT\"] = project_name\n",
    "os.environ[\"LANGCHAIN_API_KEY\"] = mykeys.get_key('LANG')\n",
    "os.environ[\"LANGCHAIN_HUB_API_KEY\"] = mykeys.get_key('LANG')\n",
    "os.environ[\"OPENAI_API_KEY\"] = mykeys.get_key('GPT')\n",
    "os.environ[\"GOOGLE_API_KEY\"] = mykeys.get_key('GOO')\n",
    "os.environ[\"HUGGINGFACEHUB_API_TOKEN\"] = mykeys.get_key('HF')\n",
    "os.environ[\"UPSTAGE_API_KEY\"] = mykeys.get_key('UP')\n",
    "os.environ[\"COHERE_API_KEY\"] = mykeys.get_key('COH')\n",
    "os.environ[\"JINA_API_KEY\"] = mykeys.get_key('JINA')\n",
    "os.environ[\"ANTHROPIC_API_KEY\"] = mykeys.get_key('ANT')\n",
    "os.environ[\"DEEPL_API_KEY\"] = mykeys.get_key('DEEP')\n",
    "os.environ[\"TAVILY_API_KEY\"] = mykeys.get_key('TAV')\n",
    "os.environ[\"TOGETHER_API_KEY\"] = mykeys.get_key('TOG')"
   ]
  },
  {
   "cell_type": "code",
   "execution_count": 2,
   "metadata": {},
   "outputs": [
    {
     "name": "stdout",
     "output_type": "stream",
     "text": [
      "LangSmith 추적을 시작합니다.\n",
      "[프로젝트명]\n",
      "CH17_LangGraph_SUB01\n"
     ]
    }
   ],
   "source": [
    "from langchain_teddynote import logging\n",
    "\n",
    "# 프로젝트 이름을 입력합니다.\n",
    "logging.langsmith(project_name)"
   ]
  },
  {
   "cell_type": "code",
   "execution_count": null,
   "metadata": {},
   "outputs": [],
   "source": [
    "from langchain_teddynote import logging\n",
    "\n",
    "# set_enable=False 로 지정하면 추적을 하지 않습니다.\n",
    "logging.langsmith(project_name, set_enable=False)"
   ]
  },
  {
   "cell_type": "markdown",
   "metadata": {},
   "source": [
    "CH17 LangGraph"
   ]
  },
  {
   "cell_type": "markdown",
   "metadata": {},
   "source": [
    "01. 핵심 기능"
   ]
  },
  {
   "cell_type": "markdown",
   "metadata": {},
   "source": [
    "01. LangGraph 에 자주 등장하는 Python 문법이해"
   ]
  },
  {
   "cell_type": "code",
   "execution_count": 3,
   "metadata": {},
   "outputs": [
    {
     "name": "stdout",
     "output_type": "stream",
     "text": [
      "sample_dict= {'name': '테디', 'age': '30', 'job': '개발자'}\n",
      "typed_dict= {'name': '셜리', 'age': 25, 'job': '디자이너'}\n"
     ]
    }
   ],
   "source": [
    "# TypedDict와 Dict의 차이점 예시\n",
    "from typing import Dict, TypedDict\n",
    "\n",
    "# 일반적인 파이썬 딕셔너리(dict) 사용\n",
    "sample_dict: Dict[str, str] = {\n",
    "    \"name\": \"테디\",\n",
    "    \"age\": \"30\",  # 문자열로 저장 (dict 에서는 가능)\n",
    "    \"job\": \"개발자\",\n",
    "}\n",
    "\n",
    "\n",
    "# TypedDict 사용\n",
    "class Person(TypedDict):\n",
    "    name: str\n",
    "    age: int  # 정수형으로 명시\n",
    "    job: str\n",
    "\n",
    "\n",
    "typed_dict: Person = {\"name\": \"셜리\", \"age\": 25, \"job\": \"디자이너\"}\n",
    "\n",
    "print(\"sample_dict=\",sample_dict)\n",
    "print(\"typed_dict=\",typed_dict)"
   ]
  },
  {
   "cell_type": "code",
   "execution_count": 4,
   "metadata": {},
   "outputs": [
    {
     "name": "stdout",
     "output_type": "stream",
     "text": [
      "sample_dict= {'name': '테디', 'age': 35, 'job': '개발자', 'new_field': '추가 정보'}\n",
      "typed_dict= {'name': '셜리', 'age': '35', 'job': '디자이너', 'new_field': '추가 정보'}\n"
     ]
    }
   ],
   "source": [
    "# dict의 경우\n",
    "sample_dict[\"age\"] = 35  # 문자열에서 정수로 변경되어도 오류 없음\n",
    "sample_dict[\"new_field\"] = \"추가 정보\"  # 새로운 필드 추가 가능\n",
    "\n",
    "# TypedDict의 경우\n",
    "typed_dict[\"age\"] = 35  # 정수형으로 올바르게 사용\n",
    "typed_dict[\"age\"] = \"35\"  # 타입 체커가 오류를 감지함\n",
    "typed_dict[\"new_field\"] = (\n",
    "    \"추가 정보\"  # 타입 체커가 정의되지 않은 키라고 오류를 발생시킴\n",
    ")\n",
    "print(\"sample_dict=\",sample_dict)\n",
    "print(\"typed_dict=\",typed_dict)"
   ]
  },
  {
   "cell_type": "code",
   "execution_count": 5,
   "metadata": {},
   "outputs": [],
   "source": [
    "from typing import Annotated\n",
    "\n",
    "name: Annotated[str, \"사용자 이름\"]\n",
    "age: Annotated[int, \"사용자 나이 (0-150)\"]\n"
   ]
  },
  {
   "cell_type": "code",
   "execution_count": 6,
   "metadata": {},
   "outputs": [
    {
     "name": "stdout",
     "output_type": "stream",
     "text": [
      "유효한 직원 데이터: id=1 name='테디노트' age=30 salary=1000.0 skills=['Python', 'LangChain']\n",
      "유효성 검사 오류:\n",
      "- id: Field required\n",
      "- name: String should have at least 3 characters\n",
      "- age: Input should be greater than 18\n",
      "- salary: Input should be less than 10000\n",
      "- skills: Input should be a valid list\n"
     ]
    }
   ],
   "source": [
    "from typing import Annotated, List\n",
    "from pydantic import Field, BaseModel, ValidationError\n",
    "\n",
    "\n",
    "class Employee(BaseModel):\n",
    "    id: Annotated[int, Field(..., description=\"직원 ID\")]\n",
    "    name: Annotated[str, Field(..., min_length=3, max_length=50, description=\"이름\")]\n",
    "    age: Annotated[int, Field(gt=18, lt=65, description=\"나이 (19-64세)\")]\n",
    "    salary: Annotated[\n",
    "        float, Field(gt=0, lt=10000, description=\"연봉 (단위: 만원, 최대 10억)\")\n",
    "    ]\n",
    "    skills: Annotated[\n",
    "        List[str], Field(min_items=1, max_items=10, description=\"보유 기술 (1-10개)\")\n",
    "    ]\n",
    "\n",
    "\n",
    "# 유효한 데이터로 인스턴스 생성\n",
    "try:\n",
    "    valid_employee = Employee(\n",
    "        id=1, name=\"테디노트\", age=30, salary=1000, skills=[\"Python\", \"LangChain\"]\n",
    "    )\n",
    "    print(\"유효한 직원 데이터:\", valid_employee)\n",
    "except ValidationError as e:\n",
    "    print(\"유효성 검사 오류:\", e)\n",
    "\n",
    "# 유효하지 않은 데이터로 인스턴스 생성 시도\n",
    "try:\n",
    "    invalid_employee = Employee(\n",
    "        name=\"테디\",  # 이름이 너무 짧음\n",
    "        age=17,  # 나이가 범위를 벗어남\n",
    "        salary=20000,  # 급여가 범위를 벗어남\n",
    "        skills=\"Python\",  # 리스트가 아님\n",
    "    )\n",
    "except ValidationError as e:\n",
    "    print(\"유효성 검사 오류:\")\n",
    "    for error in e.errors():\n",
    "        print(f\"- {error['loc'][0]}: {error['msg']}\")\n"
   ]
  },
  {
   "cell_type": "code",
   "execution_count": 7,
   "metadata": {},
   "outputs": [
    {
     "name": "stdout",
     "output_type": "stream",
     "text": [
      "[HumanMessage(content='안녕하세요?', additional_kwargs={}, response_metadata={}, id='1'), AIMessage(content='반갑습니다~', additional_kwargs={}, response_metadata={}, id='2')]\n"
     ]
    }
   ],
   "source": [
    "from langchain_core.messages import AIMessage, HumanMessage\n",
    "from langgraph.graph import add_messages\n",
    "\n",
    "# 기본 사용 예시\n",
    "msgs1 = [HumanMessage(content=\"안녕하세요?\", id=\"1\")]\n",
    "msgs2 = [AIMessage(content=\"반갑습니다~\", id=\"2\")]\n",
    "\n",
    "result1 = add_messages(msgs1, msgs2)\n",
    "print(result1)\n"
   ]
  },
  {
   "cell_type": "code",
   "execution_count": 8,
   "metadata": {},
   "outputs": [
    {
     "name": "stdout",
     "output_type": "stream",
     "text": [
      "[HumanMessage(content='반갑습니다~', additional_kwargs={}, response_metadata={}, id='1')]\n"
     ]
    }
   ],
   "source": [
    "# 동일한 ID를 가진 메시지 대체 예시\n",
    "msgs1 = [HumanMessage(content=\"안녕하세요?\", id=\"1\")]\n",
    "msgs2 = [HumanMessage(content=\"반갑습니다~\", id=\"1\")]\n",
    "\n",
    "result2 = add_messages(msgs1, msgs2)\n",
    "print(result2)\n"
   ]
  },
  {
   "cell_type": "markdown",
   "metadata": {},
   "source": [
    "02. LangGraph를 활용한 챗봇 구축"
   ]
  },
  {
   "cell_type": "code",
   "execution_count": 9,
   "metadata": {},
   "outputs": [],
   "source": [
    "from typing import Annotated, TypedDict\n",
    "from langgraph.graph import StateGraph, START, END\n",
    "from langgraph.graph.message import add_messages\n",
    "\n",
    "\n",
    "class State(TypedDict):\n",
    "    # 메시지 정의(list type 이며 add_messages 함수를 사용하여 메시지를 추가)\n",
    "    messages: Annotated[list, add_messages]\n"
   ]
  },
  {
   "cell_type": "code",
   "execution_count": 10,
   "metadata": {},
   "outputs": [],
   "source": [
    "from langchain_openai import ChatOpenAI\n",
    "\n",
    "# LLM 정의\n",
    "llm = ChatOpenAI(model=\"gpt-4.1\", temperature=0)\n",
    "\n",
    "\n",
    "# 챗봇 함수 정의\n",
    "def chatbot(state: State):\n",
    "    # 메시지 호출 및 반환\n",
    "    return {\"messages\": [llm.invoke(state[\"messages\"])]}\n"
   ]
  },
  {
   "cell_type": "code",
   "execution_count": 11,
   "metadata": {},
   "outputs": [
    {
     "data": {
      "text/plain": [
       "<langgraph.graph.state.StateGraph at 0x109f7e7a0>"
      ]
     },
     "execution_count": 11,
     "metadata": {},
     "output_type": "execute_result"
    }
   ],
   "source": [
    "# 그래프 생성\n",
    "graph_builder = StateGraph(State)\n",
    "\n",
    "# 노드 이름, 함수 혹은 callable 객체를 인자로 받아 노드를 추가\n",
    "graph_builder.add_node(\"chatbot\", chatbot)\n"
   ]
  },
  {
   "cell_type": "code",
   "execution_count": 12,
   "metadata": {},
   "outputs": [
    {
     "data": {
      "text/plain": [
       "<langgraph.graph.state.StateGraph at 0x109f7e7a0>"
      ]
     },
     "execution_count": 12,
     "metadata": {},
     "output_type": "execute_result"
    }
   ],
   "source": [
    "# 시작 노드에서 챗봇 노드로의 엣지 추가\n",
    "graph_builder.add_edge(START, \"chatbot\")\n"
   ]
  },
  {
   "cell_type": "code",
   "execution_count": 13,
   "metadata": {},
   "outputs": [
    {
     "data": {
      "text/plain": [
       "<langgraph.graph.state.StateGraph at 0x109f7e7a0>"
      ]
     },
     "execution_count": 13,
     "metadata": {},
     "output_type": "execute_result"
    }
   ],
   "source": [
    "# 그래프에 엣지 추가\n",
    "graph_builder.add_edge(\"chatbot\", END)\n"
   ]
  },
  {
   "cell_type": "code",
   "execution_count": 14,
   "metadata": {},
   "outputs": [],
   "source": [
    "# 그래프 컴파일\n",
    "graph = graph_builder.compile()\n"
   ]
  },
  {
   "cell_type": "code",
   "execution_count": 15,
   "metadata": {},
   "outputs": [
    {
     "data": {
      "image/png": "[encoded data removed]",
      "text/plain": [
       "<IPython.core.display.Image object>"
      ]
     },
     "metadata": {},
     "output_type": "display_data"
    }
   ],
   "source": [
    "from langchain_teddynote.graphs import visualize_graph\n",
    "\n",
    "# 그래프 시각화\n",
    "visualize_graph(graph)\n"
   ]
  },
  {
   "cell_type": "code",
   "execution_count": 16,
   "metadata": {},
   "outputs": [
    {
     "name": "stdout",
     "output_type": "stream",
     "text": [
      "Assistant: 서울에는 다양한 맛집이 많아 순위를 매기기 어렵지만, 많은 사람들에게 사랑받는 서울의 유명 맛집 TOP 10을 추천해드릴게요! (2024년 기준, 다양한 음식 종류를 반영했습니다.)\n",
      "\n",
      "1. **진주회관** (중구)  \n",
      "   - 대표 메뉴: 콩국수, 비빔밥  \n",
      "   - 설명: 50년 전통의 콩국수 맛집. 진한 콩국물로 유명해요.\n",
      "\n",
      "2. **을지면옥** (중구)  \n",
      "   - 대표 메뉴: 평양냉면  \n",
      "   - 설명: 평양냉면의 정석. 담백하고 깊은 맛으로 냉면 마니아들에게 인기.\n",
      "\n",
      "3. **백리향** (강남구)  \n",
      "   - 대표 메뉴: 북경오리, 딤섬  \n",
      "   - 설명: 고급 중식당으로, 북경오리와 딤섬이 일품.\n",
      "\n",
      "4. **광장시장 순희네 빈대떡** (종로구)  \n",
      "   - 대표 메뉴: 빈대떡, 마약김밥  \n",
      "   - 설명: 광장시장의 대표 먹거리. 바삭한 빈대떡이 유명.\n",
      "\n",
      "5. **삼청동 수제비** (종로구)  \n",
      "   - 대표 메뉴: 수제비, 감자전  \n",
      "   - 설명: 쫄깃한 수제비와 고소한 감자전이 인기.\n",
      "\n",
      "6. **마포진짜원조최대포** (마포구)  \n",
      "   - 대표 메뉴: 돼지갈비, 삼겹살  \n",
      "   - 설명: 70년 전통의 고깃집. 숯불에 구운 돼지갈비가 일품.\n",
      "\n",
      "7. **노포식당** (용산구)  \n",
      "   - 대표 메뉴: 한우곰탕  \n",
      "   - 설명: 깊고 진한 국물의 곰탕으로 유명한 한우 전문점.\n",
      "\n",
      "8. **이태원 더방갈로** (용산구)  \n",
      "   - 대표 메뉴: 인도/네팔 커리, 난  \n",
      "   - 설명: 이국적인 분위기에서 즐기는 정통 커리와 난.\n",
      "\n",
      "9. **미진** (종로구)  \n",
      "   - 대표 메뉴: 메밀국수, 소바  \n",
      "   - 설명: 60년 전통의 메밀국수 전문점. 시원한 국물이 일품.\n",
      "\n",
      "10. **옥동식** (마포구)  \n",
      "    - 대표 메뉴: 돼지국밥  \n",
      "    - 설명: 깔끔하고 담백한 돼지국밥으로 미식가들에게 인기.\n",
      "\n",
      "---\n",
      "\n",
      "이 외에도 서울에는 수많은 맛집이 있으니, 방문하시는 지역과 취향에 따라 다양한 곳을 찾아보시는 것도 추천드려요!  \n",
      "궁금한 음식 종류나 지역이 있다면 더 구체적으로 추천해드릴 수 있습니다.\n"
     ]
    }
   ],
   "source": [
    "question = \"서울의 유명한 맛집 TOP 10 추천해줘\"\n",
    "\n",
    "# 그래프 이벤트 스트리밍\n",
    "for event in graph.stream({\"messages\": [(\"user\", question)]}):\n",
    "    # 이벤트 값 출력\n",
    "    for value in event.values():\n",
    "        print(\"Assistant:\", value[\"messages\"][-1].content)\n"
   ]
  },
  {
   "cell_type": "markdown",
   "metadata": {},
   "source": [
    "03. LangGraph를 활용한 Agent 구축"
   ]
  },
  {
   "cell_type": "code",
   "execution_count": 17,
   "metadata": {},
   "outputs": [
    {
     "data": {
      "text/plain": [
       "[{'url': 'https://www.youtube.com/watch?v=mVu6Wj8Z7C0',\n",
       "  'title': '랭체인 한국어 튜토리얼 업데이트 소식 처음 사용자를 위한 친절한 ...',\n",
       "  'content': '#랭체인 한국어 튜토리얼🇰🇷 업데이트 소식🔥 처음 사용자를 위한 친절한 환경설치(Windows, Mac)\\n\\n테디노트 TeddyNote\\n317 likes\\n16451 views\\n19 Jun 2024\\n📝 환경설정(Windows)\\nhttps://teddynote.com/10-RAG%EB%B9%84%EB%B2%95%EB%85%B8%ED%8A%B8/%ED%99%98%EA%B2%BD%20%EC%84%A4%EC%A0%95%20(Windows)/\\n\\n📝 환경설정(Mac)\\nhttps://teddynote.com/10-RAG%EB%B9%84%EB%B2%95%EB%85%B8%ED%8A%B8/%ED%99%98%EA%B2%BD%20%EC%84%A4%EC%A0%95%20(Mac)/\\n\\n📍[패스트캠퍼스] \"테디노트의 RAG 비법노트\" 강의\\n링크: https://bit.ly/4e1h8zO\\n\\n🤖 디스코드 채널\\nhttps://discord.gg/q3RvQZ5CfK\\n\\n📘 랭체인 튜토리얼 무료 전자책(wikidocs)\\nhttps://wikidocs.net/book/14314\\n\\n✅ 랭체인 한국어 튜토리얼 코드저장소(GitHub)\\nhttps://github.com/teddylee777/langchain-kr\\n\\n✅ 줄거리\\n00:00 랭체인 한국어 튜토리얼 공지사항\\n01:59 langchain-teddynote 패키지\\n08:25 감사인사\\n09:15 Windows 환경설치\\n21:48 Mac 환경설치\\n\\n#rag #langchain\\n---\\n📍 \"테디노트의 RAG 비법노트\" 랭체인 강의: https://fastcampus.co.kr/data_online_teddy\\n📘 랭체인 한국어 튜토리얼(무료 전자책): https://wikidocs.net/book/14314\\n📝 테디노트(깃헙 블로그) : https://teddylee777.github.io\\n💻 GitHub 소스코드 저장소: https://github.com/teddylee777\\n77 comments',\n",
       "  'score': 0.7598145,\n",
       "  'raw_content': '# #랭체인 한국어 튜토리얼🇰🇷 업데이트 소식🔥 처음 사용자를 위한 친절한 환경설치(Windows, Mac)\\n\\n테디노트 TeddyNote\\n317 likes\\n16451 views\\n19 Jun 2024\\n📝 환경설정(Windows)\\nhttps://teddynote.com/10-RAG%EB%B9%84%EB%B2%95%EB%85%B8%ED%8A%B8/%ED%99%98%EA%B2%BD%20%EC%84%A4%EC%A0%95%20(Windows)/\\n\\n📝 환경설정(Mac)\\nhttps://teddynote.com/10-RAG%EB%B9%84%EB%B2%95%EB%85%B8%ED%8A%B8/%ED%99%98%EA%B2%BD%20%EC%84%A4%EC%A0%95%20(Mac)/\\n\\n📍[패스트캠퍼스] \"테디노트의 RAG 비법노트\" 강의\\n링크: https://bit.ly/4e1h8zO\\n\\n🤖 디스코드 채널\\nhttps://discord.gg/q3RvQZ5CfK\\n\\n📘 랭체인 튜토리얼 무료 전자책(wikidocs)\\nhttps://wikidocs.net/book/14314\\n\\n✅ 랭체인 한국어 튜토리얼 코드저장소(GitHub)\\nhttps://github.com/teddylee777/langchain-kr\\n\\n✅ 줄거리\\n00:00 랭체인 한국어 튜토리얼 공지사항\\n01:59 langchain-teddynote 패키지\\n08:25 감사인사\\n09:15 Windows 환경설치\\n21:48 Mac 환경설치\\n\\n#rag #langchain\\n---\\n📍 \"테디노트의 RAG 비법노트\" 랭체인 강의: https://fastcampus.co.kr/data_online_teddy\\n📘 랭체인 한국어 튜토리얼(무료 전자책): https://wikidocs.net/book/14314\\n📝 테디노트(깃헙 블로그) : https://teddylee777.github.io\\n💻 GitHub 소스코드 저장소: https://github.com/teddylee777\\n77 comments'},\n",
       " {'url': 'https://www.youtube.com/watch?v=W_uwR_yx4-c&pp=0gcJCfwAo7VqN5tD',\n",
       "  'title': '#LangGraph 개념 완전 정복 몰아보기(3시간) - YouTube',\n",
       "  'content': '🔥 #LangGraph 개념 완전 정복 몰아보기(3시간) 🔥\\n테디노트 TeddyNote\\n46000 subscribers\\n543 likes\\n34305 views\\n30 Apr 2025\\n패스트캠퍼스에서 테디노트 구독자 분들을 위하여 선물을 준비해 주셨습니다!\\n무려 3시간에 육박하는 편집을 해주셔서 \"LangGraph 개념 완전 정복\" 몰아보기 강의를 편집해 주셨습니다.\\n편집을 지원해 주시고, 강의 영상 공개도 허락해 주신 패스트캠퍼스 관계자 분들께 정말 감사드립니다.\\n\\n이 영상이 LangGraph 를 시작하시려는 분들께 좋은 시작점이 되었으면 좋겠습니다!\\n\\n✅ 소스코드 링크: \\nhttps://github.com/teddylee777/langchain-kr/tree/main/17-LangGraph/02-Structures\\n\\n전체 강의를 수강하고 싶으신 분들은 아래 할인코드로 할인 받아 결재하세요!\\n✅ 20% 할인 쿠폰 코드\\n- 할인코드: 테디노트RAG\\n- 강의링크: https://buly.kr/Gvmu8DQ\\n- 쿠폰코드 사용방법: 강의 수강신청 → 쿠폰 선택 창에 쿠폰코드 입력 → 쿠폰 등록\\n\\n✅ 타임라인\\n00:00 LangGraph 개요\\n21:29 LangGraph 세부 기능(State, Node, Edge, Conditional Edge, Compile)\\n46:56 LangGraph 로 자유롭게 그래프 로직 구성(흐름 엔지니어링)\\n1:10:30 Naive RAG(전통적인 방식의 RAG) 를 LangGraph 로 구현\\n1:31:43 답변의 할루시네이션 관련성 평가 모듈 추가\\n1:43:28 웹 검색 노드 추가\\n1:51:37 쿼리 재작성 모듈 추가\\n2:00:55  [프로젝트] Agentic RAG - 에이전트를 활용한 RAG\\n2:24:50  [프로젝트] Adaptive RAG\\n\\n#agent #rag \\n---\\n📍 \"테디노트의 RAG 비법노트\" 랭체인 강의: https://fastcampus.co.kr/data_online_teddy\\n📘 랭체인 한국어 튜토리얼(무료 전자책): https://wikidocs.net/book/14314\\n📝 테디노트(깃헙 블로그) : https://teddylee777.github.io\\n💻 GitHub 소스코드 저장소: https://github.com/teddylee777\\n31 comments\\n',\n",
       "  'score': 0.7568076,\n",
       "  'raw_content': '# 🔥 #LangGraph 개념 완전 정복 몰아보기(3시간) 🔥\\n## 테디노트 TeddyNote\\n46000 subscribers\\n543 likes\\n\\n### Description\\n34305 views\\nPosted: 30 Apr 2025\\n패스트캠퍼스에서 테디노트 구독자 분들을 위하여 선물을 준비해 주셨습니다!\\n무려 3시간에 육박하는 편집을 해주셔서 \"LangGraph 개념 완전 정복\" 몰아보기 강의를 편집해 주셨습니다.\\n편집을 지원해 주시고, 강의 영상 공개도 허락해 주신 패스트캠퍼스 관계자 분들께 정말 감사드립니다.\\n\\n이 영상이 LangGraph 를 시작하시려는 분들께 좋은 시작점이 되었으면 좋겠습니다!\\n\\n✅ 소스코드 링크: \\nhttps://github.com/teddylee777/langchain-kr/tree/main/17-LangGraph/02-Structures\\n\\n전체 강의를 수강하고 싶으신 분들은 아래 할인코드로 할인 받아 결재하세요!\\n✅ 20% 할인 쿠폰 코드\\n- 할인코드: 테디노트RAG\\n- 강의링크: https://buly.kr/Gvmu8DQ\\n- 쿠폰코드 사용방법: 강의 수강신청 → 쿠폰 선택 창에 쿠폰코드 입력 → 쿠폰 등록\\n\\n✅ 타임라인\\n00:00 LangGraph 개요\\n21:29 LangGraph 세부 기능(State, Node, Edge, Conditional Edge, Compile)\\n46:56 LangGraph 로 자유롭게 그래프 로직 구성(흐름 엔지니어링)\\n1:10:30 Naive RAG(전통적인 방식의 RAG) 를 LangGraph 로 구현\\n1:31:43 답변의 할루시네이션 관련성 평가 모듈 추가\\n1:43:28 웹 검색 노드 추가\\n1:51:37 쿼리 재작성 모듈 추가\\n2:00:55  [프로젝트] Agentic RAG - 에이전트를 활용한 RAG\\n2:24:50  [프로젝트] Adaptive RAG\\n\\n#agent #rag \\n---\\n📍 \"테디노트의 RAG 비법노트\" 랭체인 강의: https://fastcampus.co.kr/data_online_teddy\\n📘 랭체인 한국어 튜토리얼(무료 전자책): https://wikidocs.net/book/14314\\n📝 테디노트(깃헙 블로그) : https://teddylee777.github.io\\n💻 GitHub 소스코드 저장소: https://github.com/teddylee777\\n\\n31 comments\\n### Transcript:\\nLangGraph 개요 네 여러분 안녕하세요 드디어 랭그래프 시간입니다 아 여기까지 오늘 정말 고생 많으셨고요 아마이 랭그래프 영상을 처음 보시는 분들도 계시겠죠 어,이 랭그래프 영상을 사실 제가 유튜브에 먼저 올렸고요.이 랭그래프에 대한 설명 영상인데 그때와 조금 자료를 보충해서 이제 설명드리려고 합니다 어 랭그래프라는 거는 저희가 왜 필요한가 요거는 차차 말씀드리기로 할 건데요 먼저 여러분들이 래그를 하면서 가지고 계신 많은 고민들이 있을 거예요 그 고민들을 어느 정도 해결해 줄 수 있는게 바로이 랭그래프이기 때문에 제가 최근에는이 랭그래프에 대한 중요성을 많이 강조드리고 있어요 실제로 커뮤니티에 보면은 해외 커뮤니티에서이 랭그래프에 대한 인기를 실감할 수가 있는데요.이 랭체인에 대해서는 사실 호불로가 조금 있습니다 아무래도 우리가 쉽게 쓸 수 있지만 커스터마이제이션이 좀 완전하진 않아서 그 부분 때문에 약간의 호브로가 있었다면요.이 랭그래프라는 거는 꼭 랭체인을 쓰지 않아도 그래프 형식으로 흐름을 잡아주는 굉장히 유용한 프레임키이기 때문에 인기가 굉장히 많은 편이라고 보시면 돼요 그래서 여러분들이 만약에 이전 영상을 꼼꼼히 보지 않으셨더라도이 랭그래프 영상만큼은 꼭 꼼꼼히 보셨으면 좋겠습니다 그래서 제가 이번에 자료도 정말 열심히 준비를 했거든요 게다가 요즘에 제가 대회 활동할 때이 모듈딜러 레그에 대한 강조를 강조를 또 하고 있습니다 그런데이 모듈러 레그를 가는 그 도구가 필요할 텐데 그 도구가 바로이 랭그래프라고 보시면 돼요 자 그러면 바로 한번 들어가 보도록 하겠는데요.이 이 랭그래프의 탄생 배경부터 먼저 살펴보도록 하겠습니다 제가 항상 강의 때 강조드리는게 뭐냐면 Y라는 측면이에요.이 Y이 랭그래프라는게 도대체 왜 나왔는가 거기에 우리가 어 다시 한번 좀 빠져들어서 살펴볼 필요가 있는데요 어 사실 기술의 발전이라는 거는 어떤 갈증으로부터 시작이 됩니다 내가 이런 것들을 하고 싶은데 뭔가 불편하네 그러면 이걸 또 타파할 수 있는 새로운 기술이 나오게 되는 거죠 그래서이 랭그래프가 탄생을 했다라고 보시면 되겠는데요.이 배경에는이 레그라는 강력한 기능을 갖게 된 우리는 한 번쯤 다음과 같은 갈등을 마주하게 되는 거예요 그래서 LM이 생성한 답변이 혹시 할루시네이션이 있지는 않을까 이런 불안함이 있으실 수도 있고요 혹은 레그를 잘 적용했다라고는 하지만이 답변이 문서에는 없는 자기가 알고 있는 지식 속에서 답변을 하면 어쩌지?이 사전 지식으로 답변한 것 아닐까 이런 것들이 궁금할 수도 있고요 혹은 문서 검색에서 원하는 내용이 없을 경우에 인터넷 혹은 논문 부족한 검색을 보강을 해 가지고 지식 보강을 할 수 없을까 이런 갈증이 있다라는 거죠 자 그래서 레그 개발 단계의 고민 사례를 보시면요 일반 레그를 수행했을 때 우리는 다음과 같은 문제점을 어 봉착하게 됩니다 어,이 생성 AI 가우스를 만든 회사의 2023년도 매출액을 알려줘라고 하는 건데요 여기에 질문에 보시면은이 생성용 AI 가오스를 만든 회사는이 문서 내에 정보가 있었다라고 가정을 해 볼게요 그래서 문서에 찾아봤더니 생성령 AI 가오스를 만든 회사는 삼성전자입니다라는 정보를 얘가 잘 찾아와서 어 답변을 하려고 했는데요 그런데이 회사에 2023년도 매출액을 알려 줘라는 질문을 했기 때문에 결국에는 삼성전자의 2023년도 매출액을 알려 달라는 그런 질문이 되는 건데이 정보가 없다라는 거예요 그래서 이런 고민이 많으시겠죠 어 그래서 우리는 어떻게 변경을 할 수가 있냐면이 부족한 정보를 웹에서 검색을 해 가지고 문서에 추가하는 로직을 구현할 수가 있습니다 그래서 요거를 이제 체인을 하나 더 만드는 거예요 만들어서 생성 AI를 만든 회사는 삼성전자입니다 하지만 매출액 정보는 문서에 나와 있지 않으니 여기에다가 체인을 덧대는 거죠 그래서 인터넷 검색하는 체인을 덧해서 생성 AI 가우스를 만든 회사인 삼성전자의 2023년도 매출액을 검색해 줘라는 커리를 날리게 되는 거죠 그렇게 날려 보니까 인터넷에서 검색을 해서 보니까 2023년도 매출액은 250조였다고 합니다 결국에는이 답변이 완성이 되는 거예요 생성령 AI 가우스를 만든 회사는 삼성전자이고이 삼성전자의 2023년도 매출액은 250도였습니다라고 답변을 주게 되는 거죠 자 그런데 만약에 검색 결과에 잘못된 정보가 포함되어 있을 수도 있잖아요 그런 경우에는 어떨까요?이 생성령 AI 가우스를 만든 회사는 삼성전자인데 매출액 정보는 문서에 나와 있지 않아서 검색을 했어요 검색을 했는데 얘가 인터넷 검색을 하다 보니까 부정확한 정보를 가지고 올 수도 있는 거죠 그러다 보니까 갑자기 답변이 삼성 SDS의 매출액은 20조였습니다 이렇게 생뚱맞은 답변으로 이어질 수도 있다라는 거예요 그래서 결국에는 잘못된 검색 결과가 할루스네이션으로 이어질 수도 있고요 그러다 보면은 굉장히 머릿속에 복잡해져요 우리가 이거를 뭐 할루스네이션 체커를 둬 가지고 또 검증한 다음에 다시 검색을 하려고 하는데 체인이 막 덕지덕지 붙는다는 거죠 그래서 결국에는 뭐냐면 우리가 못 하는 건 아니죠 할 수는 있습니다 할 수 있습니다만 구조 자체가 굉장히 덕지덕지 구조로 갈 수밖에 없는 거예요 이게 안 되면 또 이걸 덧대고 이거 안 되면 또 덧대고 더고 이렇게 주렁주렁 가는 방식이 될 수밖에 없다라는 거예요 그래서 결국에는 이렇게 보시면은 만들었습니다 없습니다 가면은 여기에 붓구 붙구 붙구 붙구 하다 보면은이 체인이 정말 끝없이 늘어날 수밖에 없고요 더군다나 이렇게 늘어난다고 해서 답변이 잘 나오면 그나마 다행이라고 보여져요 하지만 하지만 우리가 언제까지 이렇게 체인들을 막 덕지덕지 만들어 놓고 어 이게 잘 수행이 되겠지 그냥 마냥 기다릴 수는 없는 거죠 그래서 우리가 중간중간에 여기에서 이미 답변이 잘 나왔으면 굳이 아래쪽까지 갈 필요 없이 여기서 끝내 주는 그런 로직도 필요할 수도 있고요 그래서 이런 로직들이 계속 들어가다 보면은 우리 레그 파이프라인의 복잡도 자체가 굉장히 올라갈 수밖에 없는 겁니다 자 그래서 우리가이 컨벤셔널 레그 전통적인 레그 혹은 나이브 레그라고 하죠 이 나이브 레그의 가장 큰 문제점은 뭐냐면요.이 사전에 정의된 데이터 로더 그다음에 고정된 청크의 사이즈 그다음에 퀄리 방법 우리가 중간에 막 실행 단계에 바꿀 수가 없죠 미리 한 번에 딱 셋업을 해 놓고 끝내 줘야 되는 거예요 그다음에 신뢰하기 어려운 LLM 그다음에 고정된 프럼프트 문서와의 관련성 혹은 신뢰성 요런 것들이 한 번에 잘해야지 좋은 답변이 나올까 말까 하는 거예요 그래서 한마디로 우리가 이거를 뭐라고 얘기하냐면 단방향 단방향의 파이프라인이다 이렇게 얘기를 하거든요 그래서 얘 다음에 얘 얘 다음에 얘 얘 다음에 얘이 단방향의 구조가 한 번에 우리는 잘해 내야 된다 그래야지 우리가 좋은 답변 얻을 수 있다 이런 어 문제점 아닌 문제점에 봉착할 수밖에 없는 거예요 그래서 궁극적으로이 컨벤셔널 레그 어 나이브 레그 혹은 이전까지 보셨던 어벤스 레그의 구조는 어 단방향 구조이기 때문에 그러니까 뒤로 빠꾸가 안 된다는 거예요 갔다가 어 이거 별로였네 다시 돌아와서 수정해서 가는 거 이런 것들이 전혀 안 되기 때문에 우리가 모든 단계를 한 번에 잘할 수밖에 없는 거죠 근데 이게 한 번에 잘 되면 다행인데 보통은 잘 안 된다라는 거예요 그래서 여러분들이 혹시 회사 생활을 하실 때도 어 보고서 작성을 할 때 우리가 팀장님께 보고서를 가지고 갔어요 그래서 피드백을 받고 수정을 하고 다시 가고 피드백 받고 다시 가고 이렇게 왔다 갔다 하다 보면은 보고서가 결국에는 원하는 방향성대로 나오잖아요 근데 우리는 지금 처한 상황이 어떤 상황이냐면 한 번에 제출을 잘해서 한 번에 통과를 해야 되는 그런 상황이라고 볼 수가 있습니다 자 그래서 여기서 제한된 아이디어가 바로 랭그래프라는 거예요 각각의 세부 과정들을 우리는 이제 노드라고 부르기로 했어요 그래서 여기에 있는 로더 노드 스플릿 노드 인베딩을 도와주는 노드 그다음에 저장을 해 주는 노드 그다음에 질문이 들어오면 검색을 해 주는 노드 프롬프트 노드도 있고요 뭐 LM 엔서 이런 것들을 다 노드로 세분화시킬 수가 있는 거예요 그래서 각각의 역할 하나하나마다 노드라고 정의를 하고요 그다음에 어떤 노드에서 어떤 노드로 갈지 그 연결짓는이 부분을 우리가 뭐라고 하냐면 바로 엣지라고 부르는 거예요 그래서 이전 노드에서 다음 노드로 연결하는 거를 우리는 엣지라는 걸 통해서 연결을 해 줄 거고요 그다음에 중간에 보면은 조건부 엣지를 넣을 수가 있어요 아 이건 정말 좋죠 우리에게 꼭 필요한 거였어요 그래서 우리가 중간에 파이프라인을 하다가 분기를 태우고 싶을 경우가 있어요 우리가 대체적으로 많이 제가 말씀드렸던 예시 중에 하나가 추상화된 답변이 있고 답변을 요청할 때가 있고 좀 구체적인 답변을 요청할 때가 있어요 이러면 우리가 체인을 나누어서 처리하는 방법이 있을 수 있거든요 이때 우리가 라우팅이라는 기법을 쓰는데 라우팅도 구현하기가 너무 어렵죠 이럴 때에는 우리가 조건부 엣지를 둬 가지고 어 이게 추상화된 답변을 요구하는 거야 그럼 추상화된 노드로 보내고 어 이거 구체적인 답변을 원하는 거야 그러면 구체화된 답변을 생성해내는 노드로 보내 줄 수가 있어요 이렇게 조건부 엣지를 둘 수가 있는데 조건부 엣지 같은 경우에는 두 갈래뿐만 아니라 세 갈래,네 갈래 이렇게도 분기 처리를 할 수가 있습니다 자 그래서 랭그래프를 쓰면은 우리 구조가 어떻게 바뀌는지 좀 더 소개를 해 드릴게요 원래 질문이 들어오고 우리는 문서 검색을 한 다음에 검색된 문서를 LRM에 줘서 답변 생성을 하고요 최종 답변까지 연결을 짓게 되는데요 우리가 이거 하나하나를 전부 다 노드로 만들기로 했었죠 그리고 노드와 노드는 이렇게 엣지로 연결을 짓는 거고요 그런데 엣지로 이제 우리가 흐름이라는 걸 만들 거예요 흐름을 만들 건데 여러분들께서 플로우 엔지니어링이라는 거를 하실 겁니다 그래서이 플로우 엔지니어링이라는 건 뭐냐면 우리가 기존에 딱 정해진 단방향의 구조가 아니라 노드들을 이렇게 펼쳐 놓고요.요 단계 다음에는 여기로 가.요 단계 다음에는 여기나 여기로 가 요런 것들을 여러분들 여러분들이 굉장히 쉽게 흐름을 짜실 수가 있어요.이 엣지 구성을 통해서요 그래서이 첫 번째 제한된 예시를 보시면은 질문이 들어오죠 그다음에 문서 검색을 합니다 검색을 하면 바로 답변 생성을 하러 가는게 아니라 평가자한테 검색된 문서의 내용과 질문의 내용을 같이 주는 거예요 그래서 평가자로 하여금이 내용에 대해서 관련성 평가를 수행하게끔 요청을 하는 거죠 평가자가 봤더니 질문과 문서 검색된 문서가 어 관련성이 있어요 그럼 패스했으니까 바로 답변 생성하러 갑니다 그러면 아무래도 할루스네이션이 나올 가능성이 많이 줄어들겠죠 자 그런데 질문과 문 검색된 문서가 있어요.이 같이 이제 넣으려고 평가자한테 저어봤더니 평가자가 보니까 어,이 질문에 답변하기 위한 내용이 검색된 문서에 없어요 그러면이 패스를 안 주고 페일을 준 다음에요 그다음에 쿼리 제작성을 요청을 하는 거예요 왜냐면은 이제 쿼리가 동일하면 결국에는 검색된 문서도 동일할 거잖아요 그래서 쿼리를 한번 바꿔 보는 거예요 그래서 제작성을 한 다음에 다시 질문을 하는 거예요 질문을 하고 문서 검색으로 하면 우리가 문서 검색할 때 들어가는 퀄리가 달라졌으니까 검색된 문서도 달라지게 되겠죠 그다음에 이제 원래 있던 질문이랑 관련성 평가를 하고 여기에다가 이제 뺑글뺑글뺑글 돌릴 수가 있는 거예요 이런 흐름을 만들 수가 있고요 자 그다음에 추가 검색기를 통해서 우리가 문맥을 보강을 할 수가 있는데요 어 질문이 들어오죠 그다음에 문서 검색을 합니다 그다음에 답변 생성까지 했어요 답변 생성까지 한 다음에 이번에는이 생성된 답변과 질문간에 어떤 할루스네이션 체크를 하는 거예요 혹은 검색된 문서와의 체크를 할 수가 있고요 릴러스 체크를 할 수가 있고요 그래서 관련성 평가를 요청을 합니다 요청을 했더니 평가자가 딱 봤더니 어 이거 보니까 검색된 문서 안에 정보가 없네.이 삼성전자의 매출액 정보가 문서 안에 없잖아 그러면 외 검색으로 가세요 그래서 외 검색을 수행한 다음에 어이 삼성전자 매출에 대한 내용을 검색을 한 다음에 그 내용을 보강을 해 주는 거예요 보강을 해서 보강된 문서 검색 문서를 가지고 답변 생성을 할 수가 있고요 또는 이럴 수도 있죠 평가자가 봤더니 아 이거는 질문이 너무 성의가 없다 너무 단초하네 이러면은 쿼리 제작성을 요청해서 다시 질문해서 다시 문서 검색을 유도할 수가 있는 거예요 혹은 내가 살펴봤더니 어 이거는 명쾌하네 하면은 패스를 주고 바로 답변 생성하러 갈 수도 있고요 요런 식의 흐름도 구성이 가능하고요 또 좀 더 복잡하게 가자면 이런 것들도 가능하죠 질문이 들어와요 그다음에 문서 검색을 했습니다 그다음에 평가자한테 줘요 그래서 평가자가 아 이거는 외 검색을 통해서 문서를 좀 보강해야겠습니다 요런 것들도 가능하고 아 이거는 쿼리를 재작성을 해야겠어요 다시 돌아가세요 이렇게도 가능하고요 혹은 평가자가 이번에는 패스를 줬어요 그래서 다음 단계로 넘어갔는데 답변 생성을 했는데 답변이 마음에 들지 않아 그러면은 왜 마음에 들지 않을까 이걸 다시 본 다음에 웹 검색으로 보낼 수도 있고 쿼리 제작성을 보내던가 만약에 통과를 했다면 이제 패스를 했으면 최종 답변으로 하러 가게끔 이렇게 평가자를 두 개 이상 노드로 구성을 해서 만드는 것도 가능하죠 지금 여기에서 제가 랭그래프의 몇 가지 예시를 보여 드렸는데요 지금 위에 방식이랑 아래 방식이랑 보시면 어떤가요 굉장히 다이나믹하다는 것을 알 수가 있어요 여기에서는 얘가 얘로 갔으면 얘 역할 끝나거든요 다시 돌아올 일이 없어요 그래서 우리가 한 번에 잘했어야 됐죠 하지만요 밑에처럼 구성을 하면요 꼭 한 번에 잘하지 않더라도 얘가 뺑글뺑글 돌면서 좀 정보들을 보강을 하거나 다 좋은 답변을 만들어 내기 위한 과정을 좀 더 어 사이클리컬하게 돌아가면서 구성을 할 수가 있다라는 거예요 그래서이 랭그래프의 어떤 다이나믹한 특성 때문에 우리가 플로우 엔지니어링을 통해서이 레그의 파이프라인을 좀 더 정교하게 만들어 낼 수가 있다 이렇게 말씀드릴 수가 있습니다 자 그래서 랭그래프로 구현한 예시를 보시면요 우리가 이렇게 흐름을 만들 수가 있어요 아까와 같은 예제인데 생성형 AI 가우스를 만든 회사에 2023년도 매출액을 알려줘 이거를 전달을 하죠 그래서 문서 검색을 합니다 어 그런데 생성용 AI 가우스는 삼성전자가 만들었다는 정보는 알겠어요 그런데 매출액 정보가 없네 그러면 추가 정보가 필요합니까?요 분기 노드를 태우는 거예요 그래서 필요하면은 예쓰면은요 왼쪽으로 가는 거죠 이걸 검색 쿼리를 작성을 합니다 그래서 인터넷에 검색에 용이한 쿼리 작성을 한 다음에 검색을 실행을 하고 검색된 문서를 여기다 추가를 해 주는 거예요 그러면요 파 파 파 파 파이프라인을 동일하게 타는 거죠 근데 그다음에 왔을 때는 어떨까요?이 정보가 지금 문서에 보강이 되어 있는 상태죠 그러면 생성 AI 가우스를 만든 회사는 삼성전자라는 정보도 알고 있고 그리고 우리가 이전 단계에서 인터넷에서 검색을 해서이 삼성전차의 매출액 정보도 가지고 있으니 결국에는 최종 답변을 만들 수가 있다라는 거죠 그래서 우리가이 아래쪽으로 쭉 길게 느려뜨리면서 아 이거 다음에 이거 이게 안 되면 이거 이런 식으로 막 복잡하게 구성할 필요 없이 중간에 분기 노드 그다음에 뭐 검색 노드 요런 것들을 추가해서 흐름만 잘 짜 주면 된다는 거예요 그래서 여러분들이 앞으로 남은 과정에서 결국에는 배우실 거는 뭐냐면이 노드을 만드는 방법 그다음에 엣지들을 연결하는 방법 그리고 분기 엣지를 만드는 방법 그래서 이렇게 흐름을 만들어서 세우는 방법만 아시면 결국에 얘가 알아서 이제 돈다라는 거죠 자 그래서이 랭그래프를 사용해서 저희가 앞으로 이런 흐름을 만들어 볼 거고요 이걸 잘 만들기 위해서는 여러분들이 몇 가지 용어들을 알고 계셔야 됩니다 일단 첫 번째로 제가 말씀드린 건 노드인데요.이 노드는이 후반부에 말씀드리겠지만 함수로 이루어져 있어요 결국에는이 파이썬 함수거든요 그래서 디파인 해 가지고 함수명 들어가고 입력은 이제 스테이트 그것도 이따가 말씀드릴게요 우리 상태가 입력으로 들어올 거고 그다음에 출력도 상태가 아웃으로 할 거예요 어쨌든 입력과 출력은 동일한 형태를 가질 거고요 결국에는 얘는 파이썬 함수로 구현이 될 겁니다 그러니까 우리가 파이썬 함수로 구현을 한다는 것은이 노드 내부를 여러분들이 자유자재로 구성할 수가 있다는 거예요 꼭 여러분들이 랭체인 문법을 쓰지 않아도 된다 어 나는 회사 내부에서 쓰는 DB를 조회하는 API가 있어요 그게 파이썬으로 구현이 되어 있어요 그러면 그거를 안 노드 안에 구성해도 얘는 잘 동작한다는 거예요 그래서 이제는 랭체인에 대한 디펜던을 많이 덜어낼 수가 있다 이렇게 보시면 되겠고요 결론은 뭐냐면 노드는 파이썬 함수로 이루어져 있고 그 노드의 로직은 여러분들이 정의를 하시는 거고요 그래서 요런 질문 노드 문서 검색 노드 답변 노드 요런 것들을 쭉 만드신 다음에 그다음에 여러분들이 해 주셔야 되는게 바로 엣지 구성이죠 여기 다음엔 여길로 가 여기 다음엔 여길로 가 여기 다음에는 분기 노드야 분기에서는 요런 상황에 따라서 예스일지 노일지에 따라서 요렇게 분기를 해 줘 요런 엣지들을 만드실 거고요 그다음에 상태 관리입니다 아,이 상태 관리가 랭그래프에서는 굉장히 굉장히 중요해요 굉장히 중요한데요 여기에서 미리 말씀을 드리고 후반부에 한 번 더 말씀을 드릴게요 자 여기에서 여러분들이요 노드라는 거를 만들어서 결국에는 다 독립적이게 만들어 줄 거예요 쉽게 비율을 들자면 뭐냐면 얘네들 하나하나가 각각의 회사라고 보시면 돼요 서로가 서로를 몰라요 그냥 전혀 남인 회사인 거예요 그런데 협력 관계에 있는 회사입니다 그래서 A 회사에서 B 회사로 이렇게 연결이 되어 있는데요 b 회사는 A 회사에서 어떤 일이 일어나는지 전혀 알 수가 없어요 그래서 A로부터 물건을 전달받긴 해야 되는데 A 회사에서 어떻게 처리를 해서 전달을 해 준다는 건지는 자기는 몰라요 그렇기 때문에이 노드와 노드 간에는 우리가 어떤 걸로 통신을 하냐면요 바로 스테이트라는 거를 통해서 통신을 하게 돼요 요거는 이제 메시지 전달자의 역할을 한다라고 보시면 돼요 그래서 이전에 A 회사에서 이런 거예요 어 내가 이번에는 질문이라는 걸 처리를 했어요 이거를 스테이트라는데 택배처럼 담아다가 B회사한테 전달을 해 주는 거예요 그럼 비회사가 이거를 택배 상자를 받아서 열어 봅니다 열어봤더니 아 이전 회사에서는 요거 질문을 처리를 해 줬구나 그러면 자기네들이 또 해야 할 일을 해요 그런 다음에 다시 택배 상자에 담은 거예요 그래서 B회사에서는 요로 요러한 처리를 했습니다 담아서 또 C 회사한테 주는 거죠 이렇게 어 각각의 노드들은 다 독립적인 관계이기 때문에 어 여기에서 어떤 일이 일어난지 모르기 때문에 우리가 스테이트 즉 상태라는 데에다가 각각의 노드에서 일어났던 그 결과물을 담아서 다음 노드로 전송을 해 준다 이렇게 이해를 하시면 되겠고요 그리고 lm을 활용한 워크플로우의 순환 연산 기능을 추가를 했어요 그래서 순환 기능이라는 건 뭐냐면 말 그대로 순환하는 기능이에요 이렇게 순환을 할 수가 있다라는 거고요 그다음에 순차적인 흐름에 따라서 진행이 됩니다 물론 나중에 병렬 처리도 가능하긴 해요 가능한데 기본적인 구조는 요거 다음에 요거 요거 다음에 요거 이게 갑자기 막 1번 2번 3번 4번 이거는 안 된다라는 거예요 그래서 어 이렇게 흐름이 순차적으로 일어나고요 그다음에 컨디셔널 엣지는 아까 말씀드렸던 분기 엣지가 있어요 그래서 어 얘가 처리를 했잖아요 그럼 처리된 결과물에 따라서 얘쓰일지 놀지 판단해 주고 그다음에 그 판단된 결과를이 컨디션 컨디션에 따라서 다음로드 어디로 가야 돼 어 이거 끝내야 돼 아니면 검색해야 돼 요걸로 연결해 주는 녀석이 바로 컨디셔널 엣지라고 보시면 되겠고요 그다음에 휴먼더 루 기능도 있어요 그래서이 노드에 도착을 하면 휴먼더 사람이 개입할 수 있도록 이렇게 허락을 해 주는 그런 기능이 있습니다 뭐 대단하게 어려운 기능은 아니고요 여기다가 이제 인풋 값을 줘 가지고 요거에 대해서 딱 노드에 도착하면은 사람이 그 노드에 관여을 할 수가 있어요 그래서 여기에 입력값을 조정을 하거나 아니면은 계속 진행할지 말지 여부를 사람이 판단할 수가 있어요 가령 분기 노드에 휴먼인더을 넣잖아요 그러면 추가 정보가 필요합니까를 사람한테 물어보게끔 구성할 수도 있는 거예요 그래서 사람이 보고 판단해서 어 그래 이거는 원래 없었지 하고 예스로 보낼 수도 있어요 이렇게 사람이 개입할 수 있는 기능들도 마련이 되어 있고요 그다음에 체크포인트 아 이게 정말 좋습니다.이 메모리와 체크포인터가 바로 과거의 실행 과정에 일어났던 그 내용들을 저장해 주는 역할을 하는데요.이 체크포인터 덕분에 우리는이 과거에 했던 대화 내용들을 기억을 하고 이걸 기반으로 멀티턴 대화 우리 대화가 싱글 턴이 아니라 그다음 대화를 했을 때 이어지는 거 우리가 멀티턴이라고 하죠 요런 것들도 체크포인터 때문에 굉장히 굉장히 쉽게 구현이 가능하고요 그리고 이전에 있었던 결과물에 대해서 수정을 해 주는 기능도 가능하고 리플레이 기능도 있어요 아 이거 너무 좋아요 여기까지 왔는데이 2번 단계에서 일어났던 결과물이 마음에 안 들어 그러면은 2번 단계로 리플레이를 할 수가 있어요 그래서 여기서부터 다시 실행이 되도록 그런 기능들도 어이 랭그래프에서 제공을 하고 있습니다 자 그래서이 주요 용어에 대해서는 말씀을 드렸고요 그러면 차례 차례 하나씩 하나씩 면m밀히 살펴보도록 LangGraph 세부 기능(State, Node, Edge, Conditional Edge, Compile) 하겠습니다 자 이번에는이어서 상태에 대해서 알아보도록 하겠습니다 자 첫 번째 상태죠 상태 매우 중요한데요 어,이 상태는 이전 영상에서 제가 언급해 드린 것처럼이 노드와 노드 간의 정보를 전달을 할 적에 바로이 상태라는 객체에 담아 가지고 전달을 합니다 그래서 정확히 말씀드리면은이 타입트라는 것을 상속받은 그래프 스테이트라는 곳에다가 우리가 필요한 정보들을 이렇게 담게 되는 거예요 담게 되는데 여기서 중요한게 우리가 그냥 일반 딕셔너리를 써도 되고이 타입딕트를 써도 되거든요 근데이 타입트라는 거에 대해서 많이들 생소하실 거예요 저도 사실이 랭그래프 쓰기 전에 파이썬 문법에 있지만 어 사실 자주 들여다보는 그런 문법은 아니었었습니다 그래서이 타입트라는 거는 일반 파이썬 딕트의 타이팅 기능을 추가를 한 개념이거든요 그래서 쉽게 얘기해서 그냥 딕셔너리라고 생각하셔도 되는데 그냥 딕셔너리에 우리가 키랑 밸류 쌍으로 이렇게 넣을 수가 있거든요 그래서 question에다가 지금 여기 보시면 리스트를 지정을 해 주고 그다음에 컨텍스트에다가는 문자열 뭐 엔서는 문자열 메시지는 리스트로 들어가야 되니까 리스트 이런 식으로 그냥 지정해도 되는데 앞에 보시면은 어노테이티드라는게 있어요 요거는 타이핑으로부터 임포팅을 해 주는 건데요 어노테이티드라는 뜻은 말 그대로 이제 주석이거든요 그래서 원래이 str을 주고이 str이 뭘 넣어 줘야 돼 그니까 정보들을 추가로 알려 주는 거예요 어노테이션을 통해서 그래서 컨텍스트라는 데에는 str이라는 문자 타입을 넣어 줘야 되고 그다음에 여기에서는 그냥 어떤 컨텍스트를 넣어 주면 돼 그다음에 엔서를 넣어 주면 돼 이렇게 지정하셔도 되는데 예외적으로 여기에 보시면 뭐가 있냐면 랭그래프의 그래프의 메시지에 애드 메시지스라는 리서라는 개념이 있어요 리서 리서도 되게 생소하시죠?이 이 리서는 뭐냐면 어이 리서라는 역할은요 조금요 다음 장에 한 번 더 자세히 설명드릴 건데 지금 리스트잖아요 근데 리스트면은 보통 우리가 메시지를 추가를 한다고요 뭐 가령 메시지스를 한번 볼게요 그러면 우리가 휴먼이 질문을 하고 AI가 답변을 하고요 그다음에 휴먼이 또 질문을 하고 AI가 답변을 해서 리스트 안에다가 메시지를 이렇게 쭉 쌓아 나갑니다 근데 여기에다가 어펜드라는 문법을 쓰는게 아니라이 하나의 리스트가 있고 덧셈으로 하나의 리스트를 이렇게 주기만 하면 그 반환값에 리스트를 주기만 하면이 어노테이션의 애드 메시지가 붙어 있으면 자동으로 기존 리스트에 추가가 되는 개념이에요 그래서 이거를 랭그래프에서 리서라는 걸 만들어 놓은 이유는 왜 그러냐면 어 이걸 편하게 하기 위해서요 어 퀘션 어 너 앞으로 애드 메시지 할 거지 추가 메시지 그냥 리스트 만들었으면 너 추가하는 기능금만 할 거잖아 그러면은 여기에다가 애드 메시지라고 지정을 해 놔 그럼 내가 알아찰게 그러면 네가 question션이라는 값을 반환을 해 주면 나는 그걸 덮어 씌우는게 아니라 리스트에다가 애드를 해 줄게 이렇게 되는 거예요 그래서 정리해 볼게요 어 우리 메시지로 예를 들면 만약에 여기에 1번 메시지가 들어가 있고 2번 메시지가 들어가 있어요 두 개 들어가 있죠 요렇게 들어가 있는데 여기에다가 어떤 노드에서 반환값이 3번 메시지를 반환을 해 줘요 만약에 애드 메시지가 없고이 리스트를 대입을 하면 어떻게 돼요 앞에 메시지가 날아가고 3번 메시지만 덩그런이 있죠 그럼 1 2번 메시지가 날아가게 돼요 근데이 리서가 이렇게 붙어 있으면 는이라는 걸 선언을 해서 넣어 주더라도 3번을 대입을 하더라도 메시지스에다가 이게 데입을 하더라도이 기존에 있던 메시지에다가 추가하는 기능으로 메시지를 추가를 해 줘요 그게 바로 리서의 역할이라고 보시면 됩니다 그래서요 다음 장에 한 번 더 설명 드릴 거고요 그다음에 또 하나 어 모든 값을 다 채우지 않아도 돼요 지금이 스테이트라는 것은 뭐냐면 노드와 노드 사이에 정보 전달을 할 건데 거기서 사용되는 키들은 이러 이러한 것들을 쓸 겁니다라는 사전에 정의를 하는 거예요 그런데 내가 처음에 질문을 했는데 당연히 컨텍스트 엔서 메시지 러스 없겠죠 없을 거예요 근데 이걸 꼭 채우지 않아도 된다는 거예요 이거 그냥 내비 두고 퀘션만 채워도 돼요 요거 두 개만 채워도 되고 그래서 모든 값 채우지 않아도 된다 그다음에 새로운 노드에서 값을 덮어 쓰기 방식으로 채워요 아 이게 참 좋은게 뭐냐면요 만약에 컨텍스트를 가져왔어요 문서 검색을 했어 근데이 검색된 문서가 마음에 안 들어 그러면 다시 재검색을 할 거거든요 그러면은이 재검색을 해서 여기다 넣어 주게 되면은 나중에 검색된 녀석이 기존값을 기본적으로 덮어 씌우기 하는 방식이 되는 거예요 여기에 있었던 애 애드 메시지스라는 리서는 덮어 씌우기가 아니라 자동으로 얘가 추가를 해 준다라고 했죠 근데 이렇게 리서가 붙어 있지 않는 일반적인 녀석 같은 경우에는 대입하는 방식으로 하면은 나중에 온값이 기존값을 덮어 씌우게 되는 거예요 그래서 요런 기능들이 있고 요거는 조금 있다가 제가 상태값의 이동 부분을 좀 더 자세히 설명을 드릴게요 어 리서 리서 많이 나오는데 많이 헷갈려서 다시 한번 짓고 넘어가면요.이 애드 메시지스 혹은 오퍼레이터 애드라고도 담겨 있거든요 예전에는 오퍼레이터 애드가 담겨 있었고 요즘에는 랭그래프에서 아예 출시를 해 버렸어요 그래서 애드 메시지라는 걸로 통영이 되는데 어테이티드에 타임 명시해 주고 오른쪽에다가 애드 메시지 하면 리스트에다가 메시지를 추가해 주는 개념이고요 기존 메시지에다가 병합할 메시지를 추가를 해 주는 개념이에요 그래서 어 여기에 예시를 하나 가지고 왔는데요 메시지 1번에요 휴먼 메시지가 들어가 있고 메시지 2번에 요렇게 들어가 있어요 그래서 애드 메시지 해 주면 어노테이트를 달아주면 요거를 달아주면 얘가 자동으로 어떤 기능을 수행하냐면요 다음 장에 나오는요 역할을 수행을 해 주는 거예요 그래서 원래 있던 휴먼 메시지에다가 나중에 온 AI 메시지를 추가해 준다 이걸 덮어 씌우는게 아니죠 메시지스 2가 기존에 있던 거를 대체를 하고 얘만 덩그런이 남는 그 개념이 아니라 기존에 있었던 메시지에다가 추가를 했기 때문에 이렇게 합쳐져서 보인다 요게 바로 리서예요 앞으로 리서 많이 나오니까 여러분들이 꼭 기억해 주셨으면 좋겠고요 그리고 다음으로는 이제 상태 이동인데 우리가 상태를 가지고 노드 노드 간의 통신을 한다라고 말씀을 드렸어요 그래서 노드 1번과 2번과 3번과 4번에서 각각의 작업이 일어날 겁니다 이렇게 일어나는데요 자 그런데 여기 보시면 노드 1번에 타임에다가 1을 대입을 했어요 그리고 LM에다가는 GPT를 넣었어요 자 여기에서 이제 작업이 다 끝났어요 작업이 다 끝나고 마지막으로 타임에다가 1 기입하고 LM에 GPT 기입하고 끝났어요 그러면 노드 2번 전달했죠 2번은 아까도 말씀드렸지만 어떤 식으로 되냐면 노드 1에서 어떤 일들이 일어났는지 노드 2는 전혀 알지 못해요 그래서이 상태값에 담아서 전달을 해 주는 거거든요 전달 받았어요 노드 2에서 뭐 참고할 정보 참고해 가지고 작업을 했어요 그리고 작업이 다 끝났으면 상태에다가 내가 작업을 어떻게 끝냈는지 적어 줘야 돼요 그래서 타임은 2 네임에다가는 테디 lm에다가는 GPT를 아 LM은 지금 기비를 안죠 빨간 것만 기입을 해 줬습니다 자 그러면 어떻게 된 거예요 지금 노드 2에서 타임에다가 2라는 값을 새롭게 덮었었죠 근데 이전에 노드에서 1이 있었잖아요 원래 있었던 값은 날아가고 새로운 값이 덮어신 거예요 어 그런데 네임이라는 값은 원래 없었죠 그래서 새로운 값 넣었으면 어떻게 되는 거예요 얘는 그냥 새롭게 들어온 값이죠 그러면 노드 2에서 보시면은 새로운 값이 이렇게 들어갔어요 그럼 기존값을 덮어 씌우는 애도 있고 새롭게 들어온 녀석도 있어요 그러면 노드 3번에 보자고요 3번에 보시면은 기존에 마지막으로 덮었었던 값이 어때요 그대로 남아 있어요 유지되면서 3번에서는 타임을 3만 업데이트를 해 주는 거예요 그리고 4에서 마지막으로 네임까지 바꿨네요 그러면 최종적으로 노드 4가 끝나고 난 다음에 상태값을 열어 보면 어떻게 돼 있다 여기에 있는 상태값이 그대로 남아 있는 거예요 그래서이 상태 전달이라는 거는 굉장히 유용해요 왜냐면 노드와 노드 간의 어떤 프로세스를 거침에 따라서 우리가 상태를 업데이트해야 될 일이 있고 추가해야 될 일이 있는데 그게 계속 유지가 되면서 그대로 전달이 된다라는 점이 굉장히 유용한 부분 중에 하나예요 자 그래서 노드별 상태값의 변화를 보시면요 우리가 실제 레그 사례를 보시면 question이 들어왔죠 그래서 캐천에 질문 1이 들어왔어요 그다음에이 질문 1을 가지고 문서 검색을 합니다 근데 노드 2에서 얘가 검색하는 노드거든요 그 검색을 하려면은 question이 필요하잖아요 근데이 question 정보를 어떻게 가져왔어요 상태값을 열어 보니까 질문 1이 담겨 있죠 왜 유지가 되는 거니까 그래서 1에서 질문을 넣어주고 상태값에 질문을 넣어 줬잖아요 전달했어요 그러면 어 1번 노드에서 질문 기입해 줬네 요거를 꺼내서 질문 1을 가지고 검색을 수행하는 거예요 검색해서 검색된 문서 이번에 기입해야겠죠 컨텍스트에다가 기입해 주는 거예요 그러면 우리가 지금 두 개가 업데이트 돼 있네요 문서 1이랑 질문 1 그다음에 엔서 노드로 전달을 합니다 그러면 엔서 노드에서 문서 1이랑 질문 1이 그대로 담겨 있죠 지우지 않았으면 요대로 담겨 있어요 그다음에 엔서 노노드에서 문서와 검색된 문서와 질문을 가지고 이제 답변을 받는 거예요 답변을 받았으면 답변을 엔서에다 적어요 그다음에 이밸류에이트 평가하는 노드에서이 문서 질문 답변을 가지고 평가를 해 보는 거예요 근데 평가가 아쉽게도 스코어가 배드가 나왔네요 베드가 나왔을 경우에 그러면 우리가 뭘 할 수 있어요 여기에서 이제 세 가지 방식을 선택할 수가 있는 거예요 어떤 식으로 갈 수가 있냐면이 스코어가 베드니까 이걸 그냥 내보낼 수 없잖아요 우리 고객한테 그래서 베드가 나왔으면 우리가 4번이 판단하는 거예요 아 이거 베드 나왔으면 내가 봤을 때 질문이 잘못됐다 하면은 1번 노드로 보내는 거예요 혹은 아 이거 내가 봤을 때 문서 검색이 잘못됐다 2번 노드로 보내는 거예요 혹은 아 이거는 엔서가 잘못 출력이 됐다.요 두 개는 문제가 없다 이러면은 3번 노대로 보내는 거예요 그래서 이렇게 선택해서 뒤로 빠꾸시킬 수가 있는 거예요 그래서요 다음에 보면은 만약에 질문을 제작성 요청을 했을 때에는이 아까 여기에선 배드가 나왔잖아요 그러면은 질문 자체가 잘못돼서 지금 그런 거니까 얘를 1번 노드로 다시 보내는 거예요 그래서 오면은 질문은 제작성을 하죠 그럼 원래 기존에 어떤 값들이 들어가 있었을까요 문서 1 질문 1 답변 1이 있었는데 질문 제작성 했으니까 질문만 갱신이 되는 거죠 자,이 질문이 갱신이 되면 우리가 왼쪽에서 오른쪽 순서대로 가잖아요 그럼 순차적으로 질문이 바뀌었으니까 리트리브 노드에서 문서 검색도 바뀌게 되죠 왜냐면 질문이 검색이 들어가는 거니까 그럼 문서도 갱신이 됐죠 그다음에 질문과 문서가 갱신이 됐으니까 엔서도 자연스럽게 갱신이 돼요 그러면 엔서의 품질이 좋아졌겠죠 다시 평가를 해 보니까 굿이 나오는 거예요 만약에 이게 또 배드를 맞으면 또 이걸 반복할 수가 있는 거고요 그다음에 노드 2번을가 보면 문서 검색을 제욕청하는 것도 있어요 만약에 얘가 판단을 내렸는데 질문 자체에는 문제가 없어요 근데 검색된 문서가 별로야 그래서 다른 리트리버 알고리즘을 쓰든 해서 다시 검색을 합니다 그러면 질문은 그대로 남아 있잖아요 그렇죠 요걸 거치지 않았으니까 그래서 문서만 지금 갱신이 일어났고요 그다음에 갱신된 문서를 가지고 지금 문서 바뀌었고 그다음에 퀘션은 질문 그대로 있 문서가 바뀌었으니까 답변도 바뀌겠죠 그럼 답변이 업데이트가 됐어요 그러면은 요거를 가지고 최종 평가를 하는 거예요 개선된 답변을 가지고요 평가를 했더니 이번에는 9시 나왔다 이런 거죠 자 그다음에 3번 노드를 보시면은 얘가 평가를 해 보니까 질문도 문제가 없어 검색된 문서도 괜찮아 근데 LM이 좀 답변을 잘못한 거 같아요 그래서 어 얘 같은 경우에는 다시 돌아가서 다시 답변을 만들도록 하는 거죠 그래서 답변이 갱신이 일어났고요 답변이 2가 됐죠 새로운 답변을 받았어요 근데 여기 보시면 스코어가 그대로 남아 있죠 왜 6번 다음에 5번으로 왔으니까 빠꾸한다고 스코어 개입한게 삭제되는게 아니에요 사실 엄밀히 따지면 1 여기가 이렇게 되는 거죠 1번 2번 3번 4번 노드까지 오고 그다음에 5번 6번이니까 4번 상태에서 스코어를 기입을 했잖아요 베드로 그러니까 여기로 왔겠죠 그래서 배드 스코어는 이번에는 남아 있는 거예요 그리고 답변은 갱신이 일어났고 그다음에 갱신된 답변 가지고 다시 평가를 하니까 붓이 나왔다 이런 겁니다 그죠 그래서 이런 식으로 랭그래프를 쓰면요 내가 원하는 방식에 따라서 이렇게 유동적으로 흐름을 바꿀 수가 있는 거예요 자 그다음에 노드와 H 보겠습니다 노드와 H엣는 정말 간단한데요 노드는 우리가 앞으로 많이 만들어 볼 거예요 왜냐면 여러분들이 이제 랭그래프를 쓰다 보면 아직 생소해서 그렇지 사실 랭그래프라는 문법은 어려운게 아니에요 굉장히 쉬워요 다만 뭐가 어렵냐면 여러분들의 결국의 핵심 로직에 어 해당하는이 함수를 만드는게 어렵다 이게 어렵다라는 표현보다는 사실 어 많이 좋은 품질의 노드를 만드는게 중요하게 되는 거죠 어 그래서 여러분들이 함수들을 많이 만드실 거예요 그래서이 노드가 지금 보시면 이전에도 보면요.요 단계가 세부 단계로 나뉘어질수록 그러니까 더 작은 단위로 갈수록 더 유리해요 내가 더 정교한 튜닝이 가능하고 더 정교한 흐름을 만들 수가 있어요 그래서 여러분들이 앞으로 집중하셔야 될 거는 내가 좋은 노드들을 만드는 것 결국에는 노드는 뭐냐면 파이썬 함수를 이루어졌기 때문에이 함수 안에 내용을 채우는게 중요한 거죠 그래서 여러분들이 여러분들만의 노드를 많이 가지고 계셔야 돼요 자 그러면이 노드를 어떻게 만드느냐 노드는 함수로 만든다라고 했죠 근데 노드 생각해 보세요 이전 단계에서도 보면 상태를 입력으로 봤잖아요 우리 노드 2번의 입장에서 볼까요 이전에 작성된 상태값을 전달받죠 전달받는 게예요 그다음에 얘가 작업이 다 끝나면 상태에 적어서 상태를 주거든요 그러니까 결국에는 스테이트라고 하는 상태를 입력으로 받아서 상태를 내보내는 거 입력이 상태 출력도 상태 요게 되는 거예요 요게 기본 구조예요 간단하죠 그래서 여기 보면은 입력이 상태 상태를 입력으로 받아서 필요한 정보들을 상태로부터 꺼내서 쓰는 거예요 얘 어차피 딕셔너리니까 그냥 킥업 가지고 꺼내면 되는 거예요 그래서 내가 필요한게 question션이다 이런 식으로 킥합 가지고 조회해서 꺼내면 되는 거예요 그럼 question이 꺼내지는 거예요 그다음에 내가이 question션 키를 꺼내서 리트리로버로부터 검색을 했어요 그럼 검색대 문서가 나오죠 이것도 상태에 담아서 보내는 거야 어 그냥 검색했다 하고 끝나는게 아니라 상태에 담아서 보냅니다 이것도 그래프 스테이트에 내가 담아 줄 키에다가 대입해서 이렇게 보내면 되는 거예요 그래서 여기 보면은이 문법이 뭐예요 입력도 상태 출력도 상태라는 말이에요 그래서 상태를 입력으로 받아서 이걸 가지고 처리해서 결국에는 반환값도 상태가 돼야 되는 거죠 그래서 요것만 잘 기억해 주시면 되겠고요 그다음에 어 노드를 추가하는 방법은 이런 식으로 추가를 합니다 우리가 애드 노드 애드 노드라는 걸 통해서 왼쪽에 들어오는 건 일반적으로 문자열인데 한글로 적지 마시고 영어로 적는게 좋아요 물론 한글도 인식을 하긴 합니다 근데 오류가 발생할 수 있으니 그냥 쉬운 영어로 적어 주시는게 좋아요 일반적이고요 그다음에 오른쪽에다가는 함수명을 적어 주시면 돼요 그래서 이전 단계에서 내가 요런 리트리브 도큐먼트라는 노드를 만들었잖아요 그러면이 리트리브 도큐먼트라는 노드를 여기다가 이렇게 넣어 주시기만 하면 돼요 그럼 노드 바로 추가된 겁니다 자 그래서 여기 리트리브 도큐먼트 있고 LM 엔서 노드가 있었죠 그러면 리트리브라는 어 노드의 이름을 지어 주는 거고요 오른쪽에다가는 함수를 넣어 주고 LM엔라는 이름에 LM엔 M 함수명을 넣어 주시면 됩니다 자 다음으로는 엣지예요 우리 노드를 만들었어요.요 리트리브 문서 검색을 하는 노드도 만들고 LRM 엔서 노드도 만들고 관련성 체크를 하는 릴러스 체크라는 노드로 만들었어 이렇게 노드만 덩그런이 있으면 동작하지 않겠죠 그다음에 더 재미난 거 여러분들이 흐름을 만드셔야 돼요 그래서 노드 어떤 노드에서 어떤 노드로 갈 것인가 어떤 노드에서 어떤 노드로 갈 것인가를 여러분들이 만드는 거예요 이걸 정의해 주는 겁니다 그래서 애드 엣지라고 해서 엣지는 항상 두 군데 왼쪽에서 오른쪽으로 적는데 얘가 프롬이고 얘가투예요 그래서 리트리브에서 LM 엔서로 간다 그다음에 llm 엔서에서 렐러스 체크로 간다 이렇게 흐름 정의만 잘해 주시면 되고 어 렐러스 체크한 다음에 나는 무조건 이거 말이 안 되겠지만 이러면 순환 로즈가 걸리겠죠 그렇지만 그냥 예를 들어 볼게요 만약에 렐러스 체크해서 나는 리트리브로 보내고 싶다 그러면 여기에다가 애드 엣지 한 다음에 렐러스 체크 렐러스 체크로부터 쉼표하고 리트리브 문자열 적어 주시면 돼요.이 문자를 어디서 적용했다고요 이전에 노드 여기에서 적용을 해 준 거죠 애드 노드에서 요런 식으로요 적용을 해 줬습니다 그래서요 노드 명을 가지고 애드엣를 통해서 프롬투로 연결해 주시면 돼요 자 그다음에 정말 많이 쓰는이 조건부 엣지예요.이 조건부 엣지가 너무 좋은 기능이에요 우리가 가끔 가다가 레그 파이프라인을 만들면 여기에서 어 조건에 따라서 분기문 뭐 라우팅을 라우팅을 줄 수도 있고요 그런 것들을 수행할 때가 있어요 그래서 우리가 조건부 엣지를 많이 쓰는 경우가 언제냐면 llms 저지를 가지고 답변에 대한 평가를 수행한 다음에 평가가 원래 우리가 기준으로 세워 놓은 점수에 못 미치면 못 미친다면 만약에 뭐뭐 한다 면이 붙으면 그럴 때 조건부 엣지를 쓸 수가 있는 거예요 그래서 평가를 측정을 하고 만약에 못 미친다면 이제 다른 데로 보내면 되는데 지금 여기에 보시면이 렐러스 체크에서 나온 결과죠 요게 프롬이에요 프롬인데요 나온 결과를 그다음 인자인 함수한테 전달을 해 줘요 그래서 만약에 릴러스 체크를 하고요 하고 그다음에요 노드의 결과물을 이러트한테 전달을 해요 얘도 함수거든요 그래서 예보로 판단을 해요 그러면은 얘가 판단을 내렸는데 그라운디드라는 애를이 함수가 만약에 반환을 해줬어요 그러면 그라운디드라는 거는 관련성이 있다라고 나온 거니까 끝내 주면 돼요.요 D 노드 D 노드는 끝내 주는 노드입니다 끝 끝 끝이라는 뜻이에요 그다음에 notounded나 아니면 not라는 결과값이 나오면 다시 어디로 보내는 거예요 llm엔서라는 것으로 보내는 거죠 그러면 얘가 다시 빠꾸를 해 가지고 거기서부터 다시 돌기 시작하는 거예요 그래서 이런 식으로 우리가 맵이라고 하는데요 패스맵 그래서 우리가 나온 노드 그다음에 전달을 해서 패스맵을 통해서 얘가 어디로 가야 할지 방향성이 달라지게 되는 거예요 그래서 요런 식으로 어 정해져 있고요 여기 노드 이름과 조건부 판단 함수가 들어가고 다음 단계로 결정하는 거 요거를 꼭 기억해 주시면 되겠습니다 저희가 실습할 때 분기문 정말 많이 쓸 거예요 자 그다음에 우리가 시작점을 지정을 해야 돼요 만약에 여러분들이 이렇게 노드 설계를 했는데 시작점을 이걸로 설정을 했다 그러면은 에러가 발생을 해요 여기는 도달할 수가 없다 요런 에러가 발생을 합니다 그래서 시작점을 잘 설정을 해 주셔야 되고요 요거를 셋 엔트리 포인트로 지정할 수가 있어요 그래서 리트리브 노드로 시작점을 설정하면 우리가 질문이 들어가면 여기서부터 시작을 하게 되는 거예요 그래서 시작점은 셋 엔트리 포인트 요걸 기억해 주시고요 자 그다음에 이제 거의 다 왔습니다 그래프 생성하는 쪽이고요 어 우리가 생성을 할 적에는 여기에 컴파일만 사실 주시면 되거든요 이거 없어도 돼요 요거 없어도 되고 워크플로우에 컴파일을 주면 생성이 돼요 생성이 되는데 우리가 앞으로 메모리라는 걸 많이 쓸 거예요 메모리를 왜 쓰느냐 메모리는 기억 저장 용도예요 그래서이 체크포인트라는 걸 써야 뒤로 빠꾸를 시키던가이 스냅샷이라는 걸 활용해서 뒤로 되돌리기가 가능해져요 그래서 우리는 앞으로이 메모리라는 기억 기능을 쓸 거다 그다음에 나중에 멀티턴 대화를 할 때도이 메모리라는 기능이 유용해요 그래서 앞으로 거의 대부분의 그래프를 만들 때에는 바로 메모리 메모리라는 거를 써 가지고 체크포인터에다가 메모리를 넣어 줘서 수행을 하게끔 만들어 주도록 하겠습니다 자 그다음에 그래프 시각화인데요 사실 요거는 제가 나중에 따로 보여 드릴 거예요 더 간단하게 시각화할 수 있는 로직을 넣어 놨고요 우리가 개크래프해 가지고 디스플레이를 실행을 한 결과를 보시면은 드로움 멀이드 편지를 통해서요 API 방식이거든요 그래서 실제로 통신이 이루어져야 돼요 그래서 인터넷이 끊긴 상황에서는 동작을 안 하더라고요 물론 로컬로 할 수 있는 방법도 어 제공을 해 주긴 합니다 근데 요거는 이제 돈이 안 드는 거니까 인터넷만 연결되어 있으면 되고요 요거를 호출해서 결과를 받으면 요런 식으로 그래프를 그려 줘요 그래서이 시각하는 저도 무조건 해 보는데 우리가 이전에 보셨던 것처럼 막 노드 만들고 이런 식으로 노드 만들고 노드 연결치잖아요 근데 이게 코드로 이렇게 들어가 있으면 되게 헷갈려요 어디서 어디 흐름으로 가는지 헷갈려요 그래서 거의 대부분의 케이스에서는 꼭 시각화를 해서 확인을 해 보고 간다 시각화해 보면 되게 잘 나와 있어요 스타트 해서 리트리브 가고서 가고 관련성 체크해서 확인 불가능 관련성 없으면 빠꾸 하고 있으면은 엔드하고 이런 로직을 우리가 한 눈에 볼 수 있어서 굉장히 유용하다고 볼 수가 있습니다 자 그다음에 이제 그래프 실행하는 부분인데 실행해서 결과 볼 때 사실 인보크 하는 것도 있고 그다음에 나중에 스트리밍 토큰 출력하는 것도 있거든요 근데 우리가이 랭그래프에서는요 중간중간에 LM이 또 여러 개 관여할 수가 있어요 그리고 LM은 스트리밍 토크 출력을 허용하잖아요 그래서 중간중간마다 스트리밍 하는 방법도 있어요 그것도 차차 알려 드릴 건데 근데 여기에서 먼저 쉽게 말씀드린 거는 이제 인보크 상태부터 먼저 말씀을 드릴게요 우리가 체인에 인보크를 해서 결과를 받을 수 있듯이 그래프도 마찬가지로 인보크를 날려 가지고 결과를 받을 수가 있는데 여기에 지금 넣어 주시는 걸 보면은 인풋트의 그래프 스테이트를 넣어요 그래서 우리가 상태값에다가 초기에 전달할 내용을 담아서 애초에 담아서 왜냐면은 첫 번째 만난 애도 노드예요 그러니까 노드는 입력을 상태로 받아야 돼요 스테이트로 받아야 되기 때문에 상태에 담아서 전달을 해 주는 거예요 전달을 하고요 그다음에 여기에 보면은 컨피그에 러너블 컨피그라고 나와 있죠 이거는 이제이 그래프를 실행함에 있어서 어떤 컨피그 값을 넣어 주는 건데 우리가 크게 리컬션 리미트랑 쓰레드 아이디 요거 두 가지를 설정을 해 줄 겁니다 리컬션 리미트라는 건 뭐냐면 얘가 순환 로직에 걸릴 수가 있어요.이 순환 로직이라는 건 뭐냐면요 이전으로 돌아가면 만약에 우리가 이런 흐름을 만들었잖아요 요거보다 좀 더 단순한 걸 한번 볼게요 이런 흐름을 만들었어요 근데이 문서 검색된 결과가 계속 별로일 수 있잖아요 그럼 이거 뺑글뺑글 돌아요 계속해서 시간 지연되고 토큰이 관여하면은 토큰도 계속해서 비용 발생할 수 있겠죠 거지 될 수 있습니다 그래서 이런 순환직에 빠지지 않기 위해서 우리가 일반적으로 리컬션 리미트라는 걸 걸어요 그래서 몇 회 정도까지만 얘가 실행할 수 있다라는 그 리미트를 주는 거예요 그래서 13인 경우에는 총 13개의 노드까지 실행하는 겁니다 그러니까 한 번 그 순해를 하는 거를 1로 카운트하는게 아니라 1번 노드 갔으면 1 1번에서 2번 갔으면 2 두 번 세 번 이렇게 해서 총 13개의 노드까지 방문을 할 수 있다라는 뜻이에요.이 리커션 리미트를 여러분들이 뭐 더 늘릴 수도 있죠 뭐 100개 200개 이렇게 늘리셔도 됩니다 그렇게도 가능하고 그다음에 컨피어러블에 보시면 쓰레드 아이디라는 걸 주는데요 쓰레드 아이디가 또 중요해요 이게 왜 중요하냐면 나중에 멀티턴 대화를 할 적에이 쓰레드 아이디별로 대화 내용을 따로 구분해서 저장을 해요 예를 들어서 제가 처음에 왔을 때 대화 내용을 저장을 해요 그 쓰레드 아이디를 만약에 1번이라는 아이디에다가 저장을 했어요 근데 내가 새롭게 대화창을 만들었어요 그 그 대화창은 쓰레드를 2번으로 했어요 그러면 1번까지 했던 대화 내용은 1번 안에만 저장이 되고 새롭게 만든 쓰레드 2번의 대화는 처음부터 시작을 하는 거예요 이렇게 하다가 어 나 다시 1번으로 돌아가야 되는데 하면은 쓰레드 아이디를 다시 1번으로 주면은 이전에 저장했던 1번의 어 최근 메시지부터이어서 진행을 할 수가 있어요 그래서이 쓰레드라는 개념이 굉장히 편해요 그냥 우리가 카톡으로 따지면은 카톡의 어떤 그 단톡방의 개념이라고 보시면 돼요 그래서 각각의 개별 방이 있고 그 쓰레드 아이디를 활용해서 왔다 갔다 할 수가 있어요 굉장히 편리한 기능이고요 자 그다음에 이제 결과 확인인데 결과 확인은 나중에 겟스테이트라는 걸 통해서 결국에는 마지막 노드가 출력해내는 것도 스테이트예요 처음부터 끝까지 다 스테이트예요 그래서 출력된 스테이트를 받아서이 상태를 받아서요 어,이 상태 값의 question션과 엔서와 릴러스를 찍어 보면 마지막으로 저장된 상태를 확인해 볼 수가 있어요 결국엔 이런 거예요 여기 또 돌아가서 보면은 우리가 이런 식으로 이제 진행이 되잖아요 만약에 1 2 3 4번까지 왔어요 그러면 마지막에 나왔던 여기서 4번하고 끝났다라고 가정해 볼게요 그러면 상태값에요 내용이 그대로 저장이 되 있는 거예요 그럼 마지막에 있는 엔서를 꺼내면 거기에 최종 답변이 담겨 있는 거예요 그런 컨셉이라고 보시면 되겠습니다 자 그래서 여기까지 이제 어 전부 다 봤어요 그래서이 이후의 내용부터는요 저희가 실습 파일을 가지고 직접 확인해 보고 그다음에 각각의 스테이트나 노드나 엣지 만드는 거 요런 것들도 좀 더 면밀히 보면서 실습하면서가 보도록 LangGraph 로 자유롭게 그래프 로직 구성(흐름 엔지니어링) 하겠습니다 네 안녕하세요 여러분 이번 시간부터는 우리 랭그래프의 스트럭처스 폴더에서 진행을 해 볼 거예요 여기 보시면은 지금 1번부터 7번까지 들어가 있거든요 그런데 1번은 저희가 이제 기본 그래프를 생성하는 내용들을 먼저 보실 거예요 그래서이 기본 그래프를 생성하는 과정에서 먼저 스테이트 정의를 하고 노드 정의를 하고 그래프 정의를 하고 컴파일하고 시각화하는요 과정들 있죠?요 요 과정들에 대해서 쭉 한번 톱아보는 그런 과정이에요 그리고 2번부터 시작해서 5번까지는 사실 하나의 파일로 보셔도 되는데 제가 일부러 단계별로 좀 쪼개 놨습니다 그래서 이렇게 쪼개서 보시면 되고 6번은 에이전트 레그에 대한 부분 그리고 마지막으로 아댑티브 레그까지 이렇게 쭉 보는게 2번 스트럭처스 폴더예요.이 이 이번 스트럭처스 폴더는 저희가 기존에 알고 있던 어떤 라이브 레그서부터 어드벤스트 레그까지의 과정을 이제 그전에는 랭체인의 LCL 문법으로 진행을 했다면요 지금은 랭그래프를 사용해서 이걸 구현해 볼 거다 이렇게 이해를 하시면 되겠습니다 그래서 사실 1번 파일에 대한 이해만 잘 되시면 2번부터는 자연스럽게 물 흐르듯이 아마 진행이 될 거예요 그래서 한번 같이 보실 건데요 먼저이 기본 그래프 생성 파트입니다 01번 파일을 열어 주시면 되고요.이 파일을 보시면서 여러분들이 같이 열어 두셨으면 하는 부분이 뭐냐면 바로이 PDF 파일입니다 제가이 PDF 파일을 같이 드렸는데요.이 PDF 파일 쪽에 보시면은 이제 상태 부분이죠 상태 부분에 대한 설명과 그다음에요 뒤에 나오는 내용들 요런 내용들을 같이 보시면은 도움이 되실 것 같아요 그리고 혹시나 어 내가 이거 PDF 파일 처음 보고이 강의 내용 안들은 거 같은데 하시면은 이전 챕터로 돌아가셔서요 처음에 보시면은이 PDF 자료를 가지고 개요 설명드리는 부분이 있거든요 그거를 꼭 이해를 하시고 오시는 것이 좋습니다 자 그러면 바로 한번 들어가 보도록 할게요 먼저 기본 그래프 생성입니다 이번 튜토리얼에서는 랭 그래프를 사용해서 그래프를 생성하는 방법을 배우실 거고요.이 그래프를 정의하기 위해서는 크게 1번부터 5번까지요 내용을 꼭 기억하셨으면 좋겠습니다 먼저 스테이트 정의가 들어가고요 그다음에 노드 정의 그래프 정의하고 컴파일 한다면 시각요 과정만 쭉 진행하시면 되는 거예요 자 그래서 우리가 밑에 보시는 거와 같이 요것처럼 다소 복잡해 보이는 이런 구조를 만들어 줄 거예요.이 구조에 대한 설명을 간략히 드리면 먼저 문서로부터 리트리브를 합니다 디트리브를 해서 GPT로도 요청을 하고 클로드도 요청을 할 수가 있죠 이렇게 병렬로 요청을 해서 각각의 답변을 받은 다음에이 결과를 한대 묶어 주는 거예요 그래서 두 개의 답변 형식이 다를 건데 두 개의 어떤 이점들을 뽑아낼 수도 있고요 아니면 두 개를 각각 나중에 평가를 해서 더 좋은 답변을 선택해서 가져가는 것도 가능하겠습니다 그리고 결과 종합을 했는데 만약에 답변이 별로다 하면은 리라이트 커리를 해서 다시 리트리브를 해서이 과정을 이렇게 순해 두는 거 요런 것들도 물론 가능하겠죠 자 그래서 요거를 만들어 볼 건데요 저희가 이번 파일은 안에 들어가 있는 내용이 없어요 그 말은 뭐냐면요 밑에 내용이 보시면 함수의 내용들이 전부 다 비어져 있죠 이렇게 간단하게만 나와 있습니다 이유는 우리가 안에 있는 복잡한 코드들이 들어가 있으면 큰 그림을 잡기가 좀 어렵더라고요 그래서 소위 말하는 저희가 수도 코드라고 하죠 그러니까 여기에서 나중에 검색된 문서를 구현을 할 거야 혹은 검색을 구현할 거야 llm 실행 구현할 거야 이렇게 가정을 해 보는 겁니다 안에 내용은 비어져 있고요 하지만 여러분들이이 큰 그림을 얻어 가신 다음에 이제 그래프 설계하고 실행까지 하셨으면 나중에는이 뼈대 코드를 토대로 안에 있는 내용들만 채워 주면 되는 거죠 그래서 이번 시간에는 저희가 큰 그림을 먼저 보실 건데요 그중 첫 번째가 바로 스테이트 정의입니다.이 스테이트 정의는 타입드디디트를 상속받아서 구현을 하는데 어 이전에 제가 개요 시간에도 말씀드렸던 거 같은데이 타입디트라는 말이 나와서 이게 생소해 가지고 어 나 괜히 어려운 거 같다 이렇게 생각하시는 분들 꽤 많거든요 근데 그러실 필요 없다 딕셔너리에요 딕셔너리고 여기 왼쪽에 들어가는게 키고 오른쪽 들어가는게 밸류죠 그런데이 밸류에서 타입을 명시해 주는게 바로 타입 딕트입니다 그래서 여기에 컨텍스트에다가 내가 파이썬 같은 경우에는 아무런 데이터 타입이나 다 허용을 하니까 여기에 문자율도 들어갈 수가 있고 뭐 리스트 도큐먼트가 들어갈 수도 있고 여러 가지 형태가 들어올 수 있는데 이걸 타임 명시를 안 해 버리면은 얘가 알 수가 없어요 아 여기에 문자율이 들어올 건가 여기에 리스트 도큐먼트가 들어올 건가 알 수가 없는 거죠 근데 우리가 이거를 타이핀을 통해서 이렇게 미리 정의를 내려 주게 되는 거예요 여기 보시면은 걸 가져와서요 이건 명시해 주는 걸 의미합니다 그래서 어테이티드 한 다음에 대가로를 쓰고 그다음에 왼쪽과 오른쪽으로 이렇게 구분해서 보시면 되는데 왼쪽에다가는 이렇게 타입을 적고요 요렇게 그다음에 오른쪽에다가는 이제 문자율로 적을 수가 있어요 여기 부분도 지금 뭐가 조금 다른데요 컨텍스트 부분에 오퍼레이터 애드로 이렇게 다 들어가는게 아니라 문자율로 적어 줄 수 있습니다 그러니까 설명구를 달아 줄 수 있다는 뜻이에요 우리가 어노테이션 하면은 주석이잖아요 그래서 주석을 달 수도 있고 이런 리서라는 함수도 달아 줄 수가 있습니다 우리가 리서 함수도 이전 챕터에서 보셨죠 그래서 그 내용을 한번 보고 오시면 좋을 것 같아요 만약에 내가 바이너리 스코어에다가이 리스 함수를 맵핑하지 않고 그냥 요거는 바이너리 스코어다 이렇게 넣어도 되고요 스코어예 or노 뭐 이런 식으로 커멘트를다는 것도 가능하다라는 거죠 여기에 예를 들면 answer to the question 이렇게 넣는 것도 가능하고요 그다음에 여기도 reteved docum먼트 이런 식으로 적어 주는 것도 가능하죠 그리고이 오퍼레이터 애드라는 부분은요 리스트에다가 엄밀리 따지면 적어 줘야 돼요 그래서 우리가 굳이 이거를 쓴다라고 하면은 오퍼레이터 리스트니까 얘도 오퍼레이터점 애드를 쓸 수가 있는데 문자열에는 안 돼요 문자열에는 안 되기 때문에 여기에서는 엄밀히 따지만 이게 쓸 수가 없어요 그래서 이게 잘못 나온 거죠 여기에다가는 SQL 쿼리 그리고 얘도 뭐 퀘션 이런 식으로 유저 퀘션 이런 식으로 한번 적어 볼게요 자 좋습니다 이렇게 쌓 봤고요 저희가이 타입드를 상속받은 그래프 스테이트라는 거를 정의를 해 줬고 여기에 있는 키들만 저희가 활용을 할 건데 나중에 키가 추가가 될 거면 어떡하냐 그러면은 나중에 그래프 스테이트에다가 여기다가 더 추가해 주시면 되는 거예요 그런 것들도 물론 가능합니다 자 이걸 실행해 보고요 그다음에 노드 정의하는 부분 올게요 자 우리가 노드를 정의할 때는 기본적으로 함수 구조를 가진다 우리 장표에서도 한번 볼까요 노드를 어떻게 정의했는지 자 노드 정의할 때 저희가 함수로 정의한다라고 했었어요 나중에 물론 우리가 더 나아가서 클래스를 상속받는 구조로 만드는 것도 가능합니다 하지만 우리는 아직 입문 단계이기 때문에 먼저 함수로 구현하는 방법을 보시면 되고요 내가 함수로 잘 구현을 한다 하면은 그다음 단계로 넘어가는 거는 너무나도 쉬워요 그래서 먼저 여러분들 함수를 보시면 되는데이 함수의 이름도 잘 적어 주시는게 이왕이면 좋고요 그다음에 입력으로 들어오는 것도 스테이트 출력으로 나가는 것도 스테이트예요 그런데 제가 여기에서 말씀드릴게 뭐가 있냐면 자 얘가 입력으로 들어오는 거 스테이트죠 나가는 거 스테이트잖아요 그런데 우리가 랭그래프 튜토리얼 같은데 보면은 이게 그래프 스테이트가 안 돼 있고 이런 식으로 돼 있는 경우가 있어요 리턴한 다음에 컨텍스트의 도큐먼츠 자 얘는 딕셔너리죠 얘는 타입 디텍트를 상속받은 그래프 스테이트예요 얘랑 얘랑 결국에는 사실 같다 어 같아요 그러니까 우리가 어 이거는 어떻게 보면은 좀 취향의 문제일 수도 있을 것 같아요 뭐 내가 나는 명시적으로 이건 그래프 스테이트를 반환할 거고 그 안에 있는 키에다가 요거를 넣어서 반환할 거야.라고 하면은 이게 낫죠 자 그런데 이렇게 하면은 여기에 어 딕셔너리고요 얘도 딕셔너리인데요 이렇게 해도 되지만 사실은 저는 좀 더 클린한 코드를 쓰려면 이게 더 맞다라고는 생각이 들어요 왜냐면 얘 같은 경우에는 우리가 안에 정의되는 키값들을 다 정의를 해 줬잖아요 그러니까이 안에 클래스에 보면은 하나 둘 셋 넷 다섯 개가 올 수 있어요가 되는 거잖아요 그래서 여기다가 다른 키를 넣으면은 이제 타이핀에서 오류가 날 거고요 만약에 컨텍스트라고 넣으면은 지금 여기에서 이렇게 밑줄 안져 있지만 나중에 이게 타이핀 걸러 주는 데서 어 에러를 내보낼 수도 있어요 그래서 이게 더 명시적으로는 전 좋다라고 보여지고 하지만 많은 튜토리얼에서는 이렇게 딕셔너리로 반환하는 경우도 있습니다 그래서 어 저도 여러분들의 혼란을 막기 위해 어떤 튜토리얼은 이렇게도 적어 봤고요 어떤 튜토리얼은 이렇게도 적어봤어요 그래서 질문 주신 분도 계셨었는데 어 이거 강사님 이게 아니라 요걸로 적으면은 틀리지 않나요 무조건 이렇게 적어야 되지 않나요라고 주신데요 결국에는 두 개가 같다 여러분들이 이렇게 적으셔도 되고 이렇게 적으셔도 된다 그런데 희한하기도 생각보다 튜토리얼에서는 요렇게 반환하는 것도 꽤나 많아요 자 그래서 정리를 한번 해 볼게요 입력으로 들어오는 것도 딕셔너리 그다음에 반환하는 것도 딕셔너리고요.이 구조를 따르면 지금 노드 하나 두 개 세 개,네 개 다섯 개 이렇게 쭉쭉쭉 만들어 낼 수가 있는 거죠 이렇게 입력과 출력만 약속된 형식이면 돼요 그 안에 구현은 이제 여러분들이 자유롭게 하시는 겁니다 자 이번에는 저희가 수도 코드로 이렇게 어 작성해 둔다고 했죠 그래서 노드들을 이렇게 쭉 정의를 해 봤어요 안에 이렇게 쭉 정의를 했고 노드들을 좀 많이 생성을 해 놨죠 자 이걸 한번 실행해 볼게요 자 다음으로는 우리가 그래프 정의 부분입니다 자,이 부분인데요 이것도 너무 쉬워요 사실은 너무 쉬운데 어 우리가 스테이트 그래프 해 가지고 그래프 스테이트를 넣었습니다.이 스테이트 그래프는 뭐냐면 우리 상태 그래프를 만드는 거 랭그래그래프 그래프의 스테이트 그래프에서 가져왔어요 여기 안에다가 뭘 넣어 주는 거냐면 우리의 상태값을 넣어 줘야 돼요 그래서 우리가 상태값을 여기에서 그래프 스테이트로 정의를 했거든요 그래서이 그래프 스테이트를 여기에다가 넣어 주시면 됩니다 그래서 워크플로우를 하나 생성을 해 주고요 뭐요 워크플로우라고 하는데도 있고 앱이라고 하는데도 있고 그래프라고 하는데도 있어요 뭐 이거는 변수니까 여러분들이 자유롭게 정하시면 되겠습니다 자 그런데 우리가 상태 정의를 하고 먼저 노드 추가를 해 줘야 돼요 노드 추가하는 방법 왼쪽에다가는 노드 추가 이름을 적어 주시면 되는데 한글도 넣어도 상관없어요 근데 대부분은 이제 영어로 적기 때문에 이왕이면 영어로 적어 주시는게 좋을 것 같아요 그리고 오른쪽에다가는 함수의 이름을 적어 주시면 되는데요.이 리트리브라는 함수는 우리가 위에서 요런 식으로 이제 정의를 했었죠 여기에 있는 노드들이 다 정의가 되면이 노드의 이름을 여기 노드에다가 추가만 해 주시면 되는 거예요 자 그래서 우리가 첫 번째로 만들어 볼 거는이 컨벤셔널 레그라는 건데 컨벤셔널 레그는 뭐냐면 우리가 가장 기본적인 레그 있죠 그냥 리트리브 해서 엔서 제너레이션 하는 거 가장 간단한 구조를 한번 만들어 볼 거예요 자 그래서 우리가 워크플로우를 생성을 하고요 스테이트 그래프를 만들고 여기에다 우리 상태 정의한 걸 넣어 주고요 노드 추가를 할 때 리트리브라는 이름으로 이건 왼쪽에 있는 건 별충입니다 리트리브라는 노드를 넣어 주고요 그다음에 우리가 GPT한테 답변 요청을 해 줄 거예요 답변을 만들어 낼 거고 그다음에 답변을 만들어 냈으면 렐러스 체크를 할 겁니다 관련성 체크를 할 거고요 관련성 체크를 통과를 하게 되면은 마지막으로 결과 종합을 할 겁니다 자 이렇게 노드가네 개를 정리를 해 줬고 얘를 이제 우리가 순차적으로 연결할 거예요 자 우리가 연결을 할 때는요 처음에 있는 노드부터 우리 머릿속에 그려 놓은 노드들을 순서대로 연결만 지으면 됩니다 나는 만약에 리트리브 노드에서 GPT 요청으로 가겠다 그러면요 왼쪽게 프롬이고요 오른쪽에요 그러니까 리트리브에서 GPT 요청으로 보내겠다라는 거죠 그다음에 GPT 요청은 GPT 릴러스 체크로 보낼 거고 GPT 릴러스 체크는 결과 종합으로 보내겠다 마지막으로 결과 종합에서 엔드로 보내겠다 이렇게 연결만 해 주시면 됩니다 나머지 주석은 일부러 남겨 놓은 거예요 자 이렇게 되고 엔트리 포인트 지정을 해 줘야 되는데 우리가 원래 이제 스타트라는 걸 가져올 수도 있습니다 여기다가 이걸 가져와서 주면은 엔트리 포인트 굳이 연결 안 해도 되지만 우리가 스타트를 별도의 노드로 만들어 주지 않았잖아요 그렇기 때문에 엔트리 포인트를 지정해 주면 돼요 여기서 시작점이 리트리브거든요 그래서이 리트리브라고 넣어 주고 메모리 세이브 생성해서 어 메모리 하나 만들어 주고요 그다음에 메모리를 체크포인터에다 넣어 주고 그래프를 생성해 주시면 됩니다 자 요거 한번 실행해 볼게요 실행해 보면은 우리가 머릿속에 그렸던게 그대로 비주얼라이제이션이 되면서 우리가 만들어 놓은 흐름이 만들어지게 되는 거예요 그래서이 흐름을 보시게 되면은 처음에 유저가 질문이 오겠죠 그러면이 질문이브 문서 검색을 수행하게 될 거고요.이 검색된 문서와 질문을 가지고 GPT한테 요청을 하게 됩니다 자 여기서 중요한게 뭐냐면 우리 상태값들을 전달을 하잖아요 우리가 질문이 들어오면 그 질문을 퀘션에다 담아 줄 거고 그 질문을 가지고 꺼내서 검색을 하겠죠 리치브 노드에서이 리치브 노드에서 검색할 건데 여기에서이 질문 상태를 꺼내서 그걸 가지고 리트리브해서 리치브 되는 결과를 컨텍스트한테 넣어 줄 거예요 그러면 우리가 지금 뭐가 채워졌냐면 컨텍스트랑 패션이 채워진 상태거든요 자 이게 채워졌으면 그다음에는 그다음에는요 단계 있죠 gpt 요청할 때 우리가 컨텍스트라는 키와 그다음에 퀘션이라는 키가 지금 채워져 있는 상태니까요 두 개를 가지고 GPT한테 답변 요청을 수행을 하는 거예요 우리가 알고 있는 일반적인 매그 프로세스를 따르게 되는 거죠 그래서 이제 답변이 나오면은 엔서 부분이 이제 채워지게 됩니다 답변이 나왔으니깐요 이게 새롭게 채워지게 되면 얘를 가지고 이제서 to the question 체크를 할 수가 있죠.이 이 엔서가 패션에 대한 답이 맞느냐 이거와 혹은이 엔서가 컨텍스트를 기반으로 만들어진 거냐 요거에 대한 렐러스 체크를 할 수가 있습니다 관련성 체크를 한다라는 얘기죠 그래서 관련성 체크를 통과를 하고 그다음에 최종적으로 결과 종합을 하게 되면은 이제 최종 엔서로 나오게 되는 구조예요 이게 어떻게 보면은 우리가 일반적으로 알고 있었던 우리가 랭체인에서도 구현을 했었던 가장 기본적인 구조라고 보시면 됩니다 저희가 그거를 이제 랭그래프로 옮겨 놓은 거예요 그렇죠 자 그런데이 랭그래프의 장점은 사실이 정도 수준을 구현하기에는 물론 우리가 그냥 랭체인으로 구현해도 좋습니다 우리가 굳이 노드를 만들지 않아도 된다라는 소리죠 자 그런데 우리가 랭그래프를 쓴다라는 거는 우리가 원하는 흐름대로 자유자로 변할 수 있다는 거예요 그래서 우리가 이럴 수도 있잖아요 만약에 재검색하는 노드를 추가를 해서 재검색하는 로직을 추가해 보고 싶어요 자 그러면 저는 어떻게 할 거냐면 여기에 있는 2번의 주석만 생각하시면 돼요 그래서 요거를 일단 오프를 하고요 주석을 딱 쳐 주시고 그다음에 여기서부터 여기까지를 주석을 해제를 해 줄게요 자 주석은 참고로 컨트롤 슬래시 아니면 맥북 쓰신 분들은 커맨드 슬래시를 해 주시면 됩니다 자 그래서 주석 해제를 해 주고요 그다음에 위에는 나머지 건들게 없죠 네 없습니다.요 상태에서 다시 한번 실행을 해 볼게요 자 그러면 지금 우리가 순식간에 재검색하는이 흐름이 만들어진 걸 볼 수가 있어요 그러니까 우리가 랭체인에서는 이런 흐름들을 바꾸려면 처음부터 다시 코딩을 해 줘야 되거든요 굉장히 어려워요 그런데이 랭그래프라는 거는요 내가 이런 식으로 원하는 흐름들을 우리가 불과 1분도 안 걸렸죠 바로바로 만들어서 테스트할 수 있다라는 거예요 자 그러면 우리가 재검생 노드가 없었을 때는 어떤 흐름이었냐면이 렐러스 체크의 결과가 좋든 싫든간에 무조건 받아들여야 돼요 무조건 엔서로 나오는 그런 구조였거든요 이게 없기 때문에 그냥 이게 패스를 하든 페일을 하든 그냥 유저는 그냥 답변을 받을 수밖에 없는 상태인 거예요 근데 우리가 재검색이라는 노드를 추가하면서이 패스를 만들어 냄으로써 우리가 뭘 할 수가 있냐면이 관련성 체크를 한 다음에 관련성에서 만약에 페일이났다 하면은 다시 리트리브로 보낼 수가 있는 그런 흐름을 만들어 준 거예요 굉장히 순식간에 만들어 준 거죠 그래서 여기 흐름에 보면은 애드 컨디셔너 엣지라고 해서 조건부 엣지라는 거를 추가를 해 줬습니다 그래서이 조건부 엣지를 쓰는 방법을 한번 보시면은요 자 먼저이 조건부 엣지의 시작점을 볼게요 시작점은 결과 종합 노드거든요 그럼 여기 조건부 엣지의 시작점은 결과 종합 노드죠 자 여기 잘 보세요.이 결과 종합 노드에서 지금 두 갈래로 갈라집니다 이게 바로 조건부거든요 어떤 조건에 따라서 일로 갈지 절로 갈지 이게 결정지는 거죠 이거의 시작점이 결과 종합 노드이기 때문에 우리가 첫 번째로 넣어 주는 거는 결과 종합 노드라고 넣어 줬어요 여기 위에서 정리한요 노드죠 자 그다음에 두 번째로 와야 되는 거는 디시전입니다 이거는 한마디로 어 ifl스로 구성이 된 하나의 함수 하나의 함수를 넣는다라고 보시면 돼요 이게 정확한 그 목적 그 형태는 뭐냐면 여기에 지금 보시면은 콜러블이라고 나와 있을 겁니다 여기에 한번 들어가서 볼게요 보시면은 콜러블이라고 나와 있죠 그래서 콜러볼이라는 거는 우리가 이제 함수라고 이해하셔도 좋습니다 호출 가능한 이런 의미를 가지고 있죠 그러면은 디시션이라는 함수로 한번가 볼게요.가 보면 자 여기에 이제 결정이라고 나와 있는데 여기에 사실은 이제이 헬스 조건문이 들어가야 되는데 지금 수도 코드이다 보니까 이런 식으로 나왔어요 자 그런데 우리가 지금 여기에 재검색과 종료가 나와 있잖아요 그러면 이거에 반환되는 형태는 어떻게 돼야 되냐면 여기에 여러분들의 어떤 로직이 로직을 추가 할 수가 있고요 그다음에 여기에 if 어쩌고저쩌고으면 리턴 한 다음에 여기에다가 만약에 관련성 체크를 통과를 했으면 어 종료라고 해 볼게요 종료 종료 그다음에 통과를 못 했으면은 우리가 어떻게 해 줄 거냐면 재색이라고 해 줄 거예요 재색 자 이렇게 넣어 줬습니다 이거 지어 볼게요 자 그러면 이렇게 되는 거죠 우리가 스테이트에서 바이너리 스코어 안에 렐러스 체크의 결과가 담길 거예요 이걸 통과를 했으면 예라고 담길 거고 통과를 못 했으면 노라고 담겨 있을 거예요 자 그런데 이걸 통과를 했으면 리턴 종료 종료라는 문자를 해 주고 이걸 통과를 못 했으면 재검색이란 걸 반환을 해 줍니다 자 그러면이 재검색과 종료를 반환을 받잖아요 이게 왼쪽에 있는 키로 들어가는 거예요 키로 들어가서이 함수의 실행 결과가 만약에 제 검색이라면 리치브 노드로 보내 주세요라는 거예요 그다음에이 실험의 결과가 종료라면 and이 모든 그래프를 종료를 해 주세요 이런 흐름이 만들어지게 되는 거죠 자 그래서이 결과 종합을 하고 이게 별로오면은 제 검색 들어가고요 그다음에 좋으면은 이제 종료로 들어간다 이런 흐름까지 이제 만들어 본 거죠 자 여기까지 해서 이제 2번 재 검색을 만들어 보는 것까지 저희가 해 본 거예요 해봤는데 어 여기서 이제 좀 더 나아가 볼게요 다음으로는 우리가 멀티 LLM 멀티 LM 한번 보도록 하겠습니다.이 멀티 LLM은 우리가 LM을 하나만 쓰는게 아니라 LM을 하나 더 추가해 보겠다는 거예요 우리가 만약에 지금 GPT를 쓰고 있는데 여기에다가 클로드에다가도 요청을 해서 답변을 받아서 두 개를 나중에 비교를 하거나 아니면 두 개의 답변을 합치거나 이렇게 응용할 수가 있거든요 자 그러면은 멀티르 한번 추가해 보죠 자 여기 오른쪽에 3번으로 나와 있는 곳에 주석을 먼저 해제를 해 주실게요 그래서 클로드 요청하는 노도를 하나 추가를 해 주시고 클로드에 대한 관련성 체크하는 부분들도 하나 추가해 보도록 하겠습니다 자 다음으로는 어 우리가 3번으로 나오는게 리치브의 클로드 요청이라고 나와 있는데요 이거는 뭐냐면 우리가 클로드 요청 노드를 추가했기 때문에 리트리브에서 지금 하나는 GPT로 가고요 다른 하나는 클로드로 가게 되죠 그러면 이렇게 병렬 분기가 실행이 되게 되는 거예요 그래서 여기에 보시면은 이제 리트리브 노드가 있고요 있고 여기에 이제 나눠져서 근데 이게 이거는 조건부가 아니에요 그러니까 우리가 컨디셔널 엣지라는 거는 둘 중에 하나만 실행되는 건데 얘 같은 경우에 둘 다 실행을 하는 거예요 병렬적으로 그래서 하나는 GPT로 신호를 보내고 다른 하나는 클로드로 신호를 보내는 이런 구조를 만들게 되는 거죠 자 다음으로는 우리가 클로드 요청에서 클로드 러스 체크로 보낼 거고요 클로드도 답변을 했으면 이거에 대한 관련성 체크를 해야 되고 그다음에 결과 종합까지 해야 되죠 그러면 이게 최종적으로 GPT의 렐러스 체크 결과도 결과 종합에 모이게 되고요 클로드의 렐러스 체크도 결과 종합에 모이게 되는 거죠 자 이런 식으로 해서 결과 종합이 모여서 이제 끝내 주는 그런 흐름을 만들어 줬습니다 자 이거를 실행해서 보면은요 이제 이런 식으로 만들어지는 거예요 우리가 이렇게 새로운 흐름을 만들었는데 굉장히 간단하게 그냥 만들어져 버리잖아요.이 리트레브에서 원래 단일 답변 단일 GPT 하나의 모델에 대한 답변 요청을 해서 받았는데 거기에다가 이제 모델 하나를 병렬적으로 이렇게 추가를 한 구조가 순식간에 완성이 됐습니다 자 마지막으로 하나 더 해 볼 거는 이제 쿼리 제작성 노드를 한번 추가를 해 볼 거예요 그러면 여기에 4번에 있는 거 주석 해제해 주시면 되고요 리라이트 쿼리라는 노드의 이름으로 리라이트 쿼리라는 노드를 추가를 해 봤어요 결국엔 함수를 추가를 해 주는 거죠 그리고 이거를 추가를 해 줬으니까 리라이트 qu리의 리트리브 부분으로 연결하는 거를 하나 연결을 해 주시고요 그리고 얘는 다시 주석을 해 주시고 마지막에 나와 있는 4번만 요렇게 풀어 주시면 되겠습니다 자 그래서 이거를 왜 바꿔 줬냐면 우리가 결과 종합을 했을 때 재검색을 할 때 제검색이 나오면은 리트리브를 보내는게 아니라 리라이트를 해서 리라이트를 한 다음에 그다음에 제 검색이 들어갈도록 그런 식으로 쿼리를 제작성하도록 그래야지 검색되는 결과가 바뀔 거잖아요 그런 식으로 흐름을 바꿔 준 거예요 그래서 여기 보면은 이제 흐름이 어떻게 달라졌냐면 우리가 이전까지는 동일했거든요 리트브를 하고 병렬적으로 하나는 GPT에 요청 하나는 클로드에 요청해서 각각을 릴러스 해서 결과 종합을 합니다 그런데이 결과 종합의 결과가 별로였어요 그러면은 재검색이 떴는데 이때 그냥 재검색을 하는게 아니라 쿼리를 제작성하는 거죠 원래 있는 질문을 제작성을 해서이 제작성된 결과를 다시 리치브로 넣어서이 과정들을 이제 수행하게끔 이런 식으로 만들어 주게 되는 겁니다 자 그래서 요렇게 만들어 봤고요 우리가 수도 코드로 해 봤지만 여러분들이 여기에서 노드를 추가해 보고 뺐다 꼈다 해 보면서이 그래프들을 다양하게 설계해 보는 연습을이 수도 코드를 통해서 해 보시는게 좋아요 그래서 이렇게 한번 다양하게 흐름 잡는 거 한번 해 보시고요 밑에는 또 SQL 레그의 어떤 그 수도 코드를 사용한 흐름 잡는 거를 제가 샘플 코드로 넣어 놨어요 그래서 요거를 실행해 보고 그래프를 시각화해 보면 SQL 우리가 쿼리 밸리데이션 하는 것도 꽤 복잡해요 나중에 질문 들어오고 이걸 가지고 이제 테이블에 자연어를 가지고 SQL 커리문을 만들어서이 결과를 조회를 하는 거니까 먼저 조회를 하려면 테이블 정보 있어야죠 그다음에 SQL 커림은 만들고 엑스큐트 해야죠 엑스큐트 실행 결과 밸리데이트 한지 봐야죠 검증해야죠 그다음에 별로 오면은 리라이트 question션에서 어 넣거나 아니면 리라이트 쿼리를 바로 해야죠 그래서 요런 식으로 뺑글뺑글 도는 구조 그다음에 만약에 패스를 했다 검증 쿼리가 올바르게 쓰여졌다라고 검증이 끝나면 이걸 GPT에 요청을 해서 그니까 검색된 결과가 있겠죠 그래서 결과를 GPT한테 요청을 해서 릴레버스 체크해서 끝내주는 요런 식의 이제 구조를 짜면 얘가 알아서 쿼리 밸리데이션까지 이렇게 쭉 순해를 하면서 돈단 말이에요 그래서 이런 복잡한 흐름들도 우리가 랭그래프로 어렵지 않게 만들 수가 있다라는 내용을 보여 드리기 위해서 이렇게 예제로 만들어 놨습니다 자 여러분들이 이제 그 안에 들어가 있는 함수의 구현체는 없거든요 그래서 여러분들만의 어떤 다양한 흐름들을 만들어 보시는 걸 연습을 하시고요 우리가 아직 구동하는 건 아니니까 이게 실제 구동을 했을 때 오류가 날 수는 있겠죠 하지만 처음에는 이런 흐름들을 좀 만들어 보는 연습을 먼저 손해 있게 하시면 그 이후 문제는 더 쉽게 풀릴 수가 있습니다 네 이번 시간에는 저희가 처음이죠 처음으로 어 프롬 스크래치부터이 랭그래프를 활용한 빌딩 그래프 하는 방법에 대해서 알아봤습니다 네 안녕하세요 이번 Naive RAG(전통적인 방식의 RAG) 를 LangGraph 로 구현 시간에는 나이브 레그 나이브래그를 랭그래프로 구현해 볼 건데 이전에 했던 방식과 다른 점은 이전에는 수도 코드로 진행을 했었어요 그런데 이번에는 실제로 동작하는 그래프를 만들어서 한번 돌려보도록 하겠습니다 어 저희가 이번 튜토리얼 2번부터 5번까지는요 여기 나와 있는 2번부터 5번까지는 사실은 쭉 이어지는 내용이에요 그래서 여러분들이 2번부터 5번까지는 뭐 전혀 다른 파일이 아니라 하나로 이어지는 흐름을 가진다라는 거를 염두해 두고 보시면 좋은데 2번부터 3번 4번 5번 뭐가 더 추가가 되냐면 2번에는 기본적인 라이브 래그에 3번에서는이 라이브 레그에다가 플러스로 렐러스 체크를 하는이 컨디셔널 엣지를 추가하는 방법에 대해서 알아볼 거고요 다음으로는 웹서치를 하는 실시간으로 웹에서 검색을 해서 그 정보들을 바탕으로 답변 생성을 하는 그러한 로직을 추가해 볼 거고 마지막으로 쿼리 리라이트를 해서 우리 질문을 좀 더 잘 예쁘게 만들어서 리라이트 해서 추가를 해 주는 그 로직을 한번 추가를 해 볼 거예요 그래서 추가되는 로직마다 제가 이렇게 빨간색으로 어 표시를 해 놨습니다 그래서 여러분들이 요거를 보시면서 한번 진행해 보시면 좋을 것 같아요 그래서 우리가 처음에는 어 2번 2번 파일을 열어 주시면 되겠습니다 자 우리가 어이 나이브레그 나이브레그라고 하는 거는 쉽게 얘기해서 question이 들어오면 사용자의 질문이 들어오면 우리가 일반적으로 알고 있는 그 여덟 단계의 래그를 수행하는 것과 동일하다라고 보시면 돼요 그런데 우리가 바로 노드 생성할 때 여기에 1번 노드 2번 노드 노드 두 개만 생성을 할 거거든요 그런데이 리트브 하기 위해서이 중간 단계들은 저희가 다 생략을 해 놨습니다 그래서 제가 만들어 놓은이 PDF 리트리버 체인을 사용해서 우리가 리트리버 가져오고 체인을 가져와서 활용할 거고요 요거에 대한 내용을 저희가 이전 강의에서 다뤘기 때문에 별도의 설명 없이 넘어가도록 하겠습니다 자 그래서 굉장히 심플해요 질문이 들어오면 리트리버 사용해서 검색을 하고 그다음에 검색된 문서를 제네레이트한테 노드한테 넣어 줘서 요거를 가지고 이제 답변 생성을 해 볼 건데요 먼저 요걸 진행하기 위해서 환경 설정해 주시고 그다음에 랭스미스 추적도 한번 진행해 보도록 하겠습니다 자 다음으로는 우리가 기본 PDF 기반 리치버 체인을 생성을 할 건데 요거는 우리가 이전에 봤던 내용이라 동일해요 그래서 요거 곧장 생성해 주시면 되겠고요 우리가 사용할 PDF 문서는 여기에 들어가 있습니다 자 그러면 PDF 언더바 리트리버에는 검색기를 담아 줬고요 그다음에 체인은 PDF 체인에다가 넣어 줬어요 자,요 상태로 리트리버에 인보크를 해서 제대로 동작하는지 한번 볼게요 엔스로픽에 투자한 기업과 투자 금액을 알려 주세요 요렇게 인크를 하게 되면은 제가 기본값으로 설정에 열 개 문서를 가져오게끔 해 놨거든요.이 혹시이 내용이 궁금하신 분들은 레그 밑에 보시면은 PDF 쪽에가 보시면은 PDF 체인에 K가 10으로 설정이 돼 있기 때문에 열 개를 가져오는 거예요 그런데 나는 열 개가 아니라 나는 이거를 뭐 다섯 개로 바꾸고 싶다 그러면 다섯 개로 바꿔서 적용해 보시면 되겠습니다 자 우리는 일단 열 개로 지정이 되어 있는데요 자 그러면 10열 개 문서를 가져왔죠 위에서부터 관련성 높은 정보부터 쭉 내림차순으로 가져온 거예요 자 요거를 우리가 검색된 결과를 설치 리트에다가 담아줬잖아요 그러면은이 문서들을요 문서들을 넣고 퀘션에다가 우리 질문들 넣어 주고 채티 스토리 어 멀티처인인데이 대화 내용은 어 생략하고 들어갑니다 그래서 요거를 실행해서 결과를 보시게 되면은 어 요렇게 나오죠 구글은 엔스로픽에 최대 20억 달러를 투자하기로 합의했으며이 중 5억 달러를 우선 투자를 했다 구글은 2023년도에 2월에 이미 5억 5천만 달러를 엔스로픽에 투자한 바 있다 뭐 이런 식으로 이제 쭉 나오는 거죠 그래서 솔스까지 이렇게 넣어 놨습니다 자 이렇게 잘 나오는 것까진 봤는데 우리가이 과정을 한번 랭그래프로 만들어 볼 거예요 자 그래서 먼저 스테이트 정의를 해 주시면 되는데 스테이트 부분에 어 그래프의 노드와 노드강 공유하는 우리 상태를 의미한다 그러니까 제가 노드에서 노드는 각각이 다른 회사라고 했죠 전혀 각각이 무슨 액션을 하는지 전혀 몰라요 그러면 이전 노드에서 처리된 결과를 다음으로 전달할 때 우리는 스테이트에다가 그 작업된 결과들을 담아서 담아서 마치 택배처럼 전달을 해 주는 거예요 그러면이 다음 노드가이 스테이트를 전달을 받았잖아요 그럼 택배 상자를 열어 봅니다 열어봤더니 아 이전 노드에서 요러 요러한 작업을 했구나를 알 수가 있게 돼요 그러면이 정보들을 활용해서이 해당 노드에서 해당하는 작업들을 진행하게 되는 거죠 그래서이 스테이트를 정의가 중요하고이 스테이트는 우리가 전달하는 내용만 여기 안에다가 넣어 주면 돼요 우리가 굳이 전달 안 해도 되는 내용들까지 스테이트에 담아 줄 필요는 없게 되는 거죠 자 그래서 우리가 사용자의 질문이 들어오면은 그 질문을 퀘션에다가 저장을 해 줄 거예요 그리고 컨텍스트에다가는 검색된 문서를 넣어 줄 거고요.이 문서는 문자율로 들어가 있어요 자 그런데 우리가 보면은요 검색된 문서가 원래 리스트예요 리스트 도큐먼트 형태예요 그래서 원래 저거를 어 다 넣어 주려면 어떤 식으로 들어가야 되냐면 이런 식으로 들어가야죠 프롬 랭체인의 코어에 도큐먼트에 임포트 도큐먼트를 해서 어 타이핑에도 리스트를 넣어 볼게요 이렇게 해서 원래 같았으면은 검색되는 문서가 도큐먼트의 리스트 형태니까 여기에다가 그대로 리스트 도큐먼트 이런 식으로 들어가야 돼요 이걸 그대로 넣어 줄 거면 근데 여기에서 제가 스트링으로 문자열로 그냥 바꿨다는 건 무슨 의미냐면이 문서들을 나중에 문자열 변환을 해서 하나의 문자열 형태로 내가 가공을 해서 내가 포매팅을 해서 넣어 주겠다라는 의도죠 그래서 요렇게 넣어 준 거고요 그다음에 메시지는 우리 리스트 메시지스 들어가는데 애드 메시지스 리서 함수입니다 혹시 리서 함수 내가 지금 처음 들어봤다 하시는 분들은 요거 리서 함수 강이 있어요 랭그래프의 초반에 나오거든요 요거를 한번 보고 오시면 좋을 것 같아요 그래서이 애드 애드 메시지스라는 리스 함수를 쓰면 우리가 메시지 리스트를 반환을 해 주면 기존의 리스트에다가 신규 메시지를 추가를 해 줘요 그래서 계속해서 누적이 될 수 있도록 만들어 준다는 거죠 자 요걸 실행해 주시고요 그다음에 노드 정의 한번 해 볼게요 우리가 노드 쓸 거는 하나 그다음에 두 개 나머지는 없죠 왜냐하면 우리가 위에서 그림을 그릴 때 리트리브 노드 하나랑 제너레이터 노드 두 개만 구성을 했잖아요 그러니까 우리가 만드는 노드도 함수도 두 개가 되는 거예요 그러니까이 랭그래프에서는 뭐가 중요하냐면 여러분들이 이런 것들을 만약에 구현한다 하기 전에 메모장에다가 여러분들이 한번 이렇게 그려 보시는 거예요 어 나 이런 식으로 설계할 거야 그린 다음에이 노드의 개수 이퀄함수의 개수가 나와 주면 되는 거죠 자 그래서 우리 지금 노드 두 개 그렸으니까 요렇게 하나랑 그다음에 밑에도 보시면은 두 개 이렇게 만들어 놓셨어요 처음에 리트리브 도큐먼트라는 노드는요 말 그대로 우리가 질문을 받으면이 질문을 리트리버한테 넣어 가지고 인크를 해서 문서 검색된 결과를 가져올 거예요 자 그런데 여기에 포메터스라는 함수가 보여요 얘가 뭐 해 주는 거냐면 문서를 포매팅해서 하나로 합쳐 주는 역할 합니다 자 그런데 여러분들이 이거를 그냥 합쳐 주나 보다 하고 넘어가셔도 상관없죠 우리가 코드는 어차피 제가 완성용으로 다 드리기 때문에 구동에는 문제가 없을 거예요 그런데 여러분들이 만약에 어 여기에 이러한 코드가 있는데 내가 어떤 내가 만들지 않았으니까 어떤 결과로 나오는지 모르겠으면 항상 이거를 별도로 찍어 보셨으면 좋겠어요 그래서 아이 나오는 형태가 어떻게 바뀌는구나 그거를 머릿속에 가지고 계시면 좋거든요 그래서 제가 그걸 어떻게 하는지 한번 보여 드릴게요.이 함수 안에 있으면이 출력하는게 힘들어요 그래서 저 같은 경우에는 이걸 따로 빼다가 요것만 따로 빼다가요 뭐 예를 들면은 요거 두 개가 궁금하다 하면은 여기다가 이제 따로 빼 주는 거죠 자 이렇게 따로 빼 주는데 지금 노란색이 켜져 있는 거는 이게 아직 정의가 안 된 거죠 얘는 요렇게 정의해서 가져올게요 자 이건데 그럼요 라스트 question션 레이티스 퀘션은 우리가 변수가 없잖아요 아직 question이 안 들어왔으니까 우리가 임의로 하나 넣어 주는 거예요 뭐 여기다가 삼성전자가 개발한 생성형 AI의 이름은 자 여기 한번 보세요.이 얘 주석하고 결과 한번 보죠 그럼 리트리뷰드 도큐먼트에 문서 열 개가 들어가 있을 거예요 자 요거를 출력해 보면은 열 개가 이렇게 나온다고요 나오는데 우리가 에딱스는 이건 제가 만들어 놓은 함수인데 여기에다가 얘를 한번 씌워 보는 거죠 자 원래이 코드가 있었잖아요 씌워 보면 얘가 어떻게 바뀌냐면 이렇게 하나의 문자율로 바뀝니다 자 얘는 뭐냐면 우리가 문서들을요 이렇게 하나로 연결을 해서 XML 형식의 태깅을 씌워서 만들어 주는 변환기예요 근데 우리가 제가 이거를 왜 포매팅해서 하나의 문자율로 합쳤냐 항상 Y가 중요하거든요 사실 이거 안에도 답변이 잘 나올 수 있어요 그런데 제가 이렇게 포매팅해서 넣어 주는 걸 좋아하는 이유는요 lm이 더 잘 알아들어요 그러니까 우리가이 문서 도큐먼트 형태 이게 그냥 문자율로 그냥 들어가 버리거든요 이거보다도 더 좋은 거는 우리가 필요한 정보들만 그 속아내서 도큐먼트라는 걸로 여기서부터 여기까지는 하나에 검색된 결과야라는 걸 알려 주면서 우리가 필요한 메타데이터만 끄집어내는 거예요 그러니까 우리가 문서에도 보면은요 메타데이터가 되게 많거든요 소스도 있고 파일패스도 있고 여기 가면은 되게 많아요 근데 우리가 어서나 크리에이터나 이런 것들 다 필요가 없잖아요 괜히 불필요한 토큰 낭비만 한다라는 거죠 굳이 이거를 매번 토큰 낭비하면서 만들어 줄 이유가 전혀 없습니다 그래서 우리가 필요한 메타데이터 우리는 뭐가 필요하느냐 어 여기에서는 이제 페이지 정보 소스도 여기에 넣어 줬네요 소스 소스 하면 이제 파일명과 페이지 정보만 있으면 되거든요 우리가 출처 밝힐 때 어 뭐 어서 정보도 있으면 좋겠죠 근데 일단 요거 두 개만 넣어 준 거예요 그래서 메타데이터는 요거 두 개 넣어 주고 그다음에 가져온 콘텐츠는 컨텐트라는 XML의 형식 태깅을 걸어서 여기다 넣어 줘서 여기서부터 여기까지 하나의 검색된 문서입니다 이렇게 구분자까지 줬어요 그러니까 이렇게 구분자까지 주게 되면은 우리가 구분자를 안 줬을 때는 여기에 있는 문서 정보의 끝과 여기가 이어지게 되면서 할루스네이션으로 이어져요 왜냐면이 문장의 끝과요 문장의 처음이 마치 연결되는 것처럼 보일 수가 있거든요 근데 우리가 이렇게 태깅으로 감싸게 되면은이 두 개 문서는 전혀 다른 문서야라고 알려주는 효과까지 갖게 되는 거예요 그래서 이렇게 포매팅이라는 함수를 해서 열 개의 문서를 하나의 문자율로 이렇게 예쁘게 포매팅을 해서 어 하나로 만들어 줬어요 그래서 얘가 하나의 문자율이기 때문에 우리가 컨텍스트에 리스트 도큐먼트로 들어가는게 아니라 그까 보시면은 str로 들어갔다 이렇게 보시면 되겠죠 자 좋아요 자 요렇게 우리가 확인해 보시라는 겁니다 확인해 보면 이렇게 나온다는 걸 알 수가 있고요 자 이게 이해됐으면 넘어가 보죠 자 이렇게 해서 컨텍스트에다 넣어 줍니다 여기에서도 많이 나오는 질문 중에 하나가 리턴에 우리가 그래프 스테이트의 컨텍스트 이렇게 넣어 주는 것도 되고요 그다음에 얘 얘처럼 이렇게 넣어 주는 것도 돼요 그래서 여러분들의 선택이니까 편하신 대로 해 주시면 되겠습니다 자 이렇게 컨텍스트 키에다가만 반환을 해 주면 우리가 스테이트에 여기 있는 스테이트에 얘만 얘만 써지는게 아니라 기존에 있던 값은 계속 누적이 되는 거예요 누적이 되고 해로 반환되는 키값에는 어 요거에 추가가 되는 개념인 거죠 그래서 퀘션은 이미 들어와 있고 컨텍스트만 반환하면 돼요 그러니까 정리하자면이 question까지도 반환해 줄 필요는 없다는 거예요 여기에다가 question은 어 레이트 question션을 넣어 주는 거는 의미가 없다 큰 의미가 없다 하지만 우리가 question을 리라이트 하거나 변경 사항이 있었을 때에는 question션에다가 다시 넣어서 반환해 주는 거 의미가 있을 수 있겠죠 그것만 유념해서 보시면 되겠습니다 자 그다음에는 LM 엔서 노드에서는 우리가 제네이션 해 주는 거예요 자 이전에 보세요 lm 엔서 노드는 어느 다음에 나오는 거냐면 여기에 보면은 우리가 리트리브 다음에 나온다고요 그러면 여기서 우리가 유추해 볼 수 있는 거는 뭐냐면 아 리트리브 단계에서 우리가 문서들을 검색을 완료한 상태구나 그럼이 완료된 것과 질문이 있네 그러면 이거 두 개를 사용해서 우리가 제네레이션 할 수가 있겠구나 이런 것들을 우리가 미리 사전에 여기서 확인을 이미 했잖아요 여기서 제너레이션을 했단 말이에요 그래서 우리가 했기 때문에 여기에서는 어 우리 question션 레이티스 퀘션 가져오고 스테이트 값에서 꺼내면 되는 거죠 꺼내고 그다음에 이전에 우리가 컨텍스트 반환했기 때문에 컨텍스트에 우리 문서들 검색된 문서들이 포매팅돼서 나와 있을 거예요 그럼요 패션과 컨텍스트를 넣어 줘서 어 생성을 해 주면 되고요 그다음에 우리가이 채트 스토리가 중요해요 우리가 멀티턴을 구현하기 위해서는이 스테이트의 메시지스에 지금 메시지가 계속 누적이 됩니다 그러니까 이런 식으로 된단 말이에요 어이 메시지는요 멀티턴 대화를 하니까 Q1이 들어오고 엔서 1이 들어오고 Q2가 들어오고 엔서 2가 들어오면 이게 계속 메시지스에다가 누적이 됩니다 근데 여기서 중요한 거는 어떻게 누적이 돼요 어떻게냐면 어떻냐면 우리가 메시지스에다가 지금 애드 메시지로 루적크해 주는 걸 해 주고 있잖아요 그 얘가 답변 생성을 해서 기존에 있는 메시지 유지된 채로 뒤에다가 계속 쭉쭉쭉쭉쭉쭉쭉쭉쭉 붙게 되는 거예요 그러니까 알아서 멀티턴 구현을 위한 준비가 랭그래프에서는 굉장히 쉽게 되는 거죠 알아서 누적이 되는 거니까 그래서 우리가 예전에는 뭐 채 with 런오브 히스토리 막 이렇게 복잡하게 했었는데 전혀 그럴 필요가 없다라는 거예요 그러면 메시지스에서는 이미 누적이 됐고요.이 메시지스 히스토리 하면은 이걸 히스토리 하는 애로 바꿔줘요 이거 함수 들어가서 보면요 여기에 롤 from롬 메시지스라 해서 롤 롤을 설정해 주고 그다음에 메시지 컨텐트를 이렇게 만들어 줘요 그래서 메시지 히스토리를 만들어 주고요 얘가 알아서 자 얘는 어디서 가져온 거냐면 얘는 테디노트 패키지에 제가 구현해 놓은 거에서 가져오신다라고 보시면 됩니다 구현이 궁금하신 분들은 데피니션가 보시면 요렇게 들어가 있어요 자 그러고 그이 이전까지 했던 대화들을요 이전까지 했던 대화들을 예쁘게 포매팅을 해서 이거를 채팅 히스토리에다 넣어 줬어요 그러면이 PDF인은 뭘 알고 있냐면 이전까지 했던 대화의 내용과 이번에 새로 들어온 question다에 컨텍스트를 해서 요거 세 개를 가지고 이제 답변 생성을 해 주게 되는 거예요 그래서 엔서에다가 이제 리스폰스를 넣어 주게 되고요 메시지스에다가는 뭘 누적시킨다고요 이번에 들어왔던 새로운 질문과 그다음에 답변 AI 어시스턴트의 답변 답변을 넣어 가지고 메시지스에다가 추가를 해 주게 되는 거죠 이렇게 추가를 해 줬고요 그다음에 이제 어 그래프 생성하는 부분 아엣 연결하는 부분 생성 및 엣지 연결이죠 요것도 이렇게 바꿔 줄게요 그래프 생성 이렇게 바꿔 주겠습니다 자 h 연결 해 줄 건데 먼저 우리가 스테이트 그래프 해서 여기 그래프 스테이트는 우리가 상태 정의한 거 넣어 주기로 했었죠 그래서 상태 정의한 거를 여기다가 이렇게 넣어 주시면 됩니다 여기도 지어주고요 넣어 줬고 그다음에 우리 노드 두 개 심플하게 정의를 해 줄 거예요 리트리브 도큐먼트 노드랑 그다음에 LM 엔서 노드 추가해 줬고 엣지 연결 간단하죠 우리 리트리버에서 LM엔 LM 엔서에서 엔드로 보내주는 이렇게 시퀀셜한 구조로 짜봤어요 그다음에 시작점 설정해 줘야 됩니다 그래서 리트리브로 시작점 할 거다 메모리 설정까지 해 주고요 체크포인트 설정까지 해서 그래프 컴파이 해 주시면 돼요 자 다 됐으면 우리가 비주얼라이즈 그래프를 실행을 해서 비주얼라이이션 해 보면 아 이제 눈에 환하게 보이는 거죠 리트리버로 들어와서 문서 검색하고 검색된 문서를 LM 엔서로 넣어서 이제 결과를 낸다라는 것까지 우리가 시각화를 해 볼 수가 있었어요 이렇게 그냥 가장 나이브한 형태 레그가 완성이 됐고요 이제는 드디어 우리가 그래프를 실행을 해 볼 차례입니다 우리가 이전에는요 그래프를 실행까지 옮기진 않았거든요 그런데 우리가 이번에는 실행을 해 볼 거예요 그런데 이번에 실행할 때 여기에서 제가 만들어 놓은 패키지 중에서요 인보크 그래프라는 것과 스트림 그래프라는게 있어요 이거는 여러분들이 그냥 인보크를 하시기 위해서는 좀 코드가 복잡해요 얼마나 복잡한지 보여 드리면 어 뭐 많이 복잡한 건 아닌데 우리가 스트리밍 스텝스에 보면은요 여기에 보면은 이런 식으로 구현이 들어가거든요 어렵잖아요 코드가 그죠 이런 거 보면은 이런 식으로 어렵다고요 그래서 여러분들이 어려우실 것 같아서 제가 요번에는 인보크 그래프와 스트림 그래프를 만들어 놨어요 어 근데 이거는 제가 만들어도 너무 잘 만든 거 같아요 그래서 왜 잘 만들었는지 이거 어떻게 쓰시는지 알려 드릴게요 자 여기에서요 여러분들이 일단 question에다가이 질문을 넣어 가지고 질문을 합니다 이렇게 만들어도 되고 아니면은 인풋트에다가 이렇게 넣으셔도 돼요 그냥 퀘션스에다가 이렇게 넣으셔도 됩니다 딕셔너를 상관없어요 자 그런데 어 우리가 제가 이게요 너무 심플해요 일단 실행해 볼게요 인보크 그래프를 하면은 얘는요 여기 보세요 이렇게 제가 예쁘게 포인팅도 해 놨어요 그래서 맨 처음에 노드가 리틀브 노드 우리 여기에 보면은 리틀 노드로 들어갔죠 들어가서 여기에 초록색으로 나오는 거는이 키값 키값이 업데이트가 되면요 업데이트가 되면이 초록색으로 표기를 해 줘요 여기서 업데이트란 뭐냐 얘가 이렇게 키값을 반환을 해 주잖아요 그럼이 반환된 값은 신규로 업데이트 되는 값이라고 보는 거예요 그래서이 값만 출력을 해 줘요 그러니까 나머지 값들은 다 출력하는게 아니라 반환되는 값만요 그래서이 반환되는 값에 보시면은 컨텍스트에 이렇게 어 컨텍스트 리트리브 한 결과가 담겨 있고요 그다음에 lm 엔터 노드로 가잖아요 그럼 최종적으로 이제 엔서를 반환하게 되는데 엔서이 이렇게 나왔다는 거를 우리가 알 수가 있죠 그래서 인보크 그래프를 수행하면요 얘가 따다 스트리밍 출력은 안 되지만 우리가 디버깅하기에 좋아요 여기서 디버깅이란 무엇이냐 우리 개발자 관점에서 개발을 할 적에이 노드 하나하나의 반환값들을 우리가 모니터링 해야 될 때가 있거든요 그럴 때에는 인보크 그래프를 쓰시면 좋아요 왜냐면이 노드가 다 출력이 되고이 노드의 반환값들을 이렇게 확인해 볼 수가 있는 거죠 이게 좋은데 근데 나중에 우리가이 노드가 되게 복잡해지잖아요 그러면이 값들이 계속 출력이 되면 이것도 스트레스예요 그래서 우리가 어 나는 컨텍스트에서 반환값들 너무 기니까 이거는 그냥 생략해 버리고 싶다 하실 수도 있거든요 그런 경우에는 어떻게 하시면 되냐면 여기에 이제 노드 이름이 있잖아요 llm 엔터 노드가 있고 그다음에 여기에 리트리브 노드가 있잖아요 여기에다가 쉼표를 하나 더 주시고 내가 출력하고 싶은 노드에 이름만 넣어 주시면 돼요 lm 엔서 이렇게 넣으시면 자 실행해 볼게요 자 출력을 하게 되면은 어 요것만 깔끔하게 나옵니다 그러니까 너무 좋은 거죠 내가 출력하고 싶은 노드만 리스트로 감싸서 넣어 주면 걔네들만 나오기도 하고요 아니면은 이거를 아예 빼 버리면은 이제 전체 노드가 다 출력이 되는 그런 형태로 제가 구성을 해 놨습니다 그래서 여러분들이 이렇게 어 개발을 하실 때 각각의 노드에 어떤 출력값이 나오는지 보고 싶다면이 인보크 그래프를 써 주시면 되고요 인보크 그래프를 쓰는 방법 앱이랑 인풋 앱은 뭐냐면 우리 그래프요 우리 여기서 만들어 놓은 그래프 있죠 요거 요거 넣어 주시면 되고 그다음에 인풋 인풋는 여기서 만들어 놓은 인풋트 넣어 주시면 되고 마지막으로이 컨피그 컨피그값 넣어 주시면 됩니다 그래서 요렇게 만들어 봤고요 자 그런데 우리가 서비스 단계에서는 이렇게 나오는 것보다 llm이 제너레이션하는 부분 있죠 그러니까 낮변을 생성하는 부분 이거를 기다렸다가 지금은 한 번에 출력을 하거든요 여기서부터 여기까지 기다렸다가 한 번에 빵 출력을 해요.데 이게 아니라 우리가 서비스 단계에서는 토큰 출력 단위로 가야 된단 말이에요 따다다 해 줘야 되면은 그때는 뭘 쓰면 되냐면 스트림 그래프를 쓰시면 돼요 자 이거의 인터페이스는 제가 똑같이 만들어 놨어요 위에 보시면요 앱이랑 인풋트랑 컨피그가 들어가 있고요 자 요게 있고 요거를 스트림 그래프로만 바꿔 주시면 돼요 어떤 차이가 있는지 한번 보여 주죠 자 실행을 하면은 자 얘는 이렇게 토큰 출력이 돼요 아 기가 막기가 잘 만들었죠 예 제가 이것도 이제 서비스 단계에서 필요에 따라서 이렇게 만들어 놓은 건데요 어 얘 같은 경우에는 LRM이 관여하는 부분에 대해서 LM이 스트리밍 출력이 가능하면 걔를 스트리밍하도록 설계를 만들어 놓은 녀석이에요 그래서 우리가 나중에는 LRM을 중간 단계에서도 쓸 수가 있는데 그 중간 단계에 있는 녀석들도 전부 다 토큰 스트림이 되더라고요 그래서 우리가 만약에 퍼플렉스티와 같은 UX를 만든다 중간에 뭐 검색하거나 확인하는 과정에서도 토큰 스트리밍을 하고 싶다 하면은 그때도 스트림 그래프를 써 주시면 됩니다 그래서 이렇게 두 가지를 만들어 놨고 보통은 여러분들이 개발 단계에서는 인보크 그래프로요 안에 있는 반환된 내용들을 확인한다 그다음에 실제 서비스 개발할 때는이 스트리밍 스트림 그래프를 통해서 스트리밍 출력을 해 주시면 되겠습니다 자 그래서 이렇게 완료가 됐으면은 마지막에 앱의 겟스테이트에 컨피그를 넣고 밸류스를 가져오면은이 아웃풋의 모든 키값들이 담겨 있어요 여기 아웃풋을 출력해 보시면은요 아웃풋트 출력해 보시면 모든 키값의 값들이 이렇게 담겨 있거든요 여기에서 이제 우리가 원하는 값들을 꺼내서 확인해 주시면 돼요 최종 값이거든요 그래서 우리가 최종 값의 패션은 이거였고 엔서를 출력해 보면은 이렇게 나온다라는 것까지 확인해 볼 수가 있죠 그래서 겟스 스테이트 하면은 이제 최종 스테이트를 꺼내는 거예요 그러니까 우리가 최종 스테이트를 꺼내면 우리가 노드를 다 돌았으니까 마지막 최종단에 다 모든 정보들이 누적된 상태로 있겠죠 거기에 밸류스를 꺼내 와서 아웃풋에 담고요 그 얘는 딕셔너리로 되어 있어요 우리 스테이트니까 그래서 딕셔너리에 키값으로 꺼내서 값을 하나하나 확인해 주시면 되겠습니다 네 그래서 이번 시간에는 우리 02번 파일에 대해서 보셨고요 아주 간단한 라이브 레그에 대해서 보셨습니다.이 라이브 레그를 랭그래프로 옮겨서 저희가 구형까지 해 봤고요 실제로 우리가 이번에는 그래프를 실행을 해서 안에 디버깅 하는 방법도 보셨고 그다음에 스트리밍 출력하는 방법까지도 같이 한번 답변의 할루시네이션 관련성 평가 모듈 추가 보셨습니다 네 네 안녕하세요 어 이번 시간에는 관련성 체크 축하하는 방법에 대해서 알아보도록 하겠습니다 저희가 이전에 보셨던 02번 파일이랑 연결되는 파일이라고 보시면 좋을 것 같아요 그래서 저희가 이번에는 관련성 체크를 이전에 수행했던 나이브 래그에다가 중간에 여기 보신 바와 같이이 렐러스 체크하는 로직을 추가해 보도록 할 거예요 그래서 우리가이 관련성 체크라고 하는 거는이 답변의 문서에 대한 그러니까 여기서 말이 좀 이상한데 답변의 문서가 아니라 우리가 리트리브한 문서죠 그니까 검색된 문서라고 제가 수정을 해 놓을게요.게 답변의 문서가 아니라 검색된 문서죠 검색된 문서에 대한 관련성 체크를 수행을 할 거예요 그래서이 관련성 체크는 누가 하느냐 사람이 하는게 아니라 우리는 LMS 저지를 쓸 겁니다 그래서 오픈 AI 모듈을 써 가지고 여기에다 프랑프팅을 해서 그라운드 니스 체크를 줄 거고요 그래서이 그라운드스 체커를 통해서 우리가 검색된 문서가 질문과 관련성이 있는지를 먼저 체크를 해 줄 거예요 이렇게 체크를 해서 만약에 관련성이 없다 노라고 나오면은 다시 리트리브를 하도록 유도를 할 거고요 관련성 체크해서 통과를 하게 되면은 바로 답변 생성을 하도록 요런 흐름으로 만들어 봤어요 이번 튜토리얼의 목적은 뭐냐면 물론 우리가 그라운드니스 체커를 추가하는 것도 있겠지만 여기에다가 컨디셔널 엣지이 조건문을 추가를 해 가지고이 조건에 따라서 예 or 노에 따라서이 흐름을 분기할 수 있는 그 내용에 대해서 좀 더 상세히 알아보도록 하겠습니다 자 그래서 이전에 보셨던 나이브래그 부분은 저희가 대부분 겹치는 내용이기 때문에 바로바로 넘어갈게요 환경 설정하는 부분과 그다음에요 랭스미스 추적하는 부분 똑같습니다 이전에 했던 내용이랑 그래서이어서가 보도록 하겠고요 요거 가져오는 것도 동일해요 동일하고 그다음에 스테이트 정의하는 부분도 동일한데 여기에 뭐가 추가가 됐냐면 렐러스 부분만 추가가 됐어요 그래서 이게 관련성이 있다 없다를 체크해 주는이 렐러스 부분이 새롭게 추가가 됐다 이렇게 이해를 해 주시면 되겠고요 그다음에 노드 정의를 해 줄 거예요 노드 정의도요 이전에 보셨던 내용이랑 동일해요 여기 리트브 도큐먼트 부분에 보면은 리트리브 하는 내용 코드 하나 토시 하나 안 틀리고 똑같이 들어가 있고요 그다음에 LM서 부분도 동일하게 들어가 있어요 자 그런데 여기에 이번에 추가되는 노드가 바로 렐러스 체크하는 노드와 여기 밑에 보시면은 is트 요거는 엄밀히 따지면 노드는 아니고 우리가 컨디셔너 엣지에서 활용하기 위한 그런 함수 분기 처리를 위한 함수를 추가해 둔 거예요 자 그러면 렐러스 체크는 어떤 식으로 동작하느냐 우리가 그라운드 닛스 체커를 가져올 건데 요거는 제가 패키지 안에 만들어 놓은 모듈을 가져올 거예요 그래서이 그라운드니스 체커는요 여기에다가이 사용법은 우리가 먼저 GPT를 이렇게 설정을 해 줍니다 뭐 4 5 미니를 넣으셔도 되고 아니면 여러분들이 좀 더 정교하게 하고 싶다면은 좀 더 똑똑한 GPT 4 5를 써 주시면 됩니다 그래서 넣어 주시고요 그다음에 타겟에다가는 이제 두 가지가 있는데 question션 엔터를 넣으실 수도 있고 question션 리트리버를 넣으실 수가 있어요 뭐가 다르냐면 question션리트리벌은이 검색된 문서와 질문을 관련성 평가를 해 주는 거예요 그래서이 검색된 문서가 질문에 답변하기 위한 내용이 포함이 돼 있는지 관련성이 있는지 그걸 체크하는게 크션 리트리버이에요 우리가 이번에 활용할 거고요 그다음에 나중에 최종적으로 답변 생성을 해서이 생성된 답변이 질문과 관련성이 있는지 보고자 할 때는 question션 엔서를 써 주시면 됩니다 그래서 이렇게 만드실 수가 있는데요 아 요것도 지금 좀 오타 있네요 리트리벌로 제가 바꿔 둘게요 리트리벌 렐로먼트로 맞춰 주고 얘도 바꿔 줄게요 이런 식으로요 자 그다음에 관련성 체크를 수행을 하게 됩니다 인보크를 날리게 되면은이 결과가 예솔노 노로 나오게 돼요 그래서 여기에다 넣어 주실 때는 우리가 question션 리트리버이니까 question션과 컨텍스트를 넣어 주면 돼요 그래서 이전에 우리가 과정에서 지금 여기 보면은 어 question션을 넣으면 검색을 하잖아요.이 검색대 문서를 컨텍스트에다 넣어 줄 거거든요 그러면 퀘션 채워졌고 컨텍스트가 채워졌어요 채워졌으니까요 두 개의 문서를 가지고요 여기에다가 넣어 가지고 관련성 체크를 수행하게 됩니다 그러면 리스의 스코어를 찍어 보면은 이거에 대한 스코어가 예인지 노인지 나와요 예면 관련성이 있다 노면은 관련성이 없다 이런 식으로 나옵니다 그러면 이걸 나중에 최종적으로 예솔 노에 따라서 분기 처리를 해 줄 거예요 요건 조금 있다가 다시 한번 돌아와서 볼게요 자 그러면 우리가 노드가 하나가 더 추가가 됐어요 릴러스 체크하는 노드가 그럼 밑에 한번 보시죠 나머지는 동일해요 나머지는 동일한데 지금 여기에 렐러스 체크하는 노드가 하나가 추가가 됐고요 그다음에 여기에 애드 컨디셔널 엣지스 부분에 릴러스 체크하는 노드로부터 시작되는 조건부 엣지가 추가가 됩니다 자 일단 얘를 실행하고 실행하고 밑에서 한번 볼게요 자 이렇게 실행하게 되면은요 여기 중간에 보이시는이 노드 있죠?이 이 노드를 우리가 방금 추가해 준 거예요 자 그런데이 릴스 노드를 추가를 했고 여기에서부터 시작하는이 릴러스 체크로부터 시작하는 조건 분기문을 하나 만들어줬어요 그래서 이거의 결과에서 not트인 경우와 렐트인 경우 두 가지로 지금 분기로 나눠져 있는 것을 볼 수가 있죠 자 그러면 여기에서이 isvent트 우리가 항상 콜러블 함수를 넣어 줘야 되기 때문에 여기에다가이 is버트 함수를 하나 더 만들어 준 거예요 자 그러면이 is 러트 함수로 한번가 볼게요 보면은 이전 스테이트에서 러스에다가 여기에다가 or노를 적게 되잖아요 만약에 관련성이 있다면 예가 담기 되고 관련성이 없다면 여기에서 노가 담기게 되는 거죠 그러면 is relevant 함수에서 스테이트에 꺼내 봅니다 꺼내 봐서 러번스한지 아닌지 체크해 보는 거죠 체크 봤더니 예다 어 그러면 릴러트라는 문자를 반환해 줘요 체크 봤는데 만약에 이게 예가 아니다 그러면은 not트를 반환을 해 줍니다 자 그러면 렐러트를 아까 반환해 준다라고 했잖아요.이 함수가 렐러트 관련성이 있다라고 반환을 해 주면 얘는 어디로 보내요 흐름을 관련성이 있으니까 그다음에 바로 답변 생성하러 가면 되겠죠 lm 엔서 쪽으로 보내 주는 거예요 그런데 얘가 not 렐러트라고 반환을 해 주게 되면은 그러면 얘는 리트브 노드로 보내 주게 되는 거죠 여기 보면은 다시 리트리브 가서 다시 검색을 해라 다시 검색을 해라라고 요청을 주게 되는 거예요 자 그렇게 해서 이제 만들어 놨고요 요거를 실행하게 되면은 만약에 관련성이 있으면 답변 생성하러 가고 없으면 이거를 뺑글뺑글 돌게 되는 거죠 자 얘를 그래프 실행을 한번 해 볼게요 우리가 실행하는 거는 이전에 보셨다시피 똑같이 실행하면 되는데 우리가 중간 과정을 다 출력할 필요 없이 이번에 릴러스 체크랑 LRM 엔서 부분만 한번 실행을 해 볼게요 이번에 우리가 질문을 할 거는요 엔스로픽에 투자한 기업과 투자 금액을 알려 주세요 이렇게 실행을 해 볼 거예요 해보면 렐러스 체크에서 검색된 문서가 질문과 관련성이 있대요 그래서 릴러스 체크에 예수로 나왔고 그리고 LM 엔서 쪽에 보면은 엔서에 어 바로 답변 생성하는 거를 볼 수가 있다 왜냐면 관련성 체크를 했으니까 자 이렇게 하면은 여러분들의 외그 정확도도 올라갈 수밖에 없어요 왜냐면 우리가 문서를 평가를 할 때 이미 관련성이 있는지 없는지를 평가를 했기 때문에 만약에 없는 경우가 발생하면 다시 리트리브로 보낼 수가 있게 되는 거죠 그러니까 우리가 기존에는 이런 관련성 체크를 전혀 하지 않았어요 그리고 어떤 조건문을 주지도 않았습니다 그러다 보니까 이게 관련성이 있든 없든간에 답변을 만들어 내죠 그이 만들어 낸 답변이 관련성이 없는 문서로 만들어 냈으면은 얘는 말짱 꽝인 거죠 얘는 완전히 할루스네이션이 나올 가능성이 있어요 근데 우리가 이거를 통해서이 중간에 할루스네이션이 나올 가능성이 있는지 없는지를 중간 버퍼를 통해서 이제 체크를 해 볼 수가 있게 된 거예요 자 이렇게 만들었고요 얘를 스트림 그래프 해도 마찬가지로 잘 나옵니다 예로 나오고 이렇게 엔서를 해서 우리가 스트리밍 출력까지 잘 나오는 것을 볼 수가 있었어요 자 그래서 최종적으로 이렇게 확인해 보면은 어 잘 나온 것까지 확인해 볼 수가 있고 렐러스도 체크해 보면은 예스라고 나오죠 자 그런데 우리가 이다음에 해 볼 거는 일부러 이상한 질문을 던져 볼 거예요 그래서 관련성 체크를 통과하지 못하도록 한번 만들어 보겠습니다 그래서 여기 밑에 보시면은 이번에는 질문을요 데디노트의 랭체인 튜토리얼에 대한 정보를 알려 주세요라는 질문을 던져봤어요 완전히 문서랑 관련이 없거든요 이런 내용은 없어요 그러면 얘는 관련성 체크를 할 때 계속 노가 뜰 거거든요 한번 보시죠 자 얘를 한번 실행해 볼게요 자 실행하면은 노가 계속 뜨죠 왜냐면 이런 내용은 없으니깐요 그래서 노가 계속 뜨다가 얘가 리컬션 리미트에 걸려 버립니다 우리가 리컬션 리미트에 10으로 했으니까 10개 노드까지 왔다 갔다 할 수가 있는 거예요 그러면 왔다 갔다 해서 최종적으로 노를 가다가 얘가 리컬 리미트에 걸려서 중간에 멈추게 됩니다 지금 API 상태가 좀 느려서 그런지 답변이 조금 늦게 나오네요 원래이 정도 느리진 않고요 얘를 껐다가 다시 한번 해 볼게요 여기다가 중간에 여러분들도 이렇게 행이 걸리는 순간 있거든요 행이 걸려 버리면은 그러면 저처럼 이렇게 인터프트를 주시면 돼요 그럼 꺼지죠 다시 한번 실행해 보십시오 자 노 해서 지금 리컬션 에러로 금방 끝났어요 이렇게 금방 끝나야지 정상입니다 그러면 리컬션 리미트가 10이 리치드 됐대요 이게 왜 다섯 개밖에 안 출는데 왜 열 개인가요라고 하실 수 있는데 노드가 왔다 갔다 하나 노드 방문할 때마다 일씩 카운트가 어떻게 되는 거냐면 어 하나 둘 셋 넷 다섯 여섯 일곱 여덟 아홉 열 이런 식으로 가서 이제 실제로 찍히는 거는 다섯 번 밖에 안 찍히게 되는 거지만 실제로 얘가 방문한 노드는 10열 개 도달하게 된 거죠 근데 개의 도달을 먼저 했기 때문에 and드에 도달하기 전에 열 개의 중간 노드에 도달했기 때문에 얘는 그래프 리컬션 에러를 띄우고 멈춰요 근데 우리가 트라이셉트 구문을 통해서이 그래프 리컬션 에러로 이렇게 잡아낼 수가 있거든요 그러면 우리가 서비스가 죽어 버리는 그런 현상을 좀 방지할 수가 있어요 그래서 어 여러분들이 항상이 원래 같았으면은 이제 어 인크를 할 때도 인보크나 스트링 그래프를 할 때도 이렇게 트라이셉트 구문으로 만약에 사태에 대비를 해서 얘가 이제 중간에 재기에 계속 빠지는 경우를 대비를 해서 이런 식으로 구성하는게 좋아요 어쨌든 요지는 뭐냐면 이런 내용은 당연히 없기 때문에 얘가 아무리 문서 검색을 해도 관련성이 제대로 잡힐 수가 없어요 그러다 보니까 얘가 이제 리컬션 리미트에 걸리고 끝나 버렸죠 자 근데 여기서 궁금한 건 뭐냐면 우리가 우리가요 여기서 릴러스 체크를 하고 다시 검색하라고 요청을 했잖아요 근데 이게 왜 못 찾느냐 원래 이제 문서 안에 당연히 이걸 답변하기 위한 내용이 없었을 수도 있지만 근데 여기서 더 중요한 건 뭐냐면 리트브를 할 적에 똑같은 쿼리문으로 계속 검색을 하거든요 그러니까 우리가 만약에 만약에 내가 그 방금 우리가 질문한 내용이 있다 하더라도요 동일한 질문을 넣는 건 사실 의미가 없겠죠 왜냐면 동일한 질문을 넣으면 동일한 항상 동일한 검색 결과가 나올 거니까 동일한 검색을 가지고 똑같이 리트리버 하는 거는 큰 의미가 없습니다 그래서 보통 어떻게 되냐면 만약에 여기서 릴레트가 뜨게 되면 퀄리 리라이트를 해 줘요 퀄리 리라이트를 해서 질문을 제작성을 한 다음에 다시 한번 질문을 하는 구조가 바람직하겠죠 근데 여기서는 이제 보여 드리려고 이런 식으로 한번 구성을 해 봤습니다 그래서 저희가 이번 시간에서는요 이렇게 어 릴스 체크 실패를 하고이 노 들어가는 상황에 대해서 먼저 보셨다라고 보시면 되고요 여기 아까 제가 말씀드린 것처럼 동일한 쿼리가 다시 리트리브로 들어가게 되면은 동일한 검색 결과를 이어지기 때문에 결국에는 계속 제기된 제기 상태에 빠질 수밖에 없어요 그래서 리컬션 리미트로 해서 요거를 이제 딱 잡아내는 것까지는 보셨지만 우리가 이게 궁극적으로 해결한 건 아니잖아요 그래서이 다음 튜토리얼부터는 이걸 어떻게 궁극적으로 좀 해결을 해서 릴러스 체크에 페일이 떴을 때 다른 방식으로 우리가 검색 도출 할 건지 만약에 외 검색이 필요하면 외 검색을 할 거고 만약에 다시 쿼리 리라이트가 필요하면 퀄리 리라이트 할 거고요 그래서 이런 식으로 여러분들이 자유롭게 흐름이 구성이 가능한데 그런 식으로 좀 확장해서 이렇게 재기 상태에 빠지는 것을 좀 방지하는 방법에 대해서 알아보도록 하겠습니다.네 네 이번 시간에는 웹 웹 검색 노드 추가 검색 모듈 추가에 대해서 알아보도록 하겠습니다 저희가 이전까지 봤던 내용은 라이브레그 수행과 그다음에 검색된 문서에 대한 관련성 체크까지 진행을 했었어요 자 그런데 이번에는 웹치 모듈을 추가해 볼 건데요 지금 이전에 보셨던 플로우는 저희가이 웹서치 모듈이 빠져 있었던 상태였거든요 그러다 보니까이 렐러스 체크가 바로 리트리브 쪽으로 들어가도록 요렇게 구성이 됐었고요 그다음에 렐러버스 체크를 통과를 했을 경우에는 이제 제너레이션에 들어가도록 이런 식으로 이제 구성이 되어 있었습니다 자 그러다 보니까이 렐러스 체크가 녹아 나왔을 때 어 리트리브로 들어가니까 어 계속해서 우리가 재귀에 빠져 가지고 그러니까 어떠한 쿼리 변경 없이 그냥 넣다 보니까 동일한 문서가 검색이 되게 되는 거고요 그러다 보니까 얘는 해결책을 못 찾게 되는 거죠 그래서 우리가 이번에는 어 렐러스 체크에서 노가 나왔을 때는 문서에 없는 내용으로인지를 시키고 그다음에이 결과에 따라서 우리가 웹서치로 어 우리가 원하는 결과를 검색하도록 유도를 할 거예요 그래서 검색을 해서 내용을 보강을 한 다음에이 보강된 내용을 토대로 제너레이션 하는 방법까지 알아보도록 하겠습니다 자 이전과 내용이 비슷한 부분들이 많아 가지고요 앞부분은 빠르게 넘어가도록 할게요 요것도 내용이 동일하고 그다음에 스테이트 부분도 동일합니다 question션이랑 컨텍스트 엔서 메세지스 레먼스까지 전부 다 동일하고요 그다음에 노드 정의하는 부분도 동일합니다 도큐먼트 하는 부분도 이전에 보셨던 영상이랑 동일하고 엔서도 동일하고 렐러스 체크도 동일하고요 그다음에이 렐러트까지 동일해요 자 요것도 실행해 주실게요 자 이제 다음으로 우리가 새롭게 추가되는게 바로 인터넷 검색 모듈인 태리 서치 도구이죠 요거는 랭체인 공식으로 제공해 주는 모듈도 좋은데요 그런데 제가 만들어 놓은 모듈은 좀 더 커스터마이제이션 가능하도록 이렇게 구현을 해 놨어요 그래서 태블릿 설치 도구에서는 우리가 퀄리랑 맥스 리트 그다음에 포맷 아웃풋을 툴루로 줘서 이제 포매팅 되는 기능까지 넣어 놨거든요 그래서 만약에 우리가 2024년도 노벨 문학상 수상자는이라는 내용을 이제 검색을 돌리게 되면은 이제 얘가 검색을 쭉 수행하게 되고요 최대 세 개의 검색 결과를 가져오게 되는 거죠 그런데이 가져올 때 제가 포매팅하는 기능까지 넣어 놨거든요 그래서 이렇게 예쁘게 포매팅이 쭉 되는 것까지 확인해 보실 수가 있습니다 그래서이 포매팅 되는 결과에 보시면요 어떤 식으로 포매팅이 되냐면 이전에 제가 알려 드렸던 방식과 동일하게 도큐먼트 태그가 붙어 있고 타이틀에는 이제 왼문서의 타이틀이죠 타이틀이 들어가 있고요 그다음에 URL 부분에는 URL이 쭉 들어가 있고 컨텐트 부분에는 컨텐트가 들어가 있는 것을 확인해 볼 수가 있습니다 자 이렇게 포매팅을 하실 수도 있고 어 나는 포매팅이 싫어요 내가 직접 포매팅을 하고 싶어요 하시는 분들은 이거를 퍼스로 줘서 실행을 하게 되면은 자 요것도 한번 결과로 한번 보여 드리죠 자 이런 식으로 나옵니다 자 여기에 보면 쭉 올려 볼게요 자 이렇게 나오는데 요게 어 딕셔너리 형식으로 이렇게 들어가 있어요 그래서 타이틀에서 타이틀 가져올 수 있고 URL 그다음에 컨텐트 내용으로 검색된 결과를 보실 수가 있습니다 저희가 이번에 진행할 때는 툴로 놓고 한번 진행해 볼게요 자 그다음에 다음으로는 검색 노드로 패키징해서 추가를 할 거예요.이 이 패키징 한다라는 말은 뭐냐면 우리가 노드로 만들기 위해서는 이런 식으로 구성이 되어 있을 때는 노드로 만들 수가 없어요 왜냐면 우리가 노드를 만들 때에는 함수 형태로 구현이 되어 있어야 되죠 그래서 디파인으로 시작하는 키워드로 시작해서 노드명이 들어가고 그다음에 스테이트를 입력으로 받고 그다음에 스테이트를 반환하는 그런 구조 안에서이 과정이 일어나야 됩니다 자 그래서 우리가이 노드를 만들어 볼 건데요 밑에 보시면은 똑같은 내용이에요 동일한 내용인데 요거를 옮겨줬고 그다음에 맥스 리트는 좀 여섯 개로 좀 늘려 봤어요 그래서 요거는 여러분들이 알아서 원하시는만큼 조절하셔도 되고 나중에 스테이트의 키값으로 뭐 맥스 리트를 넣어 가지고이 맥스 리트 값을 동적으로 넣는 것도 가능합니다 저희는 일단 고정으로 여섯 개를 넣어 봤어요 자 그래서 태블릿 설치 도구를 써 가지고 이제 쿼리 검색을 하게 되고 퀄리한 결과를 컨텍스트 안에 넣어서 반환하게끔 주는 거죠 자 우리가 컨텍스트 부분에요 이전까지 레그체인에서는 문서에 검색된 결과를 컨텍스트에다 넣어 줬었거든요 그런데 이번에는 그게 아니라 컨텍스트에다가 웹을 한 결과를 넣어 준다 이렇게 이해하시면 되겠습니다 자 요거 실행해 주시고요 그다음에 엣지 연결하는 부분도 이제 쉬워요 우리가 하나씩 누적이 되니까 자 이전까지 어 추가했던 노드들 그대로 들어가 있고요 그리고 아니라 우리가 이번에 만들어 놨던 웹서치 노드를 웹서치라는 노드 명으로 추가를 해 줬어요 자 이렇게 노드 추가를 해 주고요.이 부분이 중요합니다 우리가 이전에는 날 릴트했을 때 리트리브로 보냈거든요 그래서 리트ave를 보낸다는 말은 뭐냐면 우리가 관련성이 없다라고 판단이 들면 여기에서 릴러스 체크 노가 나왔을 때 바로 위로이 리트리브로 들어가게끔 이런 식으로 구성을 해 놨던 거죠 그런데 우리가 이번에는 그게 아니라 얘로 보내지 말고 웹치로 보내서 필요한 내용들을 보강을 해서이 제너레이트 LM 쪽으로 라우팅 할 수 있도록 이렇게 만들어 주자라는 거예요 그래서 다시 쭉 아래로 내려와서 보시면은 어 여기에서 웹서치 노드가 추가가 됐고 not트라고 판단이 되면 웹서치로 이제 웹색을 수행하도록 하는 거죠 관련성이 없으면 이제 웹하는 걸로 이거 웹합니다로 이제 바꿔 놨어요 자 요런 식으로 이제 수행을 하게 되고 나머지 내용은 동일해요 자 거 실행해서 우리 그래프 한번 시각화해 보도록 하겠습니다 자 그래프를 시각해 보시면 이제 좀 예쁜 그림이 나오게 되는데 자 이렇게 되는 거죠 리트리eve를 하고요 검색을 하고 관련성 체크를 수행합니다 그래서 만약에 관련성이 있다라고 하면은 우리가 래그한 그러니까 그 벡터 DB로부터 래그한 PDF 문서죠 pdf 문서 안에서 답을 찾을 수 있다라고 판단했기 때문에 검색된 문서를 LM엔한테 넣어서 이제 답변에 도출하게 되는 거고요 만약에 우리가 찾아봤는데 어 그 해당 내용이 문서에 없다라고 판단이 들면 웹을 해서 웹 검색한 내용을 토대로 래그를 수행하게 되는 그런 구조로 이제 짜본 거죠 자 이제는 그래프 실행을 한번 해 볼 거예요 실행하는 건 어렵지 않죠 네 동일합니다 자 이번에는요 우리가 문서 안에 없는 질문 한번 던져 볼 거예요 그래서요 내용은 문서 안에 없거든요 원래가 됐으면 재기처럼 뺑글뺑글 돌았는데 이제는 얘가 없다라고 판단이 되면 외 검색을 수행하게 되는 거죠 자 그래서 요거를 한번 실행을 해 볼게요 실행을 하게 되면은 렐러스 체크에 보면은 얘가 노로 떴잖아요 노로 떴기 때문에 얘는 그다음으로 외 검색을 수행하게 되는 거예요 외검 검색 내용은 지금 비워 놨는데 워낙 내용이 길다 보니까 비워놨어요 외 검색을 토대로 이제 LM 엔서를 주는 걸 볼 수가 있는데요.이 엔서 쪽에 보시면은 2024년도 노벨 문항상 수상자는 한국의 작가 한강입니다 년의 채식 주지자와 소년이 온다의 저자로 최초로 노벨 문학상을 수상했습니다라는 내용이 들어가 있고 그다음에 솔스 부분에도 이제 출처가 예쁘게 잘 들어가 있는 것을 볼 수가 있습니다 마지막으로 우리 채 메시지까지 이렇게 잘 들어가 있네요 자 그러면 우리가 이번에도 이제 그래프 스트리밍 출력을 할 수가 있어요 자 그래서 요것도 동일하게 실행하면은 릴러스 체크가 노가 뜨면은 어 이렇게 얘가 외검 검색을 수행하게 되겠죠 외 검색 수행을 해서 요런 식으로 이제 완성을 해 주는 거까지 보실 수가 있습니다 소스까지 잘 나오는 거 보니까 거의 완벽한 거 같아요 그래서 최종 출력값을 확인해 보시면은 이제 원래 질문은 이렇게 들어가 있었는데 엔가 인터넷 검색 결과를 토대로 이런 식으로 잘 나온다 마지막으로 출척까지도 예쁘게 잘 포함해 주는 것까지 볼 수가 있습니다 자 이제 여기까지 되시면은요 여러분들이 어느 정도 감을 잡으셨을 것 같아요 우리가 처음에 라이브 레그부터 시작해서 이런 식으로 여러분들도 개발을 하실 때요 내가 처음부터 완벽하게 다 설계를 하고 하겠다 하면은 굉장히 머리가 아파요 근데 일단 나이브한 레그를 만들어 보고 내가 부족한게 뭔지를 체크를 해 본 다음에 이런 식으로 모듈을 하나씩 하나씩 붙여 나가다 보면은 여러분들이 이제 나중에 봤을 때 굉장히 흐름이 탄탄해지는 것을 볼 수가 있습니다 그래서 우리가 이전에 러먼스 체크를 했을 때 노가 나왔을 때 not 먼트가 나왔을 때리브로 가서이 제기적인 문제를 이번에는 웹서치라는 노드를 통해서 한번 풀어 쿼리 재작성 모듈 추가 봤습니다 네 안녕하세요 이번 시간에는 쿼리 제작성 모듈을 추가해 보는 어 우리가 연속된 튜토리얼의 마지막 시간이라고 보시면 될 거 같습니다 그래서 우리가 이제 마지막으로 쿼리 리라이트까지 추가를 하면은 이제 대략적으로 기존 나이브 레그에서 우리가 랭그래프를 활용한 것까지 이전을 했고 그다음에 여기다가 이제 외검 검색 모듈과 쿼리 리라이트까지 추가함으로써 이제 얼추 완성이 돼 가는 느낌이에요 그래서 관련성 체크 모듈도 들어가 검색도 들어가 쿼리 리라이터 하니까 기존에 있었던 아주 순정 모델의 나이브 레그보다는 좀 더 업그레이드된 레그를 우리가 만들 수가 있는 거죠 자 그래서 우리가 쿼리 제작선 모듈을 추가를 해 볼 건데요 전혀 어렵지 않습니다 우리가 이번까지 왔었으면 이제 위에다가 쿼리 리라이트 모듈을 이제 추가만 해 주면 되는 거거든요 그래서이 모듈러 레그의 장점 여러분들 이제 좀 와닿으시나요 이렇게 모듈 구조로 짜서 조립하듯이 하나씩 하나씩 추가하는게 전혀 어렵지 않은 거죠 그래서 이제 마지막으로 여기에 들어가 있는 쿼리 리라이트 모듈을 한번 추가해 보도록 할게요.이 쿼리 리라이트라는 거는요 유저가 보통 question을 친절하게 주지 않을 가능성이 높은 거죠 그러다 보니까 유저가 입력한이 question션을요 다시 한번 리라이트해 주는 그런 모듈이라고 이해해 주시면 되겠습니다 자 그래서 위에 한번 볼 건데 어 환경 설정 한번 해 주시고요 그다음에 임포트하고 추적하고 PDF 기반 요것도 가져오시고요 스테이트 정의 부분도 바뀐게 없습니다 다만 여기 퀘션 부분에다가 우리가 누적을 시키기 위해서 리스트 형식으로 바꿔 놨어요 뭐 우리가 이렇게 리스트로 넣어도 되고요 아니면은 또 하나 허용되는 방식 중에 하나가 좀 더 깔끔하게 난 하고 싶다 하면은 리스트에 어 str런 식으로 넣어 주셔도 되는 거죠 자 그러면 얘가 리스트이기 때문에 우리가 리서 함수인 애드 메시지를 넣었단 말이에요 그러면 우리가 퀘션을 리스트에 묶어서 반환을 하게 되면은 question션의 누적이 됩니다 자 그런데 우리가 이전까지는 question은 str로 가져갔었어요 리스트가 아니었거든요 그럴 때에는 우리가 question을 반환하게 되면은 원래 있었던 질문을 얘가 덮어 씌우게 돼요 자 그런데 여기 위에 한번 볼게요 만약에 여러분들이 유저의 질문이 들어오고요 우리가 리라이트 하면은 우리가 리라이트 하는 결과물이 일반적으로 더 좋거든요 그렇기 때문에 원래 질문은 그냥 덮어 씌워도 되긴 합니다 자 그런데 제가 덮어 씌우지 않고 누적을 시킨다라는 의도는 뭐냐면 원래 있던 질문이 그대로 남아 있고요 그러니까 여기다 적어 보면은 원본 질문이 그대로 남아 있고 그다음에 여기에다가 리라이트한 질문을 누적을 시킨다라는 개념이거든요 요런 식으로 그럼 원본을 왜 살려둘까요?이 이 Y를 생각해 보는게 사실 중요한데 여기에는 제가 직접 개발을 하다 보니까 느끼게 된 점이 이제 유저가 원래 질문을 한 내용이 있잖아요 근데 리라이트 내용을 우리가 보여 주는 것도 방법이 될 수 있겠지만 유저가 대충 질문을 해도 우리가 알아서 내부적으로 리라이트를 해서 좋은 결과로 이끌어냈다 즉 유저의 질문은 원본 그대로 보여 주고요 결국엔 우리가 좋은 답변을 이렇게 보여만 주면 되는 거지 중간 과정에 있는 리라이트는 굳이 보여 줄 필요도 없을 수도 있는 거예요 물론 우리가 리라이트 하는 과정을 보여 줘도 되겠지만 그니까 제가 드리고 싶은 말씀 뭐냐면 우리가 원본을 살려두기 위해서는 원본에다가 덮어 씌워 버리면 안 된다는 소리예요 우리가 만약에 리라이트해서 덮어 씌우게 되면은 유저가 실제로 입력한 질문과 어 나중에 표기되는 question이 약간 괴리감이 있어요 이게 왜 변하지 이렇게 느낄 수도 있단 말이죠 그래서 우리가 원보는 유저가 원래 입력한 질문을 보관하기 위한 용도로만 보관을 하고 실제로 우리가 쿼리을 날릴 때에는 리라이트한 질문으로 넣기 위해서 이런 식으로 리스트의 스트링 애드 메시지 리서로 구현을 한 겁니다 자 그래서 그것만 인지해 주시면 되겠고요 그다음에 밑으로 내려가서 우리가 노드들 나머지 거는 똑같아요 랜서 맞는 거 그다음에 렐러스 체크 이러트 확인하는 거 그다음에 웹서치 모듈까지 전부 다 동일하게 들어가 있습니다 자 이번에는 쿼리 리라이트 하는 노드를 추가해 볼 건데요 간단한 프랑프트 템플릿에 맞춰서 어 퀄리 리라이트 해 주는이 프롬프트를 제가 한번 작성을 해 봤어요 그래서 여기다가 쿼리 리라이트 프롬트를 넣어 주고 스텝스에 어떤 방식으로 리라이트 할 건지 넣어 줘 봤고요 그다음에다가 인풋 아웃풋에 대한 리라이트 내용을 넣어 줬어요 자 이렇게 넣어 주고요 리라이터에다가 GPT 45미니 혹은 나는 좀 더 정교하게 하고 싶다 그러면 4 5를 가져와서 쓰셔도 되는 거죠 자 요런 식으로 써 주고요 리라이트 프롬트에 어픈 AI 그다음에 마지막으로 STR 아웃풋 파서까지 이렇게 만들어 줬습니다 체인을 만들어 준 거죠 그래서 question션 리라이트를 하나 만들어 주고요 여기에다가 원래 질문을 한번 넣어 볼게요 엔스로픽에 투자한 미국 기업 상대적으로 조금 단순하게 한번 넣어 봤는데요 이게 좀 더 풍부한 표현으로 바뀌는지 한번 볼게요 자 보시면은 엔스로픽에 투자한 미국 기업은 어떤 곳들이 있나요 이렇게 좀 더 친절한 오로 잘 바뀐 것을 볼 수가 있죠 자 그러면 우리가 퀘션 리라이터를 통해서 이제 원래 있던 질문을 다시 리라이트 해 준 건데 우리가 얘가 노드로 돌아가기 때문에 노드로 패키징을 한번 해 주는 작업이 필요하겠죠 자 그래서 우리가 이거를요 함수 형태로 만들어 줄 건데 이제 함수의 이름은 qu리 리라이트로 줬고 입력으로 들어오는게 이제 스테이트이고요.이 스테이트의 question션에 -1번째 한다라는 것은 무슨 의미냐면 question션은 리스트예요 리스트라는 말은 누적이 되는 개념인데요 q1 q2 이렇게 쭉 누적이 될 거예요 -1이라 거는 가장 최신에 넣어줬던 패션을 의미합니다 사실 얘가 리라이트를 하는데 어 왜 가장 마지막 걸 가져오냐면 원본 그냥 질문 가져오면 되잖아요 그게 아니라 최근 짐을 넣는 이유는 우리가 리라이트를 여러 번 수행할 수가 있어요 그러니까 원래 있었던 question이 있고 question션 리라이트 첫 번째 시도했던게 있고요 이게 또 결과가 안 좋을 수도 있거든요 그럼 이걸 토대로 question션 리라이트 2를 또 만들어 내고 3 이렇게 계속 만들어 낼 수가 있어요 그래서 -1을 주겠다는 거는 가장 최신 질문을 가져온다라는 뜻이니까 가장 마지막 질문을 가져와서 레이티스트 퀘션에다가 넣어 줄 거고요 이거를 넣어서 개선하는 작업을 한 다음에 개선이 됐으면 요거를 반환해 주는 형식으로 노드 구성을 해 봤습니다 자 그래프 스테이트가 티파인드네요 자 그러면은 어 우리 위에서부터 다 나파인드였네요 자 여기 그래프 스테이트가 지금 요게 실행이 안 됐죠 거 다시 한번 실행해 주시고 쭉 실행을 해서 자 이렇게 볼게요 그러면 노드 정의까지 완료가 됐고요 그다음에 엣지 정의 한번가 보도록 하겠습니다 나머지 내용은 동일해요 우리 웹치까지 추가가 돼 있으니까 여기까지 동일하고요 그다음에 퀘션 리라이트 하는 거 노드 하나 추가해 주고 그다음에 우리가 맨 처음에 질문이 들어오면은 이제 리트리브를 하고 여기에 아 퀘션 리라이트부터 하겠죠 퀘션 리라이트를 하고요 그다음에 요게 리트리브로 가고 요거 순서도 이렇게 바꿔 주면 덜 헷갈릴 것 같아요 그러니까 흐름이 먼저 질문이 들어와서 question션 리라이트를 하게 되고요 리라이트 한 다음에 리트리브 그 리라이트된 결과를 가지고 검색을 할 거예요 검색을 하고 그다음에 관련성 체크까지 넘겨 주게 됩니다 그럼 관련성 체크된 결과가 있을 거잖아요 이게 관련성이 있다 없다가 나올 건데 만약에 관련성이 있으면 lms로 가고 없으면 이전과 동일하게 웹서치를 해서 부족한 내용을 보강을 해서 최종 답변으로 받는 요런 구조를 한번 짜봤습니다 자 이렇게 짜봤고요 우리 그래프 실행 한번 해 보죠 나머지는 동일해요 그래서 요거를 그대로 실행시키면 이제 결과를 볼 수가 있는데요 자 여기에 보시면은요 우리가 엔스로픽 투자 금액이라는 어 비교적 좀 간단한 질문 했는데 얘가 예쁜 질문으로 이렇게 바꿔 준 거를 볼 수가 있고요 바꿔서 리치브 해서 결과를 얻어내고 자 그다음에 릴러스 체크에서 예스가 나와서 요거에 대한 답변을 이렇게 예쁘게 만드는 것을 볼 수가 있어요 이거 답변 만들 때도 우리가 리라이트한 쿼리 있죠 리라이트한 쿼리를 가지고 와서 요걸로 조회를 하거든요 이거를 내가 한 번 더 체크해 보고 싶다 하면은 리트리브 도큐먼트 쪽에 보면은 question션의 -1번째 그러니까 가장 최근 question을 가져오는 거를 볼 수가 있어요 원본 질문이 있고 그다음에 이걸 리라이트한게 있었으면이 리라이트한게 가장 최신이니까 가장 최신 질문이 레이티스트 question션에 담기게 되는 그런 구조로 이제 구조 변경을 한 거죠 자 그래서 다시 내려가서이 결과에 보면은 이렇게 잘 나오고요 어 요거 스트리밍 출력도 가능합니다 그래서 퀘션 리라이트 하는 부분도 스트리밍이 됐고 그다음에 LNM 엔서 부분까지 이렇게 잘 나오는 것을 볼 수가 있어요 최정 출력가까지 확인해 보시면 이렇게 잘 나오는 것까지 보실 수가 있습니다 그래서 우리가 이제 쿼리를 리라이트 하는 경우 되게 많아요 그래서 리칠별 단계에 우리가 쿼리 리라이트를 해서이 리라이트 좀 더 정성스러운이 질문으로 문서 검색을 해서 그걸로 통해서 얻은 정보를 이제 넣어서 최종적으로는 유저가 입력한 건 이건이 질문이지만 우리의 답변은 이렇게 예쁘게 나올 수 있다를 어필해 줄 수가 있겠죠 자 그래서 이번 시간에는 우리가 쿼리 리라이트 모듈을 한번 추가해 봤어요 그래서 여기까지 보시면은 어 대략적으로 나이브 레그에서 좀 더 발전된 형태의 그래프를 만들 수가 있게 되는 거고요 자,이 구조가 아주 기본 구조라고 보시면 돼요 여기서 여러분들이 응용을 하셔 가지고요 어 우리가 질문하기 전에 question션 리라이트를 한 번 더 될 수도 있고 아니면이 부분에 있던 거를 그냥 아예 빼 버리고 질문이 들어왔는데 관련성 체크가 놓일 경우에 그럴 때 리라이트를 해서 웹서치 들어가도록 이렇게도 구성이 또 가능합니다 그래서 여러 가지 여러분들이 창의성을 최대한 발휘해서요 가장 좋은 여러분들의 흐름을 한번 만드는 연습을 해 보셨으면 좋겠습니다 네 이번 영상에서는 퀄리 리라이트에 대해서 알아봤습니다 네 여러분 안녕하세요 자 [프로젝트] Agentic RAG - 에이전트를 활용한 RAG 이번 시간부터는 쭉 프로젝트가 이어지게 됩니다 저희가 무료 프로젝트가 굉장히 많아요 한 12개 13개를 연속적으로 다뤄 볼 겁니다 우리가 이제 프로젝트가 스트림을 주로 보긴 했는데 제가 여기 6번 7번 파일에서부터 유스케이스에 있는 파일들은 전부 다 이제 프로젝트 단위로 정의를 했어요 왜냐면 이거 하나하나가 이제 처음부터 끝까지 다 다른 주제를 다루고 있고요 그리고 하나하나가 그냥 주제가 아니라 하나의 파일을 제가 구성을 하는데도 굉장히 많은 시간을 쏟았습니다 그마만큼 하나가 이제 프로젝트가 될 정도로 길이도 좀 길고 해서 프로젝트라는 라벨을 달아서 이제 빼게 되었습니다 자 그래서 이번 시간부터는 우리가 쭉 프로젝트의 내용을 보게 될 건데요.이 에이전틱 레그입니다 에이전틱 레그인데 어 여러분들 파일 기준으로 6번 파일이라고 보시면 돼요 자 그런데 우리가이 에이전틱 래그에서는 에이전트를 활용한 레그 그래서 우리가 에이전틱 레그라는 말을 쓰게 되는데 요즘에 뉴스에서도이 에이전틱 레그란 말을 정말 많이 쓰죠 그래서 기존에 있던 레그가 아니라 에이전트를 활용한 레그인 에이전틱 레그를 써야 된다 뭐 이런 식으로 해서 뭐가 많이 나옵니다 자 그런데 이제 여러분들은 이거를 코드로도 직접 돌려보면서 원래 우리가 짰었던 레그와 어떤 차이가 있는지 그 내용들을 보시게 될 거예요 자 여기서 중요한 거는 우리가 이미 이전에 봤었던 에이전트의 역할입니다 자 여기에 보시면은요 우리가 이전에 봤었던 내용에서는 에이전트를 쓰진 않았거든요 에이전트는 빠져 있고 여기에 노드 하나하나를 잘 조합을 해서 어 꽤나 괜찮은 우리가 레그 파이프라인을 만들어 놨단 말이에요 자 그런데 우리가 이제 볼 거는 에이전트가 들어가 있죠 근데 우리가 에이전트를 썼다와 에이전트를 안 썼다가 어디에서 두드러지게 차이가 나냐면 바로 여기에 있는이 에이전트의 역할 부분에서 가장 크게 차이가 나요 그럼 우리가 다시 우리 16번 폴더에서 에이전트의 튜토리얼 내용에 대해서 많이 보셨는데요 에이전트와 에이전트가 아닌 경우에 가장 큰 차이점이 뭐였냐면은 바로이 에이전트를 쓰게 되면은 에이전트가 스스로 판단을 내려서 툴를 쓸지 말지 만약에 얘한테 리트리버하는 툴을 지어줬다라고 하면은 문서 검색 도구를 활용해서 래그를 수행을 할지 말지 여부를 에이전트가 스스로 판단을 내릴 수 있다라는 거예요 가령 더 쉬운 예제를 하나 들어보죠 만약에 우리가 대한민국의 수도는 어디야?라는 질문을 사용자가 했다라고 가정을 해 볼게요 그런데 우리가 대한민국의 수도는 레그를 쓰지 않아도 알 수 있는 내용이잖아요 그런데요 우리가 이전에 만들어 놨던 프로세스에 따르면 대한민국의 수도는 어디야라는 질문이 들어오면 쿼리 리라이트라 해서 좀 더 예쁘게 바꿔 주긴 하겠죠 그다음에 무조건 리트리브로 들어가게 돼요 그러니까 우리가 어 가지고 있던 문서에서 먼저 대한민국 수도는 어딘지 찾는 과정이 고정이 되어 있기 때문에 그게 바로 들어간다라는 거죠 자 이런 거는 사실 스마트하다라고 보기가 어려워요 왜냐면 대한민국의 수도는 어디아와 같은 가장 기본적인 질문들은 그냥 바로 LRM이 알고 있는 지식 속에서 답변을 해 주면 되는 부분이죠 그래야 지연 속도도 없이 가장 빠르게 답변이 나올 수 있고 불필요한 토큰 비용도 아낄 수가 있는 거예요 자 그런데 우리가 아까 말씀드린 것처럼이 구조에서는 고정이 되어 있기 때문에 우리가 무조건 레그를 수행하는 그런 파이프라인으로 지금 짜져 있는 거죠 근데 우리가 이거를 만약에 에이전틱 레그를 쓰게 되면요 에이전트가 스스로 먼저 떠이라는 과정을 통해서 판단을 내리게 되는 거예요 그래서 떠이라는 과정을 통해서 얘가 생각을 합니다 어 내가 이거 도구를 써야 될까 말아야 될까 이걸 판단 내리고요 어 이건 쉬운 지문인네 내가 바로 답변할 수 있겠다 하면은 도구를 쓰지 않고요.이 툴 컨디션도 바로 건너뛰고 바로 제네레이션을 하게끔 되어 있는 거죠 그런데 얘가 이번에는 판단 내렸을 때 뭐 삼성전자가 개발한 생성 AI는 어디야 이런 내용은 잘 모르니까 문서에서 검색을 수행하게 되는 거예요 그런 질문 같은 경우에는 그래서 툴를 써 가지고 리치브를 써서 문서 검색을 수행하게 되고요 문서 안에서 내가 답변에 필요한 내용들을 검색을 한 다음에 그걸 가지고 이제 그레이드를 합니다 그레이드를 해서이 검색된 문서가 관련성이 있는지 판단해 내리고요 관련성이 없다라고 하면은 쿼리 리라이트를 해서 다시금 수행하도록 하는 거죠 혹은 관련성이 있다라고 바로 예스라고 뜨게 되면은 바로 생성을 해서 이제 우리가 원하는 결과까지 얻을 수가 있는 거예요 그러니까 우리가 에이전트를 쓰는 가장 큰 이점은 뭐냐면요 레그를 쓸지 말지 판단하는 거를 굳이 라우팅 체인을 쓰지 않더라도 얘가 스스로 알아서 결정을 해 준다라는 점이 굉장히 매력 있는 포인트라고 보시면 되겠습니다 그래서이 에이션트를 이번에는 랭그래프 안에 녹여 가지고이 파이프라인 구성하는 방법을 한번 보실 거예요 자 먼저 환경 설정해 주시고요 그다음에 이전의 내용과 동일하기 때문에 요거는 그대로 실행해서 가져오도록 하겠습니다 자 그다음에 우리가 에이전트를 만들 때 항상 따라붙는게 뭐냐면 툴를 만드는 거죠 그래서 여기서 우리가 어떤 툴을 만들 거냐면 레그 리트리버 할 수 있는 리트리버 툴을 하나 만들 거예요 그래서이 리트리버 툴은이 에이전트한테 쥐어 줄 건데이 쥐어 주기 전에 몇 가지 설정이 필요합니다 자 그래서 여기 부분에 보시면은요 크리에이트 리틀버 2를 해서 PDF에서 문서 검색을 해 주는 리틀버 넣어 줘요 그다음에 얘를 뭐라고 부를지 별칭 넣어 줬어요 그냥 저는 똑같이 넣어 줬습니다 여러분들이 자 요렇게 바꾸셔도 됩니다 자 그런데 우리가 툴를 만들 때 그냥 아무런 관련성 없는 이름 뭐 홍길동이라고지면 안 되겠죠?이 네임도요 lm이 E2를 쓸지 말지 판단할 때 중요하게 고려해야 될 사항 중에 하나가 바로 네임이에요 그래서 PDF 리트리버를 우리가 이름으로 지정했다라는 뜻은 뭐냐면 간접적으로 LM한테 너 이거 PDF 문서한테 문서에서 검색이 필요할 때는이 도구를 쓰면 돼 알려주는 효과가 있거든요 그래서 그냥 막 짓지 마시고 여러분들이 상황에 맞게 적절하게 지어 주시면 되겠습니다 자 그다음에 또 중요한게 뭐냐면 다음으로 문자율로 길게 제가 적었잖아요.이 부분이 바로이 툴에 대한 디스크립션 부분이거든요 그런데이 디스크립션이란 건 뭐냐면 llm이 이툴을 쓸지 말지 판단낼 때 아까 네임도 참고한다라고 했었는데요.이 디스크립션도 같이 참조를 해요 그래서 어 PDF 리트리버 툴이라는 네임을 가지고 있고 그다음에 이건 언제 쓰는 거냐 search and return information about sprdf이라고 나와 있죠 그러면 유저가이 파일과 관련된 질문 했을 때에는 이렇게 디스크립션이 나와 있으니까 얘는 자연스럽게 쓰게 되는 거예요 그래서 좀 더 자세히 적어 주자면 it contains useful information on recent AI trends라고 나와 있고 document is published on December 2023 자 그래서 우리가 연도까지 이렇게 지정을 해 줬는데이 스프리 AI 브리프 문서는 이제 월간 발행되는 거기 때문에 만약에 우리 유저가 2024년도 어쩌고 해서 물어보게 된다면 아 요거는 연도가 2023년도로 나와 있으니까이 토론은 쓰면 안 되겠구나 이런 것들을 알려 주는 효과도 있어요 그래서 여러분들이요 디스크립션 적을 때 이렇게 자세히 적어 주는게 좋다라는 거고요 자 그다음에 여러분들이 아마 처음 보시는 부분이 바로 도큐먼트 프람프트 부분이에요 자 이거는 뭐냐면은요 제가 만약에 이거를 주석을 터 볼게요 음 치고 그다음에요 부분을요 분할을 한 다음에요 자 얘를 실행합니다 그다음에 리트리버툴한테 인보크를 날릴 거예요 그래서 여기에 삼성전자가 개발한 생성형 AI의 이름은 자 이런 식으로 한번 날려 볼게요 자 날리면 결과가 나오거든요 결과가 문자율로 나오죠 자 프린트를 한번 해 볼게요 툴이라서 문자율로 나오는데 이렇게 나오거든요 자 그런데 여기 보시면은요 다 좋아요.이 검색된 결과를 얘가 알아서 페이지 콘텐츠 부분만 쫙 반란해 가지고 나오거든요 네 여기에 몇 가지 문제점들이 있죠 아까도 이전에 영상에서도 제가 강조드린 것처럼 어디서부터 어디까지가 끊어지는 부분인지 명확하지는 않아요 여기 공백이 들어가 있긴 하지만 아주 명확하다라고 보기에는 좀 어렵죠 그러다 보니까 얘가 여기 끝에서 요렇게 있을 때 이어지는 문장으로 판단 내릴 수도 있어요 일단 그 첫 번째 문제점이 있고요 두 번째 우리는요 얘가 답변을 했으면 어떤 문서에 어떤 몇 페이지로부터 나온 답변이다라는 출처를 달게끔 되어 있어요 그런데 여기에는 지금 메타데이터가 포함이 안 되어 있거든요 그러다 보니까 얘는 답변을 하더라도 몇 페이지에서 발된 내용입니다라는 것을 우리한테 알려 줄 방법이 없어요 그러니까 제가 무슨 말을 드리고 싶냐면 그냥 기본값을 이렇게 쓰게 되면은 페이지 컨텐트만 가져오지 메타데이터는 반영을 안 해 준다라는 거예요 그래서 우리가 메타데이터를 효과적으로 반영해 주기 위해서 도큐먼트 프ரும்트라는 키값에다가 프ரும்트 템플릿을 써서 여기에다가 메타데이터를 이렇게 정의를 해 줍니다 자 그래서 이걸 쓰는 방법은요.이 중가를 열고 페이지 컨텐츠는 페이지 컨텐트 넣어 주시면 되고 메타데이터의 키값만 여기에다가 넣어 주시면 돼요 그래서 우리 메타데이터 안에는 솔스라는 애도 있고 페이지라는 애도 있거든요 저는 요거 두 개를 넣어 줬어요 그래서 어떻게 예쁘게 포매팅해서 넣어 줬냐면 도큐먼트 들어가고요 컨텍스트 부분에다가는 페이지 컨텐트를 넣어 줬고 메타데이터 부분에다가는 솔스 부분에 이제 문서의 파일 명이 들어가게 되는 거고요 그다음에 어 페이지 부분에다가는 이제 페이지 번호가 들어가게 됩니다 여러분들도 이런 식으로 이제 수정해서 쓰실 수가 있는 거죠 자 그래서 이걸 실행한 다음에 그다음에 제가 한번 실행해 볼게요 자 실행하면 이제 우리의 우리가 입력하해 놓은 어떻게 보면 양식이라고 말씀드릴 수가 있을 것 같은데 그 양식에 맞춰서 들어간 걸 볼 수가 있죠 그래서 도큐먼트 XM의 태깅으로 잘 되어 있고요 컨텍스트 부분에 우리가 참조해야 될 문서의 부분들이 잘 들어가 있고 페이지 번호 예쁘게 들어가 있고요 그다음에 솔스도 잘 들어가 있는 걸 볼 수가 있죠 자 이런 정보들을 우리가 같이 줘야 얘가 최종적으로 답변에 대한 어떤 참조 레퍼런스를 달 때 페이지 번호와 소스가 있기 때문에 정상 답변을 얻을 수 있게 돼요 만약에 여러분들이이 과정을 뺐다면 그 참조되는 부분이 반영이 안 되게 되는 거죠 그래서 리트리버 2를 쓸 때는 웬만하면은 도큐먼트 프롬프트를 이런 식으로 주시는게 좋다라고 볼 수가 있습니다 자 그러면 다시 얘를 합쳐서 여기다가 넣고요 목록 정의까지 해 줄게요 그러면은 툴에 우리 리트리버 툴 하나만 넣어 줬습니다 우리가 원래 이전까지 많이 했던 거는 이제 웹 검색 툴도 넣었었죠 근데 이번에는 리틸버툴만 넣어 줬어요 자 다음으로는 우리 에이전트인데요 에이전트에서 에이전트 스테이트라는 걸 정의를 해 줄 건데 얘는 타입 딕트를 상속받아서 우리가 이전까지는 뭐 그래프 스테이트라는 걸로 정의를 해 줬었는데요 이번에는 다른 거 필요 없이 메시지스만 담긴 에이전트 스테이트를 한번 정의해 볼 거예요 그래서 이게 시퀀스 베이스 메시지라는 건 뭐냐면 이건 시퀀스 시퀀셜하게 들어간다는 얘기고 리스트랑 동일하다라고 이해하셔도 좋습니다 자 그래서 베이스 메시지 형태가 쭉 들어가게 되고요 애드 메시지스 리서 함수로 메시지를 추가를 해 줄 거예요 에이전트에서는 요것만 있으면 돼요 되게 심플해지죠 자 그다음에 이제 노드와 엣지입니다 노드를 구성을 할 건데요 모델 네임을 가져올 거예요 자 이거는 뭐냐면 제가 여기에서 가져와서 보여 드릴게요 제가 별도로 만든 패키지 중에 하나가이 모델 네임인데요 모델 네임이 자꾸 바뀌어요 그러다 보니까 나중에 제가 일괄적으로 업데이트 해 드리기 위해서 이런 함수를 만들어 놨어요 그래서 GPT 4를 쓰면은 GPT 4 미니가 이렇게 세팅이 되고요 45라고 적으면은 45가 자동으로 세팅이 되게끔이 조정을 해 놨고 여러분들이 이런 식으로 이제 변수로 할당하면은 좋은 점은 뭐냐면 처음에는 되게 번거러워 보이거든요 이거 그냥 문자를 넣는 거 아니야 넣으면 되는 거 아니야 이렇게 생각할 수 있는데 나중에이 모델명이 또 업데이트가 될 수가 있겠더라고요 그래서 업데이트가 되면은 제가 알아서 반영을 해 드릴테니까 여러분들은 이렇게 코드로 넣어 주시면 되는 거죠 만약에 GT 4OS로 나왔다 하면은 여러분들이 일일이 찾아서 이거를 다 업데이트 할 필요 없다라는 소리예요 그래서 요런 것들 하나 만들어 놨고요 모델 네임을 받아 와서 어 여기에 그레이드 먼저 관련성 체크를 합니다 그레이드 다큐먼트를 해서요.이 스트럭처드 아웃풋으로 정여화된 답변을 받을 거예요 그래서 어 스트럭처드 아웃풋의 그레이드 부분에 그레이드 클래스를 넣어 주고요 그다음에 프롬트를 넣어 놨어요 요거는 이제 그레이딩을 해 주는 그런 프롬프팅이라고 보시면 되겠습니다 자 그래서 프롬프트의 lm 위드 툴를 써 가지고요 체인을 만들어 주고 메시지스의 현재 상태에서 메시지를 가져와요 메시지 목록들이 쭉 달려 들어옵니다 리스트 형태로 되어 있을 거예요 자 그러면이 중에서 -1번 하면은 가장 최근 질문을 가지고 오는 거예요 왜냐면 유저가 질문을 하면 그 질문이 가장 최상단에 있기 때문에 요거를 가져왔고요 그다음에 요거에 question에 원래 있던 퀘션이랑 그다음에 마지막에 있었던 라스트 메시지를 가져와서 요거를 가지고 이제 검색된 문서 아 죄송합니다 제가 아까 어 혼선이 있었네요 먼저 유저의 질문이 먼저 쌓이는 거죠 그래서 0 번째죠 우리 메시지 리스트 다시 한번 볼게요 자 이렇게 보면은 유저의 질문이 먼저 쌓이겠죠 그다음에 우리가 컨텍스트 리트리버 하게 되면은 리트리벌 된 결과가 그다음에 이렇게 쌓이게 됩니다 자,이 부분에 있는게 바로 라스트 메시지가 되는 거고요.이 라스트 메시지의 컨텐트가 결국에는이 검색된 문서다 문서가 들어가 있을 거다라고 가정을 해 보는 거죠 자 그다음에 원래 질문은 메시지의 가장 최상단에 있는 거고요 자 이렇게 해서 컨텍스트 부분에 우리가 검색된 문서 넣어 주고 그다음에 퀘션 부분에 퀘션 넣어서 체인자 인보크 하면은 스쿼드 리트가 나오게 되고요 요거에 바이너리 스코어를 찍어 보면은 이게 도큐먼트가 릴러먼트하다 아니다를 우리가 알 수가 있죠 만약에이 도큐먼트가 릴러트 하면은 바로 답변 생성하러 갈 겁니다 그런데 릴러트 하지 않으면은 리라이트 노드로 보내 주는 거를 볼 수가 있어요 자 그다음에이 에이전트라는 노드에서는 이제 스테이트 메시지스 메시지 목록들 입력으로 받아서요.이 바인드 툴수 하면은 리트리버 2을 바인딩을 해 준 거예요 우리 LM 모델에 리트리버 할 수 있는 도구를 지어주고 여기에다가 메시지를 이제 넣어 가지고 최종적으로 응답을 생성하게 됩니다.이 이 리스 함수를 썼기 때문에이 최종 응답도 자동으로 메시지스에 이렇게 추가가 될 예정인 거죠 자 그다음에 리라이트인데요 만약에 우리가 결과가 안 좋았을 경우에는 이제 리라이트를 할 수도 있어야 됩니다 그래서 휴먼 메시지에다가 언더라인 스멘트 인택트에 어쩌고 준 다음에 퀘션을 주고요 그다음에 리라이트 수행을 시켜요 그래서 채 오픈에 가져와서 모델전 인복해서 메시지를 넣어 주게 되면은 우리가 가장 최근에 질문과 질문과 그다음에이 질문을 바탕으로 리라이트된 결과가 이제 리스에 담기게 되는 거죠 그러면이 결과를 메시지스에 마찬가지로 넣어 주게 돼요 자 다음으로는 제너레이션 파트인데요 제너레이션 파트에서는 메시지스를 받아다가 원래 있던 질문은 항상 0 번째라고 했죠 가장 처음에 들어왔으니깐요 그다음에 가장 마지막 부분에서는 이제 닥스가 있으니까이 검색된 독이죠.이 검색된 독과 원래 있던 질문을 가지고 레그 프럼프트를 사용해서 이제 안에다 넣어 주게 됩니다 넣어 주게 되고 컨텍스트와 패션을 넣어서 최종적으로 응답을 생성하게 되는 거죠 자 다음으로는 우리가 그래프 정의를 한번 보실 건데요 어 그래프 정의는 에이전트 노드 그다음에 툴로드라는 걸 추가를 해 줬어요 여기에다가는 우리가 툴스라는 도구 목록을 넣어 놨잖아요.이 툴로드로 이렇게 정의하실 수가 있습니다 간단한 거죠 요거는 툴로드 내가 만약에 처음 본다 하시는 분들은 우리 챕터 1에서 다뤘던 코어 기능들 있죠 거기에 한번 보시면은 도움이 되실 것 같아요 거기에 툴로드 세션이 있거든요 그래서 툴 노드만 다루니까 그거 한번 보고 오십시오 자 그다음에 리트리블 하고 리라이트하고 제너레이터 하는 거 노드 추가했고요 에이전트를 하고 에이전트가 어툴를 그러니까 툴을 쓸지 말지 와 그다음에 툴을 썼다면은 그거에 대한 결과런 것들이 이제 툴스 컨디션에 담기게 되는 거죠.이 이 툴스 컨디션은요 랭그래프에 원래 있던 어 요거가 어디에 있냐면 여기에 이제 원래 있던 내용이거든요 요거 정의된 부분이 우리가 위에서 정의를 했나 봐요 자 여기에 보면은 툴스 컨디션 랭그래프의 프리빌트에 들어가 있는 거를 볼 수가 있죠 자 그래서 얘가 해주는 역할은 이거 하나예요 우리가 에이전트 노드로부터 어 툴스 컨디션 에이전트가 도구를 쓰잖아요 그러면이 도구 실행 결과가 있을 거예요.이 결과가 툴스 컨디션의 결과로 넘어오게 되고 툴스라고 나오면은 얘는 도구를 쓰겠다라는 판단을 내린 거예요 그러면 도구를 쓰겠다라는 판단을 내렸으니까 retri리브를 수행하게 되는 거고요 만약에 얘가 도구를 안 써도 된다라는 판단을 내리게 되면은 그럴 때는 이제 and드 조건에 따라서 and로 끝나는 것을 볼 수가 있습니다 자 그래서 여기까지 받고 그다음에 애드 컨디션나 엣를 통해서 리치브 된 결과를 어 그레이드 도큐먼트에 넣어 주고요 넣어 주고 그다음에 품지 평가를 하게 돼요 지금 여기에서 패스 부분은 지금 또 생략이 된 거를 볼 수가 있죠 왜냐면은이 패스의 결과가 얘가 노드의 결과로 나와요 그게 무슨 소리냐면 그레이드 도큐먼트 쪽에 보시면은요 자 이런 식으로 나와 있는데 얘가 반환하는 값을 볼까요 반환하는 값이 제레이트나 리라이트잖아요 이게 노드 명이에요 그래서 우리가 별도의 패스 지정 없이 그냥 생략하고 들어갔다라고 보시면 돼요 그래서 그레이드랑 리라이트가 나오게 되는 거고요 제너레이터와 리라이트어 요거에 따라서 이제 어 나머지 처리를 하게 되는 거죠 자 얘를요 우리가 시각화를 해야지 좀 더 잘 이해를 하실 수가 있습니다 시각화를 해 보면 이제 에이전트한테 질문이 주어져요 그럼 에이전트는 판단을 하죠 아 내가 이거 도구 써야 돼 말아야 돼 그러면은 만약에 대한민국의 수도 어디야라는게 들어오면요 얘 도구 안 써도 되는 거죠 그럼 어디로 가냐면 바로 and드로 들어가게 됩니다 그래서 에이전트가 답변 생성하고 and로 나가게 되는 거고요 만약에 에이전트가 도구를 써야 된다라는 판단이 들면 리트리브를 해서 리라이트를 해서 에이전트한테 주고 그다음에 이제 에이전트가 최종적으로 생성을 해서 이제 엔드로 보내주는 그러한 흐름을 따르고 있다라고 보시면 됩니다 자 그래서요 그래프를 한번 실현해 볼게요 어 참성전자가 개발한 생성의 AI의 이름은이라는 질문을 던져봤어요 자 그러면 자 여기 보이시나요 에이전트가요.이 질문을 보고 ень하는 프로세스를 하죠 덫을 했으니까이 삼성전자의 생성형 AI 이름이라는 쿼리분을 만들어서 PDF 리트리버를 호출을 했으면 좋겠다라는 의견을 줬어요.이 호출하고 검색할 때는 쿼리의 내용도 좋고요 얘가 알아서 만들어 준 거죠 그다음에 얘가 어 짐작커인데 여기 닥스 릴러트 부분에서 이제요 내용을 기반으로 PDF 리트리버를 해서 결과를 얻을 수가 있고요 그다음에 이렇게 얻어진 결과를 리트리브 통해서 이렇게 최종적으로 한번 포매팅된 문서 결를 받아본 다음에요 받아본 다음에 그다음에 이제 제너레이션으로 들어가게 됩니다 자 요거를 한번 다시 한번 정리를 해 볼게요 에이전트가 만약에 도구를 써야 된다라는 판단을 내리는이 부분 있죠?이 이 부분이 어디냐면 여기 밑에 봤을 때요 부분이 되는 거예요 도구를 써야겠다라고 얘는 판단 내린 거죠 자 그럼 내렸으면은 리트리브를 수행한다고 했으니까 여기 밑에 보면은 리트리브를 수행하죠 그래서이 도구를 써야겠다라고 판단이 내렸고 그다음에 리트브 해서 XML 태그 형식으로 예쁘게 답변까지 만들어 준 거를 볼 수가 있습니다 자 그다음에 여기에서도 어 보시면은 이렇게 쭉 가죠 그다음에 마지막으로 여기서 필요한 내용들을 다 검색했기 때문에 에이전트 단에서 제네레이트 아 에이전트 따이 아니라 여기서 제네레이트 노드가 별도로 있는데요 리트리브를 했고 그다음에 리트브의 결과를 제너레이트 노드에 넣어서 최종적으로 문서에 대한 문서의 검색 결과를 바탕으로 답변을 도출해낸 다음에 그다음에 끝내 버리는 요러한 흐름을 따르고 있습니다 자 그래서 요거 스트림 그래프를 해서 한번 찍어 보는 것도 좋은 방법이고요 자 이런 식으로 에이전트를 써도 토큰 출력이 잘 되죠 자 그다음에 대한민국의 수도는 이게 이제 백미죠 요거는 레그가 전혀 필요 없잖아요 자 한번 실행해 보면은 바로 답변이 나온 걸 볼 수가 있어요 왜 얘 에이전트가 판단 내리기로 이거는 레그가 필요 없다라고 판단이 내렸으니까 자 그다음에 또 하나의 코너 케이스가 있거든요 이건 뭐냐면 얘가 직접적으로 바로 답변을 못 해요 그렇다고 해서 문서 검색 결과에도 포함이 되어 있지 않아 그럴 때 어떻게 되는지 한번 보죠 자 이걸 실행하게 되면은요.요 내용은 문서에 없거든요 그래서 없는데 얘는 그걸 잘 모르니까 없다라는 내용을 모르니까 일단 어 도큐먼트 리트리버를 수행하게 됩니다 자 수행해서 관련성 체크를 했는데 노가 떴어요 그러면 쿼리를 리라이트를 해 주죠 리라이트 해주고 에이전트에 넣었는데 여전히 모르겠대요 그래서 얘는요 리라이트하고 에이전트하고 리라이트하고 에이전트하고 이걸 뺑글뺑글 도는데 우리가 우리가이 관련성 체크 로직이 계속 녹았니까 얘도 이제 재기에 빠지는 것을 볼 수가 있고 최종적으로 그래프 리콜션 에러에서 10 리미트에 도달한 것을 볼 수가 있죠 그러니까 이게 재기에 빠지는 거는 뭐냐면요 우리가 아까 그래프 흐름에서 자 보세요 에이전트의 대한민국의 수도는 어디야 그건 바로 답변했죠 그다음에 PDF 리트버 도구를 써서 답변 찾을 수 있는 거는 요기죠 요렇게 요렇게 지금 여기에서도 조건문이 하나 더 추가가 된 건데요 요렇게 요렇게 요렇게 해서 최종 답변을 받는 거죠 리칠브 하고 관련성 체크를 해서 통과를 했으니까 바로 제너레이트 해서 결과를 얻는 것을 볼 수가 있습니다 자 그래서 여기까지 했는데 했는데 마지막으로 나온게 지금 요거였었죠 테디노트의 영체인 튜토리얼 자 얘는요 우리가 이런 상황에 도달한 거죠 어 얘는이 내용을 모르기 때문에 일단이이 경로로는 갈 수가 없어요 그다음에 툴을 써야 된다라고 판단 내려서 툴를 썼습니다 근데 문서 검색 결과에 당연히 트노트 관련된게 없으니까 페일이 났을 거거든요 페일이 나면 얘 어때요 리라이트를 하죠 리라이트를 해서 다시 에이전트로 보낸단 말이에요 그럼 에이전 다시 판단을 내해서 또 2를 써야 될지 말지를 계속 판단을 내려요 근데 얘 같은 경우에는 어이 레버스가 노가 떴어요 그러면은 에이전트로 다시 돌아왔잖아요 그러면은 에이전트는요 이게 관련성 체크 노가 됐으니까 다시금 어떻게 툴를 써야 될지 다 지금 프로세스로 들어가게 되는 거예요 그래서이 터 프로세스를 통해서 내가 어떤 식으로 리트리브 해야 될지 과거 이력이 있으니까이 이력을 토대로 다시금 리트리버를 수행하게 됩니다 근데 여기서 문제는 지금 웹색 도구가 중간에 없기 때문에 얘가 계속 이렇게 뺑글뺑글 도는 거예요 왜냐면은 얘가 퀄리 리라이트 했다 한들 어차피 문서 안에는 그 내용이 없거든요 없기 때문에 쿼리 리라이트 해도 안 나오고 해도 안 나오고 계속 여기서 뺑글뺑글 돌게 되는 그런 스 형장이 일어나게 되는 거죠 자 그래서 여기 끝부분에 보시면은요 결국에는 그래프 리컬션 에러를 뜨고 이걸 현재로서는 해결할 수 있는 방법이 없기 때문에 여기에서는 이게 최선이에요 그러니까 정리를 하자면이 흐름에이 흐름이 간편하고 좋아요 대명규 수도 서를 물어보면 바로 답변 나오고 다 좋은데이 흐름을 구현을 했을 때 한 가지 아쉬운 점은 뭐냐면 한 가지가 아쉬운 점뿐만 아니라 굉장히 크리티컬한 거죠 문서에서도 없고 내가 사전에 알고 있는 정보도 없는 경우에는 그러면은 이거에 대한 해결 방도가 없는 거예요 그래서 여기에 재기에 빠지게 되는 거죠 그래서 여러분들이 이걸 만약에 보완한다 보완하는 관점에서 보면은 저라면은 리라이트 해서 웹 검색을 하든 좀 이렇게 뺑글뺑글 재기가 나타나지 않도록 좀 구성을 해 줄 것 같아요 그래서 이런 것들은 여러분들의 연습이나 여러분들의 영향이기 때문에 그런 것들을 한번 다양하게 테스트해 보셨으면 좋겠습니다 자 이번 튜토리얼의 목적은 뭐였냐면요.이 에이전트를 노드 안에서 한번 써 보자라는 거예요 그래서 에이전트를 쓰면 여러 가지 라우팅 체 체인이 줄어들 있고 얘한테 툴만 이렇게 지급해 주면 얘가 알아서 툴을 골라서 적절하게 테스크를 잘 해쳐 나가니까 요런 것들에 대해서 한번 알아봤다라고 보시면 돼요 그래서 이번 시간에는 에이전트를요 랭그래프 안에 넣고이 랭그래프를 구성하는 흐름에 대해서 한번 고민해 [프로젝트] Adaptive RAG 봤습니다 네 이번 시간에는 아댑티브 레그에 대해서 알아보도록 할게요 저희 아댑티브 레그는 에이전틱 레그 다음에 나오는 파일이고요.요 아댑티브 레그는 어 요거는 이제 쿼리 분석과 능동적 자기 수정 래그를 결합해서 다양한 데이터 소스에서 정보를 검색하고 생성하는 전략입니다 사실이 아댑티브 레그라는 거는요 이제 어 논문 아댑티브 레그에서 사용된 그런 튜토리얼이라고 보시면 되고요 요것도 마찬가지로 랭그래프의 튜토리얼에 올라왔던 내용을 제가 좀 더 한글화를 하고 저희가 이해하기 쉽도록 좀 재구성한 파일이라고 봐 주시면 될 거 같아요 그래서 관련된 논문을 참고해 보시는 것도 좋은데요.이 논문의 내용을 아주 짧게 요약을 하자면이 아댑티브 레그라는 전략은 먼저 쿼리 분석하는 전략이 추가로 들어가고요 그다음에 셀프 리플렉티브 레그를 결합을 하게 됩니다 그런데 이제 여러분들께서이 셀프 리플렉티브 레그에 대해서 아직까지 배우신 적이 없지만 저희가이 다음에 나오는이 셀프 레그 파트에서이 내용을 좀 더 딥하게 다뤄볼 예정이거든요 그래서 거기에서 한 번 더 봐 주시면 좋을 것 같고요 어이 셀프 리플렉티브 레그라는 거는 이제 자가 수정이라는 거를 의미를 합니다 그러니까이 자가 수정이라는 건 뭐냐면 만약에 우리가 리트리브를 해서 그레이드 도큐먼트를 하고 그다음에 제네레이션을 하게 되는데이 제네레이션 한 결과를 가지고 이제 자가 수정을 하게 되는 거죠 그러니까 예를 들어서이 관련성이 없는 답변이 나왔다 이러면은 트랜스폼 커리를 하는 이런 자가 수정도 하게 되고요 혹은 할루스네이션이 발생을 했다 하면은 다시금 제네레이션 하도록 요런 식으로 이제 만들어 주는 것을 의미라 합니다 그래서 큰 그림에서는 그렇다라는 거고요 그래서이 아댑티브 레그라는 거는이 셀프 레그 측면인 요기 자가 수정하는 부분과 이제 플러스로 쿼리 분석을 하는 부분.이 이 쿼리 분석이라고 하는 것은 이제 쿼리가 들어왔을 때 이거를 라우팅을 하는 것을 의미를 하는데요.이 라우팅을 할 적에 아이 쿼리를 보고 아이 부분은 웹 검색이 필요하다.이 부분은 내가 벡터 DV에서 문서 검색이 필요하다.이 부분은 이제 라우팅하는 부분이라고 이해해 주시면 되겠습니다 그래서 정리를 하자면이 아댑티브 래그는 크게 두 축이 있다 처음으로이 쿼리 쿼리에 대한 분석을 해서 내가 하고자 하는 테스크로 이렇게 분할을 해 주는 거 그게 1번 파트가 되겠고요 두 번째로는 이제 셀프 레그 부분이라고 말씀드렸죠 그래서이 제너레이션을 하고이 제너레이션 된 결과에서 어 자체적으로 분석을 해서 할루스네이션이 있으면 다시 제너레이션 하고 혹은 할루스네이션은 없는데 관련성이 없다면 트랜스폼 커리를 해 주는 이런 흐름을 만들어 냈다라고 봐 주시면 될 거 같아요 자 그러면 저희가 환경 설정을 해 보고 바로 코드로 들어가 보도록 하겠습니다 자이 코드에서 첫 번째이 환경 가져오는 거는 동일하고요 그리고 리트버 체인 만드는 것도 요것도 동일합니다 자 동일하고 밑으로 한번 내려 볼게요 자 먼저 쿼리 라우팅과 문서 평가 부분을 한번 보실게요.이 LMMS 단계라고 하는 거는요 단계를 의미하는 건데요.이 단계에서는 쿼리 라우팅과 문서 평가를 수행한다라고 나와 있고요 아댑티브 브랙의 중요한 부분으로 효율적인 정보 검색과 생성에 기여한다라고 나와 있죠 그러니까 여기서 효율적이다라는 의미는 뭐냐면 우리가 유저의 쿼리가 이렇게 들어오잖아요 들어오면 우리가 무조건적으로 래그를 하고 혹은 무조건적으로 외검 검색을 수행하는게 아니라 얘가 스스로 판단을 내려서 이거를 좀 더 효율적으로 구성을 한다라는 거죠 그래서 우리는 외 검색과 이제 레그 요렇게 두 가지를 나누어서 진행을 할 건데요 자,이 부분은 어떻게 구성인지 한번 볼게요 우리가 이전에는요 에이전틱 레그를 할 때는 이거를 에이전트로 구성을 해서 에이전트 스스로 판단을 내려서 라우팅하는 부분으로 구성을 했는데 여기에서는 에이전트로 구성하는게 아니라 라우팅 체인을 만들어서 구성하는 방법을 한번 보실 거예요 그래서이 라우트 컬이라는 데이터 클래스 쪽에 보시면은 데이터 소스 부분에 이제 리터럴로 벡터 스토어와 웹서치 둘 중에 하나가 들어갈 수 있다라고 타입 정의를 해 주고요 그리고 des립션 부분에 보면은 usure question choose to route it to search or 벡터스토어 요렇게 나와 있죠 그러니까 에이전트 에이전트가 아니라 llm이죠 lm으로 하여금 어이 웹서치로 라우팅을 보낼 것인지 아니면 벡터 스토어로 보낼 것인지를 결정을 지어 주는 그런 클래스라고 보시면 됩니다 자 우리가 베이스 모델을 상속받은 라우트 커리이 데이터 클래스를 정리를 해 주잖아요 그러면이 베이스 모델을 상속받은 라우트 커리를 LM의 위드스트처드 아웃풋 안에다가 이렇게 지정을 하면은 그러면은 얘의 아웃풋은요 데이터 소스가 되는 거고요.이 이 데이터 소스 안에 들어가는 내용은 벡터 스토어와 웹서치가 되게 되는 거죠 그래서 우리가 앞으로 랭그래프 쪽에서는 에이전트를 쓰는 경우도 많지만 이렇게 툴콜링 펑션을 사용한 펑션 콜링이죠 펑션 콜링을 사용한 기능인이 with 위드 struc드ed드ed 아웃풋 정형화된 결과물을내는 이러한 구조로 짜여져 있는 코드를 많이 보시게 될 거예요 그래서 우리가 어 여러분들이 생각하시기에 그냥 에이전트로 구성하면 되는 거 아닌가라고 생각하실 수도 있지만 에이전트로 구성하는 것보다 이렇게 하는 이유는 우리가 보다 좀 더 정용화된 틀을 만들어 주겠다라는 거예요 그러니까 에이전트로 하면은 얘가 자체적으로 판단서 실행에 옮기는 것까진 좋아요 좋은데 우리가 에이전트가 많아지게 되면은 이제 컨트롤러빌리티가 떨어진다라고 얘기를 하거든요 그러니까 만약에 멀티에트로 갔을 때 뭐네 개 다섯 개가 동시에 막 여러 개가 막 자기 판단에 의해서 움직이다 보니까 내가 원하는 방향성대로 좀 안 나올 수가 있어요 그래서 어떤 부분에 대해서는 우리가 정형화된 아웃풋 출력을내는 lm의 with struct터ed 아웃풋 안에다가 이렇게 우리가 명시된 데이터 클래스로 정의를 해 줘서 얘가 나올 수 있는 출력값을 이렇게 딱 정형화된 형태로 만들어 주는 거죠 그리고 이제 프롬프트 쪽에 보시면은 엑스포트 라우팅어 user question션이다라고 나와 있고 어떠한 상황에 따라서 라우팅을 하면 될지를 보다 자세하게 적어 주시는게 좋아요 왜냐면 lm이 판단을 내릴 적에 여기에 나와 있는이 시스템 프롬프트를 보고 라우팅을 수행하게 되는 거거든요 그래서이 벡터 스토어가 도큐먼트 요것과 관련된 도큐먼트를 포함하고 있다면 그러니까 도큐먼트가 아니라 도큐먼트와 관련된 질문을 포함하고 있다면 그럴 때에는 벡터 스토어로 라우팅을 해 주고 그리고 그렇지 않다면 웹서치로 수행을 해라라는 시스템 프롬프트를 넣어 주고요 그다음에 휴먼의 질문이 들어오게 되는 거죠 그러면 LRM이 요러한 내용을 토대로 아 내가 넥터 스토어로 라우팅을 할지 아니면은 웹서치로 보낼지를 결정을 짓게 되는 겁니다 자 요거를 실행을 해서 우리 라우팅 체인을 만들어 주고요 그다음에이 라우팅 체인에 인보크를 해서 수행을 해 볼게요 물론 제가 여기다 프린트 구문으로 이렇게 넣어 놓긴 했는데요 우리가 보다 자세히 확인해 보기 위해서 여기에다가 이렇게 한번 수행을 해 보겠습니다 자 이렇게 수행을 하게 되면은 라우트 쿼이라는 객체가 나오게 되는데 이건 우리가 만들어 놓은 데이터 클래스가 되는 거죠 그래서 데이터 클래스는 여기에서 정의한이 데이터 클래스를 의미하는데요 여기 안에는 이제 데이터 소스라는 키가 하나 들어가 있는 것을 볼 수가 있습니다 그래서이 데이터 소스라는 키 안에 우리가 정의한 벡터 스토어와 웹서치가 둘 중에 하나가 선택적으로 지정이 되게 되는 거죠 자 이렇게 결과가 나오면요 우리가 데이터 소스의 키값으로 벡터 스토어를 끄집어 낼 수가 있거든요 그래서 만약에 여기에 리트라고 한번 넣어 볼게요 넣어 보고 그다음에 리트에다가 요걸 찍어 보면 이제 객체가 나오는데 여기에 데이터 솔스를 실행을 하면 그 안에 있는 데이터를 끄집어 낼 수가 있는 겁니다 자 요런 식으로 만들어 봤고요 아 요거를 지우고 다시 한번 실행을 해 보면 프린트 구문으로 우리의 객체가 잘 출력이 되는 것을 확인해 볼 수가 있습니다 자 이번에는 저희가 판교에서 가장 맛있는 섬칩 찾아죠 요거는 AI 브리프와 전혀 관련성 없는 질문이 되겠죠 이런 질문과 같은 경우에는 이제 데이터 소스의 웹서치로 결과가 나오는 것을 볼 수가 있습니다 자 이런 식으로 우리가 잘 나오는 것까지 확인을 했으면 다음으로는 우리가 검색 평가기를 한번 보실 거예요.이 검색 평가하기라는 것은 retri리버그레이더인데요 한마디로 우리가 검색한 문서에 대해서 ret이딩을 하는 것을 의미를 합니다 한마디로 우리가 문서들을 이제 쭉 검색해서 가져올 거예요 가져오면은이 그레이더가 검색된 문서들이 관련성이 있는지 없는지를 평가를 해 준다라는 거죠 그래서 우리가이 검색 평가기를 언제 쓸 거냐면 다시 위에 구조도로 올라가서 살펴보시면은 여기에서 리트리eve를 하게 되잖아요 그러면 우리가 문서들을 가지고 올 텐데이 문서들을 가지고 그레이드 도큐먼트를 수행할 때 여기에서 검색 평가기가 동작을 하면서 문서를 이제 평가를 수행하게 됩니다 그래서이 평가를 수행하게 되고이 관련성이 있는 정보라고 판단이 되면 이제 제너레이션 쪽으로 보내게 되는 거죠 자 그래서 여기로 다시 넘어가서 보시면요 어 그레이더이고 relevant 오브큐먼트 유저 question이다 그다음에 필터 에러너스 어리치버스 요렇게 나와 있고요 바이너리 스코어로 Yes or에 어 스코어를 주게끔 되어 있어요 자 그래서 이제 리트b브드 도큐먼트에 어 우리 검색된 문서들이 들어가게 되고 그다음에 유저 퀘션에 퀘션이 들어오거든요 그런데이 부분에서 여기 밑에 보시면은 쭉 내려 볼게요 노드 쪽으로 어 여기거든요 문서 관련성 평가 노드 그래서 체먼트 투션이에요 근데 여기에 보면은 우리가 알고 있던 그 관련성 평가 로직과는 약간 다르실 거예요 그러니까 이게 무이 다르냐면 우리가 문서 검색을 하면은 문서를 하나만 검색하는게 아니잖아요 우리는 지금 뭐 열 개면 열 개 이런 식으로 검색을 할 겁니다 그러면이 도큐먼트들이 이렇게 열 개가 만약에 있다라고 가정했을 때 이렇게 쭉 쌓여져 있을 거란 말이죠 그러면이 도큐먼트들을요 반복문을 돌면서이 검색 평가기가 하나씩 하나씩 평가를 하게 되는 거예요.이 부분이 좀 다르죠 원래 우리가 지금까지는요 문서가 통으로 있고이 안에 정보가 있어 없어를 딱 한 번만 측정을 하거든요 근데이 아댑티브 레그에서는 어 재미난 점은이 문서 하나하나에 대한 평가를 수행하게 돼요 만약에 여러분들이 리버를 했을 때 30개의 문서를 가져왔다 하면은이 30개의 문서 하나하나에 대한 평가를 하죠 자 그런데 이거를 왜 개별적으로 평가를 하느냐 한마디로 얘는요 개별적으로 평가를 해서 관련성 없는 정보 즉 노이즈라고 판단되는 정보를 컨텍스트에서 배제하기 위함이에요 그래서 우리가 열 개의 문서들을 이렇게 가져왔는데 관련성 있는 정보가 요렇게 세 개만 있다 그럼 우리가이 하나하나를 다 평가를 하잖아요 그럼 관련성 없는 정보들은 얘는 빼버리고 얘는 빼버리고 관련성 있는 정보들만 이렇게 가져와서 뽑아내서 얘를 프롬프트로 넣어 주겠다는 거죠 그래서 결국에는 얘 같은 경우에는요 역할 자체가 관련성이 어 없으면 다시 뭐 빠꾸르시키던 어떤 단계로 되돌아가라 이게 아니라요 관련성 있는 정보들만 추출을 해서 알짜배기로 압축해 주는 그걸 도와주는 역할이라고 보시면 좋을 것 같아요 그래서 우리가 만약에 이전까지 봤었던 흐름대로라면요 여기로 봤을 때 그레이드 도큐먼트를 해서 전체 문서를 평가해서 바이너리 스코어 예솔노로 나왔으면 보통은 여기에서 컨디셔널 엣치를 줘 가지고 관련성이 있어 하면 제너레이션 해 없어 하면 다시 돌아가 이런 식으로 흐름을 짰었단 말이죠 근데 여기서는 컨디셔너 엣지를 안 준 이유는 관련성 있는 정보들만 압축을 하는 그러한 기능이기 때문에 여기서는 컨디셔널 엣지는 주지는 않았다 이렇게 보시면 되겠습니다 자 그러면 다시 돌아가서요.이 검색 평가기는 문서에 대한 평가를 수행하게 되는 거고요 자,이 검색된 문서를 평가를 어떻게 하는지 한번 볼게요 먼저 리트리블을 해서 요것도 끊어서 한번 보죠 독스를 가져옵니다 그러면 문서 이제 열 개가 가지고 와질 거예요 독스를 출력을 해 보면 이제 문서가 열 개가 나오죠 자,이 개서에 대해서 어 반복문을 돌리는 걸로 저희는 한번 해 볼게요 자 요거를요 요렇게 가져오고 그다음에 포독인 독스를 가져와서 요거를 요렇게 넣어 보고요 패션에 도큐먼트가 빠졌네요 여기에 도큐먼트 도큐먼트에다가 페이지에 컨텐츠를 넣어 가지고 한번 생성을 해 보죠 아 그리고 요거를 이제 프린트 구문이 빠지면 출력이 안 되니까 요런 식으로 프린트 구문을 넣어 주고 여기에 데이터 솔스가 아니죠 아 요거는 라우터니까 오케이 요렇게 한번 구성을 해 봤습니다 자 실행을 한번 해 볼게요 그러면 데이터 소스 아 죄송합니다 퀘션 라우터로 적었네요 리트버 그레이더로 적어야죠 자 렇게 하고 퀘션에는 퀘션 넣어 줄게요 패션 자 이렇게 넣어 볼게요 자 그러면 바이너리 스코어가 예스 예스 예스 예 나왔어요 어,이 question이 저 지금 저희가 뭐냐면 삼성전자가 만든 생성의 AI의 이름이라는 질문이 들어온 거잖아요 그런데 처음네 개 문서에 대해서는 바이너리 스코어가 예스가 나왔어요 그런데 그다음 세계에 대해서는 노가 나왔죠 그다음에 예스가 나오고 노가 나왔단 말이에요 그러면 우리가이 스코어가 만약에 예라고 판단이 되면 우리가 추가해 줄 수가 있어요 그러니까 가령 우리가 이거를 코드로 좀 수정해 본다라고 하면은 이런 식으로 할 수가 있죠 만약에 리트라는 변수에다 넣은 다음에 if 리트에 바이너리 스코어가 예스라면은 요거를 어떻게 냐면 필터드 닥스에다가 어드로 독에 페이지 컨텐트를 추가해 줄 수가 있다는 거예요 혹은 도큐먼트를 추가해 주는 것도 가능하겠죠 자 이런 식으로 추가를 한번 해 볼게요 자 이렇게 추가를 했습니다 프린트 구문을 안 찍어서 지금 출력은 없었는데 필터드스를 출력을 해 보면 이제 필터링된 결과를 보실 수가 있는 거예요 그러니까 우리가 노이즈가 섞여져 있으면 아무래도 할루스테네이션이 나올 가능성이 높다라고 제가 말씀을 드렸는데 이렇게 한번 필터링하는 과정을 거친 다음에 들어가면 보다 양질의 답변으로 이어질 수가 있겠죠 그래서어요 과정을 우리가 그 그레이더가 해 주는 거라고 봐 주시면 좋을 것 같아요 제가 요거 코드는 필터링 하는 코드의 예시다 이렇게 적어 놓고 넘어가도록 할게요 그래서 요것도 이제 보시면은 이렇게 예스가 잘 나온다라는 것까지 보실 수가 있었어요 요거를 위로 올려 볼게요 자 이렇게 적어 놨습니다 자 다음으로는요 답변 생성을 위한 레그테인을 한번 볼게요 제가 만들어 놓은 레그 프럼트를 써서 래그를 수행을 할 건데요 요거는 일반적인 라이브 레그라고 보시면 됩니다 우리가 이렇게 알고 있는 그 레그가 맞고요 어 프롬트를 주고 그다음에 포맷 박스를 해서 우리가 나중에 포매팅 해 가지고 넣어 줄 거예요 여기에서는 레그 체인을 쓰는데요 레그체인을 써서 프롬프트 제가 만들어 놓은 기본적인 레그 프럼프트와 그다음에 LLM과 STR 파서를 써서 일반적인 레그를 수행을 할 거예요 자 이렇게 수행을 하고요 포맷스는 나중에 문서를 포매팅할 때 쓸 예정입니다 자 그래서 레그 체인에 인보크를 해서 컨텍스트에다가 우리가 폼에 닥스를 해서 덕스를 넣어주고요 여기에다가 이제 필터드 닥스를 넣어 줘도 되지만 우리는 일단은 체 도큐먼트를 한번 넣어 보도록 할게요 자 이렇게 해서 제너레이션 하면은 삼성전자가 만든 생성형 AI의 이름은 하우스입니다 이렇게 잘 나오는 것을 볼 수가 있죠 자 다음으로는 우리가 할루스네이션 체커를 한번 볼 겁니다 자 요것도 위로 올라가서 한번 볼게요.이 할루스네이션 체커의 역할은요 얘가 레그체인이 답변을 생성하잖아요 자,이 흐름이 한번 전반적으로 보면은 라우팅해서 벡터 스토어에서 리트리브를 하고요 그다음에 그레이드 도큐먼트를 해서 우리가 문서 압축을 합니다 그래서 10 개 문서에서 다섯 개 문서로 줄어들고 그다음에 제네레이트를 해서 답변 생성을 받았죠 그래서이 받은 답변에 대해서 할루스네이션 체커를 할 거예요 그래서 거짓말을 하고 있는지 아닌지를 평가를 한 다음에이 컨디셔널 애를 통해서 거짓말을 했으면 다시 제너레이션으로 보내고 거짓말이 아니면 이제 다음 단계로 보내는 거죠 그래서 저 역할을 수행하는 할루스네이션 체커를 만들 건데 한마디로 우리는이 평가자를 만든다라고 보시면 돼요 그래서 그레이드 할루스네이션스의 모델 마찬가지로 베이스 모델을 상속받아서 어 우리가 데이터 클래스를 정의해 준다라고 보시면 돼요 그래서 여기 안에는 바이너리 스코어로 넣어 줬고요 엔서가 그라운디드 인펙트라면 예스를 줘라 그렇지 않으면 노를 줘라 이렇게 정의를 해 줬고 모델 네임 넣어 주고요 얘도 마찬가지로 스트럭처드 아웃풋트로 그레이드 할루스네이션을 넣어 주는 것을 볼 수가 있어요 자 그렇게 해서 프롬트 비슷하게 넣어 주고요 그다음에 그레이더를 생성을 해 주게 됩니다 자 이렇게 평가기를 만들어 줬고요.이 평가기 안에다가 우리가 검색된 문서인 독스 실제로 우리가 랭그래프의 그래프를 만들 때에는이 독스가 아니라 필터링된 독스가 들어가게 되겠죠 그래서이 독스가 들어가고 제너레이션 답변 생성된 답변을 넣어 주게 됩니다 자 이렇게 해서 할루네이션을 체크를 해 봤더니 바이너리 스코어의 노다 어 얘는 거짓말을 하고 있지 않다라고 잘 주는 것을 볼 수가 있어요 자 다음으로는 우리가 그레이드 엔서 부분을 한번 보실 건데요.이 그레이드 엔서라는 데이터 클래스도 마찬가지로 베이스 모델을 상속받아서 만들어 주는 것을 볼 수가 있습니다 여기에 바이너리 스코어에도 보시면요 indicate yes or no whether the question solves the question이라고 나와 있죠 자 그래서이 바이너리 스코어에 보시면은요 얘가 지금 답변을 생성해 낼 거예요 요것도 도식을 한번 보죠 보면은 답변을 만들어 내거든요 근데이 할로스네이션과 렐러트는 역할이 좀 달라요 그니까 우리가 흔히 처음에 이걸 처음 접하시는 분들 중에서 할루스네이션과 렐러트가 비슷한 개념이 아닌가라고 생각하시는 분들이 계실 수 있는데 개념이 약간은 달라요 그니까 우리가 할루스네이션이라고 하는 거는이 정보에 없는 정보를 바탕으로 답변을 만들어내는 거 한마디로 얘가 거짓말 했는지 안 했는지 여부를 판단하는게 할루스네이션이거든요 그런데 렐러트는 뭐냐면 얘가 만들어진 답변이 얘가 만들어진 답변이 질문에 대한 관련성이 있는지를 평가하는게 릴러스예요 그러니까 이런 경우가 있을 수 있거든요 할루스네이션은 아닌데 질문에는 관련성 없는 엉뚱한 소리를 할 수도 있단 말이에요 그래서 그걸 체크하는게 바로 렐트입니다 그래서이 렐트 통과하면 최종 이게 답변이 되겠지만 만약에 렐트가 통과되지 못하면 다시 쿼리를 재조정해 주는 그러한 흐름으로 가게 되는 거죠 자 그래서이서 로먼스의 역할은 저분에서 역할이 있다라고 보시면 되겠습니다 자 그래서 요거를 만들어 주고요 엔서 그레이더 엔서 그레이더라고 체인을 만들어 놓고 요거에 인복를 해서 이번에는 question션과 제레이트된 엔서를 넣어 주는 거를 볼 수가 있어요 지금 위에서 보시면은 여기에서는 할루스네이션 그레이더는 검색된 문서를 기반으로 평가해 주는 거기 때문에 도큐먼트가 입력으로 들어갔단 말이에요 그런데 얘 같은 경우에는 question션 제너레이션 이런 식으로 들어가게 되는 거죠 그래서 관련성 평가를 해 봤더니 예스가 잘 나온 것을 볼 수가 있습니다 자 이제는 쿼리 제작성 노드를 위한 준비를 한번 해 볼 거예요.이 쿼리 제작성 노드라는 거는요 우리가 렐러스 체크에서 통과되지 않았을 경우에 그때는 쿼리를 제작성하는 그런 흐름을 줘야 되기 때문에 쿼리 제작성하는 LM을 하나 더 만들어 줄 겁니다 그래서 리라이트 프롬프트를 요렇게 넣어 주고 어 유저의 질문이 있고요 요거를 좀 더 개선을 해오 해서 쿼리 제작성을 수행하게 돼요 요거는 일반적인 SDR 아웃 파서를 댔고요 그다음에 퀘션을 넣어서 쿼리 제작성도 잘 되는지 보겠습니다 그래서 삼성전자가 개발한 생성의 AI의 이름은이라는 어 쿼리가 들어왔는데 요거를 이제 명칭은 무엇인가요 요런 식으로 제작성을 잘 해 주는 것을 볼 수가 있습니다 자 다음으로는 우리가 웹서치 툴이 필요해요 우리가 웹서치 툴은 왜 필요하냐면 요것도 다시 한번 위로 올라갔다 내려올게요 여기에서 어 이제 우리가 지금까지 봤었던 흐름은요 여기에서 전반적으로 나오는요 아랫 부분을 다 보셨다면 이번에는 우리가 윗부분을 한번 보실 거거든요 만약에이 질문에 대해서 웹색이 필요하다라는 판단이 들면은 우리는 웹서치를 수행을 해야 됩니다 그래서 웹치를 수행하기 위한 태빌리를 가져올 거고요.이 이 웹서치 수행된 결과를 토대로 이제 제너레이션을 수행하게 되는 거죠 자 그래서 어 요거를요 밑으로 쭉 내려 볼게요 자 웹색 로그 어 우리는 검색 결과를 세 개를 가져올 겁니다 세 개를 가져오시고요 그다음에 웹치 툴에 설치해서 어 텔레노트 위키스 랭체인 튜토리얼 URL을 알려 주세요 뭐 이런 식으로 한번 검색을 한번 해 보는 거죠 자 그러면은 검색을 이제 세 개 맥스 리트에 세 개로 넣었으니까 세 개의 외문서를 이런 식으로 이제 가져오는 것을 볼 수가 있습니다 자 그래서 검색된 결과의 첫 번째 결과 확인해 보실 수가 있고요 뭐 요런 식으로 이제 링크가 들어가 있는 것도 확인해 볼 수가 있죠 자 이렇게 다 됐으면요 우리가 이제 그래프 정의를 해 볼 차례입니다.이 그래프 안에 들어가는 상태는 생각보다 간단해요 아 요것도 오타가 있네요 도큐먼트 자 이렇게 되고요 어 먼저 question션 유저가 입력한 질문이 들어오고 그다음에 어 생성된 답변이 제너레이션에 들어가고요 그다음에 검색된 문서가 도큐먼트에 들어갈 거예요 그래서 요런 식으로 어 넣어 줄 거고 그다음에 다음으로는 그래프의 흐름을 정리해 줄 건데 노드들을 이제 쭉 정의해 주시면 돼요 사실은 여기까지의 과정들이 좀 어려웠다 뿐이지 이것들을 이제 조립하는 단계가 노드라고 보시면 되겠습니다 그래서 우리가 몇 개 노드들을 만들어 볼 건데 먼저 리트브 하는 노드는 PDF 문서에서 검색을 해서 문서들을 가져오는 그런 노드예요 그다음에 제너레이션은 레그체인을 써서 답변 생성을 해 줄 거고요 이때 입력값으로는 우리가 검색된 문서와 그다음에 질문을 넣어서 답변을 해 줄 겁니다 그 생성된 답변을 제너레이션에다가 넣어서 이제 세 개의 키워드가 다 완성이 되는 거를 볼 수가 있고요 지금 여기에서도 사실은 제가 요거 세 개를 반환을 해 줬지만 엄밀히 따지면은 요거는 변하는 값이 아니기 때문에 이렇게만 해 줘도 될 거 같습니다 네 문제가 없을 것 같아요 일단 둘게요 자 그다음에 그레이드 큐먼트를 한번 어 보시면은 요게 아까 말씀드린 것처럼 우리가 그레이딩을 해 주는 부분이죠 그래서 retriever 그레이더가 문서 하나하나에 대해서리 ret 그레이딩 평가를 수행하게 됩니다 그래서이 그레이드가 예스가 나오면요 그러면 관련성이 있는 정보다라는 평가가 나오게 되는 거고요.이 필터트 닥스에다가이 문서를 하나씩 하나씩 추가해 주는 것을 볼 수가 있습니다 자 다음으로는 트랜스폼 qu쿼리에서는 간단하죠 저희가 이미 체인을 다 만들어 놨기 때문에 question션 리라이터에 퀘션을 넣어서 리라이터를 해주고이 베 question션을 반환해 주는 것을 볼 수가 있고요 다음으로는 웹서치 부분입니다 우리가 웹서치를 해서 어 문서 웹서치 툴을 사용해서 퍼리 검색을 해 줄 거예요 그래서 웹서치의 결과물들이 웹 리트 독스에 담기게 되는 거고요.이 결과물을 독스에 반환을 해서 이제 다음 노드로 연결해 주는 것을 볼 수가 있습니다 자 요런 식으로 이제 노드 구성을 했고요 그다음에 엣지정이 들어가기 전에 몇 가지 아 여기 추가 노드들이 있네요 여기에 요것도 추가 노드라고 추가 노드 정의라고 적어 보겠습니다 자 여기에서도 보면은 라우트 퀘션 부분에서는요.이 퀘션을 라우팅을 해서 어 얘가 웹치로 보낼지 아니면 벡터 스토어로 보낼지 요거를 판단 내려 주는 그러한 노드라고 봐 주시면 될 거 같고요 그다음에요 문서 관련성 평가 노드에서는 decide to generate를 수행하게 됩니다 자 그래서이 필터ter 닥스가 만약에 없다면 그러니까 관련성 있는 문서가 하나도 없다면 얘가 어디로 보내게 되냐면 이제 트랜스폼 쿼리 쪽으로 보내 주게 되는 거고요 어 관련성이 있다라고 판단이 되면은 이제 제네레이트 쪽으로 라우팅을 수행하게 됩니다 자 다음으로는 할루스네이션 체커 부분이고요.이 이 할루스네이션 그레이더에서는 도큐먼트와 제네레이션을 넣고 할루스네이션을 수행하게 되고요 만약에 할루스네이션이 있다면 할루스네이션이 있다면 어 요거는 아 죄송합니다 할루스네이션 체크 여부인데 이게 그라운디니스 체크를 하게 되는 거거든요 그래서 어 예스라면 그레이드가 예스라면은 그라운드라고 평가를 하게 되는 거고요 그러면은 그라운드가 됐으니까요 엔서 그라운드에 인보크를 날려서 그다음 과정으로 수행을 하게 됩니다.이 이 엔서 그레이더 같은 경우에는 렐러스 평가를 수행하게 되는 거고요 만약에 할루스네이션에서 페일이 나오게 되면은 노라고 나오게 되면은 이제 할루스네이션이 있다라고 평가를 하고 그에 맞는 나중에 여기 컨디셔널 엣지에서 할루스네이션이 체크를 해서 있다라고 하면은 어 제네레이션 어 제네레이션 로드로 다시 보내게 되는 거죠 그래서 다시 한번 답변을 생성하게끔 유도를 해 줄 거예요 그래서 정리를 하자면요 두 가지의 흐름이 하나의 노드에 들어가 있다라고 보시면 되는데요 여기에서는 이제 할루스네이션 체크와 더불어서 문서의 관련성 평가까지 동시에 진행이 되고요 만약에 할루스네이션이 없고 그라운디드가 되어 있다 그라운디드가 되어 있다라고 하면은 요거에 대해서 엔서 렐러스 평가를 수행하게 되는 거고요 만약에 할루스네이션이 발생이 됐다 하면 할루스네이션을 반환을 해줌으로써 다시금 제너레이션 하는 걸로 유도를 수행하게 되는 거죠 자 그래서 엔서 그레이더까지 수행하게 되고 만약에 엔서가 렐러트 하면은 렐러트 쪽으로 보내게 되고요 릴러먼트 하지 않다면 not 러먼트 쪽으로 보내게 됩니다 그래서 이제 세 가지의 결과를 총 반환하게 된다 요런 흐름으로 만들어지게 되는 거죠 자 이렇게 해서 어 마지막으로 그래프 생성적으로 한번 보실게요 우리가 웹서치리브 그레이드 도큐먼트 제너레이트 트랜스폼 코리 노드를 추가를 해 줬고요 애드 컨디셔널 부분에서 라우트 컨디션을 해서 웹서치면은 웹서치 노드로 보내게 되는 거고요 벡터 스토어라고 결과가 나오면은 리트리브 노드로 보내 주는 것을 볼 수가 있습니다 자 다음으로는 엣지 추가를 해서 웹서치에서 제너레이터로 연결을 하고 리트리브에서 그레이드 도큐먼트 쪽으로 보내 주게 되는 거고요 그레이드 도큐먼츠에 대한 결과가 어 요거에 트랜스폼 쿼리가 나왔으면은 트랜스폼 쿼리 노드로 보내 주게 되고 그다음에 통과를 해서 제네레이트를 해라라는 판단이 쓰게 되면은 제네레이트 노드 쪽으로 보내 주는 것을 볼 수가 있습니다 자 그다음에 트랜스폼 코리에서 리트리브로 연결해 주고요 그리고 제너레이티브 노드에서는 이제 생성된 답변을 토대로 아까 보셨던 할루스네이션 체크를 수행하게 되는 거죠 그래서이 할루스네이션 체크 수행을 통해서 할루스네이션 여부와 그다음에 릴러스까지 한 방에 다 처리를 한 다음에 최종적으로 이제 결과를네 개 그런 흐름을 어 지금 뛰고 있습니다 그래서 앱을 컴파일한 다음에 요거에 대한 비주얼라이즈 그래프를 한번 보시면은요 좀 더 명확하게 보실 수가 있을 거예요 그래서 웹서치와 그다음에 리트리브 벡터 스토어 쪽으로 보내는 노드와 그다음에 제너레이션 흐름에 따른 정의 요런 식으로 이제 좀 나와 있죠 이제 그래프들이 막 괴랄하게 이렇게 나와 가지고 좀 이해하시기 어려우실 수가 있는데 상단에 어 적어 놓은 좀 쉬운 도시화 부분을 참고해 주시면 좋을 것 같습니다 자 이렇게 나와 있고요 자 이제 그래프를 한번 실행을 해서 잘 나온 한번 볼게요 우리가 삼성전자가 개발한 생성형 AI의 이름은이라고 물어봤어요 그러면 도큐먼트가 릴러트한 도큐먼트를 이렇게 다섯 개를 어 뽑아 본 거고요 제너레이트 해서 어 할루스네이션도 통과를 했고 그다음에 렐러스도 통과를 했기 때문에 정상적으로 요런 식으로 제네레이트가 잘 된 것을 볼 수가 있습니다 자 요거는 이제 반환값 때문에 렇게 나오긴 하는데요 원래 같았으면은 요거 반환가 없으면 요렇게까지 잘 생성이 되는 것을 볼 수가 있을 거예요 자 그다음에 인풋에 이번에는 웹서칭에 필요한 질문 한번 해 보도록 하겠습니다 그래서 2024년 노벨 문학상 수상자는 누구인가요 요거는 벡터디 DB의 저장이 당연히 안 돼 있겠죠 없는 정보겠죠 이런 경우에도 잘 나온지 한번 보죠 스트링 그래프를 해서 2024년 노벨 문학상 수상자는 한국의 작가 한강입니다 해서 솔스 부분도 잘 나오는 것까지 확인해 볼 수가 있습니다 만약에 여러분들이 예쁘게 답변 출력을 하고 싶고요 내용이 없었으면 좋겠다 이건 제가 프린트 구문을 찍어 놨기 때문에 여기에 출력이 되는 거거든요.이 부분을 없애고 싶다 하시는 분들은요 저희가 확인하기 위한요 프린트 구문들 있죠 요런 것들을 전부 다 주석을 쳐 주시면 돼요 저희가 지금은이 중간 과정에서 어떻게 일어나는지 보기 위해서 좀 제가 프린트 구문을 아주 상세하게 넣어 놨다라고 봐 주시면 될 거 같습니다 자 그래서 이번 내용이 이번 프로젝트가 어 꽤 길었죠 아댑티브 레그에 대해서 보셨는데요.이 아댑티브 레그라는 거는 사실 요즘에 현업에서도 많이 고려가 되고 있는 그런 흐름이에요 왜 그러냐면이 부분이 굉장히 매력적이거든요 먼저 라우팅을 수행하는 부분도 매력적이고요 그리고 래그를 했을 때 그레이드 도큐먼트를 해서이 노이즈를 줄이는 걸 레그라는 아 그 래그가 아니죠 llm을 써서 이걸 평가를 통해서 줄여낸다라는 거죠 그래서 알짜배기 정보만 압축하면 확실히 답변품질이 좋아져요 그래서 어 요렇게 아댑티브 레그 방식을 써서 우리가 필요한 정보들만 선택적으로 추출해서 제너네이션 하는 부분 그다음에 어 또 추가적으로 할루스네이션 체커를 통해서 할루스네이션 평가도 들어가고 그다음에 릴러스 체크도 들어가기 때문에 어 요거까지 다 어 통과를 해서 추출해진 답변은 아무래도 좀 확실히 품질이 좀 어느 정도는 보장이 됐다 이렇게 보셔도 좋을 것 같습니다 자 그런데요.이 파이프라인은 정말 좋긴 좋아요 좋은데 다만 단점이 있다면 어떤 단점이 있냐면 중간에 LM이 보신 바와 같이 많이 쓰여요 우리가 그레이드 도큐먼트를 할 때도 쓰이고요 그다음에 할루스테니션 평가를 할 때도 쓰이고 릴스 체크할 때도 쓰이고요 트랜스폼 커리할 때도 쓰이고 문서 검색하는 지연 시간도 있습니다 한마디로 제가 말씀드리기 전 하는 거는이 품질은 좋아질 수가 있겠지만이 중간중간의 과정에서 지연 시간이 많이 늘어나게 돼요 그래서 우리가 답변을 노출하기까지 꽤나 오랜 시간이 걸릴 수도 있거든요 그래서이 부분에 대한 고민도 나중에는 같이 필요하실 거예요 그런데이 늘어난 지연 시간을 요즘에 어떻게 풀어내고 있냐면요 많이 풀어내고 있어요 우리가 퍼플렉시티와 같은 UX를 보시면은요 어 답변이 나오기까지 꽤나 오랜 시간이 걸립니다 하지만 사용자로 하여금 이걸 기다릴 수 있게 만드는 요인은 일단 첫 번째이 답변의 신뢰성이죠 어 당신이 좀 더 오래 기다리면 내가 좀 더 품질 좋은 답변을 제공해 드리겠습니다 이런 부분들을 이제 약속을 하고 대신 시간이 오래 걸리더라도 이제 품질 보증을 어떻게 보면 더 해 주는 거죠 그것도 있고요 두 번째로는이 아까 UX로 풀어낸다는 부분은 뭐냐면 중간중간 과정에서 중간중간 과정에서 내가 어떤 작업을 현재 수행하고 진행하고 있는지를이 웹사이트상에서 띄워서 보여 줘요 내가 만약에 검색을 하고 있으면 검색하고 있는 내용들을 보여 주고요 리트리브나 그레이드 큐먼트를 하고 있으면 그런 과정들을 보여 준다는 거예요 그래서 사용자로 하여금 멀뚱멀뚱 기다리는게 아니라 아 중간에 얘가 지금 어디까지 왔구나 를 알려줌으로써 사용자가 인내하고 기다릴 수 있게끔 만들어 주는 거죠 그래서 우리가 앞으로 품질 좋은 답변을 위해서는 사실 지연 시간이 늘어나는 부분은 어느 정도 우리가 감내는 해야 됩니다 그렇다고 해서 너무 늘어나는 건 또 안 될 수가 있겠지만 조금은 늘어나도 요즘에는 사용자들이 많이 인내하고 기다려 주시는 편이거든요 왜냐면 사용자들도 이제 어느 정도는 조금은 학습이 됐어요 내가 조금 더 오래 기다릴수록 좀 더 정확한 답변을 받을 수 있겠구나라는 기대감도 있고 그런 부분들이 이미 학습이 됐기 때문에 조금 늘어나는 건 저도 괜찮다라고 생각이 들어요 하지만이 괜찮다 아니다 부분은 이거는 각자가 판단하실 부분이라고 생각이 들고요 만약에 어 지연 시간이 너무 늘어나서 최종 답변이 나오기까지 너무 오래 걸린다 하면은 아까 제가 말씀드린 부분처럼 중간에 어 스트리밍 출력으로 내가 어떤 부분을 수행하고 있다라는 부분을 유저에게 알려 줌으로써 어 유저가 기다릴 수 있게끔 만드는 그런 부분도 같이 고려하셨으면 좋겠습니다.네 네 이번 시간에는 저희 아댑티브 레그에 대해서 알아봤습니다'},\n",
       " {'url': 'https://changsroad.tistory.com/534',\n",
       "  'title': \"한 권으로 끝내는 랭체인 노트 따라하기 Day 0 - Let's be Developers\",\n",
       "  'content': \"Let's be Developers # 한 권으로 끝내는 랭체인 노트 따라하기 Day 0 오늘부터 시간날 때마다 `테디노트`님이 작성하신 wikidocs의 랭체인노트 듀토리얼을 보면서 따라해보도록 하겠다! 출처: 테디노트, <랭체인LangChain 노트> - LangChain 한국어 튜토리얼 , CC BY-NC-ND 2.0 KR #### 'ML & DL > NLP' 카테고리의 다른 글 | 한 권으로 끝내는 랭체인 노트 따라하기 Day 2 - LCEL\\xa0\\xa0(0) | 2024.12.23 | | 한 권으로 끝내는 랭체인 노트 따라하기 Day 1\\xa0\\xa0(0) | 2024.12.23 | | [[패캠/NLP] BERT](/455)\\xa0\\xa0(0) | 2023.12.28 | Let's be Developers창빵맨 님의 블로그입니다. ## 단축키 ### 내 블로그 | 맨 위로 이동 | `T` | | 티스토리 홈 이동 | `H` | | 단축키 안내 | `Shift` + `/`  `⇧` + `/` | \\\\* 단축키는 한글/영문 대소문자로 이용 가능하며, 티스토리 기본 도메인에서만 동작합니다.\",\n",
       "  'score': 0.74161834,\n",
       "  'raw_content': \"Let's be Developers\\n\\n# 한 권으로 끝내는 랭체인 노트 따라하기 Day 0\\n\\n·[ML & DL/NLP](/category/ML%20%26%20DL/NLP)\\n\\n오늘부터 시간날 때마다 `테디노트`님이 작성하신 wikidocs의 랭체인노트 듀토리얼을 보면서 따라해보도록 하겠다!\\n\\n출처: [테디노트](https://wikidocs.net/book/14314), <랭체인LangChain 노트> - LangChain 한국어 튜토리얼 , [CC BY-NC-ND 2.0 KR](https://creativecommons.org/licenses/by-nc-nd/2.0/kr)\\n\\n728x90\\n\\n\\n\\n\\n#### '[ML & DL](/category/ML%20%26%20DL) > [NLP](/category/ML%20%26%20DL/NLP)' 카테고리의 다른 글\\n\\n|  |  |\\n| --- | --- |\\n| [한 권으로 끝내는 랭체인 노트 따라하기 Day 2 - LCEL](/537)\\xa0\\xa0(0) | 2024.12.23 |\\n| [한 권으로 끝내는 랭체인 노트 따라하기 Day 1](/535)\\xa0\\xa0(0) | 2024.12.23 |\\n| [[패캠/NLP] BERT](/455)\\xa0\\xa0(0) | 2023.12.28 |\\n| [[패캠/NLP] GPT](/454)\\xa0\\xa0(0) | 2023.12.27 |\\n| [[패캠/NLP] Transformer: 트랜스포머](/450)\\xa0\\xa0(0) | 2023.12.26 |\\n\\n[Let's be Developers](https://changsroad.tistory.com)[창빵맨 님의 블로그입니다.](https://changsroad.tistory.com)\\n\\n댓글0\\n\\n\\n\\n\\n\\n## 단축키\\n\\n### 내 블로그\\n\\n|  |  |\\n| --- | --- |\\n| 내 블로그 - 관리자 홈 전환 | `Q` |\\n| 새 글 쓰기 | `W` |\\n\\n### 블로그 게시글\\n\\n|  |  |\\n| --- | --- |\\n| 글 수정 (권한 있는 경우) | `E` |\\n| 댓글 영역으로 이동 | `C` |\\n\\n### 모든 영역\\n\\n|  |  |\\n| --- | --- |\\n| 이 페이지의 URL 복사 | `S` |\\n| 맨 위로 이동 | `T` |\\n| 티스토리 홈 이동 | `H` |\\n| 단축키 안내 | `Shift` + `/`  `⇧` + `/` |\\n\\n\\\\* 단축키는 한글/영문 대소문자로 이용 가능하며, 티스토리 기본 도메인에서만 동작합니다.\"}]"
      ]
     },
     "execution_count": 17,
     "metadata": {},
     "output_type": "execute_result"
    }
   ],
   "source": [
    "from langchain_teddynote.tools.tavily import TavilySearch\n",
    "\n",
    "# 검색 도구 생성\n",
    "tool = TavilySearch(max_results=3)\n",
    "\n",
    "# 도구 목록에 추가\n",
    "tools = [tool]\n",
    "\n",
    "# 도구 실행\n",
    "tool.invoke(\"테디노트 랭체인 튜토리얼\")\n"
   ]
  },
  {
   "cell_type": "code",
   "execution_count": 18,
   "metadata": {},
   "outputs": [],
   "source": [
    "from typing import Annotated\n",
    "from typing_extensions import TypedDict\n",
    "from langgraph.graph.message import add_messages\n",
    "\n",
    "\n",
    "# State 정의\n",
    "class State(TypedDict):\n",
    "    # list 타입에 add_messages 적용(list 에 message 추가)\n",
    "    messages: Annotated[list, add_messages]\n"
   ]
  },
  {
   "cell_type": "code",
   "execution_count": 19,
   "metadata": {},
   "outputs": [],
   "source": [
    "from langchain_openai import ChatOpenAI\n",
    "\n",
    "# LLM 초기화\n",
    "llm = ChatOpenAI(model=\"gpt-4.1\")\n",
    "# LLM 에 도구 바인딩\n",
    "llm_with_tools = llm.bind_tools(tools)\n"
   ]
  },
  {
   "cell_type": "code",
   "execution_count": 20,
   "metadata": {},
   "outputs": [],
   "source": [
    "# 노드 함수 정의\n",
    "def chatbot(state: State):\n",
    "    answer = llm_with_tools.invoke(state[\"messages\"])\n",
    "    # 메시지 목록 반환\n",
    "    return {\"messages\": [answer]}  # 자동으로 add_messages 적용\n"
   ]
  },
  {
   "cell_type": "code",
   "execution_count": 21,
   "metadata": {},
   "outputs": [
    {
     "data": {
      "text/plain": [
       "<langgraph.graph.state.StateGraph at 0x10c38d0f0>"
      ]
     },
     "execution_count": 21,
     "metadata": {},
     "output_type": "execute_result"
    }
   ],
   "source": [
    "from langgraph.graph import StateGraph\n",
    "\n",
    "# 상태 그래프 초기화\n",
    "graph_builder = StateGraph(State)\n",
    "\n",
    "# 노드 추가\n",
    "graph_builder.add_node(\"chatbot\", chatbot)\n"
   ]
  },
  {
   "cell_type": "code",
   "execution_count": 22,
   "metadata": {},
   "outputs": [
    {
     "data": {
      "text/plain": [
       "<langgraph.graph.state.StateGraph at 0x10c38d0f0>"
      ]
     },
     "execution_count": 22,
     "metadata": {},
     "output_type": "execute_result"
    }
   ],
   "source": [
    "import json\n",
    "from langchain_core.messages import ToolMessage\n",
    "\n",
    "\n",
    "class BasicToolNode:\n",
    "    \"\"\"Run tools requested in the last AIMessage node\"\"\"\n",
    "\n",
    "    def __init__(self, tools: list) -> None:\n",
    "        # 도구 리스트\n",
    "        self.tools_list = {tool.name: tool for tool in tools}\n",
    "\n",
    "    def __call__(self, inputs: dict):\n",
    "        # 메시지가 존재할 경우 가장 최근 메시지 1개 추출\n",
    "        if messages := inputs.get(\"messages\", []):\n",
    "            message = messages[-1]\n",
    "        else:\n",
    "            raise ValueError(\"No message found in input\")\n",
    "\n",
    "        # 도구 호출 결과\n",
    "        outputs = []\n",
    "        for tool_call in message.tool_calls:\n",
    "            # 도구 호출 후 결과 저장\n",
    "            tool_result = self.tools_list[tool_call[\"name\"]].invoke(tool_call[\"args\"])\n",
    "            outputs.append(\n",
    "                # 도구 호출 결과를 메시지로 저장\n",
    "                ToolMessage(\n",
    "                    content=json.dumps(\n",
    "                        tool_result, ensure_ascii=False\n",
    "                    ),  # 도구 호출 결과를 문자열로 변환\n",
    "                    name=tool_call[\"name\"],\n",
    "                    tool_call_id=tool_call[\"id\"],\n",
    "                )\n",
    "            )\n",
    "\n",
    "        return {\"messages\": outputs}\n",
    "\n",
    "\n",
    "# 도구 노드 생성\n",
    "tool_node = BasicToolNode(tools=[tool])\n",
    "\n",
    "# 그래프에 도구 노드 추가\n",
    "graph_builder.add_node(\"tools\", tool_node)\n"
   ]
  },
  {
   "cell_type": "code",
   "execution_count": 23,
   "metadata": {},
   "outputs": [],
   "source": [
    "from langgraph.graph import START, END\n",
    "\n",
    "\n",
    "def route_tools(\n",
    "    state: State,\n",
    "):\n",
    "    if messages := state.get(\"messages\", []):\n",
    "        # 가장 최근 AI 메시지 추출\n",
    "        ai_message = messages[-1]\n",
    "    else:\n",
    "        # 입력 상태에 메시지가 없는 경우 예외 발생\n",
    "        raise ValueError(f\"No messages found in input state to tool_edge: {state}\")\n",
    "\n",
    "    # AI 메시지에 도구 호출이 있는 경우 \"tools\" 반환\n",
    "    if hasattr(ai_message, \"tool_calls\") and len(ai_message.tool_calls) > 0:\n",
    "        # 도구 호출이 있는 경우 \"tools\" 반환\n",
    "        return \"tools\"\n",
    "    # 도구 호출이 없는 경우 \"END\" 반환\n",
    "    return END\n",
    "\n",
    "\n",
    "# `tools_condition` 함수는 챗봇이 도구 사용을 요청하면 \"tools\"를 반환하고, 직접 응답이 가능한 경우 \"END\"를 반환\n",
    "graph_builder.add_conditional_edges(\n",
    "    source=\"chatbot\",\n",
    "    path=route_tools,\n",
    "    # route_tools 의 반환값이 \"tools\" 인 경우 \"tools\" 노드로, 그렇지 않으면 END 노드로 라우팅\n",
    "    path_map={\"tools\": \"tools\", END: END},\n",
    ")\n",
    "\n",
    "# tools > chatbot\n",
    "graph_builder.add_edge(\"tools\", \"chatbot\")\n",
    "\n",
    "# START > chatbot\n",
    "graph_builder.add_edge(START, \"chatbot\")\n",
    "\n",
    "# 그래프 컴파일\n",
    "graph = graph_builder.compile()\n"
   ]
  },
  {
   "cell_type": "code",
   "execution_count": 24,
   "metadata": {},
   "outputs": [
    {
     "data": {
      "image/png": "[encoded data removed]",
      "text/plain": [
       "<IPython.core.display.Image object>"
      ]
     },
     "metadata": {},
     "output_type": "display_data"
    }
   ],
   "source": [
    "from langchain_teddynote.graphs import visualize_graph\n",
    "\n",
    "# 그래프 시각화\n",
    "visualize_graph(graph)\n"
   ]
  },
  {
   "cell_type": "code",
   "execution_count": 25,
   "metadata": {},
   "outputs": [
    {
     "name": "stdout",
     "output_type": "stream",
     "text": [
      "\n",
      "==============\n",
      "STEP: chatbot\n",
      "==============\n",
      "\n",
      "    \u001b[93mcontent\u001b[0m: \"\"\n",
      "    \u001b[93madditional_kwargs\u001b[0m:\n",
      "        \u001b[94mtool_calls\u001b[0m:\n",
      "            \u001b[94mindex [0]\u001b[0m\n",
      "                \u001b[92mid\u001b[0m: \"call_0gQV5SGuLl0UOOMbjJtrAiyb\"\n",
      "                \u001b[92mfunction\u001b[0m: {\"arguments\": \"{\"query\":\"테디노트 YouTube 채널 정보\"}\", \"name\": \"tavily_web_search\"}\n",
      "                \u001b[92mtype\u001b[0m: \"function\"\n",
      "        \u001b[94mrefusal\u001b[0m: None\n",
      "    \u001b[93mresponse_metadata\u001b[0m:\n",
      "        \u001b[94mtoken_usage\u001b[0m:\n",
      "            \u001b[95mcompletion_tokens\u001b[0m: 25\n",
      "            \u001b[95mprompt_tokens\u001b[0m: 97\n",
      "            \u001b[95mtotal_tokens\u001b[0m: 122\n",
      "            \u001b[95mcompletion_tokens_details\u001b[0m: {\"accepted_prediction_tokens\": 0, \"audio_tokens\": 0, \"reasoning_tokens\": 0, \"rejected_prediction_tokens\": 0}\n",
      "            \u001b[95mprompt_tokens_details\u001b[0m: {\"audio_tokens\": 0, \"cached_tokens\": 0}\n",
      "        \u001b[94mmodel_name\u001b[0m: \"gpt-4.1-2025-04-14\"\n",
      "        \u001b[94msystem_fingerprint\u001b[0m: \"fp_daf5fcc80a\"\n",
      "        \u001b[94mid\u001b[0m: \"chatcmpl-C8yZf3KFTk1phFWCeavCZb7sbvGL7\"\n",
      "        \u001b[94mservice_tier\u001b[0m: \"default\"\n",
      "        \u001b[94mfinish_reason\u001b[0m: \"tool_calls\"\n",
      "        \u001b[94mlogprobs\u001b[0m: None\n",
      "    \u001b[93mtype\u001b[0m: \"ai\"\n",
      "    \u001b[93mname\u001b[0m: None\n",
      "    \u001b[93mid\u001b[0m: \"run--1bf56e00-7947-4886-b0d4-c8a8e881e642-0\"\n",
      "    \u001b[93mexample\u001b[0m: False\n",
      "    \u001b[93mtool_calls\u001b[0m:\n",
      "        \u001b[93mindex [0]\u001b[0m\n",
      "            \u001b[95mname\u001b[0m: \"tavily_web_search\"\n",
      "            \u001b[95margs\u001b[0m: {\"query\": \"테디노트 YouTube 채널 정보\"}\n",
      "            \u001b[95mid\u001b[0m: \"call_0gQV5SGuLl0UOOMbjJtrAiyb\"\n",
      "            \u001b[95mtype\u001b[0m: \"tool_call\"\n",
      "    \u001b[93minvalid_tool_calls\u001b[0m:\n",
      "    \u001b[93musage_metadata\u001b[0m:\n",
      "        \u001b[94minput_tokens\u001b[0m: 97\n",
      "        \u001b[94moutput_tokens\u001b[0m: 25\n",
      "        \u001b[94mtotal_tokens\u001b[0m: 122\n",
      "        \u001b[94minput_token_details\u001b[0m: {\"audio\": 0, \"cache_read\": 0}\n",
      "        \u001b[94moutput_token_details\u001b[0m: {\"audio\": 0, \"reasoning\": 0}\n",
      "\n",
      "==============\n",
      "STEP: tools\n",
      "==============\n",
      "\n",
      "    \u001b[93mcontent\u001b[0m: \"[{\"url\": \"https://dolearn.ai/etc/user_introduction?type=youtuber&channel_id=UCt2wAAXgm87ACiQnDHQEW6Q\", \"title\": \"테디노트 TeddyNote | 두런 - DoLearn | 유튜브 채널소개\", \"content\": \"데이터 분석, 머신러닝, 딥러닝에 대한 내용을 다룹니다. 저는 머신러닝/딥러닝의 대중화를 꿈꿉니다. === 텐서플로우 자격증 강의:\", \"score\": 0.7467494, \"raw_content\": null}, {\"url\": \"https://www.youtube.com/channel/UCt2wAAXgm87ACiQnDHQEW6Q\", \"title\": \"테디노트 TeddyNote - YouTube\", \"content\": \"데이터 분석, 머신러닝, 딥러닝, LLM 에 대한 내용을 다룹니다. 연구보다는 개발에 관심이 많습니다 ‍♂️ ...more 데이터 분석, 머신러닝, 딥러닝, LLM 에 대한 내용을\", \"score\": 0.69498676, \"raw_content\": null}, {\"url\": \"https://www.youtube.com/channel/UCt2wAAXgm87ACiQnDHQEW6Q/about\", \"title\": \"테디노트 TeddyNote - YouTube\", \"content\": \"⭐️ 패스트캠퍼스 RAG 비법노트 [20% 할인 이벤트] ⭐️ 🔆 할인코드: 테디노트RAG ✅ 강의링크:  - 분량: 약 70시간 - 쿠폰코드 사용방법: 강의 수강신청 → 쿠폰 선택 창에 쿠폰코드 입력 → 쿠폰 등록 🔥 링크 모음 🔥  📘 랭체인 튜토리얼 무료 전자책(wikidocs)  ✅ 랭체인 한국어 튜토리얼 코드저장소(GitHub)  --- 📍 \\\"테디노트의 RAG 비법노트\\\" 랭체인 강의:  📘 랭체인 한국어 튜토리얼(무료 전자책):  📝 테디노트(깃헙 블로그) :  💻 GitHub 소스코드 저장소:  ### RAG 비법노트 강의 커리큘럼 소개 / #LangGraph 튜토리얼 하이라이트 GradientTape - 텐서플로우 튜토리얼 텐서플로우 튜토리얼 00 - #텐서플로우 2.0 튜토리얼 뽀개기를 시작합니다 연구보다는 개발에 관심이 많습니다 🙇‍♂️ 🔥 \\\"테디노트의 RAG 비법노트\\\" 랭체인 강의:  💻 GitHub:  📝 블로그:  🤖 머신러닝 혼자 배우기 코드저장소:  📘 랭체인 한국어 튜토리얼:  🧑‍💻 랭체인 튜토리얼 코드저장소:  💌 비즈니스 제안: teddylee777@gmail.com \", \"score\": 0.6757865, \"raw_content\": \"테디노트 TeddyNote - YouTube\\n\\n===============\\n\\n•\\n\\nNaN / NaN\\n\\n Back [![Image 1](https://www.youtube.com/channel/UCt2wAAXgm87ACiQnDHQEW6Q/about)](https://www.youtube.com/ \\\"YouTube Home\\\")\\n\\nSkip navigation\\n\\n Search \\n\\n Search with your voice \\n\\n[Sign in](https://accounts.google.com/ServiceLogin?service=youtube&uilel=3&passive=true&continue=https%3A%2F%2Fwww.youtube.com%2Fsignin%3Faction_handle_signin%3Dtrue%26app%3Ddesktop%26hl%3Den%26next%3Dhttps%253A%252F%252Fwww.youtube.com%252Fchannel%252FUCt2wAAXgm87ACiQnDHQEW6Q%252Fabout&hl=en&ec=65620)\\n\\n[![Image 2](https://www.youtube.com/channel/UCt2wAAXgm87ACiQnDHQEW6Q/about)](https://www.youtube.com/ \\\"YouTube Home\\\")\\n\\n[Home Home](https://www.youtube.com/ \\\"Home\\\")Shorts Shorts[Subscriptions Subscriptions](https://www.youtube.com/feed/subscriptions \\\"Subscriptions\\\")[You You](https://www.youtube.com/feed/you \\\"You\\\")[History History](https://www.youtube.com/feed/history \\\"History\\\")\\n\\n![Image 3](https://yt3.googleusercontent.com/c83Caih-Ik6_6uGf1pm4BTfwoJC_DmK-WbVq6IvQ9cmpNmCu7G0PwtIBzFArfXTXBGx8_HDxrPU=w1060-fcrop64=1,00005a57ffffa5a8-k-c0xffffffff-no-nd-rj)\\n\\n![Image 4](https://yt3.googleusercontent.com/lDDDlv0COiNN2TTkcmwnBji-Mm-q_dPJfgMyzM10FxiCp8qR7S03FQ1i9fmT9kP4g8JpdKiidw=s160-c-k-c0x00ffffff-no-rj)\\n\\n테디노트 TeddyNote\\n==============\\n\\n@teddynote\\n\\n•\\n\\n42.9K subscribers•258 videos\\n\\n데이터 분석, 머신러닝, 딥러닝, LLM 에 대한 내용을 다룹니다. 연구보다는 개발에 관심이 많습니다 🙇‍♂️ ...more...more[fastcampus.co.kr/data_online_teddy](https://www.youtube.com/redirect?event=channel_header&redir_token=QUFFLUhqbVQxQ25VYlFmUmIxTDhIMjJjRld3M3o5dmtZUXxBQ3Jtc0ttbTFPTVNHTzdwdi1uV0Y2WFpQNTRqY3lQR3pncEozdkltOFpqVnhBc3h4bGdzc191cWQ2cFBlUDRlb0dTeXplSGFoNWlXT09VZjlWaEhZZEFPeDVmOEhyVHhBR1AwaUNQOXBOTDZlTzFNRGxVSmJfUQ&q=https%3A%2F%2Ffastcampus.co.kr%2Fdata_online_teddy)[and 2 more links](javascript:void(0);)\\n\\nSubscribe\\n\\nJoin\\n\\nHome\\n\\nVideos\\n\\nShorts\\n\\nLive\\n\\nPlaylists\\n\\nPosts\\n\\nSearch \\n\\n[EP01. #RAG 의 동작 과정 쉽게 이해하기!](https://www.youtube.com/watch?v=zybyszetEcE)\\n\\nSearch\\n\\nInfo\\n\\nShopping\\n\\nTap to unmute\\n\\n2x\\n\\n![Image 5](https://www.youtube.com/channel/UCt2wAAXgm87ACiQnDHQEW6Q/about)\\n\\nIf playback doesn't begin shortly, try restarting your device.\\n\\n![Image 6](https://www.youtube.com/channel/UCt2wAAXgm87ACiQnDHQEW6Q/about)\\n\\n•\\n\\nYou're signed out\\n\\nVideos you watch may be added to the TV's watch history and influence TV recommendations. To avoid this, cancel and sign in to YouTube on your computer.\\n\\nCancel Confirm\\n\\n![Image 7](https://yt3.ggpht.com/lDDDlv0COiNN2TTkcmwnBji-Mm-q_dPJfgMyzM10FxiCp8qR7S03FQ1i9fmT9kP4g8JpdKiidw=s176-c-k-c0x00ffffff-no-rj)\\n\\n테디노트 TeddyNote\\n\\nSubscribe\\n\\nUnsubscribe\\n\\nShare\\n\\n- [x] Include playlist \\n\\nAn error occurred while retrieving sharing information. Please try again later.\\n\\nWatch later\\n\\nShare\\n\\nCopy link\\n\\n![Image 8](https://www.youtube.com/channel/UCt2wAAXgm87ACiQnDHQEW6Q/about)\\n\\n0:00\\n\\n0:00 / 23:58\\n\\n•Watch full video Live\\n\\n•\\n\\n•\\n\\n[EP01. #RAG 의 동작 과정 쉽게 이해하기!](https://www.youtube.com/watch?v=zybyszetEcE)\\n\\n•\\n\\n•\\n\\n54,545 views 7 months ago\\n\\n*본 영상은 [패스트캠퍼스] 에서 오픈한 \\\"RAG 비법노트\\\" 강의의 일부를 편집한 내용입니다. 보다 자세한 강의 커리큘럼은 아래의 강의 링크에서 확인하실 수 있습니다. ⭐️ 패스트캠퍼스 RAG 비법노트 [20% 할인 이벤트] ⭐️ 🔆 할인코드: 테디노트RAG ✅ 강의링크: [https://buly.kr/90aYONY](https://www.youtube.com/redirect?event=video_description&redir_token=QUFFLUhqblIxNllQcXNia0swTElELWlNeXhSVk15T0FIZ3xBQ3Jtc0tuRjFQWW9ETXdGRHdFRHRYV2pLSEZUVnBncGhSUVZ2WjhWZmlrTnFULWUyaDlvVEdxNUFvNE1MRmZ1Q1UzSGRkSk1helU1SGgzMmdyREVQc0ZFUHZXMUdXd0NYUlBFaVZHTDg3aFJrYUdSTUwtUExkUQ&q=https%3A%2F%2Fbuly.kr%2F90aYONY) - 분량: 약 70시간 - 쿠폰코드 사용방법: 강의 수강신청 → 쿠폰 선택 창에 쿠폰코드 입력 → 쿠폰 등록 🔥 링크 모음 🔥 [https://linktr.ee/teddynote](https://www.youtube.com/redirect?event=video_description&redir_token=QUFFLUhqbUVfUElwRmpqSUJteS1YZ1lpTFRlSkFnNGxZd3xBQ3Jtc0tsa0t3MXdGNTltR2UydlROcEFFY3dxRWgzU0UzdlBPVXR1WElSczZldXhlYnk0dkJKaE9qNThDQ1hicG1Fc3FnU05WTGRLdlNYTTRNZG1Ldm9QWk1FR0NwN1BQa0I3cGdpUkdXMkdFTzhyOVduc3hIMA&q=https%3A%2F%2Flinktr.ee%2Fteddynote) 📘 랭체인 튜토리얼 무료 전자책(wikidocs) [https://wikidocs.net/book/14314](https://www.youtube.com/redirect?event=video_description&redir_token=QUFFLUhqbGZfLXhpYmFmTVdKNE16TkNzTDZ5RmNIM3d5UXxBQ3Jtc0tsWm5fOFZOdmJFLV8tWlFRZXpsWnduc2Z3MlBhU1ZVOVF0UHpvVUNkYTVxQ1hlQmVGM2dHeGRNaUxuaEp2VUI5UGNaTUdvNkhCcGhjNUxKS0UyOGszTzRCaXhLZlIydi16VGtJQ3g0VmF1cnQ4N0htVQ&q=https%3A%2F%2Fwikidocs.net%2Fbook%2F14314) ✅ 랭체인 한국어 튜토리얼 코드저장소(GitHub) [https://github.com/teddylee777/langch...](https://www.youtube.com/redirect?event=video_description&redir_token=QUFFLUhqbnlHZ1l4MnZ3V1BDQk1vNHdMOHA1Sl85cWlQQXxBQ3Jtc0ttNU4tcG56T25IZVVGWlV5LWVEeTZoWnJIdHlkaWI5Z3hnX1RHWlhpcXp6WFdxRjlZRi1iM0RCNlRGUDhLazUyUE9YNTlOMG1oOE12RGtPY0dkTXU2TURGTllVS1ZnYW9EQzZBQWtyOFNtSkprZy1DYw&q=https%3A%2F%2Fgithub.com%2Fteddylee777%2Flangchain-kr) --- 📍 \\\"테디노트의 RAG 비법노트\\\" 랭체인 강의: [https://fastcampus.co.kr/data_online_...](https://www.youtube.com/redirect?event=video_description&redir_token=QUFFLUhqazNNTWhmNFhCNmdwOVljclpOVzRRVXF0VUJqd3xBQ3Jtc0tsN2FZMExlZmd6R0lBdDNyZ0xmbDRQelg4TXRSTlRDS0Nxa3BKa1JTbnd5WE8yTmlDOWo5UGFoLXJoQXhhNktneWxfZFJFdW9TaDRKdTBkU3NJNF94LVljY1ZRYk5KY0hqSDRBX2dvS3h4Zkg2QkdSVQ&q=https%3A%2F%2Ffastcampus.co.kr%2Fdata_online_teddy) 📘 랭체인 한국어 튜토리얼(무료 전자책): [https://wikidocs.net/book/14314](https://www.youtube.com/redirect?event=video_description&redir_token=QUFFLUhqbFFvNGdZcWV2WW5lU29rQkk3d2ZFWG9HZW8yd3xBQ3Jtc0tuUE5zTUlSUnlIaFh3QThON0R6bDF0OGhFdnBqRzBLUlB2RTBaOEZQNEVpUlRVck9JenB3a1FYeXRkM3YxajNlR0FsRUM5YXNkdE53T2lsbFV0LVdVM3hmSUJ4LVBzYkJzTVNvZGZvMmo2ZllVQjJLMA&q=https%3A%2F%2Fwikidocs.net%2Fbook%2F14314) 📝 테디노트(깃헙 블로그) : [https://teddylee777.github.io](https://www.youtube.com/redirect?event=video_description&redir_token=QUFFLUhqbVJXT0h1TkZNSWN3QmJ3ZXhiYWdXUDNtUjRtUXxBQ3Jtc0tsaFBnNlVibmNwOHhsUG13ckFCMVlIa2NfeE5ndk56MktBMzIwOEZNWGVzd1o1QkZ1enpaaVFQdWNaU2RWeElfODFKU1lBbEtJWWVBYXRIcldILV9tTkZsRWxyckF6T29OV0VLQmNWMTh5UXktamYzWQ&q=https%3A%2F%2Fteddylee777.github.io%2F) 💻 GitHub 소스코드 저장소: [https://github.com/teddylee777](https://www.youtube.com/redirect?event=video_description&redir_token=QUFFLUhqbFQtOEdyZnFtd2g2WVJUM1Y0ZDRHTHNrdWg4UXxBQ3Jtc0tueFQ0T3h0U1ZPdWZBVndVQjBtUDFGNXg3UHpxTlZRdWhrekFYREJtMjhtazhnWFBuWkZ4UGo5R093SDNYd2UzTU5qRm5mQ0pBTWRsdHQzR1d6c0RFOWZ1RWZ6NTMxdUNoQm9LMWw1Y3d6aThmLXo3TQ&q=https%3A%2F%2Fgithub.com%2Fteddylee777)\\n\\n[Read more](https://www.youtube.com/watch?v=zybyszetEcE)\\n\\nOur members Thank you, channel members!\\n\\n![Image 9](https://yt3.googleusercontent.com/D4mOxJCzWBGul_u0dJ2xxhPTTNsDKqXFg2Bcffe0sARFgNu2QMInwx4NW57GR_eH8zEU2YnjRQ=s88-c-k-c0x00ffffff-no-rj)![Image 10](https://yt3.googleusercontent.com/ytc/AIdro_mE1qB1kp3-z43OKNwM8sYlCG8tMHwG34Q8N3QD7RoMdGU=s88-c-k-c0x00ffffff-no-rj)![Image 11](https://yt3.googleusercontent.com/ytc/AIdro_ld2J5RrlzAIoFUiErGx2Ml51uzHcOxM6Wsk3Y7_k-R1A=s88-c-k-c0x00ffffff-no-rj)![Image 12](https://yt3.googleusercontent.com/MvVdI_AToANz5dQH4zLclTGIGgBgtqGlml3mkFKLvHzOKpnoax8NFl6nD-wWHdXocsKbk6Sftg=s88-c-k-c0x00ffffff-no-rj)![Image 13](https://yt3.googleusercontent.com/ytc/AIdro_kknS1klVVSKvqFqR5628he8MKPAa090GtK8NaSSqVrK80=s88-c-k-c0x00ffffff-no-rj)![Image 14](https://yt3.googleusercontent.com/ytc/AIdro_my8RqJptc6jTAC6JvdvWBNJzLMoC-tOKxDtWZexjDCSnzmFpbsp_jmDCXuuSGPLyrJ_w=s88-c-k-c0x00ffffff-no-rj)![Image 15](https://yt3.googleusercontent.com/ytc/AIdro_mWFXZwGlXHSLJUAfWVlfyW3hLWzSrPqyTMPl_ID_I=s88-c-k-c0x00ffffff-no-rj)![Image 16](https://yt3.googleusercontent.com/ytc/AIdro_m0Wh7jGglgiz4isEyY8Bc0q49rSmak9Oa45KNXbo7HLbw=s88-c-k-c0x00ffffff-no-rj)\\n\\nJoin\\n\\n[![Image 17](https://www.youtube.com/channel/UCt2wAAXgm87ACiQnDHQEW6Q/about)](https://www.youtube.com/@teddynote/videos?view=0&sort=dd&shelf_id=2 \\\"Videos\\\")\\n\\n[Videos](https://www.youtube.com/@teddynote/videos?view=0&sort=dd&shelf_id=2)\\n------------------------------------------------------------------------------------------------------------------------------------------------------------------------------------------------------------------------------------------\\n\\n[![Image 18](https://i.ytimg.com/vi/nyZnrKVaIXU/hqdefault.jpg?sqp=-oaymwEnCPYBEIoBSFryq4qpAxkIARUAAIhCGAHYAQHiAQoIGBACGAY4AUAB&rs=AOn4CLD33zrAO-N3jcICbFQX-_V8O-7JPg) 10:00 10:00 Now playing](https://www.youtube.com/watch?v=nyZnrKVaIXU)\\n\\n![Image 19](https://www.youtube.com/channel/UCt2wAAXgm87ACiQnDHQEW6Q/about)\\n\\n### [에이전트 시스템에서 #A2A 와 #MCP 의 의미](https://www.youtube.com/watch?v=nyZnrKVaIXU \\\"에이전트 시스템에서 #A2A 와 #MCP 의 의미\\\")\\n\\n3.1K views 2 days ago\\n\\n[![Image 20](https://i.ytimg.com/vi/ctKz2bkgkPQ/hqdefault.jpg?sqp=-oaymwEnCPYBEIoBSFryq4qpAxkIARUAAIhCGAHYAQHiAQoIGBACGAY4AUAB&rs=AOn4CLAJOl1mShwzdkTc6mmCyXizrERa3w) 14:57 14:57 Now playing](https://www.youtube.com/watch?v=ctKz2bkgkPQ)\\n\\n![Image 21](https://www.youtube.com/channel/UCt2wAAXgm87ACiQnDHQEW6Q/about)\\n\\n### [#팔란티어 #온톨로지 로 미리보는 Al Agent의 미래](https://www.youtube.com/watch?v=ctKz2bkgkPQ \\\"#팔란티어 #온톨로지 로 미리보는 Al Agent의 미래\\\")\\n\\n5.4K views 3 days ago\\n\\n[![Image 22](https://i.ytimg.com/vi/Zk3ipzTMe1g/hqdefault.jpg?sqp=-oaymwEnCPYBEIoBSFryq4qpAxkIARUAAIhCGAHYAQHiAQoIGBACGAY4AUAB&rs=AOn4CLAgiqtfW_LF-NUBc8FzaqsmVvhbog) 31:31 31:31 Now playing](https://www.youtube.com/watch?v=Zk3ipzTMe1g&pp=0gcJCbAJAYcqIYzv)\\n\\n![Image 23](https://www.youtube.com/channel/UCt2wAAXgm87ACiQnDHQEW6Q/about)\\n\\n### [2025 도큐먼트 파서 비교! Synap DocuAnalyzer VS 업스테이지 Document Parse](https://www.youtube.com/watch?v=Zk3ipzTMe1g&pp=0gcJCbAJAYcqIYzv \\\"2025 도큐먼트 파서 비교! Synap DocuAnalyzer VS 업스테이지 Document Parse\\\")\\n\\n3.8K views 4 weeks ago\\n\\n[![Image 24](https://i.ytimg.com/vi/W_uwR_yx4-c/hqdefault.jpg?sqp=-oaymwEnCPYBEIoBSFryq4qpAxkIARUAAIhCGAHYAQHiAQoIGBACGAY4AUAB&rs=AOn4CLAMVWKFt1bj4VKudERgPyrdIlF8Bg) 2:57:06 2:57:06 Now playing](https://www.youtube.com/watch?v=W_uwR_yx4-c)\\n\\n![Image 25](https://www.youtube.com/channel/UCt2wAAXgm87ACiQnDHQEW6Q/about)\\n\\n### [🔥 #LangGraph 개념 완전 정복 몰아보기(3시간) 🔥](https://www.youtube.com/watch?v=W_uwR_yx4-c \\\"🔥 #LangGraph 개념 완전 정복 몰아보기(3시간) 🔥\\\")\\n\\n13K views 1 month ago\\n\\n[![Image 26](https://i.ytimg.com/vi/s-rDDqcGymk/hqdefault.jpg?sqp=-oaymwEnCPYBEIoBSFryq4qpAxkIARUAAIhCGAHYAQHiAQoIGBACGAY4AUAB&rs=AOn4CLCkvNs8-0kXA2Na0xE7-_if_Ylq9A) 12:19 12:19 Now playing](https://www.youtube.com/watch?v=s-rDDqcGymk&pp=0gcJCbAJAYcqIYzv)\\n\\n![Image 27](https://www.youtube.com/channel/UCt2wAAXgm87ACiQnDHQEW6Q/about)\\n\\n### [#MCP 에이전트 공개(동적 도구 설정 대시보드, 시스템 프롬프트 설정, 다양한 모델)](https://www.youtube.com/watch?v=s-rDDqcGymk&pp=0gcJCbAJAYcqIYzv \\\"#MCP 에이전트 공개(동적 도구 설정 대시보드, 시스템 프롬프트 설정, 다양한 모델)\\\")\\n\\n4.9K views 1 month ago\\n\\n[![Image 28](https://www.youtube.com/channel/UCt2wAAXgm87ACiQnDHQEW6Q/about) 10:11 10:11 Now playing](https://www.youtube.com/watch?v=A31X4gdGbKw)\\n\\n![Image 29](https://www.youtube.com/channel/UCt2wAAXgm87ACiQnDHQEW6Q/about)\\n\\n### [🔥 #langgraph 에이전트 + #mcp 도구 서버로 띄우고 프론트와 쉽게 연결하기🔥](https://www.youtube.com/watch?v=A31X4gdGbKw \\\"🔥 #langgraph 에이전트 + #mcp 도구 서버로 띄우고 프론트와 쉽게 연결하기🔥\\\")\\n\\n8.2K views 1 month ago\\n\\n[![Image 30](https://www.youtube.com/channel/UCt2wAAXgm87ACiQnDHQEW6Q/about)](https://www.youtube.com/playlist?list=PLIMb_GuNnFweShkx8-yorSjhwGKv9raR_ \\\"LangChain 튜토리얼\\\")\\n\\n[LangChain 튜토리얼](https://www.youtube.com/playlist?list=PLIMb_GuNnFweShkx8-yorSjhwGKv9raR_)\\n\\n[Play all](https://www.youtube.com/watch?v=Zk3ipzTMe1g&list=PLIMb_GuNnFweShkx8-yorSjhwGKv9raR_)\\n-----------------------------------------------------------------------------------------------------------------------------------------------------------------------------------------------------------------------------------------------------------------------------------------------------------------------------------------------------------------------\\n\\n#langchain #튜토리얼 모음입니다.\\n\\n[![Image 31](https://www.youtube.com/channel/UCt2wAAXgm87ACiQnDHQEW6Q/about) 31:31 31:31 Now playing](https://www.youtube.com/watch?v=Zk3ipzTMe1g)\\n\\n![Image 32](https://www.youtube.com/channel/UCt2wAAXgm87ACiQnDHQEW6Q/about)\\n\\n### [2025 도큐먼트 파서 비교! Synap DocuAnalyzer VS 업스테이지 Document Parse](https://www.youtube.com/watch?v=Zk3ipzTMe1g \\\"2025 도큐먼트 파서 비교! Synap DocuAnalyzer VS 업스테이지 Document Parse\\\")\\n\\n[테디노트 TeddyNote](https://www.youtube.com/@teddynote)\\n\\n 테디노트 TeddyNote \\n\\n3.8K views 4 weeks ago\\n\\n[![Image 33](https://www.youtube.com/channel/UCt2wAAXgm87ACiQnDHQEW6Q/about) 10:35 10:35 Now playing](https://www.youtube.com/watch?v=gEjAq3Jnu94)\\n\\n![Image 34](https://www.youtube.com/channel/UCt2wAAXgm87ACiQnDHQEW6Q/about)\\n\\n### [#LangGraph 로 구축해본 #Upstage 문서 파서 (server, client) 사용 방법](https://www.youtube.com/watch?v=gEjAq3Jnu94 \\\"#LangGraph 로 구축해본 #Upstage 문서 파서 (server, client) 사용 방법\\\")\\n\\n[테디노트 TeddyNote](https://www.youtube.com/@teddynote)\\n\\n 테디노트 TeddyNote \\n\\n4.3K views 2 months ago\\n\\n[![Image 35](https://www.youtube.com/channel/UCt2wAAXgm87ACiQnDHQEW6Q/about) 38:48 38:48 Now playing](https://www.youtube.com/watch?v=edsshVochqM)\\n\\n![Image 36](https://www.youtube.com/channel/UCt2wAAXgm87ACiQnDHQEW6Q/about)\\n\\n### [#LangGraph 를 활용한 Agentic AI 시스템 구축 (에이전틱AI 밋업 2025 Q1)](https://www.youtube.com/watch?v=edsshVochqM \\\"#LangGraph 를 활용한 Agentic AI 시스템 구축 (에이전틱AI 밋업 2025 Q1)\\\")\\n\\n[테디노트 TeddyNote](https://www.youtube.com/@teddynote)\\n\\n 테디노트 TeddyNote \\n\\n11K views 2 months ago\\n\\n[![Image 37](https://www.youtube.com/channel/UCt2wAAXgm87ACiQnDHQEW6Q/about) 19:56 19:56 Now playing](https://www.youtube.com/watch?v=-Jym-zji7YI)\\n\\n![Image 38](https://www.youtube.com/channel/UCt2wAAXgm87ACiQnDHQEW6Q/about)\\n\\n### [#LangSmith Playground 로 프롬프트 실험하는 방법(스키마, Tool, Canvas)](https://www.youtube.com/watch?v=-Jym-zji7YI \\\"#LangSmith Playground 로 프롬프트 실험하는 방법(스키마, Tool, Canvas)\\\")\\n\\n[테디노트 TeddyNote](https://www.youtube.com/@teddynote)\\n\\n 테디노트 TeddyNote \\n\\n2.6K views 3 months ago\\n\\n[![Image 39](https://www.youtube.com/channel/UCt2wAAXgm87ACiQnDHQEW6Q/about) 21:06 21:06 Now playing](https://www.youtube.com/watch?v=9XQDpIlB3jk)\\n\\n![Image 40](https://www.youtube.com/channel/UCt2wAAXgm87ACiQnDHQEW6Q/about)\\n\\n### [코딩 과외 선생님을 만들어 봤습니다.](https://www.youtube.com/watch?v=9XQDpIlB3jk \\\"코딩 과외 선생님을 만들어 봤습니다.\\\")\\n\\n[테디노트 TeddyNote](https://www.youtube.com/@teddynote)\\n\\n 테디노트 TeddyNote \\n\\n3.6K views 4 months ago\\n\\n[![Image 41](https://www.youtube.com/channel/UCt2wAAXgm87ACiQnDHQEW6Q/about) 18:54 18:54 Now playing](https://www.youtube.com/watch?v=C7W2KGyFrV4)\\n\\n![Image 42](https://www.youtube.com/channel/UCt2wAAXgm87ACiQnDHQEW6Q/about)\\n\\n### [RAG 비법노트 강의 커리큘럼 소개 / #LangGraph 튜토리얼 하이라이트](https://www.youtube.com/watch?v=C7W2KGyFrV4 \\\"RAG 비법노트 강의 커리큘럼 소개 / #LangGraph 튜토리얼 하이라이트\\\")\\n\\n[테디노트 TeddyNote](https://www.youtube.com/@teddynote)\\n\\n 테디노트 TeddyNote \\n\\n4.9K views 5 months ago\\n\\n[![Image 43](https://www.youtube.com/channel/UCt2wAAXgm87ACiQnDHQEW6Q/about)](https://www.youtube.com/playlist?list=PLIMb_GuNnFwfMm3alTSOmDK4AnpdG7USY \\\"깃헙(Github) 블로그 만들기 - 시즌2\\\")\\n\\n[깃헙(Github) 블로그 만들기 - 시즌2](https://www.youtube.com/playlist?list=PLIMb_GuNnFwfMm3alTSOmDK4AnpdG7USY)\\n\\n[Play all](https://www.youtube.com/watch?v=p1cdQPw-JME&list=PLIMb_GuNnFwfMm3alTSOmDK4AnpdG7USY)\\n-------------------------------------------------------------------------------------------------------------------------------------------------------------------------------------------------------------------------------------------------------------------------------------------------------------------------------------------------------------------------------------------\\n\\n[![Image 44](https://www.youtube.com/channel/UCt2wAAXgm87ACiQnDHQEW6Q/about) 2:32 2:32 Now playing](https://www.youtube.com/watch?v=p1cdQPw-JME)\\n\\n![Image 45](https://www.youtube.com/channel/UCt2wAAXgm87ACiQnDHQEW6Q/about)\\n\\n### [EP14. 깃헙(Github) 블로그 만들기 시즌2를 시작합니다!](https://www.youtube.com/watch?v=p1cdQPw-JME \\\"EP14. 깃헙(Github) 블로그 만들기 시즌2를 시작합니다!\\\")\\n\\n[테디노트 TeddyNote](https://www.youtube.com/@teddynote)\\n\\n 테디노트 TeddyNote \\n\\n8.1K views 2 years ago\\n\\n[![Image 46](https://www.youtube.com/channel/UCt2wAAXgm87ACiQnDHQEW6Q/about) 6:45 6:45 Now playing](https://www.youtube.com/watch?v=zoZ4LF-8j2E)\\n\\n![Image 47](https://www.youtube.com/channel/UCt2wAAXgm87ACiQnDHQEW6Q/about)\\n\\n### [EP15. 최신 업데이트 내역 블로그에 적용하기(최신 기능 적용)](https://www.youtube.com/watch?v=zoZ4LF-8j2E \\\"EP15. 최신 업데이트 내역 블로그에 적용하기(최신 기능 적용)\\\")\\n\\n[테디노트 TeddyNote](https://www.youtube.com/@teddynote)\\n\\n 테디노트 TeddyNote \\n\\n3.2K views 2 years ago\\n\\n[![Image 48](https://www.youtube.com/channel/UCt2wAAXgm87ACiQnDHQEW6Q/about) 3:56 3:56 Now playing](https://www.youtube.com/watch?v=PODVNQI6QL0)\\n\\n![Image 49](https://www.youtube.com/channel/UCt2wAAXgm87ACiQnDHQEW6Q/about)\\n\\n### [EP16. 메인 페이지에 사진 추가, 유튜브 아이콘/링크 추가하기](https://www.youtube.com/watch?v=PODVNQI6QL0 \\\"EP16. 메인 페이지에 사진 추가, 유튜브 아이콘/링크 추가하기\\\")\\n\\n[테디노트 TeddyNote](https://www.youtube.com/@teddynote)\\n\\n 테디노트 TeddyNote \\n\\n1.9K views 2 years ago\\n\\n[![Image 50](https://www.youtube.com/channel/UCt2wAAXgm87ACiQnDHQEW6Q/about) 11:52 11:52 Now playing](https://www.youtube.com/watch?v=GIsCf9_jboM)\\n\\n![Image 51](https://www.youtube.com/channel/UCt2wAAXgm87ACiQnDHQEW6Q/about)\\n\\n### [EP17. 포스트 왼쪽 영역 확장, TOC 스타일 수정하기(CSS 스타일 수정하는 법)](https://www.youtube.com/watch?v=GIsCf9_jboM \\\"EP17. 포스트 왼쪽 영역 확장, TOC 스타일 수정하기(CSS 스타일 수정하는 법)\\\")\\n\\n[테디노트 TeddyNote](https://www.youtube.com/@teddynote)\\n\\n 테디노트 TeddyNote \\n\\n2K views 2 years ago\\n\\n[![Image 52](https://www.youtube.com/channel/UCt2wAAXgm87ACiQnDHQEW6Q/about) 8:14 8:14 Now playing](https://www.youtube.com/watch?v=ndJ5B-DyBnA)\\n\\n![Image 53](https://www.youtube.com/channel/UCt2wAAXgm87ACiQnDHQEW6Q/about)\\n\\n### [EP18. 이미지 추가시 오류 해결 (A/S 영상)](https://www.youtube.com/watch?v=ndJ5B-DyBnA \\\"EP18. 이미지 추가시 오류 해결 (A/S 영상)\\\")\\n\\n[테디노트 TeddyNote](https://www.youtube.com/@teddynote)\\n\\n 테디노트 TeddyNote \\n\\n1.5K views 2 years ago\\n\\n[![Image 54](https://www.youtube.com/channel/UCt2wAAXgm87ACiQnDHQEW6Q/about) 5:26 5:26 Now playing](https://www.youtube.com/watch?v=aVhu5CEpkSI)\\n\\n![Image 55](https://www.youtube.com/channel/UCt2wAAXgm87ACiQnDHQEW6Q/about)\\n\\n### [EP19. 사이트 주소가 바뀌었을 때. redirect_from 플러그인으로 해결하기](https://www.youtube.com/watch?v=aVhu5CEpkSI \\\"EP19. 사이트 주소가 바뀌었을 때. redirect_from 플러그인으로 해결하기\\\")\\n\\n[테디노트 TeddyNote](https://www.youtube.com/@teddynote)\\n\\n 테디노트 TeddyNote \\n\\n720 views 2 years ago\\n\\n[![Image 56](https://www.youtube.com/channel/UCt2wAAXgm87ACiQnDHQEW6Q/about)](https://www.youtube.com/playlist?list=PLIMb_GuNnFwfQBZQwD-vCZENL5YLDZekr \\\"깃헙(Github) 블로그 만들기 - 시즌1\\\")\\n\\n[깃헙(Github) 블로그 만들기 - 시즌1](https://www.youtube.com/playlist?list=PLIMb_GuNnFwfQBZQwD-vCZENL5YLDZekr)\\n\\n[Play all](https://www.youtube.com/watch?v=--MMmHbSH9k&list=PLIMb_GuNnFwfQBZQwD-vCZENL5YLDZekr)\\n-------------------------------------------------------------------------------------------------------------------------------------------------------------------------------------------------------------------------------------------------------------------------------------------------------------------------------------------------------------------------------------------\\n\\n[![Image 57](https://www.youtube.com/channel/UCt2wAAXgm87ACiQnDHQEW6Q/about) 5:34 5:34 Now playing](https://www.youtube.com/watch?v=--MMmHbSH9k)\\n\\n![Image 58](https://www.youtube.com/channel/UCt2wAAXgm87ACiQnDHQEW6Q/about)\\n\\n### [EP01. 개발환경 설치하기](https://www.youtube.com/watch?v=--MMmHbSH9k \\\"EP01. 개발환경 설치하기\\\")\\n\\n[테디노트 TeddyNote](https://www.youtube.com/@teddynote)\\n\\n 테디노트 TeddyNote \\n\\n45K views 3 years ago\\n\\n[![Image 59](https://www.youtube.com/channel/UCt2wAAXgm87ACiQnDHQEW6Q/about) 4:45 4:45 Now playing](https://www.youtube.com/watch?v=1UEOWcKcVdk)\\n\\n![Image 60](https://www.youtube.com/channel/UCt2wAAXgm87ACiQnDHQEW6Q/about)\\n\\n### [EP02. 이미지 매우 간단하게 추가하기](https://www.youtube.com/watch?v=1UEOWcKcVdk \\\"EP02. 이미지 매우 간단하게 추가하기\\\")\\n\\n[테디노트 TeddyNote](https://www.youtube.com/@teddynote)\\n\\n 테디노트 TeddyNote \\n\\n18K views 3 years ago\\n\\n[![Image 61](https://www.youtube.com/channel/UCt2wAAXgm87ACiQnDHQEW6Q/about) 7:49 7:49 Now playing](https://www.youtube.com/watch?v=R3bMs8wr-jk)\\n\\n![Image 62](https://www.youtube.com/channel/UCt2wAAXgm87ACiQnDHQEW6Q/about)\\n\\n### [번외편. Typora를 활용하여 블로그에 이미지 쉽게 추가하기 (초간단 셋팅법)](https://www.youtube.com/watch?v=R3bMs8wr-jk \\\"번외편. Typora를 활용하여 블로그에 이미지 쉽게 추가하기 (초간단 셋팅법)\\\")\\n\\n[테디노트 TeddyNote](https://www.youtube.com/@teddynote)\\n\\n 테디노트 TeddyNote \\n\\n5K views 2 years ago\\n\\n[![Image 63](https://www.youtube.com/channel/UCt2wAAXgm87ACiQnDHQEW6Q/about) 8:03 8:03 Now playing](https://www.youtube.com/watch?v=0TeHUqSAb6Q)\\n\\n![Image 64](https://www.youtube.com/channel/UCt2wAAXgm87ACiQnDHQEW6Q/about)\\n\\n### [EP03. 업데이트 내역을 실시간 확인하기!! (로컬 개발환경 설정방법)](https://www.youtube.com/watch?v=0TeHUqSAb6Q \\\"EP03. 업데이트 내역을 실시간 확인하기!! (로컬 개발환경 설정방법)\\\")\\n\\n[테디노트 TeddyNote](https://www.youtube.com/@teddynote)\\n\\n 테디노트 TeddyNote \\n\\n12K views 3 years ago\\n\\n[![Image 65](https://www.youtube.com/channel/UCt2wAAXgm87ACiQnDHQEW6Q/about) 10:45 10:45 Now playing](https://www.youtube.com/watch?v=c-h3XcDjHtQ&pp=0gcJCbAJAYcqIYzv)\\n\\n![Image 66](https://www.youtube.com/channel/UCt2wAAXgm87ACiQnDHQEW6Q/about)\\n\\n### [EP04. 블로그 설정 매우 쉽게 변경하기 - NO코딩! (config.yml 활용)](https://www.youtube.com/watch?v=c-h3XcDjHtQ&pp=0gcJCbAJAYcqIYzv \\\"EP04. 블로그 설정 매우 쉽게 변경하기 - NO코딩! (config.yml 활용)\\\")\\n\\n[테디노트 TeddyNote](https://www.youtube.com/@teddynote)\\n\\n 테디노트 TeddyNote \\n\\n9.9K views 3 years ago\\n\\n[![Image 67](https://www.youtube.com/channel/UCt2wAAXgm87ACiQnDHQEW6Q/about) 12:33 12:33 Now playing](https://www.youtube.com/watch?v=anXaW9xhgcU)\\n\\n![Image 68](https://www.youtube.com/channel/UCt2wAAXgm87ACiQnDHQEW6Q/about)\\n\\n### [EP05. 댓글 & 구글 애널리틱스 추가하기](https://www.youtube.com/watch?v=anXaW9xhgcU \\\"EP05. 댓글 & 구글 애널리틱스 추가하기\\\")\\n\\n[테디노트 TeddyNote](https://www.youtube.com/@teddynote)\\n\\n 테디노트 TeddyNote \\n\\n6.6K views 3 years ago\\n\\n[![Image 69](https://www.youtube.com/channel/UCt2wAAXgm87ACiQnDHQEW6Q/about)](https://www.youtube.com/@teddynote/videos?view=0&sort=p&shelf_id=6 \\\"Popular videos\\\")\\n\\n[Popular videos](https://www.youtube.com/@teddynote/videos?view=0&sort=p&shelf_id=6)\\n--------------------------------------------------------------------------------------------------------------------------------------------------------------------------------------------------------------------------------------------------------\\n\\n[![Image 70](https://www.youtube.com/channel/UCt2wAAXgm87ACiQnDHQEW6Q/about) 17:11 17:11 Now playing](https://www.youtube.com/watch?v=ACzFIAOsfpM)\\n\\n![Image 71](https://www.youtube.com/channel/UCt2wAAXgm87ACiQnDHQEW6Q/about)\\n\\n### [깃헙(GitHub) 블로그 10분안에 완성하기](https://www.youtube.com/watch?v=ACzFIAOsfpM \\\"깃헙(GitHub) 블로그 10분안에 완성하기\\\")\\n\\n113K views 4 years ago\\n\\n[![Image 72](https://www.youtube.com/channel/UCt2wAAXgm87ACiQnDHQEW6Q/about) 29:29 29:29 Now playing](https://www.youtube.com/watch?v=VKIl0TIDKQg)\\n\\n![Image 73](https://www.youtube.com/channel/UCt2wAAXgm87ACiQnDHQEW6Q/about)\\n\\n### [🔥 #mcp 왜 대세인가? 살펴봤습니다! 그리고 #튜토리얼 도 준비했어요🔥](https://www.youtube.com/watch?v=VKIl0TIDKQg \\\"🔥 #mcp 왜 대세인가? 살펴봤습니다! 그리고 #튜토리얼 도 준비했어요🔥\\\")\\n\\n82K views 2 months ago\\n\\n[![Image 74](https://www.youtube.com/channel/UCt2wAAXgm87ACiQnDHQEW6Q/about) 28:51 28:51 Now playing](https://www.youtube.com/watch?v=VkcaigvTrug)\\n\\n![Image 75](https://www.youtube.com/channel/UCt2wAAXgm87ACiQnDHQEW6Q/about)\\n\\n### [🔥성능이 놀라워요🔥 무료로 한국어🇰🇷 파인튜닝 모델 받아서 나만의 로컬 LLM 호스팅 하기(#LangServe) + #RAG 까지!!](https://www.youtube.com/watch?v=VkcaigvTrug \\\"🔥성능이 놀라워요🔥 무료로 한국어🇰🇷 파인튜닝 모델 받아서 나만의 로컬 LLM 호스팅 하기(#LangServe) + #RAG 까지!!\\\")\\n\\n62K views 1 year ago\\n\\n[![Image 76](https://www.youtube.com/channel/UCt2wAAXgm87ACiQnDHQEW6Q/about) 45:21 45:21 Now playing](https://www.youtube.com/watch?v=NfQrRQmDrcc)\\n\\n![Image 77](https://www.youtube.com/channel/UCt2wAAXgm87ACiQnDHQEW6Q/about)\\n\\n### [[#langchain 밋업 발표] R.A.G. 우리가 절대 쉽게결과물을 얻을 수 없는 이유](https://www.youtube.com/watch?v=NfQrRQmDrcc \\\"[#langchain 밋업 발표] R.A.G. 우리가 절대 쉽게결과물을 얻을 수 없는 이유\\\")\\n\\n56K views 1 year ago\\n\\n[![Image 78](https://www.youtube.com/channel/UCt2wAAXgm87ACiQnDHQEW6Q/about) 23:59 23:59 Now playing](https://www.youtube.com/watch?v=zybyszetEcE)\\n\\n![Image 79](https://www.youtube.com/channel/UCt2wAAXgm87ACiQnDHQEW6Q/about)\\n\\n### [EP01. #RAG 의 동작 과정 쉽게 이해하기!](https://www.youtube.com/watch?v=zybyszetEcE \\\"EP01. #RAG 의 동작 과정 쉽게 이해하기!\\\")\\n\\n54K views 7 months ago\\n\\n[![Image 80](https://www.youtube.com/channel/UCt2wAAXgm87ACiQnDHQEW6Q/about) 5:34 5:34 Now playing](https://www.youtube.com/watch?v=--MMmHbSH9k)\\n\\n![Image 81](https://www.youtube.com/channel/UCt2wAAXgm87ACiQnDHQEW6Q/about)\\n\\n### [EP01. 개발환경 설치하기](https://www.youtube.com/watch?v=--MMmHbSH9k \\\"EP01. 개발환경 설치하기\\\")\\n\\n45K views 3 years ago\\n\\n[![Image 82](https://www.youtube.com/channel/UCt2wAAXgm87ACiQnDHQEW6Q/about)](https://www.youtube.com/playlist?list=PLIMb_GuNnFwdKHPaNP6xzAXSu9SKx4uAZ \\\"머신러닝 딥러닝을 위한 기초수학\\\")\\n\\n[머신러닝 딥러닝을 위한 기초수학](https://www.youtube.com/playlist?list=PLIMb_GuNnFwdKHPaNP6xzAXSu9SKx4uAZ)\\n\\n[Play all](https://www.youtube.com/watch?v=vS51prw_yfw&list=PLIMb_GuNnFwdKHPaNP6xzAXSu9SKx4uAZ)\\n-----------------------------------------------------------------------------------------------------------------------------------------------------------------------------------------------------------------------------------------------------------------------------------------------------------------------------------------------------------------------------\\n\\n머신러닝 딥러닝을 위한 기초 수학과 통계입니다.\\n\\n[![Image 83](https://www.youtube.com/channel/UCt2wAAXgm87ACiQnDHQEW6Q/about) 13:46 13:46 Now playing](https://www.youtube.com/watch?v=vS51prw_yfw&pp=0gcJCbAJAYcqIYzv)\\n\\n![Image 84](https://www.youtube.com/channel/UCt2wAAXgm87ACiQnDHQEW6Q/about)\\n\\n### [#머신러닝 #딥러닝 입문자를 위한 초스피드 기초 #수학](https://www.youtube.com/watch?v=vS51prw_yfw&pp=0gcJCbAJAYcqIYzv \\\"#머신러닝 #딥러닝 입문자를 위한 초스피드 기초 #수학\\\")\\n\\n[테디노트 TeddyNote](https://www.youtube.com/@teddynote)\\n\\n 테디노트 TeddyNote \\n\\n32K views 4 years ago\\n\\n[![Image 85](https://www.youtube.com/channel/UCt2wAAXgm87ACiQnDHQEW6Q/about) 17:42 17:42 Now playing](https://www.youtube.com/watch?v=GEdLNvPIbiM)\\n\\n![Image 86](https://www.youtube.com/channel/UCt2wAAXgm87ACiQnDHQEW6Q/about)\\n\\n### [경사하강법 (Gradient Descent)의 기본 개념을 쉽게 알려드립니다](https://www.youtube.com/watch?v=GEdLNvPIbiM \\\"경사하강법 (Gradient Descent)의 기본 개념을 쉽게 알려드립니다\\\")\\n\\n[테디노트 TeddyNote](https://www.youtube.com/@teddynote)\\n\\n 테디노트 TeddyNote \\n\\n33K views 5 years ago\\n\\n[![Image 87](https://www.youtube.com/channel/UCt2wAAXgm87ACiQnDHQEW6Q/about) 11:31 11:31 Now playing](https://www.youtube.com/watch?v=KgH3ZWmMxLE&pp=0gcJCbAJAYcqIYzv)\\n\\n![Image 88](https://www.youtube.com/channel/UCt2wAAXgm87ACiQnDHQEW6Q/about)\\n\\n### [경사하강법을 파이썬(python) 코드 구현](https://www.youtube.com/watch?v=KgH3ZWmMxLE&pp=0gcJCbAJAYcqIYzv \\\"경사하강법을 파이썬(python) 코드 구현\\\")\\n\\n[테디노트 TeddyNote](https://www.youtube.com/@teddynote)\\n\\n 테디노트 TeddyNote \\n\\n16K views 5 years ago\\n\\n[![Image 89](https://www.youtube.com/channel/UCt2wAAXgm87ACiQnDHQEW6Q/about) 20:21 20:21 Now playing](https://www.youtube.com/watch?v=-oBmMED_5rI&pp=0gcJCbAJAYcqIYzv)\\n\\n![Image 90](https://www.youtube.com/channel/UCt2wAAXgm87ACiQnDHQEW6Q/about)\\n\\n### [#선형회귀 의 기초인 #최소제곱법 ? 공식 유도를 해보자~!](https://www.youtube.com/watch?v=-oBmMED_5rI&pp=0gcJCbAJAYcqIYzv \\\"#선형회귀 의 기초인 #최소제곱법 ? 공식 유도를 해보자~!\\\")\\n\\n[테디노트 TeddyNote](https://www.youtube.com/@teddynote)\\n\\n 테디노트 TeddyNote \\n\\n16K views 4 years ago\\n\\n[![Image 91](https://www.youtube.com/channel/UCt2wAAXgm87ACiQnDHQEW6Q/about) 12:05 12:05 Now playing](https://www.youtube.com/watch?v=1Q_etC_GHHk)\\n\\n![Image 92](https://www.youtube.com/channel/UCt2wAAXgm87ACiQnDHQEW6Q/about)\\n\\n### [오차역전파 (Backprogation)의 개념을 쉽게 이해해 봅시다](https://www.youtube.com/watch?v=1Q_etC_GHHk \\\"오차역전파 (Backprogation)의 개념을 쉽게 이해해 봅시다\\\")\\n\\n[테디노트 TeddyNote](https://www.youtube.com/@teddynote)\\n\\n 테디노트 TeddyNote \\n\\n43K views 4 years ago\\n\\n[![Image 93](https://www.youtube.com/channel/UCt2wAAXgm87ACiQnDHQEW6Q/about)](https://www.youtube.com/playlist?list=PLIMb_GuNnFwdWabX_4pkti2cYonT-pFrw \\\"캐글 - 영화 리뷰 감정 분석\\\")\\n\\n[캐글 - 영화 리뷰 감정 분석](https://www.youtube.com/playlist?list=PLIMb_GuNnFwdWabX_4pkti2cYonT-pFrw)\\n\\n[Play all](https://www.youtube.com/watch?v=HY493c6n65E&list=PLIMb_GuNnFwdWabX_4pkti2cYonT-pFrw)\\n---------------------------------------------------------------------------------------------------------------------------------------------------------------------------------------------------------------------------------------------------------------------------------------------------------------------------------------------------------------------------\\n\\n[![Image 94](https://www.youtube.com/channel/UCt2wAAXgm87ACiQnDHQEW6Q/about) 2:45 2:45 Now playing](https://www.youtube.com/watch?v=HY493c6n65E)\\n\\n![Image 95](https://www.youtube.com/channel/UCt2wAAXgm87ACiQnDHQEW6Q/about)\\n\\n### [EP.01 [캐글뽀개기] 영화리뷰 감정예측대회를 통한 자연어 처리 (머신러닝 & 딥러닝)](https://www.youtube.com/watch?v=HY493c6n65E \\\"EP.01 [캐글뽀개기] 영화리뷰 감정예측대회를 통한 자연어 처리 (머신러닝 & 딥러닝)\\\")\\n\\n[테디노트 TeddyNote](https://www.youtube.com/@teddynote)\\n\\n 테디노트 TeddyNote \\n\\n2.1K views 4 years ago\\n\\n[![Image 96](https://www.youtube.com/channel/UCt2wAAXgm87ACiQnDHQEW6Q/about) 3:02 3:02 Now playing](https://www.youtube.com/watch?v=Ue9t-LIyzK4)\\n\\n![Image 97](https://www.youtube.com/channel/UCt2wAAXgm87ACiQnDHQEW6Q/about)\\n\\n### [EP.02 [캐글뽀개기] 영화 리뷰 감정분석 - 데이터 불러오기](https://www.youtube.com/watch?v=Ue9t-LIyzK4 \\\"EP.02 [캐글뽀개기] 영화 리뷰 감정분석 - 데이터 불러오기\\\")\\n\\n[테디노트 TeddyNote](https://www.youtube.com/@teddynote)\\n\\n 테디노트 TeddyNote \\n\\n1.5K views 4 years ago\\n\\n[![Image 98](https://www.youtube.com/channel/UCt2wAAXgm87ACiQnDHQEW6Q/about) 7:58 7:58 Now playing](https://www.youtube.com/watch?v=qCmgDVP3Pvk)\\n\\n![Image 99](https://www.youtube.com/channel/UCt2wAAXgm87ACiQnDHQEW6Q/about)\\n\\n### [EP.03 [캐글뽀개기] 문장 전처리, 불용어 제거 (BeautifulSoup, NLTK 패키지 활용)](https://www.youtube.com/watch?v=qCmgDVP3Pvk \\\"EP.03 [캐글뽀개기] 문장 전처리, 불용어 제거 (BeautifulSoup, NLTK 패키지 활용)\\\")\\n\\n[테디노트 TeddyNote](https://www.youtube.com/@teddynote)\\n\\n 테디노트 TeddyNote \\n\\n1.7K views 4 years ago\\n\\n[![Image 100](https://www.youtube.com/channel/UCt2wAAXgm87ACiQnDHQEW6Q/about) 4:36 4:36 Now playing](https://www.youtube.com/watch?v=-sz6jysVTL4)\\n\\n![Image 101](https://www.youtube.com/channel/UCt2wAAXgm87ACiQnDHQEW6Q/about)\\n\\n### [EP.04 [캐글뽀개기] CountVectorizer를 활용한 문장 전처리](https://www.youtube.com/watch?v=-sz6jysVTL4 \\\"EP.04 [캐글뽀개기] CountVectorizer를 활용한 문장 전처리\\\")\\n\\n[테디노트 TeddyNote](https://www.youtube.com/@teddynote)\\n\\n 테디노트 TeddyNote \\n\\n808 views 4 years ago\\n\\n[![Image 102](https://www.youtube.com/channel/UCt2wAAXgm87ACiQnDHQEW6Q/about) 4:01 4:01 Now playing](https://www.youtube.com/watch?v=YsR8QC9Icu4&pp=0gcJCbAJAYcqIYzv)\\n\\n![Image 103](https://www.youtube.com/channel/UCt2wAAXgm87ACiQnDHQEW6Q/about)\\n\\n### [EP.05 [캐글뽀개기] 베이스라인 예측 - RandomForestClassifier](https://www.youtube.com/watch?v=YsR8QC9Icu4&pp=0gcJCbAJAYcqIYzv \\\"EP.05 [캐글뽀개기] 베이스라인 예측 - RandomForestClassifier\\\")\\n\\n[테디노트 TeddyNote](https://www.youtube.com/@teddynote)\\n\\n 테디노트 TeddyNote \\n\\n555 views 4 years ago\\n\\n[![Image 104](https://www.youtube.com/channel/UCt2wAAXgm87ACiQnDHQEW6Q/about) 3:21 3:21 Now playing](https://www.youtube.com/watch?v=LGEPKKFa1lo)\\n\\n![Image 105](https://www.youtube.com/channel/UCt2wAAXgm87ACiQnDHQEW6Q/about)\\n\\n### [EP.06 [캐글뽀개기] 베이스라인 점수를 잡기 위한 첫 제출 (Submission)](https://www.youtube.com/watch?v=LGEPKKFa1lo \\\"EP.06 [캐글뽀개기] 베이스라인 점수를 잡기 위한 첫 제출 (Submission)\\\")\\n\\n[테디노트 TeddyNote](https://www.youtube.com/@teddynote)\\n\\n 테디노트 TeddyNote \\n\\n455 views 4 years ago\\n\\n[![Image 106](https://www.youtube.com/channel/UCt2wAAXgm87ACiQnDHQEW6Q/about)](https://www.youtube.com/playlist?list=PLIMb_GuNnFwegrf_XgIogbsyjQJ1B9M7p \\\"텐서플로우 튜토리얼 (전문가용, Expert)\\\")\\n\\n[텐서플로우 튜토리얼 (전문가용, Expert)](https://www.youtube.com/playlist?list=PLIMb_GuNnFwegrf_XgIogbsyjQJ1B9M7p)\\n\\n[Play all](https://www.youtube.com/watch?v=CmwRFd7ZzA0&list=PLIMb_GuNnFwegrf_XgIogbsyjQJ1B9M7p)\\n----------------------------------------------------------------------------------------------------------------------------------------------------------------------------------------------------------------------------------------------------------------------------------------------------------------------------------------------------------------------------------------------\\n\\n[![Image 107](https://www.youtube.com/channel/UCt2wAAXgm87ACiQnDHQEW6Q/about) 7:17 7:17 Now playing](https://www.youtube.com/watch?v=CmwRFd7ZzA0)\\n\\n![Image 108](https://www.youtube.com/channel/UCt2wAAXgm87ACiQnDHQEW6Q/about)\\n\\n### [EP01. TensorFlow Datasets 활용하여 데이터셋 로드하기 - 텐서플로우 튜토리얼](https://www.youtube.com/watch?v=CmwRFd7ZzA0 \\\"EP01. TensorFlow Datasets 활용하여 데이터셋 로드하기 -  텐서플로우 튜토리얼\\\")\\n\\n[테디노트 TeddyNote](https://www.youtube.com/@teddynote)\\n\\n 테디노트 TeddyNote \\n\\n4.7K views 4 years ago\\n\\n[![Image 109](https://www.youtube.com/channel/UCt2wAAXgm87ACiQnDHQEW6Q/about) 6:46 6:46 Now playing](https://www.youtube.com/watch?v=JSer0RyIPL8)\\n\\n![Image 110](https://www.youtube.com/channel/UCt2wAAXgm87ACiQnDHQEW6Q/about)\\n\\n### [EP02. Sequential 을 사용한 모델링, compile 그리고 fit (학습) - 텐서플로우 튜토리얼](https://www.youtube.com/watch?v=JSer0RyIPL8 \\\"EP02. Sequential 을 사용한 모델링, compile 그리고 fit (학습) - 텐서플로우 튜토리얼\\\")\\n\\n[테디노트 TeddyNote](https://www.youtube.com/@teddynote)\\n\\n 테디노트 TeddyNote \\n\\n1.2K views 4 years ago\\n\\n[![Image 111](https://www.youtube.com/channel/UCt2wAAXgm87ACiQnDHQEW6Q/about) 6:01 6:01 Now playing](https://www.youtube.com/watch?v=x3bvd5rukmA)\\n\\n![Image 112](https://www.youtube.com/channel/UCt2wAAXgm87ACiQnDHQEW6Q/about)\\n\\n### [EP03. Functional API - 텐서플로우 튜토리얼](https://www.youtube.com/watch?v=x3bvd5rukmA \\\"EP03. Functional API - 텐서플로우 튜토리얼\\\")\\n\\n[테디노트 TeddyNote](https://www.youtube.com/@teddynote)\\n\\n 테디노트 TeddyNote \\n\\n932 views 4 years ago\\n\\n[![Image 113](https://www.youtube.com/channel/UCt2wAAXgm87ACiQnDHQEW6Q/about) 4:52 4:52 Now playing](https://www.youtube.com/watch?v=8W977CTNaEo)\\n\\n![Image 114](https://www.youtube.com/channel/UCt2wAAXgm87ACiQnDHQEW6Q/about)\\n\\n### [EP04. train_on_batch 배치별 학습 - 텐서플로우 튜토리얼](https://www.youtube.com/watch?v=8W977CTNaEo \\\"EP04. train_on_batch 배치별 학습 - 텐서플로우 튜토리얼\\\")\\n\\n[테디노트 TeddyNote](https://www.youtube.com/@teddynote)\\n\\n 테디노트 TeddyNote \\n\\n1.2K views 4 years ago\\n\\n[![Image 115](https://www.youtube.com/channel/UCt2wAAXgm87ACiQnDHQEW6Q/about) 11:29 11:29 Now playing](https://www.youtube.com/watch?v=d1c8OBudjaE)\\n\\n![Image 116](https://www.youtube.com/channel/UCt2wAAXgm87ACiQnDHQEW6Q/about)\\n\\n### [EP05. GradientTape - 텐서플로우 튜토리얼](https://www.youtube.com/watch?v=d1c8OBudjaE \\\"EP05. GradientTape - 텐서플로우 튜토리얼\\\")\\n\\n[테디노트 TeddyNote](https://www.youtube.com/@teddynote)\\n\\n 테디노트 TeddyNote \\n\\n1.2K views 4 years ago\\n\\n[![Image 117](https://www.youtube.com/channel/UCt2wAAXgm87ACiQnDHQEW6Q/about) 6:55 6:55 Now playing](https://www.youtube.com/watch?v=YsnawVEZbdE)\\n\\n![Image 118](https://www.youtube.com/channel/UCt2wAAXgm87ACiQnDHQEW6Q/about)\\n\\n### [EP01. TF 튜토리얼 - Sequential API로 모델링하기 (MNIST 데이터셋)](https://www.youtube.com/watch?v=YsnawVEZbdE \\\"EP01. TF 튜토리얼 - Sequential API로 모델링하기 (MNIST 데이터셋)\\\")\\n\\n[테디노트 TeddyNote](https://www.youtube.com/@teddynote)\\n\\n 테디노트 TeddyNote \\n\\n854 views 4 years ago\\n\\n[![Image 119](https://www.youtube.com/channel/UCt2wAAXgm87ACiQnDHQEW6Q/about)](https://www.youtube.com/playlist?list=PLIMb_GuNnFwdJzX1qGcGDOS85i9iksWhR \\\"텐서플로우 튜토리얼\\\")\\n\\n[텐서플로우 튜토리얼](https://www.youtube.com/playlist?list=PLIMb_GuNnFwdJzX1qGcGDOS85i9iksWhR)\\n\\n[Play all](https://www.youtube.com/watch?v=J1gXBkBfnlc&list=PLIMb_GuNnFwdJzX1qGcGDOS85i9iksWhR)\\n----------------------------------------------------------------------------------------------------------------------------------------------------------------------------------------------------------------------------------------------------------------------------------------------------------------------------------------------------------------\\n\\n[![Image 120](https://www.youtube.com/channel/UCt2wAAXgm87ACiQnDHQEW6Q/about) 21:18 21:18 Now playing](https://www.youtube.com/watch?v=J1gXBkBfnlc)\\n\\n![Image 121](https://www.youtube.com/channel/UCt2wAAXgm87ACiQnDHQEW6Q/about)\\n\\n### [[텐서플로우 RNN 튜토리얼] 셰익스피어가 되어 보자](https://www.youtube.com/watch?v=J1gXBkBfnlc \\\"[텐서플로우 RNN 튜토리얼] 셰익스피어가 되어 보자\\\")\\n\\n[테디노트 TeddyNote](https://www.youtube.com/@teddynote)\\n\\n 테디노트 TeddyNote \\n\\n3.4K views 4 years ago\\n\\n[![Image 122](https://www.youtube.com/channel/UCt2wAAXgm87ACiQnDHQEW6Q/about) 24:30 24:30 Now playing](https://www.youtube.com/watch?v=b74Y7mpb98o)\\n\\n![Image 123](https://www.youtube.com/channel/UCt2wAAXgm87ACiQnDHQEW6Q/about)\\n\\n### [텐서플로우 데이터세트(tensorflow-datasets) 활용법입니다.](https://www.youtube.com/watch?v=b74Y7mpb98o \\\"텐서플로우 데이터세트(tensorflow-datasets) 활용법입니다.\\\")\\n\\n[테디노트 TeddyNote](https://www.youtube.com/@teddynote)\\n\\n 테디노트 TeddyNote \\n\\n3.7K views 5 years ago\\n\\n[![Image 124](https://www.youtube.com/channel/UCt2wAAXgm87ACiQnDHQEW6Q/about) 3:46 3:46 Now playing](https://www.youtube.com/watch?v=z8hUw11nW9U)\\n\\n![Image 125](https://www.youtube.com/channel/UCt2wAAXgm87ACiQnDHQEW6Q/about)\\n\\n### [EP. 00 - #텐서플로우 2.0 튜토리얼 뽀개기를 시작합니다](https://www.youtube.com/watch?v=z8hUw11nW9U \\\"EP. 00 -  #텐서플로우 2.0 튜토리얼 뽀개기를 시작합니다\\\")\\n\\n[테디노트 TeddyNote](https://www.youtube.com/@teddynote)\\n\\n 테디노트 TeddyNote \\n\\n2.8K views 4 years ago\\n\\n[![Image 126](https://www.youtube.com/channel/UCt2wAAXgm87ACiQnDHQEW6Q/about) 10:51 10:51 Now playing](https://www.youtube.com/watch?v=MmebOG9g548)\\n\\n![Image 127](https://www.youtube.com/channel/UCt2wAAXgm87ACiQnDHQEW6Q/about)\\n\\n### [코랩(colab)에서 텐서보드 로드하기](https://www.youtube.com/watch?v=MmebOG9g548 \\\"코랩(colab)에서 텐서보드 로드하기\\\")\\n\\n[테디노트 TeddyNote](https://www.youtube.com/@teddynote)\\n\\n 테디노트 TeddyNote \\n\\n4.1K views 5 years ago\\n\\n[![Image 128](https://www.youtube.com/channel/UCt2wAAXgm87ACiQnDHQEW6Q/about) 2:35 2:35 Now playing](https://www.youtube.com/watch?v=vRu77RmGD-M)\\n\\n![Image 129](https://www.youtube.com/channel/UCt2wAAXgm87ACiQnDHQEW6Q/about)\\n\\n### [구글 코랩 (Google Colab) 설치와 GPU 사용](https://www.youtube.com/watch?v=vRu77RmGD-M \\\"구글 코랩 (Google Colab) 설치와 GPU 사용\\\")\\n\\n[테디노트 TeddyNote](https://www.youtube.com/@teddynote)\\n\\n 테디노트 TeddyNote \\n\\n11K views 5 years ago\\n\\n[![Image 130](https://www.youtube.com/channel/UCt2wAAXgm87ACiQnDHQEW6Q/about) 11:48 11:48 Now playing](https://www.youtube.com/watch?v=nQu9yycRaMI)\\n\\n![Image 131](https://www.youtube.com/channel/UCt2wAAXgm87ACiQnDHQEW6Q/about)\\n\\n### [구글 코랩 (Google Colab) 튜토리얼 강의와 꿀팁](https://www.youtube.com/watch?v=nQu9yycRaMI \\\"구글 코랩 (Google Colab) 튜토리얼 강의와 꿀팁\\\")\\n\\n[테디노트 TeddyNote](https://www.youtube.com/@teddynote)\\n\\n 테디노트 TeddyNote \\n\\n26K views 5 years ago\\n\\n[![Image 132](https://www.youtube.com/channel/UCt2wAAXgm87ACiQnDHQEW6Q/about)](https://www.youtube.com/playlist?list=PLIMb_GuNnFwcqNugtpS4VmVARyI-ollqm \\\"텐서플로우 자격증\\\")\\n\\n[텐서플로우 자격증](https://www.youtube.com/playlist?list=PLIMb_GuNnFwcqNugtpS4VmVARyI-ollqm)\\n\\n[Play all](https://www.youtube.com/watch?v=2QCxK4OEiKc&list=PLIMb_GuNnFwcqNugtpS4VmVARyI-ollqm)\\n--------------------------------------------------------------------------------------------------------------------------------------------------------------------------------------------------------------------------------------------------------------------------------------------------------------------------------------------------------------\\n\\n[![Image 133](https://www.youtube.com/channel/UCt2wAAXgm87ACiQnDHQEW6Q/about) 18:54 18:54 Now playing](https://www.youtube.com/watch?v=2QCxK4OEiKc)\\n\\n![Image 134](https://www.youtube.com/channel/UCt2wAAXgm87ACiQnDHQEW6Q/about)\\n\\n### [#텐서플로우 개발자 #자격증 정보 & 시험을 위한 환경 설치](https://www.youtube.com/watch?v=2QCxK4OEiKc \\\"#텐서플로우 개발자 #자격증 정보  & 시험을 위한 환경 설치\\\")\\n\\n[테디노트 TeddyNote](https://www.youtube.com/@teddynote)\\n\\n 테디노트 TeddyNote \\n\\n9.1K views 4 years ago\\n\\n[![Image 135](https://www.youtube.com/channel/UCt2wAAXgm87ACiQnDHQEW6Q/about) 24:30 24:30 Now playing](https://www.youtube.com/watch?v=b74Y7mpb98o)\\n\\n![Image 136](https://www.youtube.com/channel/UCt2wAAXgm87ACiQnDHQEW6Q/about)\\n\\n### [텐서플로우 데이터세트(tensorflow-datasets) 활용법입니다.](https://www.youtube.com/watch?v=b74Y7mpb98o \\\"텐서플로우 데이터세트(tensorflow-datasets) 활용법입니다.\\\")\\n\\n[테디노트 TeddyNote](https://www.youtube.com/@teddynote)\\n\\n 테디노트 TeddyNote \\n\\n3.7K views 5 years ago\\n\\n[![Image 137](https://www.youtube.com/channel/UCt2wAAXgm87ACiQnDHQEW6Q/about) 12:22 12:22 Now playing](https://www.youtube.com/watch?v=Dg-7ZUmWulo)\\n\\n![Image 138](https://www.youtube.com/channel/UCt2wAAXgm87ACiQnDHQEW6Q/about)\\n\\n### [[텐서플로우 자격증 단기 취득 과정] 스터디 전 준비사항](https://www.youtube.com/watch?v=Dg-7ZUmWulo \\\"[텐서플로우 자격증 단기 취득 과정] 스터디 전 준비사항\\\")\\n\\n[테디노트 TeddyNote](https://www.youtube.com/@teddynote)\\n\\n 테디노트 TeddyNote \\n\\n3.3K views 5 years ago\\n\\n[![Image 139](https://www.youtube.com/channel/UCt2wAAXgm87ACiQnDHQEW6Q/about) 2:02 2:02 Now playing](https://www.youtube.com/watch?v=cerYryET6YM)\\n\\n![Image 140](https://www.youtube.com/channel/UCt2wAAXgm87ACiQnDHQEW6Q/about)\\n\\n### [딥러닝 기초 용어 정리 (Epoch, Loss, Accuracy)](https://www.youtube.com/watch?v=cerYryET6YM \\\"딥러닝 기초 용어 정리 (Epoch, Loss, Accuracy)\\\")\\n\\n[테디노트 TeddyNote](https://www.youtube.com/@teddynote)\\n\\n 테디노트 TeddyNote \\n\\n2.8K views 4 years ago\\n\\n[![Image 141](https://www.youtube.com/channel/UCt2wAAXgm87ACiQnDHQEW6Q/about) 10:04 10:04 Now playing](https://www.youtube.com/watch?v=Sotje18bINY)\\n\\n![Image 142](https://www.youtube.com/channel/UCt2wAAXgm87ACiQnDHQEW6Q/about)\\n\\n### [[2023년 업데이트] 구글 텐서플로 자격 인증 시험을 위한 파이참, 가상환경, 플러그인 설정 방법](https://www.youtube.com/watch?v=Sotje18bINY \\\"[2023년 업데이트] 구글 텐서플로 자격 인증 시험을 위한 파이참, 가상환경, 플러그인 설정 방법\\\")\\n\\n[테디노트 TeddyNote](https://www.youtube.com/@teddynote)\\n\\n 테디노트 TeddyNote \\n\\n1.8K views 2 years ago\\n\\nShorts\\n------\\n\\n[![Image 143](https://www.youtube.com/channel/UCt2wAAXgm87ACiQnDHQEW6Q/about)](https://www.youtube.com/shorts/OYVNKHUsSIc)\\n\\n### [추론하는 과정을 보여주는게 좋은 이유 #테디노트라이브 #추론](https://www.youtube.com/shorts/OYVNKHUsSIc \\\"추론하는 과정을 보여주는게 좋은 이유 #테디노트라이브 #추론\\\")\\n\\n4.8K views\\n\\n[![Image 144](https://www.youtube.com/channel/UCt2wAAXgm87ACiQnDHQEW6Q/about)](https://www.youtube.com/shorts/7FDrJkPvHyw)\\n\\n### [답변 시간이 길어도 괜찮아?! #테디노트라이브 #추론모델 #LLM](https://www.youtube.com/shorts/7FDrJkPvHyw \\\"답변 시간이 길어도 괜찮아?! #테디노트라이브 #추론모델 #LLM\\\")\\n\\n1.6K views\\n\\n[![Image 145](https://www.youtube.com/channel/UCt2wAAXgm87ACiQnDHQEW6Q/about)](https://www.youtube.com/shorts/NIyrjrXrUak)\\n\\n### [EP02. #카톡봇 과 todoist 할일 관리 연동 완료😍](https://www.youtube.com/shorts/NIyrjrXrUak \\\"EP02. #카톡봇 과 todoist 할일 관리 연동 완료😍\\\")\\n\\n1.3K views\\n\\n[![Image 146](https://www.youtube.com/channel/UCt2wAAXgm87ACiQnDHQEW6Q/about)](https://www.youtube.com/shorts/LEzPmL4nOZM)\\n\\n### [내년초 개인화된 카톡봇 구축을 위한 테스트를 진행하고 있어요. 카톡+langgraph 기반 에이전트!](https://www.youtube.com/shorts/LEzPmL4nOZM \\\"내년초 개인화된 카톡봇 구축을 위한 테스트를 진행하고 있어요. 카톡+langgraph 기반 에이전트!\\\")\\n\\n1.4K views\\n\\n[![Image 147](https://www.youtube.com/channel/UCt2wAAXgm87ACiQnDHQEW6Q/about)](https://www.youtube.com/shorts/D_tdpV6dCFs)\\n\\n### [[11월 주주총회] #LangGraph 로 #멀티턴 대화 구현이 정말 쉬운 이유!!!](https://www.youtube.com/shorts/D_tdpV6dCFs \\\"[11월 주주총회] #LangGraph 로 #멀티턴 대화 구현이 정말 쉬운 이유!!!\\\")\\n\\n3.6K views\\n\\n[![Image 148](https://www.youtube.com/channel/UCt2wAAXgm87ACiQnDHQEW6Q/about)](https://www.youtube.com/shorts/VFMY3Tu46v4)\\n\\n### [결국 Modular...RAG?!!](https://www.youtube.com/shorts/VFMY3Tu46v4 \\\"결국 Modular...RAG?!!\\\")\\n\\n4.5K views\\n\\nSearch\\n\\nInfo\\n\\nShopping\\n\\nTap to unmute\\n\\n2x\\n\\n![Image 149](https://www.youtube.com/channel/UCt2wAAXgm87ACiQnDHQEW6Q/about)\\n\\nYou're signed out\\n\\nVideos you watch may be added to the TV's watch history and influence TV recommendations. To avoid this, cancel and sign in to YouTube on your computer.\\n\\nCancel Confirm\\n\\nIf playback doesn't begin shortly, try restarting your device.\\n\\n![Image 150](https://www.youtube.com/channel/UCt2wAAXgm87ACiQnDHQEW6Q/about)\\n\\n•\\n\\nShare\\n\\n- [x] Include playlist \\n\\nAn error occurred while retrieving sharing information. Please try again later.\\n\\nWatch later\\n\\nShare\\n\\nCopy link\\n\\n![Image 151](https://www.youtube.com/channel/UCt2wAAXgm87ACiQnDHQEW6Q/about)\\n\\n0:00\\n\\n / \\n\\n•Watch full video Live\\n\\n•\\n\\n•\\n\\nScroll for details\\n\\n![Image 152](https://www.youtube.com/channel/UCt2wAAXgm87ACiQnDHQEW6Q/about)\\n\\n…\\n\\nNaN / NaN\\n\\n![Image 153](https://www.youtube.com/channel/UCt2wAAXgm87ACiQnDHQEW6Q/about)\\n\\n테디노트 TeddyNote\\n--------------\\n\\nDescription 데이터 분석, 머신러닝, 딥러닝, LLM 에 대한 내용을 다룹니다. 연구보다는 개발에 관심이 많습니다 🙇‍♂️ 🔥 \\\"테디노트의 RAG 비법노트\\\" 랭체인 강의: https://fastcampus.co.kr/data_online_teddy 💻 GitHub: https://github.com/teddylee777 📝 블로그: https://teddylee777.github.io 🤖 머신러닝 혼자 배우기 코드저장소: https://github.com/teddylee777/machine-learning 📘 랭체인 한국어 튜토리얼: https://wikidocs.net/book/14314 🧑‍💻 랭체인 튜토리얼 코드저장소: https://github.com/teddylee777/langchain-kr 💌 비즈니스 제안: teddylee777@gmail.com \\n\\nLinks\\n\\n![Image 154](https://encrypted-tbn3.gstatic.com/favicon-tbn?q=tbn:ANd9GcQGsrBRLZUk_2mxvn4Hj6fjE4kJoYBL9BrrfGgI6CC2pRy_8wr4HyEofufnmZBFB35FyeKG0qP_7NC1lfvyQUwSmblNnJiwbd_rJ5B7RRZvRvoq3adJ)\\n\\nRAG 강의[fastcampus.co.kr/data_online_teddy](https://www.youtube.com/redirect?event=channel_description&redir_token=QUFFLUhqbU9yUXhxNzNxYTM1XzJJNnptX3pYN0UwYV9Jd3xBQ3Jtc0trYTBaT0M5SU5IdE9PWnBlZ2laY2RGWXdraWZLdjl6d0ZiSm1fbGNJcXFXY1JlQVZ5Q2JmejZfRk9mS0VHUDl6VmMyQTQ5dUR5N0lYUXMxVjBxSWlMOGJxdWVfbnNxYlRMaWl3c2JDeG54dENKZ0w2TQ&q=https%3A%2F%2Ffastcampus.co.kr%2Fdata_online_teddy)\\n\\n![Image 155](https://encrypted-tbn0.gstatic.com/favicon-tbn?q=tbn:ANd9GcSyg26U77R71LTV6nYnDKj15ktrNTtdLHqgFyoKtCzgrDMAAbtLQpJOi6ryD9SQ2dDQD5mKBgcShzlMiU_VwOBsKwNv-C9jnAHvOG06jlgPPaaC30B1Ee6F0j4)\\n\\n블로그[teddylee777.github.io](https://www.youtube.com/redirect?event=channel_description&redir_token=QUFFLUhqblUxZkVPa05UM3dWdEd0V2dDcDA0R2p3YlFZUXxBQ3Jtc0tuTFZnOU4zbUtvb0VieE9ieEFNLWFWOG5WbXlTdTNuZzA3eE5VNHNYV1Y0X1h5WllFQjRRZXJUT19QczlwZjdOR3Y2SndrU0h1aHVvQ05vTUVrcTRJb2IwcW5CWjl4dVI1YVIyUEpoY3hqUm52SFg0aw&q=https%3A%2F%2Fteddylee777.github.io)\\n\\n![Image 156](https://encrypted-tbn1.gstatic.com/favicon-tbn?q=tbn:ANd9GcQ_IecEVGYH3bMl1hWp2jKGnd4uAlq1xAdFOXOwqAZkJgVQ3WznHX2PbkOIOFxj7wdSTolkC6mYk9YwhMgpjOF2RFLrgU1sSE-rm_sdRjty)\\n\\nGitHub[github.com/teddylee777](https://www.youtube.com/redirect?event=channel_description&redir_token=QUFFLUhqbGVWdER6SmhPTnZmNVJFZUlSaWpma1EydXJlUXxBQ3Jtc0tua2V6QjJIUGJjeXB2VTFveGFNR0pxYmcwaU9sVzBXMk1vc09ibVF3VURtbUYtc3lvcmRlQjdBeDhSeVhuMUJjTm5GQnJRTEFZZXk3UnhZYXUtSmpHRS1fekE0V0RKczRNRGNTMHZ0c2lsbHJEUzloWQ&q=https%3A%2F%2Fgithub.com%2Fteddylee777%2F)\\n\\nLinks\\n\\nMore info\\n[Sign in](https://accounts.google.com/ServiceLogin?service=youtube&uilel=3&passive=true&continue=https%3A%2F%2Fwww.youtube.com%2Fsignin%3Faction_handle_signin%3Dtrue%26app%3Ddesktop%26hl%3Den%26next%3D%252F%2540teddynote&hl=en) to see email address\\n\\n[www.youtube.com/@teddynote](http://www.youtube.com/@teddynote)\\nSouth Korea\\nJoined Apr 20, 2020\\n42.9K subscribers\\n258 videos\\n2,007,094 views\\n\\nShare channel\\n\"}]\"\n",
      "    \u001b[93madditional_kwargs\u001b[0m: {}\n",
      "    \u001b[93mresponse_metadata\u001b[0m: {}\n",
      "    \u001b[93mtype\u001b[0m: \"tool\"\n",
      "    \u001b[93mname\u001b[0m: \"tavily_web_search\"\n",
      "    \u001b[93mid\u001b[0m: \"d5451cdf-fb1f-41af-b093-c378b3d989d5\"\n",
      "    \u001b[93mtool_call_id\u001b[0m: \"call_0gQV5SGuLl0UOOMbjJtrAiyb\"\n",
      "    \u001b[93martifact\u001b[0m: None\n",
      "    \u001b[93mstatus\u001b[0m: \"success\"\n",
      "\n",
      "==============\n",
      "STEP: chatbot\n",
      "==============\n",
      "\n",
      "    \u001b[93mcontent\u001b[0m: \"테디노트(TeddyNote) 유튜브 채널은 데이터 분석, 머신러닝, 딥러닝, LLM(대형 언어 모델) 등 인공지능 개발과 관련된 다양한 주제를 다루는 채널입니다. 연구보다는 개발에 실전적으로 도움이 되는 지식을 추구하며, 입문자와 개발자 모두에게 인기가 많습니다.\n",
      "\n",
      "- 채널명: 테디노트 TeddyNote\n",
      "- 채널 링크: https://www.youtube.com/@teddynote\n",
      "- 구독자: 약 4.3만 명 (2024년 6월 기준)\n",
      "- 주요 콘텐츠:\n",
      "  - 데이터 분석, 머신러닝, 딥러닝의 실전 예제와 원리\n",
      "  - 랭체인(LangChain), RAG(Retrieval-Augmented Generation), 텐서플로우 등 AI 개발 관련 강좌\n",
      "  - 실제 개발을 위한 코드, 실습 중심의 설명\n",
      "  - Fastcampus와 협업한 RAG 비법노트 강의, 무료 전자책 안내 등\n",
      "- 각종 자료: \n",
      "  - [GitHub](https://github.com/teddylee777)\n",
      "  - [블로그](https://teddylee777.github.io)\n",
      "  - [랭체인 한국어 튜토리얼(위키독스)](https://wikidocs.net/book/14314)\n",
      "- 연락처: teddylee777@gmail.com\n",
      "\n",
      "최근 인기 영상/강의\n",
      "- 에이전트 시스템, MCP, LangGraph, 문서 파서 비교, Agentic AI 시스템 구축 등 최신 트렌드도 많이 다룹니다.\n",
      "\n",
      "채널 바로가기: [테디노트 YouTube](https://www.youtube.com/@teddynote)\n",
      "\n",
      "더 궁금한 점이나 특정한 강의/주제가 필요하면 말씀해 주세요!\"\n",
      "    \u001b[93madditional_kwargs\u001b[0m: {\"refusal\": None}\n",
      "    \u001b[93mresponse_metadata\u001b[0m:\n",
      "        \u001b[94mtoken_usage\u001b[0m:\n",
      "            \u001b[95mcompletion_tokens\u001b[0m: 395\n",
      "            \u001b[95mprompt_tokens\u001b[0m: 20230\n",
      "            \u001b[95mtotal_tokens\u001b[0m: 20625\n",
      "            \u001b[95mcompletion_tokens_details\u001b[0m: {\"accepted_prediction_tokens\": 0, \"audio_tokens\": 0, \"reasoning_tokens\": 0, \"rejected_prediction_tokens\": 0}\n",
      "            \u001b[95mprompt_tokens_details\u001b[0m: {\"audio_tokens\": 0, \"cached_tokens\": 0}\n",
      "        \u001b[94mmodel_name\u001b[0m: \"gpt-4.1-2025-04-14\"\n",
      "        \u001b[94msystem_fingerprint\u001b[0m: \"fp_daf5fcc80a\"\n",
      "        \u001b[94mid\u001b[0m: \"chatcmpl-C8yZlGsv2wyEwGlRzalkOokhSzFlJ\"\n",
      "        \u001b[94mservice_tier\u001b[0m: \"default\"\n",
      "        \u001b[94mfinish_reason\u001b[0m: \"stop\"\n",
      "        \u001b[94mlogprobs\u001b[0m: None\n",
      "    \u001b[93mtype\u001b[0m: \"ai\"\n",
      "    \u001b[93mname\u001b[0m: None\n",
      "    \u001b[93mid\u001b[0m: \"run--deb6113d-f290-4cac-a35d-e902611de436-0\"\n",
      "    \u001b[93mexample\u001b[0m: False\n",
      "    \u001b[93mtool_calls\u001b[0m:\n",
      "    \u001b[93minvalid_tool_calls\u001b[0m:\n",
      "    \u001b[93musage_metadata\u001b[0m:\n",
      "        \u001b[94minput_tokens\u001b[0m: 20230\n",
      "        \u001b[94moutput_tokens\u001b[0m: 395\n",
      "        \u001b[94mtotal_tokens\u001b[0m: 20625\n",
      "        \u001b[94minput_token_details\u001b[0m: {\"audio\": 0, \"cache_read\": 0}\n",
      "        \u001b[94moutput_token_details\u001b[0m: {\"audio\": 0, \"reasoning\": 0}\n"
     ]
    }
   ],
   "source": [
    "from langchain_teddynote.messages import display_message_tree\n",
    "\n",
    "question = \"테디노트 YouTube\"\n",
    "\n",
    "for event in graph.stream({\"messages\": [(\"user\", question)]}):\n",
    "    for key, value in event.items():\n",
    "        print(f\"\\n==============\\nSTEP: {key}\\n==============\\n\")\n",
    "        display_message_tree(value[\"messages\"][-1])\n"
   ]
  },
  {
   "cell_type": "markdown",
   "metadata": {},
   "source": [
    "04. Agent 에 메모리(memory) 추가"
   ]
  },
  {
   "cell_type": "code",
   "execution_count": 26,
   "metadata": {},
   "outputs": [],
   "source": [
    "from langgraph.checkpoint.memory import MemorySaver\n",
    "\n",
    "# 메모리 저장소 생성\n",
    "memory = MemorySaver()\n"
   ]
  },
  {
   "cell_type": "code",
   "execution_count": 127,
   "metadata": {},
   "outputs": [
    {
     "data": {
      "text/plain": [
       "<langgraph.graph.state.StateGraph at 0x10d206860>"
      ]
     },
     "execution_count": 127,
     "metadata": {},
     "output_type": "execute_result"
    }
   ],
   "source": [
    "from typing import Annotated\n",
    "from typing_extensions import TypedDict\n",
    "from langchain_openai import ChatOpenAI\n",
    "from langchain_teddynote.tools.tavily import TavilySearch\n",
    "from langgraph.graph import StateGraph, START, END\n",
    "from langgraph.graph.message import add_messages\n",
    "from langgraph.prebuilt import ToolNode, tools_condition\n",
    "\n",
    "\n",
    "########## 1. 상태 정의 ##########\n",
    "# 상태 정의\n",
    "class State(TypedDict):\n",
    "    # 메시지 목록 주석 추가\n",
    "    messages: Annotated[list, add_messages]\n",
    "    dummy_data: str\n",
    "\n",
    "\n",
    "########## 2. 도구 정의 및 바인딩 ##########\n",
    "# 도구 초기화\n",
    "tool = TavilySearch(max_results=3)\n",
    "tools = [tool]\n",
    "\n",
    "# LLM 초기화\n",
    "llm = ChatOpenAI(model=\"gpt-4.1\")\n",
    "\n",
    "# 도구와 LLM 결합\n",
    "llm_with_tools = llm.bind_tools(tools)\n",
    "\n",
    "\n",
    "########## 3. 노드 추가 ##########\n",
    "# 챗봇 함수 정의\n",
    "def chatbot(state: State):\n",
    "    # 메시지 호출 및 반환\n",
    "    return {\"messages\": [llm_with_tools.invoke(state[\"messages\"])]}\n",
    "\n",
    "\n",
    "# 상태 그래프 생성\n",
    "graph_builder = StateGraph(State)\n",
    "\n",
    "# 챗봇 노드 추가\n",
    "graph_builder.add_node(\"chatbot\", chatbot)\n",
    "\n",
    "# 도구 노드 생성 및 추가\n",
    "tool_node = ToolNode(tools=[tool])\n",
    "\n",
    "# 도구 노드 추가\n",
    "graph_builder.add_node(\"tools\", tool_node)\n",
    "\n",
    "# 조건부 엣지\n",
    "graph_builder.add_conditional_edges(\n",
    "    \"chatbot\",\n",
    "    tools_condition,\n",
    ")\n",
    "\n",
    "########## 4. 엣지 추가 ##########\n",
    "\n",
    "# tools > chatbot\n",
    "graph_builder.add_edge(\"tools\", \"chatbot\")\n",
    "\n",
    "# START > chatbot\n",
    "graph_builder.add_edge(START, \"chatbot\")\n",
    "\n",
    "# chatbot > END\n",
    "graph_builder.add_edge(\"chatbot\", END)\n"
   ]
  },
  {
   "cell_type": "code",
   "execution_count": 128,
   "metadata": {},
   "outputs": [],
   "source": [
    "# 그래프 빌더 컴파일\n",
    "graph = graph_builder.compile(checkpointer=memory)\n"
   ]
  },
  {
   "cell_type": "code",
   "execution_count": 106,
   "metadata": {},
   "outputs": [
    {
     "data": {
      "image/png": "[encoded data removed]",
      "text/plain": [
       "<IPython.core.display.Image object>"
      ]
     },
     "metadata": {},
     "output_type": "display_data"
    }
   ],
   "source": [
    "from langchain_teddynote.graphs import visualize_graph\n",
    "\n",
    "# 그래프 시각화\n",
    "visualize_graph(graph)\n"
   ]
  },
  {
   "cell_type": "code",
   "execution_count": 107,
   "metadata": {},
   "outputs": [],
   "source": [
    "from langchain_core.runnables import RunnableConfig\n",
    "\n",
    "config = RunnableConfig(\n",
    "    recursion_limit=10,  # 최대 10개의 노드까지 방문. 그 이상은 RecursionError 발생\n",
    "    configurable={\"thread_id\": \"1\"},  # 스레드 ID 설정\n",
    ")\n"
   ]
  },
  {
   "cell_type": "code",
   "execution_count": 108,
   "metadata": {},
   "outputs": [
    {
     "name": "stdout",
     "output_type": "stream",
     "text": [
      "==================================\u001b[1m Ai Message \u001b[0m==================================\n",
      "\n",
      "Charlie님, 만나서 반갑습니다!  \n",
      "생성AI 4기 교육생이시군요. 앞으로 AI와 관련된 궁금한 점이나 도움이 필요하실 때 언제든 편하게 말씀해 주세요.  \n",
      "함께 성장하는 시간 되었으면 좋겠습니다. 😊  \n",
      "특별히 관심 있는 AI 분야나 배우고 싶은 내용이 있으신가요?\n"
     ]
    }
   ],
   "source": [
    "# 첫 질문\n",
    "question = (\n",
    "    \"내 이름은 `Charlie` 입니다. 생성AI 4기 교육생입니다. 만나서 반가워요\"\n",
    ")\n",
    "\n",
    "for event in graph.stream({\"messages\": [(\"user\", question)]}, config=config):\n",
    "    for value in event.values():\n",
    "        value[\"messages\"][-1].pretty_print()\n"
   ]
  },
  {
   "cell_type": "code",
   "execution_count": 109,
   "metadata": {},
   "outputs": [
    {
     "name": "stdout",
     "output_type": "stream",
     "text": [
      "==================================\u001b[1m Ai Message \u001b[0m==================================\n",
      "\n",
      "당신의 이름은 \"Charlie\"입니다!  \n",
      "필요할 때 언제든 다시 불러드릴 수 있어요. 혹시 개인화된 정보로 도와드릴 부분이 있으면 말씀해 주세요. 😊\n"
     ]
    }
   ],
   "source": [
    "# 이어지는 질문\n",
    "question = \"내 이름이 뭐라고 했지?\"\n",
    "\n",
    "for event in graph.stream({\"messages\": [(\"user\", question)]}, config=config):\n",
    "    for value in event.values():\n",
    "        value[\"messages\"][-1].pretty_print()\n"
   ]
  },
  {
   "cell_type": "code",
   "execution_count": 110,
   "metadata": {},
   "outputs": [
    {
     "name": "stdout",
     "output_type": "stream",
     "text": [
      "==================================\u001b[1m Ai Message \u001b[0m==================================\n",
      "\n",
      "아직 당신의 이름을 듣지 못했어요. 이름을 알려주시면 기억할 수 있어요!\n"
     ]
    }
   ],
   "source": [
    "from langchain_core.runnables import RunnableConfig\n",
    "\n",
    "question = \"내 이름이 뭐라고 했지?\"\n",
    "\n",
    "config = RunnableConfig(\n",
    "    recursion_limit=10,  # 최대 10개의 노드까지 방문. 그 이상은 RecursionError 발생\n",
    "    configurable={\"thread_id\": \"2\"},  # 스레드 ID 설정\n",
    ")\n",
    "\n",
    "for event in graph.stream({\"messages\": [(\"user\", question)]}, config=config):\n",
    "    for value in event.values():\n",
    "        value[\"messages\"][-1].pretty_print()\n"
   ]
  },
  {
   "cell_type": "code",
   "execution_count": 111,
   "metadata": {},
   "outputs": [
    {
     "data": {
      "text/plain": [
       "[HumanMessage(content='AI 관련 최신 뉴스를 알려주세요.', additional_kwargs={}, response_metadata={}, id='6f821438-0e46-4649-b195-9928f516381e'),\n",
       " AIMessage(content='', additional_kwargs={'tool_calls': [{'id': 'call_7gLTs7Z1AL3vYzQszReMFH9D', 'function': {'arguments': '{\"query\":\"AI 최신 뉴스\"}', 'name': 'search_keyword'}, 'type': 'function'}], 'refusal': None}, response_metadata={'token_usage': {'completion_tokens': 16, 'prompt_tokens': 51, 'total_tokens': 67, 'completion_tokens_details': {'accepted_prediction_tokens': 0, 'audio_tokens': 0, 'reasoning_tokens': 0, 'rejected_prediction_tokens': 0}, 'prompt_tokens_details': {'audio_tokens': 0, 'cached_tokens': 0}}, 'model_name': 'gpt-4.1-2025-04-14', 'system_fingerprint': 'fp_daf5fcc80a', 'id': 'chatcmpl-C8yvxrPD5SqmI67aPfG3Arr60SnJf', 'service_tier': 'default', 'finish_reason': 'tool_calls', 'logprobs': None}, id='run--781d8504-9739-47cd-9ff2-a9c3ba57fc9c-0', tool_calls=[{'name': 'search_keyword', 'args': {'query': 'AI 최신 뉴스'}, 'id': 'call_7gLTs7Z1AL3vYzQszReMFH9D', 'type': 'tool_call'}], usage_metadata={'input_tokens': 51, 'output_tokens': 16, 'total_tokens': 67, 'input_token_details': {'audio': 0, 'cache_read': 0}, 'output_token_details': {'audio': 0, 'reasoning': 0}}),\n",
       " ToolMessage(content='[{\"url\": \"https://news.google.com/rss/articles/CBMiakFVX3lxTE9xNUotVlNTTEQzTnZDMVEwOUdNVTVjQlZVLVdLcFNWd1NuNXJ2a0NsNnFfUDNmTzg2bzQzbTNSRlRNTUc2UU12T2F0c28xaE02Sk5tUWlHZkxXemdGVDlNUnFiQVdkY2xkZ3c?oc=5\", \"content\": \"[8월26일] \\\\\"AI 챗봇의 \\'의인화\\' 없애지 않으면 큰 문제 생길 것\\\\\" - AI타임스\"}, {\"url\": \"https://news.google.com/rss/articles/CBMiSEFVX3lxTE9ZR3pkUS1CRW95Ykh2ejVQYWo3RHFpU185d09XcmF1OG1VbEdUSE5fLURPSkhLNGtpSzI2M1pRMnVCSURUcFZOSw?oc=5\", \"content\": \"독자 AI 파운데이션 모델, 대한민국 AI의 새로운 출발선에서 - SK텔레콤 뉴스룸\"}, {\"url\": \"https://news.google.com/rss/articles/CBMiU0FVX3lxTE1NZFUyRnI0MmVrb0Z2ZWZMLUNpR2pKM3RvRG1nNUJkbmFKQmRsTGlocElKeU8wUlR1VzNrVlBZMzVuMGJ0b2p1dlE3cnN6bDJZQ3J3?oc=5\", \"content\": \"\\'폭탄 제조·머스크 암살\\'에 진지한 답변…AI 그록, 수십만건 대화기록 유출 파장 - 네이트\"}, {\"url\": \"https://news.google.com/rss/articles/CBMiakFVX3lxTE9IS09QWmk1MTZPTk1EcXZzMksxMmxfY3dUbXFRUFMtaEl0ZV92UWt0bjZxemNtdUxIQ0ZLWGo3RGoyNXFFajZrY0VXMDdmNTEwQkE0R3ljVnhMQkVZb3FzSzcwVkhYbm5SYUE?oc=5\", \"content\": \"[AI 구기자] AI 기본법 하위법령 이달 말 공개… “모호한 규정 해소가 관건” - newstheai.com\"}, {\"url\": \"https://news.google.com/rss/articles/CBMiVkFVX3lxTE8wdEdXTnY3OWFBM1c5V19BM0pZZXNremdnWFNHQ1JsRS1MMUQxc0Jhdmx2d0xaY2UtWnpMSlhPTjhYeEk1Wk1JSFZ1dDVmbzhQUm4zRXFB?oc=5\", \"content\": \"[교육이 미래다] ‘화학 반응 예측 AI 모델’ 네이처에 실려 - 중앙일보\"}]', name='search_keyword', id='427e4543-84e8-4ab5-9ef1-d293ed3c9199', tool_call_id='call_7gLTs7Z1AL3vYzQszReMFH9D'),\n",
       " AIMessage(content='다음은 최근 AI 관련 주요 뉴스입니다:\\n\\n1. \"AI 챗봇의 \\'의인화\\' 없애지 않으면 큰 문제 생길 것\" (AI타임스, 8월 26일)  \\n→ AI 챗봇을 사람처럼 의인화하는 데서 발생할 수 있는 문제점에 대한 경고입니다.  \\n(기사 보기)\\n\\n2. \"독자 AI 파운데이션 모델, 대한민국 AI의 새로운 출발선에서\" (SK텔레콤 뉴스룸)  \\n→ 자체 개발한 AI 파운데이션 모델이 국내 AI 생태계에 미치는 영향에 대한 소식입니다.  \\n(기사 보기)\\n\\n3. \"\\'폭탄 제조·머스크 암살\\'에 진지한 답변…AI 그록, 수십만건 대화기록 유출 파장\" (네이트)  \\n→ AI 챗봇 그록(Grok)에서 민감한 내용의 대화기록이 대규모로 유출된 사건에 관한 내용입니다.  \\n(기사 보기)\\n\\n4. \"AI 기본법 하위법령 이달 말 공개… ‘모호한 규정 해소가 관건’\" (newstheai.com)  \\n→ AI 규제와 활용 방안에 관한 법적 기반이 마련되고 있다는 소식입니다.  \\n(기사 보기)\\n\\n5. \"‘화학 반응 예측 AI 모델’ 네이처에 실려\" (중앙일보)  \\n→ 화학 반응을 예측하는 AI 모델이 과학 저널 네이처에 소개된 뉴스입니다.  \\n(기사 보기)\\n\\n각 제목을 클릭(터치)하시면 자세한 기사 내용을 확인하실 수 있습니다. 추가 정보가 필요하시면 말씀해 주세요!', additional_kwargs={'refusal': None}, response_metadata={'token_usage': {'completion_tokens': 371, 'prompt_tokens': 763, 'total_tokens': 1134, 'completion_tokens_details': {'accepted_prediction_tokens': 0, 'audio_tokens': 0, 'reasoning_tokens': 0, 'rejected_prediction_tokens': 0}, 'prompt_tokens_details': {'audio_tokens': 0, 'cached_tokens': 0}}, 'model_name': 'gpt-4.1-2025-04-14', 'system_fingerprint': 'fp_daf5fcc80a', 'id': 'chatcmpl-C8yxu9h1eFt3xcPeZZh5b9utrki0w', 'service_tier': 'default', 'finish_reason': 'stop', 'logprobs': None}, id='run--a70fba16-6623-4f3d-a23f-9d70ff63c394-0', usage_metadata={'input_tokens': 763, 'output_tokens': 371, 'total_tokens': 1134, 'input_token_details': {'audio': 0, 'cache_read': 0}, 'output_token_details': {'audio': 0, 'reasoning': 0}}),\n",
       " HumanMessage(content='LangGraph 가 무엇인지 조사하여 알려주세요!', additional_kwargs={}, response_metadata={}, id='34daa513-132e-44af-986c-df93154537a8'),\n",
       " AIMessage(content='', additional_kwargs={'tool_calls': [{'id': 'call_gGjPjxD2ZYmHT4N9El4kFOWf', 'function': {'arguments': '{\"query\":\"LangGraph\"}', 'name': 'search_keyword'}, 'type': 'function'}], 'refusal': None}, response_metadata={'token_usage': {'completion_tokens': 15, 'prompt_tokens': 1151, 'total_tokens': 1166, 'completion_tokens_details': {'accepted_prediction_tokens': 0, 'audio_tokens': 0, 'reasoning_tokens': 0, 'rejected_prediction_tokens': 0}, 'prompt_tokens_details': {'audio_tokens': 0, 'cached_tokens': 1024}}, 'model_name': 'gpt-4.1-2025-04-14', 'system_fingerprint': 'fp_daf5fcc80a', 'id': 'chatcmpl-C8yzYUYvovSEMEF2k5qhBpb2vLTGx', 'service_tier': 'default', 'finish_reason': 'tool_calls', 'logprobs': None}, id='run--8b0acd4e-537b-4acb-bb3c-bbcc06a74cec-0', tool_calls=[{'name': 'search_keyword', 'args': {'query': 'LangGraph'}, 'id': 'call_gGjPjxD2ZYmHT4N9El4kFOWf', 'type': 'tool_call'}], usage_metadata={'input_tokens': 1151, 'output_tokens': 15, 'total_tokens': 1166, 'input_token_details': {'audio': 0, 'cache_read': 1024}, 'output_token_details': {'audio': 0, 'reasoning': 0}}),\n",
       " ToolMessage(content='[수정된 웹 검색 결과] \\nLangGraph는 상태 기반의 다중 액터 애플리케이션을 LLM을 활용해 구축할 수 있도록 지원합니다.\\nLangGraph는 사이클 흐름, 제어 가능성, 지속성, 클라우드 배포 기능을 제공하는 오픈 소스 라이브러리입니다.\\n\\n자세한 튜토리얼은 [LangGraph 튜토리얼](https://langchain-ai.github.io/langgraph/tutorials/) 과\\n테디노트의 [랭체인 한국어 튜토리얼](https://wikidocs.net/233785) 을 참고하세요.', id='f446e43b-75e7-419f-8b27-cd34eb19a9f2', tool_call_id='call_gGjPjxD2ZYmHT4N9El4kFOWf'),\n",
       " AIMessage(content='LangGraph는 상태 기반(State-based)의 다중 액터(multi-actor) 애플리케이션을 대형 언어모델(LLM, 예: GPT-4 등)을 활용해서 쉽고 효율적으로 구축할 수 있게 해주는 오픈소스 라이브러리입니다.\\n\\n주요 특징:\\n\\n- 사이클 흐름(Cyclic flow): 단방향·단순 논리가 아닌, 복잡하게 순환하거나 분기되는 플로우도 설계할 수 있습니다.\\n- 제어 가능성: 애플리케이션의 상태(state)나 흐름을 세밀하게 통제할 수 있습니다.\\n- 지속성(Persistence): 처리 중인 데이터나 상태 정보를 저장해 중단 후 재실행이 가능합니다.\\n- 클라우드 배포: 서버리스 환경 등에서 클라우드로 손쉽게 배포할 수 있습니다.\\n\\nLangGraph는 주로 대화형 AI, 워크플로우 오케스트레이션, 멀티 에이전트 시스템 등 복잡한 LLM 기반 서비스 개발에 폭넓게 사용됩니다.\\n\\n더 자세한 정보와 실습은 다음 자료를 참고하세요:  \\n- 공식 LangGraph 튜토리얼: https://langchain-ai.github.io/langgraph/tutorials/  \\n- 한국어 튜토리얼(위키독스): https://wikidocs.net/233785 \\n\\n추가로 궁금한 점이 있으면 물어보세요!', additional_kwargs={'refusal': None}, response_metadata={'token_usage': {'completion_tokens': 306, 'prompt_tokens': 1310, 'total_tokens': 1616, 'completion_tokens_details': {'accepted_prediction_tokens': 0, 'audio_tokens': 0, 'reasoning_tokens': 0, 'rejected_prediction_tokens': 0}, 'prompt_tokens_details': {'audio_tokens': 0, 'cached_tokens': 1152}}, 'model_name': 'gpt-4.1-2025-04-14', 'system_fingerprint': 'fp_daf5fcc80a', 'id': 'chatcmpl-C8z3Wy7eiGGrcsfeVr4zPp43QBbHF', 'service_tier': 'default', 'finish_reason': 'stop', 'logprobs': None}, id='run--edeb2b09-b009-462e-967c-87800b1f51a2-0', usage_metadata={'input_tokens': 1310, 'output_tokens': 306, 'total_tokens': 1616, 'input_token_details': {'audio': 0, 'cache_read': 1152}, 'output_token_details': {'audio': 0, 'reasoning': 0}}),\n",
       " HumanMessage(content='내 이름은 `Charlie` 입니다. 생성AI 4기 교육생입니다. 만나서 반가워요', additional_kwargs={}, response_metadata={}, id='8c035bbe-dfc1-4219-b2c9-8ef0b263f8c4'),\n",
       " AIMessage(content='Charlie님, 만나서 반갑습니다!  \\n생성AI 4기 교육생이시군요. 앞으로 AI와 관련된 궁금한 점이나 도움이 필요하실 때 언제든 편하게 말씀해 주세요.  \\n함께 성장하는 시간 되었으면 좋겠습니다. 😊  \\n특별히 관심 있는 AI 분야나 배우고 싶은 내용이 있으신가요?', additional_kwargs={'refusal': None}, response_metadata={'token_usage': {'completion_tokens': 78, 'prompt_tokens': 1694, 'total_tokens': 1772, 'completion_tokens_details': {'accepted_prediction_tokens': 0, 'audio_tokens': 0, 'reasoning_tokens': 0, 'rejected_prediction_tokens': 0}, 'prompt_tokens_details': {'audio_tokens': 0, 'cached_tokens': 0}}, 'model_name': 'gpt-4.1-2025-04-14', 'system_fingerprint': 'fp_daf5fcc80a', 'id': 'chatcmpl-C92EEhAyQKsFgFFlDzrRnCEcaJOZY', 'service_tier': 'default', 'finish_reason': 'stop', 'logprobs': None}, id='run--97568e78-da3a-4888-8c9b-fb33a676cca2-0', usage_metadata={'input_tokens': 1694, 'output_tokens': 78, 'total_tokens': 1772, 'input_token_details': {'audio': 0, 'cache_read': 0}, 'output_token_details': {'audio': 0, 'reasoning': 0}}),\n",
       " HumanMessage(content='내 이름이 뭐라고 했지?', additional_kwargs={}, response_metadata={}, id='66337cc3-379d-4d24-8459-f157a96625b8'),\n",
       " AIMessage(content='당신의 이름은 \"Charlie\"입니다!  \\n필요할 때 언제든 다시 불러드릴 수 있어요. 혹시 개인화된 정보로 도와드릴 부분이 있으면 말씀해 주세요. 😊', additional_kwargs={'refusal': None}, response_metadata={'token_usage': {'completion_tokens': 47, 'prompt_tokens': 1787, 'total_tokens': 1834, 'completion_tokens_details': {'accepted_prediction_tokens': 0, 'audio_tokens': 0, 'reasoning_tokens': 0, 'rejected_prediction_tokens': 0}, 'prompt_tokens_details': {'audio_tokens': 0, 'cached_tokens': 1664}}, 'model_name': 'gpt-4.1-2025-04-14', 'system_fingerprint': 'fp_daf5fcc80a', 'id': 'chatcmpl-C92EGin7nuzbNp10mRDxTGLN8xMIR', 'service_tier': 'default', 'finish_reason': 'stop', 'logprobs': None}, id='run--4c093693-0892-4164-b922-d49f7c1bfb8e-0', usage_metadata={'input_tokens': 1787, 'output_tokens': 47, 'total_tokens': 1834, 'input_token_details': {'audio': 0, 'cache_read': 1664}, 'output_token_details': {'audio': 0, 'reasoning': 0}})]"
      ]
     },
     "execution_count": 111,
     "metadata": {},
     "output_type": "execute_result"
    }
   ],
   "source": [
    "from langchain_core.runnables import RunnableConfig\n",
    "\n",
    "config = RunnableConfig(\n",
    "    configurable={\"thread_id\": \"1\"},  # 스레드 ID 설정\n",
    ")\n",
    "# 그래프 상태 스냅샷 생성\n",
    "snapshot = graph.get_state(config)\n",
    "snapshot.values[\"messages\"]\n"
   ]
  },
  {
   "cell_type": "code",
   "execution_count": 112,
   "metadata": {},
   "outputs": [
    {
     "data": {
      "text/plain": [
       "{'configurable': {'thread_id': '1',\n",
       "  'checkpoint_ns': '',\n",
       "  'checkpoint_id': '1f082ffc-a9e6-6f1c-800e-f2c0529773f1'}}"
      ]
     },
     "execution_count": 112,
     "metadata": {},
     "output_type": "execute_result"
    }
   ],
   "source": [
    "# 설정된 config 정보\n",
    "snapshot.config\n"
   ]
  },
  {
   "cell_type": "code",
   "execution_count": 113,
   "metadata": {},
   "outputs": [
    {
     "data": {
      "text/plain": [
       "{'messages': [HumanMessage(content='AI 관련 최신 뉴스를 알려주세요.', additional_kwargs={}, response_metadata={}, id='6f821438-0e46-4649-b195-9928f516381e'),\n",
       "  AIMessage(content='', additional_kwargs={'tool_calls': [{'id': 'call_7gLTs7Z1AL3vYzQszReMFH9D', 'function': {'arguments': '{\"query\":\"AI 최신 뉴스\"}', 'name': 'search_keyword'}, 'type': 'function'}], 'refusal': None}, response_metadata={'token_usage': {'completion_tokens': 16, 'prompt_tokens': 51, 'total_tokens': 67, 'completion_tokens_details': {'accepted_prediction_tokens': 0, 'audio_tokens': 0, 'reasoning_tokens': 0, 'rejected_prediction_tokens': 0}, 'prompt_tokens_details': {'audio_tokens': 0, 'cached_tokens': 0}}, 'model_name': 'gpt-4.1-2025-04-14', 'system_fingerprint': 'fp_daf5fcc80a', 'id': 'chatcmpl-C8yvxrPD5SqmI67aPfG3Arr60SnJf', 'service_tier': 'default', 'finish_reason': 'tool_calls', 'logprobs': None}, id='run--781d8504-9739-47cd-9ff2-a9c3ba57fc9c-0', tool_calls=[{'name': 'search_keyword', 'args': {'query': 'AI 최신 뉴스'}, 'id': 'call_7gLTs7Z1AL3vYzQszReMFH9D', 'type': 'tool_call'}], usage_metadata={'input_tokens': 51, 'output_tokens': 16, 'total_tokens': 67, 'input_token_details': {'audio': 0, 'cache_read': 0}, 'output_token_details': {'audio': 0, 'reasoning': 0}}),\n",
       "  ToolMessage(content='[{\"url\": \"https://news.google.com/rss/articles/CBMiakFVX3lxTE9xNUotVlNTTEQzTnZDMVEwOUdNVTVjQlZVLVdLcFNWd1NuNXJ2a0NsNnFfUDNmTzg2bzQzbTNSRlRNTUc2UU12T2F0c28xaE02Sk5tUWlHZkxXemdGVDlNUnFiQVdkY2xkZ3c?oc=5\", \"content\": \"[8월26일] \\\\\"AI 챗봇의 \\'의인화\\' 없애지 않으면 큰 문제 생길 것\\\\\" - AI타임스\"}, {\"url\": \"https://news.google.com/rss/articles/CBMiSEFVX3lxTE9ZR3pkUS1CRW95Ykh2ejVQYWo3RHFpU185d09XcmF1OG1VbEdUSE5fLURPSkhLNGtpSzI2M1pRMnVCSURUcFZOSw?oc=5\", \"content\": \"독자 AI 파운데이션 모델, 대한민국 AI의 새로운 출발선에서 - SK텔레콤 뉴스룸\"}, {\"url\": \"https://news.google.com/rss/articles/CBMiU0FVX3lxTE1NZFUyRnI0MmVrb0Z2ZWZMLUNpR2pKM3RvRG1nNUJkbmFKQmRsTGlocElKeU8wUlR1VzNrVlBZMzVuMGJ0b2p1dlE3cnN6bDJZQ3J3?oc=5\", \"content\": \"\\'폭탄 제조·머스크 암살\\'에 진지한 답변…AI 그록, 수십만건 대화기록 유출 파장 - 네이트\"}, {\"url\": \"https://news.google.com/rss/articles/CBMiakFVX3lxTE9IS09QWmk1MTZPTk1EcXZzMksxMmxfY3dUbXFRUFMtaEl0ZV92UWt0bjZxemNtdUxIQ0ZLWGo3RGoyNXFFajZrY0VXMDdmNTEwQkE0R3ljVnhMQkVZb3FzSzcwVkhYbm5SYUE?oc=5\", \"content\": \"[AI 구기자] AI 기본법 하위법령 이달 말 공개… “모호한 규정 해소가 관건” - newstheai.com\"}, {\"url\": \"https://news.google.com/rss/articles/CBMiVkFVX3lxTE8wdEdXTnY3OWFBM1c5V19BM0pZZXNremdnWFNHQ1JsRS1MMUQxc0Jhdmx2d0xaY2UtWnpMSlhPTjhYeEk1Wk1JSFZ1dDVmbzhQUm4zRXFB?oc=5\", \"content\": \"[교육이 미래다] ‘화학 반응 예측 AI 모델’ 네이처에 실려 - 중앙일보\"}]', name='search_keyword', id='427e4543-84e8-4ab5-9ef1-d293ed3c9199', tool_call_id='call_7gLTs7Z1AL3vYzQszReMFH9D'),\n",
       "  AIMessage(content='다음은 최근 AI 관련 주요 뉴스입니다:\\n\\n1. \"AI 챗봇의 \\'의인화\\' 없애지 않으면 큰 문제 생길 것\" (AI타임스, 8월 26일)  \\n→ AI 챗봇을 사람처럼 의인화하는 데서 발생할 수 있는 문제점에 대한 경고입니다.  \\n(기사 보기)\\n\\n2. \"독자 AI 파운데이션 모델, 대한민국 AI의 새로운 출발선에서\" (SK텔레콤 뉴스룸)  \\n→ 자체 개발한 AI 파운데이션 모델이 국내 AI 생태계에 미치는 영향에 대한 소식입니다.  \\n(기사 보기)\\n\\n3. \"\\'폭탄 제조·머스크 암살\\'에 진지한 답변…AI 그록, 수십만건 대화기록 유출 파장\" (네이트)  \\n→ AI 챗봇 그록(Grok)에서 민감한 내용의 대화기록이 대규모로 유출된 사건에 관한 내용입니다.  \\n(기사 보기)\\n\\n4. \"AI 기본법 하위법령 이달 말 공개… ‘모호한 규정 해소가 관건’\" (newstheai.com)  \\n→ AI 규제와 활용 방안에 관한 법적 기반이 마련되고 있다는 소식입니다.  \\n(기사 보기)\\n\\n5. \"‘화학 반응 예측 AI 모델’ 네이처에 실려\" (중앙일보)  \\n→ 화학 반응을 예측하는 AI 모델이 과학 저널 네이처에 소개된 뉴스입니다.  \\n(기사 보기)\\n\\n각 제목을 클릭(터치)하시면 자세한 기사 내용을 확인하실 수 있습니다. 추가 정보가 필요하시면 말씀해 주세요!', additional_kwargs={'refusal': None}, response_metadata={'token_usage': {'completion_tokens': 371, 'prompt_tokens': 763, 'total_tokens': 1134, 'completion_tokens_details': {'accepted_prediction_tokens': 0, 'audio_tokens': 0, 'reasoning_tokens': 0, 'rejected_prediction_tokens': 0}, 'prompt_tokens_details': {'audio_tokens': 0, 'cached_tokens': 0}}, 'model_name': 'gpt-4.1-2025-04-14', 'system_fingerprint': 'fp_daf5fcc80a', 'id': 'chatcmpl-C8yxu9h1eFt3xcPeZZh5b9utrki0w', 'service_tier': 'default', 'finish_reason': 'stop', 'logprobs': None}, id='run--a70fba16-6623-4f3d-a23f-9d70ff63c394-0', usage_metadata={'input_tokens': 763, 'output_tokens': 371, 'total_tokens': 1134, 'input_token_details': {'audio': 0, 'cache_read': 0}, 'output_token_details': {'audio': 0, 'reasoning': 0}}),\n",
       "  HumanMessage(content='LangGraph 가 무엇인지 조사하여 알려주세요!', additional_kwargs={}, response_metadata={}, id='34daa513-132e-44af-986c-df93154537a8'),\n",
       "  AIMessage(content='', additional_kwargs={'tool_calls': [{'id': 'call_gGjPjxD2ZYmHT4N9El4kFOWf', 'function': {'arguments': '{\"query\":\"LangGraph\"}', 'name': 'search_keyword'}, 'type': 'function'}], 'refusal': None}, response_metadata={'token_usage': {'completion_tokens': 15, 'prompt_tokens': 1151, 'total_tokens': 1166, 'completion_tokens_details': {'accepted_prediction_tokens': 0, 'audio_tokens': 0, 'reasoning_tokens': 0, 'rejected_prediction_tokens': 0}, 'prompt_tokens_details': {'audio_tokens': 0, 'cached_tokens': 1024}}, 'model_name': 'gpt-4.1-2025-04-14', 'system_fingerprint': 'fp_daf5fcc80a', 'id': 'chatcmpl-C8yzYUYvovSEMEF2k5qhBpb2vLTGx', 'service_tier': 'default', 'finish_reason': 'tool_calls', 'logprobs': None}, id='run--8b0acd4e-537b-4acb-bb3c-bbcc06a74cec-0', tool_calls=[{'name': 'search_keyword', 'args': {'query': 'LangGraph'}, 'id': 'call_gGjPjxD2ZYmHT4N9El4kFOWf', 'type': 'tool_call'}], usage_metadata={'input_tokens': 1151, 'output_tokens': 15, 'total_tokens': 1166, 'input_token_details': {'audio': 0, 'cache_read': 1024}, 'output_token_details': {'audio': 0, 'reasoning': 0}}),\n",
       "  ToolMessage(content='[수정된 웹 검색 결과] \\nLangGraph는 상태 기반의 다중 액터 애플리케이션을 LLM을 활용해 구축할 수 있도록 지원합니다.\\nLangGraph는 사이클 흐름, 제어 가능성, 지속성, 클라우드 배포 기능을 제공하는 오픈 소스 라이브러리입니다.\\n\\n자세한 튜토리얼은 [LangGraph 튜토리얼](https://langchain-ai.github.io/langgraph/tutorials/) 과\\n테디노트의 [랭체인 한국어 튜토리얼](https://wikidocs.net/233785) 을 참고하세요.', id='f446e43b-75e7-419f-8b27-cd34eb19a9f2', tool_call_id='call_gGjPjxD2ZYmHT4N9El4kFOWf'),\n",
       "  AIMessage(content='LangGraph는 상태 기반(State-based)의 다중 액터(multi-actor) 애플리케이션을 대형 언어모델(LLM, 예: GPT-4 등)을 활용해서 쉽고 효율적으로 구축할 수 있게 해주는 오픈소스 라이브러리입니다.\\n\\n주요 특징:\\n\\n- 사이클 흐름(Cyclic flow): 단방향·단순 논리가 아닌, 복잡하게 순환하거나 분기되는 플로우도 설계할 수 있습니다.\\n- 제어 가능성: 애플리케이션의 상태(state)나 흐름을 세밀하게 통제할 수 있습니다.\\n- 지속성(Persistence): 처리 중인 데이터나 상태 정보를 저장해 중단 후 재실행이 가능합니다.\\n- 클라우드 배포: 서버리스 환경 등에서 클라우드로 손쉽게 배포할 수 있습니다.\\n\\nLangGraph는 주로 대화형 AI, 워크플로우 오케스트레이션, 멀티 에이전트 시스템 등 복잡한 LLM 기반 서비스 개발에 폭넓게 사용됩니다.\\n\\n더 자세한 정보와 실습은 다음 자료를 참고하세요:  \\n- 공식 LangGraph 튜토리얼: https://langchain-ai.github.io/langgraph/tutorials/  \\n- 한국어 튜토리얼(위키독스): https://wikidocs.net/233785 \\n\\n추가로 궁금한 점이 있으면 물어보세요!', additional_kwargs={'refusal': None}, response_metadata={'token_usage': {'completion_tokens': 306, 'prompt_tokens': 1310, 'total_tokens': 1616, 'completion_tokens_details': {'accepted_prediction_tokens': 0, 'audio_tokens': 0, 'reasoning_tokens': 0, 'rejected_prediction_tokens': 0}, 'prompt_tokens_details': {'audio_tokens': 0, 'cached_tokens': 1152}}, 'model_name': 'gpt-4.1-2025-04-14', 'system_fingerprint': 'fp_daf5fcc80a', 'id': 'chatcmpl-C8z3Wy7eiGGrcsfeVr4zPp43QBbHF', 'service_tier': 'default', 'finish_reason': 'stop', 'logprobs': None}, id='run--edeb2b09-b009-462e-967c-87800b1f51a2-0', usage_metadata={'input_tokens': 1310, 'output_tokens': 306, 'total_tokens': 1616, 'input_token_details': {'audio': 0, 'cache_read': 1152}, 'output_token_details': {'audio': 0, 'reasoning': 0}}),\n",
       "  HumanMessage(content='내 이름은 `Charlie` 입니다. 생성AI 4기 교육생입니다. 만나서 반가워요', additional_kwargs={}, response_metadata={}, id='8c035bbe-dfc1-4219-b2c9-8ef0b263f8c4'),\n",
       "  AIMessage(content='Charlie님, 만나서 반갑습니다!  \\n생성AI 4기 교육생이시군요. 앞으로 AI와 관련된 궁금한 점이나 도움이 필요하실 때 언제든 편하게 말씀해 주세요.  \\n함께 성장하는 시간 되었으면 좋겠습니다. 😊  \\n특별히 관심 있는 AI 분야나 배우고 싶은 내용이 있으신가요?', additional_kwargs={'refusal': None}, response_metadata={'token_usage': {'completion_tokens': 78, 'prompt_tokens': 1694, 'total_tokens': 1772, 'completion_tokens_details': {'accepted_prediction_tokens': 0, 'audio_tokens': 0, 'reasoning_tokens': 0, 'rejected_prediction_tokens': 0}, 'prompt_tokens_details': {'audio_tokens': 0, 'cached_tokens': 0}}, 'model_name': 'gpt-4.1-2025-04-14', 'system_fingerprint': 'fp_daf5fcc80a', 'id': 'chatcmpl-C92EEhAyQKsFgFFlDzrRnCEcaJOZY', 'service_tier': 'default', 'finish_reason': 'stop', 'logprobs': None}, id='run--97568e78-da3a-4888-8c9b-fb33a676cca2-0', usage_metadata={'input_tokens': 1694, 'output_tokens': 78, 'total_tokens': 1772, 'input_token_details': {'audio': 0, 'cache_read': 0}, 'output_token_details': {'audio': 0, 'reasoning': 0}}),\n",
       "  HumanMessage(content='내 이름이 뭐라고 했지?', additional_kwargs={}, response_metadata={}, id='66337cc3-379d-4d24-8459-f157a96625b8'),\n",
       "  AIMessage(content='당신의 이름은 \"Charlie\"입니다!  \\n필요할 때 언제든 다시 불러드릴 수 있어요. 혹시 개인화된 정보로 도와드릴 부분이 있으면 말씀해 주세요. 😊', additional_kwargs={'refusal': None}, response_metadata={'token_usage': {'completion_tokens': 47, 'prompt_tokens': 1787, 'total_tokens': 1834, 'completion_tokens_details': {'accepted_prediction_tokens': 0, 'audio_tokens': 0, 'reasoning_tokens': 0, 'rejected_prediction_tokens': 0}, 'prompt_tokens_details': {'audio_tokens': 0, 'cached_tokens': 1664}}, 'model_name': 'gpt-4.1-2025-04-14', 'system_fingerprint': 'fp_daf5fcc80a', 'id': 'chatcmpl-C92EGin7nuzbNp10mRDxTGLN8xMIR', 'service_tier': 'default', 'finish_reason': 'stop', 'logprobs': None}, id='run--4c093693-0892-4164-b922-d49f7c1bfb8e-0', usage_metadata={'input_tokens': 1787, 'output_tokens': 47, 'total_tokens': 1834, 'input_token_details': {'audio': 0, 'cache_read': 1664}, 'output_token_details': {'audio': 0, 'reasoning': 0}})]}"
      ]
     },
     "execution_count": 113,
     "metadata": {},
     "output_type": "execute_result"
    }
   ],
   "source": [
    "# 저장된 값(values)\n",
    "snapshot.values\n"
   ]
  },
  {
   "cell_type": "code",
   "execution_count": 114,
   "metadata": {},
   "outputs": [
    {
     "data": {
      "text/plain": [
       "()"
      ]
     },
     "execution_count": 114,
     "metadata": {},
     "output_type": "execute_result"
    }
   ],
   "source": [
    "# 다음 노드\n",
    "snapshot.next\n"
   ]
  },
  {
   "cell_type": "code",
   "execution_count": 115,
   "metadata": {},
   "outputs": [
    {
     "data": {
      "text/plain": [
       "{'source': 'loop', 'step': 14, 'parents': {}}"
      ]
     },
     "execution_count": 115,
     "metadata": {},
     "output_type": "execute_result"
    }
   ],
   "source": [
    "snapshot.metadata"
   ]
  },
  {
   "cell_type": "code",
   "execution_count": 116,
   "metadata": {},
   "outputs": [
    {
     "ename": "KeyError",
     "evalue": "'writes'",
     "output_type": "error",
     "traceback": [
      "\u001b[0;31m---------------------------------------------------------------------------\u001b[0m",
      "\u001b[0;31mKeyError\u001b[0m                                  Traceback (most recent call last)",
      "Cell \u001b[0;32mIn[116], line 1\u001b[0m\n\u001b[0;32m----> 1\u001b[0m \u001b[43msnapshot\u001b[49m\u001b[38;5;241;43m.\u001b[39;49m\u001b[43mmetadata\u001b[49m\u001b[43m[\u001b[49m\u001b[38;5;124;43m\"\u001b[39;49m\u001b[38;5;124;43mwrites\u001b[39;49m\u001b[38;5;124;43m\"\u001b[39;49m\u001b[43m]\u001b[49m[\u001b[38;5;124m\"\u001b[39m\u001b[38;5;124mchatbot\u001b[39m\u001b[38;5;124m\"\u001b[39m][\u001b[38;5;124m\"\u001b[39m\u001b[38;5;124mmessages\u001b[39m\u001b[38;5;124m\"\u001b[39m][\u001b[38;5;241m0\u001b[39m]\n",
      "\u001b[0;31mKeyError\u001b[0m: 'writes'"
     ]
    }
   ],
   "source": [
    "snapshot.metadata[\"writes\"][\"chatbot\"][\"messages\"][0]\n"
   ]
  },
  {
   "cell_type": "code",
   "execution_count": 117,
   "metadata": {},
   "outputs": [
    {
     "data": {
      "text/plain": [
       "StateSnapshot(values={'messages': [HumanMessage(content='AI 관련 최신 뉴스를 알려주세요.', additional_kwargs={}, response_metadata={}, id='6f821438-0e46-4649-b195-9928f516381e'), AIMessage(content='', additional_kwargs={'tool_calls': [{'id': 'call_7gLTs7Z1AL3vYzQszReMFH9D', 'function': {'arguments': '{\"query\":\"AI 최신 뉴스\"}', 'name': 'search_keyword'}, 'type': 'function'}], 'refusal': None}, response_metadata={'token_usage': {'completion_tokens': 16, 'prompt_tokens': 51, 'total_tokens': 67, 'completion_tokens_details': {'accepted_prediction_tokens': 0, 'audio_tokens': 0, 'reasoning_tokens': 0, 'rejected_prediction_tokens': 0}, 'prompt_tokens_details': {'audio_tokens': 0, 'cached_tokens': 0}}, 'model_name': 'gpt-4.1-2025-04-14', 'system_fingerprint': 'fp_daf5fcc80a', 'id': 'chatcmpl-C8yvxrPD5SqmI67aPfG3Arr60SnJf', 'service_tier': 'default', 'finish_reason': 'tool_calls', 'logprobs': None}, id='run--781d8504-9739-47cd-9ff2-a9c3ba57fc9c-0', tool_calls=[{'name': 'search_keyword', 'args': {'query': 'AI 최신 뉴스'}, 'id': 'call_7gLTs7Z1AL3vYzQszReMFH9D', 'type': 'tool_call'}], usage_metadata={'input_tokens': 51, 'output_tokens': 16, 'total_tokens': 67, 'input_token_details': {'audio': 0, 'cache_read': 0}, 'output_token_details': {'audio': 0, 'reasoning': 0}}), ToolMessage(content='[{\"url\": \"https://news.google.com/rss/articles/CBMiakFVX3lxTE9xNUotVlNTTEQzTnZDMVEwOUdNVTVjQlZVLVdLcFNWd1NuNXJ2a0NsNnFfUDNmTzg2bzQzbTNSRlRNTUc2UU12T2F0c28xaE02Sk5tUWlHZkxXemdGVDlNUnFiQVdkY2xkZ3c?oc=5\", \"content\": \"[8월26일] \\\\\"AI 챗봇의 \\'의인화\\' 없애지 않으면 큰 문제 생길 것\\\\\" - AI타임스\"}, {\"url\": \"https://news.google.com/rss/articles/CBMiSEFVX3lxTE9ZR3pkUS1CRW95Ykh2ejVQYWo3RHFpU185d09XcmF1OG1VbEdUSE5fLURPSkhLNGtpSzI2M1pRMnVCSURUcFZOSw?oc=5\", \"content\": \"독자 AI 파운데이션 모델, 대한민국 AI의 새로운 출발선에서 - SK텔레콤 뉴스룸\"}, {\"url\": \"https://news.google.com/rss/articles/CBMiU0FVX3lxTE1NZFUyRnI0MmVrb0Z2ZWZMLUNpR2pKM3RvRG1nNUJkbmFKQmRsTGlocElKeU8wUlR1VzNrVlBZMzVuMGJ0b2p1dlE3cnN6bDJZQ3J3?oc=5\", \"content\": \"\\'폭탄 제조·머스크 암살\\'에 진지한 답변…AI 그록, 수십만건 대화기록 유출 파장 - 네이트\"}, {\"url\": \"https://news.google.com/rss/articles/CBMiakFVX3lxTE9IS09QWmk1MTZPTk1EcXZzMksxMmxfY3dUbXFRUFMtaEl0ZV92UWt0bjZxemNtdUxIQ0ZLWGo3RGoyNXFFajZrY0VXMDdmNTEwQkE0R3ljVnhMQkVZb3FzSzcwVkhYbm5SYUE?oc=5\", \"content\": \"[AI 구기자] AI 기본법 하위법령 이달 말 공개… “모호한 규정 해소가 관건” - newstheai.com\"}, {\"url\": \"https://news.google.com/rss/articles/CBMiVkFVX3lxTE8wdEdXTnY3OWFBM1c5V19BM0pZZXNremdnWFNHQ1JsRS1MMUQxc0Jhdmx2d0xaY2UtWnpMSlhPTjhYeEk1Wk1JSFZ1dDVmbzhQUm4zRXFB?oc=5\", \"content\": \"[교육이 미래다] ‘화학 반응 예측 AI 모델’ 네이처에 실려 - 중앙일보\"}]', name='search_keyword', id='427e4543-84e8-4ab5-9ef1-d293ed3c9199', tool_call_id='call_7gLTs7Z1AL3vYzQszReMFH9D'), AIMessage(content='다음은 최근 AI 관련 주요 뉴스입니다:\\n\\n1. \"AI 챗봇의 \\'의인화\\' 없애지 않으면 큰 문제 생길 것\" (AI타임스, 8월 26일)  \\n→ AI 챗봇을 사람처럼 의인화하는 데서 발생할 수 있는 문제점에 대한 경고입니다.  \\n(기사 보기)\\n\\n2. \"독자 AI 파운데이션 모델, 대한민국 AI의 새로운 출발선에서\" (SK텔레콤 뉴스룸)  \\n→ 자체 개발한 AI 파운데이션 모델이 국내 AI 생태계에 미치는 영향에 대한 소식입니다.  \\n(기사 보기)\\n\\n3. \"\\'폭탄 제조·머스크 암살\\'에 진지한 답변…AI 그록, 수십만건 대화기록 유출 파장\" (네이트)  \\n→ AI 챗봇 그록(Grok)에서 민감한 내용의 대화기록이 대규모로 유출된 사건에 관한 내용입니다.  \\n(기사 보기)\\n\\n4. \"AI 기본법 하위법령 이달 말 공개… ‘모호한 규정 해소가 관건’\" (newstheai.com)  \\n→ AI 규제와 활용 방안에 관한 법적 기반이 마련되고 있다는 소식입니다.  \\n(기사 보기)\\n\\n5. \"‘화학 반응 예측 AI 모델’ 네이처에 실려\" (중앙일보)  \\n→ 화학 반응을 예측하는 AI 모델이 과학 저널 네이처에 소개된 뉴스입니다.  \\n(기사 보기)\\n\\n각 제목을 클릭(터치)하시면 자세한 기사 내용을 확인하실 수 있습니다. 추가 정보가 필요하시면 말씀해 주세요!', additional_kwargs={'refusal': None}, response_metadata={'token_usage': {'completion_tokens': 371, 'prompt_tokens': 763, 'total_tokens': 1134, 'completion_tokens_details': {'accepted_prediction_tokens': 0, 'audio_tokens': 0, 'reasoning_tokens': 0, 'rejected_prediction_tokens': 0}, 'prompt_tokens_details': {'audio_tokens': 0, 'cached_tokens': 0}}, 'model_name': 'gpt-4.1-2025-04-14', 'system_fingerprint': 'fp_daf5fcc80a', 'id': 'chatcmpl-C8yxu9h1eFt3xcPeZZh5b9utrki0w', 'service_tier': 'default', 'finish_reason': 'stop', 'logprobs': None}, id='run--a70fba16-6623-4f3d-a23f-9d70ff63c394-0', usage_metadata={'input_tokens': 763, 'output_tokens': 371, 'total_tokens': 1134, 'input_token_details': {'audio': 0, 'cache_read': 0}, 'output_token_details': {'audio': 0, 'reasoning': 0}}), HumanMessage(content='LangGraph 가 무엇인지 조사하여 알려주세요!', additional_kwargs={}, response_metadata={}, id='34daa513-132e-44af-986c-df93154537a8'), AIMessage(content='', additional_kwargs={'tool_calls': [{'id': 'call_gGjPjxD2ZYmHT4N9El4kFOWf', 'function': {'arguments': '{\"query\":\"LangGraph\"}', 'name': 'search_keyword'}, 'type': 'function'}], 'refusal': None}, response_metadata={'token_usage': {'completion_tokens': 15, 'prompt_tokens': 1151, 'total_tokens': 1166, 'completion_tokens_details': {'accepted_prediction_tokens': 0, 'audio_tokens': 0, 'reasoning_tokens': 0, 'rejected_prediction_tokens': 0}, 'prompt_tokens_details': {'audio_tokens': 0, 'cached_tokens': 1024}}, 'model_name': 'gpt-4.1-2025-04-14', 'system_fingerprint': 'fp_daf5fcc80a', 'id': 'chatcmpl-C8yzYUYvovSEMEF2k5qhBpb2vLTGx', 'service_tier': 'default', 'finish_reason': 'tool_calls', 'logprobs': None}, id='run--8b0acd4e-537b-4acb-bb3c-bbcc06a74cec-0', tool_calls=[{'name': 'search_keyword', 'args': {'query': 'LangGraph'}, 'id': 'call_gGjPjxD2ZYmHT4N9El4kFOWf', 'type': 'tool_call'}], usage_metadata={'input_tokens': 1151, 'output_tokens': 15, 'total_tokens': 1166, 'input_token_details': {'audio': 0, 'cache_read': 1024}, 'output_token_details': {'audio': 0, 'reasoning': 0}}), ToolMessage(content='[수정된 웹 검색 결과] \\nLangGraph는 상태 기반의 다중 액터 애플리케이션을 LLM을 활용해 구축할 수 있도록 지원합니다.\\nLangGraph는 사이클 흐름, 제어 가능성, 지속성, 클라우드 배포 기능을 제공하는 오픈 소스 라이브러리입니다.\\n\\n자세한 튜토리얼은 [LangGraph 튜토리얼](https://langchain-ai.github.io/langgraph/tutorials/) 과\\n테디노트의 [랭체인 한국어 튜토리얼](https://wikidocs.net/233785) 을 참고하세요.', id='f446e43b-75e7-419f-8b27-cd34eb19a9f2', tool_call_id='call_gGjPjxD2ZYmHT4N9El4kFOWf'), AIMessage(content='LangGraph는 상태 기반(State-based)의 다중 액터(multi-actor) 애플리케이션을 대형 언어모델(LLM, 예: GPT-4 등)을 활용해서 쉽고 효율적으로 구축할 수 있게 해주는 오픈소스 라이브러리입니다.\\n\\n주요 특징:\\n\\n- 사이클 흐름(Cyclic flow): 단방향·단순 논리가 아닌, 복잡하게 순환하거나 분기되는 플로우도 설계할 수 있습니다.\\n- 제어 가능성: 애플리케이션의 상태(state)나 흐름을 세밀하게 통제할 수 있습니다.\\n- 지속성(Persistence): 처리 중인 데이터나 상태 정보를 저장해 중단 후 재실행이 가능합니다.\\n- 클라우드 배포: 서버리스 환경 등에서 클라우드로 손쉽게 배포할 수 있습니다.\\n\\nLangGraph는 주로 대화형 AI, 워크플로우 오케스트레이션, 멀티 에이전트 시스템 등 복잡한 LLM 기반 서비스 개발에 폭넓게 사용됩니다.\\n\\n더 자세한 정보와 실습은 다음 자료를 참고하세요:  \\n- 공식 LangGraph 튜토리얼: https://langchain-ai.github.io/langgraph/tutorials/  \\n- 한국어 튜토리얼(위키독스): https://wikidocs.net/233785 \\n\\n추가로 궁금한 점이 있으면 물어보세요!', additional_kwargs={'refusal': None}, response_metadata={'token_usage': {'completion_tokens': 306, 'prompt_tokens': 1310, 'total_tokens': 1616, 'completion_tokens_details': {'accepted_prediction_tokens': 0, 'audio_tokens': 0, 'reasoning_tokens': 0, 'rejected_prediction_tokens': 0}, 'prompt_tokens_details': {'audio_tokens': 0, 'cached_tokens': 1152}}, 'model_name': 'gpt-4.1-2025-04-14', 'system_fingerprint': 'fp_daf5fcc80a', 'id': 'chatcmpl-C8z3Wy7eiGGrcsfeVr4zPp43QBbHF', 'service_tier': 'default', 'finish_reason': 'stop', 'logprobs': None}, id='run--edeb2b09-b009-462e-967c-87800b1f51a2-0', usage_metadata={'input_tokens': 1310, 'output_tokens': 306, 'total_tokens': 1616, 'input_token_details': {'audio': 0, 'cache_read': 1152}, 'output_token_details': {'audio': 0, 'reasoning': 0}}), HumanMessage(content='내 이름은 `Charlie` 입니다. 생성AI 4기 교육생입니다. 만나서 반가워요', additional_kwargs={}, response_metadata={}, id='8c035bbe-dfc1-4219-b2c9-8ef0b263f8c4'), AIMessage(content='Charlie님, 만나서 반갑습니다!  \\n생성AI 4기 교육생이시군요. 앞으로 AI와 관련된 궁금한 점이나 도움이 필요하실 때 언제든 편하게 말씀해 주세요.  \\n함께 성장하는 시간 되었으면 좋겠습니다. 😊  \\n특별히 관심 있는 AI 분야나 배우고 싶은 내용이 있으신가요?', additional_kwargs={'refusal': None}, response_metadata={'token_usage': {'completion_tokens': 78, 'prompt_tokens': 1694, 'total_tokens': 1772, 'completion_tokens_details': {'accepted_prediction_tokens': 0, 'audio_tokens': 0, 'reasoning_tokens': 0, 'rejected_prediction_tokens': 0}, 'prompt_tokens_details': {'audio_tokens': 0, 'cached_tokens': 0}}, 'model_name': 'gpt-4.1-2025-04-14', 'system_fingerprint': 'fp_daf5fcc80a', 'id': 'chatcmpl-C92EEhAyQKsFgFFlDzrRnCEcaJOZY', 'service_tier': 'default', 'finish_reason': 'stop', 'logprobs': None}, id='run--97568e78-da3a-4888-8c9b-fb33a676cca2-0', usage_metadata={'input_tokens': 1694, 'output_tokens': 78, 'total_tokens': 1772, 'input_token_details': {'audio': 0, 'cache_read': 0}, 'output_token_details': {'audio': 0, 'reasoning': 0}}), HumanMessage(content='내 이름이 뭐라고 했지?', additional_kwargs={}, response_metadata={}, id='66337cc3-379d-4d24-8459-f157a96625b8'), AIMessage(content='당신의 이름은 \"Charlie\"입니다!  \\n필요할 때 언제든 다시 불러드릴 수 있어요. 혹시 개인화된 정보로 도와드릴 부분이 있으면 말씀해 주세요. 😊', additional_kwargs={'refusal': None}, response_metadata={'token_usage': {'completion_tokens': 47, 'prompt_tokens': 1787, 'total_tokens': 1834, 'completion_tokens_details': {'accepted_prediction_tokens': 0, 'audio_tokens': 0, 'reasoning_tokens': 0, 'rejected_prediction_tokens': 0}, 'prompt_tokens_details': {'audio_tokens': 0, 'cached_tokens': 1664}}, 'model_name': 'gpt-4.1-2025-04-14', 'system_fingerprint': 'fp_daf5fcc80a', 'id': 'chatcmpl-C92EGin7nuzbNp10mRDxTGLN8xMIR', 'service_tier': 'default', 'finish_reason': 'stop', 'logprobs': None}, id='run--4c093693-0892-4164-b922-d49f7c1bfb8e-0', usage_metadata={'input_tokens': 1787, 'output_tokens': 47, 'total_tokens': 1834, 'input_token_details': {'audio': 0, 'cache_read': 1664}, 'output_token_details': {'audio': 0, 'reasoning': 0}})]}, next=(), config={'configurable': {'thread_id': '1', 'checkpoint_ns': '', 'checkpoint_id': '1f082ffc-a9e6-6f1c-800e-f2c0529773f1'}}, metadata={'source': 'loop', 'step': 14, 'parents': {}}, created_at='2025-08-27T04:39:17.613711+00:00', parent_config={'configurable': {'thread_id': '1', 'checkpoint_ns': '', 'checkpoint_id': '1f082ffc-999e-6eac-800d-7f18f713f22f'}}, tasks=(), interrupts=())"
      ]
     },
     "execution_count": 117,
     "metadata": {},
     "output_type": "execute_result"
    }
   ],
   "source": [
    "snapshot"
   ]
  },
  {
   "cell_type": "code",
   "execution_count": 118,
   "metadata": {},
   "outputs": [
    {
     "data": {
      "text/plain": [
       "HumanMessage(content='AI 관련 최신 뉴스를 알려주세요.', additional_kwargs={}, response_metadata={}, id='6f821438-0e46-4649-b195-9928f516381e')"
      ]
     },
     "execution_count": 118,
     "metadata": {},
     "output_type": "execute_result"
    }
   ],
   "source": [
    "snapshot.values[\"messages\"][0]"
   ]
  },
  {
   "cell_type": "code",
   "execution_count": 119,
   "metadata": {},
   "outputs": [
    {
     "name": "stdout",
     "output_type": "stream",
     "text": [
      "    \u001b[93msource\u001b[0m: \"loop\"\n",
      "    \u001b[93mstep\u001b[0m: 14\n",
      "    \u001b[93mparents\u001b[0m: {}\n"
     ]
    }
   ],
   "source": [
    "from langchain_teddynote.messages import display_message_tree\n",
    "\n",
    "# 메타데이터(tree 형태로 출력)\n",
    "display_message_tree(snapshot.metadata)"
   ]
  },
  {
   "cell_type": "code",
   "execution_count": 120,
   "metadata": {},
   "outputs": [
    {
     "name": "stdout",
     "output_type": "stream",
     "text": [
      "    \u001b[93mmessages\u001b[0m:\n",
      "        \u001b[93mindex [0]\u001b[0m\n",
      "            \u001b[95mcontent\u001b[0m: \"AI 관련 최신 뉴스를 알려주세요.\"\n",
      "            \u001b[95madditional_kwargs\u001b[0m: {}\n",
      "            \u001b[95mresponse_metadata\u001b[0m: {}\n",
      "            \u001b[95mtype\u001b[0m: \"human\"\n",
      "            \u001b[95mname\u001b[0m: None\n",
      "            \u001b[95mid\u001b[0m: \"6f821438-0e46-4649-b195-9928f516381e\"\n",
      "            \u001b[95mexample\u001b[0m: False\n",
      "        \u001b[93mindex [1]\u001b[0m\n",
      "            \u001b[95mcontent\u001b[0m: \"\"\n",
      "            \u001b[95madditional_kwargs\u001b[0m:\n",
      "                \u001b[92mtool_calls\u001b[0m:\n",
      "                    \u001b[92mindex [0]\u001b[0m\n",
      "                        \u001b[96mid\u001b[0m: \"call_7gLTs7Z1AL3vYzQszReMFH9D\"\n",
      "                        \u001b[96mfunction\u001b[0m: {\"arguments\": \"{\"query\":\"AI 최신 뉴스\"}\", \"name\": \"search_keyword\"}\n",
      "                        \u001b[96mtype\u001b[0m: \"function\"\n",
      "                \u001b[92mrefusal\u001b[0m: None\n",
      "            \u001b[95mresponse_metadata\u001b[0m:\n",
      "                \u001b[92mtoken_usage\u001b[0m:\n",
      "                    \u001b[96mcompletion_tokens\u001b[0m: 16\n",
      "                    \u001b[96mprompt_tokens\u001b[0m: 51\n",
      "                    \u001b[96mtotal_tokens\u001b[0m: 67\n",
      "                    \u001b[96mcompletion_tokens_details\u001b[0m: {\"accepted_prediction_tokens\": 0, \"audio_tokens\": 0, \"reasoning_tokens\": 0, \"rejected_prediction_tokens\": 0}\n",
      "                    \u001b[96mprompt_tokens_details\u001b[0m: {\"audio_tokens\": 0, \"cached_tokens\": 0}\n",
      "                \u001b[92mmodel_name\u001b[0m: \"gpt-4.1-2025-04-14\"\n",
      "                \u001b[92msystem_fingerprint\u001b[0m: \"fp_daf5fcc80a\"\n",
      "                \u001b[92mid\u001b[0m: \"chatcmpl-C8yvxrPD5SqmI67aPfG3Arr60SnJf\"\n",
      "                \u001b[92mservice_tier\u001b[0m: \"default\"\n",
      "                \u001b[92mfinish_reason\u001b[0m: \"tool_calls\"\n",
      "                \u001b[92mlogprobs\u001b[0m: None\n",
      "            \u001b[95mtype\u001b[0m: \"ai\"\n",
      "            \u001b[95mname\u001b[0m: None\n",
      "            \u001b[95mid\u001b[0m: \"run--781d8504-9739-47cd-9ff2-a9c3ba57fc9c-0\"\n",
      "            \u001b[95mexample\u001b[0m: False\n",
      "            \u001b[95mtool_calls\u001b[0m:\n",
      "                \u001b[95mindex [0]\u001b[0m\n",
      "                    \u001b[96mname\u001b[0m: \"search_keyword\"\n",
      "                    \u001b[96margs\u001b[0m: {\"query\": \"AI 최신 뉴스\"}\n",
      "                    \u001b[96mid\u001b[0m: \"call_7gLTs7Z1AL3vYzQszReMFH9D\"\n",
      "                    \u001b[96mtype\u001b[0m: \"tool_call\"\n",
      "            \u001b[95minvalid_tool_calls\u001b[0m:\n",
      "            \u001b[95musage_metadata\u001b[0m:\n",
      "                \u001b[92minput_tokens\u001b[0m: 51\n",
      "                \u001b[92moutput_tokens\u001b[0m: 16\n",
      "                \u001b[92mtotal_tokens\u001b[0m: 67\n",
      "                \u001b[92minput_token_details\u001b[0m: {\"audio\": 0, \"cache_read\": 0}\n",
      "                \u001b[92moutput_token_details\u001b[0m: {\"audio\": 0, \"reasoning\": 0}\n",
      "        \u001b[93mindex [2]\u001b[0m\n",
      "            \u001b[95mcontent\u001b[0m: \"[{\"url\": \"https://news.google.com/rss/articles/CBMiakFVX3lxTE9xNUotVlNTTEQzTnZDMVEwOUdNVTVjQlZVLVdLcFNWd1NuNXJ2a0NsNnFfUDNmTzg2bzQzbTNSRlRNTUc2UU12T2F0c28xaE02Sk5tUWlHZkxXemdGVDlNUnFiQVdkY2xkZ3c?oc=5\", \"content\": \"[8월26일] \\\"AI 챗봇의 '의인화' 없애지 않으면 큰 문제 생길 것\\\" - AI타임스\"}, {\"url\": \"https://news.google.com/rss/articles/CBMiSEFVX3lxTE9ZR3pkUS1CRW95Ykh2ejVQYWo3RHFpU185d09XcmF1OG1VbEdUSE5fLURPSkhLNGtpSzI2M1pRMnVCSURUcFZOSw?oc=5\", \"content\": \"독자 AI 파운데이션 모델, 대한민국 AI의 새로운 출발선에서 - SK텔레콤 뉴스룸\"}, {\"url\": \"https://news.google.com/rss/articles/CBMiU0FVX3lxTE1NZFUyRnI0MmVrb0Z2ZWZMLUNpR2pKM3RvRG1nNUJkbmFKQmRsTGlocElKeU8wUlR1VzNrVlBZMzVuMGJ0b2p1dlE3cnN6bDJZQ3J3?oc=5\", \"content\": \"'폭탄 제조·머스크 암살'에 진지한 답변…AI 그록, 수십만건 대화기록 유출 파장 - 네이트\"}, {\"url\": \"https://news.google.com/rss/articles/CBMiakFVX3lxTE9IS09QWmk1MTZPTk1EcXZzMksxMmxfY3dUbXFRUFMtaEl0ZV92UWt0bjZxemNtdUxIQ0ZLWGo3RGoyNXFFajZrY0VXMDdmNTEwQkE0R3ljVnhMQkVZb3FzSzcwVkhYbm5SYUE?oc=5\", \"content\": \"[AI 구기자] AI 기본법 하위법령 이달 말 공개… “모호한 규정 해소가 관건” - newstheai.com\"}, {\"url\": \"https://news.google.com/rss/articles/CBMiVkFVX3lxTE8wdEdXTnY3OWFBM1c5V19BM0pZZXNremdnWFNHQ1JsRS1MMUQxc0Jhdmx2d0xaY2UtWnpMSlhPTjhYeEk1Wk1JSFZ1dDVmbzhQUm4zRXFB?oc=5\", \"content\": \"[교육이 미래다] ‘화학 반응 예측 AI 모델’ 네이처에 실려 - 중앙일보\"}]\"\n",
      "            \u001b[95madditional_kwargs\u001b[0m: {}\n",
      "            \u001b[95mresponse_metadata\u001b[0m: {}\n",
      "            \u001b[95mtype\u001b[0m: \"tool\"\n",
      "            \u001b[95mname\u001b[0m: \"search_keyword\"\n",
      "            \u001b[95mid\u001b[0m: \"427e4543-84e8-4ab5-9ef1-d293ed3c9199\"\n",
      "            \u001b[95mtool_call_id\u001b[0m: \"call_7gLTs7Z1AL3vYzQszReMFH9D\"\n",
      "            \u001b[95martifact\u001b[0m: None\n",
      "            \u001b[95mstatus\u001b[0m: \"success\"\n",
      "        \u001b[93mindex [3]\u001b[0m\n",
      "            \u001b[95mcontent\u001b[0m: \"다음은 최근 AI 관련 주요 뉴스입니다:\n",
      "\n",
      "1. \"AI 챗봇의 '의인화' 없애지 않으면 큰 문제 생길 것\" (AI타임스, 8월 26일)  \n",
      "→ AI 챗봇을 사람처럼 의인화하는 데서 발생할 수 있는 문제점에 대한 경고입니다.  \n",
      "(기사 보기)\n",
      "\n",
      "2. \"독자 AI 파운데이션 모델, 대한민국 AI의 새로운 출발선에서\" (SK텔레콤 뉴스룸)  \n",
      "→ 자체 개발한 AI 파운데이션 모델이 국내 AI 생태계에 미치는 영향에 대한 소식입니다.  \n",
      "(기사 보기)\n",
      "\n",
      "3. \"'폭탄 제조·머스크 암살'에 진지한 답변…AI 그록, 수십만건 대화기록 유출 파장\" (네이트)  \n",
      "→ AI 챗봇 그록(Grok)에서 민감한 내용의 대화기록이 대규모로 유출된 사건에 관한 내용입니다.  \n",
      "(기사 보기)\n",
      "\n",
      "4. \"AI 기본법 하위법령 이달 말 공개… ‘모호한 규정 해소가 관건’\" (newstheai.com)  \n",
      "→ AI 규제와 활용 방안에 관한 법적 기반이 마련되고 있다는 소식입니다.  \n",
      "(기사 보기)\n",
      "\n",
      "5. \"‘화학 반응 예측 AI 모델’ 네이처에 실려\" (중앙일보)  \n",
      "→ 화학 반응을 예측하는 AI 모델이 과학 저널 네이처에 소개된 뉴스입니다.  \n",
      "(기사 보기)\n",
      "\n",
      "각 제목을 클릭(터치)하시면 자세한 기사 내용을 확인하실 수 있습니다. 추가 정보가 필요하시면 말씀해 주세요!\"\n",
      "            \u001b[95madditional_kwargs\u001b[0m: {\"refusal\": None}\n",
      "            \u001b[95mresponse_metadata\u001b[0m:\n",
      "                \u001b[92mtoken_usage\u001b[0m:\n",
      "                    \u001b[96mcompletion_tokens\u001b[0m: 371\n",
      "                    \u001b[96mprompt_tokens\u001b[0m: 763\n",
      "                    \u001b[96mtotal_tokens\u001b[0m: 1134\n",
      "                    \u001b[96mcompletion_tokens_details\u001b[0m: {\"accepted_prediction_tokens\": 0, \"audio_tokens\": 0, \"reasoning_tokens\": 0, \"rejected_prediction_tokens\": 0}\n",
      "                    \u001b[96mprompt_tokens_details\u001b[0m: {\"audio_tokens\": 0, \"cached_tokens\": 0}\n",
      "                \u001b[92mmodel_name\u001b[0m: \"gpt-4.1-2025-04-14\"\n",
      "                \u001b[92msystem_fingerprint\u001b[0m: \"fp_daf5fcc80a\"\n",
      "                \u001b[92mid\u001b[0m: \"chatcmpl-C8yxu9h1eFt3xcPeZZh5b9utrki0w\"\n",
      "                \u001b[92mservice_tier\u001b[0m: \"default\"\n",
      "                \u001b[92mfinish_reason\u001b[0m: \"stop\"\n",
      "                \u001b[92mlogprobs\u001b[0m: None\n",
      "            \u001b[95mtype\u001b[0m: \"ai\"\n",
      "            \u001b[95mname\u001b[0m: None\n",
      "            \u001b[95mid\u001b[0m: \"run--a70fba16-6623-4f3d-a23f-9d70ff63c394-0\"\n",
      "            \u001b[95mexample\u001b[0m: False\n",
      "            \u001b[95mtool_calls\u001b[0m:\n",
      "            \u001b[95minvalid_tool_calls\u001b[0m:\n",
      "            \u001b[95musage_metadata\u001b[0m:\n",
      "                \u001b[92minput_tokens\u001b[0m: 763\n",
      "                \u001b[92moutput_tokens\u001b[0m: 371\n",
      "                \u001b[92mtotal_tokens\u001b[0m: 1134\n",
      "                \u001b[92minput_token_details\u001b[0m: {\"audio\": 0, \"cache_read\": 0}\n",
      "                \u001b[92moutput_token_details\u001b[0m: {\"audio\": 0, \"reasoning\": 0}\n",
      "        \u001b[93mindex [4]\u001b[0m\n",
      "            \u001b[95mcontent\u001b[0m: \"LangGraph 가 무엇인지 조사하여 알려주세요!\"\n",
      "            \u001b[95madditional_kwargs\u001b[0m: {}\n",
      "            \u001b[95mresponse_metadata\u001b[0m: {}\n",
      "            \u001b[95mtype\u001b[0m: \"human\"\n",
      "            \u001b[95mname\u001b[0m: None\n",
      "            \u001b[95mid\u001b[0m: \"34daa513-132e-44af-986c-df93154537a8\"\n",
      "            \u001b[95mexample\u001b[0m: False\n",
      "        \u001b[93mindex [5]\u001b[0m\n",
      "            \u001b[95mcontent\u001b[0m: \"\"\n",
      "            \u001b[95madditional_kwargs\u001b[0m:\n",
      "                \u001b[92mtool_calls\u001b[0m:\n",
      "                    \u001b[92mindex [0]\u001b[0m\n",
      "                        \u001b[96mid\u001b[0m: \"call_gGjPjxD2ZYmHT4N9El4kFOWf\"\n",
      "                        \u001b[96mfunction\u001b[0m: {\"arguments\": \"{\"query\":\"LangGraph\"}\", \"name\": \"search_keyword\"}\n",
      "                        \u001b[96mtype\u001b[0m: \"function\"\n",
      "                \u001b[92mrefusal\u001b[0m: None\n",
      "            \u001b[95mresponse_metadata\u001b[0m:\n",
      "                \u001b[92mtoken_usage\u001b[0m:\n",
      "                    \u001b[96mcompletion_tokens\u001b[0m: 15\n",
      "                    \u001b[96mprompt_tokens\u001b[0m: 1151\n",
      "                    \u001b[96mtotal_tokens\u001b[0m: 1166\n",
      "                    \u001b[96mcompletion_tokens_details\u001b[0m: {\"accepted_prediction_tokens\": 0, \"audio_tokens\": 0, \"reasoning_tokens\": 0, \"rejected_prediction_tokens\": 0}\n",
      "                    \u001b[96mprompt_tokens_details\u001b[0m: {\"audio_tokens\": 0, \"cached_tokens\": 1024}\n",
      "                \u001b[92mmodel_name\u001b[0m: \"gpt-4.1-2025-04-14\"\n",
      "                \u001b[92msystem_fingerprint\u001b[0m: \"fp_daf5fcc80a\"\n",
      "                \u001b[92mid\u001b[0m: \"chatcmpl-C8yzYUYvovSEMEF2k5qhBpb2vLTGx\"\n",
      "                \u001b[92mservice_tier\u001b[0m: \"default\"\n",
      "                \u001b[92mfinish_reason\u001b[0m: \"tool_calls\"\n",
      "                \u001b[92mlogprobs\u001b[0m: None\n",
      "            \u001b[95mtype\u001b[0m: \"ai\"\n",
      "            \u001b[95mname\u001b[0m: None\n",
      "            \u001b[95mid\u001b[0m: \"run--8b0acd4e-537b-4acb-bb3c-bbcc06a74cec-0\"\n",
      "            \u001b[95mexample\u001b[0m: False\n",
      "            \u001b[95mtool_calls\u001b[0m:\n",
      "                \u001b[95mindex [0]\u001b[0m\n",
      "                    \u001b[96mname\u001b[0m: \"search_keyword\"\n",
      "                    \u001b[96margs\u001b[0m: {\"query\": \"LangGraph\"}\n",
      "                    \u001b[96mid\u001b[0m: \"call_gGjPjxD2ZYmHT4N9El4kFOWf\"\n",
      "                    \u001b[96mtype\u001b[0m: \"tool_call\"\n",
      "            \u001b[95minvalid_tool_calls\u001b[0m:\n",
      "            \u001b[95musage_metadata\u001b[0m:\n",
      "                \u001b[92minput_tokens\u001b[0m: 1151\n",
      "                \u001b[92moutput_tokens\u001b[0m: 15\n",
      "                \u001b[92mtotal_tokens\u001b[0m: 1166\n",
      "                \u001b[92minput_token_details\u001b[0m: {\"audio\": 0, \"cache_read\": 1024}\n",
      "                \u001b[92moutput_token_details\u001b[0m: {\"audio\": 0, \"reasoning\": 0}\n",
      "        \u001b[93mindex [6]\u001b[0m\n",
      "            \u001b[95mcontent\u001b[0m: \"[수정된 웹 검색 결과] \n",
      "LangGraph는 상태 기반의 다중 액터 애플리케이션을 LLM을 활용해 구축할 수 있도록 지원합니다.\n",
      "LangGraph는 사이클 흐름, 제어 가능성, 지속성, 클라우드 배포 기능을 제공하는 오픈 소스 라이브러리입니다.\n",
      "\n",
      "자세한 튜토리얼은 [LangGraph 튜토리얼](https://langchain-ai.github.io/langgraph/tutorials/) 과\n",
      "테디노트의 [랭체인 한국어 튜토리얼](https://wikidocs.net/233785) 을 참고하세요.\"\n",
      "            \u001b[95madditional_kwargs\u001b[0m: {}\n",
      "            \u001b[95mresponse_metadata\u001b[0m: {}\n",
      "            \u001b[95mtype\u001b[0m: \"tool\"\n",
      "            \u001b[95mname\u001b[0m: None\n",
      "            \u001b[95mid\u001b[0m: \"f446e43b-75e7-419f-8b27-cd34eb19a9f2\"\n",
      "            \u001b[95mtool_call_id\u001b[0m: \"call_gGjPjxD2ZYmHT4N9El4kFOWf\"\n",
      "            \u001b[95martifact\u001b[0m: None\n",
      "            \u001b[95mstatus\u001b[0m: \"success\"\n",
      "        \u001b[93mindex [7]\u001b[0m\n",
      "            \u001b[95mcontent\u001b[0m: \"LangGraph는 상태 기반(State-based)의 다중 액터(multi-actor) 애플리케이션을 대형 언어모델(LLM, 예: GPT-4 등)을 활용해서 쉽고 효율적으로 구축할 수 있게 해주는 오픈소스 라이브러리입니다.\n",
      "\n",
      "주요 특징:\n",
      "\n",
      "- 사이클 흐름(Cyclic flow): 단방향·단순 논리가 아닌, 복잡하게 순환하거나 분기되는 플로우도 설계할 수 있습니다.\n",
      "- 제어 가능성: 애플리케이션의 상태(state)나 흐름을 세밀하게 통제할 수 있습니다.\n",
      "- 지속성(Persistence): 처리 중인 데이터나 상태 정보를 저장해 중단 후 재실행이 가능합니다.\n",
      "- 클라우드 배포: 서버리스 환경 등에서 클라우드로 손쉽게 배포할 수 있습니다.\n",
      "\n",
      "LangGraph는 주로 대화형 AI, 워크플로우 오케스트레이션, 멀티 에이전트 시스템 등 복잡한 LLM 기반 서비스 개발에 폭넓게 사용됩니다.\n",
      "\n",
      "더 자세한 정보와 실습은 다음 자료를 참고하세요:  \n",
      "- 공식 LangGraph 튜토리얼: https://langchain-ai.github.io/langgraph/tutorials/  \n",
      "- 한국어 튜토리얼(위키독스): https://wikidocs.net/233785 \n",
      "\n",
      "추가로 궁금한 점이 있으면 물어보세요!\"\n",
      "            \u001b[95madditional_kwargs\u001b[0m: {\"refusal\": None}\n",
      "            \u001b[95mresponse_metadata\u001b[0m:\n",
      "                \u001b[92mtoken_usage\u001b[0m:\n",
      "                    \u001b[96mcompletion_tokens\u001b[0m: 306\n",
      "                    \u001b[96mprompt_tokens\u001b[0m: 1310\n",
      "                    \u001b[96mtotal_tokens\u001b[0m: 1616\n",
      "                    \u001b[96mcompletion_tokens_details\u001b[0m: {\"accepted_prediction_tokens\": 0, \"audio_tokens\": 0, \"reasoning_tokens\": 0, \"rejected_prediction_tokens\": 0}\n",
      "                    \u001b[96mprompt_tokens_details\u001b[0m: {\"audio_tokens\": 0, \"cached_tokens\": 1152}\n",
      "                \u001b[92mmodel_name\u001b[0m: \"gpt-4.1-2025-04-14\"\n",
      "                \u001b[92msystem_fingerprint\u001b[0m: \"fp_daf5fcc80a\"\n",
      "                \u001b[92mid\u001b[0m: \"chatcmpl-C8z3Wy7eiGGrcsfeVr4zPp43QBbHF\"\n",
      "                \u001b[92mservice_tier\u001b[0m: \"default\"\n",
      "                \u001b[92mfinish_reason\u001b[0m: \"stop\"\n",
      "                \u001b[92mlogprobs\u001b[0m: None\n",
      "            \u001b[95mtype\u001b[0m: \"ai\"\n",
      "            \u001b[95mname\u001b[0m: None\n",
      "            \u001b[95mid\u001b[0m: \"run--edeb2b09-b009-462e-967c-87800b1f51a2-0\"\n",
      "            \u001b[95mexample\u001b[0m: False\n",
      "            \u001b[95mtool_calls\u001b[0m:\n",
      "            \u001b[95minvalid_tool_calls\u001b[0m:\n",
      "            \u001b[95musage_metadata\u001b[0m:\n",
      "                \u001b[92minput_tokens\u001b[0m: 1310\n",
      "                \u001b[92moutput_tokens\u001b[0m: 306\n",
      "                \u001b[92mtotal_tokens\u001b[0m: 1616\n",
      "                \u001b[92minput_token_details\u001b[0m: {\"audio\": 0, \"cache_read\": 1152}\n",
      "                \u001b[92moutput_token_details\u001b[0m: {\"audio\": 0, \"reasoning\": 0}\n",
      "        \u001b[93mindex [8]\u001b[0m\n",
      "            \u001b[95mcontent\u001b[0m: \"내 이름은 `Charlie` 입니다. 생성AI 4기 교육생입니다. 만나서 반가워요\"\n",
      "            \u001b[95madditional_kwargs\u001b[0m: {}\n",
      "            \u001b[95mresponse_metadata\u001b[0m: {}\n",
      "            \u001b[95mtype\u001b[0m: \"human\"\n",
      "            \u001b[95mname\u001b[0m: None\n",
      "            \u001b[95mid\u001b[0m: \"8c035bbe-dfc1-4219-b2c9-8ef0b263f8c4\"\n",
      "            \u001b[95mexample\u001b[0m: False\n",
      "        \u001b[93mindex [9]\u001b[0m\n",
      "            \u001b[95mcontent\u001b[0m: \"Charlie님, 만나서 반갑습니다!  \n",
      "생성AI 4기 교육생이시군요. 앞으로 AI와 관련된 궁금한 점이나 도움이 필요하실 때 언제든 편하게 말씀해 주세요.  \n",
      "함께 성장하는 시간 되었으면 좋겠습니다. 😊  \n",
      "특별히 관심 있는 AI 분야나 배우고 싶은 내용이 있으신가요?\"\n",
      "            \u001b[95madditional_kwargs\u001b[0m: {\"refusal\": None}\n",
      "            \u001b[95mresponse_metadata\u001b[0m:\n",
      "                \u001b[92mtoken_usage\u001b[0m:\n",
      "                    \u001b[96mcompletion_tokens\u001b[0m: 78\n",
      "                    \u001b[96mprompt_tokens\u001b[0m: 1694\n",
      "                    \u001b[96mtotal_tokens\u001b[0m: 1772\n",
      "                    \u001b[96mcompletion_tokens_details\u001b[0m: {\"accepted_prediction_tokens\": 0, \"audio_tokens\": 0, \"reasoning_tokens\": 0, \"rejected_prediction_tokens\": 0}\n",
      "                    \u001b[96mprompt_tokens_details\u001b[0m: {\"audio_tokens\": 0, \"cached_tokens\": 0}\n",
      "                \u001b[92mmodel_name\u001b[0m: \"gpt-4.1-2025-04-14\"\n",
      "                \u001b[92msystem_fingerprint\u001b[0m: \"fp_daf5fcc80a\"\n",
      "                \u001b[92mid\u001b[0m: \"chatcmpl-C92EEhAyQKsFgFFlDzrRnCEcaJOZY\"\n",
      "                \u001b[92mservice_tier\u001b[0m: \"default\"\n",
      "                \u001b[92mfinish_reason\u001b[0m: \"stop\"\n",
      "                \u001b[92mlogprobs\u001b[0m: None\n",
      "            \u001b[95mtype\u001b[0m: \"ai\"\n",
      "            \u001b[95mname\u001b[0m: None\n",
      "            \u001b[95mid\u001b[0m: \"run--97568e78-da3a-4888-8c9b-fb33a676cca2-0\"\n",
      "            \u001b[95mexample\u001b[0m: False\n",
      "            \u001b[95mtool_calls\u001b[0m:\n",
      "            \u001b[95minvalid_tool_calls\u001b[0m:\n",
      "            \u001b[95musage_metadata\u001b[0m:\n",
      "                \u001b[92minput_tokens\u001b[0m: 1694\n",
      "                \u001b[92moutput_tokens\u001b[0m: 78\n",
      "                \u001b[92mtotal_tokens\u001b[0m: 1772\n",
      "                \u001b[92minput_token_details\u001b[0m: {\"audio\": 0, \"cache_read\": 0}\n",
      "                \u001b[92moutput_token_details\u001b[0m: {\"audio\": 0, \"reasoning\": 0}\n",
      "        \u001b[93mindex [10]\u001b[0m\n",
      "            \u001b[95mcontent\u001b[0m: \"내 이름이 뭐라고 했지?\"\n",
      "            \u001b[95madditional_kwargs\u001b[0m: {}\n",
      "            \u001b[95mresponse_metadata\u001b[0m: {}\n",
      "            \u001b[95mtype\u001b[0m: \"human\"\n",
      "            \u001b[95mname\u001b[0m: None\n",
      "            \u001b[95mid\u001b[0m: \"66337cc3-379d-4d24-8459-f157a96625b8\"\n",
      "            \u001b[95mexample\u001b[0m: False\n",
      "        \u001b[93mindex [11]\u001b[0m\n",
      "            \u001b[95mcontent\u001b[0m: \"당신의 이름은 \"Charlie\"입니다!  \n",
      "필요할 때 언제든 다시 불러드릴 수 있어요. 혹시 개인화된 정보로 도와드릴 부분이 있으면 말씀해 주세요. 😊\"\n",
      "            \u001b[95madditional_kwargs\u001b[0m: {\"refusal\": None}\n",
      "            \u001b[95mresponse_metadata\u001b[0m:\n",
      "                \u001b[92mtoken_usage\u001b[0m:\n",
      "                    \u001b[96mcompletion_tokens\u001b[0m: 47\n",
      "                    \u001b[96mprompt_tokens\u001b[0m: 1787\n",
      "                    \u001b[96mtotal_tokens\u001b[0m: 1834\n",
      "                    \u001b[96mcompletion_tokens_details\u001b[0m: {\"accepted_prediction_tokens\": 0, \"audio_tokens\": 0, \"reasoning_tokens\": 0, \"rejected_prediction_tokens\": 0}\n",
      "                    \u001b[96mprompt_tokens_details\u001b[0m: {\"audio_tokens\": 0, \"cached_tokens\": 1664}\n",
      "                \u001b[92mmodel_name\u001b[0m: \"gpt-4.1-2025-04-14\"\n",
      "                \u001b[92msystem_fingerprint\u001b[0m: \"fp_daf5fcc80a\"\n",
      "                \u001b[92mid\u001b[0m: \"chatcmpl-C92EGin7nuzbNp10mRDxTGLN8xMIR\"\n",
      "                \u001b[92mservice_tier\u001b[0m: \"default\"\n",
      "                \u001b[92mfinish_reason\u001b[0m: \"stop\"\n",
      "                \u001b[92mlogprobs\u001b[0m: None\n",
      "            \u001b[95mtype\u001b[0m: \"ai\"\n",
      "            \u001b[95mname\u001b[0m: None\n",
      "            \u001b[95mid\u001b[0m: \"run--4c093693-0892-4164-b922-d49f7c1bfb8e-0\"\n",
      "            \u001b[95mexample\u001b[0m: False\n",
      "            \u001b[95mtool_calls\u001b[0m:\n",
      "            \u001b[95minvalid_tool_calls\u001b[0m:\n",
      "            \u001b[95musage_metadata\u001b[0m:\n",
      "                \u001b[92minput_tokens\u001b[0m: 1787\n",
      "                \u001b[92moutput_tokens\u001b[0m: 47\n",
      "                \u001b[92mtotal_tokens\u001b[0m: 1834\n",
      "                \u001b[92minput_token_details\u001b[0m: {\"audio\": 0, \"cache_read\": 1664}\n",
      "                \u001b[92moutput_token_details\u001b[0m: {\"audio\": 0, \"reasoning\": 0}\n"
     ]
    }
   ],
   "source": [
    "from langchain_teddynote.messages import display_message_tree\n",
    "\n",
    "# 메타데이터(tree 형태로 출력)\n",
    "display_message_tree(snapshot.values)\n"
   ]
  },
  {
   "cell_type": "markdown",
   "metadata": {},
   "source": [
    "05. 노드의 단계별 스트리밍 출력"
   ]
  },
  {
   "cell_type": "code",
   "execution_count": 121,
   "metadata": {},
   "outputs": [],
   "source": [
    "from langchain_core.runnables import RunnableConfig\n",
    "\n",
    "# 질문\n",
    "question = \"2024년 노벨 문학상 관련 뉴스를 알려주세요.\"\n",
    "\n",
    "# 초기 입력 상태를 정의\n",
    "input = State(dummy_data=\"테스트 문자열\", messages=[(\"user\", question)])\n",
    "\n",
    "# config 설정\n",
    "config = RunnableConfig(\n",
    "    recursion_limit=10,  # 최대 10개의 노드까지 방문. 그 이상은 RecursionError 발생\n",
    "    configurable={\"thread_id\": \"1\"},  # 스레드 ID 설정\n",
    "    tags=[\"my-tag\"],  # Tag\n",
    ")\n"
   ]
  },
  {
   "cell_type": "code",
   "execution_count": 122,
   "metadata": {},
   "outputs": [
    {
     "name": "stdout",
     "output_type": "stream",
     "text": [
      "\n",
      "[ chatbot ]\n",
      "\n",
      "==================================\u001b[1m Ai Message \u001b[0m==================================\n",
      "Tool Calls:\n",
      "  tavily_web_search (call_vLCbCXyoVZsAcrGa1z4xzohr)\n",
      " Call ID: call_vLCbCXyoVZsAcrGa1z4xzohr\n",
      "  Args:\n",
      "    query: 2024년 노벨 문학상 관련 뉴스\n",
      "\n",
      "[ tools ]\n",
      "\n",
      "=================================\u001b[1m Tool Message \u001b[0m=================================\n",
      "Name: tavily_web_search\n",
      "\n",
      "[{\"url\": \"https://m.youtube.com/watch?v=GkdSjreKgwc&t=1140s\", \"title\": \"[다시보기] 노벨문학상의 나라 됐다…한강, 한국인 첫 수상 - YouTube\", \"content\": \"[다시보기] 노벨문학상의 나라 됐다…한강, 한국인 첫 수상 | 2024년 10월 11일 뉴스A\\n\\n채널A News\\n482 likes\\n27952 views\\n11 Oct 2024\\n노벨문학상의 나라 됐다…한강, 한국인 첫 수상 / “한강, 캄캄한 방에서 공상 즐기던 소녀” / ‘한강 시대’ 연 독자 편지…“50대가 전성기” / 한강 “가장 최근 작품인 ‘작별하지 않는다’ 첫 독자에 추천” / 노벨문학상 마지막 퍼즐 맞춘 번역…독학으로 한국어 배워 / [아는기자]작가 한강의 경쟁력…노벨문학상 선정 이유는?  / “우크라 전쟁 치열”…한강, 기자회견 안 한다 / 베스트셀러 1위~10위 모두 한강…‘한강 신드롬’ / \\n무라카미 하루키 제쳤다…日 서점도 ‘한강 오픈런’ / 음주사고 6일 만에…친문 윤건영 “문다혜 엄정 처벌받아야” / 경찰청장 “문다혜에 위험운전치상 혐의 검토” / 野 “한동훈, 법무장관 때 뭐했나…특검 자초” / 한동훈 “장관은 수사 개입 안 한다” 반박 / 당선무효형 땐 대통령직 상실?…“법률상 그렇다” / 지방선거보다 높은 사전투표율…영광서 사활 건 전투 / 현역 의원 14명 기소…미니 총선 열리나 / [더스팟50]백악관 입성의 열쇠 펜실베이니아…해리스도 트럼프도 ‘올인’ / 아이스박스 타고 SOS…허리케인 ‘밀턴’에 최소 14명 사망 / 北 수해복구 현장 포착…로프 없이 15층 작업 / 대리기사 보내고 직접 운전…지하주차장서 30대 ‘쾅쾅’ / 은행에서 난동…수갑 채우자 “느그 서장하고 밥도 먹고” / [단독]공무원 KTX 마일리지 7억 ‘내 주머니로’ / 기준금리 0.25%p 인하…38개월 만에 긴축 종료 / 받고 받고 받고 더…고려아연 ‘쩐의 전쟁’ 89만 원까지 / 카페인 10% 들어가도 ‘디카페인’…국내 기준 낮아 / 운전대·페달 없앴다…‘로보택시’ 공개 / [여랑야랑]민주당픽 101 / 다시 선 외나무다리 / ‘한강’으로 대동단결 / 제38회 인촌상 시상식 개최 / [날씨]주말 맑고 큰 일교차…중서부 미세먼지 ‘나쁨’ / [앵커의 마침표]세계의 중심이 되다\\n\\n[뉴스A] 채널A 뉴스A (19:00~20:10)\\n\\n[채널A 뉴스·시사 프로그램｜유튜브 라이브 방송시간]\\n\\n〈평일〉\\n08시 00분 라디오쇼 정치시그널·경제시그널 (유튜브 라이브)\\n08시 50분 김진의 돌직구 쇼\\n10시 20분 김진의 더라방 (유튜브 라이브)\\n12시 00분 뉴스A 라이브\\n15시 50분 이야기 더\\n17시 10분 뉴스TOP10\\n19시 00분 뉴스A\\n\\n〈주말〉\\n12시 00분 토요랭킹쇼·뉴스A 라이브\\n17시 40분 뉴스TOP10\\n19시 00분 뉴스A\\n\\n#노벨문학상 #한강 #뉴스A #채널A뉴스 #다시보기\\n\\n▷ 공식 홈페이지 http://www.ichannela.com\\n▷ 공식 페이스북 https://www.facebook.com/channelanews\\n▷ 공식 유튜브 https://www.youtube.com/tvchanews\\n157 comments\", \"score\": 0.8909888, \"raw_content\": \"# [다시보기] 노벨문학상의 나라 됐다…한강, 한국인 첫 수상 | 2024년 10월 11일 뉴스A\\n\\n채널A News\\n482 likes\\n27952 views\\n11 Oct 2024\\n노벨문학상의 나라 됐다…한강, 한국인 첫 수상 / “한강, 캄캄한 방에서 공상 즐기던 소녀” / ‘한강 시대’ 연 독자 편지…“50대가 전성기” / 한강 “가장 최근 작품인 ‘작별하지 않는다’ 첫 독자에 추천” / 노벨문학상 마지막 퍼즐 맞춘 번역…독학으로 한국어 배워 / [아는기자]작가 한강의 경쟁력…노벨문학상 선정 이유는?  / “우크라 전쟁 치열”…한강, 기자회견 안 한다 / 베스트셀러 1위~10위 모두 한강…‘한강 신드롬’ / \\n무라카미 하루키 제쳤다…日 서점도 ‘한강 오픈런’ / 음주사고 6일 만에…친문 윤건영 “문다혜 엄정 처벌받아야” / 경찰청장 “문다혜에 위험운전치상 혐의 검토” / 野 “한동훈, 법무장관 때 뭐했나…특검 자초” / 한동훈 “장관은 수사 개입 안 한다” 반박 / 당선무효형 땐 대통령직 상실?…“법률상 그렇다” / 지방선거보다 높은 사전투표율…영광서 사활 건 전투 / 현역 의원 14명 기소…미니 총선 열리나 / [더스팟50]백악관 입성의 열쇠 펜실베이니아…해리스도 트럼프도 ‘올인’ / 아이스박스 타고 SOS…허리케인 ‘밀턴’에 최소 14명 사망 / 北 수해복구 현장 포착…로프 없이 15층 작업 / 대리기사 보내고 직접 운전…지하주차장서 30대 ‘쾅쾅’ / 은행에서 난동…수갑 채우자 “느그 서장하고 밥도 먹고” / [단독]공무원 KTX 마일리지 7억 ‘내 주머니로’ / 기준금리 0.25%p 인하…38개월 만에 긴축 종료 / 받고 받고 받고 더…고려아연 ‘쩐의 전쟁’ 89만 원까지 / 카페인 10% 들어가도 ‘디카페인’…국내 기준 낮아 / 운전대·페달 없앴다…‘로보택시’ 공개 / [여랑야랑]민주당픽 101 / 다시 선 외나무다리 / ‘한강’으로 대동단결 / 제38회 인촌상 시상식 개최 / [날씨]주말 맑고 큰 일교차…중서부 미세먼지 ‘나쁨’ / [앵커의 마침표]세계의 중심이 되다\\n\\n[뉴스A] 채널A 뉴스A (19:00~20:10)\\n\\n[채널A 뉴스·시사 프로그램｜유튜브 라이브 방송시간]\\n\\n〈평일〉\\n08시 00분 라디오쇼 정치시그널·경제시그널 (유튜브 라이브)\\n08시 50분 김진의 돌직구 쇼\\n10시 20분 김진의 더라방 (유튜브 라이브)\\n12시 00분 뉴스A 라이브\\n15시 50분 이야기 더\\n17시 10분 뉴스TOP10\\n19시 00분 뉴스A\\n\\n〈주말〉\\n12시 00분 토요랭킹쇼·뉴스A 라이브\\n17시 40분 뉴스TOP10\\n19시 00분 뉴스A\\n\\n#노벨문학상 #한강 #뉴스A #채널A뉴스 #다시보기\\n\\n▷ 공식 홈페이지 http://www.ichannela.com\\n▷ 공식 페이스북 https://www.facebook.com/channelanews\\n▷ 공식 유튜브 https://www.youtube.com/tvchanews\\n157 comments\"}, {\"url\": \"https://www.yna.co.kr/view/AKR20241010163751009\", \"title\": \"[2보] 노벨 문학상에 소설가 한강…한국 작가 최초 수상 쾌거 - 연합뉴스\", \"content\": \"(서울=연합뉴스) 권수현 기자 = 2024년 노벨 문학상의 영예는 우리나라 소설가 한강(53)에게 돌아갔다 . 한국인이 노벨상을 수상한 것은 지난 2000년 평화상을 탄 고(故) 김대중 전 대통령에 이어 두번째다. 스웨덴 한림원은 10일(현지시간) 이같은 결과를 발표했다.\", \"score\": 0.8706085, \"raw_content\": \"# [2보] 노벨 문학상에 소설가 한강…한국 작가 최초 수상 쾌거\\n\\n송고2024-10-10 20:05\\n\\n송고 2024년10월10일 20시05분\\n\\n2024년 노벨 문학상의 영예는 우리나라 소설가 한강(53)에게 돌아갔다.\\n\\n한국인이 노벨상을 수상한 것은 지난 2000년 평화상을 탄 고(故) 김대중 전 대통령에 이어 두번째다.\\n\\n스웨덴 한림원은 10일(현지시간) 이같은 결과를 발표했다.\\n\\n![권수현](https://img0.yna.co.kr/reporter/38353439393937.jpg)\\n![한강 작가](//img7.yna.co.kr/photo/cms/2024/09/20/72/PCM20240920000072003_P4.jpg)\\n\\n[포니정재단 제공. 재판매 및 DB 금지]\\n\\n(서울=연합뉴스) 권수현 기자 = 2024년 노벨 문학상의 영예는 우리나라 소설가 한강(53)에게 돌아갔다. 한국인이 노벨상을 수상한 것은 지난 2000년 평화상을 탄 고(故) 김대중 전 대통령에 이어 두번째다.\\n\\n스웨덴 한림원은 10일(현지시간) 이같은 결과를 발표했다.\\n\\n수상자에게는 상금 1천100만 크로나(약 14억3천만원)와 메달, 증서가 수여된다.\\n\\n이날 문학상에 이어 11일 평화상, 14일 경제학상 수상자가 발표될 예정이다.\\n\\n![[노벨상 홈페이지 캡처]](//img3.yna.co.kr/etc/inner/KR/2024/10/10/AKR20241010163751009_02_i_P4.jpg)\\n\\n[노벨상 홈페이지 캡처]\\n\\n앞서 7일에는 노벨 생리의학상 수상자로 마이크로RNA 발견에 기여한 미국 생물학자 빅터 앰브로스와 게리 러브컨이, 8일에는 노벨 물리학상 수상자로 인공지능(AI) 머신러닝(기계학습)의 기초를 확립한 존 홉필드와 제프리 힌턴이 선정됐다.\\n\\n9일 발표된 노벨 화학상은 미국 생화학자 데이비드 베이커와 구글의 AI 기업 딥마인드의 데미스 허사비스 최고 경영자(CEO)·존 점퍼(39) 연구원이 받았다.\\n\\n노벨상 시상식은 알프레드 노벨의 기일인 12월 10일 스웨덴 스톡홀름(생리의학·물리·화학·문학·경제상)과 노르웨이 오슬로(평화상)에서 열린다.\\n\\n*[제보는 카카오톡 okjebo](https://www.yna.co.kr/board/jebo/index?site=copyright_jebo_view)*\\n*<저작권자(c) 연합뉴스,*\\n*무단 전재-재배포, AI 학습 및 활용 금지>*\\n\\n2024/10/10 20:05 송고\\n2024년10월10일 20시05분 송고\\n\\n### [핫뉴스](https://www.yna.co.kr/theme/hotnews-history)\\n\\n![BTS 지민, 배우 송다은과 열애설…엘리베이터 영상 퍼져](https://img0.yna.co.kr/template/kr/20250827/kr_659_20250827115735_T2.jpg)\\n![재난영화인 줄…거대 모래폭풍에 아수라장](https://img7.yna.co.kr/etc/inner/KR/2025/08/27/AKR20250827065900704_01_i_T2.jpg)\\n![서울 강서구 오피스텔 옥상서 모녀 3명 추락해 사망](https://img9.yna.co.kr/photo/cms/2019/03/27/73/PCM20190327000373990_T2.jpg)\\n![인천 석모대교서 실종된 20대 이틀 만에 숨진 채 발견](https://img3.yna.co.kr/photo/cms/2018/01/04/08/C0A8CA3C00000160BFE542640001EB17_T2.jpeg)\\n![직장동료 40여명 명의로 150억 대출금 '꿀꺽' 일당 19명 송치](https://img5.yna.co.kr/template/kr/20250827/kr_659_20250827123359_T2.jpg)\\n![美식당 로고 바꿨다가…보수 반발에 트럼프까지 \\\"다 돌려놔\\\"](https://img6.yna.co.kr/template/kr/20250827/kr_659_20250827120230_T2.jpg)\\n![순찰 경찰보고 멈칫한 차량…그안에 100억대 도박사이트 수배자](https://img1.yna.co.kr/photo/cms/2022/03/24/56/PCM20220324000156990_T2.jpg)\\n![가정폭력 일삼다 부부동반 모임서 아내 살해…2심 징역 20년](https://img9.yna.co.kr/photo/cms/2024/02/26/37/PCM20240226000137990_T2.jpg)\\n\\n### 에디터스 픽Editor's Picks\\n\\n#### 영상\\n\\n![[영상] 인질 가족, '하마스 기습' 미공개 영상 22개월만에 공개](https://img6.yna.co.kr/mpic/YH/2025/08/27/MYH20250827008600704_P1.jpg)\\n![[영상] '피의자' 권성동 \\\"결백하다…특검, 언론과 결탁 수사기밀 흘려\\\"](https://img3.yna.co.kr/mpic/YH/2025/08/27/MYH20250827008300704_P1.jpg)\\n![[영상] 러 정찰기, 알래스카 ADIZ 진입…미국, 전투기 출격 대응](https://img3.yna.co.kr/mpic/YH/2025/08/26/MYH20250826011300704_P1.jpg)\\n\\n#### 뉴스\\n\\n![李대통령 '한미동맹·한일협력' 다지고 서울行…'디테일' 숙제 여전](https://img7.yna.co.kr/photo/yna/YH/2025/08/27/PYH2025082706620001300_T2.jpg)\\n![특검수사 한덕수 구속심사 시작…'尹 내란 방조·위증' 혐의](https://img1.yna.co.kr/photo/yna/YH/2025/08/27/PYH2025082712440001301_T2.jpg)\\n![권성동, 김건희특검 피의자 조사 출석…\\\"없는 죄 못 만들어\\\"](https://img8.yna.co.kr/photo/yna/YH/2025/08/27/PYH2025082706090001300_T2.jpg)\\n!['연준 장악' 위해 선 넘는 트럼프…세계 경제 타격 우려](https://img6.yna.co.kr/photo/reuters/2025/08/26/PRU20250826271301009_T2.jpg)\\n\\n### [오래 머문 뉴스](https://www.yna.co.kr/theme/long-stay-news/index)\\n\\n### 랭킹뉴스\\n\\n![[영상] 대체거래소가 연 '출퇴근길 주식거래'…2막 예고](https://img6.yna.co.kr/etc/inner/KR/2025/08/22/AKR20250822153100797_02_i_P2.jpg)\\n![[영상] \\\"반바지 입게 해주세요!\\\"…폭염이 바꿔놓은 '남성 오피스룩'](https://img8.yna.co.kr/etc/inner/KR/2025/08/22/AKR20250822159600797_01_i_P2.jpg)\\n![[영상] '모르는 엄마들' 뜻밖의 참전…10개월 공방 '모래학폭사건'](https://img3.yna.co.kr/etc/inner/KR/2025/08/22/AKR20250822160100797_01_i_P2.jpg)\\n![[BlaccTV] \\\"검은 연기 가득\\\"…주행 중 차량 화재에 운전자 극적 탈출](https://img4.yna.co.kr/etc/inner/KR/2025/08/21/AKR20250821163100797_01_i_P2.jpg)\\n\\n다양한 채널에서 연합뉴스를 만나보세요!\\n\\n©2025 Yonhapnews Agency\\n\\n다양한 채널에서 연합뉴스를 만나보세요!\\n\\n![한강 작가](https://img7.yna.co.kr/photo/cms/2024/09/20/72/PCM20240920000072003_P4.jpg)\\n\\n[포니정재단 제공. 재판매 및 DB 금지]\\n\\n![[노벨상 홈페이지 캡처]](https://img3.yna.co.kr/etc/inner/KR/2024/10/10/AKR20241010163751009_02_i_P4.jpg)\\n\\n[노벨상 홈페이지 캡처]\\n\\n![한강 작가](https://img9.yna.co.kr/photo/cms/2024/09/20/72/PCM20240920000072003_T2.jpg)\\n![[노벨상 홈페이지 캡처]](https://img5.yna.co.kr/etc/inner/KR/2024/10/10/AKR20241010163751009_02_i_T2.jpg)\"}, {\"url\": \"http://www.nobelscience.net/news/articleView.html?idxno=2189\", \"title\": \"2024년 노벨문학상에 한국의 '채식주의자' 작가 한강 수상자 선정\", \"content\": \"노벨위원회는 ‘한강’(Han Kang)이 노벨문학상을 받았다면서 1995년 출간된 한강의 첫 소설집 ‘여수의 사랑’을 비롯, 그가 국제적으로 명성을 얻은 계기가 된 ‘채식주의자’와 ‘소년이 온다’ 등 다양한 작품명을 소개했다. 한강(Han Kang)  2024년 노벨문학상은 “역사적 트라우마에 맞서고 인간 삶의 취약성을 폭로하는 강렬한 시적 산문으로 자기를 나타낸 한국의 작가 한강에게 수여합니다.”  그녀의 작품에서 한강은 역사적 트라우마와 보이지 않는 규칙에 맞서고, 그녀의 모든 작품에서 인간 삶의 취약성을 폭로한다. Novel.]  흰 – 경기도 파주시 : 문학 동네, 2016 [The White Book. – Originaltitel: 작별하지 않는다  Works in English  회복 하는 인간 / 지은이 한 강 ; 옮긴이 전 승희 = Convalescence / written by Han Kang ; translated from the Korean by Jeon Seung-Hee.\", \"score\": 0.8646883, \"raw_content\": \"|  |  |  |  |  |  |  |  |  |  |  |  |  |  |  |  |  |\\n| --- | --- | --- | --- | --- | --- | --- | --- | --- | --- | --- | --- | --- | --- | --- | --- | --- |\\n| |  | | --- | |  |          * [이전](javascript:articleHeader.move(   \\t\\t\\t\\t'prev',   \\t\\t\\t\\t'embargo_date',   \\t\\t\\t\\t'1728565736_2189',   \\t\\t\\t\\t'S1N8',   \\t\\t\\t\\t'S2N47',   \\t\\t\\t\\t'SRN1')) * [다음](javascript:articleHeader.move(   \\t\\t\\t\\t'next',   \\t\\t\\t\\t'embargo_date',   \\t\\t\\t\\t'1728565736_2189',   \\t\\t\\t\\t'S1N8',   \\t\\t\\t\\t'S2N47',   \\t\\t\\t\\t'SRN1'))  2024년 노벨문학상에 한국의 '채식주의자' 작가 한강 수상자 선정  * [페이스북](http://www.facebook.com/sharer.php?u=http%3A%2F%2Fwww.nobelscience.net%2Fnews%2FarticleView.html%3Fidxno%3D2189&t=2024%EB%85%84+%EB%85%B8%EB%B2%A8%EB%AC%B8%ED%95%99%EC%83%81%EC%97%90++%ED%95%9C%EA%B5%AD%EC%9D%98+%27%EC%B1%84%EC%8B%9D%EC%A3%BC%EC%9D%98%EC%9E%90%27+%EC%9E%91%EA%B0%80+%ED%95%9C%EA%B0%95+%EC%88%98%EC%83%81%EC%9E%90+%EC%84%A0%EC%A0%95 \\\"페이스북\\\") * [트위터](http://twitter.com/home?status=2024%EB%85%84+%EB%85%B8%EB%B2%A8%EB%AC%B8%ED%95%99%EC%83%81%EC%97%90++%ED%95%9C%EA%B5%AD%EC%9D%98+%27%EC%B1%84%EC%8B%9D%EC%A3%BC%EC%9D%98%EC%9E%90%27+%EC%9E%91%EA%B0%80+%ED%95%9C%EA%B0%95+%EC%88%98%EC%83%81%EC%9E%90+%EC%84%A0%EC%A0%95+http%3A%2F%2Fwww.nobelscience.net%2Fnews%2FarticleView.html%3Fidxno%3D2189 \\\"트위터\\\") * [구글](http://www.google.com/bookmarks/mark?op=add&title=2024%EB%85%84+%EB%85%B8%EB%B2%A8%EB%AC%B8%ED%95%99%EC%83%81%EC%97%90++%ED%95%9C%EA%B5%AD%EC%9D%98+%27%EC%B1%84%EC%8B%9D%EC%A3%BC%EC%9D%98%EC%9E%90%27+%EC%9E%91%EA%B0%80+%ED%95%9C%EA%B0%95+%EC%88%98%EC%83%81%EC%9E%90+%EC%84%A0%EC%A0%95&bkmk=http://www.nobelscience.net/news/articleView.html?idxno=2189 \\\"구글\\\") * [카카오스토리](javascript:window.open('https://story.kakao.com/share?url=http%3A%2F%2Fwww.nobelscience.net%2Fnews%2FarticleView.html%3Fidxno%3D2189', 'kakaostory', 'width=800, height=500' );returnfalse; \\\"카카오스토리\\\") * [메일](javascript:articleMail('2189'); \\\"메일\\\")   |  | | --- | | [HOME](http://www.nobelscience.net) [Nobel Prize](/news/articleList.html?sc_section_code=S1N8&view_type=sm) [Nobel News](/news/articleList.html?sc_sub_section_code=S2N47&view_type=sm) [Latest left](/news/articleList.html?sc_serial_code=SRN1&view_type=sm)  2024년 노벨문학상에 한국의 '채식주의자' 작가 한강 수상자 선정  * 노벨사이언스 * 승인 2024.10.10 22:08 * 댓글 0  * [글씨키우기](javascript:fontPlus();) * [글씨줄이기](javascript:fontMinus();)  * [메일보내기](javascript:articleMail('2189');) * [인쇄하기](javascript:articlePrint('2189');)  * [페이스북](http://www.facebook.com/sharer.php?u=http%3A%2F%2Fwww.nobelscience.net%2Fnews%2FarticleView.html%3Fidxno%3D2189&t=2024%EB%85%84+%EB%85%B8%EB%B2%A8%EB%AC%B8%ED%95%99%EC%83%81%EC%97%90++%ED%95%9C%EA%B5%AD%EC%9D%98+%27%EC%B1%84%EC%8B%9D%EC%A3%BC%EC%9D%98%EC%9E%90%27+%EC%9E%91%EA%B0%80+%ED%95%9C%EA%B0%95+%EC%88%98%EC%83%81%EC%9E%90+%EC%84%A0%EC%A0%95 \\\"페이스북\\\") * [트위터](http://twitter.com/home?status=2024%EB%85%84+%EB%85%B8%EB%B2%A8%EB%AC%B8%ED%95%99%EC%83%81%EC%97%90++%ED%95%9C%EA%B5%AD%EC%9D%98+%27%EC%B1%84%EC%8B%9D%EC%A3%BC%EC%9D%98%EC%9E%90%27+%EC%9E%91%EA%B0%80+%ED%95%9C%EA%B0%95+%EC%88%98%EC%83%81%EC%9E%90+%EC%84%A0%EC%A0%95+http%3A%2F%2Fwww.nobelscience.net%2Fnews%2FarticleView.html%3Fidxno%3D2189 \\\"트위터\\\") * [구글](http://www.google.com/bookmarks/mark?op=add&title=2024%EB%85%84+%EB%85%B8%EB%B2%A8%EB%AC%B8%ED%95%99%EC%83%81%EC%97%90++%ED%95%9C%EA%B5%AD%EC%9D%98+%27%EC%B1%84%EC%8B%9D%EC%A3%BC%EC%9D%98%EC%9E%90%27+%EC%9E%91%EA%B0%80+%ED%95%9C%EA%B0%95+%EC%88%98%EC%83%81%EC%9E%90+%EC%84%A0%EC%A0%95&bkmk=http://www.nobelscience.net/news/articleView.html?idxno=2189 \\\"구글\\\") * [카카오스토리](javascript:window.open('https://story.kakao.com/share?url=http%3A%2F%2Fwww.nobelscience.net%2Fnews%2FarticleView.html%3Fidxno%3D2189', 'kakaostory', 'width=800, height=500' );returnfalse; \\\"카카오스토리\\\") |   |  |  |  |  |  |  |  |  |  |  |  |  |  |  | | --- | --- | --- | --- | --- | --- | --- | --- | --- | --- | --- | --- | --- | --- | | 한림원은 역사적 트라우마에 맞서고 인간 생의 연약함 드러낸 강렬한 시적 산문 노벨상 수상은 김대중 前대통령 2000년 평화상 이후 두번째     |  | | --- | |  |       올해 노벨문학상 수상자가 우리나라 소설가, 한강(53)으로 결정됐다. 이는 한국 첫 노벨문학상의 쾌거이자, 한국인으로서 지난 2000년 노벨평화상을 탄 고 김대중 전 대통령에 이어 두 번째다. 24년 만의 일이다.  노벨위원회는 “역사적 트라우마에 맞서고 인간 삶의 연약함을 드러내는 강렬한 시적 산문을 쓴 작가”라고 노벨문학상 선정 이유를 밝혔다. 한강의 이번 노벨문학상 수상은 점점 커지고 있는 한국 문화의 세계적 영향력을 반영하고 있다는 평가가 나온다.    한강, 한국 문학의 새 역사를 쓰다     |  | | --- | |  | | 소설가 한강의 한국인 작가 최초 노벨문학상 수상은 최근 몇 년간 국제적 명성을 쌓기 시작한 한국문학이 이룩한 쾌거로 평가받고 있다.(노벨위원회) |   스웨덴 카롤린스카 연구소 노벨위원회는 2024년 노벨문학상에 한국 소설가 한강(53)을 선정했다. 한국인의 노벨상 수상은 지난 2000년 평화상을 탄 고(故) 김대중 전 대통령에 이어 이번이 두 번째다. 여성으로는 공동 수상자를 포함해 역대 121명 가운데 18번째다.  노벨위원회는 “역사적 트라우마에 맞서고 인간의 삶의 연약함을 드러낸 강렬한 시적 산문”이라며 노벨문학상 선정 이유를 밝혔다. 노벨위원회는 또 “한강은 자신의 작품에서 역사적 트라우마와 보이지 않는 지배에 정면으로 맞서며 인간의 삶의 연약함을 드러낸다”며 “그는 육체와 영혼, 산 자와 죽은자 간의 연결에 대해 독특한 인식을 지니며, 시적이고 실험적인 문체로 현대 산문의 혁신가가 됐다”고 강조했다.  특히 노벨위원회는 X 계정을 통해 한강의 이력과 주요 작품을 상세히 영어로 소개하면서, 한강의 이름과 주요 작품명은 한글과 병기해 눈길을 끌었다.  노벨위원회는 ‘한강’(Han Kang)이 노벨문학상을 받았다면서 1995년 출간된 한강의 첫 소설집 ‘여수의 사랑’을 비롯, 그가 국제적으로 명성을 얻은 계기가 된 ‘채식주의자’와 ‘소년이 온다’ 등 다양한 작품명을 소개했다.  작품 활동 초기였던 1993년 시를 발표한 잡지 ‘문학과 사회’도 한글로 소개됐다. 한강의 소설 에우로파의 한 대목을 인용한 이미지에도 ‘Quote from 에우로파(Europe)’라고 한글이 적혔다.  노벨상 수상자에게는 상금 1천100만 크로나(약 13억4천만원)와 메달, 증서가 수여되며, 노벨상 시상식은 알프레드 노벨의 기일인 12월 10일 스웨덴 스톡홀름(생리의학·물리·화학·문학·경제상)과 노르웨이 오슬로(평화상)에서 개최된다.    한강, 그는 누구인가  한국인 최초로 노벨문학상의 영예를 거머쥔 작가 한강은 1970년 11월 전라남도 광주광역시에서 태어났으며, 그의 아버지는 저명한 소설가 한승원으로 잘 알려져 있다. 이후 서울로 올라온 그는 풍문여고를 거쳐 연세대 국문과를 졸업했다.  1993년 대학 졸업 뒤 이후 잡지 샘터에서 기자로 근무하면서 본격적으로 습작을 하기 시작해 그해 계간 문예지 문학과사회 겨울호에 ‘서울의 겨울’ 등 시 4편을 실으며 시인으로 먼저 등단하면서 주목받기 시작했다. 이듬해인 1994년에는 서울신문 신춘문예에 단편 ‘붉은 닻’이 당선되며 소설가로 이름을 알리기 시작했다.  한강은 이후 ‘여수의 사랑’, ‘내 여자의 열매’, ‘그대의 차가운 손’, ‘검은 사슴’, ‘바람이 분다 가라’, ‘희랍어 시간’ 등 다양한 소설집과 장편소설들을 발표하면서 한국 문단에서 가장 주목받는 소설가 중 한 명으로 인정받았다.  특히 광주민주화운동을 다룬 2014년작 장편 ‘소년이 온다’와 제주 4·3 사건의 비극을 세 여성의 시선으로 풀어낸 2021년작 ‘작별하지 않는다’ 등으로 한국 현대사의 깊은 어둠과 상처를 소설로 형상화했다는 평가를 받았다.  한강은 ‘작별하지 않는다’로 지난해 프랑스 4대 문학상 중 하나인 메디치상의 외국문학 부문을 수상하고, 올해 3월 프랑스 에밀 기메 아시아 문학상을 받은바 있다.  그는 소설 외에도 시집 ‘서랍에 저녁을 넣어 두었다’와 동화 ‘내 이름은 태양꽃’, ‘눈물상자’ 등을 내면서 시와 소설, 아동문학을 넘나들면서 다방면에서 작품활동을 했다.  특히 한국 작가 최초로 영국 맨부커상을 수상한 소설집 ‘채식주의자’(영어판 제목 The Vegetarian)는 2004년 계간 창작과비평에 처음 연재된 연작소설로, 국내에서는 2007년 단행본으로 출간되기도 했다. 맨부커상은 노벨문학상·공쿠르상과 함께 세계 3대 문학상으로 꼽힌다.     |  | | --- | |  |     문인 가족 안에서 빛난 재능  한강은 문인 가족으로도 유명하다. 아버지는 소설 ‘아제아제 바라아제’, ‘추사’, ‘다산의 삶’ 등을 펴낸 작가 한승원이다. 85세인 한승원은 올해 초 자전적인 내용의 장편소설 ‘사람의 길’을 펴내는 등 여전히 왕성하게 집필을 이어가고 있다.  한승원은 과거 한 언론과의 인터뷰에서 “딸 한강은 전통사상에 바탕을 깔고 요즘 감각을 발산해 내는 작가”라며 “어떤 때 한강이 쓴 문장을 보며 깜짝 놀라서 질투심이 동하기도 한다”고 밝혀 웃음을 자아냈다.  특히 한승원과 한강은 국내 최고 소설문학상으로 꼽히는 이상문학상을 부녀 2대가 수상하는 진기록도 세웠으며, 한강의 오빠인 한동림 역시 소설가로 작품활동을 했다.  또한, 한강은 어려서부터 익힌 피아노와 노래 실력도 수준급인 것으로 전해진다. 2007년에는 산문집 ‘가만가만 부르는 노래’를 펴냈으며, 흘러가 버린 노래 스물두 곡 속에 작가의 아련한 추억을 담아낸 이 책에 작가 자신이 작사·작곡하고 보컬까지 맡아 부른 노래 10곡을 담은 음반(CD)을 함께 수록하며 눈길을 끌었다.  그는 “어느 날 갑자기 머릿속에 떠오르는 노랫말과 선율들을 악보를 쓸 줄 몰라 가사를 적고 계이름을 적는 방식으로 만들었다”며 밝혔다. 산문집에서는 어린 시절 피아노가 배우고 싶어 “십 원짜리 종이 건반을 가지고 피아노를 ‘연주’하곤 했다”고 회고하기도 했다.     |  | | --- | |  |     노벨위원회와의 인터뷰  노벨위원회는 10일(현지시간) 수상 사실을 알리기 위해 전화로 한강과 인터뷰한 영상을 공개했다.  한강은 먼저 해당 통화에서 “다른 이가 소식을 전해줘서 수상 소식을 알았다”며 “매우 놀랍고 영광스럽다”고 밝혔다. 당시 한강은 아들과 식사 중이었으며, 수상 소식을 듣고 아들 역시 몹시 놀란 것으로 알려졌다. 한강은 “(수상 소식을 듣기 전까지는) 책을 읽고 산책을 한 편안한 하루였다”며 “오늘밤 아들과 차를 마시면서 조용히 축하할 것”이라고 전했다.  그는 “나는 어릴 때부터 번역서뿐 아니라 한국어로 된 책들을 읽으며 자랐기 때문에, 내가 매우 가깝게 느끼고 있는 한국 문학과 함께 자랐다고 말할 수 있다”며 “이 소식이 한국 문학 독자들과 내 친구 작가들에게도 좋은 일이 되기를 바란다”고 전하며 한국 최초의 노벨문학상 수상자로서 의미를 밝혔다.  가장 중요한 영감의 원천이 된 작가에 대한 질문에는 “내가 어릴 때 옛(old) 작가들은 집단적인(collective) 존재였고, 그들은 삶에서 의미를 찾고 때로는 길을 잃고 때로는 결연했다”며 “그들의 모든 노력과 힘이 나의 영감이었기 때문에 내게 영감이 된 몇몇 이름을 고른다는 것은 매우 어려운 일이다”라고 말했다.  ‘말괄량이 삐삐’ 시리즈 작가인 스웨덴 동화작가 아스트리드 린드그렌으로부터 영감을 받았다고 들었다는 노벨위원회의 질문에는 “인간과 삶, 죽음에 대한 의문을 (린드그렌의 작품인) ‘사자왕 형제의 모험’과 연관지을 수 있었다”면서도 “그(린드그렌)가 내 어린시절에 영감을 준 유일한 작가는 아니다”라고 강조했다.  ‘작가 한강’을 막 알게 된 독자에게 추천하고 싶은 자신의 작품에 대해서는 “내 생각에 모든 작가는 자신의 가장 최근 작품을 좋아한다, 나도 나의 가장 최근 작품인 ‘작별하지 않는다’가 시작이 될 수 있기를 바란다”며 “또 내게 매우 개인적인 작품인 ‘흰’도 추천한다. 그리고 또 ‘채식주의자’가 있다”고 추천했다.  한강의 이름을 세계에 알린 작품인 연작소설집 ‘채식주의자’에 대해서 “나는 그 작품을 3년간 썼고, 그 3년은 내게 어떤 이유에서인지 꽤 힘든 시간이었다”며 “내 생각에 나는 주인공을 둘러싼 인물들의 이미지를 찾고 나무 등 작품 속 이미지들을 찾는 것에 어려움을 겪었던 것 같다”고 설명했다.     |  | | --- | |  | | 노벨위원회는 한강의 노벨문학상 선정과 함께 그의 주요작품들을 소개했다.(노벨위원회) |     세계 문학계 주류 입성한 ‘한국 문학’  소설가 한강의 한국인 작가 최초 노벨문학상 수상은 최근 몇 년간 국제적 명성을 쌓기 시작한 한국문학이 이룩한 쾌거로 평가받고 있다. 이번 노벨문학상 이전에도 수많은 한국 작가가 유수의 국제 문학상에 이름을 올리며 한국문학의 저력을 세계에 알렸기 때문이다.  특히 한국 작가들은 노벨문학상·프랑스 공쿠르상과 함께 세계 3대 문학상으로 꼽히는 맨부커상 최종후보에 계속해서 이름을 올리며 세계 문학계의 주류에 편입하기 시작했다.  한국 작가들의 이러한 행보의 시작도 다름 아닌 한강이었다. 한강은 2016년 소설 ‘채식주의자’로 인터내셔널 부커상의 전신인 ‘맨부커 인터내셔널상’을 한국인 최초로 수상하며 한국문학의 높은 수준을 세계적으로 알리기 시작했다. 인터내셔널 부커상은 영어로 번역된 비영어 문학작품에 주는 부커상의 한 부문으로, 한강은 2018년에도 또 다른 소설 ‘흰’으로 부커상 최종 후보에 오르며 당당히 세계적인 작가 반열에 올랐다.  한강을 통해 시작된 한국문학의 가능성은 2022년 이후 3년 연속 부커상 최종후보에 한국 작가가 이름을 올리면서 더욱 확실해졌다.  2022년에는 정보라의 SF·호러 소설집 ‘저주토끼’가 부커상 최종후보에 오르면서 크게 주목받았다. 비록 수상하지는 못했지만 ‘저주토끼’는 지난해 전미도서상 번역문학 부문 후보에 오른 데 이어, 올해 3월에는 ‘저주토끼’의 독일어판 번역가 이기향이 독일 라이프치히도서전에서 번역서 부문을 수상하는 등 의미있는 성과를 냈다.  또한, 지난해에는 천명관의 장편소설 ‘고래’가 부커상 최종후보에 이름을 올렸다. 아쉽게 수상은 불발했지만, 힘 있는 서사로 세계 문학계에 이름을 알리기 충분했다.  특히 지난 5월에는 황석영의 장편소설 ‘철도원 삼대’가 최종후보 명단에 오르면서 한국문학은 3년 연속 부커상 최종후보에 오르는 성과를 냈다. ‘철도원 삼대’는 오랜 시간 한국문학의 거장으로 자리매김해 온 황석영이 내놓은 선 굵은 작품이라는 점에서 기대를 모았지만 수상에는 실패했다.  이러한 한국 문학의 연이은 성과는 내적 역량과 자산이 축적되는 가운데, 체계적인 번역 지원이 더해지면서 안정적 성장기에 진입했기 때문이라는 분석이 나온다.  실제로 지난 3월에는 김혜순의 시집 ‘날개 환상통’(영어판 Phantom Pain Wings. 최돈미 번역)이 전미도서비평가협회상 시 부문에서 한국 최초로 수상했으며, 11월 한강의 소설 ‘작별하지 않는다’(불어판 Impossibles Adieux. 최경란·피에르 비지우 번역)가 프랑스 메디치 외국문학상을 받은 것도 외국어를 모국어 수준으로 구사하는 번역가들의 도움이 결정적이다.  번역가의 도움을 받지 않고 작가 본인이 직접 외국어로 쓴 작품이 해외에서 문학상을 받은 사례도 있다. 지난 8월 미국 윌리엄 사로얀 국제문학상을 받은 이미리내의 장편소설 ‘이름 없는 여자의 여덟 가지 인생’(원제 8 Lives of a Century-old Trickster)을 대표적으로 꼽을 수 있다.  류아연 노벨사이언스 미주특파원     |  | | --- | |  |     올해 노벨문학상에  한국의 '채식주의자' 작가 한강 수상자로 선정  스웨덴 노벨위원회 발표 전문   한강은 1970년 대한민국 광주에서 태어나 9세에 가족과 함께 서울로 이주 했다. 그녀는 문학적 배경을 갖고 있으며, 그녀의 아버지는 유명한 소설가이다. 그녀는 글을 쓰는 것 외에도 예술과 음악에도 헌신했는데, 이는 그녀의 전체 문학 작품에 반영되어 있다.  한강은 1993년 『문학과 사회』라는 잡지에 다수의 시를 기고하며 활동을 시작했다. 그녀의 산문 데뷔는 1995년 단편집 『여수의 사랑』으로 시작되었고, 이후 곧 소설과 단편 소설 등 여러 산문 작품이 나왔다. 그중 주목할 만한 작품은 한강의 미술에 대한 관심이 여실히 드러난 소설 <당신의 차가운 손>(2002)이다. 이 책은 여성의 몸을 석고 모형으로 만드는 데 집착했던 실종된 조각가가 남긴 원고를 재현한 것이다. 인체 해부학과 페르소나와 경험 사이의 유희에 대한 관심이 있으며, 조각가의 작업에서는 신체가 드러내는 것과 숨기는 것 사이에서 갈등이 발생했다. 책의 끝 부분에 있는 문장은 '인생은 심연 위에 아치형을 이루는 시트이며, 우리는 가면을 쓴 곡예사처럼 그 위에서 산다'고 단언한다.  한강의 주요 국제적 돌파구는 소설 본체(2007; The Vegetarian, 2015)와 함께 이루어졌다. 세 부분으로 구성된 이 책은 주인공 영혜가 음식 섭취규범을 거부할 때 발생하는 폭력적인 결과를 묘사한다. 고기를 먹지 않기로 한 그녀의 결정은 다양하고 완전히 다른 반응을 보였다. 그녀의 행동은 남편과 권위주의적인 아버지 모두에게 강제로 거부당하고, 수동적인 몸에 집착하는 비디오 아티스트 남자에게 성적으로, 미적으로 착취당한다.  결국 그녀는 정신과 진료소에 입원하게 되고, 그곳에서 그녀의 여동생은 그녀를 구출하고 '정상적인' 삶으로 되돌리려 노력한다. 그러나 영혜는 위험하면서도 유혹적인 식물계의 상징인 '불꽃나무'를 통해 표현되는 정신병적인 상태에 점점 더 깊이 빠져든다.  좀 더 줄거리에 기반을 둔 책은 2010년에 출간된 “바람이 분다, 가라”(“The Wind Blows, Go”)이다. 이 소설에는 슬픔과 변화에 대한 갈망이 강하게 담겨 있는 우정과 예술성에 관한 크고 복잡한 소설이다.  극단적인 삶의 이야기에 대한 한강의 신체적 공감은 점점 더 강렬해지는 은유적 스타일로 인해 더욱 강화한다. 2011년부터 희랍어 시간(Greek Lessons, 2023)은 취약한 두 개인 사이의 특별한 관계를 매력적으로 묘사하고 있다. 일련의 충격적인 경험으로 인해 말을 할 수 없게 된 젊은 여성은 시력을 잃고 있는 고대 그리스어 교사와 연결된다. 각자의 결점으로부터 깨지기 쉬운 연애가 발전한다. 이 책은 상실, 친밀감, 그리고 언어의 궁극적인 조건에 관한 아름다운 명상이다.  “소년이 온다”(2014; Human Acts, 2016) 소설에서 한강은 이번에 자신이 자라고 수백 명의 학생과 비무장 민간인이 살았던 광주에서 일어난 역사적 사건을 정치적 기반으로 삼는다. 1980년 한국군이 자행한 학살 사건에서 살해된 인물들이다. 역사의 희생자들에게 목소리를 내고자 하는 이 책은 이 사건을 잔혹한 현실화로 직면함으로써 증인문학의 장르에 접근한다. 한강의 스타일은 간결하면서도 환상적이지만 그럼에도 불구하고 그 장르에 대한 우리의 기대에서 벗어나며, 죽은 자의 영혼이 육체에서 분리되어 자신의 소멸을 목격하게 하는 것은 그녀의 특별한 방편이다. 어느 순간, 묻힐 수 없는 정체를 알 수 없는 시체들을 보며 텍스트는 소포클레스의 『안티고네』의 기본 모티프를 떠올리게 된다.  “하얀 책”(2017)(The White Book, 2017)에서는 한강의 시적 스타일이 다시 한 번 지배된다. 이 책은 서사적 자아의 누나였을 수도 있었으나 태어난 지 몇 시간 만에 세상을 떠난 사람에게 바치는 애가이다. 흰색 물체에 관한 일련의 짧은 메모에서 작품 전체가 연관적으로 구성되는 것은 바로 이 슬픔의 색을 통해서이다. 이것은 또한 설명된 바와 같이 이 책을 소설이라기보다는 일종의 '세속적인 기도서'로 만든다. 서술자는 상상 속의 자매가 살도록 허용되었다면 그녀 자신도 태어나는 것이 허용되지 않았을 것이라고 추론한다. 책이 마지막 말에 도달하는 것도 죽은 자들을 언급하면서 '그 하얀 것, 그 모든 하얀 것 안에서 나는 당신이 내놓은 마지막 숨을 들이마신다.’  또 다른 하이라이트는 2021년 작품, ‘우리는 작별하지 않는다’(“We Do Not Part”)으로, 고통의 이미지 측면에서 ‘The White Book’과 긴밀하게 연결된다. 이 이야기는 1940년대 후반 대한민국 제주도에서 일어난 학살 사건을 배경으로 전개된다. 그곳에서 어린이와 노인을 포함해 수만 명이 부역자라는 혐의로 총살당했다. 이 책은 화자와 그녀의 친구 인선이 사건이 발생한지 오랜 시간이 지나서 친척들에게 닥친 재난과 관련된 트라우마를 안고 함께하는 애도 과정을 묘사한다. 응축된 만큼 정확한 이미지를 통해 한강은 현재를 압도하는 과거의 힘을 전달할 뿐만 아니라, 집단 망각에 빠진 것을 밝히고 자신의 삶을 변화시키려는 친구들의 끈질긴 시도를 똑같이 강력하게 추적한다. 책 제목을 빌려준 공동 예술 프로젝트에 대한 트라우마, 유전된 고통과 마찬가지로 가장 깊은 형태의 우정에 대해서도 이 책은 꿈의 악몽 같은 이미지와 진실을 말하려는 증언 문헌의 경향 사이에서 매우 독창성을 가지고 움직인다.  한강의 작업은 고통의 이중 노출, 즉 정신적 고통과 육체적 고통의 대응이 동양적 사고와 밀접하게 연관되어 있는 것이 특징이다. 2013년 출간된 『회복하는 인간 = 회복기』에서는 치유를 거부하는 다리 궤양과 주인공과 죽은 여동생 사이의 고통스러운 관계가 등장한다. 진정한 회복은 실제로 일어나지 않으며, 고통은 일시적인 고통으로 환원될 수 없는 근본적인 실존적 경험으로 나타납니다. <채식주의자>와 같은 소설에서는 간단한 설명이 되지 않는다. 여기서 일탈행위는 주인공이 침묵을 지키고 있는 가운데, 백지상태에서 거부하는 형태로 갑작스럽고 폭발적으로 발생한다. 자신이 여자로 가면을 쓴 남자 화자가 불가능한 결혼 생활에서 헤어진 수수께끼의 여자에게 이끌리는 단편 소설 <유로파>(2012; Europa, 2019)도 마찬가지다. 사랑하는 사람이 '당신이 원하는 대로 살 수 있다면 당신의 인생은 어떻게 하시겠습니까?'라고 물을 때 서술적 자아는 침묵을 지킵니다. 여기에는 성취도 속죄도 있을 수 없다.  그녀의 작품에서 한강은 역사적 트라우마와 보이지 않는 규칙에 맞서고, 그녀의 모든 작품에서 인간 삶의 취약성을 폭로한다. 그녀는 육체와 영혼, 산 자와 죽은 자의 연결에 대한 독특한 인식을 갖고 있으며 시적이고 실험적인 스타일로 현대 산문의 혁신가가 되었다.    스웨덴 노벨위원회 발표 원문   The Nobel Prize in Literature 2024 Han Kang  The Nobel Prize in Literature for 2024 is awarded to the South Korean author Han Kang, “for her intense poetic prose that confronts historical traumas and exposes the fragility of human life”.  한강(Han Kang)  2024년 노벨문학상은 “역사적 트라우마에 맞서고 인간 삶의 취약성을 폭로하는 강렬한 시적 산문으로 자기를 나타낸 한국의 작가 한강에게 수여합니다.”  그녀의 작품에서 한강은 역사적 트라우마와 보이지 않는 규칙에 맞서고, 그녀의 모든 작품에서 인간 삶의 취약성을 폭로한다. 그녀는 육체와 영혼, 산 자와 죽은 자의 연결에 대한 독특한 인식을 갖고 있으며 시적이고 실험적인 스타일로 현대 산문의 혁신가가 되었다.(Nobel Foundation-원문 글).  한강 : Han Kang was born in 1970 in the South Korean city of Gwangju before, at the age of nine, moving with her family to Seoul. She comes from a literary background, her father being a reputed novelist. Alongside her writing, she has also devoted herself to art and music, which is reflected throughout her entire literary production.  Han Kang began her career in 1993 with the publication of a number of poems in the magazine 문학과사회 (“Literature and Society”). Her prose debut came in 1995 with the short story collection 여수의 사랑 (“Love of Yeosu”), followed soon afterwards by several other prose works, both novels and short stories. Notable among these is the novel 그대의 차가운 손 (2002; “Your Cold Hands”), which bears obvious traces of Han Kang’s interest in art. The book reproduces a manuscript left behind by a missing sculptor who is obsessed with making plaster casts of female bodies. There is a preoccupation with the human anatomy and the play between persona and experience, where a conflict arises in the work of the sculptor between what the body reveals and what it conceals. ‘Life is a sheet arching over an abyss, and we live above it like masked acrobats’ as a sentence towards the end of the book tellingly asserts.  Han Kang’s major international breakthrough came with the novel 채식주의자 (2007; The Vegetarian, 2015). Written in three parts, the book portrays the violent consequences that ensue when its protagonist Yeong-hye refuses to submit to the norms of food intake. Her decision not to eat meat is met with various, entirely different reactions. Her behaviour is forcibly rejected by both her husband and her authoritarian father, and she is exploited erotically and aesthetically by her brother-in-law, a video artist who becomes obsessed with her passive body. Ultimately, she is committed to a psychiatric clinic, where her sister attempts to rescue her and bring her back to a ‘normal’ life. However, Yeong-hye sinks ever deeper into a psychosis-like condition expressed through the ‘flaming trees’, a symbol for a plant kingdom that is as enticing as it is dangerous.  A more plot-based book is 바람이 분다, 가라 (“The Wind Blows, Go”) from 2010, a large and complex novel about friendship and artistry, in which grief and a longing for transformation are strongly present.  Han Kang’s physical empathy for extreme life stories is reinforced by her increasingly charged metaphorical style. 희랍어 시간 (Greek Lessons, 2023) from 2011 is a captivating portrayal of an extraordinary relationship between two vulnerable individuals. A young woman who, following a string of traumatic experiences, has lost the power of speech connects with her teacher in Ancient Greek, who is himself losing his sight. From their respective flaws, a brittle love affair develops. The book is a beautiful meditation around loss, intimacy and the ultimate conditions of language.  In the novel 소년이 온다 (2014; Human Acts, 2016), Han Kang this time employs as her political foundation a historical event that took place in the city of Gwangju, where she herself grew up and where hundreds of students and unarmed civilians were murdered during a massacre carried out by the South Korean military in 1980. In seeking to give voice to the victims of history, the book confronts this episode with brutal actualization and, in so doing, approaches the genre of witness literature. Han Kang’s style, as visionary as it is succinct, nevertheless deviates from our expectations of that genre, and it is a particular expedient of hers to permit the souls of the dead to be separated from their bodies, thus allowing them to witness their own annihilation. In certain moments, at the sight of the unidentifiable corpses that cannot be buried, the text harks back to the basic motif of Sophocles’s Antigone.  In 흰 (2016; The White Book, 2017), Han Kang’s poetic style once again dominates. The book is an elegy dedicated to the person who could have been the narrative self’s elder sister, but who passed away only a couple of hours after birth. In a sequence of short notes, all concerning white objects, it is through this colour of grief that the work as a whole is associatively constructed. This renders it less a novel and more a kind of ‘secular prayer book’, as it has also been described. If, the narrator reasons, the imaginary sister had been allowed to live, she herself would not have been permitted to come into being. It is also in addressing the dead that the book reaches its final words: ‘Within that white, all of those white things, I will breathe in the final breath you released.’  Another highlight is the late work, 작별하지 않는다 (“We Do Not Part”) from 2021, which in terms of its imagery of pain is closely connected to The White Book. The story unfolds in the shadow of a massacre that took place in the late 1940s on South Korea’s Jeju Island, where tens of thousands of people, among them children and the elderly, were shot on suspicion of being collaborators. The book portrays the shared mourning process undertaken by the narrator and her friend Inseon, who both, long after the event, bear with them the trauma associated with the disaster that has befallen their relatives. With imagery that is as precise as it is condensed, Han Kang not only conveys the power of the past over the present, but also, equally powerfully, traces the friends’ unyielding attempts to bring to light what has fallen into collective oblivion and transform their trauma into a joint art project, which lends the book its title. As much about the deepest form of friendship as it is about inherited pain, the book moves with great originality between the nightmarish images of the dream and the inclination of witness literature to speak the truth.  Han Kang’s work is characterized by this double exposure of pain, a correspondence between mental and physical torment with close connections to Eastern thinking. In 회복 하는 인간 = Convalescence from 2013, this involves a leg ulcer that refuses to heal and a painful relationship between the main character and her dead sister. No true convalescence ever actually takes place, and the pain emerges as a fundamental existential experience that cannot be reduced to any passing torment. In a novel such as The Vegetarian, no simple explanations are provided. Here, the deviant act occurs suddenly and explosively in the form of a blank refusal, with the protagonist remaining silent. The same can be said of the short story 에우로파 (2012; Europa, 2019), in which the male narrator, himself masked as a woman, is drawn to an enigmatic woman who has broken away from an impossible marriage. The narrative self remains silent when asked by his beloved: ‘If you were able to live as you desire, what would you do with your life?’ There is no room here for either fulfillment or atonement.  In her oeuvre, Han Kang confronts historical traumas and invisible sets of rules and, in each of her works, exposes the fragility of human life. She has a unique awareness of the connections between body and soul, the living and the dead, and in her poetic and experimental style has become an innovator in contemporary prose.  Anders Olsson  Chairman of the Nobel Committee  Bibliography – a selection  Works in Korean    [한국어 작품]--문학 전집  여수의 사랑. – 서울 : 문학과지성사, 1995 [“Love of Yeosu”. Short stories.]  검은 사슴. – 경기도 파주시 : 문학 동네, 1998 [“Black Deer”. Novel.]  아기 부처. – 인천 : 개미, 1999 [“Baby Buddha”. Novella.]  내 여자의 열매. – 서울 : 창작 과 비평사, 2000 [“Fruits of My Woman”. Short stories.]  그대의 차가운 손. – 서울 : 문학과지성사, 2002 [“Your Cold Hands”. Novel.]  내 이름은 태양꽃 / 한강 동화 ; 김세현 그림. – 경기도 파주시 : 문학 동네, 2002 [“My Name is Sun Flower” / Han Kang, fairy tale ; Kim Se-Hyeon, picture, 2002. Novella.]  붉은 꽃 이야기 / 지은이: 한강 ; 그린이: 우승우. – 서울 : 열림원, 2003 [“The Story of the Red Flower” / author: Han Kang ; illustrator: Woo Seung-woo. Novella.]  사랑과 사랑을 둘러싼 것들. – 서울 : 열림원, 2003 [“Love and Things Surrounding Love”. Essays.]  가만가만 부르는 노래. – 서울 : 비채, 2007 [“Quietly Sung Songs”. Essays.]  천둥 꼬마 선녀 번개 꼬마 선녀 / 한강 글; 진선미 그림. – 경기도 파주시 : 문학 동네, 2007 [“Thunder Little Fairy Lightning Little Fairy” / written by Han Kang ; Jin Seon-mi, picture. Children’s book.]  채식주의자 – 경기도 파주시 : 창비, 2007 [The Vegetarian. Novel.]  눈물상자 / 한강 글 ; 봄로야 그림. – 경기도 파주시 : 문학 동네, 2008 [“Tear Basket” / written by Han Kang ; Bomroya, picture. Short stories.]  바람이 분다, 가라. – 서울 : 문학 과 지성사, 2010 [“The Wind Blows, Go”. Novel.]  희랍어 시간. – 경기도 파주시 : 문학 동네, 2011 [Greek Lessons. Novel.]  노랑무늬영원. – 서울 : 문학 과 지성사, 2012 [“Fire Salamander”. Short stories.]  서랍에 저녁 을 넣어 두었다. – 서울 : 문학 과 지성사, 2013 [“I Put The Evening in the Drawer”. Poetry.]  회복 하는 인간 / 지은이 한 강 ; 옮긴이 전 승희 = Convalescence / written by Han Kang ; translated by Jeon Seung-hee. – 서울 : 아시아, 2013 [Bilingual edition. Novella.]  소년이 온다. – 경기도 파주시 : 창비, 2014 [Human Acts. Novel.]  흰 – 경기도 파주시 : 문학 동네, 2016 [The White Book. Novel.]  작별하지 않는다. – 경기도 파주시 : 문학 동네, 2021 [“We do not part”. Novel.]  한 강 – 경기도 파주시 : 문학 동네, 2022 [“Han Kang”. Series: The Essential. Collection.]  Film  Vegetarian, 2009. Directed by Lim Woo-Seong ; screenplay by Lim Woo-Seong. Based on the novel The Vegetarian by Han Kang.  Scars, 2011. Directed by Lim Woo-Seong; screenplay by Lim Woo-Seong and Han Kang. Based on the novella ”Baby Buddha” by Han Kang.  Works in Swedish  Vegetarianen / översättning från engelskan av Eva Johansson. – Stockholm : Natur & Kultur, 2016. – Originaltitel: 채식주의자  Levande och döda / översättning från engelskan av Eva Johansson. – Stockholm : Natur & Kultur, 2016. – Originaltitel: 소년이 온다  Den vita boken / översättning från koreanskan av Anders Karlsson och Okkyoung Park. – Stockholm : Natur & Kultur, 2019. – Originaltitel: 흰  Jag tar inte farväl : roman / översättning från koreanskan av Anders Karlsson och Okkyoung Park. – Stockholm : Natur & Kultur, 2024. – Originaltitel: 작별하지 않는다  Works in English  회복 하는 인간 / 지은이 한 강 ; 옮긴이 전 승희 = Convalescence / written by Han Kang ; translated from the Korean by Jeon Seung-Hee. [Bilingual edition]. – Seoul : Asia, 2013  The Vegetarian : a novel / translated from the Korean by Deborah Smith. – London : Hogarth, 2015. – Translation of: 채식주의자  Human Acts : a novel / translated from the Korean and introduced by Deborah Smith. – London : Portobello Books, 2016. – Translation of: 소년이 온다  The White Book / translated from the Korean by Deborah Smith. – London : Portobello Books, 2017. – Translation of 흰(White).  Europa / translated from the Korean by Deborah Smith. – Norwich : Strangers Press, part of the UEA Publishing Project, 2019. – Translation of: 에우로파 in 노랑무늬영원  Greek Lessons / translated from the Korean by Deborah Smith and Emily Yae Won. – London : Hogarth, 2023. – Translation of: 희랍어 시간  Anthology:  ”Nostalgic Journey” (1994) in Unspoken voices : Selected Short Stories by Korean Women Writers / compiled and translated from the Korean by Jin-Young Choi. – Dumont, N.J. : Homa & Sekey Books, 2002. – Translation of short story in “Love of Yeosu”; 여수의 사랑  Works in French  Pars, le vent se lève : roman / traduit du coréen par Lee Tae-yeon et Geneviève Roux-Faucard. – Fuveau : Decrescenzo, 2014. – Traduction de: 바람이 분다, 가라  La végétarienne : roman / traduit du coréen par Jeong Eun-Jin et Jacques Batilliot. – La Tour d’Aigues : Serpent à Plumes, 2015. – Traduction de: 채식주의자  Celui qui revient : roman / traduit du coréen par Jeong Eun-Jin et Jacques Batilliot. – La Tour d’Aigues : Serpent à Plumes, 2016. – Traduction de: 소년이 온다  Leçons de grec : roman / traduit du coréen par Jeong Eun-Jin et Jacques Batilliot. – La Tour d’Aigues : Serpent à Plumes, 2017. – Traduction de: 희랍어 시간  Blanc : roman / traduit du coréen par Jeong Eun-Jin et Jacques Batilliot. – La Tour d’Aigues : Serpent à Plumes, 2018. – Traduction de: 흰  Impossibles adieux : roman / traduit du coréen par Kyungran Choi et Pierre Bisiou. – Bernard Grasset, 2023. – Traduction de: 작별하지 않는다    Anthologie:  ”Les Chiens au soleil couchant” in Cocktail Sugar et autres nouvelles de Corée / traduction sous la direction de Choi Mikyung et Jean-Noël Juttet. – Paris : Zulma, 2011. – Traduction de: 해질녘에 개들은 어떤 기분일까 dans 내 여자의 열매  Works in German  Die Vegetarierin : Roman / aus dem Koreanischen von Ki-Hyang Lee [I Gi hyang]. – Berlin : Aufbau, 2016. – Originaltitel: 채식주의자  Menschenwerk : Roman / aus dem Koreanischen von I Gi hyang. – Berlin : Aufbau, 2017. – Originaltitel: 소년이 온다  Deine kalten Hände : Roman / aus dem Koreanischen von Kyong-Hae Flügel. – Berlin : Aufbau, 2019. – Originaltitel: 그대의 차가운 손  Weiß =흰 / aus dem Koreanischen von I Gi hyang. – Berlin : Aufbau, 2020. – Originaltitel: 흰  Griechischstunden : Roman / aus dem Koreanischen von I Gi hyang. – Berlin : Aufbau, 2024. – Originaltitel: 희랍어 시간  Anthologie:  “Die Früchte meiner Frau” in Koreanische Erzählungen / hrsg. von Sylvia Bräsel und Lie Kwang-Sook. Mit einem Nachw. von Sylvia Bräsel. – München : Dt. Taschenbuch-Verl., 2005. – Originaltitel: 내 여자의 열매  [참고: 인용문헌]  MLA style: Biobibliography. NobelPrize.org. Nobel Prize Outreach AB 2024. Thu. 10 Oct 2024. <<https://www.nobelprize.org/prizes/literature/2024/bio-bibliography/>>  발표 - 앤더스 올슨 노벨위원회 위원장  번역 - 성용길 교수 노벨사이언스 편집고문    노벨사이언스  science@nobelscience.co.kr  <저작권자 © 노벨사이언스, 무단 전재 및 재배포 금지>  * [*메일보내기*](javascript:articleMail('2189');) * [*인쇄하기*](javascript:articlePrint('2189');)   [트윗하기](https://twitter.com/share)  [노벨사이언스의 다른기사 보기](articleList.html?sc_area=I&sc_word=scinews)   ***icon*인기기사**  기사 댓글 **0**개 [전체보기](/news/replyView.html?idxno=2189)     첫번째 댓글을 남겨주세요. |  | **[뇌 속 혈류 조절의 열쇠, 억제성 신경세포에서 발견](/news/articleView.html?idxno=2308)**  **[ETRI, AI 반도체 플랫폼 개발 및 최신기술 공유](/news/articleView.html?idxno=2305)**  **[표준연, 양자 한계 수준의 정밀도 가진 길이 측정 시스템 개발](/news/articleView.html?idxno=2304)**  **[KIST, 기술사업화 전문회사 '키스트이노베이션' 출범](/news/articleView.html?idxno=2303)**  * [뇌 속 혈류 조절의 열쇠, 억제성 신경세포에서 발견](/news/articleView.html?idxno=2308) * [ETRI, AI 반도체 플랫폼 개발 및 최신기술 공유](/news/articleView.html?idxno=2305) * [표준연, 양자 한계 수준의 정밀도 가진 길이 측정 시스템 개발](/news/articleView.html?idxno=2304) * [KIST, 기술사업화 전문회사 '키스트이노베이션' 출범](/news/articleView.html?idxno=2303)   |  | | --- | | 여백 |   **오늘의 주요뉴스**  **[뇌 속 혈류 조절의 열쇠, 억제성 신경세포에서 발견](/news/articleView.html?idxno=2308)**  [Latest] **[ETRI, AI 반도체 플랫폼 개발 및 최신기술 공유](/news/articleView.html?idxno=2305)**  [Latest] **[표준연, 양자 한계 수준의 정밀도 가진 길이 측정 시스...](/news/articleView.html?idxno=2304)**  [Latest] **[KIST, 기술사업화 전문회사 '키스트이노베이션' 출범](/news/articleView.html?idxno=2303)**   |  | | --- | | 여백 |   **많이 본 뉴스**  * [“아인슈타인과 양자역학 간극 메운다”...전자 운동 설명 새 이론 나와](/news/articleView.html?idxno=2302) * [뇌 속 혈류 조절의 열쇠, 억제성 신경세포에서 발견](/news/articleView.html?idxno=2308) * [ETRI, 지상/위성 통합 6G 초공간 통신 시연 성공](/news/articleView.html?idxno=2301) * [KIST, 기술사업화 전문회사 '키스트이노베이션' 출범](/news/articleView.html?idxno=2303) * [ETRI, AI 반도체 플랫폼 개발 및 최신기술 공유](/news/articleView.html?idxno=2305) * [표준연, 양자 한계 수준의 정밀도 가진 길이 측정 시스템 개발](/news/articleView.html?idxno=2304)   |  | | --- | | 여백 | |       *[Back to Top](#top)* |\\n\\nOriginal text\\n\\nRate this translation\\n\\nYour feedback will be used to help improve Google Translate\"}]\n",
      "\n",
      "[ chatbot ]\n",
      "\n",
      "==================================\u001b[1m Ai Message \u001b[0m==================================\n",
      "\n",
      "2024년 노벨 문학상은 한국의 소설가 한강이 수상하였습니다. 이는 한국인 작가 최초의 노벨 문학상 수상이라는 역사적인 쾌거입니다.\n",
      "\n",
      "핵심 내용 정리:\n",
      "\n",
      "- 한강(1970년생, 대표작: 『채식주의자』, 『소년이 온다』, 『흰』, 『작별하지 않는다』)이 2024년 노벨 문학상을 수상했습니다.\n",
      "- 스웨덴 한림원은 “역사적 트라우마에 맞서고 인간 삶의 연약함을 드러내는 강렬한 시적 산문”을 쓴 점을 높이 평가하며 선정 이유를 밝혔습니다.\n",
      "- 한강은 2016년 맨부커 인터내셔널상에 이어 전 세계적으로 문학적 위상을 인정받았습니다.\n",
      "- 이번 수상은 2000년 노벨 평화상(고 김대중 전 대통령) 이후 두 번째 한국인 노벨상 수상입니다.\n",
      "- 상금은 1,100만 크로나(약 14억 원)이며, 시상식은 12월 10일 스웨덴 스톡홀름에서 열립니다.\n",
      "\n",
      "자세한 기사:\n",
      "- [연합뉴스 기사 보기](https://www.yna.co.kr/view/AKR20241010163751009)\n",
      "- [노벨사이언스 상세 기사](http://www.nobelscience.net/news/articleView.html?idxno=2189)\n",
      "- [채널A 뉴스 다시보기(유튜브)](https://m.youtube.com/watch?v=GkdSjreKgwc&t=1140s)\n",
      "\n",
      "한강 작가의 이번 수상을 통해 한국 문학의 위상이 한 단계 더 높아졌다는 평가가 이어지고 있습니다. 궁금한 점이나 더 알고 싶은 내용이 있으면 말씀해 주세요!\n"
     ]
    }
   ],
   "source": [
    "for event in graph.stream(input=input, config=config):\n",
    "    for key, value in event.items():\n",
    "        print(f\"\\n[ {key} ]\\n\")\n",
    "        # value 에 messages 가 존재하는 경우\n",
    "        if \"messages\" in value:\n",
    "            messages = value[\"messages\"]\n",
    "            # 가장 최근 메시지 1개만 출력합니다.\n",
    "            value[\"messages\"][-1].pretty_print()\n"
   ]
  },
  {
   "cell_type": "code",
   "execution_count": 123,
   "metadata": {},
   "outputs": [
    {
     "name": "stdout",
     "output_type": "stream",
     "text": [
      "['messages', '__start__', '__pregel_tasks', 'branch:to:chatbot', 'branch:to:tools']\n"
     ]
    }
   ],
   "source": [
    "# channels 에 정의된 키 목록을 출력합니다.\n",
    "print(list(graph.channels.keys()))\n"
   ]
  },
  {
   "cell_type": "code",
   "execution_count": 129,
   "metadata": {},
   "outputs": [
    {
     "name": "stdout",
     "output_type": "stream",
     "text": [
      "\n",
      "[ chatbot ]\n",
      "\n"
     ]
    }
   ],
   "source": [
    "# 질문\n",
    "question = \"2024년 노벨 문학상 관련 뉴스를 알려주세요.\"\n",
    "\n",
    "# 초기 입력 State 를 정의\n",
    "input = State(dummy_data=\"테스트 문자열\", messages=[(\"user\", question)])\n",
    "\n",
    "# config 설정\n",
    "config = RunnableConfig(\n",
    "    recursion_limit=10,  # 최대 10개의 노드까지 방문. 그 이상은 RecursionError 발생\n",
    "    configurable={\"thread_id\": \"1\"},  # 스레드 ID 설정\n",
    "    tags=[\"my-rag\"],  # Tag\n",
    ")\n",
    "\n",
    "for event in graph.stream(\n",
    "    input=input,\n",
    "    config=config,\n",
    "    output_keys=[\"dummy_data\"],  # messages 를 추가해 보세요!\n",
    "):\n",
    "    for key, value in event.items():\n",
    "        # key 는 노드 이름\n",
    "        print(f\"\\n[ {key} ]\\n\")\n",
    "\n",
    "        # dummy_data 가 존재하는 경우\n",
    "        if value:\n",
    "            # value 는 노드의 출력값\n",
    "            print(value.keys())\n",
    "            # dummy_data key 가 존재하는 경우\n",
    "            if \"dummy_data\" in value:\n",
    "                print(value[\"dummy_data\"])\n"
   ]
  },
  {
   "cell_type": "code",
   "execution_count": 53,
   "metadata": {},
   "outputs": [
    {
     "name": "stdout",
     "output_type": "stream",
     "text": [
      "\n",
      "[ chatbot ]\n",
      "\n",
      "2024년 노벨 문학상은 한국 소설가 한강(54)이 수상했습니다!\n",
      "\n",
      "### 주요 내용\n",
      "- 한강 작가는 아시아 여성으로는 최초, 한국인 최초로 노벨 문학상을 받았습니다.\n",
      "- 스웨덴 한림원은 “역사의 트라우마에 맞서고 인간 삶의 연약함을 드러내는 시적인 산문”이라는 이유로 한강을 선정했다고 밝혔습니다.\n",
      "- 대표작으로는 ‘채식주의자’(2016 맨부커상 수상작), ‘소년이 온다’, ‘흰’, ‘작별하지 않는다’ 등이 있습니다.\n",
      "- 한강의 수상은 한국 문학뿐 아니라 아시아 문학의 역사적인 순간으로 평가되고 있습니다.\n",
      "- 2024년 노벨상 시상식은 12월 10일 스웨덴 스톡홀름에서 진행될 예정입니다.\n",
      "- 이번 수상으로 한강은 역대 18번째 여성 노벨 문학상 수상자가 되었으며, 상금은 1,100만 크로나(약 13~14억 원)입니다.\n",
      "\n",
      "#### 추가로 읽을 만한 기사:\n",
      "- [조선일보 상세기사](https://www.chosun.com/culture-life/culture_general/2024/10/10/FJ7RNNGJ7NCQTBINYIOQBDAXVQ/)\n",
      "- [연합뉴스 속보](https://www.yna.co.kr/view/AKR20241010163751009)\n",
      "\n",
      "한강 작가와 한국 문학에 뜻깊은 해가 되었습니다! 궁금한 점이나 더 자세히 알고 싶은 내용 있으면 말씀해 주세요.\n"
     ]
    }
   ],
   "source": [
    "# 질문\n",
    "question = \"2024년 노벨 문학상 관련 뉴스를 알려주세요.\"\n",
    "\n",
    "# 초기 입력 State 를 정의\n",
    "input = State(dummy_data=\"테스트 문자열\", messages=[(\"user\", question)])\n",
    "\n",
    "# config 설정\n",
    "config = RunnableConfig(\n",
    "    recursion_limit=10,  # 최대 10개의 노드까지 방문. 그 이상은 RecursionError 발생\n",
    "    configurable={\"thread_id\": \"1\"},  # 스레드 ID 설정\n",
    "    tags=[\"my-rag\"],  # Tag\n",
    ")\n",
    "\n",
    "for event in graph.stream(\n",
    "    input=input,\n",
    "    config=config,\n",
    "    output_keys=[\"messages\"],  # messages 만 출력\n",
    "):\n",
    "    for key, value in event.items():\n",
    "        # messages 가 존재하는 경우\n",
    "        if value and \"messages\" in value:\n",
    "            # key 는 노드 이름\n",
    "            print(f\"\\n[ {key} ]\\n\")\n",
    "            # messages 의 마지막 요소의 content 를 출력합니다.\n",
    "            print(value[\"messages\"][-1].content)\n"
   ]
  },
  {
   "cell_type": "code",
   "execution_count": 132,
   "metadata": {},
   "outputs": [
    {
     "name": "stdout",
     "output_type": "stream",
     "text": [
      "\n",
      "[ messages ]\n",
      "\n",
      "메시지 개수: 21\n",
      "\n",
      "[ dummy_data ]\n",
      "\n",
      "==============================  단계  ==============================\n",
      "\n",
      "[ messages ]\n",
      "\n",
      "메시지 개수: 22\n",
      "\n",
      "[ dummy_data ]\n",
      "\n",
      "==============================  단계  ==============================\n"
     ]
    }
   ],
   "source": [
    "# 질문\n",
    "question = \"2024년 노벨 문학상 관련 뉴스를 알려주세요.\"\n",
    "\n",
    "# 초기 입력 State 를 정의\n",
    "input = State(dummy_data=\"테스트 문자열\", messages=[(\"user\", question)])\n",
    "\n",
    "# config 설정\n",
    "config = RunnableConfig(\n",
    "    recursion_limit=10,  # 최대 10개의 노드까지 방문. 그 이상은 RecursionError 발생\n",
    "    configurable={\"thread_id\": \"1\"},  # 스레드 ID 설정\n",
    "    tags=[\"my-rag\"],  # Tag\n",
    ")\n",
    "\n",
    "# values 모드로 스트리밍 출력\n",
    "for event in graph.stream(\n",
    "    input=input,\n",
    "    config=config,\n",
    "    stream_mode=\"values\",  # 기본값\n",
    "):\n",
    "    for key, value in event.items():\n",
    "        # key 는 state 의 key 값\n",
    "        print(f\"\\n[ {key} ]\\n\")\n",
    "        if key == \"messages\":\n",
    "            print(f\"메시지 개수: {len(value)}\")\n",
    "            # print(value)\n",
    "    print(\"===\" * 10, \" 단계 \", \"===\" * 10)\n"
   ]
  },
  {
   "cell_type": "code",
   "execution_count": 131,
   "metadata": {},
   "outputs": [
    {
     "name": "stdout",
     "output_type": "stream",
     "text": [
      "\n",
      "[ chatbot ]\n",
      "\n",
      "dict_keys(['messages'])\n",
      "메시지 개수: 1\n",
      "==============================  단계  ==============================\n"
     ]
    }
   ],
   "source": [
    "# 질문\n",
    "question = \"2024년 노벨 문학상 관련 뉴스를 알려주세요.\"\n",
    "\n",
    "# 초기 입력 State 를 정의\n",
    "input = State(dummy_data=\"테스트 문자열\", messages=[(\"user\", question)])\n",
    "\n",
    "# config 설정\n",
    "config = RunnableConfig(\n",
    "    recursion_limit=10,  # 최대 10개의 노드까지 방문. 그 이상은 RecursionError 발생\n",
    "    configurable={\"thread_id\": \"1\"},  # 스레드 ID 설정\n",
    "    tags=[\"my-rag\"],  # Tag\n",
    ")\n",
    "\n",
    "# updates 모드로 스트리밍 출력\n",
    "for event in graph.stream(\n",
    "    input=input,\n",
    "    config=config,\n",
    "    stream_mode=\"updates\",  # 기본값\n",
    "):\n",
    "    for key, value in event.items():\n",
    "        # key 는 노드 이름\n",
    "        print(f\"\\n[ {key} ]\\n\")\n",
    "\n",
    "        # value 는 노드의 출력값\n",
    "        print(value.keys())\n",
    "\n",
    "        # value 에는 state 가 dict 형태로 저장(values 의 key 값)\n",
    "        if \"messages\" in value:\n",
    "            print(f\"메시지 개수: {len(value['messages'])}\")\n",
    "            # print(value[\"messages\"])\n",
    "    print(\"===\" * 10, \" 단계 \", \"===\" * 10)\n"
   ]
  },
  {
   "cell_type": "code",
   "execution_count": 58,
   "metadata": {},
   "outputs": [
    {
     "name": "stdout",
     "output_type": "stream",
     "text": [
      "\n",
      "[chatbot]\n",
      "\n",
      "dict_keys(['messages'])\n",
      "[AIMessage(content='2024년 노벨 문학상 관련 속보를 전해드립니다!\\n\\n---\\n### 한국 소설가 한강, 2024년 노벨 문학상 수상\\n- 스웨덴 한림원은 2024년 10월 10일(현지 시각), 한국 소설가 **한강(54)**이 노벨 문학상 수상자로 선정됐다고 공식 발표했습니다.\\n- 한강은 **아시아 여성 작가 최초**이자, 한국인 첫 노벨 문학상 수상자입니다.\\n- 한강은 이미 2016년 \\'채식주의자\\'로 맨부커상(부커 인터내셔널상)을 받으며 세계적 작가로 인정받은 바 있습니다.\\n- 한림원은 그녀의 작품이 \"**역사의 트라우마에 맞서면서도 인간 삶의 연약함을 시적으로 드러낸 산문**\"이라고 극찬했습니다.\\n- 대표작으로는 『채식주의자』, 『소년이 온다』, 『흰』, 『작별하지 않는다』 등이 있으며, 이번 수상으로 한강의 작품은 세계적으로 더욱 조명을 받고 있습니다.\\n- 이번 수상은 2000년 김대중 전 대통령의 노벨 평화상 이후 24년 만의 대한민국 노벨상 쾌거입니다.\\n\\n### 수상 소감·반응\\n- 한강은 수상 직후 “아들과 함께 평소처럼 저녁을 보내다가 위원회의 전화를 받고 매우 놀랐다”고 밝혔습니다.\\n- 윤석열 대통령 등 각계에서 축하 메시지가 쏟아지고 있고, 한국 문학계는 큰 경사에 들썩이고 있습니다.\\n- 일본, 미국 등에서도 즉각 한강의 작품에 대한 관심이 급증하고 있다고 보도됩니다.\\n\\n---\\n\\n더 자세한 내용은  \\n- [조선일보 관련 기사](https://www.chosun.com/culture-life/culture_general/2024/10/10/FJ7RNNGJ7NCQTBINYIOQBDAXVQ/)  \\n- [연합뉴스 기사 바로가기](https://www.yna.co.kr/view/AKR20241010163751009)\\n\\n추가로 궁금하신 점이나 더 자세한 내용을 원하시면 말씀해주세요!', additional_kwargs={'refusal': None}, response_metadata={'token_usage': {'completion_tokens': 490, 'prompt_tokens': 7753, 'total_tokens': 8243, 'completion_tokens_details': {'accepted_prediction_tokens': 0, 'audio_tokens': 0, 'reasoning_tokens': 0, 'rejected_prediction_tokens': 0}, 'prompt_tokens_details': {'audio_tokens': 0, 'cached_tokens': 7680}}, 'model_name': 'gpt-4.1-2025-04-14', 'system_fingerprint': 'fp_daf5fcc80a', 'id': 'chatcmpl-C8ysc458svXRX3rXmaKt1ICvsB4FJ', 'service_tier': 'default', 'finish_reason': 'stop', 'logprobs': None}, id='run--4746c471-84b1-4a39-92ba-d0993dc42dfc-0', usage_metadata={'input_tokens': 7753, 'output_tokens': 490, 'total_tokens': 8243, 'input_token_details': {'audio': 0, 'cache_read': 7680}, 'output_token_details': {'audio': 0, 'reasoning': 0}})]\n",
      "메시지 개수: 1\n",
      "==============================  단계  ==============================\n"
     ]
    }
   ],
   "source": [
    "# 질문\n",
    "question = \"2024년 노벨 문학상 관련 뉴스를 알려주세요.\"\n",
    "\n",
    "# 초기 입력 State 를 정의\n",
    "input = State(dummy_data=\"테스트 문자열\", messages=[(\"user\", question)])\n",
    "\n",
    "# config 설정\n",
    "config = RunnableConfig(\n",
    "    recursion_limit=10,  # 최대 10개의 노드까지 방문. 그 이상은 RecursionError 발생\n",
    "    configurable={\"thread_id\": \"1\"},  # 스레드 ID 설정\n",
    "    tags=[\"my-rag\"],  # Tag\n",
    ")\n",
    "\n",
    "for event in graph.stream(\n",
    "    input=input,\n",
    "    config=config,\n",
    "    stream_mode=\"updates\",  # 기본값\n",
    "    interrupt_before=[\"tools\"],  # tools 노드 이전에 스트리밍 중단\n",
    "):\n",
    "    for key, value in event.items():\n",
    "        # key 는 노드 이름\n",
    "        print(f\"\\n[{key}]\\n\")\n",
    "\n",
    "        # value 는 노드의 출력값\n",
    "        if isinstance(value, dict):\n",
    "            print(value.keys())\n",
    "            if \"messages\" in value:\n",
    "                print(value[\"messages\"])\n",
    "\n",
    "        # value 에는 state 가 dict 형태로 저장(values 의 key 값)\n",
    "        if \"messages\" in value:\n",
    "            print(f\"메시지 개수: {len(value['messages'])}\")\n",
    "    print(\"===\" * 10, \" 단계 \", \"===\" * 10)\n"
   ]
  },
  {
   "cell_type": "code",
   "execution_count": 59,
   "metadata": {},
   "outputs": [
    {
     "name": "stdout",
     "output_type": "stream",
     "text": [
      "\n",
      "[chatbot]\n",
      "\n",
      "dict_keys(['messages'])\n",
      "[AIMessage(content='네! 2024년 노벨 문학상은 대한민국의 소설가 **한강**(Han Kang) 작가가 수상했습니다.\\n\\n---\\n\\n### 주요 내용 요약\\n\\n- **수상자**: 한강(54세)\\n- **발표일**: 2024년 10월 10일(현지 시각)\\n- **특이사항**:\\n  - 한강은 아시아 여성 작가 최초의 노벨 문학상 수상자입니다.\\n  - 한국인으로는 2000년 김대중 대통령 이후 두 번째 노벨상(문학 분야로는 최초) 수상입니다.\\n- **스웨덴 한림원 선정 이유**:\\n  - “역사의 트라우마에 맞서고 인간 생의 연약함을 드러내는 시적인 산문”이라는 평가를 받았습니다.\\n- **대표작**:\\n  - 『채식주의자』(2016년 맨부커상 수상작)\\n  - 『소년이 온다』\\n  - 『흰』\\n  - 『작별하지 않는다』 등\\n- **상금**: 약 1,100만 스웨덴 크로나(약 13~14억 원)\\n- **기타**: 한강 수상 소식에 국내외 문학계와 언론, 대중의 큰 축하와 관심이 쏟아지고 있습니다.\\n\\n---\\n\\n#### 참고 기사\\n- [조선일보 기사 바로가기](https://www.chosun.com/culture-life/culture_general/2024/10/10/FJ7RNNGJ7NCQTBINYIOQBDAXVQ/)\\n- [연합뉴스 기사 바로가기](https://www.yna.co.kr/view/AKR20241010163751009)\\n\\n---\\n\\n혹시 한강 작가의 작품이나 수상 연설 등 더 궁금한 점이 있으시면 추가로 안내해 드릴 수 있습니다!', additional_kwargs={'refusal': None}, response_metadata={'token_usage': {'completion_tokens': 411, 'prompt_tokens': 8264, 'total_tokens': 8675, 'completion_tokens_details': {'accepted_prediction_tokens': 0, 'audio_tokens': 0, 'reasoning_tokens': 0, 'rejected_prediction_tokens': 0}, 'prompt_tokens_details': {'audio_tokens': 0, 'cached_tokens': 8192}}, 'model_name': 'gpt-4.1-2025-04-14', 'system_fingerprint': 'fp_daf5fcc80a', 'id': 'chatcmpl-C8ysw6hM6Dy0lEBqlcgaiAADd5ynQ', 'service_tier': 'default', 'finish_reason': 'stop', 'logprobs': None}, id='run--dfc9cc1f-98ab-4aba-bd13-82a2a64d1591-0', usage_metadata={'input_tokens': 8264, 'output_tokens': 411, 'total_tokens': 8675, 'input_token_details': {'audio': 0, 'cache_read': 8192}, 'output_token_details': {'audio': 0, 'reasoning': 0}})]\n",
      "메시지 개수: 1\n"
     ]
    }
   ],
   "source": [
    "# 질문\n",
    "question = \"2024년 노벨 문학상 관련 뉴스를 알려주세요.\"\n",
    "\n",
    "# 초기 입력 State 를 정의\n",
    "input = State(dummy_data=\"테스트 문자열\", messages=[(\"user\", question)])\n",
    "\n",
    "# config 설정\n",
    "config = RunnableConfig(\n",
    "    recursion_limit=10,  # 최대 10개의 노드까지 방문. 그 이상은 RecursionError 발생\n",
    "    configurable={\"thread_id\": \"1\"},  # 스레드 ID 설정\n",
    "    tags=[\"my-rag\"],  # Tag\n",
    ")\n",
    "\n",
    "for event in graph.stream(\n",
    "    input=input,\n",
    "    config=config,\n",
    "    stream_mode=\"updates\",\n",
    "    interrupt_after=[\"tools\"],  # tools 실행 후 interrupt\n",
    "):\n",
    "    for value in event.values():\n",
    "        # key 는 노드 이름\n",
    "        print(f\"\\n[{key}]\\n\")\n",
    "\n",
    "        if isinstance(value, dict):\n",
    "            # value 는 노드의 출력값\n",
    "            print(value.keys())\n",
    "            if \"messages\" in value:\n",
    "                print(value[\"messages\"])\n",
    "\n",
    "        # value 에는 state 가 dict 형태로 저장(values 의 key 값)\n",
    "        if \"messages\" in value:\n",
    "            print(f\"메시지 개수: {len(value['messages'])}\")\n"
   ]
  },
  {
   "cell_type": "markdown",
   "metadata": {},
   "source": [
    "06. Human-in-the-loop(사람의 개입)"
   ]
  },
  {
   "cell_type": "code",
   "execution_count": 60,
   "metadata": {},
   "outputs": [],
   "source": [
    "from typing import Annotated, List, Dict\n",
    "from typing_extensions import TypedDict\n",
    "\n",
    "from langchain_core.tools import tool\n",
    "from langchain_openai import ChatOpenAI\n",
    "from langgraph.checkpoint.memory import MemorySaver\n",
    "from langgraph.graph import StateGraph, START, END\n",
    "from langgraph.graph.message import add_messages\n",
    "from langgraph.prebuilt import ToolNode, tools_condition\n",
    "from langchain_teddynote.graphs import visualize_graph\n",
    "from langchain_teddynote.tools import GoogleNews\n",
    "\n",
    "\n",
    "########## 1. 상태 정의 ##########\n",
    "# 상태 정의\n",
    "class State(TypedDict):\n",
    "    # 메시지 목록 주석 추가\n",
    "    messages: Annotated[list, add_messages]\n",
    "\n",
    "\n",
    "########## 2. 도구 정의 및 바인딩 ##########\n",
    "# 도구 초기화\n",
    "# 키워드로 뉴스 검색하는 도구 생성\n",
    "news_tool = GoogleNews()\n",
    "\n",
    "\n",
    "@tool\n",
    "def search_keyword(query: str) -> List[Dict[str, str]]:\n",
    "    \"\"\"Look up news by keyword\"\"\"\n",
    "    news_tool = GoogleNews()\n",
    "    return news_tool.search_by_keyword(query, k=5)\n",
    "\n",
    "\n",
    "tools = [search_keyword]\n",
    "\n",
    "# LLM 초기화\n",
    "llm = ChatOpenAI(model=\"gpt-4.1\")\n",
    "\n",
    "# 도구와 LLM 결합\n",
    "llm_with_tools = llm.bind_tools(tools)\n",
    "\n",
    "\n",
    "########## 3. 노드 추가 ##########\n",
    "# 챗봇 함수 정의\n",
    "def chatbot(state: State):\n",
    "    # 메시지 호출 및 반환\n",
    "    return {\"messages\": [llm_with_tools.invoke(state[\"messages\"])]}\n",
    "\n",
    "\n",
    "# 상태 그래프 생성\n",
    "graph_builder = StateGraph(State)\n",
    "\n",
    "# 챗봇 노드 추가\n",
    "graph_builder.add_node(\"chatbot\", chatbot)\n",
    "\n",
    "\n",
    "# 도구 노드 생성 및 추가\n",
    "tool_node = ToolNode(tools=tools)\n",
    "\n",
    "# 도구 노드 추가\n",
    "graph_builder.add_node(\"tools\", tool_node)\n",
    "\n",
    "# 조건부 엣지\n",
    "graph_builder.add_conditional_edges(\n",
    "    \"chatbot\",\n",
    "    tools_condition,\n",
    ")\n",
    "\n",
    "########## 4. 엣지 추가 ##########\n",
    "\n",
    "# tools > chatbot\n",
    "graph_builder.add_edge(\"tools\", \"chatbot\")\n",
    "\n",
    "# START > chatbot\n",
    "graph_builder.add_edge(START, \"chatbot\")\n",
    "\n",
    "# chatbot > END\n",
    "graph_builder.add_edge(\"chatbot\", END)\n",
    "\n",
    "########## 5. MemorySaver 추가 ##########\n",
    "\n",
    "# 메모리 저장소 초기화\n",
    "memory = MemorySaver()\n"
   ]
  },
  {
   "cell_type": "code",
   "execution_count": 61,
   "metadata": {},
   "outputs": [],
   "source": [
    "########## 6. interrupt_before 추가 ##########\n",
    "\n",
    "# 그래프 빌더 컴파일\n",
    "graph = graph_builder.compile(checkpointer=memory)\n"
   ]
  },
  {
   "cell_type": "code",
   "execution_count": 62,
   "metadata": {},
   "outputs": [
    {
     "data": {
      "image/png": "[encoded data removed]",
      "text/plain": [
       "<IPython.core.display.Image object>"
      ]
     },
     "metadata": {},
     "output_type": "display_data"
    }
   ],
   "source": [
    "########## 7. 그래프 시각화 ##########\n",
    "# 그래프 시각화\n",
    "visualize_graph(graph)\n"
   ]
  },
  {
   "cell_type": "code",
   "execution_count": 63,
   "metadata": {},
   "outputs": [
    {
     "name": "stdout",
     "output_type": "stream",
     "text": [
      "\n",
      "[messages]\n",
      "\n",
      "================================\u001b[1m Human Message \u001b[0m=================================\n",
      "\n",
      "AI 관련 최신 뉴스를 알려주세요.\n",
      "\n",
      "[messages]\n",
      "\n",
      "================================\u001b[1m Human Message \u001b[0m=================================\n",
      "\n",
      "AI 관련 최신 뉴스를 알려주세요.\n",
      "==================================\u001b[1m Ai Message \u001b[0m==================================\n",
      "Tool Calls:\n",
      "  search_keyword (call_7gLTs7Z1AL3vYzQszReMFH9D)\n",
      " Call ID: call_7gLTs7Z1AL3vYzQszReMFH9D\n",
      "  Args:\n",
      "    query: AI 최신 뉴스\n"
     ]
    }
   ],
   "source": [
    "from langchain_teddynote.messages import pretty_print_messages\n",
    "from langchain_core.runnables import RunnableConfig\n",
    "\n",
    "# 질문\n",
    "question = \"AI 관련 최신 뉴스를 알려주세요.\"\n",
    "\n",
    "# 초기 입력 State 를 정의\n",
    "input = State(messages=[(\"user\", question)])\n",
    "\n",
    "# config 설정\n",
    "config = RunnableConfig(\n",
    "    recursion_limit=10,  # 최대 10개의 노드까지 방문. 그 이상은 RecursionError 발생\n",
    "    configurable={\"thread_id\": \"1\"},  # 스레드 ID 설정\n",
    "    tags=[\"my-rag\"],  # Tag\n",
    ")\n",
    "\n",
    "for event in graph.stream(\n",
    "    input=input,\n",
    "    config=config,\n",
    "    stream_mode=\"values\",\n",
    "    interrupt_before=[\"tools\"],  # tools 실행 전 interrupt(tools 노드 실행 전 중단)\n",
    "):\n",
    "    for key, value in event.items():\n",
    "        # key 는 노드 이름\n",
    "        print(f\"\\n[{key}]\\n\")\n",
    "\n",
    "        # value 는 노드의 출력값\n",
    "        # print(value)\n",
    "        pretty_print_messages(value)\n",
    "\n",
    "        # value 에는 state 가 dict 형태로 저장(values 의 key 값)\n",
    "        if \"messages\" in value:\n",
    "            print(f\"메시지 개수: {len(value['messages'])}\")\n"
   ]
  },
  {
   "cell_type": "code",
   "execution_count": 64,
   "metadata": {},
   "outputs": [
    {
     "data": {
      "text/plain": [
       "('tools',)"
      ]
     },
     "execution_count": 64,
     "metadata": {},
     "output_type": "execute_result"
    }
   ],
   "source": [
    "# 그래프 상태 스냅샷 생성\n",
    "snapshot = graph.get_state(config)\n",
    "\n",
    "# 다음 스냅샷 상태\n",
    "snapshot.next\n"
   ]
  },
  {
   "cell_type": "code",
   "execution_count": 65,
   "metadata": {},
   "outputs": [
    {
     "name": "stdout",
     "output_type": "stream",
     "text": [
      "    \u001b[96mindex [0]\u001b[0m\n",
      "        \u001b[94mname\u001b[0m: \"search_keyword\"\n",
      "        \u001b[94margs\u001b[0m: {\"query\": \"AI 최신 뉴스\"}\n",
      "        \u001b[94mid\u001b[0m: \"call_7gLTs7Z1AL3vYzQszReMFH9D\"\n",
      "        \u001b[94mtype\u001b[0m: \"tool_call\"\n"
     ]
    }
   ],
   "source": [
    "from langchain_teddynote.messages import display_message_tree\n",
    "\n",
    "# 메시지 스냅샷에서 마지막 메시지 추출\n",
    "existing_message = snapshot.values[\"messages\"][-1]\n",
    "\n",
    "# 메시지 트리 표시\n",
    "display_message_tree(existing_message.tool_calls)\n"
   ]
  },
  {
   "cell_type": "code",
   "execution_count": 66,
   "metadata": {},
   "outputs": [
    {
     "name": "stdout",
     "output_type": "stream",
     "text": [
      "==================================\u001b[1m Ai Message \u001b[0m==================================\n",
      "Tool Calls:\n",
      "  search_keyword (call_7gLTs7Z1AL3vYzQszReMFH9D)\n",
      " Call ID: call_7gLTs7Z1AL3vYzQszReMFH9D\n",
      "  Args:\n",
      "    query: AI 최신 뉴스\n",
      "=================================\u001b[1m Tool Message \u001b[0m=================================\n",
      "Name: search_keyword\n",
      "\n",
      "[{\"url\": \"https://news.google.com/rss/articles/CBMiakFVX3lxTE9xNUotVlNTTEQzTnZDMVEwOUdNVTVjQlZVLVdLcFNWd1NuNXJ2a0NsNnFfUDNmTzg2bzQzbTNSRlRNTUc2UU12T2F0c28xaE02Sk5tUWlHZkxXemdGVDlNUnFiQVdkY2xkZ3c?oc=5\", \"content\": \"[8월26일] \\\"AI 챗봇의 '의인화' 없애지 않으면 큰 문제 생길 것\\\" - AI타임스\"}, {\"url\": \"https://news.google.com/rss/articles/CBMiSEFVX3lxTE9ZR3pkUS1CRW95Ykh2ejVQYWo3RHFpU185d09XcmF1OG1VbEdUSE5fLURPSkhLNGtpSzI2M1pRMnVCSURUcFZOSw?oc=5\", \"content\": \"독자 AI 파운데이션 모델, 대한민국 AI의 새로운 출발선에서 - SK텔레콤 뉴스룸\"}, {\"url\": \"https://news.google.com/rss/articles/CBMiU0FVX3lxTE1NZFUyRnI0MmVrb0Z2ZWZMLUNpR2pKM3RvRG1nNUJkbmFKQmRsTGlocElKeU8wUlR1VzNrVlBZMzVuMGJ0b2p1dlE3cnN6bDJZQ3J3?oc=5\", \"content\": \"'폭탄 제조·머스크 암살'에 진지한 답변…AI 그록, 수십만건 대화기록 유출 파장 - 네이트\"}, {\"url\": \"https://news.google.com/rss/articles/CBMiakFVX3lxTE9IS09QWmk1MTZPTk1EcXZzMksxMmxfY3dUbXFRUFMtaEl0ZV92UWt0bjZxemNtdUxIQ0ZLWGo3RGoyNXFFajZrY0VXMDdmNTEwQkE0R3ljVnhMQkVZb3FzSzcwVkhYbm5SYUE?oc=5\", \"content\": \"[AI 구기자] AI 기본법 하위법령 이달 말 공개… “모호한 규정 해소가 관건” - newstheai.com\"}, {\"url\": \"https://news.google.com/rss/articles/CBMiVkFVX3lxTE8wdEdXTnY3OWFBM1c5V19BM0pZZXNremdnWFNHQ1JsRS1MMUQxc0Jhdmx2d0xaY2UtWnpMSlhPTjhYeEk1Wk1JSFZ1dDVmbzhQUm4zRXFB?oc=5\", \"content\": \"[교육이 미래다] ‘화학 반응 예측 AI 모델’ 네이처에 실려 - 중앙일보\"}]\n",
      "==================================\u001b[1m Ai Message \u001b[0m==================================\n",
      "\n",
      "다음은 최근 AI(인공지능) 관련 주요 뉴스입니다:\n",
      "\n",
      "1. \"AI 챗봇의 '의인화' 없애지 않으면 큰 문제 생길 것\"  \n",
      "AI 기술이 발전하면서 챗봇의 의인화가 가져올 문제점에 대한 경고가 나오고 있습니다. (출처: AI타임스)\n",
      "\n",
      "2. \"독자 AI 파운데이션 모델, 대한민국 AI의 새로운 출발선에서\"  \n",
      "SK텔레콤이 독자적인 AI 파운데이션 모델 개발을 소개하며 국내 AI 산업의 발전 방향을 제시합니다. (출처: SK텔레콤 뉴스룸)\n",
      "\n",
      "3. \"'폭탄 제조·머스크 암살'에 진지한 답변…AI 그록, 수십만건 대화기록 유출 파장\"  \n",
      "AI 채팅 서비스에서 민감한 내용에 대한 답변과 함께 대화 기록이 유출되는 사건이 발생하여 논란이 되고 있습니다. (출처: 네이트)\n",
      "\n",
      "4. \"AI 기본법 하위법령 이달 말 공개… '모호한 규정 해소가 관건'\"  \n",
      "AI 기본법의 하위 법령이 곧 공개될 예정이며, 그동안 논란이 되었던 규정의 모호성 해소가 중요한 이슈로 떠오르고 있습니다. (출처: newstheai.com)\n",
      "\n",
      "5. \"‘화학 반응 예측 AI 모델’ 네이처에 실려\"  \n",
      "화학 반응을 예측하는 AI 모델이 세계적인 학술지 네이처에 실리는 성과를 얻었습니다. (출처: 중앙일보)\n",
      "\n",
      "자세한 내용이 필요하시거나, 특정 분야의 AI 뉴스가 궁금하시다면 추가로 알려주세요!\n"
     ]
    }
   ],
   "source": [
    "# `None`는 현재 상태에 아무것도 추가하지 않음\n",
    "events = graph.stream(None, config, stream_mode=\"values\")\n",
    "\n",
    "# 이벤트 반복 처리\n",
    "for event in events:\n",
    "    # 메시지가 이벤트에 포함된 경우\n",
    "    if \"messages\" in event:\n",
    "        # 마지막 메시지의 예쁜 출력\n",
    "        event[\"messages\"][-1].pretty_print()\n"
   ]
  },
  {
   "cell_type": "code",
   "execution_count": 67,
   "metadata": {},
   "outputs": [
    {
     "name": "stdout",
     "output_type": "stream",
     "text": [
      "메시지 수:  4 다음 노드:  ()\n",
      "--------------------------------------------------------------------------------\n",
      "메시지 수:  3 다음 노드:  ('chatbot',)\n",
      "--------------------------------------------------------------------------------\n",
      "메시지 수:  2 다음 노드:  ('tools',)\n",
      "--------------------------------------------------------------------------------\n",
      "메시지 수:  1 다음 노드:  ('chatbot',)\n",
      "--------------------------------------------------------------------------------\n",
      "메시지 수:  0 다음 노드:  ('__start__',)\n",
      "--------------------------------------------------------------------------------\n"
     ]
    }
   ],
   "source": [
    "to_replay = None\n",
    "\n",
    "# 상태 기록 가져오기\n",
    "for state in graph.get_state_history(config):\n",
    "    # 메시지 수 및 다음 상태 출력\n",
    "    print(\"메시지 수: \", len(state.values[\"messages\"]), \"다음 노드: \", state.next)\n",
    "    print(\"-\" * 80)\n",
    "    # 특정 상태 선택 기준: 채팅 메시지 수\n",
    "    if len(state.values[\"messages\"]) == 3:\n",
    "        to_replay = state\n"
   ]
  },
  {
   "cell_type": "code",
   "execution_count": 68,
   "metadata": {},
   "outputs": [
    {
     "name": "stdout",
     "output_type": "stream",
     "text": [
      "('chatbot',)\n",
      "{'configurable': {'thread_id': '1', 'checkpoint_ns': '', 'checkpoint_id': '1f082e27-09f3-63d8-8002-655b5188f527'}}\n"
     ]
    }
   ],
   "source": [
    "# 다음 항목의 다음 요소 출력\n",
    "print(to_replay.next)\n",
    "\n",
    "# 다음 항목의 설정 정보 출력\n",
    "print(to_replay.config)\n"
   ]
  },
  {
   "cell_type": "code",
   "execution_count": 69,
   "metadata": {},
   "outputs": [
    {
     "data": {
      "text/plain": [
       "{'configurable': {'thread_id': '1',\n",
       "  'checkpoint_ns': '',\n",
       "  'checkpoint_id': '1f082e27-09f3-63d8-8002-655b5188f527'}}"
      ]
     },
     "execution_count": 69,
     "metadata": {},
     "output_type": "execute_result"
    }
   ],
   "source": [
    "to_replay.config\n"
   ]
  },
  {
   "cell_type": "code",
   "execution_count": 70,
   "metadata": {},
   "outputs": [
    {
     "name": "stdout",
     "output_type": "stream",
     "text": [
      "=================================\u001b[1m Tool Message \u001b[0m=================================\n",
      "Name: search_keyword\n",
      "\n",
      "[{\"url\": \"https://news.google.com/rss/articles/CBMiakFVX3lxTE9xNUotVlNTTEQzTnZDMVEwOUdNVTVjQlZVLVdLcFNWd1NuNXJ2a0NsNnFfUDNmTzg2bzQzbTNSRlRNTUc2UU12T2F0c28xaE02Sk5tUWlHZkxXemdGVDlNUnFiQVdkY2xkZ3c?oc=5\", \"content\": \"[8월26일] \\\"AI 챗봇의 '의인화' 없애지 않으면 큰 문제 생길 것\\\" - AI타임스\"}, {\"url\": \"https://news.google.com/rss/articles/CBMiSEFVX3lxTE9ZR3pkUS1CRW95Ykh2ejVQYWo3RHFpU185d09XcmF1OG1VbEdUSE5fLURPSkhLNGtpSzI2M1pRMnVCSURUcFZOSw?oc=5\", \"content\": \"독자 AI 파운데이션 모델, 대한민국 AI의 새로운 출발선에서 - SK텔레콤 뉴스룸\"}, {\"url\": \"https://news.google.com/rss/articles/CBMiU0FVX3lxTE1NZFUyRnI0MmVrb0Z2ZWZMLUNpR2pKM3RvRG1nNUJkbmFKQmRsTGlocElKeU8wUlR1VzNrVlBZMzVuMGJ0b2p1dlE3cnN6bDJZQ3J3?oc=5\", \"content\": \"'폭탄 제조·머스크 암살'에 진지한 답변…AI 그록, 수십만건 대화기록 유출 파장 - 네이트\"}, {\"url\": \"https://news.google.com/rss/articles/CBMiakFVX3lxTE9IS09QWmk1MTZPTk1EcXZzMksxMmxfY3dUbXFRUFMtaEl0ZV92UWt0bjZxemNtdUxIQ0ZLWGo3RGoyNXFFajZrY0VXMDdmNTEwQkE0R3ljVnhMQkVZb3FzSzcwVkhYbm5SYUE?oc=5\", \"content\": \"[AI 구기자] AI 기본법 하위법령 이달 말 공개… “모호한 규정 해소가 관건” - newstheai.com\"}, {\"url\": \"https://news.google.com/rss/articles/CBMiVkFVX3lxTE8wdEdXTnY3OWFBM1c5V19BM0pZZXNremdnWFNHQ1JsRS1MMUQxc0Jhdmx2d0xaY2UtWnpMSlhPTjhYeEk1Wk1JSFZ1dDVmbzhQUm4zRXFB?oc=5\", \"content\": \"[교육이 미래다] ‘화학 반응 예측 AI 모델’ 네이처에 실려 - 중앙일보\"}]\n",
      "==================================\u001b[1m Ai Message \u001b[0m==================================\n",
      "\n",
      "다음은 최근 AI 관련 주요 뉴스입니다:\n",
      "\n",
      "1. \"AI 챗봇의 '의인화' 없애지 않으면 큰 문제 생길 것\" (AI타임스, 8월 26일)  \n",
      "→ AI 챗봇을 사람처럼 의인화하는 데서 발생할 수 있는 문제점에 대한 경고입니다.  \n",
      "(기사 보기)\n",
      "\n",
      "2. \"독자 AI 파운데이션 모델, 대한민국 AI의 새로운 출발선에서\" (SK텔레콤 뉴스룸)  \n",
      "→ 자체 개발한 AI 파운데이션 모델이 국내 AI 생태계에 미치는 영향에 대한 소식입니다.  \n",
      "(기사 보기)\n",
      "\n",
      "3. \"'폭탄 제조·머스크 암살'에 진지한 답변…AI 그록, 수십만건 대화기록 유출 파장\" (네이트)  \n",
      "→ AI 챗봇 그록(Grok)에서 민감한 내용의 대화기록이 대규모로 유출된 사건에 관한 내용입니다.  \n",
      "(기사 보기)\n",
      "\n",
      "4. \"AI 기본법 하위법령 이달 말 공개… ‘모호한 규정 해소가 관건’\" (newstheai.com)  \n",
      "→ AI 규제와 활용 방안에 관한 법적 기반이 마련되고 있다는 소식입니다.  \n",
      "(기사 보기)\n",
      "\n",
      "5. \"‘화학 반응 예측 AI 모델’ 네이처에 실려\" (중앙일보)  \n",
      "→ 화학 반응을 예측하는 AI 모델이 과학 저널 네이처에 소개된 뉴스입니다.  \n",
      "(기사 보기)\n",
      "\n",
      "각 제목을 클릭(터치)하시면 자세한 기사 내용을 확인하실 수 있습니다. 추가 정보가 필요하시면 말씀해 주세요!\n"
     ]
    }
   ],
   "source": [
    "# `to_replay.config`는 `checkpoint_id`는 체크포인터에 저장된 상태에 해당\n",
    "for event in graph.stream(None, to_replay.config, stream_mode=\"values\"):\n",
    "    # 메시지가 이벤트에 포함된 경우\n",
    "    if \"messages\" in event:\n",
    "        # 마지막 메시지 출력\n",
    "        event[\"messages\"][-1].pretty_print()\n"
   ]
  },
  {
   "cell_type": "markdown",
   "metadata": {},
   "source": [
    "07. 중간단계 개입 되돌림을 통한 상태 수정과 Replay"
   ]
  },
  {
   "cell_type": "code",
   "execution_count": 71,
   "metadata": {},
   "outputs": [],
   "source": [
    "from langchain_core.runnables import RunnableConfig\n",
    "\n",
    "# 질문\n",
    "question = \"LangGraph 가 무엇인지 조사하여 알려주세요!\"\n",
    "\n",
    "# 초기 입력 상태를 정의\n",
    "input = State(messages=[(\"user\", question)])\n",
    "\n",
    "# config 설정\n",
    "config = RunnableConfig(\n",
    "    configurable={\"thread_id\": \"1\"},  # 스레드 ID 설정\n",
    ")\n"
   ]
  },
  {
   "cell_type": "code",
   "execution_count": 72,
   "metadata": {},
   "outputs": [
    {
     "data": {
      "text/plain": [
       "['messages',\n",
       " '__start__',\n",
       " '__pregel_tasks',\n",
       " 'branch:to:chatbot',\n",
       " 'branch:to:tools']"
      ]
     },
     "execution_count": 72,
     "metadata": {},
     "output_type": "execute_result"
    }
   ],
   "source": [
    "# 그래프 채널 목록 출력\n",
    "list(graph.channels)\n"
   ]
  },
  {
   "cell_type": "code",
   "execution_count": 73,
   "metadata": {},
   "outputs": [
    {
     "name": "stdout",
     "output_type": "stream",
     "text": [
      "================================\u001b[1m Human Message \u001b[0m=================================\n",
      "\n",
      "LangGraph 가 무엇인지 조사하여 알려주세요!\n",
      "==================================\u001b[1m Ai Message \u001b[0m==================================\n",
      "Tool Calls:\n",
      "  search_keyword (call_gGjPjxD2ZYmHT4N9El4kFOWf)\n",
      " Call ID: call_gGjPjxD2ZYmHT4N9El4kFOWf\n",
      "  Args:\n",
      "    query: LangGraph\n"
     ]
    }
   ],
   "source": [
    "# 그래프 스트림 호출\n",
    "events = graph.stream(\n",
    "    input=input, config=config, interrupt_before=[\"tools\"], stream_mode=\"values\"\n",
    ")\n",
    "\n",
    "# 이벤트 반복 처리\n",
    "for event in events:\n",
    "    # 메시지가 이벤트에 포함된 경우\n",
    "    if \"messages\" in event:\n",
    "        # 마지막 메시지의 예쁜 출력\n",
    "        event[\"messages\"][-1].pretty_print()\n"
   ]
  },
  {
   "cell_type": "code",
   "execution_count": 74,
   "metadata": {},
   "outputs": [
    {
     "name": "stdout",
     "output_type": "stream",
     "text": [
      "==================================\u001b[1m Ai Message \u001b[0m==================================\n",
      "Tool Calls:\n",
      "  search_keyword (call_gGjPjxD2ZYmHT4N9El4kFOWf)\n",
      " Call ID: call_gGjPjxD2ZYmHT4N9El4kFOWf\n",
      "  Args:\n",
      "    query: LangGraph\n"
     ]
    }
   ],
   "source": [
    "# 그래프 상태 스냅샷 생성\n",
    "snapshot = graph.get_state(config)\n",
    "\n",
    "# 가장 최근 메시지 추출\n",
    "last_message = snapshot.values[\"messages\"][-1]\n",
    "\n",
    "# 메시지 출력\n",
    "last_message.pretty_print()\n"
   ]
  },
  {
   "cell_type": "code",
   "execution_count": 75,
   "metadata": {},
   "outputs": [
    {
     "name": "stdout",
     "output_type": "stream",
     "text": [
      "[수정된 웹 검색 결과] \n",
      "LangGraph는 상태 기반의 다중 액터 애플리케이션을 LLM을 활용해 구축할 수 있도록 지원합니다.\n",
      "LangGraph는 사이클 흐름, 제어 가능성, 지속성, 클라우드 배포 기능을 제공하는 오픈 소스 라이브러리입니다.\n",
      "\n",
      "자세한 튜토리얼은 [LangGraph 튜토리얼](https://langchain-ai.github.io/langgraph/tutorials/) 과\n",
      "테디노트의 [랭체인 한국어 튜토리얼](https://wikidocs.net/233785) 을 참고하세요.\n"
     ]
    }
   ],
   "source": [
    "modified_search_result = \"\"\"[수정된 웹 검색 결과] \n",
    "LangGraph는 상태 기반의 다중 액터 애플리케이션을 LLM을 활용해 구축할 수 있도록 지원합니다.\n",
    "LangGraph는 사이클 흐름, 제어 가능성, 지속성, 클라우드 배포 기능을 제공하는 오픈 소스 라이브러리입니다.\n",
    "\n",
    "자세한 튜토리얼은 [LangGraph 튜토리얼](https://langchain-ai.github.io/langgraph/tutorials/) 과\n",
    "테디노트의 [랭체인 한국어 튜토리얼](https://wikidocs.net/233785) 을 참고하세요.\"\"\"\n",
    "\n",
    "print(modified_search_result)\n"
   ]
  },
  {
   "cell_type": "code",
   "execution_count": 76,
   "metadata": {},
   "outputs": [
    {
     "name": "stdout",
     "output_type": "stream",
     "text": [
      "call_gGjPjxD2ZYmHT4N9El4kFOWf\n"
     ]
    }
   ],
   "source": [
    "# 수정하고자 하는 `ToolMessage` 의 `tool_call_id` 추출\n",
    "tool_call_id = last_message.tool_calls[0][\"id\"]\n",
    "print(tool_call_id)\n"
   ]
  },
  {
   "cell_type": "code",
   "execution_count": 77,
   "metadata": {},
   "outputs": [
    {
     "name": "stdout",
     "output_type": "stream",
     "text": [
      "=================================\u001b[1m Tool Message \u001b[0m=================================\n",
      "\n",
      "[수정된 웹 검색 결과] \n",
      "LangGraph는 상태 기반의 다중 액터 애플리케이션을 LLM을 활용해 구축할 수 있도록 지원합니다.\n",
      "LangGraph는 사이클 흐름, 제어 가능성, 지속성, 클라우드 배포 기능을 제공하는 오픈 소스 라이브러리입니다.\n",
      "\n",
      "자세한 튜토리얼은 [LangGraph 튜토리얼](https://langchain-ai.github.io/langgraph/tutorials/) 과\n",
      "테디노트의 [랭체인 한국어 튜토리얼](https://wikidocs.net/233785) 을 참고하세요.\n"
     ]
    }
   ],
   "source": [
    "from langchain_core.messages import AIMessage, ToolMessage\n",
    "\n",
    "new_messages = [\n",
    "    # LLM API의 도구 호출과 일치하는 ToolMessage 필요\n",
    "    ToolMessage(\n",
    "        content=modified_search_result,\n",
    "        tool_call_id=tool_call_id,\n",
    "    ),\n",
    "    # LLM의 응답에 직접적으로 내용 추가\n",
    "    # AIMessage(content=modified_search_result),\n",
    "]\n",
    "\n",
    "new_messages[-1].pretty_print()\n"
   ]
  },
  {
   "cell_type": "code",
   "execution_count": 78,
   "metadata": {},
   "outputs": [
    {
     "name": "stdout",
     "output_type": "stream",
     "text": [
      "(최근 1개의 메시지 출력)\n",
      "\n",
      "content='[수정된 웹 검색 결과] \\nLangGraph는 상태 기반의 다중 액터 애플리케이션을 LLM을 활용해 구축할 수 있도록 지원합니다.\\nLangGraph는 사이클 흐름, 제어 가능성, 지속성, 클라우드 배포 기능을 제공하는 오픈 소스 라이브러리입니다.\\n\\n자세한 튜토리얼은 [LangGraph 튜토리얼](https://langchain-ai.github.io/langgraph/tutorials/) 과\\n테디노트의 [랭체인 한국어 튜토리얼](https://wikidocs.net/233785) 을 참고하세요.' id='f446e43b-75e7-419f-8b27-cd34eb19a9f2' tool_call_id='call_gGjPjxD2ZYmHT4N9El4kFOWf'\n"
     ]
    }
   ],
   "source": [
    "graph.update_state(\n",
    "    # 업데이트할 상태 지정\n",
    "    config,\n",
    "    # 제공할 업데이트된 값. `State`의 메시지는 \"추가 전용\"으로 기존 상태에 추가됨\n",
    "    {\"messages\": new_messages},\n",
    "    as_node=\"tools\",\n",
    ")\n",
    "\n",
    "print(\"(최근 1개의 메시지 출력)\\n\")\n",
    "print(graph.get_state(config).values[\"messages\"][-1])\n"
   ]
  },
  {
   "cell_type": "code",
   "execution_count": 79,
   "metadata": {},
   "outputs": [
    {
     "data": {
      "text/plain": [
       "('chatbot',)"
      ]
     },
     "execution_count": 79,
     "metadata": {},
     "output_type": "execute_result"
    }
   ],
   "source": [
    "snapshot = graph.get_state(config)\n",
    "snapshot.next\n"
   ]
  },
  {
   "cell_type": "code",
   "execution_count": 80,
   "metadata": {},
   "outputs": [
    {
     "name": "stdout",
     "output_type": "stream",
     "text": [
      "=================================\u001b[1m Tool Message \u001b[0m=================================\n",
      "\n",
      "[수정된 웹 검색 결과] \n",
      "LangGraph는 상태 기반의 다중 액터 애플리케이션을 LLM을 활용해 구축할 수 있도록 지원합니다.\n",
      "LangGraph는 사이클 흐름, 제어 가능성, 지속성, 클라우드 배포 기능을 제공하는 오픈 소스 라이브러리입니다.\n",
      "\n",
      "자세한 튜토리얼은 [LangGraph 튜토리얼](https://langchain-ai.github.io/langgraph/tutorials/) 과\n",
      "테디노트의 [랭체인 한국어 튜토리얼](https://wikidocs.net/233785) 을 참고하세요.\n",
      "==================================\u001b[1m Ai Message \u001b[0m==================================\n",
      "\n",
      "LangGraph는 상태 기반(State-based)의 다중 액터(multi-actor) 애플리케이션을 대형 언어모델(LLM, 예: GPT-4 등)을 활용해서 쉽고 효율적으로 구축할 수 있게 해주는 오픈소스 라이브러리입니다.\n",
      "\n",
      "주요 특징:\n",
      "\n",
      "- 사이클 흐름(Cyclic flow): 단방향·단순 논리가 아닌, 복잡하게 순환하거나 분기되는 플로우도 설계할 수 있습니다.\n",
      "- 제어 가능성: 애플리케이션의 상태(state)나 흐름을 세밀하게 통제할 수 있습니다.\n",
      "- 지속성(Persistence): 처리 중인 데이터나 상태 정보를 저장해 중단 후 재실행이 가능합니다.\n",
      "- 클라우드 배포: 서버리스 환경 등에서 클라우드로 손쉽게 배포할 수 있습니다.\n",
      "\n",
      "LangGraph는 주로 대화형 AI, 워크플로우 오케스트레이션, 멀티 에이전트 시스템 등 복잡한 LLM 기반 서비스 개발에 폭넓게 사용됩니다.\n",
      "\n",
      "더 자세한 정보와 실습은 다음 자료를 참고하세요:  \n",
      "- 공식 LangGraph 튜토리얼: https://langchain-ai.github.io/langgraph/tutorials/  \n",
      "- 한국어 튜토리얼(위키독스): https://wikidocs.net/233785 \n",
      "\n",
      "추가로 궁금한 점이 있으면 물어보세요!\n"
     ]
    }
   ],
   "source": [
    "# `None`는 현재 상태에 아무것도 추가하지 않음\n",
    "events = graph.stream(None, config, stream_mode=\"values\")\n",
    "\n",
    "# 이벤트 반복 처리\n",
    "for event in events:\n",
    "    # 메시지가 이벤트에 포함된 경우\n",
    "    if \"messages\" in event:\n",
    "        # 마지막 메시지의 예쁜 출력\n",
    "        event[\"messages\"][-1].pretty_print()\n"
   ]
  },
  {
   "cell_type": "code",
   "execution_count": 81,
   "metadata": {},
   "outputs": [],
   "source": [
    "# 이 함수가 작동할 노드 지정. 이 노드가 방금 실행된 것처럼 자동으로 처리 계속\n",
    "# graph.update_state(\n",
    "#     config,\n",
    "#     {\n",
    "#         \"messages\": [\n",
    "#             AIMessage(content=\"마지막으로 최종 메시지를 추가하여 마무리 합니다.\")\n",
    "#         ]\n",
    "#     },\n",
    "#     as_node=\"chatbot\",\n",
    "# )\n"
   ]
  },
  {
   "cell_type": "code",
   "execution_count": 82,
   "metadata": {},
   "outputs": [
    {
     "data": {
      "image/png": "[encoded data removed]",
      "text/plain": [
       "<IPython.core.display.Image object>"
      ]
     },
     "metadata": {},
     "output_type": "display_data"
    }
   ],
   "source": [
    "from langchain_teddynote.graphs import visualize_graph\n",
    "\n",
    "visualize_graph(graph)\n"
   ]
  },
  {
   "cell_type": "code",
   "execution_count": 83,
   "metadata": {},
   "outputs": [
    {
     "name": "stdout",
     "output_type": "stream",
     "text": [
      "================================\u001b[1m Human Message \u001b[0m=================================\n",
      "\n",
      "AI 관련 최신 뉴스를 알려주세요.\n",
      "==================================\u001b[1m Ai Message \u001b[0m==================================\n",
      "Tool Calls:\n",
      "  search_keyword (call_7gLTs7Z1AL3vYzQszReMFH9D)\n",
      " Call ID: call_7gLTs7Z1AL3vYzQszReMFH9D\n",
      "  Args:\n",
      "    query: AI 최신 뉴스\n",
      "=================================\u001b[1m Tool Message \u001b[0m=================================\n",
      "Name: search_keyword\n",
      "\n",
      "[{\"url\": \"https://news.google.com/rss/articles/CBMiakFVX3lxTE9xNUotVlNTTEQzTnZDMVEwOUdNVTVjQlZVLVdLcFNWd1NuNXJ2a0NsNnFfUDNmTzg2bzQzbTNSRlRNTUc2UU12T2F0c28xaE02Sk5tUWlHZkxXemdGVDlNUnFiQVdkY2xkZ3c?oc=5\", \"content\": \"[8월26일] \\\"AI 챗봇의 '의인화' 없애지 않으면 큰 문제 생길 것\\\" - AI타임스\"}, {\"url\": \"https://news.google.com/rss/articles/CBMiSEFVX3lxTE9ZR3pkUS1CRW95Ykh2ejVQYWo3RHFpU185d09XcmF1OG1VbEdUSE5fLURPSkhLNGtpSzI2M1pRMnVCSURUcFZOSw?oc=5\", \"content\": \"독자 AI 파운데이션 모델, 대한민국 AI의 새로운 출발선에서 - SK텔레콤 뉴스룸\"}, {\"url\": \"https://news.google.com/rss/articles/CBMiU0FVX3lxTE1NZFUyRnI0MmVrb0Z2ZWZMLUNpR2pKM3RvRG1nNUJkbmFKQmRsTGlocElKeU8wUlR1VzNrVlBZMzVuMGJ0b2p1dlE3cnN6bDJZQ3J3?oc=5\", \"content\": \"'폭탄 제조·머스크 암살'에 진지한 답변…AI 그록, 수십만건 대화기록 유출 파장 - 네이트\"}, {\"url\": \"https://news.google.com/rss/articles/CBMiakFVX3lxTE9IS09QWmk1MTZPTk1EcXZzMksxMmxfY3dUbXFRUFMtaEl0ZV92UWt0bjZxemNtdUxIQ0ZLWGo3RGoyNXFFajZrY0VXMDdmNTEwQkE0R3ljVnhMQkVZb3FzSzcwVkhYbm5SYUE?oc=5\", \"content\": \"[AI 구기자] AI 기본법 하위법령 이달 말 공개… “모호한 규정 해소가 관건” - newstheai.com\"}, {\"url\": \"https://news.google.com/rss/articles/CBMiVkFVX3lxTE8wdEdXTnY3OWFBM1c5V19BM0pZZXNremdnWFNHQ1JsRS1MMUQxc0Jhdmx2d0xaY2UtWnpMSlhPTjhYeEk1Wk1JSFZ1dDVmbzhQUm4zRXFB?oc=5\", \"content\": \"[교육이 미래다] ‘화학 반응 예측 AI 모델’ 네이처에 실려 - 중앙일보\"}]\n",
      "==================================\u001b[1m Ai Message \u001b[0m==================================\n",
      "\n",
      "다음은 최근 AI 관련 주요 뉴스입니다:\n",
      "\n",
      "1. \"AI 챗봇의 '의인화' 없애지 않으면 큰 문제 생길 것\" (AI타임스, 8월 26일)  \n",
      "→ AI 챗봇을 사람처럼 의인화하는 데서 발생할 수 있는 문제점에 대한 경고입니다.  \n",
      "(기사 보기)\n",
      "\n",
      "2. \"독자 AI 파운데이션 모델, 대한민국 AI의 새로운 출발선에서\" (SK텔레콤 뉴스룸)  \n",
      "→ 자체 개발한 AI 파운데이션 모델이 국내 AI 생태계에 미치는 영향에 대한 소식입니다.  \n",
      "(기사 보기)\n",
      "\n",
      "3. \"'폭탄 제조·머스크 암살'에 진지한 답변…AI 그록, 수십만건 대화기록 유출 파장\" (네이트)  \n",
      "→ AI 챗봇 그록(Grok)에서 민감한 내용의 대화기록이 대규모로 유출된 사건에 관한 내용입니다.  \n",
      "(기사 보기)\n",
      "\n",
      "4. \"AI 기본법 하위법령 이달 말 공개… ‘모호한 규정 해소가 관건’\" (newstheai.com)  \n",
      "→ AI 규제와 활용 방안에 관한 법적 기반이 마련되고 있다는 소식입니다.  \n",
      "(기사 보기)\n",
      "\n",
      "5. \"‘화학 반응 예측 AI 모델’ 네이처에 실려\" (중앙일보)  \n",
      "→ 화학 반응을 예측하는 AI 모델이 과학 저널 네이처에 소개된 뉴스입니다.  \n",
      "(기사 보기)\n",
      "\n",
      "각 제목을 클릭(터치)하시면 자세한 기사 내용을 확인하실 수 있습니다. 추가 정보가 필요하시면 말씀해 주세요!\n",
      "================================\u001b[1m Human Message \u001b[0m=================================\n",
      "\n",
      "LangGraph 가 무엇인지 조사하여 알려주세요!\n",
      "==================================\u001b[1m Ai Message \u001b[0m==================================\n",
      "Tool Calls:\n",
      "  search_keyword (call_gGjPjxD2ZYmHT4N9El4kFOWf)\n",
      " Call ID: call_gGjPjxD2ZYmHT4N9El4kFOWf\n",
      "  Args:\n",
      "    query: LangGraph\n",
      "=================================\u001b[1m Tool Message \u001b[0m=================================\n",
      "\n",
      "[수정된 웹 검색 결과] \n",
      "LangGraph는 상태 기반의 다중 액터 애플리케이션을 LLM을 활용해 구축할 수 있도록 지원합니다.\n",
      "LangGraph는 사이클 흐름, 제어 가능성, 지속성, 클라우드 배포 기능을 제공하는 오픈 소스 라이브러리입니다.\n",
      "\n",
      "자세한 튜토리얼은 [LangGraph 튜토리얼](https://langchain-ai.github.io/langgraph/tutorials/) 과\n",
      "테디노트의 [랭체인 한국어 튜토리얼](https://wikidocs.net/233785) 을 참고하세요.\n",
      "==================================\u001b[1m Ai Message \u001b[0m==================================\n",
      "\n",
      "LangGraph는 상태 기반(State-based)의 다중 액터(multi-actor) 애플리케이션을 대형 언어모델(LLM, 예: GPT-4 등)을 활용해서 쉽고 효율적으로 구축할 수 있게 해주는 오픈소스 라이브러리입니다.\n",
      "\n",
      "주요 특징:\n",
      "\n",
      "- 사이클 흐름(Cyclic flow): 단방향·단순 논리가 아닌, 복잡하게 순환하거나 분기되는 플로우도 설계할 수 있습니다.\n",
      "- 제어 가능성: 애플리케이션의 상태(state)나 흐름을 세밀하게 통제할 수 있습니다.\n",
      "- 지속성(Persistence): 처리 중인 데이터나 상태 정보를 저장해 중단 후 재실행이 가능합니다.\n",
      "- 클라우드 배포: 서버리스 환경 등에서 클라우드로 손쉽게 배포할 수 있습니다.\n",
      "\n",
      "LangGraph는 주로 대화형 AI, 워크플로우 오케스트레이션, 멀티 에이전트 시스템 등 복잡한 LLM 기반 서비스 개발에 폭넓게 사용됩니다.\n",
      "\n",
      "더 자세한 정보와 실습은 다음 자료를 참고하세요:  \n",
      "- 공식 LangGraph 튜토리얼: https://langchain-ai.github.io/langgraph/tutorials/  \n",
      "- 한국어 튜토리얼(위키독스): https://wikidocs.net/233785 \n",
      "\n",
      "추가로 궁금한 점이 있으면 물어보세요!\n"
     ]
    }
   ],
   "source": [
    "# 그래프 상태 스냅샷 생성\n",
    "snapshot = graph.get_state(config)\n",
    "\n",
    "# 최근 세 개의 메시지 출력\n",
    "for message in snapshot.values[\"messages\"]:\n",
    "    message.pretty_print()\n"
   ]
  },
  {
   "cell_type": "code",
   "execution_count": 84,
   "metadata": {},
   "outputs": [
    {
     "name": "stdout",
     "output_type": "stream",
     "text": [
      "()\n"
     ]
    }
   ],
   "source": [
    "# 다음 상태 출력\n",
    "print(snapshot.next)\n"
   ]
  },
  {
   "cell_type": "code",
   "execution_count": 85,
   "metadata": {},
   "outputs": [
    {
     "name": "stdout",
     "output_type": "stream",
     "text": [
      "thread_id: 30104c\n",
      "================================\u001b[1m Human Message \u001b[0m=================================\n",
      "\n",
      "LangGraph 에 대해서 배워보고 싶습니다. 유용한 자료를 추천해 주세요!\n",
      "==================================\u001b[1m Ai Message \u001b[0m==================================\n",
      "Tool Calls:\n",
      "  search_keyword (call_bguTstuecuRcKLaS1QaUTcaG)\n",
      " Call ID: call_bguTstuecuRcKLaS1QaUTcaG\n",
      "  Args:\n",
      "    query: LangGraph\n"
     ]
    }
   ],
   "source": [
    "from langchain_teddynote.graphs import generate_random_hash\n",
    "\n",
    "thread_id = generate_random_hash()\n",
    "print(f\"thread_id: {thread_id}\")\n",
    "\n",
    "question = \"LangGraph 에 대해서 배워보고 싶습니다. 유용한 자료를 추천해 주세요!\"\n",
    "\n",
    "# 초기 입력 상태를 정의\n",
    "input = State(messages=[(\"user\", question)])\n",
    "\n",
    "# 새로운 config 생성\n",
    "config = {\"configurable\": {\"thread_id\": thread_id}}\n",
    "\n",
    "events = graph.stream(\n",
    "    input=input,\n",
    "    config=config,\n",
    "    interrupt_before=[\"tools\"],\n",
    "    stream_mode=\"values\",\n",
    ")\n",
    "for event in events:\n",
    "    if \"messages\" in event:\n",
    "        event[\"messages\"][-1].pretty_print()\n"
   ]
  },
  {
   "cell_type": "code",
   "execution_count": 86,
   "metadata": {},
   "outputs": [],
   "source": [
    "# config 를 복사\n",
    "config_copy = config.copy()\n"
   ]
  },
  {
   "cell_type": "code",
   "execution_count": 87,
   "metadata": {},
   "outputs": [
    {
     "name": "stdout",
     "output_type": "stream",
     "text": [
      "Message ID run--1e776437-ca8b-4d7d-aad0-d63c7c735517-0\n"
     ]
    }
   ],
   "source": [
    "from langchain_core.messages import AIMessage\n",
    "\n",
    "# 스냅샷 상태 가져오기\n",
    "snapshot = graph.get_state(config)\n",
    "\n",
    "# messages 의 마지막 메시지 가져오기\n",
    "existing_message = snapshot.values[\"messages\"][-1]\n",
    "\n",
    "# 메시지 ID 출력\n",
    "print(\"Message ID\", existing_message.id)\n"
   ]
  },
  {
   "cell_type": "code",
   "execution_count": 88,
   "metadata": {},
   "outputs": [
    {
     "name": "stdout",
     "output_type": "stream",
     "text": [
      "{'name': 'search_keyword', 'args': {'query': 'LangGraph'}, 'id': 'call_bguTstuecuRcKLaS1QaUTcaG', 'type': 'tool_call'}\n"
     ]
    }
   ],
   "source": [
    "# 첫 번째 도구 호출 출력\n",
    "print(existing_message.tool_calls[0])\n"
   ]
  },
  {
   "cell_type": "code",
   "execution_count": 89,
   "metadata": {},
   "outputs": [
    {
     "data": {
      "text/plain": [
       "{'name': 'search_keyword',\n",
       " 'args': {'query': 'LangGraph site:teddylee777.github.io'},\n",
       " 'id': 'call_bguTstuecuRcKLaS1QaUTcaG',\n",
       " 'type': 'tool_call'}"
      ]
     },
     "execution_count": 89,
     "metadata": {},
     "output_type": "execute_result"
    }
   ],
   "source": [
    "# tool_calls 를 복사하여 새로운 도구 호출 생성\n",
    "new_tool_call = existing_message.tool_calls[0].copy()\n",
    "\n",
    "# 쿼리 매개변수 업데이트(갱신)\n",
    "new_tool_call[\"args\"] = {\"query\": \"LangGraph site:teddylee777.github.io\"}\n",
    "new_tool_call\n"
   ]
  },
  {
   "cell_type": "code",
   "execution_count": 90,
   "metadata": {},
   "outputs": [
    {
     "name": "stdout",
     "output_type": "stream",
     "text": [
      "run--1e776437-ca8b-4d7d-aad0-d63c7c735517-0\n",
      "==================================\u001b[1m Ai Message \u001b[0m==================================\n",
      "Tool Calls:\n",
      "  search_keyword (call_bguTstuecuRcKLaS1QaUTcaG)\n",
      " Call ID: call_bguTstuecuRcKLaS1QaUTcaG\n",
      "  Args:\n",
      "    query: LangGraph site:teddylee777.github.io\n"
     ]
    }
   ],
   "source": [
    "# AIMessage 생성\n",
    "new_message = AIMessage(\n",
    "    content=existing_message.content,\n",
    "    tool_calls=[new_tool_call],\n",
    "    # 중요! ID는 메시지를 상태에 추가하는 대신 교체하는 방법\n",
    "    id=existing_message.id,\n",
    ")\n",
    "\n",
    "print(new_message.id)\n",
    "\n",
    "# 수정한 메시지 출력\n",
    "new_message.pretty_print()\n"
   ]
  },
  {
   "cell_type": "code",
   "execution_count": 91,
   "metadata": {},
   "outputs": [
    {
     "name": "stdout",
     "output_type": "stream",
     "text": [
      "{'name': 'search_keyword', 'args': {'query': 'LangGraph site:teddylee777.github.io'}, 'id': 'call_bguTstuecuRcKLaS1QaUTcaG', 'type': 'tool_call'}\n",
      "\n",
      "Message ID run--1e776437-ca8b-4d7d-aad0-d63c7c735517-0\n"
     ]
    },
    {
     "data": {
      "text/plain": [
       "{'configurable': {'thread_id': '30104c',\n",
       "  'checkpoint_ns': '',\n",
       "  'checkpoint_id': '1f082e3c-83f2-6264-8002-233b6be4a69f'}}"
      ]
     },
     "execution_count": 91,
     "metadata": {},
     "output_type": "execute_result"
    }
   ],
   "source": [
    "# 업데이트된 도구 호출 출력\n",
    "print(new_message.tool_calls[0])\n",
    "\n",
    "# 메시지 ID 출력\n",
    "print(\"\\nMessage ID\", new_message.id)\n",
    "\n",
    "# 상태 업데이트\n",
    "graph.update_state(config, {\"messages\": [new_message]})\n"
   ]
  },
  {
   "cell_type": "code",
   "execution_count": 92,
   "metadata": {},
   "outputs": [
    {
     "data": {
      "text/plain": [
       "[{'name': 'search_keyword',\n",
       "  'args': {'query': 'LangGraph site:teddylee777.github.io'},\n",
       "  'id': 'call_bguTstuecuRcKLaS1QaUTcaG',\n",
       "  'type': 'tool_call'}]"
      ]
     },
     "execution_count": 92,
     "metadata": {},
     "output_type": "execute_result"
    }
   ],
   "source": [
    "# 마지막 메시지의 도구 호출 가져오기\n",
    "graph.get_state(config).values[\"messages\"][-1].tool_calls\n"
   ]
  },
  {
   "cell_type": "code",
   "execution_count": 93,
   "metadata": {},
   "outputs": [
    {
     "name": "stdout",
     "output_type": "stream",
     "text": [
      "==================================\u001b[1m Ai Message \u001b[0m==================================\n",
      "Tool Calls:\n",
      "  search_keyword (call_bguTstuecuRcKLaS1QaUTcaG)\n",
      " Call ID: call_bguTstuecuRcKLaS1QaUTcaG\n",
      "  Args:\n",
      "    query: LangGraph site:teddylee777.github.io\n",
      "=================================\u001b[1m Tool Message \u001b[0m=================================\n",
      "Name: search_keyword\n",
      "\n",
      "[{\"url\": \"https://news.google.com/rss/articles/CBMiREFVX3lxTE9YdjI3SVhReEpSc2ctaUl1ZzBpb2hFbUxpRnFacGtCRHdROEoyNjlVVkZJS09RdnlqSml6U2d0RGk4a1JG?oc=5\", \"content\": \"테디노트 - GitHub\"}, {\"url\": \"https://news.google.com/rss/articles/CBMib0FVX3lxTE9iTXZZTlNoMEw1QnVvXzJZUTRyT19CanNUbUZicUVqNGtIdWFTSnprb2VoYU9oRUZGVDNRTVhsa2RIT2xBVnVVUXY4SXJtWXpJVW1fZ2xUQ1g2VWZqQnFyMklXc3FiYzJDb056eTM2NA?oc=5\", \"content\": \"LangGraph Retrieval Agent를 활용한 동적 문서 검색 및 처리 - GitHub\"}, {\"url\": \"https://news.google.com/rss/articles/CBMiU0FVX3lxTE9FeFU1cTktMmJlNFBxOWxLSDVCRE4wemx3c2R2OWpKYlVEdnZwSUwtSXpRRDBWTGtTSklZNXk2alNjZHF3TnVoS29VdWtuN3BBcFZz?oc=5\", \"content\": \"카테고리 - GitHub\"}, {\"url\": \"https://news.google.com/rss/articles/CBMidEFVX3lxTE9aLUFJR2JKVkxnUHFUYklqODVBaGlvSG9tazJBQnJMeGZMQVpqT0w2MklFRGFWVUxBRUd0dDZBN0lERkM2ei0tWExZN0ZpdF8xZkdBUHNWX3pVTHpJMHJyZHVRTnFvcUdCY1FYVDdFVUZOSE0z?oc=5\", \"content\": \"TensorFlow 와 PyTorch 중 무엇을 써야할까? - GitHub\"}, {\"url\": \"https://news.google.com/rss/articles/CBMibkFVX3lxTE91dC1fTDFfMkNBTlo5d2JKd2FyLWxXcGNibzNIbXpFUTBKeEs4TGVTRW9UWThTWG0tem5Kd1FkcHpQbHFBd2JVc0p1WTFXcTBlSHRnbWs4RkRkRnoyUjBQNGpKTWtGZU9QR0c1SFRB?oc=5\", \"content\": \"OPENAI API(ChatGPT)를 활용한 블로그 생성 자동화 - GitHub\"}]\n",
      "==================================\u001b[1m Ai Message \u001b[0m==================================\n",
      "\n",
      "LangGraph에 대해 배우고 싶으시다면, 다음과 같은 자료를 추천드립니다:\n",
      "\n",
      "1. 테디노트의 블로그 및 GitHub 게시물 - \"LangGraph Retrieval Agent를 활용한 동적 문서 검색 및 처리\" 등 실제 활용 예시와 튜토리얼을 제공합니다.\n",
      "   - 관련 포스트: LangGraph Retrieval Agent를 활용한 동적 문서 검색 및 처리 - GitHub\n",
      "\n",
      "2. 테디노트 사이트의 LangGraph 관련 카테고리 - 다양한 LangGraph 주제의 글과 예시를 확인할 수 있습니다.\n",
      "   - 카테고리 바로가기: 카테고리 - GitHub\n",
      "\n",
      "위 자료에서 LangGraph의 개념, 실제 사용 방법, 코드 예시 등을 자세하게 배울 수 있습니다. 특히 첫 번째 링크는 동적 문서 검색과 관련된 실습 자료이기에 초보자에게 도움이 많이 됩니다.\n",
      "\n",
      "더 깊이있는 학습을 원하면 공식 문서와 함께, 튜토리얼 예제를 따라해 보시면 효과적입니다. 추가적인 학습 자료나 예시가 필요하신 경우 언제든 말씀해 주세요!\n"
     ]
    }
   ],
   "source": [
    "# 그래프 스트림에서 이벤트 수신\n",
    "events = graph.stream(None, config, stream_mode=\"values\")\n",
    "\n",
    "# 각 이벤트에 대한 처리\n",
    "for event in events:\n",
    "    # 메시지가 있는 경우 마지막 메시지 출력\n",
    "    if \"messages\" in event:\n",
    "        event[\"messages\"][-1].pretty_print()\n"
   ]
  },
  {
   "cell_type": "code",
   "execution_count": 94,
   "metadata": {},
   "outputs": [
    {
     "name": "stdout",
     "output_type": "stream",
     "text": [
      "================================\u001b[1m Human Message \u001b[0m=================================\n",
      "\n",
      "내가 지금까지 배운 내용에 대해서 매우 친절하고 정성스럽게 한국어로 답변해줘! 출처를 반드시 포함해줘!\n",
      "==================================\u001b[1m Ai Message \u001b[0m==================================\n",
      "\n",
      "물론입니다! 아래는 LangGraph에 대해 정리한 내용과 함께 추천드린 자료의 출처를 포함한 안내입니다.\n",
      "\n",
      "---\n",
      "\n",
      "LangGraph란 무엇인가요?  \n",
      "LangGraph는 주로 자연어 처리(NLP)를 위한 다양한 그래프 기반의 구조와 에이전트(Agent) 시스템을 만들어주는 도구입니다. 특히, 대규모 언어 모델(LLM)과 결합하여 복잡한 문서 검색, 분류, 요약 등의 작업을 효율적으로 처리할 수 있습니다. LangGraph를 이용하면 여러 단계로 이루어진 문서 처리 파이프라인을 쉽게 구축할 수 있습니다.\n",
      "\n",
      "LangGraph의 주요 특징\n",
      "\n",
      "- 대화형 AI, 챗봇, 문서 요약, 텍스트 분류 등 다양한 자연어 처리 작업에서 활용됩니다.\n",
      "- 여러 Agent나 Node(노드)들의 그래프 구조를 자유롭게 설계할 수 있어 복잡한 워크플로우에 적합합니다.\n",
      "- 실제 업무에서는 동적으로 문서를 검색하거나, AI 모델이 필요에 따라 다양한 작업을 순차적으로 처리할 수 있도록 도와줍니다.\n",
      "\n",
      "어디에 활용될 수 있나요?\n",
      "\n",
      "예를 들어, 대용량의 문서를 검색하고 그 내용을 요약해주는 시스템, 또는 사용자의 질문에 대해 다양한 출처를 탐색하여 최적의 답변을 제공하는 챗봇 등에 적용할 수 있습니다.  \n",
      "실제 예시로는 LangGraph Retrieval Agent를 이용해 새로운 문서를 동적으로 검색하고, 필요한 정보만 뽑아내는 응용 프로그램을 만들 수 있습니다.\n",
      "\n",
      "추천드린 자료 및 학습 경로\n",
      "\n",
      "1. [LangGraph Retrieval Agent를 활용한 동적 문서 검색 및 처리 - GitHub](https://news.google.com/rss/articles/CBMib0FVX3lxTE9iTXZZTlNoMEw1QnVvXzJZUTRyT19CanNUbUZicUVqNGtIdWFTSnprb2VoYU9oRUZGVDNRTVhsa2RIT2xBVnVVUXY4SXJtWXpJVW1fZ2xUQ1g2VWZqQnFyMklXc3FiYzJDb056eTM2NA?oc=5)\n",
      "   - 실제 동작 예시와 코드가 포함되어 있어, 이해에 큰 도움이 됩니다.\n",
      "\n",
      "2. [카테고리 - GitHub](https://news.google.com/rss/articles/CBMiU0FVX3lxTE9FeFU1cTktMmJlNFBxOWxLSDVCRE4wemx3c2R2OWpKYlVEdnZwSUwtSXpRRDBWTGtTSklZNXk2alNjZHF3TnVoS29VdWtuN3BBcFZz?oc=5)\n",
      "   - 다양한 LangGraph 관련 글과 팁이 모여 있는 카테고리입니다.\n",
      "\n",
      "이 자료들을 통해 LangGraph의 개념부터 실제 사용법, 그리고 다양한 예제를 직접 확인하고 따라 해보실 수 있습니다.\n",
      "\n",
      "만약 실습을 하다가 궁금한 점이 생기거나, 더 깊은 내용을 알고 싶으시다면 언제든 질문해 주세요! 항상 응원하겠습니다.\n",
      "\n",
      "---\n",
      "\n",
      "출처  \n",
      "- 테디노트 GitHub: LangGraph Retrieval Agent를 활용한 동적 문서 검색 및 처리  \n",
      "- 테디노트 GitHub: LangGraph 카테고리  \n",
      "(출처는 Google News에서 가져온 공식 GitHub 게시글임을 알려드립니다.)\n"
     ]
    }
   ],
   "source": [
    "# 이벤트 스트림 생성\n",
    "events = graph.stream(\n",
    "    {\n",
    "        \"messages\": (\n",
    "            \"user\",\n",
    "            \"내가 지금까지 배운 내용에 대해서 매우 친절하고 정성스럽게 한국어로 답변해줘! 출처를 반드시 포함해줘!\",\n",
    "        )\n",
    "    },\n",
    "    config,\n",
    "    stream_mode=\"values\",\n",
    ")\n",
    "\n",
    "# 메시지 이벤트 처리\n",
    "for event in events:\n",
    "    if \"messages\" in event:\n",
    "        # 마지막 메시지 출력\n",
    "        event[\"messages\"][-1].pretty_print()\n"
   ]
  },
  {
   "cell_type": "code",
   "execution_count": 95,
   "metadata": {},
   "outputs": [
    {
     "name": "stdout",
     "output_type": "stream",
     "text": [
      "==================================\u001b[1m Ai Message \u001b[0m==================================\n",
      "\n",
      "물론입니다! 아래는 LangGraph에 대해 정리한 내용과 함께 추천드린 자료의 출처를 포함한 안내입니다.\n",
      "\n",
      "---\n",
      "\n",
      "LangGraph란 무엇인가요?  \n",
      "LangGraph는 주로 자연어 처리(NLP)를 위한 다양한 그래프 기반의 구조와 에이전트(Agent) 시스템을 만들어주는 도구입니다. 특히, 대규모 언어 모델(LLM)과 결합하여 복잡한 문서 검색, 분류, 요약 등의 작업을 효율적으로 처리할 수 있습니다. LangGraph를 이용하면 여러 단계로 이루어진 문서 처리 파이프라인을 쉽게 구축할 수 있습니다.\n",
      "\n",
      "LangGraph의 주요 특징\n",
      "\n",
      "- 대화형 AI, 챗봇, 문서 요약, 텍스트 분류 등 다양한 자연어 처리 작업에서 활용됩니다.\n",
      "- 여러 Agent나 Node(노드)들의 그래프 구조를 자유롭게 설계할 수 있어 복잡한 워크플로우에 적합합니다.\n",
      "- 실제 업무에서는 동적으로 문서를 검색하거나, AI 모델이 필요에 따라 다양한 작업을 순차적으로 처리할 수 있도록 도와줍니다.\n",
      "\n",
      "어디에 활용될 수 있나요?\n",
      "\n",
      "예를 들어, 대용량의 문서를 검색하고 그 내용을 요약해주는 시스템, 또는 사용자의 질문에 대해 다양한 출처를 탐색하여 최적의 답변을 제공하는 챗봇 등에 적용할 수 있습니다.  \n",
      "실제 예시로는 LangGraph Retrieval Agent를 이용해 새로운 문서를 동적으로 검색하고, 필요한 정보만 뽑아내는 응용 프로그램을 만들 수 있습니다.\n",
      "\n",
      "추천드린 자료 및 학습 경로\n",
      "\n",
      "1. [LangGraph Retrieval Agent를 활용한 동적 문서 검색 및 처리 - GitHub](https://news.google.com/rss/articles/CBMib0FVX3lxTE9iTXZZTlNoMEw1QnVvXzJZUTRyT19CanNUbUZicUVqNGtIdWFTSnprb2VoYU9oRUZGVDNRTVhsa2RIT2xBVnVVUXY4SXJtWXpJVW1fZ2xUQ1g2VWZqQnFyMklXc3FiYzJDb056eTM2NA?oc=5)\n",
      "   - 실제 동작 예시와 코드가 포함되어 있어, 이해에 큰 도움이 됩니다.\n",
      "\n",
      "2. [카테고리 - GitHub](https://news.google.com/rss/articles/CBMiU0FVX3lxTE9FeFU1cTktMmJlNFBxOWxLSDVCRE4wemx3c2R2OWpKYlVEdnZwSUwtSXpRRDBWTGtTSklZNXk2alNjZHF3TnVoS29VdWtuN3BBcFZz?oc=5)\n",
      "   - 다양한 LangGraph 관련 글과 팁이 모여 있는 카테고리입니다.\n",
      "\n",
      "이 자료들을 통해 LangGraph의 개념부터 실제 사용법, 그리고 다양한 예제를 직접 확인하고 따라 해보실 수 있습니다.\n",
      "\n",
      "만약 실습을 하다가 궁금한 점이 생기거나, 더 깊은 내용을 알고 싶으시다면 언제든 질문해 주세요! 항상 응원하겠습니다.\n",
      "\n",
      "---\n",
      "\n",
      "출처  \n",
      "- 테디노트 GitHub: LangGraph Retrieval Agent를 활용한 동적 문서 검색 및 처리  \n",
      "- 테디노트 GitHub: LangGraph 카테고리  \n",
      "(출처는 Google News에서 가져온 공식 GitHub 게시글임을 알려드립니다.)\n"
     ]
    }
   ],
   "source": [
    "graph.get_state(config).values[\"messages\"][-1].pretty_print()\n"
   ]
  },
  {
   "cell_type": "code",
   "execution_count": 96,
   "metadata": {},
   "outputs": [
    {
     "name": "stdout",
     "output_type": "stream",
     "text": [
      "run--714c6785-b20b-4a03-9869-a53bce720851-0\n",
      "메시지 수:  6 다음 노드:  ()\n",
      "--------------------------------------------------------------------------------\n",
      "42cf9692-c509-4552-be58-3a191e58909d\n",
      "메시지 수:  5 다음 노드:  ('chatbot',)\n",
      "--------------------------------------------------------------------------------\n",
      "run--f81a6bb2-7e8f-458c-b017-9007b89d0c0f-0\n",
      "메시지 수:  4 다음 노드:  ('__start__',)\n",
      "--------------------------------------------------------------------------------\n",
      "run--f81a6bb2-7e8f-458c-b017-9007b89d0c0f-0\n",
      "메시지 수:  4 다음 노드:  ()\n",
      "--------------------------------------------------------------------------------\n",
      "5d051438-5759-4b2f-a799-02ccaf5677b8\n",
      "메시지 수:  3 다음 노드:  ('chatbot',)\n",
      "--------------------------------------------------------------------------------\n",
      "run--1e776437-ca8b-4d7d-aad0-d63c7c735517-0\n",
      "메시지 수:  2 다음 노드:  ('tools',)\n",
      "--------------------------------------------------------------------------------\n",
      "run--1e776437-ca8b-4d7d-aad0-d63c7c735517-0\n",
      "메시지 수:  2 다음 노드:  ('tools',)\n",
      "--------------------------------------------------------------------------------\n",
      "eacdbcdd-8419-4cdc-ad0a-fc0c8084918f\n",
      "메시지 수:  1 다음 노드:  ('chatbot',)\n",
      "--------------------------------------------------------------------------------\n"
     ]
    }
   ],
   "source": [
    "to_replay_state = None\n",
    "\n",
    "# 상태 기록 가져오기\n",
    "for state in graph.get_state_history(config):\n",
    "\n",
    "    messages = state.values[\"messages\"]\n",
    "\n",
    "    if len(messages) > 0:\n",
    "        print(state.values[\"messages\"][-1].id)\n",
    "        # 메시지 수 및 다음 상태 출력\n",
    "        print(\"메시지 수: \", len(state.values[\"messages\"]), \"다음 노드: \", state.next)\n",
    "        print(\"-\" * 80)\n",
    "        # 특정 상태 선택 기준: 채팅 메시지 수\n",
    "        if len(state.values[\"messages\"]) == 2:\n",
    "            # 특정 메시지 ID 선택\n",
    "            to_replay_state = state\n"
   ]
  },
  {
   "cell_type": "code",
   "execution_count": 97,
   "metadata": {},
   "outputs": [
    {
     "name": "stdout",
     "output_type": "stream",
     "text": [
      "    \u001b[93mcontent\u001b[0m: \"\"\n",
      "    \u001b[93madditional_kwargs\u001b[0m:\n",
      "        \u001b[94mtool_calls\u001b[0m:\n",
      "            \u001b[94mindex [0]\u001b[0m\n",
      "                \u001b[92mid\u001b[0m: \"call_bguTstuecuRcKLaS1QaUTcaG\"\n",
      "                \u001b[92mfunction\u001b[0m: {\"arguments\": \"{\"query\":\"LangGraph\"}\", \"name\": \"search_keyword\"}\n",
      "                \u001b[92mtype\u001b[0m: \"function\"\n",
      "        \u001b[94mrefusal\u001b[0m: None\n",
      "    \u001b[93mresponse_metadata\u001b[0m:\n",
      "        \u001b[94mtoken_usage\u001b[0m:\n",
      "            \u001b[95mcompletion_tokens\u001b[0m: 15\n",
      "            \u001b[95mprompt_tokens\u001b[0m: 62\n",
      "            \u001b[95mtotal_tokens\u001b[0m: 77\n",
      "            \u001b[95mcompletion_tokens_details\u001b[0m: {\"accepted_prediction_tokens\": 0, \"audio_tokens\": 0, \"reasoning_tokens\": 0, \"rejected_prediction_tokens\": 0}\n",
      "            \u001b[95mprompt_tokens_details\u001b[0m: {\"audio_tokens\": 0, \"cached_tokens\": 0}\n",
      "        \u001b[94mmodel_name\u001b[0m: \"gpt-4.1-2025-04-14\"\n",
      "        \u001b[94msystem_fingerprint\u001b[0m: \"fp_daf5fcc80a\"\n",
      "        \u001b[94mid\u001b[0m: \"chatcmpl-C8z5AsXQGyzdd6ZyrIo4ADqJQWxE7\"\n",
      "        \u001b[94mservice_tier\u001b[0m: \"default\"\n",
      "        \u001b[94mfinish_reason\u001b[0m: \"tool_calls\"\n",
      "        \u001b[94mlogprobs\u001b[0m: None\n",
      "    \u001b[93mtype\u001b[0m: \"ai\"\n",
      "    \u001b[93mname\u001b[0m: None\n",
      "    \u001b[93mid\u001b[0m: \"run--1e776437-ca8b-4d7d-aad0-d63c7c735517-0\"\n",
      "    \u001b[93mexample\u001b[0m: False\n",
      "    \u001b[93mtool_calls\u001b[0m:\n",
      "        \u001b[93mindex [0]\u001b[0m\n",
      "            \u001b[95mname\u001b[0m: \"search_keyword\"\n",
      "            \u001b[95margs\u001b[0m: {\"query\": \"LangGraph\"}\n",
      "            \u001b[95mid\u001b[0m: \"call_bguTstuecuRcKLaS1QaUTcaG\"\n",
      "            \u001b[95mtype\u001b[0m: \"tool_call\"\n",
      "    \u001b[93minvalid_tool_calls\u001b[0m:\n",
      "    \u001b[93musage_metadata\u001b[0m:\n",
      "        \u001b[94minput_tokens\u001b[0m: 62\n",
      "        \u001b[94moutput_tokens\u001b[0m: 15\n",
      "        \u001b[94mtotal_tokens\u001b[0m: 77\n",
      "        \u001b[94minput_token_details\u001b[0m: {\"audio\": 0, \"cache_read\": 0}\n",
      "        \u001b[94moutput_token_details\u001b[0m: {\"audio\": 0, \"reasoning\": 0}\n"
     ]
    }
   ],
   "source": [
    "from langchain_teddynote.messages import display_message_tree\n",
    "\n",
    "# 선택한 메시지 가져오기\n",
    "existing_message = to_replay_state.values[\"messages\"][-1]\n",
    "\n",
    "# 메시지 트리 출력\n",
    "display_message_tree(existing_message)\n"
   ]
  },
  {
   "cell_type": "code",
   "execution_count": 98,
   "metadata": {},
   "outputs": [
    {
     "data": {
      "text/plain": [
       "{'name': 'search_keyword',\n",
       " 'args': {'query': 'LangGraph human-in-the-loop workflow site:reddit.com'},\n",
       " 'id': 'call_bguTstuecuRcKLaS1QaUTcaG',\n",
       " 'type': 'tool_call'}"
      ]
     },
     "execution_count": 98,
     "metadata": {},
     "output_type": "execute_result"
    }
   ],
   "source": [
    "tool_call = existing_message.tool_calls[0].copy()\n",
    "tool_call[\"args\"] = {\"query\": \"LangGraph human-in-the-loop workflow site:reddit.com\"}\n",
    "tool_call\n"
   ]
  },
  {
   "cell_type": "code",
   "execution_count": 99,
   "metadata": {},
   "outputs": [
    {
     "data": {
      "text/plain": [
       "{'query': 'LangGraph human-in-the-loop workflow site:reddit.com'}"
      ]
     },
     "execution_count": 99,
     "metadata": {},
     "output_type": "execute_result"
    }
   ],
   "source": [
    "# AIMessage 생성\n",
    "new_message = AIMessage(\n",
    "    content=existing_message.content,\n",
    "    tool_calls=[tool_call],\n",
    "    # 중요! ID는 메시지를 상태에 추가하는 대신 교체하는 방법\n",
    "    id=existing_message.id,\n",
    ")\n",
    "\n",
    "# 수정한 메시지 출력\n",
    "new_message.tool_calls[0][\"args\"]\n"
   ]
  },
  {
   "cell_type": "code",
   "execution_count": 100,
   "metadata": {},
   "outputs": [
    {
     "data": {
      "text/plain": [
       "[{'name': 'search_keyword',\n",
       "  'args': {'query': 'LangGraph'},\n",
       "  'id': 'call_bguTstuecuRcKLaS1QaUTcaG',\n",
       "  'type': 'tool_call'}]"
      ]
     },
     "execution_count": 100,
     "metadata": {},
     "output_type": "execute_result"
    }
   ],
   "source": [
    "# 업데이트 전 메시지 확인\n",
    "graph.get_state(to_replay_state.config).values[\"messages\"][-1].tool_calls\n"
   ]
  },
  {
   "cell_type": "code",
   "execution_count": 101,
   "metadata": {},
   "outputs": [
    {
     "data": {
      "text/plain": [
       "{'configurable': {'thread_id': '30104c',\n",
       "  'checkpoint_ns': '',\n",
       "  'checkpoint_id': '1f082e41-a7b1-6fba-8002-1c782b6680a2'}}"
      ]
     },
     "execution_count": 101,
     "metadata": {},
     "output_type": "execute_result"
    }
   ],
   "source": [
    "# 상태 업데이트\n",
    "updated_state = graph.update_state(\n",
    "    to_replay_state.config,\n",
    "    {\"messages\": [new_message]},\n",
    ")\n",
    "updated_state\n"
   ]
  },
  {
   "cell_type": "code",
   "execution_count": 102,
   "metadata": {},
   "outputs": [
    {
     "name": "stdout",
     "output_type": "stream",
     "text": [
      "==================================\u001b[1m Ai Message \u001b[0m==================================\n",
      "Tool Calls:\n",
      "  search_keyword (call_bguTstuecuRcKLaS1QaUTcaG)\n",
      " Call ID: call_bguTstuecuRcKLaS1QaUTcaG\n",
      "  Args:\n",
      "    query: LangGraph human-in-the-loop workflow site:reddit.com\n",
      "=================================\u001b[1m Tool Message \u001b[0m=================================\n",
      "Name: search_keyword\n",
      "\n",
      "[{\"url\": \"https://news.google.com/rss/articles/CBMipgFBVV95cUxOeGZDOFo2bGZfWlBMclVtdXBLN21udlVNUWNwWlQyeHl2TktGYUc3b0U2UDQxeGR4b1FiV2dVZ1hPNmxYSDFuM1Y3dy0tS1g5WWl5RVQwLUc0MHJoMUR6M0VheU1LNDlwWHp4SGVCa3VPMFdhVUhVanB0Y05mWGRwcUJwVnAzUHhndVRXV3VYWDNsdVRaa3YwcmloajNWOTVLQ3JsS3N3?oc=5\", \"content\": \"왜 모든 로컬 AI 모델이 이렇게 나쁠까? 아무도 이런 얘기를 안 해! - Reddit\"}, {\"url\": \"https://news.google.com/rss/articles/CBMiqwFBVV95cUxPUkQwakNnNWkzMHFNWWxCVlZpdjNRUWlIbFYzam1OckJWZnlETzZrdDVMUmRtdXc2M0NSX2VCbGItcWZRTHA4azFub3kzQnpuT3JWVzM5OW5LQTU1SlF4SjhDWXNTUzR2cFVnR01paHo3Z3hldE4wRDBqZlVfX3dkakhCZ21nUjJESTZOM3V6YWs5QjFrNVV0YTZGUXA2YW1Lb0kteC1mMGJDSFk?oc=5\", \"content\": \"FastAPI와 함께 LangGraph PostgresSaver를 위한 db 설정 방법 - Reddit\"}]\n",
      "==================================\u001b[1m Ai Message \u001b[0m==================================\n",
      "\n",
      "LangGraph에 대해 배우고 싶으시다면, 다음과 같은 유용한 자료를 추천드립니다:\n",
      "\n",
      "1. FastAPI와 함께 LangGraph PostgresSaver를 위한 DB 설정 방법 - Reddit\n",
      "   - FastAPI와 LangGraph, 그리고 데이터베이스 연동에 관한 실전적인 설정 방법을 다루고 있어 실무에 도움이 됩니다.\n",
      "   - 링크: FastAPI와 함께 LangGraph PostgresSaver를 위한 db 설정 방법 - Reddit\n",
      "\n",
      "2. Reddit 및 기타 커뮤니티에서 LangGraph와 human-in-the-loop workflow 등에 대한 실제 유저들의 토론과 경험을 찾아보는 것도 좋습니다.\n",
      "\n",
      "추가적으로 공식 문서나 GitHub 저장소(만약 존재한다면)도 꼭 참고해 보시길 권장드립니다. 더 구체적인 주제(예: 사용법, 사례, 구조 등)가 궁금하시다면 알려주세요!\n"
     ]
    }
   ],
   "source": [
    "# config 에는 updated_state 를 전달합니다. 이는 임의로 갱신한 상태를 전달하는 것입니다.\n",
    "for event in graph.stream(None, updated_state, stream_mode=\"values\"):\n",
    "    # 메시지가 이벤트에 포함된 경우\n",
    "    if \"messages\" in event:\n",
    "        # 마지막 메시지 출력\n",
    "        event[\"messages\"][-1].pretty_print()\n"
   ]
  },
  {
   "cell_type": "code",
   "execution_count": 103,
   "metadata": {},
   "outputs": [
    {
     "name": "stdout",
     "output_type": "stream",
     "text": [
      "================================\u001b[1m Human Message \u001b[0m=================================\n",
      "\n",
      "LangGraph 에 대해서 배워보고 싶습니다. 유용한 자료를 추천해 주세요!\n",
      "==================================\u001b[1m Ai Message \u001b[0m==================================\n",
      "Tool Calls:\n",
      "  search_keyword (call_bguTstuecuRcKLaS1QaUTcaG)\n",
      " Call ID: call_bguTstuecuRcKLaS1QaUTcaG\n",
      "  Args:\n",
      "    query: LangGraph human-in-the-loop workflow site:reddit.com\n",
      "=================================\u001b[1m Tool Message \u001b[0m=================================\n",
      "Name: search_keyword\n",
      "\n",
      "[{\"url\": \"https://news.google.com/rss/articles/CBMipgFBVV95cUxOeGZDOFo2bGZfWlBMclVtdXBLN21udlVNUWNwWlQyeHl2TktGYUc3b0U2UDQxeGR4b1FiV2dVZ1hPNmxYSDFuM1Y3dy0tS1g5WWl5RVQwLUc0MHJoMUR6M0VheU1LNDlwWHp4SGVCa3VPMFdhVUhVanB0Y05mWGRwcUJwVnAzUHhndVRXV3VYWDNsdVRaa3YwcmloajNWOTVLQ3JsS3N3?oc=5\", \"content\": \"왜 모든 로컬 AI 모델이 이렇게 나쁠까? 아무도 이런 얘기를 안 해! - Reddit\"}, {\"url\": \"https://news.google.com/rss/articles/CBMiqwFBVV95cUxPUkQwakNnNWkzMHFNWWxCVlZpdjNRUWlIbFYzam1OckJWZnlETzZrdDVMUmRtdXc2M0NSX2VCbGItcWZRTHA4azFub3kzQnpuT3JWVzM5OW5LQTU1SlF4SjhDWXNTUzR2cFVnR01paHo3Z3hldE4wRDBqZlVfX3dkakhCZ21nUjJESTZOM3V6YWs5QjFrNVV0YTZGUXA2YW1Lb0kteC1mMGJDSFk?oc=5\", \"content\": \"FastAPI와 함께 LangGraph PostgresSaver를 위한 db 설정 방법 - Reddit\"}]\n",
      "==================================\u001b[1m Ai Message \u001b[0m==================================\n",
      "\n",
      "LangGraph에 대해 배우고 싶으시다면, 다음과 같은 유용한 자료를 추천드립니다:\n",
      "\n",
      "1. FastAPI와 함께 LangGraph PostgresSaver를 위한 DB 설정 방법 - Reddit\n",
      "   - FastAPI와 LangGraph, 그리고 데이터베이스 연동에 관한 실전적인 설정 방법을 다루고 있어 실무에 도움이 됩니다.\n",
      "   - 링크: FastAPI와 함께 LangGraph PostgresSaver를 위한 db 설정 방법 - Reddit\n",
      "\n",
      "2. Reddit 및 기타 커뮤니티에서 LangGraph와 human-in-the-loop workflow 등에 대한 실제 유저들의 토론과 경험을 찾아보는 것도 좋습니다.\n",
      "\n",
      "추가적으로 공식 문서나 GitHub 저장소(만약 존재한다면)도 꼭 참고해 보시길 권장드립니다. 더 구체적인 주제(예: 사용법, 사례, 구조 등)가 궁금하시다면 알려주세요!\n"
     ]
    }
   ],
   "source": [
    "# 최종 결과 출력\n",
    "for msg in graph.get_state(config).values[\"messages\"]:\n",
    "    msg.pretty_print()\n"
   ]
  },
  {
   "cell_type": "code",
   "execution_count": null,
   "metadata": {},
   "outputs": [],
   "source": []
  }
 ],
 "metadata": {
  "colab": {
   "authorship_tag": "ABX9TyMs2OSEsEhI+eP+P38efuYH",
   "provenance": []
  },
  "kernelspec": {
   "display_name": "Python 3 (ipykernel)",
   "language": "python",
   "name": "python3"
  },
  "language_info": {
   "codemirror_mode": {
    "name": "ipython",
    "version": 3
   },
   "file_extension": ".py",
   "mimetype": "text/x-python",
   "name": "python",
   "nbconvert_exporter": "python",
   "pygments_lexer": "ipython3",
   "version": "3.10.18"
  }
 },
 "nbformat": 4,
 "nbformat_minor": 4
}
