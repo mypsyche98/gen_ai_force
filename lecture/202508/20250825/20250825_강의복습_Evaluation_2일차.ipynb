{
 "cells": [
  {
   "cell_type": "code",
   "execution_count": null,
   "metadata": {
    "scrolled": true
   },
   "outputs": [],
   "source": [
    "!pip install PyDrive"
   ]
  },
  {
   "cell_type": "code",
   "execution_count": 1,
   "metadata": {},
   "outputs": [
    {
     "name": "stdout",
     "output_type": "stream",
     "text": [
      "아래 링크를 복사하여 웹 브라우저에 붙여넣으세요.\n",
      "https://accounts.google.com/o/oauth2/auth?client_id=35726703810-4v13dfqmilhgv6shlc3cv9i3ktuh73j1.apps.googleusercontent.com&redirect_uri=http%3A%2F%2Flocalhost&scope=https%3A%2F%2Fwww.googleapis.com%2Fauth%2Fdrive&access_type=offline&response_type=code\n",
      "Authentication successful.\n"
     ]
    }
   ],
   "source": [
    "import os\n",
    "import mykeys\n",
    "\n",
    "project_name = 'CH15_Evaluation'\n",
    "\n",
    "os.environ[\"LANGCHAIN_TRACING_V2\"] = \"true\"\n",
    "os.environ[\"LANGCHAIN_ENDPOINT\"] = \"https://api.smith.langchain.com\"\n",
    "os.environ[\"LANGCHAIN_PROJECT\"] = project_name\n",
    "os.environ[\"LANGCHAIN_API_KEY\"] = mykeys.get_key('LANG')\n",
    "os.environ[\"LANGCHAIN_HUB_API_KEY\"] = mykeys.get_key('LANG')\n",
    "os.environ[\"OPENAI_API_KEY\"] = mykeys.get_key('GPT')\n",
    "os.environ[\"GOOGLE_API_KEY\"] = mykeys.get_key('GOO')\n",
    "os.environ[\"HUGGINGFACEHUB_API_TOKEN\"] = mykeys.get_key('HF')\n",
    "os.environ[\"UPSTAGE_API_KEY\"] = mykeys.get_key('UP')\n",
    "os.environ[\"COHERE_API_KEY\"] = mykeys.get_key('COH')\n",
    "os.environ[\"JINA_API_KEY\"] = mykeys.get_key('JINA')\n",
    "os.environ[\"ANTHROPIC_API_KEY\"] = mykeys.get_key('ANT')\n",
    "os.environ[\"DEEPL_API_KEY\"] = mykeys.get_key('DEEP')\n",
    "os.environ[\"TAVILY_API_KEY\"] = mykeys.get_key('TAV')"
   ]
  },
  {
   "cell_type": "code",
   "execution_count": 2,
   "metadata": {},
   "outputs": [
    {
     "name": "stdout",
     "output_type": "stream",
     "text": [
      "LangSmith 추적을 시작합니다.\n",
      "[프로젝트명]\n",
      "CH15_Evaluation\n"
     ]
    }
   ],
   "source": [
    "from langchain_teddynote import logging\n",
    "\n",
    "# 프로젝트 이름을 입력합니다.\n",
    "logging.langsmith(project_name)"
   ]
  },
  {
   "cell_type": "code",
   "execution_count": null,
   "metadata": {},
   "outputs": [],
   "source": [
    "from langchain_teddynote import logging\n",
    "\n",
    "# set_enable=False 로 지정하면 추적을 하지 않습니다.\n",
    "logging.langsmith(project_name, set_enable=False)"
   ]
  },
  {
   "cell_type": "markdown",
   "metadata": {},
   "source": [
    "CH15 평가(Evaluations)"
   ]
  },
  {
   "cell_type": "markdown",
   "metadata": {},
   "source": [
    "09. 실험(Experiment) 평가 비교"
   ]
  },
  {
   "cell_type": "code",
   "execution_count": 3,
   "metadata": {},
   "outputs": [],
   "source": [
    "from myrag import PDFRAG\n",
    "from langchain_openai import ChatOpenAI\n",
    "\n",
    "\n",
    "# 질문에 대한 답변하는 함수를 생성\n",
    "def ask_question_with_llm(llm):\n",
    "    # PDFRAG 객체 생성\n",
    "    rag = PDFRAG(\n",
    "        \"data/SPRI_AI_Brief_2023년12월호_F.pdf\",\n",
    "        llm,\n",
    "    )\n",
    "\n",
    "    # 검색기(retriever) 생성\n",
    "    retriever = rag.create_retriever()\n",
    "\n",
    "    # 체인(chain) 생성\n",
    "    rag_chain = rag.create_chain(retriever)\n",
    "\n",
    "    def _ask_question(inputs: dict):\n",
    "        context = retriever.invoke(inputs[\"question\"])\n",
    "        context = \"\\n\".join([doc.page_content for doc in context])\n",
    "        return {\n",
    "            \"question\": inputs[\"question\"],\n",
    "            \"context\": context,\n",
    "            \"answer\": rag_chain.invoke(inputs[\"question\"]),\n",
    "        }\n",
    "\n",
    "    return _ask_question\n"
   ]
  },
  {
   "cell_type": "code",
   "execution_count": 7,
   "metadata": {},
   "outputs": [
    {
     "name": "stdout",
     "output_type": "stream",
     "text": [
      "NAME                                ID              SIZE      MODIFIED      \n",
      "anpigon/eeve-korean-10.8b:latest    124cda510275    7.7 GB    7 seconds ago    \n",
      "bakllava:latest                     3dd68bd4447c    4.7 GB    10 days ago      \n",
      "qwen3:latest                        500a1f067a9f    5.2 GB    10 days ago      \n",
      "llama2:7b-chat                      78e26419b446    3.8 GB    10 days ago      \n",
      "llama3:latest                       365c0bd3c000    4.7 GB    10 days ago      \n",
      "deepseek-r1:8b                      6995872bfe4c    5.2 GB    11 days ago      \n"
     ]
    }
   ],
   "source": [
    "!ollama list"
   ]
  },
  {
   "cell_type": "code",
   "execution_count": 8,
   "metadata": {},
   "outputs": [],
   "source": [
    "ollama_model_id = 'anpigon/eeve-korean-10.8b:latest'"
   ]
  },
  {
   "cell_type": "code",
   "execution_count": 9,
   "metadata": {},
   "outputs": [
    {
     "data": {
      "text/plain": [
       "AIMessage(content='안녕하세요! 궁금한 점이나 도움이 필요하신 부분이 있으시면 언제든지 물어보세요. 최선을 다해 도와드리겠습니다. 안전하고 존중하며 유익한 상호작용을 보장하는 것이 제 임무입니다. 도움이 되고 정확한 정보를 제공하기 위해 노력하고 있으며, 해롭거나 비윤리적인 내용은 제공하지 않습니다. 책임감 있게 도움을 드리고자 하며, 답변을 제공할 수 없는 경우 그 이유를 설명하겠습니다.', additional_kwargs={}, response_metadata={'model': 'anpigon/eeve-korean-10.8b:latest', 'created_at': '2025-08-25T04:16:38.598631Z', 'message': {'role': 'assistant', 'content': ''}, 'done_reason': 'stop', 'done': True, 'total_duration': 15868576708, 'load_duration': 3594712250, 'prompt_eval_count': 50, 'prompt_eval_duration': 5766399917, 'eval_count': 74, 'eval_duration': 6499173292}, id='run--e5111f66-1dbf-410a-bb5a-e9fee3d9981f-0')"
      ]
     },
     "execution_count": 9,
     "metadata": {},
     "output_type": "execute_result"
    }
   ],
   "source": [
    "from langchain_community.chat_models import ChatOllama\n",
    "\n",
    "# Ollama 모델을 불러옵니다.\n",
    "ollama = ChatOllama(model=ollama_model_id)\n",
    "\n",
    "# Ollama 모델 호출\n",
    "ollama.invoke(\"안녕하세요?\")\n"
   ]
  },
  {
   "cell_type": "code",
   "execution_count": 10,
   "metadata": {},
   "outputs": [],
   "source": [
    "gpt_chain = ask_question_with_llm(ChatOpenAI(model=\"gpt-4.1\", temperature=0))\n",
    "ollama_chain = ask_question_with_llm(ChatOllama(model=ollama_model_id))\n"
   ]
  },
  {
   "cell_type": "code",
   "execution_count": 11,
   "metadata": {},
   "outputs": [
    {
     "name": "stdout",
     "output_type": "stream",
     "text": [
      "View the evaluation results for experiment: 'MODEL_COMPARE_EVAL-2553ffac' at:\n",
      "https://smith.langchain.com/o/53db61eb-d386-4c02-9de8-5b28476b0edc/datasets/70f9dcf3-893a-4e50-80a9-35318578ee8c/compare?selectedSessions=86f15823-32ce-4810-b4f9-50fe5cebb37e\n",
      "\n",
      "\n"
     ]
    },
    {
     "data": {
      "application/vnd.jupyter.widget-view+json": {
       "model_id": "1bf4ce13fbca4e5bbf3c80374f51431e",
       "version_major": 2,
       "version_minor": 0
      },
      "text/plain": [
       "0it [00:00, ?it/s]"
      ]
     },
     "metadata": {},
     "output_type": "display_data"
    },
    {
     "name": "stdout",
     "output_type": "stream",
     "text": [
      "View the evaluation results for experiment: 'MODEL_COMPARE_EVAL-09ddad8a' at:\n",
      "https://smith.langchain.com/o/53db61eb-d386-4c02-9de8-5b28476b0edc/datasets/70f9dcf3-893a-4e50-80a9-35318578ee8c/compare?selectedSessions=6661dbd0-22bb-4539-a713-9c22f831359c\n",
      "\n",
      "\n"
     ]
    },
    {
     "data": {
      "application/vnd.jupyter.widget-view+json": {
       "model_id": "6c2879723666485c85cfc8a60c170b8c",
       "version_major": 2,
       "version_minor": 0
      },
      "text/plain": [
       "0it [00:00, ?it/s]"
      ]
     },
     "metadata": {},
     "output_type": "display_data"
    }
   ],
   "source": [
    "from langsmith.evaluation import evaluate, LangChainStringEvaluator\n",
    "\n",
    "# qa 평가자 생성\n",
    "cot_qa_evalulator = LangChainStringEvaluator(\n",
    "    \"cot_qa\",\n",
    "    config={\"llm\": ChatOpenAI(model=\"gpt-4.1\", temperature=0)},\n",
    "    prepare_data=lambda run, example: {\n",
    "        \"prediction\": run.outputs[\"answer\"],\n",
    "        \"reference\": run.outputs[\"context\"],\n",
    "        \"input\": example.inputs[\"question\"],\n",
    "    },\n",
    ")\n",
    "\n",
    "dataset_name = \"RAG_EVAL_DATASET\"\n",
    "\n",
    "# 평가 실행\n",
    "experiment_results1 = evaluate(\n",
    "    gpt_chain,\n",
    "    data=dataset_name,\n",
    "    evaluators=[cot_qa_evalulator],\n",
    "    experiment_prefix=\"MODEL_COMPARE_EVAL\",\n",
    "    # 실험 메타데이터 지정\n",
    "    metadata={\n",
    "        \"variant\": \"GPT-4.1 평가 (cot_qa)\",\n",
    "    },\n",
    ")\n",
    "\n",
    "# 평가 실행\n",
    "experiment_results2 = evaluate(\n",
    "    ollama_chain,\n",
    "    data=dataset_name,\n",
    "    evaluators=[cot_qa_evalulator],\n",
    "    experiment_prefix=\"MODEL_COMPARE_EVAL\",\n",
    "    # 실험 메타데이터 지정\n",
    "    metadata={\n",
    "        \"variant\": \"Ollama(EEVE-Korean-10.8B:latest) 평가 (cot_qa)\",\n",
    "    },\n",
    ")\n"
   ]
  },
  {
   "cell_type": "markdown",
   "metadata": {},
   "source": [
    "10. 요약(Summary) 방식의 평가"
   ]
  },
  {
   "cell_type": "code",
   "execution_count": 12,
   "metadata": {},
   "outputs": [],
   "source": [
    "from myrag import PDFRAG\n",
    "\n",
    "\n",
    "# 질문에 대한 답변하는 함수를 생성\n",
    "def ask_question_with_llm(llm):\n",
    "    # PDFRAG 객체 생성\n",
    "    rag = PDFRAG(\n",
    "        \"data/SPRI_AI_Brief_2023년12월호_F.pdf\",\n",
    "        llm,\n",
    "    )\n",
    "\n",
    "    # 검색기(retriever) 생성\n",
    "    retriever = rag.create_retriever()\n",
    "\n",
    "    # 체인(chain) 생성\n",
    "    rag_chain = rag.create_chain(retriever)\n",
    "\n",
    "    def _ask_question(inputs: dict):\n",
    "        # 질문에 대한 컨텍스트 검색\n",
    "        context = retriever.invoke(inputs[\"question\"])\n",
    "        # 검색된 문서들을 하나의 문자열로 결합\n",
    "        context = \"\\n\".join([doc.page_content for doc in context])\n",
    "        # 질문, 컨텍스트, 답변을 포함한 딕셔너리 반환\n",
    "        return {\n",
    "            \"question\": inputs[\"question\"],\n",
    "            \"context\": context,\n",
    "            \"answer\": rag_chain.invoke(inputs[\"question\"]),\n",
    "        }\n",
    "\n",
    "    return _ask_question\n"
   ]
  },
  {
   "cell_type": "code",
   "execution_count": 13,
   "metadata": {},
   "outputs": [],
   "source": [
    "from langchain_openai import ChatOpenAI\n",
    "from langchain_community.chat_models import ChatOllama\n",
    "\n",
    "gpt_chain = ask_question_with_llm(ChatOpenAI(model=\"gpt-4.1\", temperature=0))\n",
    "ollama_chain = ask_question_with_llm(ChatOllama(model=ollama_model_id))\n"
   ]
  },
  {
   "cell_type": "code",
   "execution_count": 14,
   "metadata": {},
   "outputs": [],
   "source": [
    "from langchain_teddynote.evaluator import OpenAIRelevanceGrader\n",
    "from langchain_openai import ChatOpenAI\n",
    "\n",
    "\n",
    "rq_grader = OpenAIRelevanceGrader(\n",
    "    llm=ChatOpenAI(model=\"gpt-4.1\", temperature=0), target=\"retrieval-question\"\n",
    ").create()\n",
    "\n",
    "ra_grader = OpenAIRelevanceGrader(\n",
    "    llm=ChatOpenAI(model=\"gpt-4.1\", temperature=0), target=\"retrieval-answer\"\n",
    ").create()\n"
   ]
  },
  {
   "cell_type": "code",
   "execution_count": 15,
   "metadata": {},
   "outputs": [
    {
     "data": {
      "text/plain": [
       "GradeRetrievalQuestion(score='yes')"
      ]
     },
     "execution_count": 15,
     "metadata": {},
     "output_type": "execute_result"
    }
   ],
   "source": [
    "rq_grader.invoke(\n",
    "    {\n",
    "        \"input\": \"삼성전자가 자체 개발한 생성형 AI 의 이름은?\",\n",
    "        \"context\": \"삼성전자 AI 는 빅스비에요\",\n",
    "    }\n",
    ")\n"
   ]
  },
  {
   "cell_type": "code",
   "execution_count": null,
   "metadata": {},
   "outputs": [
    {
     "data": {
      "text/plain": [
       "GradeRetrievalAnswer(score='no')"
      ]
     },
     "execution_count": 16,
     "metadata": {},
     "output_type": "execute_result"
    }
   ],
   "source": [
    "ra_grader.invoke(\n",
    "    {\n",
    "        \"input\": \"삼성전자가 자체 개발한 생성형 AI 는 가우스 입니다.\",\n",
    "        \"context\": \"삼성전자 AI 는 빅스비에요\",\n",
    "    }\n",
    ")\n"
   ]
  },
  {
   "cell_type": "code",
   "execution_count": 17,
   "metadata": {},
   "outputs": [],
   "source": [
    "from typing import List\n",
    "from langsmith.schemas import Example, Run\n",
    "from langsmith.evaluation import evaluate\n",
    "\n",
    "\n",
    "def relevance_score_summary_evaluator(runs: List[Run], examples: List[Example]) -> dict:\n",
    "    rq_scores = 0  # 질문 관련성 점수\n",
    "    ra_scores = 0  # 답변 관련성 점수\n",
    "\n",
    "    for run, example in zip(runs, examples):\n",
    "        question = example.inputs[\"question\"]\n",
    "        context = run.outputs[\"context\"]\n",
    "        prediction = run.outputs[\"answer\"]\n",
    "\n",
    "        # 질문 관련성 평가\n",
    "        rq_score = rq_grader.invoke(\n",
    "            {\n",
    "                \"input\": question,\n",
    "                \"context\": context,\n",
    "            }\n",
    "        )\n",
    "        # 답변 관련성 평가\n",
    "        ra_score = ra_grader.invoke(\n",
    "            {\n",
    "                \"input\": prediction,\n",
    "                \"context\": context,\n",
    "            }\n",
    "        )\n",
    "\n",
    "        # 관련성 점수 누적\n",
    "        if rq_score.score == \"yes\":\n",
    "            rq_scores += 1\n",
    "        if ra_score.score == \"yes\":\n",
    "            ra_scores += 1\n",
    "\n",
    "    # 최종 관련성 점수 계산 (질문 관련성과 답변 관련성의 평균)\n",
    "    final_score = ((rq_scores / len(runs)) + (ra_scores / len(runs))) / 2\n",
    "\n",
    "    return {\"key\": \"relevance_score\", \"score\": final_score}\n"
   ]
  },
  {
   "cell_type": "code",
   "execution_count": 18,
   "metadata": {},
   "outputs": [
    {
     "name": "stdout",
     "output_type": "stream",
     "text": [
      "View the evaluation results for experiment: 'SUMMARY_EVAL-43369747' at:\n",
      "https://smith.langchain.com/o/53db61eb-d386-4c02-9de8-5b28476b0edc/datasets/70f9dcf3-893a-4e50-80a9-35318578ee8c/compare?selectedSessions=ae9e4e44-6816-4ece-8c40-eb1f198e20f1\n",
      "\n",
      "\n"
     ]
    },
    {
     "data": {
      "application/vnd.jupyter.widget-view+json": {
       "model_id": "f73910e378a14aa4bff0f2f07b27adbe",
       "version_major": 2,
       "version_minor": 0
      },
      "text/plain": [
       "0it [00:00, ?it/s]"
      ]
     },
     "metadata": {},
     "output_type": "display_data"
    },
    {
     "name": "stdout",
     "output_type": "stream",
     "text": [
      "View the evaluation results for experiment: 'SUMMARY_EVAL-9f203b40' at:\n",
      "https://smith.langchain.com/o/53db61eb-d386-4c02-9de8-5b28476b0edc/datasets/70f9dcf3-893a-4e50-80a9-35318578ee8c/compare?selectedSessions=1477e98c-cba3-47c1-bd17-6e8f0f753271\n",
      "\n",
      "\n"
     ]
    },
    {
     "data": {
      "application/vnd.jupyter.widget-view+json": {
       "model_id": "df0d9b9d24454d9b80f9e6e722b6bd48",
       "version_major": 2,
       "version_minor": 0
      },
      "text/plain": [
       "0it [00:00, ?it/s]"
      ]
     },
     "metadata": {},
     "output_type": "display_data"
    }
   ],
   "source": [
    "# 평가 실행\n",
    "dataset_name = \"RAG_EVAL_DATASET\"\n",
    "\n",
    "experiment_result1 = evaluate(\n",
    "    gpt_chain,\n",
    "    data=dataset_name,\n",
    "    summary_evaluators=[relevance_score_summary_evaluator],\n",
    "    experiment_prefix=\"SUMMARY_EVAL\",\n",
    "    # 실험 메타데이터 지정\n",
    "    metadata={\n",
    "        \"variant\": \"GPT-4o-mini 사용: summary_evaluator 를 활용한 relevance 평가\",\n",
    "    },\n",
    ")\n",
    "\n",
    "# 평가 실행\n",
    "experiment_result2 = evaluate(\n",
    "    ollama_chain,\n",
    "    data=dataset_name,\n",
    "    summary_evaluators=[relevance_score_summary_evaluator],\n",
    "    experiment_prefix=\"SUMMARY_EVAL\",\n",
    "    # 실험 메타데이터 지정\n",
    "    metadata={\n",
    "        \"variant\": \"Ollama(EEVE-Korean-10.8B:latest) 사용: summary_evaluator 를 활용한 relevance 평가\",\n",
    "    },\n",
    ")\n"
   ]
  },
  {
   "cell_type": "markdown",
   "metadata": {},
   "source": [
    "11. Groundedness(할루시네이션) 평가"
   ]
  },
  {
   "cell_type": "code",
   "execution_count": 19,
   "metadata": {},
   "outputs": [],
   "source": [
    "from myrag import PDFRAG\n",
    "\n",
    "\n",
    "# 질문에 대한 답변하는 함수를 생성\n",
    "def ask_question_with_llm(llm):\n",
    "    # PDFRAG 객체 생성\n",
    "    rag = PDFRAG(\n",
    "        \"data/SPRI_AI_Brief_2023년12월호_F.pdf\",\n",
    "        llm,\n",
    "    )\n",
    "\n",
    "    # 검색기(retriever) 생성\n",
    "    retriever = rag.create_retriever()\n",
    "\n",
    "    # 체인(chain) 생성\n",
    "    rag_chain = rag.create_chain(retriever)\n",
    "\n",
    "    def _ask_question(inputs: dict):\n",
    "        # 질문에 대한 컨텍스트 검색\n",
    "        context = retriever.invoke(inputs[\"question\"])\n",
    "        # 검색된 문서들을 하나의 문자열로 결합\n",
    "        context = \"\\n\".join([doc.page_content for doc in context])\n",
    "        # 질문, 컨텍스트, 답변을 포함한 딕셔너리 반환\n",
    "        return {\n",
    "            \"question\": inputs[\"question\"],\n",
    "            \"context\": context,\n",
    "            \"answer\": rag_chain.invoke(inputs[\"question\"]),\n",
    "        }\n",
    "\n",
    "    return _ask_question\n"
   ]
  },
  {
   "cell_type": "code",
   "execution_count": 20,
   "metadata": {},
   "outputs": [],
   "source": [
    "from langchain_upstage import UpstageGroundednessCheck\n",
    "\n",
    "# 업스테이지 Groundness Checker 생성\n",
    "upstage_groundedness_check = UpstageGroundednessCheck()\n"
   ]
  },
  {
   "cell_type": "code",
   "execution_count": 21,
   "metadata": {},
   "outputs": [
    {
     "name": "stdout",
     "output_type": "stream",
     "text": [
      "grounded\n"
     ]
    }
   ],
   "source": [
    "# Groundness Checker 를 실행하여 평가\n",
    "request_input = {\n",
    "    \"context\": \"테디의 성별은 남자이며, 테디노트 유튜브 채널을 운영하고 있습니다.\",\n",
    "    \"answer\": \"테디는 남자다.\",\n",
    "}\n",
    "\n",
    "response = upstage_groundedness_check.invoke(request_input)\n",
    "print(response)\n"
   ]
  },
  {
   "cell_type": "code",
   "execution_count": 22,
   "metadata": {},
   "outputs": [
    {
     "name": "stdout",
     "output_type": "stream",
     "text": [
      "notGrounded\n"
     ]
    }
   ],
   "source": [
    "# Groundness Checker 를 실행하여 평가\n",
    "request_input = {\n",
    "    \"context\": \"테디의 성별은 남자이며, 테디노트 유튜브 채널을 운영하고 있습니다.\",\n",
    "    \"answer\": \"테디는 여자다.\",\n",
    "}\n",
    "\n",
    "response = upstage_groundedness_check.invoke(request_input)\n",
    "print(response)\n",
    "\n"
   ]
  },
  {
   "cell_type": "code",
   "execution_count": 23,
   "metadata": {},
   "outputs": [],
   "source": [
    "from langsmith.schemas import Run, Example\n",
    "from langsmith.evaluation import evaluate\n",
    "\n",
    "\n",
    "def upstage_groundness_check_evaluator(run: Run, example: Example) -> dict:\n",
    "    # LLM 생성 답변, 정답 답변 가져오기\n",
    "    answer = run.outputs.get(\"answer\", \"\")\n",
    "    context = run.outputs.get(\"context\", \"\")\n",
    "\n",
    "    # Groundness 체크\n",
    "    groundedness_score = upstage_groundedness_check.invoke(\n",
    "        {\"answer\": answer, \"context\": context}\n",
    "    )\n",
    "    groundedness_score = groundedness_score == \"grounded\"\n",
    "\n",
    "    return {\"key\": \"groundness_score\", \"score\": int(groundedness_score)}\n"
   ]
  },
  {
   "cell_type": "code",
   "execution_count": 25,
   "metadata": {},
   "outputs": [],
   "source": [
    "from langsmith.schemas import Run, Example\n",
    "from langchain_teddynote.evaluator import GroundednessChecker\n",
    "from langchain_openai import ChatOpenAI\n",
    "\n",
    "# teddynote Groundness Checker 생성\n",
    "groundedness_check = GroundednessChecker(\n",
    "    ChatOpenAI(model=\"gpt-4.1\", temperature=0)\n",
    ").create()\n",
    "\n",
    "\n",
    "def teddynote_groundness_check_evaluator(run: Run, example: Example) -> dict:\n",
    "    # LLM 생성 답변, 정답 답변 가져오기\n",
    "    answer = run.outputs.get(\"answer\", \"\")\n",
    "    context = run.outputs.get(\"context\", \"\")\n",
    "\n",
    "    # Groundness 체크\n",
    "    groundedness_score = groundedness_check.invoke(\n",
    "        {\"answer\": answer, \"context\": context}\n",
    "    )\n",
    "    groundedness_score = groundedness_score.score == \"yes\"\n",
    "\n",
    "    return {\"key\": \"groundness_score\", \"score\": int(groundedness_score)}\n"
   ]
  },
  {
   "cell_type": "code",
   "execution_count": 26,
   "metadata": {},
   "outputs": [
    {
     "name": "stdout",
     "output_type": "stream",
     "text": [
      "View the evaluation results for experiment: 'GROUNDEDNESS-EVAL-bbf60151' at:\n",
      "https://smith.langchain.com/o/53db61eb-d386-4c02-9de8-5b28476b0edc/datasets/70f9dcf3-893a-4e50-80a9-35318578ee8c/compare?selectedSessions=49d0a3b0-98e8-44be-97fc-a5ea05c36abc\n",
      "\n",
      "\n"
     ]
    },
    {
     "data": {
      "application/vnd.jupyter.widget-view+json": {
       "model_id": "d49d54279b0f4f7b8a1083807de962df",
       "version_major": 2,
       "version_minor": 0
      },
      "text/plain": [
       "0it [00:00, ?it/s]"
      ]
     },
     "metadata": {},
     "output_type": "display_data"
    }
   ],
   "source": [
    "from langsmith.evaluation import evaluate\n",
    "\n",
    "# 데이터셋 이름 설정\n",
    "dataset_name = \"RAG_EVAL_DATASET\"\n",
    "\n",
    "# 실행\n",
    "experiment_results = evaluate(\n",
    "    gpt_chain,\n",
    "    data=dataset_name,\n",
    "    evaluators=[\n",
    "        upstage_groundness_check_evaluator,\n",
    "        teddynote_groundness_check_evaluator,\n",
    "    ],\n",
    "    experiment_prefix=\"GROUNDEDNESS-EVAL\",\n",
    "    # 실험 메타데이터 지정\n",
    "    metadata={\n",
    "        \"variant\": \"Upstage & teddynote Groundness Checker 를 활용한 Hallucination 평가\",\n",
    "    },\n",
    ")\n"
   ]
  },
  {
   "cell_type": "code",
   "execution_count": 27,
   "metadata": {},
   "outputs": [],
   "source": [
    "from typing import List\n",
    "from langsmith.schemas import Example, Run\n",
    "\n",
    "\n",
    "def upstage_groundness_check_summary_evaluator(\n",
    "    runs: List[Run], examples: List[Example]\n",
    ") -> dict:\n",
    "    def is_grounded(run: Run) -> bool:\n",
    "        context = run.outputs[\"context\"]\n",
    "        answer = run.outputs[\"answer\"]\n",
    "        return (\n",
    "            upstage_groundedness_check.invoke({\"context\": context, \"answer\": answer})\n",
    "            == \"grounded\"\n",
    "        )\n",
    "\n",
    "    groundedness_scores = sum(1 for run in runs if is_grounded(run))\n",
    "    return {\"key\": \"groundness_score\", \"score\": groundedness_scores / len(runs)}\n",
    "\n",
    "\n",
    "def teddynote_groundness_check_summary_evaluator(\n",
    "    runs: List[Run], examples: List[Example]\n",
    ") -> dict:\n",
    "    def is_grounded(run: Run) -> bool:\n",
    "        context = run.outputs[\"context\"]\n",
    "        answer = run.outputs[\"answer\"]\n",
    "        return (\n",
    "            groundedness_check.invoke({\"context\": context, \"answer\": answer}).score\n",
    "            == \"yes\"\n",
    "        )\n",
    "\n",
    "    groundedness_scores = sum(1 for run in runs if is_grounded(run))\n",
    "    return {\"key\": \"groundness_score\", \"score\": groundedness_scores / len(runs)}\n"
   ]
  },
  {
   "cell_type": "code",
   "execution_count": 28,
   "metadata": {},
   "outputs": [
    {
     "name": "stdout",
     "output_type": "stream",
     "text": [
      "View the evaluation results for experiment: 'GROUNDNESS_UPSTAGE_SUMMARY_EVAL-6b5495f3' at:\n",
      "https://smith.langchain.com/o/53db61eb-d386-4c02-9de8-5b28476b0edc/datasets/70f9dcf3-893a-4e50-80a9-35318578ee8c/compare?selectedSessions=981bed10-0f16-4c85-958a-60055feea3b0\n",
      "\n",
      "\n"
     ]
    },
    {
     "data": {
      "application/vnd.jupyter.widget-view+json": {
       "model_id": "aa953cd56a454cdababaf56385e3b800",
       "version_major": 2,
       "version_minor": 0
      },
      "text/plain": [
       "0it [00:00, ?it/s]"
      ]
     },
     "metadata": {},
     "output_type": "display_data"
    },
    {
     "name": "stdout",
     "output_type": "stream",
     "text": [
      "View the evaluation results for experiment: 'GROUNDNESS_TEDDYNOTE_SUMMARY_EVAL-cd0ba9dc' at:\n",
      "https://smith.langchain.com/o/53db61eb-d386-4c02-9de8-5b28476b0edc/datasets/70f9dcf3-893a-4e50-80a9-35318578ee8c/compare?selectedSessions=6282f5f4-722b-406c-8773-8dece7549bf7\n",
      "\n",
      "\n"
     ]
    },
    {
     "data": {
      "application/vnd.jupyter.widget-view+json": {
       "model_id": "af814e25a0cf476fbaeeb539314663ef",
       "version_major": 2,
       "version_minor": 0
      },
      "text/plain": [
       "0it [00:00, ?it/s]"
      ]
     },
     "metadata": {},
     "output_type": "display_data"
    }
   ],
   "source": [
    "from langsmith.evaluation import evaluate\n",
    "\n",
    "# 평가 실행\n",
    "experiment_result1 = evaluate(\n",
    "    gpt_chain,\n",
    "    data=dataset_name,\n",
    "    summary_evaluators=[\n",
    "        upstage_groundness_check_summary_evaluator,\n",
    "    ],\n",
    "    experiment_prefix=\"GROUNDNESS_UPSTAGE_SUMMARY_EVAL\",\n",
    "    # 실험 메타데이터 지정\n",
    "    metadata={\n",
    "        \"variant\": \"Upstage Groundness Checker 를 활용한 Hallucination 평가\",\n",
    "    },\n",
    ")\n",
    "\n",
    "# 평가 실행\n",
    "experiment_result2 = evaluate(\n",
    "    gpt_chain,\n",
    "    data=dataset_name,\n",
    "    summary_evaluators=[\n",
    "        teddynote_groundness_check_summary_evaluator,\n",
    "    ],\n",
    "    experiment_prefix=\"GROUNDNESS_TEDDYNOTE_SUMMARY_EVAL\",\n",
    "    # 실험 메타데이터 지정\n",
    "    metadata={\n",
    "        \"variant\": \"Teddynote Groundness Checker 를 활용한 Hallucination 평가\",\n",
    "    },\n",
    ")\n"
   ]
  },
  {
   "cell_type": "markdown",
   "metadata": {},
   "source": [
    "12. 실험 비교(Pairwise Evaluation)"
   ]
  },
  {
   "cell_type": "code",
   "execution_count": 30,
   "metadata": {},
   "outputs": [],
   "source": [
    "from langchain import hub\n",
    "\n",
    "from langchain_openai import ChatOpenAI\n",
    "from langsmith.schemas import Example, Run\n",
    "from langchain_core.prompts import PromptTemplate\n",
    "from langchain_core.output_parsers import StrOutputParser\n",
    "from pydantic import BaseModel, Field\n",
    "#from langchain_core.pydantic_v1 import BaseModel, Field\n",
    "from langsmith.evaluation import evaluate\n",
    "\n",
    "\n",
    "def evaluate_pairwise(runs: list, example) -> dict:\n",
    "    \"\"\"\n",
    "    A simple evaluator for pairwise answers to score based on  engagement\n",
    "    \"\"\"\n",
    "\n",
    "    # 점수 저장\n",
    "    scores = {}\n",
    "    for i, run in enumerate(runs):\n",
    "        scores[run.id] = i\n",
    "\n",
    "    # 각 예제에 대한 실행 쌍\n",
    "    answer_a = runs[0].outputs[\"answer\"]\n",
    "    answer_b = runs[1].outputs[\"answer\"]\n",
    "    question = example.inputs[\"question\"]\n",
    "\n",
    "    # 함수 호출이 있는 LLM, 최고 성능 모델 사용\n",
    "    llm = ChatOpenAI(model=\"gpt-4o-mini\", temperature=0)\n",
    "\n",
    "    # 구조화된 프롬프트\n",
    "    grade_prompt = PromptTemplate.from_template(\n",
    "        \"\"\"\n",
    "        You are an LLM judge. Compare the following two answers to a question and determine which one is better.\n",
    "        Better answer is the one that is more detailed and informative.\n",
    "        If the answer is not related to the question, it is not a good answer.\n",
    "\n",
    "        # Question:\n",
    "        {question}\n",
    "\n",
    "        #Answer A: \n",
    "        {answer_a}\n",
    "\n",
    "        #Answer B: \n",
    "        {answer_b}\n",
    "\n",
    "        Output should be either `A` or `B`. Pick the answer that is better.\n",
    "\n",
    "        #Preference:\n",
    "        \"\"\"\n",
    "    )\n",
    "    answer_grader = grade_prompt | llm | StrOutputParser()\n",
    "\n",
    "    # 점수 획득\n",
    "    score = answer_grader.invoke(\n",
    "        {\n",
    "            \"question\": question,\n",
    "            \"answer_a\": answer_a,\n",
    "            \"answer_b\": answer_b,\n",
    "        }\n",
    "    )\n",
    "    # score = score[\"Preference\"]\n",
    "\n",
    "    # 점수에 따른 실행 할당 매핑\n",
    "    if score == \"A\":  # Assistant A 선호\n",
    "        scores[runs[0].id] = 1\n",
    "        scores[runs[1].id] = 0\n",
    "    elif score == \"B\":  # Assistant B 선호\n",
    "        scores[runs[0].id] = 0\n",
    "        scores[runs[1].id] = 1\n",
    "    else:\n",
    "        scores[runs[0].id] = 0\n",
    "        scores[runs[1].id] = 0\n",
    "\n",
    "    return {\"key\": \"ranked_preference\", \"scores\": scores}\n"
   ]
  },
  {
   "cell_type": "code",
   "execution_count": 32,
   "metadata": {},
   "outputs": [
    {
     "name": "stdout",
     "output_type": "stream",
     "text": [
      "View the pairwise evaluation results at:\n",
      "https://smith.langchain.com/o/53db61eb-d386-4c02-9de8-5b28476b0edc/datasets/70f9dcf3-893a-4e50-80a9-35318578ee8c/compare?selectedSessions=86f15823-32ce-4810-b4f9-50fe5cebb37e%2C6661dbd0-22bb-4539-a713-9c22f831359c&comparativeExperiment=650a093a-60cd-46a6-8417-913c2d27e92a\n",
      "\n",
      "\n"
     ]
    },
    {
     "data": {
      "application/vnd.jupyter.widget-view+json": {
       "model_id": "efa23f9b02ea4607a6c3357d238cfee9",
       "version_major": 2,
       "version_minor": 0
      },
      "text/plain": [
       "  0%|          | 0/5 [00:00<?, ?it/s]"
      ]
     },
     "metadata": {},
     "output_type": "display_data"
    },
    {
     "data": {
      "text/plain": [
       "<langsmith.evaluation._runner.ComparativeExperimentResults at 0x129e66dd0>"
      ]
     },
     "execution_count": 32,
     "metadata": {},
     "output_type": "execute_result"
    }
   ],
   "source": [
    "from langsmith.evaluation import evaluate_comparative\n",
    "\n",
    "# 실험 이름 또는 ID 배열 교체\n",
    "evaluate_comparative(\n",
    "    [\"MODEL_COMPARE_EVAL-2553ffac\", \"MODEL_COMPARE_EVAL-09ddad8a\"],\n",
    "    # 평가자 배열\n",
    "    evaluators=[evaluate_pairwise],\n",
    ")\n"
   ]
  },
  {
   "cell_type": "markdown",
   "metadata": {},
   "source": [
    "13. 반복 평가"
   ]
  },
  {
   "cell_type": "code",
   "execution_count": 33,
   "metadata": {},
   "outputs": [],
   "source": [
    "from myrag import PDFRAG\n",
    "\n",
    "\n",
    "# 질문에 대한 답변하는 함수를 생성\n",
    "def ask_question_with_llm(llm):\n",
    "    # PDFRAG 객체 생성\n",
    "    rag = PDFRAG(\n",
    "        \"data/SPRI_AI_Brief_2023년12월호_F.pdf\",\n",
    "        llm,\n",
    "    )\n",
    "\n",
    "    # 검색기(retriever) 생성\n",
    "    retriever = rag.create_retriever()\n",
    "\n",
    "    # 체인(chain) 생성\n",
    "    rag_chain = rag.create_chain(retriever)\n",
    "\n",
    "    def _ask_question(inputs: dict):\n",
    "        # 질문에 대한 컨텍스트 검색\n",
    "        context = retriever.invoke(inputs[\"question\"])\n",
    "        # 검색된 문서들을 하나의 문자열로 결합\n",
    "        context = \"\\n\".join([doc.page_content for doc in context])\n",
    "        # 질문, 컨텍스트, 답변을 포함한 딕셔너리 반환\n",
    "        return {\n",
    "            \"question\": inputs[\"question\"],\n",
    "            \"context\": context,\n",
    "            \"answer\": rag_chain.invoke(inputs[\"question\"]),\n",
    "        }\n",
    "\n",
    "    return _ask_question\n"
   ]
  },
  {
   "cell_type": "code",
   "execution_count": 34,
   "metadata": {},
   "outputs": [],
   "source": [
    "from langchain_openai import ChatOpenAI\n",
    "from langchain_community.chat_models import ChatOllama\n",
    "\n",
    "\n",
    "gpt_chain = ask_question_with_llm(ChatOpenAI(model=\"gpt-4.1\", temperature=1.0))\n",
    "\n",
    "# Ollama 모델을 불러옵니다.\n",
    "ollama_chain = ask_question_with_llm(\n",
    "    ChatOllama(model=ollama_model_id, temperature=1.0)\n",
    ")\n"
   ]
  },
  {
   "cell_type": "code",
   "execution_count": 35,
   "metadata": {},
   "outputs": [
    {
     "name": "stdout",
     "output_type": "stream",
     "text": [
      "View the evaluation results for experiment: 'REPEAT_EVAL-dfa04fe6' at:\n",
      "https://smith.langchain.com/o/53db61eb-d386-4c02-9de8-5b28476b0edc/datasets/70f9dcf3-893a-4e50-80a9-35318578ee8c/compare?selectedSessions=a6377b77-7d5b-423b-9138-2b053f684706\n",
      "\n",
      "\n"
     ]
    },
    {
     "data": {
      "application/vnd.jupyter.widget-view+json": {
       "model_id": "3b4ace8371b44a75be8e4b537fde5ca4",
       "version_major": 2,
       "version_minor": 0
      },
      "text/plain": [
       "0it [00:00, ?it/s]"
      ]
     },
     "metadata": {},
     "output_type": "display_data"
    },
    {
     "data": {
      "text/html": [
       "<div>\n",
       "<style scoped>\n",
       "    .dataframe tbody tr th:only-of-type {\n",
       "        vertical-align: middle;\n",
       "    }\n",
       "\n",
       "    .dataframe tbody tr th {\n",
       "        vertical-align: top;\n",
       "    }\n",
       "\n",
       "    .dataframe thead th {\n",
       "        text-align: right;\n",
       "    }\n",
       "</style>\n",
       "<table border=\"1\" class=\"dataframe\">\n",
       "  <thead>\n",
       "    <tr style=\"text-align: right;\">\n",
       "      <th></th>\n",
       "      <th>inputs.question</th>\n",
       "      <th>outputs.question</th>\n",
       "      <th>outputs.context</th>\n",
       "      <th>outputs.answer</th>\n",
       "      <th>error</th>\n",
       "      <th>reference.answer</th>\n",
       "      <th>feedback.COT Contextual Accuracy</th>\n",
       "      <th>execution_time</th>\n",
       "      <th>example_id</th>\n",
       "      <th>id</th>\n",
       "    </tr>\n",
       "  </thead>\n",
       "  <tbody>\n",
       "    <tr>\n",
       "      <th>0</th>\n",
       "      <td>구글이 테디노트에게 20억달러를 투자한 것이 사실입니까?</td>\n",
       "      <td>구글이 테디노트에게 20억달러를 투자한 것이 사실입니까?</td>\n",
       "      <td>£ 구글, 앤스로픽에 최대 20억 달러 투자 합의 및 클라우드 서비스 제공\\nn 구...</td>\n",
       "      <td>구글이 테디노트에게 20억 달러를 투자했다는 내용은 제공된 문서에서 확인되지 않습니...</td>\n",
       "      <td>None</td>\n",
       "      <td>사실이 아닙니다. 구글은 앤스로픽에 최대 20억 달러를 투자하기로 합의했으며, 이 ...</td>\n",
       "      <td>1</td>\n",
       "      <td>2.928274</td>\n",
       "      <td>19993858-dd49-44a9-b7d3-529a442eb39a</td>\n",
       "      <td>6d99db8c-dddf-40d5-9d61-455baf23af6c</td>\n",
       "    </tr>\n",
       "    <tr>\n",
       "      <th>1</th>\n",
       "      <td>삼성전자가 만든 생성형 AI의 이름은 무엇인가요?</td>\n",
       "      <td>삼성전자가 만든 생성형 AI의 이름은 무엇인가요?</td>\n",
       "      <td>▹ 삼성전자, 자체 개발 생성 AI ‘삼성 가우스’ 공개 ··············...</td>\n",
       "      <td>삼성전자가 만든 생성형 AI의 이름은 '삼성 가우스'입니다.</td>\n",
       "      <td>None</td>\n",
       "      <td>삼성전자가 만든 생성형 AI의 이름은 테디노트 입니다.</td>\n",
       "      <td>1</td>\n",
       "      <td>1.742480</td>\n",
       "      <td>f7d94096-7bcb-439b-832e-96d2dbd27169</td>\n",
       "      <td>fb6cd2f9-47ef-426f-86ca-30d1fa75350f</td>\n",
       "    </tr>\n",
       "    <tr>\n",
       "      <th>2</th>\n",
       "      <td>삼성전자가 만든 생성형 AI의 이름은 무엇인가요?</td>\n",
       "      <td>삼성전자가 만든 생성형 AI의 이름은 무엇인가요?</td>\n",
       "      <td>▹ 삼성전자, 자체 개발 생성 AI ‘삼성 가우스’ 공개 ··············...</td>\n",
       "      <td>삼성전자가 만든 생성형 AI의 이름은 ‘삼성 가우스’입니다.</td>\n",
       "      <td>None</td>\n",
       "      <td>삼성전자가 만든 생성형 AI의 이름은 삼성 가우스 입니다.</td>\n",
       "      <td>1</td>\n",
       "      <td>1.814143</td>\n",
       "      <td>2c20a8eb-ea28-4a83-8535-1f602cdcfc57</td>\n",
       "      <td>f5765d5c-8cfb-4500-8b89-df513cae1c17</td>\n",
       "    </tr>\n",
       "    <tr>\n",
       "      <th>3</th>\n",
       "      <td>코히어의 데이터 출처 탐색기에 대해서 간략히 말해주세요.</td>\n",
       "      <td>코히어의 데이터 출처 탐색기에 대해서 간략히 말해주세요.</td>\n",
       "      <td>SPRi AI Brief |  \\n2023-12월호\\n8\\n코히어, 데이터 투명성 ...</td>\n",
       "      <td>코히어(Cohere)의 데이터 출처 탐색기(Data Provenance Explor...</td>\n",
       "      <td>None</td>\n",
       "      <td>코히어의 데이터 출처 탐색기는 AI 모델 훈련에 사용되는 데이터셋의 출처와 라이선스...</td>\n",
       "      <td>1</td>\n",
       "      <td>3.338704</td>\n",
       "      <td>2e043f96-3f75-4a52-b65b-dbad66f4e58f</td>\n",
       "      <td>0ffe8d56-48bc-4945-beff-55570402bc93</td>\n",
       "    </tr>\n",
       "    <tr>\n",
       "      <th>4</th>\n",
       "      <td>미국 바이든 대통령이 안전하고 신뢰할 수 있는 AI 개발과 사용을 보장하기 위한 행...</td>\n",
       "      <td>미국 바이든 대통령이 안전하고 신뢰할 수 있는 AI 개발과 사용을 보장하기 위한 행...</td>\n",
       "      <td>1. 정책/법제  \\n2. 기업/산업 \\n3. 기술/연구 \\n 4. 인력/교육\\n미...</td>\n",
       "      <td>미국 바이든 대통령이 안전하고 신뢰할 수 있는 AI 개발과 사용을 보장하기 위한 행...</td>\n",
       "      <td>None</td>\n",
       "      <td>2023년 10월 30일 미국 바이든 대통령이 행정명령을 발표했습니다.</td>\n",
       "      <td>1</td>\n",
       "      <td>1.583056</td>\n",
       "      <td>6c99b3e8-92f9-460f-9861-08699eaf317b</td>\n",
       "      <td>871aaae8-a0c9-4eaf-902a-e9e2f7a29b47</td>\n",
       "    </tr>\n",
       "    <tr>\n",
       "      <th>5</th>\n",
       "      <td>구글이 테디노트에게 20억달러를 투자한 것이 사실입니까?</td>\n",
       "      <td>구글이 테디노트에게 20억달러를 투자한 것이 사실입니까?</td>\n",
       "      <td>£ 구글, 앤스로픽에 최대 20억 달러 투자 합의 및 클라우드 서비스 제공\\nn 구...</td>\n",
       "      <td>구글이 테디노트에게 20억달러를 투자했다는 내용은 제공된 문서에 없습니다. 문서에 ...</td>\n",
       "      <td>None</td>\n",
       "      <td>사실이 아닙니다. 구글은 앤스로픽에 최대 20억 달러를 투자하기로 합의했으며, 이 ...</td>\n",
       "      <td>1</td>\n",
       "      <td>2.628378</td>\n",
       "      <td>19993858-dd49-44a9-b7d3-529a442eb39a</td>\n",
       "      <td>4ed284e6-f1e0-4d07-b148-744751add273</td>\n",
       "    </tr>\n",
       "    <tr>\n",
       "      <th>6</th>\n",
       "      <td>삼성전자가 만든 생성형 AI의 이름은 무엇인가요?</td>\n",
       "      <td>삼성전자가 만든 생성형 AI의 이름은 무엇인가요?</td>\n",
       "      <td>▹ 삼성전자, 자체 개발 생성 AI ‘삼성 가우스’ 공개 ··············...</td>\n",
       "      <td>삼성전자가 만든 생성형 AI의 이름은 ‘삼성 가우스’입니다.</td>\n",
       "      <td>None</td>\n",
       "      <td>삼성전자가 만든 생성형 AI의 이름은 테디노트 입니다.</td>\n",
       "      <td>1</td>\n",
       "      <td>1.532760</td>\n",
       "      <td>f7d94096-7bcb-439b-832e-96d2dbd27169</td>\n",
       "      <td>f3839c59-e740-4497-ad4e-9ff81ad9c49f</td>\n",
       "    </tr>\n",
       "    <tr>\n",
       "      <th>7</th>\n",
       "      <td>삼성전자가 만든 생성형 AI의 이름은 무엇인가요?</td>\n",
       "      <td>삼성전자가 만든 생성형 AI의 이름은 무엇인가요?</td>\n",
       "      <td>▹ 삼성전자, 자체 개발 생성 AI ‘삼성 가우스’ 공개 ··············...</td>\n",
       "      <td>삼성전자가 만든 생성형 AI의 이름은 '삼성 가우스'입니다.</td>\n",
       "      <td>None</td>\n",
       "      <td>삼성전자가 만든 생성형 AI의 이름은 삼성 가우스 입니다.</td>\n",
       "      <td>1</td>\n",
       "      <td>1.411880</td>\n",
       "      <td>2c20a8eb-ea28-4a83-8535-1f602cdcfc57</td>\n",
       "      <td>493f2d52-814c-46c7-a459-f124876fef05</td>\n",
       "    </tr>\n",
       "    <tr>\n",
       "      <th>8</th>\n",
       "      <td>코히어의 데이터 출처 탐색기에 대해서 간략히 말해주세요.</td>\n",
       "      <td>코히어의 데이터 출처 탐색기에 대해서 간략히 말해주세요.</td>\n",
       "      <td>SPRi AI Brief |  \\n2023-12월호\\n8\\n코히어, 데이터 투명성 ...</td>\n",
       "      <td>코히어(Cohere)의 데이터 출처 탐색기(Data Provenance Explor...</td>\n",
       "      <td>None</td>\n",
       "      <td>코히어의 데이터 출처 탐색기는 AI 모델 훈련에 사용되는 데이터셋의 출처와 라이선스...</td>\n",
       "      <td>1</td>\n",
       "      <td>2.602373</td>\n",
       "      <td>2e043f96-3f75-4a52-b65b-dbad66f4e58f</td>\n",
       "      <td>5117bc15-e1fd-4a43-add8-61e15e34fae0</td>\n",
       "    </tr>\n",
       "    <tr>\n",
       "      <th>9</th>\n",
       "      <td>미국 바이든 대통령이 안전하고 신뢰할 수 있는 AI 개발과 사용을 보장하기 위한 행...</td>\n",
       "      <td>미국 바이든 대통령이 안전하고 신뢰할 수 있는 AI 개발과 사용을 보장하기 위한 행...</td>\n",
       "      <td>1. 정책/법제  \\n2. 기업/산업 \\n3. 기술/연구 \\n 4. 인력/교육\\n미...</td>\n",
       "      <td>미국 바이든 대통령이 안전하고 신뢰할 수 있는 AI 개발과 사용을 보장하기 위한 행...</td>\n",
       "      <td>None</td>\n",
       "      <td>2023년 10월 30일 미국 바이든 대통령이 행정명령을 발표했습니다.</td>\n",
       "      <td>1</td>\n",
       "      <td>1.644631</td>\n",
       "      <td>6c99b3e8-92f9-460f-9861-08699eaf317b</td>\n",
       "      <td>c6afb85f-05f6-4f3d-af87-256eadd9dec2</td>\n",
       "    </tr>\n",
       "    <tr>\n",
       "      <th>10</th>\n",
       "      <td>구글이 테디노트에게 20억달러를 투자한 것이 사실입니까?</td>\n",
       "      <td>구글이 테디노트에게 20억달러를 투자한 것이 사실입니까?</td>\n",
       "      <td>£ 구글, 앤스로픽에 최대 20억 달러 투자 합의 및 클라우드 서비스 제공\\nn 구...</td>\n",
       "      <td>아니요, 구글이 20억 달러를 투자한 기업은 테디노트가 아니라 앤스로픽(Anthro...</td>\n",
       "      <td>None</td>\n",
       "      <td>사실이 아닙니다. 구글은 앤스로픽에 최대 20억 달러를 투자하기로 합의했으며, 이 ...</td>\n",
       "      <td>1</td>\n",
       "      <td>2.593451</td>\n",
       "      <td>19993858-dd49-44a9-b7d3-529a442eb39a</td>\n",
       "      <td>fdc138f4-658d-42bf-a65a-5e18264035cd</td>\n",
       "    </tr>\n",
       "    <tr>\n",
       "      <th>11</th>\n",
       "      <td>삼성전자가 만든 생성형 AI의 이름은 무엇인가요?</td>\n",
       "      <td>삼성전자가 만든 생성형 AI의 이름은 무엇인가요?</td>\n",
       "      <td>▹ 삼성전자, 자체 개발 생성 AI ‘삼성 가우스’ 공개 ··············...</td>\n",
       "      <td>삼성전자가 만든 생성형 AI의 이름은 ‘삼성 가우스’입니다.</td>\n",
       "      <td>None</td>\n",
       "      <td>삼성전자가 만든 생성형 AI의 이름은 테디노트 입니다.</td>\n",
       "      <td>1</td>\n",
       "      <td>1.817410</td>\n",
       "      <td>f7d94096-7bcb-439b-832e-96d2dbd27169</td>\n",
       "      <td>465dc0eb-3dbe-424d-bf7b-c2e56d2b3dba</td>\n",
       "    </tr>\n",
       "    <tr>\n",
       "      <th>12</th>\n",
       "      <td>삼성전자가 만든 생성형 AI의 이름은 무엇인가요?</td>\n",
       "      <td>삼성전자가 만든 생성형 AI의 이름은 무엇인가요?</td>\n",
       "      <td>▹ 삼성전자, 자체 개발 생성 AI ‘삼성 가우스’ 공개 ··············...</td>\n",
       "      <td>삼성전자가 만든 생성형 AI의 이름은 '삼성 가우스'입니다.</td>\n",
       "      <td>None</td>\n",
       "      <td>삼성전자가 만든 생성형 AI의 이름은 삼성 가우스 입니다.</td>\n",
       "      <td>1</td>\n",
       "      <td>1.726915</td>\n",
       "      <td>2c20a8eb-ea28-4a83-8535-1f602cdcfc57</td>\n",
       "      <td>993fd7cb-f6e5-4c8a-adca-4a9ddb409665</td>\n",
       "    </tr>\n",
       "    <tr>\n",
       "      <th>13</th>\n",
       "      <td>코히어의 데이터 출처 탐색기에 대해서 간략히 말해주세요.</td>\n",
       "      <td>코히어의 데이터 출처 탐색기에 대해서 간략히 말해주세요.</td>\n",
       "      <td>SPRi AI Brief |  \\n2023-12월호\\n8\\n코히어, 데이터 투명성 ...</td>\n",
       "      <td>코히어(Cohere)의 데이터 출처 탐색기(Data Provenance Explor...</td>\n",
       "      <td>None</td>\n",
       "      <td>코히어의 데이터 출처 탐색기는 AI 모델 훈련에 사용되는 데이터셋의 출처와 라이선스...</td>\n",
       "      <td>1</td>\n",
       "      <td>2.539504</td>\n",
       "      <td>2e043f96-3f75-4a52-b65b-dbad66f4e58f</td>\n",
       "      <td>955f65fa-3714-47fe-af56-c1092ec74df6</td>\n",
       "    </tr>\n",
       "    <tr>\n",
       "      <th>14</th>\n",
       "      <td>미국 바이든 대통령이 안전하고 신뢰할 수 있는 AI 개발과 사용을 보장하기 위한 행...</td>\n",
       "      <td>미국 바이든 대통령이 안전하고 신뢰할 수 있는 AI 개발과 사용을 보장하기 위한 행...</td>\n",
       "      <td>1. 정책/법제  \\n2. 기업/산업 \\n3. 기술/연구 \\n 4. 인력/교육\\n미...</td>\n",
       "      <td>미국 바이든 대통령이 안전하고 신뢰할 수 있는 AI 개발과 사용을 보장하기 위한 행...</td>\n",
       "      <td>None</td>\n",
       "      <td>2023년 10월 30일 미국 바이든 대통령이 행정명령을 발표했습니다.</td>\n",
       "      <td>1</td>\n",
       "      <td>1.647341</td>\n",
       "      <td>6c99b3e8-92f9-460f-9861-08699eaf317b</td>\n",
       "      <td>3035f23a-2c7e-4309-a378-a9ab1d5f20fc</td>\n",
       "    </tr>\n",
       "  </tbody>\n",
       "</table>\n",
       "</div>"
      ],
      "text/plain": [
       "<ExperimentResults REPEAT_EVAL-dfa04fe6>"
      ]
     },
     "execution_count": 35,
     "metadata": {},
     "output_type": "execute_result"
    }
   ],
   "source": [
    "from langsmith.evaluation import evaluate, LangChainStringEvaluator\n",
    "\n",
    "# qa 평가자 생성\n",
    "cot_qa_evalulator = LangChainStringEvaluator(\n",
    "    \"cot_qa\",\n",
    "    config={\"llm\": ChatOpenAI(model=\"gpt-4.1\", temperature=0)},\n",
    "    prepare_data=lambda run, example: {\n",
    "        \"prediction\": run.outputs[\"answer\"],\n",
    "        \"reference\": run.outputs[\"context\"],\n",
    "        \"input\": example.inputs[\"question\"],\n",
    "    },\n",
    ")\n",
    "\n",
    "dataset_name = \"RAG_EVAL_DATASET\"\n",
    "\n",
    "# 평가 실행\n",
    "evaluate(\n",
    "    gpt_chain,\n",
    "    data=dataset_name,\n",
    "    evaluators=[cot_qa_evalulator],\n",
    "    experiment_prefix=\"REPEAT_EVAL\",\n",
    "    # 실험 메타데이터 지정\n",
    "    metadata={\n",
    "        \"variant\": \"Repeat 평가를 수행합니다. GPT-4o-mini 모델 (cot_qa)\",\n",
    "    },\n",
    "    num_repetitions=3,\n",
    ")\n"
   ]
  },
  {
   "cell_type": "code",
   "execution_count": 36,
   "metadata": {},
   "outputs": [
    {
     "name": "stdout",
     "output_type": "stream",
     "text": [
      "View the evaluation results for experiment: 'REPEAT_EVAL-9536acc4' at:\n",
      "https://smith.langchain.com/o/53db61eb-d386-4c02-9de8-5b28476b0edc/datasets/70f9dcf3-893a-4e50-80a9-35318578ee8c/compare?selectedSessions=f3ea5c35-a419-409c-93e9-9da2daa945dc\n",
      "\n",
      "\n"
     ]
    },
    {
     "data": {
      "application/vnd.jupyter.widget-view+json": {
       "model_id": "097515d592734bd591a9aafe5ab2ef2a",
       "version_major": 2,
       "version_minor": 0
      },
      "text/plain": [
       "0it [00:00, ?it/s]"
      ]
     },
     "metadata": {},
     "output_type": "display_data"
    },
    {
     "data": {
      "text/html": [
       "<div>\n",
       "<style scoped>\n",
       "    .dataframe tbody tr th:only-of-type {\n",
       "        vertical-align: middle;\n",
       "    }\n",
       "\n",
       "    .dataframe tbody tr th {\n",
       "        vertical-align: top;\n",
       "    }\n",
       "\n",
       "    .dataframe thead th {\n",
       "        text-align: right;\n",
       "    }\n",
       "</style>\n",
       "<table border=\"1\" class=\"dataframe\">\n",
       "  <thead>\n",
       "    <tr style=\"text-align: right;\">\n",
       "      <th></th>\n",
       "      <th>inputs.question</th>\n",
       "      <th>outputs.question</th>\n",
       "      <th>outputs.context</th>\n",
       "      <th>outputs.answer</th>\n",
       "      <th>error</th>\n",
       "      <th>reference.answer</th>\n",
       "      <th>feedback.COT Contextual Accuracy</th>\n",
       "      <th>execution_time</th>\n",
       "      <th>example_id</th>\n",
       "      <th>id</th>\n",
       "    </tr>\n",
       "  </thead>\n",
       "  <tbody>\n",
       "    <tr>\n",
       "      <th>0</th>\n",
       "      <td>구글이 테디노트에게 20억달러를 투자한 것이 사실입니까?</td>\n",
       "      <td>구글이 테디노트에게 20억달러를 투자한 것이 사실입니까?</td>\n",
       "      <td>£ 구글, 앤스로픽에 최대 20억 달러 투자 합의 및 클라우드 서비스 제공\\nn 구...</td>\n",
       "      <td>No, it's not accurate that Google has invested...</td>\n",
       "      <td>None</td>\n",
       "      <td>사실이 아닙니다. 구글은 앤스로픽에 최대 20억 달러를 투자하기로 합의했으며, 이 ...</td>\n",
       "      <td>1</td>\n",
       "      <td>30.812780</td>\n",
       "      <td>19993858-dd49-44a9-b7d3-529a442eb39a</td>\n",
       "      <td>cd2720ae-809a-42c2-a9ef-38bc821e9f18</td>\n",
       "    </tr>\n",
       "    <tr>\n",
       "      <th>1</th>\n",
       "      <td>삼성전자가 만든 생성형 AI의 이름은 무엇인가요?</td>\n",
       "      <td>삼성전자가 만든 생성형 AI의 이름은 무엇인가요?</td>\n",
       "      <td>▹ 삼성전자, 자체 개발 생성 AI ‘삼성 가우스’ 공개 ··············...</td>\n",
       "      <td>삼성전자가 만든 자체 개발 생성형 AI 모델의 이름은 '삼성 가우스(Samsung ...</td>\n",
       "      <td>None</td>\n",
       "      <td>삼성전자가 만든 생성형 AI의 이름은 테디노트 입니다.</td>\n",
       "      <td>1</td>\n",
       "      <td>17.461575</td>\n",
       "      <td>f7d94096-7bcb-439b-832e-96d2dbd27169</td>\n",
       "      <td>c9228a6b-d11d-4acb-be68-1271d9d701d8</td>\n",
       "    </tr>\n",
       "    <tr>\n",
       "      <th>2</th>\n",
       "      <td>삼성전자가 만든 생성형 AI의 이름은 무엇인가요?</td>\n",
       "      <td>삼성전자가 만든 생성형 AI의 이름은 무엇인가요?</td>\n",
       "      <td>▹ 삼성전자, 자체 개발 생성 AI ‘삼성 가우스’ 공개 ··············...</td>\n",
       "      <td>삼성전자가 개발한 생성형 AI 모델의 이름은 '삼성 가우스'입니다.</td>\n",
       "      <td>None</td>\n",
       "      <td>삼성전자가 만든 생성형 AI의 이름은 삼성 가우스 입니다.</td>\n",
       "      <td>1</td>\n",
       "      <td>4.054843</td>\n",
       "      <td>2c20a8eb-ea28-4a83-8535-1f602cdcfc57</td>\n",
       "      <td>58a2d733-d20c-48c1-bc71-d272abaf97ba</td>\n",
       "    </tr>\n",
       "    <tr>\n",
       "      <th>3</th>\n",
       "      <td>코히어의 데이터 출처 탐색기에 대해서 간략히 말해주세요.</td>\n",
       "      <td>코히어의 데이터 출처 탐색기에 대해서 간략히 말해주세요.</td>\n",
       "      <td>SPRi AI Brief |  \\n2023-12월호\\n8\\n코히어, 데이터 투명성 ...</td>\n",
       "      <td>코히어(Cohere)는 매사추세츠 공과대학교(MIT), 하버드 로스쿨, 카네기멜론 ...</td>\n",
       "      <td>None</td>\n",
       "      <td>코히어의 데이터 출처 탐색기는 AI 모델 훈련에 사용되는 데이터셋의 출처와 라이선스...</td>\n",
       "      <td>1</td>\n",
       "      <td>27.136245</td>\n",
       "      <td>2e043f96-3f75-4a52-b65b-dbad66f4e58f</td>\n",
       "      <td>f3a4f859-dd28-4901-a5f6-4440abc18e01</td>\n",
       "    </tr>\n",
       "    <tr>\n",
       "      <th>4</th>\n",
       "      <td>미국 바이든 대통령이 안전하고 신뢰할 수 있는 AI 개발과 사용을 보장하기 위한 행...</td>\n",
       "      <td>미국 바이든 대통령이 안전하고 신뢰할 수 있는 AI 개발과 사용을 보장하기 위한 행...</td>\n",
       "      <td>1. 정책/법제  \\n2. 기업/산업 \\n3. 기술/연구 \\n 4. 인력/교육\\n미...</td>\n",
       "      <td>미국 바이든 대통령은 2023년 10월 30일에 안전하게 신뢰성 있게 AI 개발 및...</td>\n",
       "      <td>None</td>\n",
       "      <td>2023년 10월 30일 미국 바이든 대통령이 행정명령을 발표했습니다.</td>\n",
       "      <td>1</td>\n",
       "      <td>21.541699</td>\n",
       "      <td>6c99b3e8-92f9-460f-9861-08699eaf317b</td>\n",
       "      <td>49f51301-1b5a-44ad-800b-313a50c4bf7a</td>\n",
       "    </tr>\n",
       "    <tr>\n",
       "      <th>5</th>\n",
       "      <td>구글이 테디노트에게 20억달러를 투자한 것이 사실입니까?</td>\n",
       "      <td>구글이 테디노트에게 20억달러를 투자한 것이 사실입니까?</td>\n",
       "      <td>£ 구글, 앤스로픽에 최대 20억 달러 투자 합의 및 클라우드 서비스 제공\\nn 구...</td>\n",
       "      <td>아니요, 구글은 앤스로픽(Anthropic)에 최대 20억 달러를 투자했습니다.</td>\n",
       "      <td>None</td>\n",
       "      <td>사실이 아닙니다. 구글은 앤스로픽에 최대 20억 달러를 투자하기로 합의했으며, 이 ...</td>\n",
       "      <td>1</td>\n",
       "      <td>18.359963</td>\n",
       "      <td>19993858-dd49-44a9-b7d3-529a442eb39a</td>\n",
       "      <td>fae99a93-0e91-4f93-bf80-75c6f16e8c72</td>\n",
       "    </tr>\n",
       "    <tr>\n",
       "      <th>6</th>\n",
       "      <td>삼성전자가 만든 생성형 AI의 이름은 무엇인가요?</td>\n",
       "      <td>삼성전자가 만든 생성형 AI의 이름은 무엇인가요?</td>\n",
       "      <td>▹ 삼성전자, 자체 개발 생성 AI ‘삼성 가우스’ 공개 ··············...</td>\n",
       "      <td>삼성전자가 자체 개발한 생성형 AI의 이름은 '삼성 가우스(Samsung GPT)'...</td>\n",
       "      <td>None</td>\n",
       "      <td>삼성전자가 만든 생성형 AI의 이름은 테디노트 입니다.</td>\n",
       "      <td>0</td>\n",
       "      <td>19.843675</td>\n",
       "      <td>f7d94096-7bcb-439b-832e-96d2dbd27169</td>\n",
       "      <td>05e30e52-8770-452d-a972-49a38661e6d3</td>\n",
       "    </tr>\n",
       "    <tr>\n",
       "      <th>7</th>\n",
       "      <td>삼성전자가 만든 생성형 AI의 이름은 무엇인가요?</td>\n",
       "      <td>삼성전자가 만든 생성형 AI의 이름은 무엇인가요?</td>\n",
       "      <td>▹ 삼성전자, 자체 개발 생성 AI ‘삼성 가우스’ 공개 ··············...</td>\n",
       "      <td>삼성전자가 개발한 생성형 AI의 이름은 '삼성 가우스'입니다.</td>\n",
       "      <td>None</td>\n",
       "      <td>삼성전자가 만든 생성형 AI의 이름은 삼성 가우스 입니다.</td>\n",
       "      <td>1</td>\n",
       "      <td>3.090454</td>\n",
       "      <td>2c20a8eb-ea28-4a83-8535-1f602cdcfc57</td>\n",
       "      <td>9a467922-3b17-41e4-9603-134ea06a0689</td>\n",
       "    </tr>\n",
       "    <tr>\n",
       "      <th>8</th>\n",
       "      <td>코히어의 데이터 출처 탐색기에 대해서 간략히 말해주세요.</td>\n",
       "      <td>코히어의 데이터 출처 탐색기에 대해서 간략히 말해주세요.</td>\n",
       "      <td>SPRi AI Brief |  \\n2023-12월호\\n8\\n코히어, 데이터 투명성 ...</td>\n",
       "      <td>코히어(Cohere)는 매사추세츠 공과대학교(MIT), 하버드 대학교 로스쿨, 카네...</td>\n",
       "      <td>None</td>\n",
       "      <td>코히어의 데이터 출처 탐색기는 AI 모델 훈련에 사용되는 데이터셋의 출처와 라이선스...</td>\n",
       "      <td>1</td>\n",
       "      <td>27.755801</td>\n",
       "      <td>2e043f96-3f75-4a52-b65b-dbad66f4e58f</td>\n",
       "      <td>7f58a7b8-7ab9-4ffc-94a5-e1f25546b635</td>\n",
       "    </tr>\n",
       "    <tr>\n",
       "      <th>9</th>\n",
       "      <td>미국 바이든 대통령이 안전하고 신뢰할 수 있는 AI 개발과 사용을 보장하기 위한 행...</td>\n",
       "      <td>미국 바이든 대통령이 안전하고 신뢰할 수 있는 AI 개발과 사용을 보장하기 위한 행...</td>\n",
       "      <td>1. 정책/법제  \\n2. 기업/산업 \\n3. 기술/연구 \\n 4. 인력/교육\\n미...</td>\n",
       "      <td>2023년 10월 30일에 미국 바이든 대통령은 안전하고 신뢰할 수 있는 AI 개발...</td>\n",
       "      <td>None</td>\n",
       "      <td>2023년 10월 30일 미국 바이든 대통령이 행정명령을 발표했습니다.</td>\n",
       "      <td>1</td>\n",
       "      <td>20.419620</td>\n",
       "      <td>6c99b3e8-92f9-460f-9861-08699eaf317b</td>\n",
       "      <td>64727140-2be0-4b07-b763-1435f1450882</td>\n",
       "    </tr>\n",
       "    <tr>\n",
       "      <th>10</th>\n",
       "      <td>구글이 테디노트에게 20억달러를 투자한 것이 사실입니까?</td>\n",
       "      <td>구글이 테디노트에게 20억달러를 투자한 것이 사실입니까?</td>\n",
       "      <td>£ 구글, 앤스로픽에 최대 20억 달러 투자 합의 및 클라우드 서비스 제공\\nn 구...</td>\n",
       "      <td>아니요, 구글은 테디노트(Tedious)에게 20억 달러를 투자한 것이 아니라, A...</td>\n",
       "      <td>None</td>\n",
       "      <td>사실이 아닙니다. 구글은 앤스로픽에 최대 20억 달러를 투자하기로 합의했으며, 이 ...</td>\n",
       "      <td>1</td>\n",
       "      <td>21.094125</td>\n",
       "      <td>19993858-dd49-44a9-b7d3-529a442eb39a</td>\n",
       "      <td>3a0efdf5-9f66-44d4-ad5e-67eeae550cc0</td>\n",
       "    </tr>\n",
       "    <tr>\n",
       "      <th>11</th>\n",
       "      <td>삼성전자가 만든 생성형 AI의 이름은 무엇인가요?</td>\n",
       "      <td>삼성전자가 만든 생성형 AI의 이름은 무엇인가요?</td>\n",
       "      <td>▹ 삼성전자, 자체 개발 생성 AI ‘삼성 가우스’ 공개 ··············...</td>\n",
       "      <td>삼성전자가 만든 생성형 AI의 이름은 '삼성 가우스'입니다.</td>\n",
       "      <td>None</td>\n",
       "      <td>삼성전자가 만든 생성형 AI의 이름은 테디노트 입니다.</td>\n",
       "      <td>1</td>\n",
       "      <td>16.726528</td>\n",
       "      <td>f7d94096-7bcb-439b-832e-96d2dbd27169</td>\n",
       "      <td>a83a8adc-dc6c-474b-8bd5-a0445dff731a</td>\n",
       "    </tr>\n",
       "    <tr>\n",
       "      <th>12</th>\n",
       "      <td>삼성전자가 만든 생성형 AI의 이름은 무엇인가요?</td>\n",
       "      <td>삼성전자가 만든 생성형 AI의 이름은 무엇인가요?</td>\n",
       "      <td>▹ 삼성전자, 자체 개발 생성 AI ‘삼성 가우스’ 공개 ··············...</td>\n",
       "      <td>삼성전자가 자체 개발한 생성형 AI의 이름은 삼성 가우스(Samsung GARU)입니다.</td>\n",
       "      <td>None</td>\n",
       "      <td>삼성전자가 만든 생성형 AI의 이름은 삼성 가우스 입니다.</td>\n",
       "      <td>0</td>\n",
       "      <td>3.388543</td>\n",
       "      <td>2c20a8eb-ea28-4a83-8535-1f602cdcfc57</td>\n",
       "      <td>69601319-7b1d-40a0-b04b-e9e356221d95</td>\n",
       "    </tr>\n",
       "    <tr>\n",
       "      <th>13</th>\n",
       "      <td>코히어의 데이터 출처 탐색기에 대해서 간략히 말해주세요.</td>\n",
       "      <td>코히어의 데이터 출처 탐색기에 대해서 간략히 말해주세요.</td>\n",
       "      <td>SPRi AI Brief |  \\n2023-12월호\\n8\\n코히어, 데이터 투명성 ...</td>\n",
       "      <td>코히어(Cohere)는 매사추세츠 공과대학(MIT), 하버드 로스쿨, 카네기멜론 대...</td>\n",
       "      <td>None</td>\n",
       "      <td>코히어의 데이터 출처 탐색기는 AI 모델 훈련에 사용되는 데이터셋의 출처와 라이선스...</td>\n",
       "      <td>1</td>\n",
       "      <td>25.451357</td>\n",
       "      <td>2e043f96-3f75-4a52-b65b-dbad66f4e58f</td>\n",
       "      <td>ccdd6f46-b5bf-4d39-aa51-95672a6053f7</td>\n",
       "    </tr>\n",
       "    <tr>\n",
       "      <th>14</th>\n",
       "      <td>미국 바이든 대통령이 안전하고 신뢰할 수 있는 AI 개발과 사용을 보장하기 위한 행...</td>\n",
       "      <td>미국 바이든 대통령이 안전하고 신뢰할 수 있는 AI 개발과 사용을 보장하기 위한 행...</td>\n",
       "      <td>1. 정책/법제  \\n2. 기업/산업 \\n3. 기술/연구 \\n 4. 인력/교육\\n미...</td>\n",
       "      <td>미국 바이든 대통령은 2023년 10월 30일에 연방정부 차원에서 안전하고 신뢰할 ...</td>\n",
       "      <td>None</td>\n",
       "      <td>2023년 10월 30일 미국 바이든 대통령이 행정명령을 발표했습니다.</td>\n",
       "      <td>1</td>\n",
       "      <td>17.991513</td>\n",
       "      <td>6c99b3e8-92f9-460f-9861-08699eaf317b</td>\n",
       "      <td>d2a7d758-7cf7-4566-a9ae-0f807a6cddfe</td>\n",
       "    </tr>\n",
       "  </tbody>\n",
       "</table>\n",
       "</div>"
      ],
      "text/plain": [
       "<ExperimentResults REPEAT_EVAL-9536acc4>"
      ]
     },
     "execution_count": 36,
     "metadata": {},
     "output_type": "execute_result"
    }
   ],
   "source": [
    "from langsmith.evaluation import evaluate, LangChainStringEvaluator\n",
    "\n",
    "# qa 평가자 생성\n",
    "cot_qa_evalulator = LangChainStringEvaluator(\n",
    "    \"cot_qa\",\n",
    "    config={\"llm\": ChatOpenAI(model=\"gpt-4.1\", temperature=0)},\n",
    "    prepare_data=lambda run, example: {\n",
    "        \"prediction\": run.outputs[\"answer\"],\n",
    "        \"reference\": run.outputs[\"context\"],\n",
    "        \"input\": example.inputs[\"question\"],\n",
    "    },\n",
    ")\n",
    "\n",
    "dataset_name = \"RAG_EVAL_DATASET\"\n",
    "\n",
    "# 평가 실행\n",
    "evaluate(\n",
    "    ollama_chain,\n",
    "    data=dataset_name,\n",
    "    evaluators=[cot_qa_evalulator],\n",
    "    experiment_prefix=\"REPEAT_EVAL\",\n",
    "    # 실험 메타데이터 지정\n",
    "    metadata={\n",
    "        \"variant\": \"Repeat 평가를 수행합니다. EEVE-Korean-10.8B 모델 (cot_qa)\",\n",
    "    },\n",
    "    num_repetitions=3,\n",
    ")\n"
   ]
  },
  {
   "cell_type": "markdown",
   "metadata": {},
   "source": [
    "14. 온라인 평가를 활용한 평가 자동화\n"
   ]
  },
  {
   "cell_type": "code",
   "execution_count": 3,
   "metadata": {},
   "outputs": [],
   "source": [
    "from myrag import PDFRAG\n",
    "from langchain_openai import ChatOpenAI\n",
    "\n",
    "# PDFRAG 객체 생성\n",
    "rag = PDFRAG(\n",
    "    \"data/SPRI_AI_Brief_2023년12월호_F.pdf\",\n",
    "    ChatOpenAI(model=\"gpt-4.1\", temperature=0),\n",
    ")\n",
    "\n",
    "# 검색기(retriever) 생성\n",
    "retriever = rag.create_retriever()\n",
    "\n",
    "# 체인(chain) 생성\n",
    "rag_chain = rag.create_chain(retriever)\n"
   ]
  },
  {
   "cell_type": "code",
   "execution_count": 4,
   "metadata": {},
   "outputs": [],
   "source": [
    "from langchain_core.runnables import RunnableParallel, RunnablePassthrough\n",
    "\n",
    "# RunnableParallel 객체 생성합니다.\n",
    "evaluation_runnable = RunnableParallel(\n",
    "    {\n",
    "        \"context\": retriever,\n",
    "        \"answer\": rag_chain,\n",
    "        \"question\": RunnablePassthrough(),\n",
    "    }\n",
    ")\n"
   ]
  },
  {
   "cell_type": "code",
   "execution_count": 5,
   "metadata": {},
   "outputs": [],
   "source": [
    "# 체인 실행\n",
    "_ = evaluation_runnable.invoke(\"삼성전자가 자체 개발한 생성형 AI의 이름은 무엇인가요?\")\n"
   ]
  },
  {
   "cell_type": "code",
   "execution_count": 6,
   "metadata": {},
   "outputs": [],
   "source": [
    "from langchain_core.runnables import RunnableConfig\n",
    "\n",
    "# 태그를 설정합니다.\n",
    "hallucination_config = RunnableConfig(tags=[\"hallucination_eval\"])\n",
    "context_recall_config = RunnableConfig(tags=[\"context_recall_eval\"])\n",
    "all_eval_config = RunnableConfig(tags=[\"hallucination_eval\", \"context_recall_eval\"])\n"
   ]
  },
  {
   "cell_type": "code",
   "execution_count": 12,
   "metadata": {},
   "outputs": [
    {
     "data": {
      "text/plain": [
       "{'context': [Document(id='ca9e9ae6-cf94-4eda-8b5c-809b4c3178c2', metadata={'producer': 'Hancom PDF 1.3.0.542', 'creator': 'Hwp 2018 10.0.0.13462', 'creationdate': '2023-12-08T13:28:38+09:00', 'source': 'data/SPRI_AI_Brief_2023년12월호_F.pdf', 'file_path': 'data/SPRI_AI_Brief_2023년12월호_F.pdf', 'total_pages': 23, 'format': 'PDF 1.4', 'title': '', 'author': 'dj', 'subject': '', 'keywords': '', 'moddate': '2023-12-08T13:28:38+09:00', 'trapped': '', 'modDate': \"D:20231208132838+09'00'\", 'creationDate': \"D:20231208132838+09'00'\", 'page': 1}, page_content='▹ 삼성전자, 자체 개발 생성 AI ‘삼성 가우스’ 공개 ··························································· 10\\n   ▹ 구글, 앤스로픽에 20억 달러 투자로 생성 AI 협력 강화 ················································ 11\\n   ▹ IDC, 2027년 AI 소프트웨어 매출 2,500억 달러 돌파 전망··········································· 12'),\n",
       "  Document(id='21ad99dd-6fca-45af-afb0-311c65ce406b', metadata={'producer': 'Hancom PDF 1.3.0.542', 'creator': 'Hwp 2018 10.0.0.13462', 'creationdate': '2023-12-08T13:28:38+09:00', 'source': 'data/SPRI_AI_Brief_2023년12월호_F.pdf', 'file_path': 'data/SPRI_AI_Brief_2023년12월호_F.pdf', 'total_pages': 23, 'format': 'PDF 1.4', 'title': '', 'author': 'dj', 'subject': '', 'keywords': '', 'moddate': '2023-12-08T13:28:38+09:00', 'trapped': '', 'modDate': \"D:20231208132838+09'00'\", 'creationDate': \"D:20231208132838+09'00'\", 'page': 12}, page_content='SPRi AI Brief |  \\n2023-12월호\\n10\\n삼성전자, 자체 개발 생성 AI ‘삼성 가우스’ 공개\\nn 삼성전자가 온디바이스에서 작동 가능하며 언어, 코드, 이미지의 3개 모델로 구성된 자체 개발 생성 \\nAI 모델 ‘삼성 가우스’를 공개\\nn 삼성전자는 삼성 가우스를 다양한 제품에 단계적으로 탑재할 계획으로, 온디바이스 작동이 가능한 \\n삼성 가우스는 외부로 사용자 정보가 유출될 위험이 없다는 장점을 보유\\nKEY Contents\\n£ 언어, 코드, 이미지의 3개 모델로 구성된 삼성 가우스, 온디바이스 작동 지원'),\n",
       "  Document(id='99b154c2-dad0-479d-88b8-8d4f61c91571', metadata={'producer': 'Hancom PDF 1.3.0.542', 'creator': 'Hwp 2018 10.0.0.13462', 'creationdate': '2023-12-08T13:28:38+09:00', 'source': 'data/SPRI_AI_Brief_2023년12월호_F.pdf', 'file_path': 'data/SPRI_AI_Brief_2023년12월호_F.pdf', 'total_pages': 23, 'format': 'PDF 1.4', 'title': '', 'author': 'dj', 'subject': '', 'keywords': '', 'moddate': '2023-12-08T13:28:38+09:00', 'trapped': '', 'modDate': \"D:20231208132838+09'00'\", 'creationDate': \"D:20231208132838+09'00'\", 'page': 12}, page_content='£ 언어, 코드, 이미지의 3개 모델로 구성된 삼성 가우스, 온디바이스 작동 지원\\nn 삼성전자가 2023년 11월 8일 열린 ‘삼성 AI 포럼 2023’ 행사에서 자체 개발한 생성 AI 모델 \\n‘삼성 가우스’를 최초 공개\\n∙정규분포 이론을 정립한 천재 수학자 가우스(Gauss)의 이름을 본뜬 삼성 가우스는 다양한 상황에 \\n최적화된 크기의 모델 선택이 가능\\n∙삼성 가우스는 라이선스나 개인정보를 침해하지 않는 안전한 데이터를 통해 학습되었으며, \\n온디바이스에서 작동하도록 설계되어 외부로 사용자의 정보가 유출되지 않는 장점을 보유'),\n",
       "  Document(id='d5e09a6d-f8f3-4fc1-bfc7-978004f8d864', metadata={'producer': 'Hancom PDF 1.3.0.542', 'creator': 'Hwp 2018 10.0.0.13462', 'creationdate': '2023-12-08T13:28:38+09:00', 'source': 'data/SPRI_AI_Brief_2023년12월호_F.pdf', 'file_path': 'data/SPRI_AI_Brief_2023년12월호_F.pdf', 'total_pages': 23, 'format': 'PDF 1.4', 'title': '', 'author': 'dj', 'subject': '', 'keywords': '', 'moddate': '2023-12-08T13:28:38+09:00', 'trapped': '', 'modDate': \"D:20231208132838+09'00'\", 'creationDate': \"D:20231208132838+09'00'\", 'page': 12}, page_content='어시스턴트를 적용한 구글 픽셀(Pixel)과 경쟁할 것으로 예상\\n☞ 출처 : 삼성전자, ‘삼성 AI 포럼’서 자체 개발 생성형 AI ‘삼성 가우스’ 공개, 2023.11.08.\\n삼성전자, ‘삼성 개발자 콘퍼런스 코리아 2023’ 개최, 2023.11.14.\\nTechRepublic, Samsung Gauss: Samsung Research Reveals Generative AI, 2023.11.08.')],\n",
       " 'answer': '삼성전자가 자체 개발한 생성형 AI의 이름은 ‘삼성 가우스’입니다.',\n",
       " 'question': '삼성전자가 자체 개발한 생성형 AI의 이름은 무엇인가요?'}"
      ]
     },
     "execution_count": 12,
     "metadata": {},
     "output_type": "execute_result"
    }
   ],
   "source": [
    "# Hallucination 평가 요청\n",
    "_ = evaluation_runnable.invoke(\n",
    "    \"삼성전자가 자체 개발한 생성형 AI의 이름은 무엇인가요?\", config=hallucination_config\n",
    ")\n",
    "_"
   ]
  },
  {
   "cell_type": "code",
   "execution_count": 13,
   "metadata": {},
   "outputs": [
    {
     "data": {
      "text/plain": [
       "{'context': [Document(id='ca9e9ae6-cf94-4eda-8b5c-809b4c3178c2', metadata={'producer': 'Hancom PDF 1.3.0.542', 'creator': 'Hwp 2018 10.0.0.13462', 'creationdate': '2023-12-08T13:28:38+09:00', 'source': 'data/SPRI_AI_Brief_2023년12월호_F.pdf', 'file_path': 'data/SPRI_AI_Brief_2023년12월호_F.pdf', 'total_pages': 23, 'format': 'PDF 1.4', 'title': '', 'author': 'dj', 'subject': '', 'keywords': '', 'moddate': '2023-12-08T13:28:38+09:00', 'trapped': '', 'modDate': \"D:20231208132838+09'00'\", 'creationDate': \"D:20231208132838+09'00'\", 'page': 1}, page_content='▹ 삼성전자, 자체 개발 생성 AI ‘삼성 가우스’ 공개 ··························································· 10\\n   ▹ 구글, 앤스로픽에 20억 달러 투자로 생성 AI 협력 강화 ················································ 11\\n   ▹ IDC, 2027년 AI 소프트웨어 매출 2,500억 달러 돌파 전망··········································· 12'),\n",
       "  Document(id='21ad99dd-6fca-45af-afb0-311c65ce406b', metadata={'producer': 'Hancom PDF 1.3.0.542', 'creator': 'Hwp 2018 10.0.0.13462', 'creationdate': '2023-12-08T13:28:38+09:00', 'source': 'data/SPRI_AI_Brief_2023년12월호_F.pdf', 'file_path': 'data/SPRI_AI_Brief_2023년12월호_F.pdf', 'total_pages': 23, 'format': 'PDF 1.4', 'title': '', 'author': 'dj', 'subject': '', 'keywords': '', 'moddate': '2023-12-08T13:28:38+09:00', 'trapped': '', 'modDate': \"D:20231208132838+09'00'\", 'creationDate': \"D:20231208132838+09'00'\", 'page': 12}, page_content='SPRi AI Brief |  \\n2023-12월호\\n10\\n삼성전자, 자체 개발 생성 AI ‘삼성 가우스’ 공개\\nn 삼성전자가 온디바이스에서 작동 가능하며 언어, 코드, 이미지의 3개 모델로 구성된 자체 개발 생성 \\nAI 모델 ‘삼성 가우스’를 공개\\nn 삼성전자는 삼성 가우스를 다양한 제품에 단계적으로 탑재할 계획으로, 온디바이스 작동이 가능한 \\n삼성 가우스는 외부로 사용자 정보가 유출될 위험이 없다는 장점을 보유\\nKEY Contents\\n£ 언어, 코드, 이미지의 3개 모델로 구성된 삼성 가우스, 온디바이스 작동 지원'),\n",
       "  Document(id='99b154c2-dad0-479d-88b8-8d4f61c91571', metadata={'producer': 'Hancom PDF 1.3.0.542', 'creator': 'Hwp 2018 10.0.0.13462', 'creationdate': '2023-12-08T13:28:38+09:00', 'source': 'data/SPRI_AI_Brief_2023년12월호_F.pdf', 'file_path': 'data/SPRI_AI_Brief_2023년12월호_F.pdf', 'total_pages': 23, 'format': 'PDF 1.4', 'title': '', 'author': 'dj', 'subject': '', 'keywords': '', 'moddate': '2023-12-08T13:28:38+09:00', 'trapped': '', 'modDate': \"D:20231208132838+09'00'\", 'creationDate': \"D:20231208132838+09'00'\", 'page': 12}, page_content='£ 언어, 코드, 이미지의 3개 모델로 구성된 삼성 가우스, 온디바이스 작동 지원\\nn 삼성전자가 2023년 11월 8일 열린 ‘삼성 AI 포럼 2023’ 행사에서 자체 개발한 생성 AI 모델 \\n‘삼성 가우스’를 최초 공개\\n∙정규분포 이론을 정립한 천재 수학자 가우스(Gauss)의 이름을 본뜬 삼성 가우스는 다양한 상황에 \\n최적화된 크기의 모델 선택이 가능\\n∙삼성 가우스는 라이선스나 개인정보를 침해하지 않는 안전한 데이터를 통해 학습되었으며, \\n온디바이스에서 작동하도록 설계되어 외부로 사용자의 정보가 유출되지 않는 장점을 보유'),\n",
       "  Document(id='d5e09a6d-f8f3-4fc1-bfc7-978004f8d864', metadata={'producer': 'Hancom PDF 1.3.0.542', 'creator': 'Hwp 2018 10.0.0.13462', 'creationdate': '2023-12-08T13:28:38+09:00', 'source': 'data/SPRI_AI_Brief_2023년12월호_F.pdf', 'file_path': 'data/SPRI_AI_Brief_2023년12월호_F.pdf', 'total_pages': 23, 'format': 'PDF 1.4', 'title': '', 'author': 'dj', 'subject': '', 'keywords': '', 'moddate': '2023-12-08T13:28:38+09:00', 'trapped': '', 'modDate': \"D:20231208132838+09'00'\", 'creationDate': \"D:20231208132838+09'00'\", 'page': 12}, page_content='어시스턴트를 적용한 구글 픽셀(Pixel)과 경쟁할 것으로 예상\\n☞ 출처 : 삼성전자, ‘삼성 AI 포럼’서 자체 개발 생성형 AI ‘삼성 가우스’ 공개, 2023.11.08.\\n삼성전자, ‘삼성 개발자 콘퍼런스 코리아 2023’ 개최, 2023.11.14.\\nTechRepublic, Samsung Gauss: Samsung Research Reveals Generative AI, 2023.11.08.')],\n",
       " 'answer': '삼성전자가 자체 개발한 생성형 AI의 이름은 ‘삼성 가우스’입니다.',\n",
       " 'question': '삼성전자가 자체 개발한 생성형 AI의 이름은 무엇인가요?'}"
      ]
     },
     "execution_count": 13,
     "metadata": {},
     "output_type": "execute_result"
    }
   ],
   "source": [
    "# Context Recall 평가 요청\n",
    "_ = evaluation_runnable.invoke(\n",
    "    \"삼성전자가 자체 개발한 생성형 AI의 이름은 무엇인가요?\",\n",
    "    config=context_recall_config,\n",
    ")\n",
    "_"
   ]
  },
  {
   "cell_type": "code",
   "execution_count": 14,
   "metadata": {},
   "outputs": [
    {
     "data": {
      "text/plain": [
       "{'context': [Document(id='ca9e9ae6-cf94-4eda-8b5c-809b4c3178c2', metadata={'producer': 'Hancom PDF 1.3.0.542', 'creator': 'Hwp 2018 10.0.0.13462', 'creationdate': '2023-12-08T13:28:38+09:00', 'source': 'data/SPRI_AI_Brief_2023년12월호_F.pdf', 'file_path': 'data/SPRI_AI_Brief_2023년12월호_F.pdf', 'total_pages': 23, 'format': 'PDF 1.4', 'title': '', 'author': 'dj', 'subject': '', 'keywords': '', 'moddate': '2023-12-08T13:28:38+09:00', 'trapped': '', 'modDate': \"D:20231208132838+09'00'\", 'creationDate': \"D:20231208132838+09'00'\", 'page': 1}, page_content='▹ 삼성전자, 자체 개발 생성 AI ‘삼성 가우스’ 공개 ··························································· 10\\n   ▹ 구글, 앤스로픽에 20억 달러 투자로 생성 AI 협력 강화 ················································ 11\\n   ▹ IDC, 2027년 AI 소프트웨어 매출 2,500억 달러 돌파 전망··········································· 12'),\n",
       "  Document(id='21ad99dd-6fca-45af-afb0-311c65ce406b', metadata={'producer': 'Hancom PDF 1.3.0.542', 'creator': 'Hwp 2018 10.0.0.13462', 'creationdate': '2023-12-08T13:28:38+09:00', 'source': 'data/SPRI_AI_Brief_2023년12월호_F.pdf', 'file_path': 'data/SPRI_AI_Brief_2023년12월호_F.pdf', 'total_pages': 23, 'format': 'PDF 1.4', 'title': '', 'author': 'dj', 'subject': '', 'keywords': '', 'moddate': '2023-12-08T13:28:38+09:00', 'trapped': '', 'modDate': \"D:20231208132838+09'00'\", 'creationDate': \"D:20231208132838+09'00'\", 'page': 12}, page_content='SPRi AI Brief |  \\n2023-12월호\\n10\\n삼성전자, 자체 개발 생성 AI ‘삼성 가우스’ 공개\\nn 삼성전자가 온디바이스에서 작동 가능하며 언어, 코드, 이미지의 3개 모델로 구성된 자체 개발 생성 \\nAI 모델 ‘삼성 가우스’를 공개\\nn 삼성전자는 삼성 가우스를 다양한 제품에 단계적으로 탑재할 계획으로, 온디바이스 작동이 가능한 \\n삼성 가우스는 외부로 사용자 정보가 유출될 위험이 없다는 장점을 보유\\nKEY Contents\\n£ 언어, 코드, 이미지의 3개 모델로 구성된 삼성 가우스, 온디바이스 작동 지원'),\n",
       "  Document(id='99b154c2-dad0-479d-88b8-8d4f61c91571', metadata={'producer': 'Hancom PDF 1.3.0.542', 'creator': 'Hwp 2018 10.0.0.13462', 'creationdate': '2023-12-08T13:28:38+09:00', 'source': 'data/SPRI_AI_Brief_2023년12월호_F.pdf', 'file_path': 'data/SPRI_AI_Brief_2023년12월호_F.pdf', 'total_pages': 23, 'format': 'PDF 1.4', 'title': '', 'author': 'dj', 'subject': '', 'keywords': '', 'moddate': '2023-12-08T13:28:38+09:00', 'trapped': '', 'modDate': \"D:20231208132838+09'00'\", 'creationDate': \"D:20231208132838+09'00'\", 'page': 12}, page_content='£ 언어, 코드, 이미지의 3개 모델로 구성된 삼성 가우스, 온디바이스 작동 지원\\nn 삼성전자가 2023년 11월 8일 열린 ‘삼성 AI 포럼 2023’ 행사에서 자체 개발한 생성 AI 모델 \\n‘삼성 가우스’를 최초 공개\\n∙정규분포 이론을 정립한 천재 수학자 가우스(Gauss)의 이름을 본뜬 삼성 가우스는 다양한 상황에 \\n최적화된 크기의 모델 선택이 가능\\n∙삼성 가우스는 라이선스나 개인정보를 침해하지 않는 안전한 데이터를 통해 학습되었으며, \\n온디바이스에서 작동하도록 설계되어 외부로 사용자의 정보가 유출되지 않는 장점을 보유'),\n",
       "  Document(id='d5e09a6d-f8f3-4fc1-bfc7-978004f8d864', metadata={'producer': 'Hancom PDF 1.3.0.542', 'creator': 'Hwp 2018 10.0.0.13462', 'creationdate': '2023-12-08T13:28:38+09:00', 'source': 'data/SPRI_AI_Brief_2023년12월호_F.pdf', 'file_path': 'data/SPRI_AI_Brief_2023년12월호_F.pdf', 'total_pages': 23, 'format': 'PDF 1.4', 'title': '', 'author': 'dj', 'subject': '', 'keywords': '', 'moddate': '2023-12-08T13:28:38+09:00', 'trapped': '', 'modDate': \"D:20231208132838+09'00'\", 'creationDate': \"D:20231208132838+09'00'\", 'page': 12}, page_content='어시스턴트를 적용한 구글 픽셀(Pixel)과 경쟁할 것으로 예상\\n☞ 출처 : 삼성전자, ‘삼성 AI 포럼’서 자체 개발 생성형 AI ‘삼성 가우스’ 공개, 2023.11.08.\\n삼성전자, ‘삼성 개발자 콘퍼런스 코리아 2023’ 개최, 2023.11.14.\\nTechRepublic, Samsung Gauss: Samsung Research Reveals Generative AI, 2023.11.08.')],\n",
       " 'answer': '삼성전자가 자체 개발한 생성형 AI의 이름은 ‘삼성 가우스’입니다.',\n",
       " 'question': '삼성전자가 자체 개발한 생성형 AI의 이름은 무엇인가요?'}"
      ]
     },
     "execution_count": 14,
     "metadata": {},
     "output_type": "execute_result"
    }
   ],
   "source": [
    "# 모든 평가 요청\n",
    "_ = evaluation_runnable.invoke(\n",
    "    \"삼성전자가 자체 개발한 생성형 AI의 이름은 무엇인가요?\", config=all_eval_config\n",
    ")\n",
    "_"
   ]
  },
  {
   "cell_type": "code",
   "execution_count": null,
   "metadata": {},
   "outputs": [],
   "source": []
  }
 ],
 "metadata": {
  "colab": {
   "authorship_tag": "ABX9TyMs2OSEsEhI+eP+P38efuYH",
   "provenance": []
  },
  "kernelspec": {
   "display_name": "Python 3 (ipykernel)",
   "language": "python",
   "name": "python3"
  },
  "language_info": {
   "codemirror_mode": {
    "name": "ipython",
    "version": 3
   },
   "file_extension": ".py",
   "mimetype": "text/x-python",
   "name": "python",
   "nbconvert_exporter": "python",
   "pygments_lexer": "ipython3",
   "version": "3.11.13"
  }
 },
 "nbformat": 4,
 "nbformat_minor": 4
}
