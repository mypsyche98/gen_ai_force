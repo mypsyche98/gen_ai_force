{
 "cells": [
  {
   "cell_type": "code",
   "execution_count": null,
   "metadata": {
    "colab": {
     "base_uri": "https://localhost:8080/"
    },
    "executionInfo": {
     "elapsed": 9238,
     "status": "ok",
     "timestamp": 1755476228365,
     "user": {
      "displayName": "김광무",
      "userId": "03808645168826839149"
     },
     "user_tz": -540
    },
    "id": "Eh-q59qaiSd9",
    "outputId": "47478fb8-ccf9-4e9e-b213-81409aa74ed1"
   },
   "outputs": [],
   "source": [
    "!pip install PyDrive"
   ]
  },
  {
   "cell_type": "code",
   "execution_count": 1,
   "metadata": {
    "colab": {
     "base_uri": "https://localhost:8080/"
    },
    "executionInfo": {
     "elapsed": 25630,
     "status": "ok",
     "timestamp": 1755476282286,
     "user": {
      "displayName": "김광무",
      "userId": "03808645168826839149"
     },
     "user_tz": -540
    },
    "id": "yga-_OwGiZXh",
    "outputId": "ebd5894c-4d38-41e5-86b8-64f3ec55845e"
   },
   "outputs": [
    {
     "name": "stdout",
     "output_type": "stream",
     "text": [
      "아래 링크를 복사하여 웹 브라우저에 붙여넣으세요.\n",
      "https://accounts.google.com/o/oauth2/auth?client_id=35726703810-4v13dfqmilhgv6shlc3cv9i3ktuh73j1.apps.googleusercontent.com&redirect_uri=http%3A%2F%2Flocalhost&scope=https%3A%2F%2Fwww.googleapis.com%2Fauth%2Fdrive&access_type=offline&response_type=code\n",
      "Authentication successful.\n"
     ]
    }
   ],
   "source": [
    "import os\n",
    "import mykeys\n",
    "\n",
    "project_name = 'CH08_Embedding'\n",
    "\n",
    "os.environ[\"LANGCHAIN_TRACING_V2\"] = \"true\"\n",
    "os.environ[\"LANGCHAIN_ENDPOINT\"] = \"https://api.smith.langchain.com\"\n",
    "os.environ[\"LANGCHAIN_PROJECT\"] = project_name\n",
    "os.environ[\"LANGCHAIN_API_KEY\"] = mykeys.get_key('LANG')\n",
    "os.environ[\"LANGCHAIN_HUB_API_KEY\"] = mykeys.get_key('LANG')\n",
    "os.environ[\"OPENAI_API_KEY\"] = mykeys.get_key('GPT')\n",
    "os.environ[\"GOOGLE_API_KEY\"] = mykeys.get_key('GOO')\n",
    "os.environ[\"HUGGINGFACEHUB_API_TOKEN\"] = mykeys.get_key('HF')\n",
    "os.environ[\"UPSTAGE_API_KEY\"] = mykeys.get_key('UP')"
   ]
  },
  {
   "cell_type": "code",
   "execution_count": null,
   "metadata": {
    "colab": {
     "base_uri": "https://localhost:8080/"
    },
    "executionInfo": {
     "elapsed": 8262,
     "status": "ok",
     "timestamp": 1755476320378,
     "user": {
      "displayName": "김광무",
      "userId": "03808645168826839149"
     },
     "user_tz": -540
    },
    "id": "q1l30lhMirUU",
    "outputId": "85deabac-429a-4935-c7f9-9292cccb24b3"
   },
   "outputs": [],
   "source": [
    "!pip install langchain-teddynote"
   ]
  },
  {
   "cell_type": "code",
   "execution_count": 2,
   "metadata": {
    "colab": {
     "base_uri": "https://localhost:8080/",
     "height": 376
    },
    "executionInfo": {
     "elapsed": 69,
     "status": "error",
     "timestamp": 1755476297112,
     "user": {
      "displayName": "김광무",
      "userId": "03808645168826839149"
     },
     "user_tz": -540
    },
    "id": "ZIWiW7JqimXQ",
    "outputId": "f0c6d903-9697-4432-e2b1-a2b8a3973ddf"
   },
   "outputs": [
    {
     "name": "stdout",
     "output_type": "stream",
     "text": [
      "LangSmith 추적을 시작합니다.\n",
      "[프로젝트명]\n",
      "CH08_Embedding\n"
     ]
    }
   ],
   "source": [
    "from langchain_teddynote import logging\n",
    "\n",
    "# 프로젝트 이름을 입력합니다.\n",
    "logging.langsmith(project_name)"
   ]
  },
  {
   "cell_type": "code",
   "execution_count": null,
   "metadata": {
    "id": "3gmLNFK1imRF"
   },
   "outputs": [],
   "source": [
    "from langchain_teddynote import logging\n",
    "\n",
    "# set_enable=False 로 지정하면 추적을 하지 않습니다.\n",
    "logging.langsmith(project_name, set_enable=False)"
   ]
  },
  {
   "cell_type": "markdown",
   "metadata": {
    "id": "6g4jP9yviAUw"
   },
   "source": [
    "UpstageEmbeddings"
   ]
  },
  {
   "cell_type": "code",
   "execution_count": 3,
   "metadata": {
    "colab": {
     "base_uri": "https://localhost:8080/"
    },
    "executionInfo": {
     "elapsed": 6,
     "status": "ok",
     "timestamp": 1749969541203,
     "user": {
      "displayName": "김광무",
      "userId": "03808645168826839149"
     },
     "user_tz": -540
    },
    "id": "DHjzPvyRefj3",
    "outputId": "5fcb0662-3ac4-4078-deb4-9cf89c6c2c21"
   },
   "outputs": [],
   "source": [
    "texts = [\n",
    "    \"안녕, 만나서 반가워.\",\n",
    "    \"LangChain simplifies the process of building applications with large language models\",\n",
    "    \"랭체인 한국어 튜토리얼은 LangChain의 공식 문서, cookbook 및 다양한 실용 예제를 바탕으로 하여 사용자가 LangChain을 더 쉽고 효과적으로 활용할 수 있도록 구성되어 있습니다. \",\n",
    "    \"LangChain은 초거대 언어모델로 애플리케이션을 구축하는 과정을 단순화합니다.\",\n",
    "    \"Retrieval-Augmented Generation (RAG) is an effective technique for improving AI responses.\",\n",
    "]\n"
   ]
  },
  {
   "cell_type": "code",
   "execution_count": 4,
   "metadata": {
    "id": "oJWRnk7DRWsm"
   },
   "outputs": [],
   "source": [
    "from langchain_upstage import UpstageEmbeddings\n",
    "\n",
    "# 쿼리 전용 임베딩 모델\n",
    "query_embeddings = UpstageEmbeddings(model=\"solar-embedding-1-large-query\")\n",
    "\n",
    "# 문장 전용 임베딩 모델\n",
    "passage_embeddings = UpstageEmbeddings(model=\"solar-embedding-1-large-passage\")\n"
   ]
  },
  {
   "cell_type": "code",
   "execution_count": 6,
   "metadata": {},
   "outputs": [
    {
     "data": {
      "text/plain": [
       "4096"
      ]
     },
     "execution_count": 6,
     "metadata": {},
     "output_type": "execute_result"
    }
   ],
   "source": [
    "# 쿼리 임베딩\n",
    "embedded_query = query_embeddings.embed_query(\"LangChain 에 대해서 상세히 알려주세요.\")\n",
    "# 임베딩 차원 출력\n",
    "len(embedded_query)\n"
   ]
  },
  {
   "cell_type": "code",
   "execution_count": 7,
   "metadata": {},
   "outputs": [],
   "source": [
    "# 문서 임베딩\n",
    "embedded_documents = passage_embeddings.embed_documents(texts)\n"
   ]
  },
  {
   "cell_type": "code",
   "execution_count": 8,
   "metadata": {},
   "outputs": [
    {
     "name": "stdout",
     "output_type": "stream",
     "text": [
      "[Query] LangChain 에 대해서 알려주세요.\n",
      "====================================\n",
      "[0] 유사도: 0.487 | LangChain은 초거대 언어모델로 애플리케이션을 구축하는 과정을 단순화합니다.\n",
      "\n",
      "[1] 유사도: 0.465 | LangChain simplifies the process of building applications with large language models\n",
      "\n",
      "[2] 유사도: 0.432 | 랭체인 한국어 튜토리얼은 LangChain의 공식 문서, cookbook 및 다양한 실용 예제를 바탕으로 하여 사용자가 LangChain을 더 쉽고 효과적으로 활용할 수 있도록 구성되어 있습니다. \n",
      "\n",
      "[3] 유사도: 0.194 | Retrieval-Augmented Generation (RAG) is an effective technique for improving AI responses.\n",
      "\n",
      "[4] 유사도: 0.151 | 안녕, 만나서 반가워.\n",
      "\n"
     ]
    }
   ],
   "source": [
    "import numpy as np\n",
    "\n",
    "# 질문(embedded_query): LangChain 에 대해서 알려주세요.\n",
    "similarity = np.array(embedded_query) @ np.array(embedded_documents).T\n",
    "\n",
    "# 유사도 기준 내림차순 정렬\n",
    "sorted_idx = (np.array(embedded_query) @ np.array(embedded_documents).T).argsort()[::-1]\n",
    "\n",
    "# 결과 출력\n",
    "print(\"[Query] LangChain 에 대해서 알려주세요.\\n====================================\")\n",
    "for i, idx in enumerate(sorted_idx):\n",
    "    print(f\"[{i}] 유사도: {similarity[idx]:.3f} | {texts[idx]}\")\n",
    "    print()\n"
   ]
  },
  {
   "cell_type": "markdown",
   "metadata": {},
   "source": [
    "OllamaEmbeddings"
   ]
  },
  {
   "cell_type": "code",
   "execution_count": 9,
   "metadata": {},
   "outputs": [],
   "source": [
    "texts = [\n",
    "    \"안녕, 만나서 반가워.\",\n",
    "    \"LangChain simplifies the process of building applications with large language models\",\n",
    "    \"랭체인 한국어 튜토리얼은 LangChain의 공식 문서, cookbook 및 다양한 실용 예제를 바탕으로 하여 사용자가 LangChain을 더 쉽고 효과적으로 활용할 수 있도록 구성되어 있습니다. \",\n",
    "    \"LangChain은 초거대 언어모델로 애플리케이션을 구축하는 과정을 단순화합니다.\",\n",
    "    \"Retrieval-Augmented Generation (RAG) is an effective technique for improving AI responses.\",\n",
    "]\n"
   ]
  },
  {
   "cell_type": "code",
   "execution_count": 10,
   "metadata": {},
   "outputs": [
    {
     "name": "stdout",
     "output_type": "stream",
     "text": [
      "NAME               ID              SIZE      MODIFIED   \n",
      "bakllava:latest    3dd68bd4447c    4.7 GB    3 days ago    \n",
      "qwen3:latest       500a1f067a9f    5.2 GB    3 days ago    \n",
      "llama2:7b-chat     78e26419b446    3.8 GB    3 days ago    \n",
      "llama3:latest      365c0bd3c000    4.7 GB    3 days ago    \n",
      "deepseek-r1:8b     6995872bfe4c    5.2 GB    4 days ago    \n"
     ]
    }
   ],
   "source": [
    "!ollama list"
   ]
  },
  {
   "cell_type": "code",
   "execution_count": 18,
   "metadata": {},
   "outputs": [],
   "source": [
    "from langchain_ollama import OllamaEmbeddings\n",
    "\n",
    "ollama_embeddings = OllamaEmbeddings(\n",
    "    model=\"qwen3:latest\"\n",
    ")\n"
   ]
  },
  {
   "cell_type": "code",
   "execution_count": 19,
   "metadata": {},
   "outputs": [
    {
     "data": {
      "text/plain": [
       "4096"
      ]
     },
     "execution_count": 19,
     "metadata": {},
     "output_type": "execute_result"
    }
   ],
   "source": [
    "# 쿼리 임베딩\n",
    "embedded_query = ollama_embeddings.embed_query(\"LangChain 에 대해서 상세히 알려주세요.\")\n",
    "# 임베딩 차원 출력\n",
    "len(embedded_query)\n"
   ]
  },
  {
   "cell_type": "code",
   "execution_count": 20,
   "metadata": {},
   "outputs": [],
   "source": [
    "# 문서 임베딩\n",
    "embedded_documents = ollama_embeddings.embed_documents(texts)\n"
   ]
  },
  {
   "cell_type": "code",
   "execution_count": 21,
   "metadata": {},
   "outputs": [
    {
     "name": "stdout",
     "output_type": "stream",
     "text": [
      "[Query] LangChain 에 대해서 알려주세요.\n",
      "====================================\n",
      "[0] 유사도: 0.947 | LangChain은 초거대 언어모델로 애플리케이션을 구축하는 과정을 단순화합니다.\n",
      "\n",
      "[1] 유사도: 0.848 | 안녕, 만나서 반가워.\n",
      "\n",
      "[2] 유사도: 0.762 | 랭체인 한국어 튜토리얼은 LangChain의 공식 문서, cookbook 및 다양한 실용 예제를 바탕으로 하여 사용자가 LangChain을 더 쉽고 효과적으로 활용할 수 있도록 구성되어 있습니다. \n",
      "\n",
      "[3] 유사도: 0.651 | Retrieval-Augmented Generation (RAG) is an effective technique for improving AI responses.\n",
      "\n",
      "[4] 유사도: 0.571 | LangChain simplifies the process of building applications with large language models\n",
      "\n"
     ]
    }
   ],
   "source": [
    "import numpy as np\n",
    "\n",
    "# 질문(embedded_query): LangChain 에 대해서 알려주세요.\n",
    "similarity = np.array(embedded_query) @ np.array(embedded_documents).T\n",
    "\n",
    "# 유사도 기준 내림차순 정렬\n",
    "sorted_idx = (np.array(embedded_query) @ np.array(embedded_documents).T).argsort()[::-1]\n",
    "\n",
    "# 결과 출력\n",
    "print(\"[Query] LangChain 에 대해서 알려주세요.\\n====================================\")\n",
    "for i, idx in enumerate(sorted_idx):\n",
    "    print(f\"[{i}] 유사도: {similarity[idx]:.3f} | {texts[idx]}\")\n",
    "    print()\n"
   ]
  },
  {
   "cell_type": "markdown",
   "metadata": {},
   "source": [
    "GPT4ALL 임베딩"
   ]
  },
  {
   "cell_type": "code",
   "execution_count": 23,
   "metadata": {},
   "outputs": [
    {
     "name": "stdout",
     "output_type": "stream",
     "text": [
      "Requirement already satisfied: gpt4all in /opt/anaconda3/envs/LangChain/lib/python3.11/site-packages (2.8.2)\n",
      "Requirement already satisfied: requests in /opt/anaconda3/envs/LangChain/lib/python3.11/site-packages (from gpt4all) (2.32.4)\n",
      "Requirement already satisfied: tqdm in /opt/anaconda3/envs/LangChain/lib/python3.11/site-packages (from gpt4all) (4.67.1)\n",
      "Requirement already satisfied: charset_normalizer<4,>=2 in /opt/anaconda3/envs/LangChain/lib/python3.11/site-packages (from requests->gpt4all) (3.4.3)\n",
      "Requirement already satisfied: idna<4,>=2.5 in /opt/anaconda3/envs/LangChain/lib/python3.11/site-packages (from requests->gpt4all) (3.10)\n",
      "Requirement already satisfied: urllib3<3,>=1.21.1 in /opt/anaconda3/envs/LangChain/lib/python3.11/site-packages (from requests->gpt4all) (2.5.0)\n",
      "Requirement already satisfied: certifi>=2017.4.17 in /opt/anaconda3/envs/LangChain/lib/python3.11/site-packages (from requests->gpt4all) (2025.8.3)\n"
     ]
    }
   ],
   "source": [
    "!pip install gpt4all"
   ]
  },
  {
   "cell_type": "code",
   "execution_count": 24,
   "metadata": {},
   "outputs": [
    {
     "name": "stderr",
     "output_type": "stream",
     "text": [
      "Downloading: 100%|████████████████████████████████████████████████████████████████████████████████████████████████████████| 45.9M/45.9M [00:01<00:00, 31.9MiB/s]\n",
      "Verifying: 100%|███████████████████████████████████████████████████████████████████████████████████████████████████████████| 45.9M/45.9M [00:00<00:00, 418MiB/s]\n"
     ]
    }
   ],
   "source": [
    "from langchain_community.embeddings import GPT4AllEmbeddings\n",
    "gpt4all_embd = GPT4AllEmbeddings()  # GPT4All 임베딩 객체를 생성합니다.\n"
   ]
  },
  {
   "cell_type": "code",
   "execution_count": 25,
   "metadata": {},
   "outputs": [],
   "source": [
    "text = (\n",
    "    \"임베딩 테스트를 하기 위한 샘플 문장입니다.\"  # 테스트용 문서 텍스트를 정의합니다.\n",
    ")\n"
   ]
  },
  {
   "cell_type": "code",
   "execution_count": 26,
   "metadata": {},
   "outputs": [],
   "source": [
    "query_result = gpt4all_embd.embed_query(\n",
    "    text\n",
    ")  # 주어진 텍스트에 대한 쿼리 임베딩을 생성합니다.\n"
   ]
  },
  {
   "cell_type": "code",
   "execution_count": 27,
   "metadata": {},
   "outputs": [
    {
     "data": {
      "text/plain": [
       "384"
      ]
     },
     "execution_count": 27,
     "metadata": {},
     "output_type": "execute_result"
    }
   ],
   "source": [
    "# 임베딩된 차원의 크기를 확인합니다.\n",
    "len(query_result)\n"
   ]
  },
  {
   "cell_type": "code",
   "execution_count": 28,
   "metadata": {},
   "outputs": [],
   "source": [
    "# 주어진 텍스트를 임베딩하여 문서 벡터를 생성합니다.\n",
    "doc_result = gpt4all_embd.embed_documents([text])\n"
   ]
  },
  {
   "cell_type": "code",
   "execution_count": 29,
   "metadata": {},
   "outputs": [
    {
     "data": {
      "text/plain": [
       "384"
      ]
     },
     "execution_count": 29,
     "metadata": {},
     "output_type": "execute_result"
    }
   ],
   "source": [
    "# 임베딩된 차원의 크기를 확인합니다.\n",
    "len(doc_result[0])\n"
   ]
  },
  {
   "cell_type": "code",
   "execution_count": 30,
   "metadata": {},
   "outputs": [
    {
     "data": {
      "text/plain": [
       "[[-0.02240915410220623,\n",
       "  0.08125745505094528,\n",
       "  -0.004906138870865107,\n",
       "  -0.02350284904241562,\n",
       "  -0.04501920938491821,\n",
       "  0.004562188871204853,\n",
       "  0.07612650096416473,\n",
       "  0.022667983546853065,\n",
       "  -0.013370760716497898,\n",
       "  -0.062245924025774,\n",
       "  0.12814384698867798,\n",
       "  -0.06499136239290237,\n",
       "  0.05135118216276169,\n",
       "  -0.004248111508786678,\n",
       "  0.0536242313683033,\n",
       "  -0.04904063791036606,\n",
       "  0.009618065319955349,\n",
       "  0.028928328305482864,\n",
       "  0.0068292077630758286,\n",
       "  -0.0037051490508019924,\n",
       "  0.011515248566865921,\n",
       "  0.0016113999299705029,\n",
       "  0.0569118969142437,\n",
       "  0.025430435314774513,\n",
       "  0.004163946490734816,\n",
       "  0.038535941392183304,\n",
       "  -0.00872258935123682,\n",
       "  -0.00452297180891037,\n",
       "  0.11880319565534592,\n",
       "  0.012155584059655666,\n",
       "  0.023309390991926193,\n",
       "  0.04127061739563942,\n",
       "  0.0698016881942749,\n",
       "  0.02579795941710472,\n",
       "  -0.014602349139750004,\n",
       "  -0.018811533227562904,\n",
       "  -0.01576383039355278,\n",
       "  0.034793999046087265,\n",
       "  -0.09904240071773529,\n",
       "  0.051027607172727585,\n",
       "  -0.15671923756599426,\n",
       "  -0.07556100189685822,\n",
       "  0.03258918598294258,\n",
       "  -0.06670545786619186,\n",
       "  0.0416625551879406,\n",
       "  0.024607229977846146,\n",
       "  -0.05687775835394859,\n",
       "  0.04314420744776726,\n",
       "  0.01492187287658453,\n",
       "  0.025273187085986137,\n",
       "  -0.09509359300136566,\n",
       "  -0.018635017797350883,\n",
       "  -0.01317773386836052,\n",
       "  -0.04217379912734032,\n",
       "  0.010707506909966469,\n",
       "  -0.0696406215429306,\n",
       "  0.016757015138864517,\n",
       "  0.05727860704064369,\n",
       "  0.009126492775976658,\n",
       "  -0.04075336828827858,\n",
       "  -0.019974520429968834,\n",
       "  -0.05359888821840286,\n",
       "  -0.03845766559243202,\n",
       "  0.048109110444784164,\n",
       "  0.06174757704138756,\n",
       "  0.05857386812567711,\n",
       "  0.016033632680773735,\n",
       "  0.0809798464179039,\n",
       "  -0.011164345778524876,\n",
       "  0.030940748751163483,\n",
       "  -0.0218582171946764,\n",
       "  -0.05480086803436279,\n",
       "  0.02262621745467186,\n",
       "  -0.0001569161977386102,\n",
       "  -0.056175973266363144,\n",
       "  0.03467470780014992,\n",
       "  0.046013541519641876,\n",
       "  -0.025869039818644524,\n",
       "  -0.010434342548251152,\n",
       "  0.07052236050367355,\n",
       "  0.038974564522504807,\n",
       "  0.015123587101697922,\n",
       "  -0.07448390871286392,\n",
       "  -0.011822596192359924,\n",
       "  0.007945533841848373,\n",
       "  0.001237833290360868,\n",
       "  0.002571673830971122,\n",
       "  -0.015267755836248398,\n",
       "  -0.032407984137535095,\n",
       "  0.09232625365257263,\n",
       "  -0.01677081175148487,\n",
       "  0.0017779949121177197,\n",
       "  -0.10412053763866425,\n",
       "  -0.022617777809500694,\n",
       "  -0.16723209619522095,\n",
       "  0.03398878127336502,\n",
       "  -0.09919220209121704,\n",
       "  0.008074709214270115,\n",
       "  0.049748875200748444,\n",
       "  0.029337041079998016,\n",
       "  -0.027150306850671768,\n",
       "  0.05471549183130264,\n",
       "  0.11462125927209854,\n",
       "  0.049374449998140335,\n",
       "  -0.09340649843215942,\n",
       "  -0.04247577488422394,\n",
       "  0.07708930969238281,\n",
       "  -0.029552871361374855,\n",
       "  0.05411982536315918,\n",
       "  0.013687308877706528,\n",
       "  -0.07681723684072495,\n",
       "  -0.03482751548290253,\n",
       "  -0.054466575384140015,\n",
       "  -0.0505097322165966,\n",
       "  0.03404767066240311,\n",
       "  -0.044607654213905334,\n",
       "  0.0019164399709552526,\n",
       "  -0.06232693791389465,\n",
       "  -0.04958656057715416,\n",
       "  -0.02496217004954815,\n",
       "  0.033658403903245926,\n",
       "  0.007737013511359692,\n",
       "  0.013248146511614323,\n",
       "  -0.015514342114329338,\n",
       "  -0.059250980615615845,\n",
       "  0.00422004284337163,\n",
       "  0.08393546938896179,\n",
       "  4.0228443583092046e-33,\n",
       "  0.010782087221741676,\n",
       "  -0.007426360622048378,\n",
       "  -0.005485733039677143,\n",
       "  0.014716812409460545,\n",
       "  -0.12136271595954895,\n",
       "  0.002318980870768428,\n",
       "  -0.015118774026632309,\n",
       "  0.0018147320952266455,\n",
       "  -0.04657142236828804,\n",
       "  -0.011606791988015175,\n",
       "  -0.01909601129591465,\n",
       "  -0.050773151218891144,\n",
       "  -0.04187624156475067,\n",
       "  -0.0030343623366206884,\n",
       "  0.023037046194076538,\n",
       "  0.01338439341634512,\n",
       "  0.005244903732091188,\n",
       "  0.009522139094769955,\n",
       "  0.04232855141162872,\n",
       "  0.004120304714888334,\n",
       "  0.02919704280793667,\n",
       "  0.05816812813282013,\n",
       "  0.026016049087047577,\n",
       "  -0.035603806376457214,\n",
       "  0.03809461370110512,\n",
       "  -0.041959743946790695,\n",
       "  0.0323614627122879,\n",
       "  0.01807733252644539,\n",
       "  -0.033918432891368866,\n",
       "  0.04694675654172897,\n",
       "  0.06410535424947739,\n",
       "  -0.03946882486343384,\n",
       "  -0.04436563327908516,\n",
       "  -0.03979846090078354,\n",
       "  -0.044182468205690384,\n",
       "  -0.05166179686784744,\n",
       "  0.00019744788005482405,\n",
       "  0.03392709791660309,\n",
       "  0.036403022706508636,\n",
       "  -0.03587837144732475,\n",
       "  -0.003940998576581478,\n",
       "  -0.02573412097990513,\n",
       "  -0.030128568410873413,\n",
       "  0.09240450710058212,\n",
       "  0.010957657359540462,\n",
       "  0.03531942516565323,\n",
       "  0.034722231328487396,\n",
       "  -0.04000828042626381,\n",
       "  -0.023408032953739166,\n",
       "  0.0018481094157323241,\n",
       "  -0.059627216309309006,\n",
       "  -0.035679228603839874,\n",
       "  -0.02293982543051243,\n",
       "  -0.003540424397215247,\n",
       "  0.03474152088165283,\n",
       "  0.03686609864234924,\n",
       "  0.07102202624082565,\n",
       "  -0.033039990812540054,\n",
       "  -0.07293049246072769,\n",
       "  -0.01880941353738308,\n",
       "  -0.026198610663414,\n",
       "  0.02851262502372265,\n",
       "  -0.056510359048843384,\n",
       "  -0.004955760203301907,\n",
       "  -0.02124987170100212,\n",
       "  -0.1191042959690094,\n",
       "  -0.03601305931806564,\n",
       "  -0.0423661507666111,\n",
       "  0.046779945492744446,\n",
       "  -0.09965876489877701,\n",
       "  -0.08611610531806946,\n",
       "  -0.03104313276708126,\n",
       "  -0.01040600799024105,\n",
       "  0.012312536127865314,\n",
       "  -0.06520462781190872,\n",
       "  -0.04861271753907204,\n",
       "  0.003308293642476201,\n",
       "  -0.013617542572319508,\n",
       "  0.024080080911517143,\n",
       "  0.035507556051015854,\n",
       "  -0.09618428349494934,\n",
       "  -0.008185592480003834,\n",
       "  0.03657735511660576,\n",
       "  -0.060756929218769073,\n",
       "  0.13094961643218994,\n",
       "  0.06840161234140396,\n",
       "  -0.02716301567852497,\n",
       "  -0.14714939892292023,\n",
       "  -0.0012612446444109082,\n",
       "  0.052001841366291046,\n",
       "  -0.08416346460580826,\n",
       "  0.02512575127184391,\n",
       "  0.04187830165028572,\n",
       "  0.009628020226955414,\n",
       "  0.06202620267868042,\n",
       "  -4.917711106049764e-33,\n",
       "  0.03473026677966118,\n",
       "  0.042489420622587204,\n",
       "  0.02203381061553955,\n",
       "  0.0415140762925148,\n",
       "  0.0036526804324239492,\n",
       "  0.019080905243754387,\n",
       "  -0.002434835536405444,\n",
       "  0.0656323954463005,\n",
       "  -0.05670727416872978,\n",
       "  -0.0767766460776329,\n",
       "  -0.023779770359396935,\n",
       "  -0.0548396036028862,\n",
       "  0.0632411316037178,\n",
       "  -0.04743793606758118,\n",
       "  -0.01820444129407406,\n",
       "  0.07867413759231567,\n",
       "  0.04001202806830406,\n",
       "  -0.0168148186057806,\n",
       "  -0.01505517028272152,\n",
       "  0.054900575429201126,\n",
       "  -0.03966096416115761,\n",
       "  0.053119461983442307,\n",
       "  0.07614978402853012,\n",
       "  0.025318268686532974,\n",
       "  -0.07376717031002045,\n",
       "  -0.00710601732134819,\n",
       "  0.17993664741516113,\n",
       "  -0.032269708812236786,\n",
       "  -0.017802966758608818,\n",
       "  0.029523571953177452,\n",
       "  0.040336400270462036,\n",
       "  0.0028836606070399284,\n",
       "  -0.012252594344317913,\n",
       "  0.09957211464643478,\n",
       "  0.05995463207364082,\n",
       "  -0.06330262869596481,\n",
       "  0.04700801894068718,\n",
       "  -0.050409771502017975,\n",
       "  -0.06540385633707047,\n",
       "  -0.05776345729827881,\n",
       "  0.012601627968251705,\n",
       "  0.08342288434505463,\n",
       "  0.005038381088525057,\n",
       "  -0.04970472306013107,\n",
       "  0.0652473121881485,\n",
       "  0.032242629677057266,\n",
       "  -0.03565633296966553,\n",
       "  -0.011342071928083897,\n",
       "  0.001797207398340106,\n",
       "  -0.08176162838935852,\n",
       "  0.07735644280910492,\n",
       "  -0.05026669800281525,\n",
       "  -0.028300896286964417,\n",
       "  0.01427632849663496,\n",
       "  0.07550083845853806,\n",
       "  -0.0659923180937767,\n",
       "  0.0906810462474823,\n",
       "  -0.015644535422325134,\n",
       "  -0.008803938515484333,\n",
       "  0.020244982093572617,\n",
       "  0.05477219074964523,\n",
       "  -0.0444427952170372,\n",
       "  0.011109697632491589,\n",
       "  -0.08144672214984894,\n",
       "  0.042862121015787125,\n",
       "  0.020023182034492493,\n",
       "  0.06627949327230453,\n",
       "  0.06714782118797302,\n",
       "  0.03420214354991913,\n",
       "  -0.023100605234503746,\n",
       "  0.03959779068827629,\n",
       "  -0.00863372441381216,\n",
       "  0.00440754322335124,\n",
       "  0.0025651927571743727,\n",
       "  -0.08336526900529861,\n",
       "  -0.045188162475824356,\n",
       "  -0.10441875457763672,\n",
       "  0.06471365690231323,\n",
       "  0.04653992876410484,\n",
       "  -0.011752319522202015,\n",
       "  -0.07599980384111404,\n",
       "  0.09333882480859756,\n",
       "  0.0015606407541781664,\n",
       "  -0.06473656743764877,\n",
       "  0.004973068833351135,\n",
       "  -0.04920465126633644,\n",
       "  -0.04841698333621025,\n",
       "  -0.024117261171340942,\n",
       "  -0.04743942990899086,\n",
       "  -0.0037625504191964865,\n",
       "  -0.04002946987748146,\n",
       "  0.0947277620434761,\n",
       "  0.0005483397399075329,\n",
       "  0.01959264650940895,\n",
       "  0.014710170216858387,\n",
       "  -2.318698832937116e-08,\n",
       "  -0.0238374974578619,\n",
       "  -0.100887730717659,\n",
       "  0.03681394085288048,\n",
       "  -0.06979634612798691,\n",
       "  0.042015355080366135,\n",
       "  -0.06230607256293297,\n",
       "  -0.002459055744111538,\n",
       "  -0.05500559136271477,\n",
       "  -0.001556874718517065,\n",
       "  -0.049303654581308365,\n",
       "  0.08588744699954987,\n",
       "  0.050202302634716034,\n",
       "  -0.034159015864133835,\n",
       "  0.035602010786533356,\n",
       "  0.010145722888410091,\n",
       "  -0.045838985592126846,\n",
       "  -0.010976445861160755,\n",
       "  0.10420118272304535,\n",
       "  -0.02895471453666687,\n",
       "  -0.019488049671053886,\n",
       "  0.1205192357301712,\n",
       "  0.021029338240623474,\n",
       "  -0.021648040041327477,\n",
       "  0.04186133295297623,\n",
       "  -0.0174546018242836,\n",
       "  0.07298250496387482,\n",
       "  -0.04437168687582016,\n",
       "  0.02441142126917839,\n",
       "  0.07500141859054565,\n",
       "  -0.11575888842344284,\n",
       "  0.01602254807949066,\n",
       "  -0.011490931734442711,\n",
       "  0.02564476802945137,\n",
       "  -0.004647832829505205,\n",
       "  -0.03546849265694618,\n",
       "  0.024163678288459778,\n",
       "  0.022361360490322113,\n",
       "  -0.0008703110506758094,\n",
       "  -0.008646178990602493,\n",
       "  0.18076945841312408,\n",
       "  0.05125503987073898,\n",
       "  -0.03694918751716614,\n",
       "  0.05001511424779892,\n",
       "  0.004279098007827997,\n",
       "  -0.037465665489435196,\n",
       "  0.01887536235153675,\n",
       "  0.030809378251433372,\n",
       "  0.01440807618200779,\n",
       "  -0.03933962062001228,\n",
       "  0.03890342637896538,\n",
       "  -0.018462982028722763,\n",
       "  -0.021004170179367065,\n",
       "  -0.0050908541306853294,\n",
       "  0.05675546079874039,\n",
       "  -0.0015152390114963055,\n",
       "  0.03557281568646431,\n",
       "  0.06377130001783371,\n",
       "  -0.037873364984989166,\n",
       "  0.025681667029857635,\n",
       "  0.025752553716301918,\n",
       "  0.06381086260080338,\n",
       "  0.014124346897006035,\n",
       "  -0.10553614050149918,\n",
       "  0.008065207861363888]]"
      ]
     },
     "execution_count": 30,
     "metadata": {},
     "output_type": "execute_result"
    }
   ],
   "source": [
    "doc_result"
   ]
  },
  {
   "cell_type": "code",
   "execution_count": null,
   "metadata": {},
   "outputs": [],
   "source": []
  }
 ],
 "metadata": {
  "colab": {
   "authorship_tag": "ABX9TyM//8UhCpxyR8kxJ6c/BF+V",
   "provenance": []
  },
  "kernelspec": {
   "display_name": "Python 3 (ipykernel)",
   "language": "python",
   "name": "python3"
  },
  "language_info": {
   "codemirror_mode": {
    "name": "ipython",
    "version": 3
   },
   "file_extension": ".py",
   "mimetype": "text/x-python",
   "name": "python",
   "nbconvert_exporter": "python",
   "pygments_lexer": "ipython3",
   "version": "3.11.13"
  }
 },
 "nbformat": 4,
 "nbformat_minor": 0
}
