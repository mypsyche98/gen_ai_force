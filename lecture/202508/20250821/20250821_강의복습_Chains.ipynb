{
 "cells": [
  {
   "cell_type": "code",
   "execution_count": null,
   "metadata": {
    "scrolled": true
   },
   "outputs": [],
   "source": [
    "!pip install PyDrive"
   ]
  },
  {
   "cell_type": "code",
   "execution_count": 1,
   "metadata": {},
   "outputs": [
    {
     "name": "stdout",
     "output_type": "stream",
     "text": [
      "아래 링크를 복사하여 웹 브라우저에 붙여넣으세요.\n",
      "https://accounts.google.com/o/oauth2/auth?client_id=35726703810-4v13dfqmilhgv6shlc3cv9i3ktuh73j1.apps.googleusercontent.com&redirect_uri=http%3A%2F%2Flocalhost&scope=https%3A%2F%2Fwww.googleapis.com%2Fauth%2Fdrive&access_type=offline&response_type=code\n",
      "Authentication successful.\n"
     ]
    }
   ],
   "source": [
    "import os\n",
    "import mykeys\n",
    "\n",
    "project_name = 'CH14_Chains'\n",
    "\n",
    "os.environ[\"LANGCHAIN_TRACING_V2\"] = \"true\"\n",
    "os.environ[\"LANGCHAIN_ENDPOINT\"] = \"https://api.smith.langchain.com\"\n",
    "os.environ[\"LANGCHAIN_PROJECT\"] = project_name\n",
    "os.environ[\"LANGCHAIN_API_KEY\"] = mykeys.get_key('LANG')\n",
    "os.environ[\"LANGCHAIN_HUB_API_KEY\"] = mykeys.get_key('LANG')\n",
    "os.environ[\"OPENAI_API_KEY\"] = mykeys.get_key('GPT')\n",
    "os.environ[\"GOOGLE_API_KEY\"] = mykeys.get_key('GOO')\n",
    "os.environ[\"HUGGINGFACEHUB_API_TOKEN\"] = mykeys.get_key('HF')\n",
    "os.environ[\"UPSTAGE_API_KEY\"] = mykeys.get_key('UP')\n",
    "os.environ[\"COHERE_API_KEY\"] = mykeys.get_key('COH')\n",
    "os.environ[\"JINA_API_KEY\"] = mykeys.get_key('JINA')\n",
    "os.environ[\"ANTHROPIC_API_KEY\"] = mykeys.get_key('ANT')"
   ]
  },
  {
   "cell_type": "code",
   "execution_count": 2,
   "metadata": {},
   "outputs": [
    {
     "name": "stdout",
     "output_type": "stream",
     "text": [
      "LangSmith 추적을 시작합니다.\n",
      "[프로젝트명]\n",
      "CH14_Chains\n"
     ]
    }
   ],
   "source": [
    "from langchain_teddynote import logging\n",
    "\n",
    "# 프로젝트 이름을 입력합니다.\n",
    "logging.langsmith(project_name)"
   ]
  },
  {
   "cell_type": "code",
   "execution_count": null,
   "metadata": {},
   "outputs": [],
   "source": [
    "from langchain_teddynote import logging\n",
    "\n",
    "# set_enable=False 로 지정하면 추적을 하지 않습니다.\n",
    "logging.langsmith(project_name, set_enable=False)"
   ]
  },
  {
   "cell_type": "markdown",
   "metadata": {},
   "source": [
    "CH14 체인(Chains)"
   ]
  },
  {
   "cell_type": "markdown",
   "metadata": {},
   "source": [
    "01. 문서 요약"
   ]
  },
  {
   "cell_type": "code",
   "execution_count": 3,
   "metadata": {},
   "outputs": [
    {
     "name": "stdout",
     "output_type": "stream",
     "text": [
      "총 글자수: 1708\n",
      "\n",
      "========= 앞부분 미리보기 =========\n",
      "\n",
      "제목: \n",
      "AI2, 상업 활용까지 자유로운 '진짜' 오픈 소스 LLM '올모' 출시\n",
      "\n",
      "내용:\n",
      "앨런AI연구소(AI2)가 완전한 오픈 소스 대형언어모델(LLM) '올모(OLMo)’를 출시했다. 데이터 수집, 학습, 배포의 전 과정을 투명하게 공개한 데다 상업적 사용까지 허용한 진정한 의미의 오픈 소스 LLM이라는 평가다.\n",
      "벤처비트는 1일(현지시간) 비영리 민간 AI 연구기관인 AI2가 ‘최초의 진정한 오픈 소스 LLM 및 프레임워크’라고 소개한 ‘올모’를 출시했다고 보도했다. \n",
      "이에 따르면 올모는 모델 코드와 모델 가중치뿐만 아니라 훈련 코드, 훈련 데이터, 관련 툴킷 및 평가 툴킷도 제공한다. 이를 통해 모델이 어떻게 구축되었는지 심층적으로 분석, LLM의 작동 방식과 응답을 생성하는 원리를 더 잘 이해할 수 있다. \n",
      "올모 프레임워크는 70억 매개변수의 ‘올모 7B’ 등 4가지 변형 모델과 10억 매개변수의 ‘올모 1B’ 모델을 제공한다. 모델들은 훈련 데이터를 생성하는 코드를 포함해 \n"
     ]
    }
   ],
   "source": [
    "from langchain_community.document_loaders import TextLoader\n",
    "\n",
    "# 뉴스데이터 로드\n",
    "loader = TextLoader(\"./news.txt\")\n",
    "docs = loader.load()\n",
    "print(f\"총 글자수: {len(docs[0].page_content)}\")\n",
    "print(\"\\n========= 앞부분 미리보기 =========\\n\")\n",
    "print(docs[0].page_content[:500])\n"
   ]
  },
  {
   "cell_type": "code",
   "execution_count": 4,
   "metadata": {},
   "outputs": [
    {
     "name": "stdout",
     "output_type": "stream",
     "text": [
      "Please summarize the sentence according to the following REQUEST.\n",
      "REQUEST:\n",
      "1. Summarize the main points in bullet points in KOREAN.\n",
      "2. Each summarized sentence must start with an emoji that fits the meaning of the each sentence.\n",
      "3. Use various emojis to make the summary more interesting.\n",
      "4. Translate the summary into KOREAN if it is written in ENGLISH.\n",
      "5. DO NOT translate any technical terms.\n",
      "6. DO NOT include any unnecessary information.\n",
      "\n",
      "CONTEXT:\n",
      "\u001b[33;1m\u001b[1;3m{context}\u001b[0m\n",
      "\n",
      "SUMMARY:\"\n",
      "\n"
     ]
    }
   ],
   "source": [
    "from langchain import hub\n",
    "\n",
    "prompt = hub.pull(\"teddynote/summary-stuff-documents-korean\")\n",
    "prompt.pretty_print()\n"
   ]
  },
  {
   "cell_type": "code",
   "execution_count": 5,
   "metadata": {},
   "outputs": [
    {
     "name": "stdout",
     "output_type": "stream",
     "text": [
      "- 🆓 AI2가 완전한 오픈 소스 LLM '올모(OLMo)'를 출시함.\n",
      "- 🔍 데이터 수집, 학습, 배포 전 과정을 투명하게 공개함.\n",
      "- 💼 아파치 2.0 라이선스로 상업적 활용에 제한이 없음.\n",
      "- 🛠️ 모델 코드, 모델 가중치, 훈련 코드, 훈련 데이터, 관련 툴킷 및 평가 툴킷을 모두 제공함.\n",
      "- 📊 70억 매개변수의 '올모 7B' 등 다양한 변형 모델과 10억 매개변수의 '올모 1B' 모델을 포함함.\n",
      "- 📚 AI2의 '돌마(Dolma)' 데이터 세트를 기반으로 구축됨.\n",
      "- 📝 추론 코드, 훈련 지표, 훈련 로그, 전체 모델 가중치, 평가 제품군 등도 포함됨.\n",
      "- 🏆 일부 자연어 처리 벤치마크에서 메타의 '라마', TII의 '팰컨'보다 뛰어난 성능을 보임.\n",
      "- ⚠️ 비영어권 언어 품질과 코드 생성 기능이 약하다는 제약이 있음.\n",
      "- 🔄 AI2는 다양한 모델 크기와 데이터 세트로 올모를 계속 발전시킬 계획임.\n",
      "- 🧑‍🔬 올모 출시는 AI 모델에 대한 깊은 이해를 위한 기반을 마련함.\n",
      "- 🌐 모든 리소스는 깃허브와 허깅페이스에서 무료로 제공됨."
     ]
    }
   ],
   "source": [
    "from langchain_openai import ChatOpenAI\n",
    "from langchain.chains.combine_documents import create_stuff_documents_chain\n",
    "from langchain_teddynote.callbacks import StreamingCallback\n",
    "\n",
    "\n",
    "llm = ChatOpenAI(\n",
    "    model_name=\"gpt-4.1\",\n",
    "    streaming=True,\n",
    "    temperature=0,\n",
    "    callbacks=[StreamingCallback()],\n",
    ")\n",
    "\n",
    "\n",
    "stuff_chain = create_stuff_documents_chain(llm, prompt)\n",
    "answer = stuff_chain.invoke({\"context\": docs})\n"
   ]
  },
  {
   "cell_type": "code",
   "execution_count": 6,
   "metadata": {},
   "outputs": [
    {
     "name": "stdout",
     "output_type": "stream",
     "text": [
      "총 페이지수: 5\n"
     ]
    }
   ],
   "source": [
    "from langchain_community.document_loaders import PyPDFLoader\n",
    "\n",
    "loader = PyPDFLoader(\"data/SPRI_AI_Brief_2023년12월호_F.pdf\")\n",
    "docs = loader.load()\n",
    "docs = docs[3:8]  # 여기서 문서의 일부만 요약\n",
    "print(f\"총 페이지수: {len(docs)}\")\n"
   ]
  },
  {
   "cell_type": "code",
   "execution_count": 7,
   "metadata": {},
   "outputs": [
    {
     "name": "stdout",
     "output_type": "stream",
     "text": [
      "================================\u001b[1m System Message \u001b[0m================================\n",
      "\n",
      "You are a professional main thesis extractor.\n",
      "\n",
      "================================\u001b[1m Human Message \u001b[0m=================================\n",
      "\n",
      "Your task is to extract main thesis from given documents. Answer should be in same language as given document. \n",
      "\n",
      "#Format: \n",
      "- thesis 1\n",
      "- thesis 2\n",
      "- thesis 3\n",
      "- ...\n",
      "\n",
      "Here is a given document: \n",
      "\u001b[33;1m\u001b[1;3m{doc}\u001b[0m\n",
      "\n",
      "Write 1~5 sentences.\n",
      "#Answer:\n"
     ]
    }
   ],
   "source": [
    "from langchain import hub\n",
    "from langchain_openai import ChatOpenAI\n",
    "from langchain_core.output_parsers import StrOutputParser\n",
    "\n",
    "llm = ChatOpenAI(\n",
    "    temperature=0,\n",
    "    model_name=\"gpt-4.1\",\n",
    ")\n",
    "\n",
    "# map prompt 다운로드\n",
    "map_prompt = hub.pull(\"teddynote/map-prompt\")\n",
    "\n",
    "# 프롬프트 출력\n",
    "map_prompt.pretty_print()\n"
   ]
  },
  {
   "cell_type": "code",
   "execution_count": 8,
   "metadata": {},
   "outputs": [],
   "source": [
    "# map chain 생성\n",
    "map_chain = map_prompt | llm | StrOutputParser()\n"
   ]
  },
  {
   "cell_type": "code",
   "execution_count": 9,
   "metadata": {},
   "outputs": [],
   "source": [
    "# 문서에 대한 주요내용 추출\n",
    "doc_summaries = map_chain.batch(docs)\n"
   ]
  },
  {
   "cell_type": "code",
   "execution_count": 10,
   "metadata": {},
   "outputs": [
    {
     "data": {
      "text/plain": [
       "5"
      ]
     },
     "execution_count": 10,
     "metadata": {},
     "output_type": "execute_result"
    }
   ],
   "source": [
    "# 요약된 문서의 수 출력\n",
    "len(doc_summaries)\n"
   ]
  },
  {
   "cell_type": "code",
   "execution_count": 11,
   "metadata": {},
   "outputs": [
    {
     "name": "stdout",
     "output_type": "stream",
     "text": [
      "- 미국 바이든 대통령은 안전하고 신뢰할 수 있는 AI 개발과 사용을 보장하기 위한 행정명령을 발표하였다.\n",
      "- 해당 행정명령은 AI의 안전·보안 기준 마련, 개인정보보호, 형평성과 시민권 향상, 소비자 보호, 노동자 지원, 혁신과 경쟁 촉진, 국제협력 등 광범위한 내용을 포함한다.\n",
      "- 강력한 AI 시스템 개발 기업에 대한 안전성 테스트 결과 공유, AI 생성 콘텐츠 표시 기준 마련 등 안전성과 신뢰성 확보를 위한 구체적 조치가 제시되었다.\n",
      "- AI의 무책임한 사용으로 인한 차별과 편견 방지, 소비자 보호, 근로자 지원, AI 연구 인프라 확충 및 인재 유치 등 사회 전반에 걸친 AI 활용의 책임성과 혁신을 동시에 추구한다.\n"
     ]
    }
   ],
   "source": [
    "# 일부 문서의 요약 출력\n",
    "print(doc_summaries[0])\n"
   ]
  },
  {
   "cell_type": "code",
   "execution_count": 12,
   "metadata": {},
   "outputs": [
    {
     "name": "stdout",
     "output_type": "stream",
     "text": [
      "================================\u001b[1m System Message \u001b[0m================================\n",
      "\n",
      "You are a professional summarizer. You are given a list of summaries of documents and you are asked to create a single summary of the documents.\n",
      "\n",
      "================================\u001b[1m Human Message \u001b[0m=================================\n",
      "\n",
      "#Instructions: \n",
      "1. Extract main points from a list of summaries of documents\n",
      "2. Make final summaries in bullet points format.\n",
      "3. Answer should be written in \u001b[33;1m\u001b[1;3m{language}\u001b[0m.\n",
      "\n",
      "#Format: \n",
      "- summary 1\n",
      "- summary 2\n",
      "- summary 3\n",
      "- ...\n",
      "\n",
      "Here is a list of summaries of documents: \n",
      "\u001b[33;1m\u001b[1;3m{doc_summaries}\u001b[0m\n",
      "\n",
      "#SUMMARY:\n"
     ]
    }
   ],
   "source": [
    "# reduce prompt 다운로드\n",
    "reduce_prompt = hub.pull(\"teddynote/reduce-prompt\")\n",
    "\n",
    "# 프롬프트 출력\n",
    "reduce_prompt.pretty_print()\n"
   ]
  },
  {
   "cell_type": "code",
   "execution_count": 13,
   "metadata": {},
   "outputs": [],
   "source": [
    "# reduce chain 생성\n",
    "reduce_chain = reduce_prompt | llm | StrOutputParser()\n"
   ]
  },
  {
   "cell_type": "code",
   "execution_count": 14,
   "metadata": {},
   "outputs": [
    {
     "name": "stdout",
     "output_type": "stream",
     "text": [
      "- 미국 바이든 대통령은 AI의 안전성, 신뢰성, 개인정보보호, 형평성, 소비자 및 노동자 보호, 혁신 촉진, 국제협력 등을 포괄하는 행정명령을 발표하고, AI 개발 기업의 안전성 테스트와 책임성 강화를 강조하였다.\n",
      "- G7 주요국은 첨단 AI 시스템 개발 기업을 대상으로 위험 평가, 투명성, 책임성, 정보공유, 보안, 콘텐츠 인증 등을 포함한 국제 행동강령에 합의하고, 사회적 위험 완화와 기술 표준 개발, 개인정보 및 지식재산권 보호를 강조하였다.\n",
      "- 28개국은 영국 AI 안전성 정상회의에서 '블레츨리 선언'을 통해 AI 위험 공동 대응과 이해관계자 협력의 필요성을 확인하고, 각국의 투명성 강화, 안전 테스트, 연구 우선순위 설정, 국제 협력 확대에 합의하였다.\n",
      "- 미국 법원은 AI 이미지 생성 기업에 대한 예술가들의 저작권 침해 소송에서 저작권 미등록 및 증거 불충분을 이유로 대부분 기각했으나, 일부 저작권 등록 작품에 대한 소송은 계속 진행 중이다.\n",
      "- 미국 연방거래위원회(FTC)는 생성 AI가 개인정보 침해, 차별, 사기 등 다양한 위험을 초래할 수 있고, 빅테크의 시장 지배력 강화 우려가 있다며, 소비자 보호와 공정 경쟁 유지를 위해 법적 권한을 적극 행사하고 있다."
     ]
    }
   ],
   "source": [
    "from langchain_teddynote.messages import stream_response\n",
    "\n",
    "answer = reduce_chain.stream({\"doc_summaries\": doc_summaries, \"language\": \"Korean\"})\n",
    "stream_response(answer)\n"
   ]
  },
  {
   "cell_type": "code",
   "execution_count": 15,
   "metadata": {},
   "outputs": [],
   "source": [
    "from langchain_core.runnables import chain\n",
    "\n",
    "\n",
    "@chain\n",
    "def map_reduce_chain(docs):\n",
    "    map_llm = ChatOpenAI(\n",
    "        temperature=0,\n",
    "        model_name=\"gpt-4.1\",\n",
    "    )\n",
    "\n",
    "    # map prompt 다운로드\n",
    "    map_prompt = hub.pull(\"teddynote/map-prompt\")\n",
    "\n",
    "    # map chain 생성\n",
    "    map_chain = map_prompt | map_llm | StrOutputParser()\n",
    "\n",
    "    # 첫 번째 프롬프트, ChatOpenAI, 문자열 출력 파서를 연결하여 체인을 생성합니다.\n",
    "    doc_summaries = map_chain.batch(docs)\n",
    "\n",
    "    # reduce prompt 다운로드\n",
    "    reduce_prompt = hub.pull(\"teddynote/reduce-prompt\")\n",
    "    reduce_llm = ChatOpenAI(\n",
    "        model_name=\"gpt-4.1\",\n",
    "        temperature=0,\n",
    "        callbacks=[StreamingCallback()],\n",
    "        streaming=True,\n",
    "    )\n",
    "\n",
    "    reduce_chain = reduce_prompt | reduce_llm | StrOutputParser()\n",
    "\n",
    "    return reduce_chain.invoke({\"doc_summaries\": doc_summaries, \"language\": \"Korean\"})\n"
   ]
  },
  {
   "cell_type": "code",
   "execution_count": 16,
   "metadata": {},
   "outputs": [
    {
     "name": "stdout",
     "output_type": "stream",
     "text": [
      "- 미국 바이든 대통령은 AI의 안전성, 신뢰성, 개인정보 보호, 형평성, 소비자 및 노동자 보호, 혁신 촉진, 국제협력 등을 위한 포괄적 행정명령을 발표하고, AI 개발 기업에 대한 안전성 테스트와 정보공유 의무 등 구체적 조치를 제시하였다.\n",
      "- G7 주요국은 첨단 AI 시스템 개발 기업을 대상으로 위험 평가, 투명성, 책임성, 정보공유, 보안, 콘텐츠 인증 등을 포함한 국제 행동강령에 합의하고, 사회적 위험 완화와 개인정보·지식재산권 보호, 기술 표준 개발을 추진하기로 하였다.\n",
      "- 영국 AI 안전성 정상회의에서 28개국이 ‘블레츨리 선언’을 통해 AI 위험 공동 대응과 협력의 필요성을 강조하고, 각국 및 기업이 AI 안전 평가, 테스트 도구 개발, 연구소 설립 등 안전성 강화를 위한 협력에 합의하였다.\n",
      "- 미국 법원은 AI 이미지 생성 기업에 대한 예술가들의 저작권 침해 소송 중 저작권 미등록 및 증거 불충분 사유로 대부분을 기각했으나, 일부 저작권 등록 작품에 대한 소송은 계속 진행 중이다.\n",
      "- 미국 연방거래위원회(FTC)는 생성 AI가 개인정보 침해, 차별, 사기 등 소비자와 창작자에게 피해를 줄 수 있고, 빅테크의 시장 지배력 강화 우려가 있다며, AI 관련 불법 행위에 대한 적극적 법적 대응과 소비자 보호, 공정 경쟁 유지를 강조하였다."
     ]
    }
   ],
   "source": [
    "# 결과 출력\n",
    "answer = map_reduce_chain.invoke(docs)\n"
   ]
  },
  {
   "cell_type": "code",
   "execution_count": 17,
   "metadata": {},
   "outputs": [
    {
     "name": "stdout",
     "output_type": "stream",
     "text": [
      "================================\u001b[1m System Message \u001b[0m================================\n",
      "\n",
      "You are an expert summarizer. Your task is to summarize the following document in \u001b[33;1m\u001b[1;3m{language}\u001b[0m.\n",
      "\n",
      "================================\u001b[1m Human Message \u001b[0m=================================\n",
      "\n",
      "Extract most important main thesis from the documents, then summarize in bullet points.\n",
      "\n",
      "#Format:\n",
      "- summary 1\n",
      "- summary 2\n",
      "- summary 3\n",
      "-...\n",
      "\n",
      "Here is a given document: \n",
      "\u001b[33;1m\u001b[1;3m{documents}\u001b[0m\n",
      "\n",
      "Write 1~5 sentences. Think step by step.\n",
      "#Summary:\n"
     ]
    }
   ],
   "source": [
    "from langchain import hub\n",
    "from langchain_openai import ChatOpenAI\n",
    "from langchain_core.output_parsers import StrOutputParser\n",
    "\n",
    "# map llm 생성\n",
    "map_llm = ChatOpenAI(\n",
    "    temperature=0,\n",
    "    model_name=\"gpt-4.1\",\n",
    ")\n",
    "\n",
    "# map chain 생성\n",
    "map_summary = hub.pull(\"teddynote/map-summary-prompt\")\n",
    "\n",
    "# 프롬프트 출력\n",
    "map_summary.pretty_print()\n"
   ]
  },
  {
   "cell_type": "code",
   "execution_count": 18,
   "metadata": {},
   "outputs": [],
   "source": [
    "# map chain 생성\n",
    "map_chain = map_summary | llm | StrOutputParser()\n"
   ]
  },
  {
   "cell_type": "code",
   "execution_count": 19,
   "metadata": {},
   "outputs": [
    {
     "name": "stdout",
     "output_type": "stream",
     "text": [
      "- 미국 바이든 대통령은 안전하고 신뢰할 수 있는 AI 개발과 사용을 보장하기 위한 행정명령을 발표했다.\n",
      "- 행정명령은 AI의 안전·보안 기준 마련, 개인정보보호, 형평성과 시민권 향상, 소비자 보호, 노동자 지원, 혁신과 경쟁 촉진, 국제협력 등을 주요 내용으로 포함한다.\n",
      "- 강력한 AI 시스템 개발 기업에 안전성 테스트 결과 및 주요 정보 공유를 요구하고, AI 생성 콘텐츠 표시 기준 등 표준과 모범사례를 확립한다.\n",
      "- AI의 무책임한 사용으로 인한 차별 방지, 의료·교육 분야의 책임 있는 AI 활용, 근로자 보호, 중소기업 및 연구자 지원 등 다양한 정책이 포함된다.\n",
      "- AI 분야의 국제 경쟁력 강화와 인재 유치를 위해 연구 인프라 확충 및 비자 제도 개선도 추진된다.\n"
     ]
    }
   ],
   "source": [
    "# 첫 번째 문서의 요약 출력\n",
    "print(map_chain.invoke({\"documents\": docs[0], \"language\": \"Korean\"}))\n"
   ]
  },
  {
   "cell_type": "code",
   "execution_count": 20,
   "metadata": {},
   "outputs": [],
   "source": [
    "# 모든 문서를 입력으로 정의합니다.\n",
    "input_doc = [{\"documents\": doc, \"language\": \"Korean\"} for doc in docs]\n"
   ]
  },
  {
   "cell_type": "code",
   "execution_count": 21,
   "metadata": {},
   "outputs": [
    {
     "name": "stdout",
     "output_type": "stream",
     "text": [
      "['- 미국 바이든 대통령은 안전하고 신뢰할 수 있는 AI 개발과 사용을 보장하기 위한 행정명령을 발표했다.\\n- 행정명령은 AI의 안전·보안 기준 마련, 개인정보 보호, 형평성과 시민권 향상, 소비자 보호, 노동자 지원, 혁신과 경쟁 촉진, 국제협력 등을 주요 내용으로 포함한다.\\n- 강력한 AI 시스템 개발 기업에 안전성 테스트 결과 및 주요 정보 공유를 요구하고, AI 생성 콘텐츠 표시 기준 등 표준과 모범사례를 확립한다.\\n- AI로 인한 차별 방지, 책임 있는 AI 활용, 근로자 보호, AI 연구 인프라 확충 및 인재 유치 등 다양한 정책적 지원이 추진된다.\\n- 이를 통해 미국은 AI의 책임 있는 활용과 글로벌 경쟁력 강화를 동시에 도모하고자 한다.', '- G7 주요 7개국은 첨단 AI 시스템 개발 기업을 대상으로 위험 식별과 완화를 위한 국제 행동강령에 합의하였다.\\n- 이 행동강령은 AI 수명주기 전반에 걸친 위험 평가, 투명성 및 책임성 보장, 정보공유와 협력, 보안 통제, 콘텐츠 인증 및 출처 확인 등을 요구한다.\\n- 행동강령은 기업의 자발적 채택을 권고하며, 기술 발전에 따라 이해관계자 협의를 통해 지속적으로 개정될 예정이다.\\n- AI 시스템의 안전성, 사회적 위험 완화, 개인정보 및 지식재산권 보호, 국제 기술 표준 개발 등이 강조된다.', '- 28개국이 영국에서 열린 AI 안전성 정상회의에서 AI 위험에 공동 대응하기 위한 ‘블레츨리 선언’을 발표했다.\\n- 선언문은 국가, 기업, 국제기구, 시민사회, 학계 등 모든 이해관계자의 협력과 첨단 AI 개발 기업의 안전 책임을 강조했다.\\n- 각국은 AI 시스템의 안전 테스트, 투명성 강화, 공공부문 역량 구축, 과학 연구개발 등에서 협력하기로 합의했다.\\n- 영국은 정부 주도의 AI 안전 연구소를 설립해 첨단 AI 모델의 안전성 시험을 주도할 계획이다.\\n- 한국은 영국과 6개월 뒤 온라인 미니 정상회의, 프랑스와는 1년 후 대면 정상회의를 개최하기로 했다.', '- 미국 캘리포니아 북부지방법원은 예술가들이 미드저니, 스태빌리티 AI, 디비언트아트를 상대로 제기한 저작권 침해 소송을 기각했다.\\n- 주요 기각 사유는 예술가들의 상당수 작품이 저작권청에 등록되지 않았고, AI로 생성된 이미지와 특정 작품 간의 실질적 유사성을 입증하기 어렵다는 점이었다.\\n- 법원은 AI가 다양한 작품을 참조해 이미지를 생성하므로, 저작권 침해를 인정받으려면 구체적이고 명확한 증거가 필요하다고 판단했다.\\n- 단, 사라 앤더슨이 저작권을 보유한 16개 작품에 대한 스태빌리티 AI의 저작권 침해 소송은 계속 진행된다.\\n- 원고 측은 저작권이 침해된 특정 이미지를 중심으로 소송 범위를 축소해 다시 소송을 제기할 수 있다.', '- 미국 연방거래위원회(FTC)는 생성 AI가 소비자와 창작자에게 피해를 줄 수 있고, 빅테크 기업의 시장 지배력이 강화될 수 있다는 우려를 저작권청에 공식적으로 제기했다.\\n- FTC는 생성 AI로 인한 개인정보 침해, 차별 자동화, 사기 등 다양한 위험성과 저작권 침해로 인한 창작자 피해 가능성을 강조했다.\\n- 일부 빅테크가 독점적 데이터 라이선스 확보와 AI 사용자 이탈 방지로 시장 지배력을 강화할 수 있다는 점을 지적했다.\\n- FTC는 AI 관련 불법 행위에 대해 법적 권한을 적극적으로 활용하고 있으며, 모든 권한을 동원해 소비자 보호와 공정 경쟁 시장 유지를 약속했다.']\n"
     ]
    }
   ],
   "source": [
    "# 모든 문서에 대한 요약본을 출력합니다.\n",
    "print(map_chain.batch(input_doc))\n"
   ]
  },
  {
   "cell_type": "code",
   "execution_count": 22,
   "metadata": {},
   "outputs": [
    {
     "name": "stdout",
     "output_type": "stream",
     "text": [
      "================================\u001b[1m System Message \u001b[0m================================\n",
      "\n",
      "You are an expert summarizer.\n",
      "\n",
      "================================\u001b[1m Human Message \u001b[0m=================================\n",
      "\n",
      "Your job is to produce a final summary\n",
      "\n",
      "We have provided an existing summary up to a certain point:\n",
      "\u001b[33;1m\u001b[1;3m{previous_summary}\u001b[0m\n",
      "\n",
      "We have the opportunity to refine the existing summary(only if needed) with some more context below.\n",
      "------------\n",
      "\u001b[33;1m\u001b[1;3m{current_summary}\u001b[0m\n",
      "------------\n",
      "Given the new context, refine the original summary in \u001b[33;1m\u001b[1;3m{language}\u001b[0m.\n",
      "If the context isn't useful, return the original summary.\n"
     ]
    }
   ],
   "source": [
    "# refine prompt 다운로드\n",
    "refine_prompt = hub.pull(\"teddynote/refine-prompt\")\n",
    "\n",
    "# 프롬프트 출력\n",
    "refine_prompt.pretty_print()\n"
   ]
  },
  {
   "cell_type": "code",
   "execution_count": 23,
   "metadata": {},
   "outputs": [],
   "source": [
    "# refine llm 생성\n",
    "refine_llm = ChatOpenAI(\n",
    "    temperature=0,\n",
    "    model_name=\"gpt-4.1\",\n",
    ")\n",
    "\n",
    "# refine chain 생성\n",
    "refine_chain = refine_prompt | refine_llm | StrOutputParser()\n"
   ]
  },
  {
   "cell_type": "code",
   "execution_count": 24,
   "metadata": {},
   "outputs": [],
   "source": [
    "from langchain_core.runnables import chain\n",
    "\n",
    "\n",
    "@chain\n",
    "def map_refine_chain(docs):\n",
    "\n",
    "    # map chain 생성\n",
    "    map_summary = hub.pull(\"teddynote/map-summary-prompt\")\n",
    "\n",
    "    map_chain = (\n",
    "        map_summary\n",
    "        | ChatOpenAI(\n",
    "            model_name=\"gpt-4.1\",\n",
    "            temperature=0,\n",
    "        )\n",
    "        | StrOutputParser()\n",
    "    )\n",
    "\n",
    "    input_doc = [{\"documents\": doc.page_content, \"language\": \"Korean\"} for doc in docs]\n",
    "\n",
    "    # 첫 번째 프롬프트, ChatOpenAI, 문자열 출력 파서를 연결하여 체인을 생성합니다.\n",
    "    doc_summaries = map_chain.batch(input_doc)\n",
    "\n",
    "    refine_prompt = hub.pull(\"teddynote/refine-prompt\")\n",
    "\n",
    "    refine_llm = ChatOpenAI(\n",
    "        model_name=\"gpt-4.1\",\n",
    "        temperature=0,\n",
    "        callbacks=[StreamingCallback()],\n",
    "        streaming=True,\n",
    "    )\n",
    "\n",
    "    refine_chain = refine_prompt | refine_llm | StrOutputParser()\n",
    "\n",
    "    previous_summary = doc_summaries[0]\n",
    "\n",
    "    for current_summary in doc_summaries[1:]:\n",
    "\n",
    "        previous_summary = refine_chain.invoke(\n",
    "            {\n",
    "                \"previous_summary\": previous_summary,\n",
    "                \"current_summary\": current_summary,\n",
    "                \"language\": \"Korean\",\n",
    "            }\n",
    "        )\n",
    "        print(\"\\n\\n-----------------\\n\\n\")\n",
    "\n",
    "    return previous_summary\n"
   ]
  },
  {
   "cell_type": "code",
   "execution_count": 25,
   "metadata": {},
   "outputs": [
    {
     "name": "stdout",
     "output_type": "stream",
     "text": [
      "미국 바이든 대통령은 안전하고 신뢰할 수 있는 AI 개발과 사용을 위한 행정명령에 서명하여, AI의 안전·보안 기준 마련, 개인정보보호, 형평성 및 시민권 향상, 소비자 보호, 노동자 지원, 혁신과 경쟁 촉진, 국제협력 등을 포괄적으로 규정했다. 강력한 AI 시스템 개발 기업에 안전성 테스트 결과와 주요 정보 공유를 요구하고, AI 안전성·신뢰성 표준 및 생성 콘텐츠 표시 기준을 마련한다. AI의 무책임한 사용으로 인한 차별과 편견 방지, 소비자 보호, 근로자 지원, 의료·교육 분야의 책임 있는 AI 활용, 노동자 피해 완화 등 사회적 책임을 강조한다. 국가 AI 연구 인프라 확충과 중소기업·개발자 지원, AI 분야 외국인 인재 유치 등 혁신과 경쟁력 강화를 위한 정책도 포함된다.\n",
      "\n",
      "아울러, G7 주요 7개국은 첨단 AI 시스템 개발 기업을 대상으로 위험 식별과 완화를 위한 국제 행동강령에 합의했다. 이 행동강령은 AI 수명주기 전반의 위험 평가, 투명성·책임성 강화, 정보공유 및 협력, 보안 통제, 콘텐츠 인증 등 다양한 조치를 포함하며, 기업의 자발적 채택을 권고하고 기술 발전에 따라 지속적으로 개정될 예정이다. AI의 사회적 위험과 안전 문제 완화, 국제 표준 개발, 개인정보 및 지식재산권 보호 등도 주요 내용으로 다뤄졌다.\n",
      "\n",
      "-----------------\n",
      "\n",
      "\n",
      "미국 바이든 대통령은 안전하고 신뢰할 수 있는 AI 개발과 사용을 위한 행정명령에 서명하여, AI의 안전·보안 기준 마련, 개인정보보호, 형평성 및 시민권 향상, 소비자 보호, 노동자 지원, 혁신과 경쟁 촉진, 국제협력 등을 포괄적으로 규정했다. 강력한 AI 시스템 개발 기업에 안전성 테스트 결과와 주요 정보 공유를 요구하고, AI 안전성·신뢰성 표준 및 생성 콘텐츠 표시 기준을 마련한다. AI의 무책임한 사용으로 인한 차별과 편견 방지, 소비자 보호, 근로자 지원, 의료·교육 분야의 책임 있는 AI 활용, 노동자 피해 완화 등 사회적 책임을 강조한다. 국가 AI 연구 인프라 확충과 중소기업·개발자 지원, AI 분야 외국인 인재 유치 등 혁신과 경쟁력 강화를 위한 정책도 포함된다.\n",
      "\n",
      "아울러, G7 주요 7개국은 첨단 AI 시스템 개발 기업을 대상으로 위험 식별과 완화를 위한 국제 행동강령에 합의했다. 이 행동강령은 AI 수명주기 전반의 위험 평가, 투명성·책임성 강화, 정보공유 및 협력, 보안 통제, 콘텐츠 인증 등 다양한 조치를 포함하며, 기업의 자발적 채택을 권고하고 기술 발전에 따라 지속적으로 개정될 예정이다. AI의 사회적 위험과 안전 문제 완화, 국제 표준 개발, 개인정보 및 지식재산권 보호 등도 주요 내용으로 다뤄졌다.\n",
      "\n",
      "더불어, 28개국은 영국 AI 안전성 정상회의에서 ‘블레츨리 선언’을 발표하고, AI 위험에 공동 대응하기 위해 국가, 국제기구, 기업, 시민사회, 학계의 협력 필요성을 강조했다. 첨단 AI 개발 기업의 안전 평가와 투명성 강화, 안전 테스트 도구 개발, 공공부문 역량 강화 등 다양한 분야에서 협력하기로 합의했으며, 영국은 AI 안전 연구소를 설립해 첨단 AI 모델의 안전성 시험을 주도하고, 정부 주도의 외부 안전 테스트와 결과 공유, 공동 표준 개발에 각국이 동의했다. 또한 참가국들은 AI 위험과 가능성에 대한 과학적 평가 및 향후 연구 우선순위 제시를 위한 ‘과학의 현황’ 보고서 작성에도 합의했으며, 한국은 영국 및 프랑스와 향후 AI 정상회의를 개최하기로 했다.\n",
      "\n",
      "-----------------\n",
      "\n",
      "\n",
      "미국 바이든 대통령은 안전하고 신뢰할 수 있는 AI 개발과 사용을 위한 행정명령에 서명하여, AI의 안전·보안 기준 마련, 개인정보보호, 형평성 및 시민권 향상, 소비자 보호, 노동자 지원, 혁신과 경쟁 촉진, 국제협력 등을 포괄적으로 규정했다. 강력한 AI 시스템 개발 기업에 안전성 테스트 결과와 주요 정보 공유를 요구하고, AI 안전성·신뢰성 표준 및 생성 콘텐츠 표시 기준을 마련한다. AI의 무책임한 사용으로 인한 차별과 편견 방지, 소비자 보호, 근로자 지원, 의료·교육 분야의 책임 있는 AI 활용, 노동자 피해 완화 등 사회적 책임을 강조한다. 국가 AI 연구 인프라 확충과 중소기업·개발자 지원, AI 분야 외국인 인재 유치 등 혁신과 경쟁력 강화를 위한 정책도 포함된다.\n",
      "\n",
      "아울러, G7 주요 7개국은 첨단 AI 시스템 개발 기업을 대상으로 위험 식별과 완화를 위한 국제 행동강령에 합의했다. 이 행동강령은 AI 수명주기 전반의 위험 평가, 투명성·책임성 강화, 정보공유 및 협력, 보안 통제, 콘텐츠 인증 등 다양한 조치를 포함하며, 기업의 자발적 채택을 권고하고 기술 발전에 따라 지속적으로 개정될 예정이다. AI의 사회적 위험과 안전 문제 완화, 국제 표준 개발, 개인정보 및 지식재산권 보호 등도 주요 내용으로 다뤄졌다.\n",
      "\n",
      "더불어, 28개국은 영국 AI 안전성 정상회의에서 ‘블레츨리 선언’을 발표하고, AI 위험에 공동 대응하기 위해 국가, 국제기구, 기업, 시민사회, 학계의 협력 필요성을 강조했다. 첨단 AI 개발 기업의 안전 평가와 투명성 강화, 안전 테스트 도구 개발, 공공부문 역량 강화 등 다양한 분야에서 협력하기로 합의했으며, 영국은 AI 안전 연구소를 설립해 첨단 AI 모델의 안전성 시험을 주도하고, 정부 주도의 외부 안전 테스트와 결과 공유, 공동 표준 개발에 각국이 동의했다. 또한 참가국들은 AI 위험과 가능성에 대한 과학적 평가 및 향후 연구 우선순위 제시를 위한 ‘과학의 현황’ 보고서 작성에도 합의했으며, 한국은 영국 및 프랑스와 향후 AI 정상회의를 개최하기로 했다.\n",
      "\n",
      "한편, 미국 캘리포니아 북부지방법원은 예술가들이 미드저니, 스태빌리티 AI, 디비언트아트를 상대로 제기한 AI 저작권 침해 소송에서, 저작권 미등록과 증거 불충분을 이유로 대부분의 청구를 기각했다. 법원은 AI로 생성된 이미지와 특정 저작물 간 실질적 유사성 입증이 어렵고, 저작권이 등록되지 않은 작품에 대해서는 소송이 성립되지 않는다고 판단했다. 다만, 사라 앤더슨이 저작권을 보유한 16개 작품의 무단 복제 혐의에 대해서는 소송이 계속 진행되며, 원고 측은 저작권이 침해된 특정 이미지를 중심으로 소송 범위를 축소해 다시 제기할 수 있음을 안내받았다.\n",
      "\n",
      "-----------------\n",
      "\n",
      "\n",
      "미국 바이든 대통령은 안전하고 신뢰할 수 있는 AI 개발과 사용을 위한 행정명령에 서명하여, AI의 안전·보안 기준 마련, 개인정보보호, 형평성 및 시민권 향상, 소비자 보호, 노동자 지원, 혁신과 경쟁 촉진, 국제협력 등을 포괄적으로 규정했다. 강력한 AI 시스템 개발 기업에 안전성 테스트 결과와 주요 정보 공유를 요구하고, AI 안전성·신뢰성 표준 및 생성 콘텐츠 표시 기준을 마련한다. AI의 무책임한 사용으로 인한 차별과 편견 방지, 소비자 보호, 근로자 지원, 의료·교육 분야의 책임 있는 AI 활용, 노동자 피해 완화 등 사회적 책임을 강조한다. 국가 AI 연구 인프라 확충과 중소기업·개발자 지원, AI 분야 외국인 인재 유치 등 혁신과 경쟁력 강화를 위한 정책도 포함된다.\n",
      "\n",
      "아울러, G7 주요 7개국은 첨단 AI 시스템 개발 기업을 대상으로 위험 식별과 완화를 위한 국제 행동강령에 합의했다. 이 행동강령은 AI 수명주기 전반의 위험 평가, 투명성·책임성 강화, 정보공유 및 협력, 보안 통제, 콘텐츠 인증 등 다양한 조치를 포함하며, 기업의 자발적 채택을 권고하고 기술 발전에 따라 지속적으로 개정될 예정이다. AI의 사회적 위험과 안전 문제 완화, 국제 표준 개발, 개인정보 및 지식재산권 보호 등도 주요 내용으로 다뤄졌다.\n",
      "\n",
      "더불어, 28개국은 영국 AI 안전성 정상회의에서 ‘블레츨리 선언’을 발표하고, AI 위험에 공동 대응하기 위해 국가, 국제기구, 기업, 시민사회, 학계의 협력 필요성을 강조했다. 첨단 AI 개발 기업의 안전 평가와 투명성 강화, 안전 테스트 도구 개발, 공공부문 역량 강화 등 다양한 분야에서 협력하기로 합의했으며, 영국은 AI 안전 연구소를 설립해 첨단 AI 모델의 안전성 시험을 주도하고, 정부 주도의 외부 안전 테스트와 결과 공유, 공동 표준 개발에 각국이 동의했다. 또한 참가국들은 AI 위험과 가능성에 대한 과학적 평가 및 향후 연구 우선순위 제시를 위한 ‘과학의 현황’ 보고서 작성에도 합의했으며, 한국은 영국 및 프랑스와 향후 AI 정상회의를 개최하기로 했다.\n",
      "\n",
      "한편, 미국 캘리포니아 북부지방법원은 예술가들이 미드저니, 스태빌리티 AI, 디비언트아트를 상대로 제기한 AI 저작권 침해 소송에서, 저작권 미등록과 증거 불충분을 이유로 대부분의 청구를 기각했다. 법원은 AI로 생성된 이미지와 특정 저작물 간 실질적 유사성 입증이 어렵고, 저작권이 등록되지 않은 작품에 대해서는 소송이 성립되지 않는다고 판단했다. 다만, 사라 앤더슨이 저작권을 보유한 16개 작품의 무단 복제 혐의에 대해서는 소송이 계속 진행되며, 원고 측은 저작권이 침해된 특정 이미지를 중심으로 소송 범위를 축소해 다시 제기할 수 있음을 안내받았다.\n",
      "\n",
      "또한, 미국 연방거래위원회(FTC)는 생성 AI가 소비자와 창작자에게 피해를 줄 수 있고, 일부 빅테크 기업이 독점적 데이터 라이선스 확보 등으로 시장 지배력을 강화할 수 있다는 우려를 저작권청에 공식적으로 제기했다. FTC는 생성 AI로 인한 개인정보 침해, 차별 자동화, 사기 등 소비자 보호와 공정 경쟁에 대한 위험성을 강조하며, AI가 창작자의 권익을 침해하고 소비자가 AI가 만든 작품을 오인할 수 있는 문제도 지적했다. FTC는 AI 관련 예외 조항이 없음을 분명히 하며, 모든 법적 권한을 동원해 소비자 보호와 공정 경쟁을 유지하겠다는 방침을 밝혔다.\n",
      "\n",
      "-----------------\n",
      "\n",
      "\n"
     ]
    }
   ],
   "source": [
    "refined_summary = map_refine_chain.invoke(docs)\n"
   ]
  },
  {
   "cell_type": "code",
   "execution_count": 27,
   "metadata": {},
   "outputs": [],
   "source": [
    "import textwrap\n",
    "from langchain import hub\n",
    "from langchain_openai import ChatOpenAI\n",
    "from langchain_core.output_parsers import SimpleJsonOutputParser\n",
    "\n",
    "# {content}를 제외한 모든 입력에 대한 기본값 지정\n",
    "cod_chain_inputs = {\n",
    "    \"content\": lambda d: d.get(\"content\"),\n",
    "    \"content_category\": lambda d: d.get(\"content_category\", \"Article\"),\n",
    "    \"entity_range\": lambda d: d.get(\"entity_range\", \"1-3\"),\n",
    "    \"max_words\": lambda d: int(d.get(\"max_words\", 80)),\n",
    "    \"iterations\": lambda d: int(d.get(\"iterations\", 5)),\n",
    "}\n",
    "\n",
    "# Chain of Density 프롬프트 다운로드\n",
    "cod_prompt = hub.pull(\"teddynote/chain-of-density-prompt\")\n",
    "\n",
    "# Chain of Density 체인 생성\n",
    "cod_chain = (\n",
    "    cod_chain_inputs\n",
    "    | cod_prompt\n",
    "    | ChatOpenAI(temperature=0, model=\"gpt-4.1\")\n",
    "    | SimpleJsonOutputParser()\n",
    ")\n",
    "\n",
    "# 두 번째 체인 생성, 최종 요약만 추출 (스트리밍 불가능, 최종 결과가 필요함)\n",
    "cod_final_summary_chain = cod_chain | (\n",
    "    lambda output: output[-1].get(\n",
    "        \"denser_summary\", '오류: 마지막 딕셔너리에 \"denser_summary\" 키가 없습니다'\n",
    "    )\n",
    ")\n"
   ]
  },
  {
   "cell_type": "code",
   "execution_count": 28,
   "metadata": {},
   "outputs": [
    {
     "name": "stdout",
     "output_type": "stream",
     "text": [
      "SPRi AI Brief |  \n",
      "2023-12 월호\n",
      "2G7, 히로시마 AI 프로세스를 통해 AI 기업 대상 국제 행동강령에 합의\n",
      "nG7이 첨단 AI 시스템을 개발하는 기업을 대상으로 AI 위험 식별과 완화를 위해 자발적인 \n",
      "채택을 권고하는 AI 국제 행동강령을 마련\n",
      "n행동강령은 AI 수명주기 전반에 걸친 위험 평가와 완화, 투명성과 책임성의 보장, 정보공유와 \n",
      "이해관계자 간 협력, 보안 통제, 콘텐츠 인증과 출처 확인 등의 조치를 요구KEY Contents\n",
      "£G7, 첨단 AI 시스템의 위험 관리를 위한 국제 행동강령 마련\n",
      "n주요 7개국(G7)* 은 2023 년 10월 30일 ‘히로시마 AI 프로세스 ’를 통해 AI 기업 대상의 AI 국제 \n",
      "행동강령 (International Code of Conduct for Advanced AI Systems) 에 합의\n",
      "∙G7은 2023 년 5월 일본 히로시마에서 개최된 정상회의에서 생성 AI에 관한 국제규범 마련과 \n",
      "정보공유를 위해 ‘히로시마 AI 프로세스 ’를 출범**\n",
      "∙기업의 자발적 채택을 위해 마련된 이번 행동강령은 기반모델과 생성 AI를 포함한 첨단 AI 시스템의 \n",
      "위험 식별과 완화에 필요한 조치를 포함\n",
      "* 주요 7개국(G7)은 미국, 일본, 독일, 영국, 프랑스 , 이탈리아 , 캐나다를 의미\n",
      "** 5월 정상회의에는 한국, 호주, 베트남 등을 포함한 8개국이 초청을 받았으나 , AI 국제 행동강령에는 우선 G7 국가만 포함하여 채택\n",
      "nG7은 행동강령을 통해 아래의 조치를 제시했으며 , 빠르게 발전하는 기술에 대응할 수 있도록 \n",
      "이해관계자 협의를 통해 필요에 따라 개정할 예정\n",
      "∙첨단 AI 시스템의 개발 과정에서 AI 수명주기 전반에 걸쳐 위험을 평가 및 완화하는 조치를 채택하고 , \n",
      "첨단 AI 시스템의 출시와 배포 이후 취약점과 오용 사고, 오용 유형을 파악해 완화\n",
      "∙첨단 AI 시스템의 성능과 한계를 공개하고 적절하거나 부적절한 사용영역을 알리는 방법으로 투명성을 \n",
      "보장하고 책임성을 강화\n",
      "∙산업계 , 정부, 시민사회 , 학계를 포함해 첨단 AI 시스템을 개발하는 조직 간 정보공유와 사고 발생 시 \n",
      "신고를 위해 협력하고 , 위험 기반 접근방식을 토대로 개인정보보호 정책과 위험 완화 조치를 포함하는 \n",
      "AI 거버넌스와 위험 관리 정책을 마련\n",
      "∙AI 수명주기 전반에 걸쳐 물리보안 , 사이버보안 , 내부자 위협 보안을 포함한 강력한 보안 통제 구현\n",
      "∙사용자가 AI 생성 콘텐츠를 식별할 수 있도록 워터마크를 비롯하여 기술적으로 가능한 기법으로 \n",
      "신뢰할 수 있는 콘텐츠 인증과 출처 확인 메커니즘을 개발 및 구축 \n",
      "∙사회적 위험과 안전·보안 문제를 완화하는 연구와 효과적인 완화 대책에 우선 투자하고 , 기후 위기 \n",
      "대응, 세계 보건과 교육 등 세계적 난제 해결을 위한 첨단 AI 시스템을 우선 개발\n",
      "∙국제 기술 표준의 개발 및 채택을 가속화하고 , 개인정보와 지식재산권 보호를 위해 데이터 입력과 수집 \n",
      "시 적절한 보호 장치 구현\n",
      "☞ 출처: G7, Hiroshima Process International Code of Conduct for Advanced AI Systems, 2023.10.30.\n"
     ]
    }
   ],
   "source": [
    "content = docs[1].page_content\n",
    "print(content)\n"
   ]
  },
  {
   "cell_type": "code",
   "execution_count": 29,
   "metadata": {},
   "outputs": [
    {
     "name": "stdout",
     "output_type": "stream",
     "text": [
      "[{'missing_entities': '히로시마 AI 프로세스;AI 국제 행동강령', 'denser_summary': 'This summary covers the recent developments involving the 히로시마 AI 프로세스 and the AI 국제 행동강령, which are significant topics discussed in the article. The article provides an overview of these initiatives, their background, and their implications for AI companies and international cooperation, highlighting the importance of these entities in the context of AI governance and risk management at the global level.'}, {'missing_entities': '주요 7개국(G7)', 'denser_summary': 'The 히로시마 AI 프로세스 led to the AI 국제 행동강령, agreed upon by 주요 7개국(G7), focusing on AI governance and risk management. The article details how these G7 nations are spearheading international cooperation, outlining the significance of these entities and their roles in shaping responsible AI development and oversight at a global scale.'}, {'missing_entities': '생성 AI;위험 평가와 완화', 'denser_summary': 'The 히로시마 AI 프로세스 resulted in the AI 국제 행동강령, adopted by 주요 7개국(G7), targeting 생성 AI and emphasizing 위험 평가와 완화. This code aims to guide responsible AI governance, risk management, and international collaboration, ensuring that advanced AI systems are developed and deployed with transparency, accountability, and effective safeguards.'}, {'missing_entities': '투명성;책임성;정보공유', 'denser_summary': 'The 히로시마 AI 프로세스 produced the AI 국제 행동강령, adopted by 주요 7개국(G7), focusing on 생성 AI, 위험 평가와 완화, 투명성, 책임성, and 정보공유. This code guides responsible AI governance, risk management, and international collaboration, ensuring advanced AI systems are developed and deployed with robust safeguards, openness, and shared accountability among stakeholders.'}, {'missing_entities': '보안 통제;콘텐츠 인증;출처 확인', 'denser_summary': 'The 히로시마 AI 프로세스 led to the AI 국제 행동강령, adopted by 주요 7개국(G7), covering 생성 AI, 위험 평가와 완화, 투명성, 책임성, 정보공유, 보안 통제, 콘텐츠 인증, and 출처 확인. This code ensures responsible AI governance, risk management, transparency, robust security, and reliable content verification for advanced AI systems.'}, {'missing_entities': '사회적 위험 완화;기후 위기 대응;국제 기술 표준', 'denser_summary': 'The 히로시마 AI 프로세스 produced the AI 국제 행동강령, adopted by 주요 7개국(G7), addressing 생성 AI, 위험 평가와 완화, 투명성, 책임성, 정보공유, 보안 통제, 콘텐츠 인증, 출처 확인, 사회적 위험 완화, 기후 위기 대응, and 국제 기술 표준, ensuring responsible, secure, and globally standardized advanced AI development and deployment.'}]\n",
      "\n",
      "### CoD Summary 1/6, 추가된 엔티티(entity): 히로시마 AI 프로세스, AI 국제 행동강령\n",
      "\n",
      "This summary covers the recent developments involving the 히로시마 AI 프로세스 and the\n",
      "AI 국제 행동강령, which are significant topics discussed in the article. The article\n",
      "provides an overview of these initiatives, their background, and their\n",
      "implications for AI companies and international cooperation, highlighting the\n",
      "importance of these entities in the context of AI governance and risk management\n",
      "at the global level.\n",
      "\n",
      "### CoD Summary 2/6, 추가된 엔티티(entity): 주요 7개국(G7)\n",
      "\n",
      "The 히로시마 AI 프로세스 led to the AI 국제 행동강령, agreed upon by 주요 7개국(G7), focusing on\n",
      "AI governance and risk management. The article details how these G7 nations are\n",
      "spearheading international cooperation, outlining the significance of these\n",
      "entities and their roles in shaping responsible AI development and oversight at\n",
      "a global scale.\n",
      "\n",
      "### CoD Summary 3/6, 추가된 엔티티(entity): 생성 AI, 위험 평가와 완화\n",
      "\n",
      "The 히로시마 AI 프로세스 resulted in the AI 국제 행동강령, adopted by 주요 7개국(G7), targeting 생성\n",
      "AI and emphasizing 위험 평가와 완화. This code aims to guide responsible AI governance,\n",
      "risk management, and international collaboration, ensuring that advanced AI\n",
      "systems are developed and deployed with transparency, accountability, and\n",
      "effective safeguards.\n",
      "\n",
      "### CoD Summary 4/6, 추가된 엔티티(entity): 투명성, 책임성, 정보공유\n",
      "\n",
      "The 히로시마 AI 프로세스 produced the AI 국제 행동강령, adopted by 주요 7개국(G7), focusing on 생성\n",
      "AI, 위험 평가와 완화, 투명성, 책임성, and 정보공유. This code guides responsible AI governance,\n",
      "risk management, and international collaboration, ensuring advanced AI systems\n",
      "are developed and deployed with robust safeguards, openness, and shared\n",
      "accountability among stakeholders.\n",
      "\n",
      "### CoD Summary 5/6, 추가된 엔티티(entity): 보안 통제, 콘텐츠 인증, 출처 확인\n",
      "\n",
      "The 히로시마 AI 프로세스 led to the AI 국제 행동강령, adopted by 주요 7개국(G7), covering 생성 AI,\n",
      "위험 평가와 완화, 투명성, 책임성, 정보공유, 보안 통제, 콘텐츠 인증, and 출처 확인. This code ensures\n",
      "responsible AI governance, risk management, transparency, robust security, and\n",
      "reliable content verification for advanced AI systems.\n",
      "\n",
      "### CoD Summary 6/6, 추가된 엔티티(entity): 사회적 위험 완화, 기후 위기 대응, 국제 기술 표준\n",
      "\n",
      "The 히로시마 AI 프로세스 produced the AI 국제 행동강령, adopted by 주요 7개국(G7), addressing 생성\n",
      "AI, 위험 평가와 완화, 투명성, 책임성, 정보공유, 보안 통제, 콘텐츠 인증, 출처 확인, 사회적 위험 완화, 기후 위기 대응, and 국제\n",
      "기술 표준, ensuring responsible, secure, and globally standardized advanced AI\n",
      "development and deployment.\n",
      "\n",
      "\n",
      "============== [최종 요약] =================\n",
      "\n",
      "The 히로시마 AI 프로세스 produced the AI 국제 행동강령, adopted by 주요 7개국(G7), addressing 생성 AI, 위험 평가와 완화, 투명성, 책임성, 정보공유, 보안 통제, 콘텐츠 인증, 출처 확인, 사회적 위험 완화, 기후 위기 대응, and 국제 기술 표준, ensuring responsible, secure, and globally standardized advanced AI development and deployment.\n"
     ]
    }
   ],
   "source": [
    "# 결과를 저장할 빈 리스트 초기화\n",
    "results: list[dict[str, str]] = []\n",
    "\n",
    "# cod_chain을 스트리밍 모드로 실행하고 부분적인 JSON 결과를 처리\n",
    "for partial_json in cod_chain.stream(\n",
    "    {\"content\": content, \"content_category\": \"Article\"}\n",
    "):\n",
    "    # 각 반복마다 results를 업데이트\n",
    "    results = partial_json\n",
    "\n",
    "    # 현재 결과를 같은 줄에 출력 (캐리지 리턴을 사용하여 이전 출력을 덮어씀)\n",
    "    print(results, end=\"\\r\", flush=True)\n",
    "\n",
    "# 총 요약 수 계산\n",
    "total_summaries = len(results)\n",
    "print(\"\\n\")\n",
    "\n",
    "# 각 요약을 순회하며 처리\n",
    "i = 1\n",
    "for cod in results:\n",
    "    # 누락된 엔티티들을 추출하고 포맷팅\n",
    "    added_entities = \", \".join(\n",
    "        [\n",
    "            ent.strip()\n",
    "            for ent in cod.get(\n",
    "                \"missing_entities\", 'ERR: \"missing_entiies\" key not found'\n",
    "            ).split(\";\")\n",
    "        ]\n",
    "    )\n",
    "    # 더 밀도 있는 요약 추출\n",
    "    summary = cod.get(\"denser_summary\", 'ERR: missing key \"denser_summary\"')\n",
    "\n",
    "    # 요약 정보 출력 (번호, 총 개수, 추가된 엔티티)\n",
    "    print(\n",
    "        f\"### CoD Summary {i}/{total_summaries}, 추가된 엔티티(entity): {added_entities}\"\n",
    "        + \"\\n\"\n",
    "    )\n",
    "    # 요약 내용을 80자 너비로 줄바꿈하여 출력\n",
    "    print(textwrap.fill(summary, width=80) + \"\\n\")\n",
    "    i += 1\n",
    "\n",
    "print(\"\\n============== [최종 요약] =================\\n\")\n",
    "print(summary)\n"
   ]
  },
  {
   "cell_type": "code",
   "execution_count": 30,
   "metadata": {},
   "outputs": [
    {
     "name": "stdout",
     "output_type": "stream",
     "text": [
      "The 히로시마 AI 프로세스 produced the AI 국제 행동강령, adopted by 주요 7개국(G7), addressing 생성 AI, 위험 평가와 완화, 투명성, 책임성, 정보공유, 보안 통제, 콘텐츠 인증, 출처 확인, 사회적 위험 완화, 기후 위기 대응, and 국제 기술 표준, ensuring responsible, secure, and globally standardized advanced AI development and deployment.\n"
     ]
    }
   ],
   "source": [
    "print(summary)\n"
   ]
  },
  {
   "cell_type": "code",
   "execution_count": 31,
   "metadata": {},
   "outputs": [
    {
     "data": {
      "text/plain": [
       "23"
      ]
     },
     "execution_count": 31,
     "metadata": {},
     "output_type": "execute_result"
    }
   ],
   "source": [
    "from langchain_community.document_loaders import PyMuPDFLoader\n",
    "\n",
    "loader = PyMuPDFLoader(\"data/SPRI_AI_Brief_2023년12월호_F.pdf\")\n",
    "docs = loader.load()\n",
    "len(docs)\n"
   ]
  },
  {
   "cell_type": "code",
   "execution_count": 32,
   "metadata": {},
   "outputs": [
    {
     "data": {
      "text/plain": [
       "27977"
      ]
     },
     "execution_count": 32,
     "metadata": {},
     "output_type": "execute_result"
    }
   ],
   "source": [
    "# 하나의 Text 로 모든 문서를 연결합니다.\n",
    "texts = \"\\n\\n\".join([doc.page_content for doc in docs])\n",
    "len(texts)\n"
   ]
  },
  {
   "cell_type": "code",
   "execution_count": 33,
   "metadata": {},
   "outputs": [],
   "source": [
    "from langchain_text_splitters import RecursiveCharacterTextSplitter\n",
    "\n",
    "text_splitter = RecursiveCharacterTextSplitter(chunk_size=500, chunk_overlap=100)\n",
    "split_docs = text_splitter.split_text(texts)\n"
   ]
  },
  {
   "cell_type": "code",
   "execution_count": 34,
   "metadata": {},
   "outputs": [
    {
     "data": {
      "text/plain": [
       "79"
      ]
     },
     "execution_count": 34,
     "metadata": {},
     "output_type": "execute_result"
    }
   ],
   "source": [
    "# 총 문서의 수 확인\n",
    "len(split_docs)\n"
   ]
  },
  {
   "cell_type": "code",
   "execution_count": 35,
   "metadata": {},
   "outputs": [],
   "source": [
    "from langchain_upstage import UpstageEmbeddings\n",
    "\n",
    "embeddings = UpstageEmbeddings(model=\"solar-embedding-1-large-passage\")\n",
    "\n",
    "vectors = embeddings.embed_documents(split_docs)\n"
   ]
  },
  {
   "cell_type": "code",
   "execution_count": 36,
   "metadata": {},
   "outputs": [],
   "source": [
    "from sklearn.cluster import KMeans\n",
    "\n",
    "# 클러스터 수를 선택하면 문서의 콘텐츠에 따라 조정할 수 있습니다.\n",
    "num_clusters = 10\n",
    "\n",
    "# Perform K-means clustering\n",
    "kmeans = KMeans(n_clusters=num_clusters, random_state=123).fit(vectors)\n"
   ]
  },
  {
   "cell_type": "code",
   "execution_count": 37,
   "metadata": {},
   "outputs": [
    {
     "data": {
      "text/plain": [
       "array([5, 3, 7, 6, 4, 4, 4, 5, 3, 8, 8, 8, 1, 1, 8, 1, 1, 1, 1, 1, 3, 3,\n",
       "       3, 3, 3, 3, 3, 3, 7, 7, 7, 7, 8, 8, 8, 8, 2, 2, 2, 2, 9, 9, 9, 3,\n",
       "       9, 9, 9, 6, 6, 6, 6, 5, 5, 5, 5, 0, 0, 0, 0, 4, 4, 4, 8, 8, 8, 8,\n",
       "       4, 8, 4, 9, 4, 4, 9, 6, 2, 5, 4, 4, 4], dtype=int32)"
      ]
     },
     "execution_count": 37,
     "metadata": {},
     "output_type": "execute_result"
    }
   ],
   "source": [
    "# 결과 확인\n",
    "kmeans.labels_\n"
   ]
  },
  {
   "cell_type": "code",
   "execution_count": 38,
   "metadata": {},
   "outputs": [
    {
     "data": {
      "image/png": "[encoded data removed]",
      "text/plain": [
       "<Figure size 1000x800 with 1 Axes>"
      ]
     },
     "metadata": {},
     "output_type": "display_data"
    }
   ],
   "source": [
    "from sklearn.manifold import TSNE\n",
    "import matplotlib.pyplot as plt\n",
    "import seaborn as sns\n",
    "import numpy as np\n",
    "\n",
    "# 경고 제거\n",
    "import warnings\n",
    "\n",
    "warnings.filterwarnings(\"ignore\")\n",
    "\n",
    "# t-SNE 수행 및 2차원으로 축소\n",
    "tsne = TSNE(n_components=2, random_state=42)\n",
    "reduced_data_tsne = tsne.fit_transform(np.array(vectors))\n",
    "\n",
    "# seaborn 스타일 설정\n",
    "sns.set_style(\"white\")\n",
    "\n",
    "# 축소된 데이터 플롯\n",
    "plt.figure(figsize=(10, 8))\n",
    "sns.scatterplot(\n",
    "    x=reduced_data_tsne[:, 0],\n",
    "    y=reduced_data_tsne[:, 1],\n",
    "    hue=kmeans.labels_,\n",
    "    palette=\"deep\",\n",
    "    s=100,\n",
    ")\n",
    "plt.xlabel(\"Dimension 1\", fontsize=12)\n",
    "plt.ylabel(\"Dimension 2\", fontsize=12)\n",
    "plt.title(\"Clustered Embeddings\", fontsize=16)\n",
    "plt.legend(title=\"Cluster\", title_fontsize=12)\n",
    "\n",
    "# 배경색 설정\n",
    "plt.gcf().patch.set_facecolor(\"white\")\n",
    "\n",
    "plt.tight_layout()\n",
    "plt.show()\n"
   ]
  },
  {
   "cell_type": "code",
   "execution_count": 39,
   "metadata": {},
   "outputs": [],
   "source": [
    "import numpy as np\n",
    "\n",
    "# 가장 가까운 점들을 저장할 빈 리스트 생성\n",
    "closest_indices = []\n",
    "\n",
    "# 클러스터 수만큼 반복\n",
    "for i in range(num_clusters):\n",
    "\n",
    "    # 해당 클러스터 중심으로부터의 거리 목록 구하기\n",
    "    distances = np.linalg.norm(vectors - kmeans.cluster_centers_[i], axis=1)\n",
    "\n",
    "    # 가장 가까운 점의 인덱스 찾기 (argmin을 사용하여 최소 거리 찾기)\n",
    "    closest_index = np.argmin(distances)\n",
    "\n",
    "    # 해당 인덱스를 가장 가까운 인덱스 리스트에 추가\n",
    "    closest_indices.append(closest_index)\n"
   ]
  },
  {
   "cell_type": "code",
   "execution_count": 40,
   "metadata": {},
   "outputs": [
    {
     "data": {
      "text/plain": [
       "[np.int64(4),\n",
       " np.int64(16),\n",
       " np.int64(24),\n",
       " np.int64(28),\n",
       " np.int64(34),\n",
       " np.int64(37),\n",
       " np.int64(41),\n",
       " np.int64(47),\n",
       " np.int64(51),\n",
       " np.int64(55)]"
      ]
     },
     "execution_count": 40,
     "metadata": {},
     "output_type": "execute_result"
    }
   ],
   "source": [
    "# 문서의 요약을 순서대로 진행하기 위하여 오름차순 정렬\n",
    "selected_indices = sorted(closest_indices)\n",
    "selected_indices\n"
   ]
  },
  {
   "cell_type": "code",
   "execution_count": 41,
   "metadata": {},
   "outputs": [
    {
     "data": {
      "text/plain": [
       "[Document(metadata={}, page_content='▹ 빌 게이츠, AI 에이전트로 인한 컴퓨터 사용의 패러다임 변화 전망································ 13\\n   ▹ 유튜브, 2024년부터 AI 생성 콘텐츠 표시 의무화···························································· 14\\n 3. 기술/연구\\n   ▹ 영국 과학혁신기술부, AI 안전 연구소 설립 발표······························································ 15\\n   ▹ 구글 딥마인드, 범용 AI 모델의 기능과 동작에 대한 분류 체계 발표······························ 16\\n   ▹ 갈릴레오의 LLM 환각 지수 평가에서 GPT-4가 가장 우수 ··········································· 17\\n   \\n 4. 인력/교육'),\n",
       " Document(metadata={}, page_content='1. 정책/법제  \\n2. 기업/산업 \\n3. 기술/연구 \\n 4. 인력/교육\\n영국 AI 안전성 정상회의에 참가한 28개국, AI 위험에 공동 대응 선언\\nn 영국 블레츨리 파크에서 개최된 AI 안전성 정상회의에 참가한 28개국들이 AI 안전 보장을 \\n위한 협력 방안을 담은 블레츨리 선언을 발표\\nn 첨단 AI를 개발하는 국가와 기업들은 AI 시스템에 대한 안전 테스트 계획에 합의했으며, \\n영국의 AI 안전 연구소가 전 세계 국가와 협력해 테스트를 주도할 예정 \\nKEY Contents\\n£ AI 안전성 정상회의 참가국들, 블레츨리 선언 통해 AI 안전 보장을 위한 협력에 합의\\nn 2023년 11월 1~2일 영국 블레츨리 파크에서 열린 AI 안전성 정상회의(AI Safety Summit)에 \\n참가한 28개국 대표들이 AI 위험 관리를 위한 ‘블레츨리 선언’을 발표 \\n∙선언은 AI 안전 보장을 위해 국가, 국제기구, 기업, 시민사회, 학계를 포함한 모든 이해관계자의 협력이'),\n",
       " Document(metadata={}, page_content='1. 정책/법제  \\n2. 기업/산업 \\n3. 기술/연구 \\n 4. 인력/교육\\n미국 연방거래위원회, 저작권청에 소비자 보호와 경쟁 측면의 AI 의견서 제출\\nn 미국 FTC는 저작권청이 실시한 저작권과 AI 관련 질의공고에 대하여 소비자 보호와 경쟁 \\n측면의 의견을 제시\\nn FTC는 생성 AI로 인한 창작자와 소비자 피해의 가능성에 우려를 표시하는 한편, 일부 \\n빅테크가 막대한 재원을 활용해 시장 지배력을 더욱 강화할 수 있다는 우려를 제기\\nKEY Contents\\n£ FTC, 생성 AI로 인한 소비자와 창작자의 피해 및 빅테크의 시장 지배력 강화 우려\\nn 미국 연방거래위원회(FTC)가 2023년 10월 30일 저작권청(U.S. Copyright Office, USCO)이 \\n지난 9월 발표한 저작권과 AI 관련 질의공고(Notice of Inquiry, NOI)에 대한 의견서를 발표\\n∙저작권청은 생성 AI와 관련된 저작권법과 정책 이슈를 조사하고 있으며, 폭넓은 의견 수렴을 통해'),\n",
       " Document(metadata={}, page_content='SPRi AI Brief |  \\n2023-12월호\\n6\\nEU AI 법 3자 협상, 기반모델 규제 관련 견해차로 난항\\nn 유럽의회, EU 집행위원회, EU 이사회가 진행 중인 AI 법 최종협상에서 프랑스, 이탈리아, \\n독일이 기반모델에 대한 규제에 반대하며 협상이 난관에 봉착\\nn 프랑스, 이탈리아, 독일 3개국은 기반모델 개발기업에 대하여 자율적 행동강령을 도입하고 \\n준수를 의무화하는 방안을 제안\\nKEY Contents\\n£ AI 법 3자 협상, 이사회 일부 국가가 기반모델 규제에 반대하며 차질\\nn 유럽의회, EU 집행위원회, EU 이사회가 ‘AI 법(AI act)’에 대한 최종협상을 진행 중인 가운데, \\n일부 국가가 기반모델에 대한 규제에 반대하며 협상이 난관에 봉착  \\n∙10월 24일 열린 3자 협상 회의에서는 사회에 더 큰 영향을 미치는 강력한 AI 모델에 더 엄격한 규칙을 \\n적용하는 계층적 접근방식에 따라 기반 모델 규제에 대한 기본적인 합의에 도달'),\n",
       " Document(metadata={}, page_content='촉진하기로 약속했으며, 약속을 이행하기 위해 기금을 활용해 외부 연구집단의 AI 시스템 평가에 \\n자금을 지원할 계획\\n£ AI 안전 기금으로 AI 레드팀을 위한 모델 평가 기법 개발을 중점 지원할 계획\\nn 프런티어 모델 포럼은 AI 안전 기금을 통해 AI 레드팀 활동을 위한 새로운 모델 평가 기법의 개발을 \\n중점 지원할 예정\\n∙포럼에 따르면 AI 레드팀에 대한 자금 지원은 AI 모델의 안전과 보안 기준의 개선과 함께 AI 시스템 \\n위험 대응 방안에 관한 산업계와 정부, 시민사회의 통찰력 확보에 도움이 될 전망으로, 포럼은 향후 몇 \\n달 안에 기금 지원을 위한 제안 요청을 받을 계획\\nn 프런티어 모델 포럼은 출범 이후 업계 전반에 걸쳐 AI 레드팀 구성에 관한 모범사례 공유를 추진하는 \\n한편, 첨단 AI 모델의 취약점이나 잠재적으로 위험한 기능 및 위험 완화 관련 정보를 공유할 수 \\n있는 공개 절차도 개발 중'),\n",
       " Document(metadata={}, page_content='∙AI 모델 훈련에 사용되는 데이터셋의 불분명한 출처로 인해 데이터 투명성이 확보되지 않아 다양한 \\n법적·윤리적 문제가 발생\\n∙이에 연구진은 가장 널리 사용되는 2,000여 개의 미세조정 데이터셋을 감사 및 추적하여 데이터셋에 \\n원본 데이터소스에 대한 태그, 재라이선스(Relicensing) 상태, 작성자, 기타 데이터 속성을 지정하고 \\n이러한 정보에 접근할 수 있는 플랫폼을 출시\\n∙대화형 플랫폼 형태의 데이터 출처 탐색기를 통해 데이터셋의 라이선스 상태를 쉽게 파악할 수 있으며, \\n주요 데이터셋의 구성과 데이터 계보도 추적 가능\\nn 연구진은 오픈소스 데이터셋에 대한 광범위한 감사를 통해 데이터 투명성에 영향을 미치는 주요 \\n요인을 발견\\n∙깃허브(GitHub), 페이퍼위드코드(Papers with Code)와 같은 크라우드소싱 플랫폼에서 수집한 \\n데이터로 훈련된 오픈소스 LLM에서는 데이터 라이선스의 누락 비율이 72~83%에 달함'),\n",
       " Document(metadata={}, page_content='∙알리바바 클라우드는 통이치엔원 2.0이 2023년 4월 출시된 1.0 버전보다 복잡한 지침 이해, \\n광고문구 작성, 추론, 암기 등에서 성능이 향상되었다고 설명\\n∙통이치엔원 2.0은 언어 이해 테스트(MMLU), 수학(GSM8k), 질문 답변(ARC-C)과 같은 벤치마크 \\n테스트에서 라마(Llama-2-70B)와 GPT-3.5를 비롯한 주요 AI 모델을 능가 \\n∙통이치엔원 2.0은 알리바바 클라우드의 웹사이트와 모바일 앱을 통해 대중에 제공되며 개발자는 \\nAPI를 통해 사용 가능 \\nn 알리바바 클라우드는 여러 산업 영역에서 생성 AI를 활용해 사업 성과를 개선할 수 있도록 지원\\n하는 산업별 모델도 출시\\n∙산업 영역은 고객지원, 법률 상담, 의료, 금융, 문서관리, 오디오와 동영상 관리, 코드 개발, 캐릭터 \\n제작을 포함\\nn 알리바바 클라우드는 급증하는 생성 AI 수요에 대응해 모델 개발과 애플리케이션 구축 절차를'),\n",
       " Document(metadata={}, page_content='1. 정책/법제  \\n2. 기업/산업 \\n3. 기술/연구 \\n 4. 인력/교육\\n구글, 앤스로픽에 20억 달러 투자로 생성 AI 협력 강화 \\nn 구글이 앤스로픽에 최대 20억 달러 투자에 합의하고 5억 달러를 우선 투자했으며, 앤스로픽은 \\n구글과 클라우드 서비스 사용 계약도 체결\\nn 3대 클라우드 사업자인 구글, 마이크로소프트, 아마존은 차세대 AI 모델의 대표 기업인 \\n앤스로픽 및 오픈AI와 협력을 확대하는 추세\\nKEY Contents\\n£ 구글, 앤스로픽에 최대 20억 달러 투자 합의 및 클라우드 서비스 제공\\nn 구글이 2023년 10월 27일 앤스로픽에 최대 20억 달러를 투자하기로 합의했으며, 이 중 5억 \\n달러를 우선 투자하고 향후 15억 달러를 추가로 투자할 방침\\n∙구글은 2023년 2월 앤스로픽에 이미 5억 5,000만 달러를 투자한 바 있으며, 아마존도 지난 9월 \\n앤스로픽에 최대 40억 달러의 투자 계획을 공개'),\n",
       " Document(metadata={}, page_content='SPRi AI Brief |  \\n2023-12월호\\n12\\nIDC, 2027년 AI 소프트웨어 매출 2,500억 달러 돌파 전망\\nn IDC의 예측에 의하면 AI 소프트웨어 시장은 2027년 2,510억 달러로 달할 전망이며, 생성 \\nAI 플랫폼과 애플리케이션은 2027년까지 283억 달러의 매출을 창출할 전망 \\nn 2023년 기준 AI 소프트웨어 매출의 3분의 1을 차지하는 최대 시장인 AI 애플리케이션은 \\n2027년까지 21.1%의 연평균 성장률을 기록할 전망\\nKEY Contents\\n£ 기업들의 AI 투자 증가에 힘입어 AI 소프트웨어 시장 급성장 예상\\nn 시장조사기관 IDC는 AI 소프트웨어 시장이 2022년 640억 달러에서 2027년 2,510억 달러로 연평\\n균 성장률 31.4%를 기록하며 급성장할 것으로 예상\\n∙AI 소프트웨어 시장은 AI 플랫폼, AI 애플리케이션, AI 시스템 인프라 소프트웨어(SIS), AI 애플리케이션 \\n개발·배포(AI AD&D) 소프트웨어를 포괄'),\n",
       " Document(metadata={}, page_content='1. 정책/법제  \\n2. 기업/산업 \\n3. 기술/연구 \\n 4. 인력/교육\\n빌 게이츠, AI 에이전트로 인한 컴퓨터 사용의 패러다임 변화 전망\\nn 빌 게이츠가 5년 내 일상언어로 모든 작업을 처리할 수 있는 AI 에이전트가 보급되며 컴퓨터를 \\n사용하는 방식이 완전히 바뀔 것으로 예상\\nn 에이전트의 보급은 컴퓨터 분야를 넘어 산업 전 영역에 영향을 미칠 전망으로 특히 의료와 \\n교육, 생산성, 엔터테인먼트·쇼핑 영역에서 고가로 제공되던 서비스가 대중화될 전망\\nKEY Contents\\n£ 5년 내 기기에 일상언어로 말하기만 하면 되는 AI 에이전트의 보급 예상\\nn 빌 게이츠 마이크로소프트 창업자가 2023년 11월 9일 공식 블로그를 통해 AI 에이전트가 컴퓨터 \\n사용방식과 소프트웨어 산업을 완전히 변화시킬 것이라는 전망을 제시\\n∙자연어에 반응하고 사용자에 대한 지식을 바탕으로 다양한 작업을 수행하는 소프트웨어를 의미하는')]"
      ]
     },
     "execution_count": 41,
     "metadata": {},
     "output_type": "execute_result"
    }
   ],
   "source": [
    "from langchain_core.documents import Document\n",
    "\n",
    "selected_docs = [Document(page_content=split_docs[doc]) for doc in selected_indices]\n",
    "selected_docs\n"
   ]
  },
  {
   "cell_type": "code",
   "execution_count": 42,
   "metadata": {},
   "outputs": [
    {
     "name": "stdout",
     "output_type": "stream",
     "text": [
      "- 빌 게이츠는 AI 에이전트의 등장으로 컴퓨터 사용 방식에 근본적인 변화가 올 것이라고 전망했다.\n",
      "- 유튜브는 2024년부터 AI가 생성한 콘텐츠임을 반드시 표시하도록 의무화할 예정이다.\n",
      "- 영국 정부는 AI의 안전성을 연구하기 위한 AI 안전 연구소 설립을 발표했다.\n",
      "- 구글 딥마인드는 범용 AI 모델의 기능과 동작을 분류하는 새로운 체계를 공개했다.\n",
      "- 갈릴레오의 LLM 환각 지수 평가에서 GPT-4가 가장 우수한 성능을 보였다.\n",
      "- 28개국이 영국에서 열린 AI 안전성 정상회의에서 AI 위험에 공동 대응하기 위한 ‘블레츨리 선언’을 발표했다.\n",
      "- 선언을 통해 국가, 국제기구, 기업, 시민사회, 학계 등 모든 이해관계자의 협력 필요성이 강조되었으며, 첨단 AI 개발 국가와 기업들은 AI 시스템의 안전 테스트 계획에 합의했고, 영국 AI 안전 연구소가 글로벌 테스트를 주도할 예정이다.\n",
      "\n",
      "-----------------\n",
      "\n",
      "\n",
      "- 빌 게이츠는 AI 에이전트의 등장으로 컴퓨터 사용 방식에 근본적인 변화가 올 것이라고 전망했다.\n",
      "- 유튜브는 2024년부터 AI가 생성한 콘텐츠임을 반드시 표시하도록 의무화할 예정이다.\n",
      "- 영국 정부는 AI의 안전성을 연구하기 위한 AI 안전 연구소 설립을 발표했다.\n",
      "- 구글 딥마인드는 범용 AI 모델의 기능과 동작을 분류하는 새로운 체계를 공개했다.\n",
      "- 갈릴레오의 LLM 환각 지수 평가에서 GPT-4가 가장 우수한 성능을 보였다.\n",
      "- 28개국이 영국에서 열린 AI 안전성 정상회의에서 AI 위험에 공동 대응하기 위한 ‘블레츨리 선언’을 발표했다.\n",
      "- 선언을 통해 국가, 국제기구, 기업, 시민사회, 학계 등 모든 이해관계자의 협력 필요성이 강조되었으며, 첨단 AI 개발 국가와 기업들은 AI 시스템의 안전 테스트 계획에 합의했고, 영국 AI 안전 연구소가 글로벌 테스트를 주도할 예정이다.\n",
      "- 미국 연방거래위원회(FTC)는 생성 AI로 인해 창작자와 소비자가 피해를 입을 수 있고, 일부 빅테크 기업이 AI를 통해 시장 지배력을 강화할 수 있다는 우려를 표명하며, 저작권청의 AI 관련 질의에 소비자 보호와 경쟁 측면에서 의견서를 제출했다. 저작권청은 생성 AI와 관련된 저작권법 및 정책 이슈를 조사하고 있다.\n",
      "\n",
      "-----------------\n",
      "\n",
      "\n",
      "- 빌 게이츠는 AI 에이전트의 등장으로 컴퓨터 사용 방식에 근본적인 변화가 올 것이라고 전망했다.\n",
      "- 유튜브는 2024년부터 AI가 생성한 콘텐츠임을 반드시 표시하도록 의무화할 예정이다.\n",
      "- 영국 정부는 AI의 안전성을 연구하기 위한 AI 안전 연구소 설립을 발표했다.\n",
      "- 구글 딥마인드는 범용 AI 모델의 기능과 동작을 분류하는 새로운 체계를 공개했다.\n",
      "- 갈릴레오의 LLM 환각 지수 평가에서 GPT-4가 가장 우수한 성능을 보였다.\n",
      "- 28개국이 영국에서 열린 AI 안전성 정상회의에서 AI 위험에 공동 대응하기 위한 ‘블레츨리 선언’을 발표했다.\n",
      "- 선언을 통해 국가, 국제기구, 기업, 시민사회, 학계 등 모든 이해관계자의 협력 필요성이 강조되었으며, 첨단 AI 개발 국가와 기업들은 AI 시스템의 안전 테스트 계획에 합의했고, 영국 AI 안전 연구소가 글로벌 테스트를 주도할 예정이다.\n",
      "- 미국 연방거래위원회(FTC)는 생성 AI로 인해 창작자와 소비자가 피해를 입을 수 있고, 일부 빅테크 기업이 AI를 통해 시장 지배력을 강화할 수 있다는 우려를 표명하며, 저작권청의 AI 관련 질의에 소비자 보호와 경쟁 측면에서 의견서를 제출했다. 저작권청은 생성 AI와 관련된 저작권법 및 정책 이슈를 조사하고 있다.\n",
      "- EU AI 법 최종 협상에서 프랑스, 이탈리아, 독일이 기반모델 규제에 반대해 협상이 난항을 겪고 있으며, 이들 3개국은 기반모델 개발기업에 자율적 행동강령 도입 및 준수를 의무화하는 방안을 제안했다. 10월 24일 3자 협상 회의에서는 사회적 영향이 큰 강력한 AI 모델에 더 엄격한 규칙을 적용하는 계층적 접근방식에 대해 기본적인 합의가 이루어졌다.\n",
      "\n",
      "-----------------\n",
      "\n",
      "\n",
      "- 빌 게이츠는 AI 에이전트의 등장으로 컴퓨터 사용 방식에 근본적인 변화가 올 것이라고 전망했다.\n",
      "- 유튜브는 2024년부터 AI가 생성한 콘텐츠임을 반드시 표시하도록 의무화할 예정이다.\n",
      "- 영국 정부는 AI의 안전성을 연구하기 위한 AI 안전 연구소 설립을 발표했다.\n",
      "- 구글 딥마인드는 범용 AI 모델의 기능과 동작을 분류하는 새로운 체계를 공개했다.\n",
      "- 갈릴레오의 LLM 환각 지수 평가에서 GPT-4가 가장 우수한 성능을 보였다.\n",
      "- 28개국이 영국에서 열린 AI 안전성 정상회의에서 AI 위험에 공동 대응하기 위한 ‘블레츨리 선언’을 발표했다.\n",
      "- 선언을 통해 국가, 국제기구, 기업, 시민사회, 학계 등 모든 이해관계자의 협력 필요성이 강조되었으며, 첨단 AI 개발 국가와 기업들은 AI 시스템의 안전 테스트 계획에 합의했고, 영국 AI 안전 연구소가 글로벌 테스트를 주도할 예정이다.\n",
      "- 미국 연방거래위원회(FTC)는 생성 AI로 인해 창작자와 소비자가 피해를 입을 수 있고, 일부 빅테크 기업이 AI를 통해 시장 지배력을 강화할 수 있다는 우려를 표명하며, 저작권청의 AI 관련 질의에 소비자 보호와 경쟁 측면에서 의견서를 제출했다. 저작권청은 생성 AI와 관련된 저작권법 및 정책 이슈를 조사하고 있다.\n",
      "- EU AI 법 최종 협상에서 프랑스, 이탈리아, 독일이 기반모델 규제에 반대해 협상이 난항을 겪고 있으며, 이들 3개국은 기반모델 개발기업에 자율적 행동강령 도입 및 준수를 의무화하는 방안을 제안했다. 10월 24일 3자 협상 회의에서는 사회적 영향이 큰 강력한 AI 모델에 더 엄격한 규칙을 적용하는 계층적 접근방식에 대해 기본적인 합의가 이루어졌다.\n",
      "- 프런티어 모델 포럼은 AI 안전 기금을 활용해 외부 연구집단의 AI 시스템 평가와 AI 레드팀 활동을 중점적으로 지원할 계획이다. AI 레드팀을 위한 새로운 모델 평가 기법 개발에 자금을 집중 투자하고, 업계 전반에 레드팀 구성 모범사례와 첨단 AI 모델의 취약점 및 위험 완화 정보를 공유하는 절차도 마련 중이다. 이러한 지원은 AI 모델의 안전성과 보안 기준 개선, 그리고 AI 시스템 위험 대응에 대한 산업계, 정부, 시민사회의 통찰력 확보에 기여할 것으로 기대된다.\n",
      "\n",
      "-----------------\n",
      "\n",
      "\n",
      "- 빌 게이츠는 AI 에이전트의 등장으로 컴퓨터 사용 방식에 근본적인 변화가 올 것이라고 전망했다.\n",
      "- 유튜브는 2024년부터 AI가 생성한 콘텐츠임을 반드시 표시하도록 의무화할 예정이다.\n",
      "- 영국 정부는 AI의 안전성을 연구하기 위한 AI 안전 연구소 설립을 발표했다.\n",
      "- 구글 딥마인드는 범용 AI 모델의 기능과 동작을 분류하는 새로운 체계를 공개했다.\n",
      "- 갈릴레오의 LLM 환각 지수 평가에서 GPT-4가 가장 우수한 성능을 보였다.\n",
      "- 28개국이 영국에서 열린 AI 안전성 정상회의에서 AI 위험에 공동 대응하기 위한 ‘블레츨리 선언’을 발표했다.\n",
      "- 선언을 통해 국가, 국제기구, 기업, 시민사회, 학계 등 모든 이해관계자의 협력 필요성이 강조되었으며, 첨단 AI 개발 국가와 기업들은 AI 시스템의 안전 테스트 계획에 합의했고, 영국 AI 안전 연구소가 글로벌 테스트를 주도할 예정이다.\n",
      "- 미국 연방거래위원회(FTC)는 생성 AI로 인해 창작자와 소비자가 피해를 입을 수 있고, 일부 빅테크 기업이 AI를 통해 시장 지배력을 강화할 수 있다는 우려를 표명하며, 저작권청의 AI 관련 질의에 소비자 보호와 경쟁 측면에서 의견서를 제출했다. 저작권청은 생성 AI와 관련된 저작권법 및 정책 이슈를 조사하고 있다.\n",
      "- EU AI 법 최종 협상에서 프랑스, 이탈리아, 독일이 기반모델 규제에 반대해 협상이 난항을 겪고 있으며, 이들 3개국은 기반모델 개발기업에 자율적 행동강령 도입 및 준수를 의무화하는 방안을 제안했다. 10월 24일 3자 협상 회의에서는 사회적 영향이 큰 강력한 AI 모델에 더 엄격한 규칙을 적용하는 계층적 접근방식에 대해 기본적인 합의가 이루어졌다.\n",
      "- 프런티어 모델 포럼은 AI 안전 기금을 활용해 외부 연구집단의 AI 시스템 평가와 AI 레드팀 활동을 중점적으로 지원할 계획이다. AI 레드팀을 위한 새로운 모델 평가 기법 개발에 자금을 집중 투자하고, 업계 전반에 레드팀 구성 모범사례와 첨단 AI 모델의 취약점 및 위험 완화 정보를 공유하는 절차도 마련 중이다. 이러한 지원은 AI 모델의 안전성과 보안 기준 개선, 그리고 AI 시스템 위험 대응에 대한 산업계, 정부, 시민사회의 통찰력 확보에 기여할 것으로 기대된다.\n",
      "- 한편, AI 모델 훈련에 사용되는 데이터셋의 출처가 불분명해 데이터 투명성 부족 및 법적·윤리적 문제가 제기되고 있다. 연구진은 2,000여 개의 미세조정 데이터셋을 감사·추적해 원본 데이터소스, 라이선스, 작성자 등 주요 정보를 태그하고 접근 가능한 플랫폼을 개발했다. 이를 통해 데이터셋의 라이선스 상태와 구성, 데이터 계보를 쉽게 확인할 수 있으며, 오픈소스 LLM의 경우 크라우드소싱 데이터셋의 라이선스 누락 비율이 72~83%로 매우 높다는 점이 밝혀졌다.\n",
      "\n",
      "-----------------\n",
      "\n",
      "\n",
      "- 빌 게이츠는 AI 에이전트의 등장으로 컴퓨터 사용 방식에 근본적인 변화가 올 것이라고 전망했다.\n",
      "- 유튜브는 2024년부터 AI가 생성한 콘텐츠임을 반드시 표시하도록 의무화할 예정이다.\n",
      "- 영국 정부는 AI의 안전성을 연구하기 위한 AI 안전 연구소 설립을 발표했다.\n",
      "- 구글 딥마인드는 범용 AI 모델의 기능과 동작을 분류하는 새로운 체계를 공개했다.\n",
      "- 갈릴레오의 LLM 환각 지수 평가에서 GPT-4가 가장 우수한 성능을 보였다.\n",
      "- 28개국이 영국에서 열린 AI 안전성 정상회의에서 AI 위험에 공동 대응하기 위한 ‘블레츨리 선언’을 발표했다.\n",
      "- 선언을 통해 국가, 국제기구, 기업, 시민사회, 학계 등 모든 이해관계자의 협력 필요성이 강조되었으며, 첨단 AI 개발 국가와 기업들은 AI 시스템의 안전 테스트 계획에 합의했고, 영국 AI 안전 연구소가 글로벌 테스트를 주도할 예정이다.\n",
      "- 미국 연방거래위원회(FTC)는 생성 AI로 인해 창작자와 소비자가 피해를 입을 수 있고, 일부 빅테크 기업이 AI를 통해 시장 지배력을 강화할 수 있다는 우려를 표명하며, 저작권청의 AI 관련 질의에 소비자 보호와 경쟁 측면에서 의견서를 제출했다. 저작권청은 생성 AI와 관련된 저작권법 및 정책 이슈를 조사하고 있다.\n",
      "- EU AI 법 최종 협상에서 프랑스, 이탈리아, 독일이 기반모델 규제에 반대해 협상이 난항을 겪고 있으며, 이들 3개국은 기반모델 개발기업에 자율적 행동강령 도입 및 준수를 의무화하는 방안을 제안했다. 10월 24일 3자 협상 회의에서는 사회적 영향이 큰 강력한 AI 모델에 더 엄격한 규칙을 적용하는 계층적 접근방식에 대해 기본적인 합의가 이루어졌다.\n",
      "- 프런티어 모델 포럼은 AI 안전 기금을 활용해 외부 연구집단의 AI 시스템 평가와 AI 레드팀 활동을 중점적으로 지원할 계획이다. AI 레드팀을 위한 새로운 모델 평가 기법 개발에 자금을 집중 투자하고, 업계 전반에 레드팀 구성 모범사례와 첨단 AI 모델의 취약점 및 위험 완화 정보를 공유하는 절차도 마련 중이다. 이러한 지원은 AI 모델의 안전성과 보안 기준 개선, 그리고 AI 시스템 위험 대응에 대한 산업계, 정부, 시민사회의 통찰력 확보에 기여할 것으로 기대된다.\n",
      "- 한편, AI 모델 훈련에 사용되는 데이터셋의 출처가 불분명해 데이터 투명성 부족 및 법적·윤리적 문제가 제기되고 있다. 연구진은 2,000여 개의 미세조정 데이터셋을 감사·추적해 원본 데이터소스, 라이선스, 작성자 등 주요 정보를 태그하고 접근 가능한 플랫폼을 개발했다. 이를 통해 데이터셋의 라이선스 상태와 구성, 데이터 계보를 쉽게 확인할 수 있으며, 오픈소스 LLM의 경우 크라우드소싱 데이터셋의 라이선스 누락 비율이 72~83%로 매우 높다는 점이 밝혀졌다.\n",
      "- 알리바바 클라우드는 통이치엔원 2.0을 출시해 이전 버전 대비 복잡한 지침 이해, 광고문구 작성, 추론, 암기 등에서 성능을 크게 향상시켰으며, 주요 벤치마크 테스트에서 라마(Llama-2-70B)와 GPT-3.5 등 기존 AI 모델을 능가하는 성과를 보였다. 통이치엔원 2.0은 웹사이트, 모바일 앱, API를 통해 대중과 개발자에게 제공되고, 고객지원, 법률, 의료, 금융 등 다양한 산업별 생성 AI 모델도 함께 출시해 산업별 맞춤형 지원을 강화하고 있다. 또한 생성 AI 수요 증가에 대응해 모델 개발과 애플리케이션 구축 절차를 간소화하고 있다.\n",
      "\n",
      "-----------------\n",
      "\n",
      "\n",
      "- 빌 게이츠는 AI 에이전트의 등장으로 컴퓨터 사용 방식에 근본적인 변화가 올 것이라고 전망했다.\n",
      "- 유튜브는 2024년부터 AI가 생성한 콘텐츠임을 반드시 표시하도록 의무화할 예정이다.\n",
      "- 영국 정부는 AI의 안전성을 연구하기 위한 AI 안전 연구소 설립을 발표했다.\n",
      "- 구글 딥마인드는 범용 AI 모델의 기능과 동작을 분류하는 새로운 체계를 공개했다.\n",
      "- 갈릴레오의 LLM 환각 지수 평가에서 GPT-4가 가장 우수한 성능을 보였다.\n",
      "- 28개국이 영국에서 열린 AI 안전성 정상회의에서 AI 위험에 공동 대응하기 위한 ‘블레츨리 선언’을 발표했다.\n",
      "- 선언을 통해 국가, 국제기구, 기업, 시민사회, 학계 등 모든 이해관계자의 협력 필요성이 강조되었으며, 첨단 AI 개발 국가와 기업들은 AI 시스템의 안전 테스트 계획에 합의했고, 영국 AI 안전 연구소가 글로벌 테스트를 주도할 예정이다.\n",
      "- 미국 연방거래위원회(FTC)는 생성 AI로 인해 창작자와 소비자가 피해를 입을 수 있고, 일부 빅테크 기업이 AI를 통해 시장 지배력을 강화할 수 있다는 우려를 표명하며, 저작권청의 AI 관련 질의에 소비자 보호와 경쟁 측면에서 의견서를 제출했다. 저작권청은 생성 AI와 관련된 저작권법 및 정책 이슈를 조사하고 있다.\n",
      "- EU AI 법 최종 협상에서 프랑스, 이탈리아, 독일이 기반모델 규제에 반대해 협상이 난항을 겪고 있으며, 이들 3개국은 기반모델 개발기업에 자율적 행동강령 도입 및 준수를 의무화하는 방안을 제안했다. 10월 24일 3자 협상 회의에서는 사회적 영향이 큰 강력한 AI 모델에 더 엄격한 규칙을 적용하는 계층적 접근방식에 대해 기본적인 합의가 이루어졌다.\n",
      "- 프런티어 모델 포럼은 AI 안전 기금을 활용해 외부 연구집단의 AI 시스템 평가와 AI 레드팀 활동을 중점적으로 지원할 계획이다. AI 레드팀을 위한 새로운 모델 평가 기법 개발에 자금을 집중 투자하고, 업계 전반에 레드팀 구성 모범사례와 첨단 AI 모델의 취약점 및 위험 완화 정보를 공유하는 절차도 마련 중이다. 이러한 지원은 AI 모델의 안전성과 보안 기준 개선, 그리고 AI 시스템 위험 대응에 대한 산업계, 정부, 시민사회의 통찰력 확보에 기여할 것으로 기대된다.\n",
      "- 한편, AI 모델 훈련에 사용되는 데이터셋의 출처가 불분명해 데이터 투명성 부족 및 법적·윤리적 문제가 제기되고 있다. 연구진은 2,000여 개의 미세조정 데이터셋을 감사·추적해 원본 데이터소스, 라이선스, 작성자 등 주요 정보를 태그하고 접근 가능한 플랫폼을 개발했다. 이를 통해 데이터셋의 라이선스 상태와 구성, 데이터 계보를 쉽게 확인할 수 있으며, 오픈소스 LLM의 경우 크라우드소싱 데이터셋의 라이선스 누락 비율이 72~83%로 매우 높다는 점이 밝혀졌다.\n",
      "- 알리바바 클라우드는 통이치엔원 2.0을 출시해 이전 버전 대비 복잡한 지침 이해, 광고문구 작성, 추론, 암기 등에서 성능을 크게 향상시켰으며, 주요 벤치마크 테스트에서 라마(Llama-2-70B)와 GPT-3.5 등 기존 AI 모델을 능가하는 성과를 보였다. 통이치엔원 2.0은 웹사이트, 모바일 앱, API를 통해 대중과 개발자에게 제공되고, 고객지원, 법률, 의료, 금융 등 다양한 산업별 생성 AI 모델도 함께 출시해 산업별 맞춤형 지원을 강화하고 있다. 또한 생성 AI 수요 증가에 대응해 모델 개발과 애플리케이션 구축 절차를 간소화하고 있다.\n",
      "- 한편, 구글이 생성 AI 분야의 선도 기업인 앤스로픽에 최대 20억 달러 투자에 합의하고, 5억 달러를 우선 투자한 뒤 추가로 15억 달러를 투자할 계획이다. 앤스로픽은 구글과 클라우드 서비스 사용 계약도 체결해 양사 간 협력이 강화되고 있다. 아마존 역시 앤스로픽에 최대 40억 달러 투자 계획을 밝히는 등, 구글, 마이크로소프트, 아마존 등 주요 클라우드 기업들이 차세대 AI 모델 개발을 위해 앤스로픽, 오픈AI 등과 협력을 확대하며 생성 AI 분야 투자 경쟁이 심화되고 있다.\n",
      "\n",
      "-----------------\n",
      "\n",
      "\n",
      "최종 요약:\n",
      "\n",
      "- 빌 게이츠는 AI 에이전트의 등장으로 컴퓨터 사용 방식에 근본적인 변화가 올 것이라고 전망했다.\n",
      "- 유튜브는 2024년부터 AI가 생성한 콘텐츠임을 반드시 표시하도록 의무화할 예정이다.\n",
      "- 영국 정부는 AI의 안전성을 연구하기 위한 AI 안전 연구소 설립을 발표했다.\n",
      "- 구글 딥마인드는 범용 AI 모델의 기능과 동작을 분류하는 새로운 체계를 공개했다.\n",
      "- 갈릴레오의 LLM 환각 지수 평가에서 GPT-4가 가장 우수한 성능을 보였다.\n",
      "- 28개국이 영국에서 열린 AI 안전성 정상회의에서 AI 위험에 공동 대응하기 위한 ‘블레츨리 선언’을 발표했다.\n",
      "- 선언을 통해 국가, 국제기구, 기업, 시민사회, 학계 등 모든 이해관계자의 협력 필요성이 강조되었으며, 첨단 AI 개발 국가와 기업들은 AI 시스템의 안전 테스트 계획에 합의했고, 영국 AI 안전 연구소가 글로벌 테스트를 주도할 예정이다.\n",
      "- 미국 연방거래위원회(FTC)는 생성 AI로 인해 창작자와 소비자가 피해를 입을 수 있고, 일부 빅테크 기업이 AI를 통해 시장 지배력을 강화할 수 있다는 우려를 표명하며, 저작권청의 AI 관련 질의에 소비자 보호와 경쟁 측면에서 의견서를 제출했다. 저작권청은 생성 AI와 관련된 저작권법 및 정책 이슈를 조사하고 있다.\n",
      "- EU AI 법 최종 협상에서 프랑스, 이탈리아, 독일이 기반모델 규제에 반대해 협상이 난항을 겪고 있으며, 이들 3개국은 기반모델 개발기업에 자율적 행동강령 도입 및 준수를 의무화하는 방안을 제안했다. 10월 24일 3자 협상 회의에서는 사회적 영향이 큰 강력한 AI 모델에 더 엄격한 규칙을 적용하는 계층적 접근방식에 대해 기본적인 합의가 이루어졌다.\n",
      "- 프런티어 모델 포럼은 AI 안전 기금을 활용해 외부 연구집단의 AI 시스템 평가와 AI 레드팀 활동을 중점적으로 지원할 계획이다. AI 레드팀을 위한 새로운 모델 평가 기법 개발에 자금을 집중 투자하고, 업계 전반에 레드팀 구성 모범사례와 첨단 AI 모델의 취약점 및 위험 완화 정보를 공유하는 절차도 마련 중이다. 이러한 지원은 AI 모델의 안전성과 보안 기준 개선, 그리고 AI 시스템 위험 대응에 대한 산업계, 정부, 시민사회의 통찰력 확보에 기여할 것으로 기대된다.\n",
      "- 한편, AI 모델 훈련에 사용되는 데이터셋의 출처가 불분명해 데이터 투명성 부족 및 법적·윤리적 문제가 제기되고 있다. 연구진은 2,000여 개의 미세조정 데이터셋을 감사·추적해 원본 데이터소스, 라이선스, 작성자 등 주요 정보를 태그하고 접근 가능한 플랫폼을 개발했다. 이를 통해 데이터셋의 라이선스 상태와 구성, 데이터 계보를 쉽게 확인할 수 있으며, 오픈소스 LLM의 경우 크라우드소싱 데이터셋의 라이선스 누락 비율이 72~83%로 매우 높다는 점이 밝혀졌다.\n",
      "- 알리바바 클라우드는 통이치엔원 2.0을 출시해 이전 버전 대비 복잡한 지침 이해, 광고문구 작성, 추론, 암기 등에서 성능을 크게 향상시켰으며, 주요 벤치마크 테스트에서 라마(Llama-2-70B)와 GPT-3.5 등 기존 AI 모델을 능가하는 성과를 보였다. 통이치엔원 2.0은 웹사이트, 모바일 앱, API를 통해 대중과 개발자에게 제공되고, 고객지원, 법률, 의료, 금융 등 다양한 산업별 생성 AI 모델도 함께 출시해 산업별 맞춤형 지원을 강화하고 있다. 또한 생성 AI 수요 증가에 대응해 모델 개발과 애플리케이션 구축 절차를 간소화하고 있다.\n",
      "- 한편, 구글이 생성 AI 분야의 선도 기업인 앤스로픽에 최대 20억 달러 투자에 합의하고, 5억 달러를 우선 투자한 뒤 추가로 15억 달러를 투자할 계획이다. 앤스로픽은 구글과 클라우드 서비스 사용 계약도 체결해 양사 간 협력이 강화되고 있다. 아마존 역시 앤스로픽에 최대 40억 달러 투자 계획을 밝히는 등, 구글, 마이크로소프트, 아마존 등 주요 클라우드 기업들이 차세대 AI 모델 개발을 위해 앤스로픽, 오픈AI 등과 협력을 확대하며 생성 AI 분야 투자 경쟁이 심화되고 있다.\n",
      "- 한편, IDC는 2027년 AI 소프트웨어 시장 규모가 2,510억 달러에 이를 것으로 전망했으며, 2022년 640억 달러에서 연평균 31.4%의 성장률을 기록할 것으로 예상된다. AI 애플리케이션이 시장의 최대 비중을 차지하고, 생성 AI 플랫폼과 애플리케이션은 2027년까지 283억 달러의 매출을 창출할 것으로 보인다. 기업들의 AI 투자 증가가 AI 소프트웨어 시장의 급성장을 견인하고 있다.\n",
      "\n",
      "-----------------\n",
      "\n",
      "\n",
      "최종 요약(수정본):\n",
      "\n",
      "- 빌 게이츠는 앞으로 5년 내에 일상언어로 모든 작업을 처리할 수 있는 AI 에이전트가 보급되어 컴퓨터 사용 방식이 완전히 변화할 것이라고 전망했다. 이러한 AI 에이전트는 자연어로 소통하며, 사용자의 정보를 바탕으로 다양한 작업을 자동으로 수행하는 소프트웨어로 정의된다. 이로 인해 의료, 교육, 생산성, 엔터테인먼트, 쇼핑 등 다양한 산업 전반에 큰 영향을 미치고, 기존에 고가로 제공되던 서비스의 대중화를 촉진할 것으로 예상된다.\n",
      "- 유튜브는 2024년부터 AI가 생성한 콘텐츠임을 반드시 표시하도록 의무화할 예정이다.\n",
      "- 영국 정부는 AI의 안전성을 연구하기 위한 AI 안전 연구소 설립을 발표했다.\n",
      "- 구글 딥마인드는 범용 AI 모델의 기능과 동작을 분류하는 새로운 체계를 공개했다.\n",
      "- 갈릴레오의 LLM 환각 지수 평가에서 GPT-4가 가장 우수한 성능을 보였다.\n",
      "- 28개국이 영국에서 열린 AI 안전성 정상회의에서 AI 위험에 공동 대응하기 위한 ‘블레츨리 선언’을 발표했다.\n",
      "- 선언을 통해 국가, 국제기구, 기업, 시민사회, 학계 등 모든 이해관계자의 협력 필요성이 강조되었으며, 첨단 AI 개발 국가와 기업들은 AI 시스템의 안전 테스트 계획에 합의했고, 영국 AI 안전 연구소가 글로벌 테스트를 주도할 예정이다.\n",
      "- 미국 연방거래위원회(FTC)는 생성 AI로 인해 창작자와 소비자가 피해를 입을 수 있고, 일부 빅테크 기업이 AI를 통해 시장 지배력을 강화할 수 있다는 우려를 표명하며, 저작권청의 AI 관련 질의에 소비자 보호와 경쟁 측면에서 의견서를 제출했다. 저작권청은 생성 AI와 관련된 저작권법 및 정책 이슈를 조사하고 있다.\n",
      "- EU AI 법 최종 협상에서 프랑스, 이탈리아, 독일이 기반모델 규제에 반대해 협상이 난항을 겪고 있으며, 이들 3개국은 기반모델 개발기업에 자율적 행동강령 도입 및 준수를 의무화하는 방안을 제안했다. 10월 24일 3자 협상 회의에서는 사회적 영향이 큰 강력한 AI 모델에 더 엄격한 규칙을 적용하는 계층적 접근방식에 대해 기본적인 합의가 이루어졌다.\n",
      "- 프런티어 모델 포럼은 AI 안전 기금을 활용해 외부 연구집단의 AI 시스템 평가와 AI 레드팀 활동을 중점적으로 지원할 계획이다. AI 레드팀을 위한 새로운 모델 평가 기법 개발에 자금을 집중 투자하고, 업계 전반에 레드팀 구성 모범사례와 첨단 AI 모델의 취약점 및 위험 완화 정보를 공유하는 절차도 마련 중이다. 이러한 지원은 AI 모델의 안전성과 보안 기준 개선, 그리고 AI 시스템 위험 대응에 대한 산업계, 정부, 시민사회의 통찰력 확보에 기여할 것으로 기대된다.\n",
      "- 한편, AI 모델 훈련에 사용되는 데이터셋의 출처가 불분명해 데이터 투명성 부족 및 법적·윤리적 문제가 제기되고 있다. 연구진은 2,000여 개의 미세조정 데이터셋을 감사·추적해 원본 데이터소스, 라이선스, 작성자 등 주요 정보를 태그하고 접근 가능한 플랫폼을 개발했다. 이를 통해 데이터셋의 라이선스 상태와 구성, 데이터 계보를 쉽게 확인할 수 있으며, 오픈소스 LLM의 경우 크라우드소싱 데이터셋의 라이선스 누락 비율이 72~83%로 매우 높다는 점이 밝혀졌다.\n",
      "- 알리바바 클라우드는 통이치엔원 2.0을 출시해 이전 버전 대비 복잡한 지침 이해, 광고문구 작성, 추론, 암기 등에서 성능을 크게 향상시켰으며, 주요 벤치마크 테스트에서 라마(Llama-2-70B)와 GPT-3.5 등 기존 AI 모델을 능가하는 성과를 보였다. 통이치엔원 2.0은 웹사이트, 모바일 앱, API를 통해 대중과 개발자에게 제공되고, 고객지원, 법률, 의료, 금융 등 다양한 산업별 생성 AI 모델도 함께 출시해 산업별 맞춤형 지원을 강화하고 있다. 또한 생성 AI 수요 증가에 대응해 모델 개발과 애플리케이션 구축 절차를 간소화하고 있다.\n",
      "- 한편, 구글이 생성 AI 분야의 선도 기업인 앤스로픽에 최대 20억 달러 투자에 합의하고, 5억 달러를 우선 투자한 뒤 추가로 15억 달러를 투자할 계획이다. 앤스로픽은 구글과 클라우드 서비스 사용 계약도 체결해 양사 간 협력이 강화되고 있다. 아마존 역시 앤스로픽에 최대 40억 달러 투자 계획을 밝히는 등, 구글, 마이크로소프트, 아마존 등 주요 클라우드 기업들이 차세대 AI 모델 개발을 위해 앤스로픽, 오픈AI 등과 협력을 확대하며 생성 AI 분야 투자 경쟁이 심화되고 있다.\n",
      "- 한편, IDC는 2027년 AI 소프트웨어 시장 규모가 2,510억 달러에 이를 것으로 전망했으며, 2022년 640억 달러에서 연평균 31.4%의 성장률을 기록할 것으로 예상된다. AI 애플리케이션이 시장의 최대 비중을 차지하고, 생성 AI 플랫폼과 애플리케이션은 2027년까지 283억 달러의 매출을 창출할 것으로 보인다. 기업들의 AI 투자 증가가 AI 소프트웨어 시장의 급성장을 견인하고 있다.\n",
      "\n",
      "-----------------\n",
      "\n",
      "\n"
     ]
    }
   ],
   "source": [
    "# 이전에 생성한 map_refine_chain을 사용하여 요약 생성\n",
    "refined_summary = map_refine_chain.invoke(selected_docs)\n"
   ]
  },
  {
   "cell_type": "code",
   "execution_count": 43,
   "metadata": {},
   "outputs": [
    {
     "name": "stdout",
     "output_type": "stream",
     "text": [
      "최종 요약(수정본):\n",
      "\n",
      "- 빌 게이츠는 앞으로 5년 내에 일상언어로 모든 작업을 처리할 수 있는 AI 에이전트가 보급되어 컴퓨터 사용 방식이 완전히 변화할 것이라고 전망했다. 이러한 AI 에이전트는 자연어로 소통하며, 사용자의 정보를 바탕으로 다양한 작업을 자동으로 수행하는 소프트웨어로 정의된다. 이로 인해 의료, 교육, 생산성, 엔터테인먼트, 쇼핑 등 다양한 산업 전반에 큰 영향을 미치고, 기존에 고가로 제공되던 서비스의 대중화를 촉진할 것으로 예상된다.\n",
      "- 유튜브는 2024년부터 AI가 생성한 콘텐츠임을 반드시 표시하도록 의무화할 예정이다.\n",
      "- 영국 정부는 AI의 안전성을 연구하기 위한 AI 안전 연구소 설립을 발표했다.\n",
      "- 구글 딥마인드는 범용 AI 모델의 기능과 동작을 분류하는 새로운 체계를 공개했다.\n",
      "- 갈릴레오의 LLM 환각 지수 평가에서 GPT-4가 가장 우수한 성능을 보였다.\n",
      "- 28개국이 영국에서 열린 AI 안전성 정상회의에서 AI 위험에 공동 대응하기 위한 ‘블레츨리 선언’을 발표했다.\n",
      "- 선언을 통해 국가, 국제기구, 기업, 시민사회, 학계 등 모든 이해관계자의 협력 필요성이 강조되었으며, 첨단 AI 개발 국가와 기업들은 AI 시스템의 안전 테스트 계획에 합의했고, 영국 AI 안전 연구소가 글로벌 테스트를 주도할 예정이다.\n",
      "- 미국 연방거래위원회(FTC)는 생성 AI로 인해 창작자와 소비자가 피해를 입을 수 있고, 일부 빅테크 기업이 AI를 통해 시장 지배력을 강화할 수 있다는 우려를 표명하며, 저작권청의 AI 관련 질의에 소비자 보호와 경쟁 측면에서 의견서를 제출했다. 저작권청은 생성 AI와 관련된 저작권법 및 정책 이슈를 조사하고 있다.\n",
      "- EU AI 법 최종 협상에서 프랑스, 이탈리아, 독일이 기반모델 규제에 반대해 협상이 난항을 겪고 있으며, 이들 3개국은 기반모델 개발기업에 자율적 행동강령 도입 및 준수를 의무화하는 방안을 제안했다. 10월 24일 3자 협상 회의에서는 사회적 영향이 큰 강력한 AI 모델에 더 엄격한 규칙을 적용하는 계층적 접근방식에 대해 기본적인 합의가 이루어졌다.\n",
      "- 프런티어 모델 포럼은 AI 안전 기금을 활용해 외부 연구집단의 AI 시스템 평가와 AI 레드팀 활동을 중점적으로 지원할 계획이다. AI 레드팀을 위한 새로운 모델 평가 기법 개발에 자금을 집중 투자하고, 업계 전반에 레드팀 구성 모범사례와 첨단 AI 모델의 취약점 및 위험 완화 정보를 공유하는 절차도 마련 중이다. 이러한 지원은 AI 모델의 안전성과 보안 기준 개선, 그리고 AI 시스템 위험 대응에 대한 산업계, 정부, 시민사회의 통찰력 확보에 기여할 것으로 기대된다.\n",
      "- 한편, AI 모델 훈련에 사용되는 데이터셋의 출처가 불분명해 데이터 투명성 부족 및 법적·윤리적 문제가 제기되고 있다. 연구진은 2,000여 개의 미세조정 데이터셋을 감사·추적해 원본 데이터소스, 라이선스, 작성자 등 주요 정보를 태그하고 접근 가능한 플랫폼을 개발했다. 이를 통해 데이터셋의 라이선스 상태와 구성, 데이터 계보를 쉽게 확인할 수 있으며, 오픈소스 LLM의 경우 크라우드소싱 데이터셋의 라이선스 누락 비율이 72~83%로 매우 높다는 점이 밝혀졌다.\n",
      "- 알리바바 클라우드는 통이치엔원 2.0을 출시해 이전 버전 대비 복잡한 지침 이해, 광고문구 작성, 추론, 암기 등에서 성능을 크게 향상시켰으며, 주요 벤치마크 테스트에서 라마(Llama-2-70B)와 GPT-3.5 등 기존 AI 모델을 능가하는 성과를 보였다. 통이치엔원 2.0은 웹사이트, 모바일 앱, API를 통해 대중과 개발자에게 제공되고, 고객지원, 법률, 의료, 금융 등 다양한 산업별 생성 AI 모델도 함께 출시해 산업별 맞춤형 지원을 강화하고 있다. 또한 생성 AI 수요 증가에 대응해 모델 개발과 애플리케이션 구축 절차를 간소화하고 있다.\n",
      "- 한편, 구글이 생성 AI 분야의 선도 기업인 앤스로픽에 최대 20억 달러 투자에 합의하고, 5억 달러를 우선 투자한 뒤 추가로 15억 달러를 투자할 계획이다. 앤스로픽은 구글과 클라우드 서비스 사용 계약도 체결해 양사 간 협력이 강화되고 있다. 아마존 역시 앤스로픽에 최대 40억 달러 투자 계획을 밝히는 등, 구글, 마이크로소프트, 아마존 등 주요 클라우드 기업들이 차세대 AI 모델 개발을 위해 앤스로픽, 오픈AI 등과 협력을 확대하며 생성 AI 분야 투자 경쟁이 심화되고 있다.\n",
      "- 한편, IDC는 2027년 AI 소프트웨어 시장 규모가 2,510억 달러에 이를 것으로 전망했으며, 2022년 640억 달러에서 연평균 31.4%의 성장률을 기록할 것으로 예상된다. AI 애플리케이션이 시장의 최대 비중을 차지하고, 생성 AI 플랫폼과 애플리케이션은 2027년까지 283억 달러의 매출을 창출할 것으로 보인다. 기업들의 AI 투자 증가가 AI 소프트웨어 시장의 급성장을 견인하고 있다.\n"
     ]
    }
   ],
   "source": [
    "# 최종 결과 출력\n",
    "print(refined_summary)\n"
   ]
  },
  {
   "cell_type": "markdown",
   "metadata": {},
   "source": [
    "SQL"
   ]
  },
  {
   "cell_type": "code",
   "execution_count": 44,
   "metadata": {},
   "outputs": [
    {
     "name": "stdout",
     "output_type": "stream",
     "text": [
      "sqlite\n",
      "['accounts', 'customers', 'transactions']\n"
     ]
    }
   ],
   "source": [
    "from langchain_openai import ChatOpenAI\n",
    "from langchain.chains import create_sql_query_chain\n",
    "from langchain_community.utilities import SQLDatabase\n",
    "\n",
    "# SQLite 데이터베이스에 연결합니다.\n",
    "db = SQLDatabase.from_uri(\"sqlite:///data/finance.db\")\n",
    "\n",
    "# 데이터베이스의을 출력합니다.\n",
    "print(db.dialect)\n",
    "\n",
    "# 사용 가능한 테이블 이름들을 출력합니다.\n",
    "print(db.get_usable_table_names())\n"
   ]
  },
  {
   "cell_type": "code",
   "execution_count": 45,
   "metadata": {},
   "outputs": [],
   "source": [
    "# model 은 gpt-3.5-turbo 를 지정\n",
    "llm = ChatOpenAI(model=\"gpt-3.5-turbo\", temperature=0)\n",
    "\n",
    "# LLM 과 DB 를 매개변수로 입력하여 chain 을 생성합니다.\n",
    "chain = create_sql_query_chain(llm, db)\n"
   ]
  },
  {
   "cell_type": "code",
   "execution_count": 46,
   "metadata": {},
   "outputs": [],
   "source": [
    "from langchain_core.prompts import PromptTemplate\n",
    "\n",
    "prompt = PromptTemplate.from_template(\n",
    "    \"\"\"Given an input question, first create a syntactically correct {dialect} query to run, then look at the results of the query and return the answer. Unless the user specifies in his question a specific number of examples he wishes to obtain, always limit your query to at most {top_k} results. You can order the results by a relevant column to return the most interesting examples in the database.\n",
    "Use the following format:\n",
    "\n",
    "Question: \"Question here\"\n",
    "SQLQuery: \"SQL Query to run\"\n",
    "SQLResult: \"Result of the SQLQuery\"\n",
    "Answer: \"Final answer here\"\n",
    "\n",
    "Only use the following tables:\n",
    "{table_info}\n",
    "\n",
    "Here is the description of the columns in the tables:\n",
    "`cust`: customer name\n",
    "`prod`: product name\n",
    "`trans`: transaction date\n",
    "\n",
    "Question: {input}\"\"\"\n",
    ").partial(dialect=db.dialect)\n",
    "\n",
    "# model 은 gpt-3.5-turbo 를 지정\n",
    "llm = ChatOpenAI(model=\"gpt-3.5-turbo\", temperature=0)\n",
    "\n",
    "# LLM 과 DB 를 매개변수로 입력하여 chain 을 생성합니다.\n",
    "chain = create_sql_query_chain(llm, db, prompt)\n"
   ]
  },
  {
   "cell_type": "code",
   "execution_count": 47,
   "metadata": {},
   "outputs": [
    {
     "name": "stdout",
     "output_type": "stream",
     "text": [
      "'SELECT name\\nFROM customers'\n"
     ]
    }
   ],
   "source": [
    "# chain 을 실행하고 결과를 출력합니다.\n",
    "generated_sql_query = chain.invoke({\"question\": \"고객의 이름을 나열하세요\"})\n",
    "\n",
    "# 생성된 쿼리를 출력합니다.\n",
    "print(generated_sql_query.__repr__())\n"
   ]
  },
  {
   "cell_type": "code",
   "execution_count": 48,
   "metadata": {},
   "outputs": [],
   "source": [
    "from langchain_community.tools.sql_database.tool import QuerySQLDataBaseTool\n",
    "\n",
    "# 생성한 쿼리를 실행하기 위한 도구를 생성합니다.\n",
    "execute_query = QuerySQLDataBaseTool(db=db)\n"
   ]
  },
  {
   "cell_type": "code",
   "execution_count": 49,
   "metadata": {},
   "outputs": [
    {
     "data": {
      "text/plain": [
       "\"[('테디',), ('폴',), ('셜리',), ('민수',), ('지영',), ('은정',)]\""
      ]
     },
     "execution_count": 49,
     "metadata": {},
     "output_type": "execute_result"
    }
   ],
   "source": [
    "execute_query.invoke({\"query\": generated_sql_query})\n"
   ]
  },
  {
   "cell_type": "code",
   "execution_count": 50,
   "metadata": {},
   "outputs": [],
   "source": [
    "from langchain_community.tools.sql_database.tool import QuerySQLDataBaseTool\n",
    "\n",
    "# 도구\n",
    "execute_query = QuerySQLDataBaseTool(db=db)\n",
    "\n",
    "# SQL 쿼리 생성 체인\n",
    "write_query = create_sql_query_chain(llm, db)\n",
    "\n",
    "# 생성한 쿼리를 실행하기 위한 체인을 생성합니다.\n",
    "chain = write_query | execute_query\n"
   ]
  },
  {
   "cell_type": "code",
   "execution_count": 51,
   "metadata": {},
   "outputs": [
    {
     "data": {
      "text/plain": [
       "\"[('teddy@example.com',)]\""
      ]
     },
     "execution_count": 51,
     "metadata": {},
     "output_type": "execute_result"
    }
   ],
   "source": [
    "# 실행 결과 확인\n",
    "chain.invoke({\"question\": \"테디의 이메일을 조회하세요\"})\n"
   ]
  },
  {
   "cell_type": "code",
   "execution_count": 52,
   "metadata": {},
   "outputs": [],
   "source": [
    "from operator import itemgetter\n",
    "from langchain_core.output_parsers import StrOutputParser\n",
    "from langchain_core.prompts import PromptTemplate\n",
    "from langchain_core.runnables import RunnablePassthrough\n",
    "\n",
    "answer_prompt = PromptTemplate.from_template(\n",
    "    \"\"\"Given the following user question, corresponding SQL query, and SQL result, answer the user question.\n",
    "\n",
    "Question: {question}\n",
    "SQL Query: {query}\n",
    "SQL Result: {result}\n",
    "Answer: \"\"\"\n",
    ")\n",
    "\n",
    "answer = answer_prompt | llm | StrOutputParser()\n",
    "\n",
    "# 생성한 쿼리를 실행하고 결과를 출력하기 위한 체인을 생성합니다.\n",
    "chain = (\n",
    "    RunnablePassthrough.assign(query=write_query).assign(\n",
    "        result=itemgetter(\"query\") | execute_query\n",
    "    )\n",
    "    | answer\n",
    ")\n"
   ]
  },
  {
   "cell_type": "code",
   "execution_count": 53,
   "metadata": {},
   "outputs": [
    {
     "data": {
      "text/plain": [
       "'테디의 transaction의 합계는 -965.7 입니다.'"
      ]
     },
     "execution_count": 53,
     "metadata": {},
     "output_type": "execute_result"
    }
   ],
   "source": [
    "# 실행 결과 확인\n",
    "chain.invoke({\"question\": \"테디의 transaction 의 합계를 구하세요\"})\n"
   ]
  },
  {
   "cell_type": "code",
   "execution_count": 54,
   "metadata": {},
   "outputs": [],
   "source": [
    "from langchain_openai import ChatOpenAI\n",
    "from langchain_community.utilities import SQLDatabase\n",
    "from langchain_community.agent_toolkits import create_sql_agent\n",
    "\n",
    "# model 은 gpt-3.5-turbo 를 지정\n",
    "llm = ChatOpenAI(model=\"gpt-3.5-turbo\", temperature=0)\n",
    "\n",
    "# SQLite 데이터베이스에 연결합니다.\n",
    "db = SQLDatabase.from_uri(\"sqlite:///data/finance.db\")\n",
    "\n",
    "# Agent 생성\n",
    "agent_executor = create_sql_agent(llm, db=db, agent_type=\"openai-tools\", verbose=True)\n"
   ]
  },
  {
   "cell_type": "code",
   "execution_count": 55,
   "metadata": {},
   "outputs": [
    {
     "name": "stdout",
     "output_type": "stream",
     "text": [
      "\n",
      "\n",
      "\u001b[1m> Entering new SQL Agent Executor chain...\u001b[0m\n",
      "\u001b[32;1m\u001b[1;3m\n",
      "Invoking: `sql_db_list_tables` with `{}`\n",
      "\n",
      "\n",
      "\u001b[0m\u001b[38;5;200m\u001b[1;3maccounts, customers, transactions\u001b[0m\u001b[32;1m\u001b[1;3m\n",
      "Invoking: `sql_db_schema` with `{'table_names': 'transactions'}`\n",
      "\n",
      "\n",
      "\u001b[0m\u001b[33;1m\u001b[1;3m\n",
      "CREATE TABLE transactions (\n",
      "\ttransaction_id INTEGER, \n",
      "\taccount_id INTEGER, \n",
      "\tamount REAL, \n",
      "\ttransaction_date TEXT, \n",
      "\tPRIMARY KEY (transaction_id), \n",
      "\tFOREIGN KEY(account_id) REFERENCES accounts (account_id)\n",
      ")\n",
      "\n",
      "/*\n",
      "3 rows from transactions table:\n",
      "transaction_id\taccount_id\tamount\ttransaction_date\n",
      "1\t1\t74.79\t2024-07-13\n",
      "2\t1\t-224.1\t2024-05-13\n",
      "3\t1\t-128.9\t2024-01-25\n",
      "*/\u001b[0m\u001b[32;1m\u001b[1;3m\n",
      "Invoking: `sql_db_query` with `{'query': 'SELECT account_id, SUM(amount) AS total_amount FROM transactions WHERE account_id IN (1, 2) GROUP BY account_id'}`\n",
      "\n",
      "\n",
      "\u001b[0m\u001b[36;1m\u001b[1;3m[(1, -965.7), (2, 743.13)]\u001b[0m\u001b[32;1m\u001b[1;3m테디의 거래 합계는 -965.7이고, 셜리의 거래 합계는 743.13입니다.\u001b[0m\n",
      "\n",
      "\u001b[1m> Finished chain.\u001b[0m\n"
     ]
    },
    {
     "data": {
      "text/plain": [
       "{'input': '테디와 셜리의 transaction 의 합계를 구하고 비교하세요',\n",
       " 'output': '테디의 거래 합계는 -965.7이고, 셜리의 거래 합계는 743.13입니다.'}"
      ]
     },
     "execution_count": 55,
     "metadata": {},
     "output_type": "execute_result"
    }
   ],
   "source": [
    "# 실행 결과 확인\n",
    "agent_executor.invoke(\n",
    "    {\"input\": \"테디와 셜리의 transaction 의 합계를 구하고 비교하세요\"}\n",
    ")\n"
   ]
  },
  {
   "cell_type": "markdown",
   "metadata": {},
   "source": [
    "03. 구조화된 출력 체인(with_structered_output)"
   ]
  },
  {
   "cell_type": "code",
   "execution_count": 58,
   "metadata": {},
   "outputs": [],
   "source": [
    "from langchain.chains.openai_functions import create_structured_output_runnable\n",
    "from langchain_openai import ChatOpenAI\n",
    "from langchain_core.prompts import ChatPromptTemplate\n",
    "from langchain_core.pydantic_v1 import BaseModel, Field\n",
    "from typing import List\n",
    "\n",
    "\n",
    "class Quiz(BaseModel):\n",
    "    \"\"\"4지선다형 퀴즈의 정보를 추출합니다\"\"\"\n",
    "\n",
    "    question: str = Field(..., description=\"퀴즈의 질문\")\n",
    "    level: str = Field(\n",
    "        ..., description=\"퀴즈의 난이도를 나타냅니다. (쉬움, 보통, 어려움)\"\n",
    "    )\n",
    "    options: List[str] = Field(..., description=\"퀴즈의 4개의 선택지 입니다.\")\n",
    "\n",
    "\n",
    "llm = ChatOpenAI(model=\"gpt-4.1\", temperature=0.1)\n",
    "prompt = ChatPromptTemplate.from_messages(\n",
    "    [\n",
    "        (\n",
    "            \"system\",\n",
    "            \"You're a world-famous quizzer and generates quizzes in structured formats.\",\n",
    "        ),\n",
    "        (\n",
    "            \"human\",\n",
    "            \"TOPIC 에 제시된 내용과 관련한 4지선다형 퀴즈를 출제해 주세요. 만약, 실제 출제된 기출문제가 있다면 비슷한 문제를 만들어 출제하세요.\"\n",
    "            \"단, 문제에 TOPIC 에 대한 내용이나 정보는 포함하지 마세요. \\nTOPIC:\\n{topic}\",\n",
    "        ),\n",
    "        (\"human\", \"Tip: Make sure to answer in the correct format\"),\n",
    "    ]\n",
    ")\n",
    "\n",
    "# 구조화된 출력을 위한 모델 생성\n",
    "llm_with_structured_output = llm.with_structured_output(Quiz)\n",
    "\n",
    "# 퀴즈 생성 체인 생성\n",
    "chain = prompt | llm_with_structured_output\n"
   ]
  },
  {
   "cell_type": "code",
   "execution_count": 59,
   "metadata": {},
   "outputs": [],
   "source": [
    "# 퀴즈 생성을 요청합니다.\n",
    "generated_quiz = chain.invoke({\"topic\": \"ADSP(데이터 분석 준전문가) 자격 시험\"})\n"
   ]
  },
  {
   "cell_type": "code",
   "execution_count": 60,
   "metadata": {},
   "outputs": [
    {
     "name": "stdout",
     "output_type": "stream",
     "text": [
      "다음 중 데이터 분석 과정에서 가장 먼저 수행해야 하는 단계는 무엇인가요? (난이도: 쉬움)\n",
      "\n",
      "1) 문제 정의\n",
      "2) 데이터 시각화\n",
      "3) 모델 평가\n",
      "4) 결과 해석\n"
     ]
    }
   ],
   "source": [
    "# 생성된 퀴즈 출력\n",
    "print(f\"{generated_quiz.question} (난이도: {generated_quiz.level})\\n\")\n",
    "for i, opt in enumerate(generated_quiz.options):\n",
    "    print(f\"{i+1}) {opt}\")\n"
   ]
  },
  {
   "cell_type": "code",
   "execution_count": null,
   "metadata": {},
   "outputs": [],
   "source": []
  }
 ],
 "metadata": {
  "colab": {
   "authorship_tag": "ABX9TyMs2OSEsEhI+eP+P38efuYH",
   "provenance": []
  },
  "kernelspec": {
   "display_name": "Python 3 (ipykernel)",
   "language": "python",
   "name": "python3"
  },
  "language_info": {
   "codemirror_mode": {
    "name": "ipython",
    "version": 3
   },
   "file_extension": ".py",
   "mimetype": "text/x-python",
   "name": "python",
   "nbconvert_exporter": "python",
   "pygments_lexer": "ipython3",
   "version": "3.11.13"
  }
 },
 "nbformat": 4,
 "nbformat_minor": 4
}
