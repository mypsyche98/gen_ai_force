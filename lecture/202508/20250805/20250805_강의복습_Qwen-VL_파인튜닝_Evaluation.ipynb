{
 "cells": [
  {
   "cell_type": "markdown",
   "metadata": {
    "id": "bBharx7creFS"
   },
   "source": [
    "모듈 설치"
   ]
  },
  {
   "cell_type": "code",
   "execution_count": 1,
   "metadata": {
    "id": "Odip-LOmrIw3",
    "outputId": "5bbfc4c2-877e-4188-f55c-1fbdd7ddb599"
   },
   "outputs": [
    {
     "name": "stdout",
     "output_type": "stream",
     "text": [
      "Collecting git+https://github.com/huggingface/transformers\n",
      "  Cloning https://github.com/huggingface/transformers to /tmp/pip-req-build-0sqa0afi\n",
      "  Running command git clone --filter=blob:none --quiet https://github.com/huggingface/transformers /tmp/pip-req-build-0sqa0afi\n",
      "  Resolved https://github.com/huggingface/transformers to commit f4d57f2f0cdff0f63ee74a1f16f442dfaf525231\n",
      "  Installing build dependencies ... \u001b[?25ldone\n",
      "\u001b[?25h  Getting requirements to build wheel ... \u001b[?25ldone\n",
      "\u001b[?25h  Preparing metadata (pyproject.toml) ... \u001b[?25ldone\n",
      "\u001b[?25hCollecting accelerate\n",
      "  Downloading accelerate-1.10.0-py3-none-any.whl.metadata (19 kB)\n",
      "Requirement already satisfied: filelock in /usr/local/lib/python3.11/dist-packages (from transformers==4.56.0.dev0) (3.16.1)\n",
      "Collecting huggingface-hub<1.0,>=0.34.0 (from transformers==4.56.0.dev0)\n",
      "  Downloading huggingface_hub-0.34.4-py3-none-any.whl.metadata (14 kB)\n",
      "Requirement already satisfied: numpy>=1.17 in /usr/local/lib/python3.11/dist-packages (from transformers==4.56.0.dev0) (2.1.2)\n",
      "Requirement already satisfied: packaging>=20.0 in /usr/local/lib/python3.11/dist-packages (from transformers==4.56.0.dev0) (24.2)\n",
      "Requirement already satisfied: pyyaml>=5.1 in /usr/local/lib/python3.11/dist-packages (from transformers==4.56.0.dev0) (6.0.2)\n",
      "Collecting regex!=2019.12.17 (from transformers==4.56.0.dev0)\n",
      "  Downloading regex-2025.7.34-cp311-cp311-manylinux2014_x86_64.manylinux_2_17_x86_64.manylinux_2_28_x86_64.whl.metadata (40 kB)\n",
      "Requirement already satisfied: requests in /usr/local/lib/python3.11/dist-packages (from transformers==4.56.0.dev0) (2.32.3)\n",
      "Collecting tokenizers<0.22,>=0.21 (from transformers==4.56.0.dev0)\n",
      "  Downloading tokenizers-0.21.4-cp39-abi3-manylinux_2_17_x86_64.manylinux2014_x86_64.whl.metadata (6.7 kB)\n",
      "Collecting safetensors>=0.4.3 (from transformers==4.56.0.dev0)\n",
      "  Downloading safetensors-0.6.2-cp38-abi3-manylinux_2_17_x86_64.manylinux2014_x86_64.whl.metadata (4.1 kB)\n",
      "Collecting tqdm>=4.27 (from transformers==4.56.0.dev0)\n",
      "  Downloading tqdm-4.67.1-py3-none-any.whl.metadata (57 kB)\n",
      "Requirement already satisfied: psutil in /usr/local/lib/python3.11/dist-packages (from accelerate) (7.0.0)\n",
      "Requirement already satisfied: torch>=2.0.0 in /usr/local/lib/python3.11/dist-packages (from accelerate) (2.8.0.dev20250319+cu128)\n",
      "Requirement already satisfied: fsspec>=2023.5.0 in /usr/local/lib/python3.11/dist-packages (from huggingface-hub<1.0,>=0.34.0->transformers==4.56.0.dev0) (2024.10.0)\n",
      "Requirement already satisfied: typing-extensions>=3.7.4.3 in /usr/local/lib/python3.11/dist-packages (from huggingface-hub<1.0,>=0.34.0->transformers==4.56.0.dev0) (4.12.2)\n",
      "Collecting hf-xet<2.0.0,>=1.1.3 (from huggingface-hub<1.0,>=0.34.0->transformers==4.56.0.dev0)\n",
      "  Downloading hf_xet-1.1.7-cp37-abi3-manylinux_2_17_x86_64.manylinux2014_x86_64.whl.metadata (703 bytes)\n",
      "Requirement already satisfied: sympy>=1.13.3 in /usr/local/lib/python3.11/dist-packages (from torch>=2.0.0->accelerate) (1.13.3)\n",
      "Requirement already satisfied: networkx in /usr/local/lib/python3.11/dist-packages (from torch>=2.0.0->accelerate) (3.4.2)\n",
      "Requirement already satisfied: jinja2 in /usr/local/lib/python3.11/dist-packages (from torch>=2.0.0->accelerate) (3.1.4)\n",
      "Requirement already satisfied: nvidia-cuda-nvrtc-cu12==12.8.61 in /usr/local/lib/python3.11/dist-packages (from torch>=2.0.0->accelerate) (12.8.61)\n",
      "Requirement already satisfied: nvidia-cuda-runtime-cu12==12.8.57 in /usr/local/lib/python3.11/dist-packages (from torch>=2.0.0->accelerate) (12.8.57)\n",
      "Requirement already satisfied: nvidia-cuda-cupti-cu12==12.8.57 in /usr/local/lib/python3.11/dist-packages (from torch>=2.0.0->accelerate) (12.8.57)\n",
      "Requirement already satisfied: nvidia-cudnn-cu12==9.8.0.87 in /usr/local/lib/python3.11/dist-packages (from torch>=2.0.0->accelerate) (9.8.0.87)\n",
      "Requirement already satisfied: nvidia-cublas-cu12==12.8.3.14 in /usr/local/lib/python3.11/dist-packages (from torch>=2.0.0->accelerate) (12.8.3.14)\n",
      "Requirement already satisfied: nvidia-cufft-cu12==11.3.3.41 in /usr/local/lib/python3.11/dist-packages (from torch>=2.0.0->accelerate) (11.3.3.41)\n",
      "Requirement already satisfied: nvidia-curand-cu12==10.3.9.55 in /usr/local/lib/python3.11/dist-packages (from torch>=2.0.0->accelerate) (10.3.9.55)\n",
      "Requirement already satisfied: nvidia-cusolver-cu12==11.7.2.55 in /usr/local/lib/python3.11/dist-packages (from torch>=2.0.0->accelerate) (11.7.2.55)\n",
      "Requirement already satisfied: nvidia-cusparse-cu12==12.5.7.53 in /usr/local/lib/python3.11/dist-packages (from torch>=2.0.0->accelerate) (12.5.7.53)\n",
      "Requirement already satisfied: nvidia-cusparselt-cu12==0.6.3 in /usr/local/lib/python3.11/dist-packages (from torch>=2.0.0->accelerate) (0.6.3)\n",
      "Requirement already satisfied: nvidia-nccl-cu12==2.25.1 in /usr/local/lib/python3.11/dist-packages (from torch>=2.0.0->accelerate) (2.25.1)\n",
      "Requirement already satisfied: nvidia-nvtx-cu12==12.8.55 in /usr/local/lib/python3.11/dist-packages (from torch>=2.0.0->accelerate) (12.8.55)\n",
      "Requirement already satisfied: nvidia-nvjitlink-cu12==12.8.61 in /usr/local/lib/python3.11/dist-packages (from torch>=2.0.0->accelerate) (12.8.61)\n",
      "Requirement already satisfied: nvidia-cufile-cu12==1.13.0.11 in /usr/local/lib/python3.11/dist-packages (from torch>=2.0.0->accelerate) (1.13.0.11)\n",
      "Requirement already satisfied: pytorch-triton==3.3.0+git96316ce5 in /usr/local/lib/python3.11/dist-packages (from torch>=2.0.0->accelerate) (3.3.0+git96316ce5)\n",
      "Requirement already satisfied: setuptools>=40.8.0 in /usr/local/lib/python3.11/dist-packages (from pytorch-triton==3.3.0+git96316ce5->torch>=2.0.0->accelerate) (77.0.1)\n",
      "Requirement already satisfied: charset-normalizer<4,>=2 in /usr/local/lib/python3.11/dist-packages (from requests->transformers==4.56.0.dev0) (3.4.1)\n",
      "Requirement already satisfied: idna<4,>=2.5 in /usr/local/lib/python3.11/dist-packages (from requests->transformers==4.56.0.dev0) (3.10)\n",
      "Requirement already satisfied: urllib3<3,>=1.21.1 in /usr/local/lib/python3.11/dist-packages (from requests->transformers==4.56.0.dev0) (2.3.0)\n",
      "Requirement already satisfied: certifi>=2017.4.17 in /usr/local/lib/python3.11/dist-packages (from requests->transformers==4.56.0.dev0) (2025.1.31)\n",
      "Requirement already satisfied: mpmath<1.4,>=1.1.0 in /usr/local/lib/python3.11/dist-packages (from sympy>=1.13.3->torch>=2.0.0->accelerate) (1.3.0)\n",
      "Requirement already satisfied: MarkupSafe>=2.0 in /usr/local/lib/python3.11/dist-packages (from jinja2->torch>=2.0.0->accelerate) (2.1.5)\n",
      "Downloading accelerate-1.10.0-py3-none-any.whl (374 kB)\n",
      "Downloading huggingface_hub-0.34.4-py3-none-any.whl (561 kB)\n",
      "\u001b[2K   \u001b[90m━━━━━━━━━━━━━━━━━━━━━━━━━━━━━━━━━━━━━━━\u001b[0m \u001b[32m561.5/561.5 kB\u001b[0m \u001b[31m131.0 MB/s\u001b[0m eta \u001b[36m0:00:00\u001b[0m\n",
      "\u001b[?25hDownloading regex-2025.7.34-cp311-cp311-manylinux2014_x86_64.manylinux_2_17_x86_64.manylinux_2_28_x86_64.whl (798 kB)\n",
      "\u001b[2K   \u001b[90m━━━━━━━━━━━━━━━━━━━━━━━━━━━━━━━━━━━━━━━\u001b[0m \u001b[32m798.9/798.9 kB\u001b[0m \u001b[31m215.6 MB/s\u001b[0m eta \u001b[36m0:00:00\u001b[0m\n",
      "\u001b[?25hDownloading safetensors-0.6.2-cp38-abi3-manylinux_2_17_x86_64.manylinux2014_x86_64.whl (485 kB)\n",
      "Downloading tokenizers-0.21.4-cp39-abi3-manylinux_2_17_x86_64.manylinux2014_x86_64.whl (3.1 MB)\n",
      "\u001b[2K   \u001b[90m━━━━━━━━━━━━━━━━━━━━━━━━━━━━━━━━━━━━━━━━\u001b[0m \u001b[32m3.1/3.1 MB\u001b[0m \u001b[31m99.0 MB/s\u001b[0m eta \u001b[36m0:00:00\u001b[0m\n",
      "\u001b[?25hDownloading tqdm-4.67.1-py3-none-any.whl (78 kB)\n",
      "Downloading hf_xet-1.1.7-cp37-abi3-manylinux_2_17_x86_64.manylinux2014_x86_64.whl (3.2 MB)\n",
      "\u001b[2K   \u001b[90m━━━━━━━━━━━━━━━━━━━━━━━━━━━━━━━━━━━━━━━━\u001b[0m \u001b[32m3.2/3.2 MB\u001b[0m \u001b[31m243.2 MB/s\u001b[0m eta \u001b[36m0:00:00\u001b[0m\n",
      "\u001b[?25hBuilding wheels for collected packages: transformers\n",
      "  Building wheel for transformers (pyproject.toml) ... \u001b[?25ldone\n",
      "\u001b[?25h  Created wheel for transformers: filename=transformers-4.56.0.dev0-py3-none-any.whl size=12261147 sha256=31ff1ddb0966328258a8ef84a3d817caabc43331405657c8dd6aa580d602d0b4\n",
      "  Stored in directory: /tmp/pip-ephem-wheel-cache-0qilsrpw/wheels/04/a3/f1/b88775f8e1665827525b19ac7590250f1038d947067beba9fb\n",
      "Successfully built transformers\n",
      "Installing collected packages: tqdm, safetensors, regex, hf-xet, huggingface-hub, tokenizers, transformers, accelerate\n",
      "Successfully installed accelerate-1.10.0 hf-xet-1.1.7 huggingface-hub-0.34.4 regex-2025.7.34 safetensors-0.6.2 tokenizers-0.21.4 tqdm-4.67.1 transformers-4.56.0.dev0\n",
      "\u001b[33mWARNING: Running pip as the 'root' user can result in broken permissions and conflicting behaviour with the system package manager, possibly rendering your system unusable. It is recommended to use a virtual environment instead: https://pip.pypa.io/warnings/venv. Use the --root-user-action option if you know what you are doing and want to suppress this warning.\u001b[0m\u001b[33m\n",
      "\u001b[0m\n",
      "\u001b[1m[\u001b[0m\u001b[34;49mnotice\u001b[0m\u001b[1;39;49m]\u001b[0m\u001b[39;49m A new release of pip is available: \u001b[0m\u001b[31;49m25.0.1\u001b[0m\u001b[39;49m -> \u001b[0m\u001b[32;49m25.2\u001b[0m\n",
      "\u001b[1m[\u001b[0m\u001b[34;49mnotice\u001b[0m\u001b[1;39;49m]\u001b[0m\u001b[39;49m To update, run: \u001b[0m\u001b[32;49mpython -m pip install --upgrade pip\u001b[0m\n"
     ]
    }
   ],
   "source": [
    "!pip install git+https://github.com/huggingface/transformers accelerate"
   ]
  },
  {
   "cell_type": "code",
   "execution_count": 2,
   "metadata": {
    "id": "-CCOjbPsrJux",
    "outputId": "e8e7bc17-6bee-4bed-be5d-bcad7f2143d9"
   },
   "outputs": [
    {
     "name": "stdout",
     "output_type": "stream",
     "text": [
      "Collecting qwen_vl_utils\n",
      "  Downloading qwen_vl_utils-0.0.11-py3-none-any.whl.metadata (6.3 kB)\n",
      "Collecting av (from qwen_vl_utils)\n",
      "  Downloading av-15.0.0-cp311-cp311-manylinux_2_28_x86_64.whl.metadata (4.6 kB)\n",
      "Requirement already satisfied: packaging in /usr/local/lib/python3.11/dist-packages (from qwen_vl_utils) (24.2)\n",
      "Requirement already satisfied: pillow in /usr/local/lib/python3.11/dist-packages (from qwen_vl_utils) (11.0.0)\n",
      "Requirement already satisfied: requests in /usr/local/lib/python3.11/dist-packages (from qwen_vl_utils) (2.32.3)\n",
      "Requirement already satisfied: charset-normalizer<4,>=2 in /usr/local/lib/python3.11/dist-packages (from requests->qwen_vl_utils) (3.4.1)\n",
      "Requirement already satisfied: idna<4,>=2.5 in /usr/local/lib/python3.11/dist-packages (from requests->qwen_vl_utils) (3.10)\n",
      "Requirement already satisfied: urllib3<3,>=1.21.1 in /usr/local/lib/python3.11/dist-packages (from requests->qwen_vl_utils) (2.3.0)\n",
      "Requirement already satisfied: certifi>=2017.4.17 in /usr/local/lib/python3.11/dist-packages (from requests->qwen_vl_utils) (2025.1.31)\n",
      "Downloading qwen_vl_utils-0.0.11-py3-none-any.whl (7.6 kB)\n",
      "Downloading av-15.0.0-cp311-cp311-manylinux_2_28_x86_64.whl (39.7 MB)\n",
      "\u001b[2K   \u001b[90m━━━━━━━━━━━━━━━━━━━━━━━━━━━━━━━━━━━━━━━━\u001b[0m \u001b[32m39.7/39.7 MB\u001b[0m \u001b[31m249.3 MB/s\u001b[0m eta \u001b[36m0:00:00\u001b[0m\n",
      "\u001b[?25hInstalling collected packages: av, qwen_vl_utils\n",
      "Successfully installed av-15.0.0 qwen_vl_utils-0.0.11\n",
      "\u001b[33mWARNING: Running pip as the 'root' user can result in broken permissions and conflicting behaviour with the system package manager, possibly rendering your system unusable. It is recommended to use a virtual environment instead: https://pip.pypa.io/warnings/venv. Use the --root-user-action option if you know what you are doing and want to suppress this warning.\u001b[0m\u001b[33m\n",
      "\u001b[0m\n",
      "\u001b[1m[\u001b[0m\u001b[34;49mnotice\u001b[0m\u001b[1;39;49m]\u001b[0m\u001b[39;49m A new release of pip is available: \u001b[0m\u001b[31;49m25.0.1\u001b[0m\u001b[39;49m -> \u001b[0m\u001b[32;49m25.2\u001b[0m\n",
      "\u001b[1m[\u001b[0m\u001b[34;49mnotice\u001b[0m\u001b[1;39;49m]\u001b[0m\u001b[39;49m To update, run: \u001b[0m\u001b[32;49mpython -m pip install --upgrade pip\u001b[0m\n"
     ]
    }
   ],
   "source": [
    "!pip install qwen_vl_utils"
   ]
  },
  {
   "cell_type": "markdown",
   "metadata": {
    "id": "gJX0rM82rgZ7"
   },
   "source": [
    "import"
   ]
  },
  {
   "cell_type": "code",
   "execution_count": 3,
   "metadata": {
    "id": "VsphWib77FDe",
    "outputId": "644bcdb6-bf32-48c4-9d1a-72fe8386a2c0"
   },
   "outputs": [
    {
     "name": "stdout",
     "output_type": "stream",
     "text": [
      "Collecting datasets\n",
      "  Downloading datasets-4.0.0-py3-none-any.whl.metadata (19 kB)\n",
      "Requirement already satisfied: filelock in /usr/local/lib/python3.11/dist-packages (from datasets) (3.16.1)\n",
      "Requirement already satisfied: numpy>=1.17 in /usr/local/lib/python3.11/dist-packages (from datasets) (2.1.2)\n",
      "Collecting pyarrow>=15.0.0 (from datasets)\n",
      "  Downloading pyarrow-21.0.0-cp311-cp311-manylinux_2_28_x86_64.whl.metadata (3.3 kB)\n",
      "Collecting dill<0.3.9,>=0.3.0 (from datasets)\n",
      "  Downloading dill-0.3.8-py3-none-any.whl.metadata (10 kB)\n",
      "Collecting pandas (from datasets)\n",
      "  Downloading pandas-2.3.1-cp311-cp311-manylinux_2_17_x86_64.manylinux2014_x86_64.whl.metadata (91 kB)\n",
      "Requirement already satisfied: requests>=2.32.2 in /usr/local/lib/python3.11/dist-packages (from datasets) (2.32.3)\n",
      "Requirement already satisfied: tqdm>=4.66.3 in /usr/local/lib/python3.11/dist-packages (from datasets) (4.67.1)\n",
      "Collecting xxhash (from datasets)\n",
      "  Downloading xxhash-3.5.0-cp311-cp311-manylinux_2_17_x86_64.manylinux2014_x86_64.whl.metadata (12 kB)\n",
      "Collecting multiprocess<0.70.17 (from datasets)\n",
      "  Downloading multiprocess-0.70.16-py311-none-any.whl.metadata (7.2 kB)\n",
      "Requirement already satisfied: fsspec<=2025.3.0,>=2023.1.0 in /usr/local/lib/python3.11/dist-packages (from fsspec[http]<=2025.3.0,>=2023.1.0->datasets) (2024.10.0)\n",
      "Requirement already satisfied: huggingface-hub>=0.24.0 in /usr/local/lib/python3.11/dist-packages (from datasets) (0.34.4)\n",
      "Requirement already satisfied: packaging in /usr/local/lib/python3.11/dist-packages (from datasets) (24.2)\n",
      "Requirement already satisfied: pyyaml>=5.1 in /usr/local/lib/python3.11/dist-packages (from datasets) (6.0.2)\n",
      "Collecting aiohttp!=4.0.0a0,!=4.0.0a1 (from fsspec[http]<=2025.3.0,>=2023.1.0->datasets)\n",
      "  Downloading aiohttp-3.12.15-cp311-cp311-manylinux_2_17_x86_64.manylinux2014_x86_64.whl.metadata (7.7 kB)\n",
      "Requirement already satisfied: typing-extensions>=3.7.4.3 in /usr/local/lib/python3.11/dist-packages (from huggingface-hub>=0.24.0->datasets) (4.12.2)\n",
      "Requirement already satisfied: hf-xet<2.0.0,>=1.1.3 in /usr/local/lib/python3.11/dist-packages (from huggingface-hub>=0.24.0->datasets) (1.1.7)\n",
      "Requirement already satisfied: charset-normalizer<4,>=2 in /usr/local/lib/python3.11/dist-packages (from requests>=2.32.2->datasets) (3.4.1)\n",
      "Requirement already satisfied: idna<4,>=2.5 in /usr/local/lib/python3.11/dist-packages (from requests>=2.32.2->datasets) (3.10)\n",
      "Requirement already satisfied: urllib3<3,>=1.21.1 in /usr/local/lib/python3.11/dist-packages (from requests>=2.32.2->datasets) (2.3.0)\n",
      "Requirement already satisfied: certifi>=2017.4.17 in /usr/local/lib/python3.11/dist-packages (from requests>=2.32.2->datasets) (2025.1.31)\n",
      "Requirement already satisfied: python-dateutil>=2.8.2 in /usr/local/lib/python3.11/dist-packages (from pandas->datasets) (2.9.0.post0)\n",
      "Collecting pytz>=2020.1 (from pandas->datasets)\n",
      "  Downloading pytz-2025.2-py2.py3-none-any.whl.metadata (22 kB)\n",
      "Collecting tzdata>=2022.7 (from pandas->datasets)\n",
      "  Downloading tzdata-2025.2-py2.py3-none-any.whl.metadata (1.4 kB)\n",
      "Collecting aiohappyeyeballs>=2.5.0 (from aiohttp!=4.0.0a0,!=4.0.0a1->fsspec[http]<=2025.3.0,>=2023.1.0->datasets)\n",
      "  Downloading aiohappyeyeballs-2.6.1-py3-none-any.whl.metadata (5.9 kB)\n",
      "Collecting aiosignal>=1.4.0 (from aiohttp!=4.0.0a0,!=4.0.0a1->fsspec[http]<=2025.3.0,>=2023.1.0->datasets)\n",
      "  Downloading aiosignal-1.4.0-py3-none-any.whl.metadata (3.7 kB)\n",
      "Requirement already satisfied: attrs>=17.3.0 in /usr/local/lib/python3.11/dist-packages (from aiohttp!=4.0.0a0,!=4.0.0a1->fsspec[http]<=2025.3.0,>=2023.1.0->datasets) (25.3.0)\n",
      "Collecting frozenlist>=1.1.1 (from aiohttp!=4.0.0a0,!=4.0.0a1->fsspec[http]<=2025.3.0,>=2023.1.0->datasets)\n",
      "  Downloading frozenlist-1.7.0-cp311-cp311-manylinux_2_5_x86_64.manylinux1_x86_64.manylinux_2_17_x86_64.manylinux2014_x86_64.whl.metadata (18 kB)\n",
      "Collecting multidict<7.0,>=4.5 (from aiohttp!=4.0.0a0,!=4.0.0a1->fsspec[http]<=2025.3.0,>=2023.1.0->datasets)\n",
      "  Downloading multidict-6.6.3-cp311-cp311-manylinux2014_x86_64.manylinux_2_17_x86_64.manylinux_2_28_x86_64.whl.metadata (5.3 kB)\n",
      "Collecting propcache>=0.2.0 (from aiohttp!=4.0.0a0,!=4.0.0a1->fsspec[http]<=2025.3.0,>=2023.1.0->datasets)\n",
      "  Downloading propcache-0.3.2-cp311-cp311-manylinux_2_17_x86_64.manylinux2014_x86_64.whl.metadata (12 kB)\n",
      "Collecting yarl<2.0,>=1.17.0 (from aiohttp!=4.0.0a0,!=4.0.0a1->fsspec[http]<=2025.3.0,>=2023.1.0->datasets)\n",
      "  Downloading yarl-1.20.1-cp311-cp311-manylinux_2_17_x86_64.manylinux2014_x86_64.whl.metadata (73 kB)\n",
      "Requirement already satisfied: six>=1.5 in /usr/lib/python3/dist-packages (from python-dateutil>=2.8.2->pandas->datasets) (1.16.0)\n",
      "Downloading datasets-4.0.0-py3-none-any.whl (494 kB)\n",
      "Downloading dill-0.3.8-py3-none-any.whl (116 kB)\n",
      "Downloading multiprocess-0.70.16-py311-none-any.whl (143 kB)\n",
      "Downloading pyarrow-21.0.0-cp311-cp311-manylinux_2_28_x86_64.whl (42.8 MB)\n",
      "\u001b[2K   \u001b[90m━━━━━━━━━━━━━━━━━━━━━━━━━━━━━━━━━━━━━━━━\u001b[0m \u001b[32m42.8/42.8 MB\u001b[0m \u001b[31m636.2 MB/s\u001b[0m eta \u001b[36m0:00:00\u001b[0m\n",
      "\u001b[?25hDownloading pandas-2.3.1-cp311-cp311-manylinux_2_17_x86_64.manylinux2014_x86_64.whl (12.4 MB)\n",
      "\u001b[2K   \u001b[90m━━━━━━━━━━━━━━━━━━━━━━━━━━━━━━━━━━━━━━━━\u001b[0m \u001b[32m12.4/12.4 MB\u001b[0m \u001b[31m595.8 MB/s\u001b[0m eta \u001b[36m0:00:00\u001b[0m\n",
      "\u001b[?25hDownloading xxhash-3.5.0-cp311-cp311-manylinux_2_17_x86_64.manylinux2014_x86_64.whl (194 kB)\n",
      "Downloading aiohttp-3.12.15-cp311-cp311-manylinux_2_17_x86_64.manylinux2014_x86_64.whl (1.7 MB)\n",
      "\u001b[2K   \u001b[90m━━━━━━━━━━━━━━━━━━━━━━━━━━━━━━━━━━━━━━━━\u001b[0m \u001b[32m1.7/1.7 MB\u001b[0m \u001b[31m407.2 MB/s\u001b[0m eta \u001b[36m0:00:00\u001b[0m\n",
      "\u001b[?25hDownloading pytz-2025.2-py2.py3-none-any.whl (509 kB)\n",
      "Downloading tzdata-2025.2-py2.py3-none-any.whl (347 kB)\n",
      "Downloading aiohappyeyeballs-2.6.1-py3-none-any.whl (15 kB)\n",
      "Downloading aiosignal-1.4.0-py3-none-any.whl (7.5 kB)\n",
      "Downloading frozenlist-1.7.0-cp311-cp311-manylinux_2_5_x86_64.manylinux1_x86_64.manylinux_2_17_x86_64.manylinux2014_x86_64.whl (235 kB)\n",
      "Downloading multidict-6.6.3-cp311-cp311-manylinux2014_x86_64.manylinux_2_17_x86_64.manylinux_2_28_x86_64.whl (246 kB)\n",
      "Downloading propcache-0.3.2-cp311-cp311-manylinux_2_17_x86_64.manylinux2014_x86_64.whl (213 kB)\n",
      "Downloading yarl-1.20.1-cp311-cp311-manylinux_2_17_x86_64.manylinux2014_x86_64.whl (348 kB)\n",
      "Installing collected packages: pytz, xxhash, tzdata, pyarrow, propcache, multidict, frozenlist, dill, aiohappyeyeballs, yarl, pandas, multiprocess, aiosignal, aiohttp, datasets\n",
      "Successfully installed aiohappyeyeballs-2.6.1 aiohttp-3.12.15 aiosignal-1.4.0 datasets-4.0.0 dill-0.3.8 frozenlist-1.7.0 multidict-6.6.3 multiprocess-0.70.16 pandas-2.3.1 propcache-0.3.2 pyarrow-21.0.0 pytz-2025.2 tzdata-2025.2 xxhash-3.5.0 yarl-1.20.1\n",
      "\u001b[33mWARNING: Running pip as the 'root' user can result in broken permissions and conflicting behaviour with the system package manager, possibly rendering your system unusable. It is recommended to use a virtual environment instead: https://pip.pypa.io/warnings/venv. Use the --root-user-action option if you know what you are doing and want to suppress this warning.\u001b[0m\u001b[33m\n",
      "\u001b[0m\n",
      "\u001b[1m[\u001b[0m\u001b[34;49mnotice\u001b[0m\u001b[1;39;49m]\u001b[0m\u001b[39;49m A new release of pip is available: \u001b[0m\u001b[31;49m25.0.1\u001b[0m\u001b[39;49m -> \u001b[0m\u001b[32;49m25.2\u001b[0m\n",
      "\u001b[1m[\u001b[0m\u001b[34;49mnotice\u001b[0m\u001b[1;39;49m]\u001b[0m\u001b[39;49m To update, run: \u001b[0m\u001b[32;49mpython -m pip install --upgrade pip\u001b[0m\n",
      "Collecting scikit-learn\n",
      "  Downloading scikit_learn-1.7.1-cp311-cp311-manylinux2014_x86_64.manylinux_2_17_x86_64.whl.metadata (11 kB)\n",
      "Requirement already satisfied: numpy>=1.22.0 in /usr/local/lib/python3.11/dist-packages (from scikit-learn) (2.1.2)\n",
      "Collecting scipy>=1.8.0 (from scikit-learn)\n",
      "  Downloading scipy-1.16.1-cp311-cp311-manylinux2014_x86_64.manylinux_2_17_x86_64.whl.metadata (61 kB)\n",
      "Collecting joblib>=1.2.0 (from scikit-learn)\n",
      "  Downloading joblib-1.5.1-py3-none-any.whl.metadata (5.6 kB)\n",
      "Collecting threadpoolctl>=3.1.0 (from scikit-learn)\n",
      "  Downloading threadpoolctl-3.6.0-py3-none-any.whl.metadata (13 kB)\n",
      "Downloading scikit_learn-1.7.1-cp311-cp311-manylinux2014_x86_64.manylinux_2_17_x86_64.whl (9.7 MB)\n",
      "\u001b[2K   \u001b[90m━━━━━━━━━━━━━━━━━━━━━━━━━━━━━━━━━━━━━━━━\u001b[0m \u001b[32m9.7/9.7 MB\u001b[0m \u001b[31m262.8 MB/s\u001b[0m eta \u001b[36m0:00:00\u001b[0m\n",
      "\u001b[?25hDownloading joblib-1.5.1-py3-none-any.whl (307 kB)\n",
      "Downloading scipy-1.16.1-cp311-cp311-manylinux2014_x86_64.manylinux_2_17_x86_64.whl (35.4 MB)\n",
      "\u001b[2K   \u001b[90m━━━━━━━━━━━━━━━━━━━━━━━━━━━━━━━━━━━━━━━━\u001b[0m \u001b[32m35.4/35.4 MB\u001b[0m \u001b[31m624.0 MB/s\u001b[0m eta \u001b[36m0:00:00\u001b[0m\n",
      "\u001b[?25hDownloading threadpoolctl-3.6.0-py3-none-any.whl (18 kB)\n",
      "Installing collected packages: threadpoolctl, scipy, joblib, scikit-learn\n",
      "Successfully installed joblib-1.5.1 scikit-learn-1.7.1 scipy-1.16.1 threadpoolctl-3.6.0\n",
      "\u001b[33mWARNING: Running pip as the 'root' user can result in broken permissions and conflicting behaviour with the system package manager, possibly rendering your system unusable. It is recommended to use a virtual environment instead: https://pip.pypa.io/warnings/venv. Use the --root-user-action option if you know what you are doing and want to suppress this warning.\u001b[0m\u001b[33m\n",
      "\u001b[0m\n",
      "\u001b[1m[\u001b[0m\u001b[34;49mnotice\u001b[0m\u001b[1;39;49m]\u001b[0m\u001b[39;49m A new release of pip is available: \u001b[0m\u001b[31;49m25.0.1\u001b[0m\u001b[39;49m -> \u001b[0m\u001b[32;49m25.2\u001b[0m\n",
      "\u001b[1m[\u001b[0m\u001b[34;49mnotice\u001b[0m\u001b[1;39;49m]\u001b[0m\u001b[39;49m To update, run: \u001b[0m\u001b[32;49mpython -m pip install --upgrade pip\u001b[0m\n"
     ]
    }
   ],
   "source": [
    "!pip install datasets\n",
    "!pip install scikit-learn"
   ]
  },
  {
   "cell_type": "code",
   "execution_count": 4,
   "metadata": {
    "id": "1Zvf_3GtrPQq"
   },
   "outputs": [],
   "source": [
    "import io\n",
    "import json\n",
    "from PIL import Image\n",
    "from datasets import load_dataset\n",
    "from sklearn.model_selection import train_test_split\n",
    "from tqdm import tqdm\n",
    "#from IPython.display import display\n"
   ]
  },
  {
   "cell_type": "code",
   "execution_count": 5,
   "metadata": {
    "id": "PFDqKd3MrR_K"
   },
   "outputs": [],
   "source": [
    "from transformers import AutoProcessor, AutoModelForVision2Seq\n",
    "from qwen_vl_utils import process_vision_info\n",
    "import torch"
   ]
  },
  {
   "cell_type": "markdown",
   "metadata": {
    "id": "fBe8oOl7rYhE"
   },
   "source": [
    "검증용 데이터 로드"
   ]
  },
  {
   "cell_type": "code",
   "execution_count": 6,
   "metadata": {
    "colab": {
     "referenced_widgets": [
      "c62b40b014f7478a9318f4df33ff5a8f",
      "29e4ba527d0045a38c1b94e9a6b6ba21",
      "02a8dadbdb68473db3b7cf5abac366bd",
      "d41c7c9d763c4fefa454f3cbe231b022"
     ]
    },
    "id": "ecsGeHRWrXvR",
    "outputId": "f7268ac2-8457-46d8-a599-74c76b071795"
   },
   "outputs": [
    {
     "data": {
      "application/vnd.jupyter.widget-view+json": {
       "model_id": "0655ba8cf78e4b6eac22a9477b77d438",
       "version_major": 2,
       "version_minor": 0
      },
      "text/plain": [
       "README.md:   0%|          | 0.00/867 [00:00<?, ?B/s]"
      ]
     },
     "metadata": {},
     "output_type": "display_data"
    },
    {
     "data": {
      "application/vnd.jupyter.widget-view+json": {
       "model_id": "b0431555be4748858ae5a714b2a774de",
       "version_major": 2,
       "version_minor": 0
      },
      "text/plain": [
       "(…)-00000-of-00002-6cff4c59f91661c3.parquet:   0%|          | 0.00/136M [00:00<?, ?B/s]"
      ]
     },
     "metadata": {},
     "output_type": "display_data"
    },
    {
     "data": {
      "application/vnd.jupyter.widget-view+json": {
       "model_id": "15307594788a4ac69f7530aecb0d359c",
       "version_major": 2,
       "version_minor": 0
      },
      "text/plain": [
       "(…)-00001-of-00002-bb459e5ac5f01e71.parquet:   0%|          | 0.00/135M [00:00<?, ?B/s]"
      ]
     },
     "metadata": {},
     "output_type": "display_data"
    },
    {
     "data": {
      "application/vnd.jupyter.widget-view+json": {
       "model_id": "41283e9ca9d645d09e84a1686c01f886",
       "version_major": 2,
       "version_minor": 0
      },
      "text/plain": [
       "Generating train split:   0%|          | 0/44072 [00:00<?, ? examples/s]"
      ]
     },
     "metadata": {},
     "output_type": "display_data"
    }
   ],
   "source": [
    "dataset = load_dataset(\"ashraq/fashion-product-images-small\", split=\"train\")\n"
   ]
  },
  {
   "cell_type": "markdown",
   "metadata": {
    "id": "abiYQjJxrupK"
   },
   "source": [
    "검증용 데이터에서 Label정보를 추출하여 별도의 데이터로 추가"
   ]
  },
  {
   "cell_type": "code",
   "execution_count": 7,
   "metadata": {
    "id": "GUdUObnlrrYb"
   },
   "outputs": [],
   "source": [
    "def combine_cols_to_label(example):\n",
    "    # 실제 컬럼명에 맞게 수정\n",
    "    label_dict = {\n",
    "        \"gender\": example[\"gender\"],\n",
    "        \"masterCategory\": example[\"masterCategory\"],\n",
    "        \"subCategory\": example[\"subCategory\"],\n",
    "        \"season\": example[\"season\"],\n",
    "        \"usage\": example[\"usage\"],\n",
    "        \"baseColour\": example[\"baseColour\"],\n",
    "        \"articleType\": example[\"articleType\"],\n",
    "    }\n",
    "    example[\"label\"] = json.dumps(label_dict, ensure_ascii=False)\n",
    "    return example"
   ]
  },
  {
   "cell_type": "code",
   "execution_count": 8,
   "metadata": {
    "colab": {
     "referenced_widgets": [
      "d2669bd6657e42beadff8ce5b39b7b82"
     ]
    },
    "id": "qz5_JQYBrq-t",
    "outputId": "6ed7210d-1aaa-412e-f55a-cd6c2fed0b42"
   },
   "outputs": [
    {
     "data": {
      "application/vnd.jupyter.widget-view+json": {
       "model_id": "78f0350b0ace4752ac65d9970e9da7c4",
       "version_major": 2,
       "version_minor": 0
      },
      "text/plain": [
       "Map:   0%|          | 0/44072 [00:00<?, ? examples/s]"
      ]
     },
     "metadata": {},
     "output_type": "display_data"
    }
   ],
   "source": [
    "dataset_add_label = dataset.map(combine_cols_to_label)\n",
    "dataset_add_label = dataset_add_label.shuffle(seed=4242)"
   ]
  },
  {
   "cell_type": "markdown",
   "metadata": {
    "id": "QLAmTvuNsT7w"
   },
   "source": [
    "레이블 정보가 추가된 검증용 데이터에 대해서 system과 user prompt template를 추가하여 json 형식으로 변환"
   ]
  },
  {
   "cell_type": "code",
   "execution_count": 9,
   "metadata": {
    "id": "WeQt9SjJsQ60"
   },
   "outputs": [],
   "source": [
    "# 시스템(assistant)에게 주어진 역할\n",
    "system_message = \"당신은 이미지와 제품명(name)으로부터 패션/스타일 정보를 추론하는 분류 모델입니다.\"\n",
    "\n",
    "# 실제로 사용자 입력 -> 모델이 답해야 하는 프롬프트\n",
    "prompt = \"\"\"입력 정보:\n",
    "- name: {name}\n",
    "- image: [image]\n",
    "\n",
    "위 정보를 바탕으로, 아래 7가지 key에 대한 값을 JSON 형태로 추론해 주세요:\n",
    "1) gender\n",
    "2) masterCategory\n",
    "3) subCategory\n",
    "4) season\n",
    "5) usage\n",
    "6) baseColour\n",
    "7) articleType\n",
    "\n",
    "출력 시 **아래 JSON 예시 형태**를 반드시 지키세요:\n",
    "{{\n",
    "  \"gender\": \"예시값\",\n",
    "  \"masterCategory\": \"예시값\",\n",
    "  \"subCategory\": \"예시값\",\n",
    "  \"season\": \"예시값\",\n",
    "  \"usage\": \"예시값\",\n",
    "  \"baseColour\": \"예시값\",\n",
    "  \"articleType\": \"예시값\"\n",
    "}}\n",
    "\n",
    "# 예시\n",
    "{{\n",
    "  \"gender\": \"Men\",\n",
    "  \"masterCategory\": \"Accessories\",\n",
    "  \"subCategory\": \"Eyewear\",\n",
    "  \"season\": \"Winter\",\n",
    "  \"usage\": \"Casual\",\n",
    "  \"baseColour\": \"Blue\",\n",
    "  \"articleType\": \"Sunglasses\"\n",
    "}}\n",
    "\n",
    "# 주의\n",
    "- 7개 항목 이외의 정보(텍스트, 문장 등)는 절대 포함하지 마세요.\n",
    "\"\"\""
   ]
  },
  {
   "cell_type": "code",
   "execution_count": 10,
   "metadata": {
    "id": "TALGBTKPsqam"
   },
   "outputs": [],
   "source": [
    "def format_data(sample):\n",
    "   # Image.Image를 PngImageFile로 변환\n",
    "   buffer = io.BytesIO()\n",
    "   sample[\"image\"].save(buffer, format='PNG')\n",
    "   buffer.seek(0)\n",
    "   image = Image.open(buffer)\n",
    "\n",
    "   return {\n",
    "       \"messages\": [\n",
    "           {\n",
    "               \"role\": \"system\",\n",
    "               \"content\": [\n",
    "                   {\n",
    "                       \"type\": \"text\",\n",
    "                       \"text\": system_message\n",
    "                   }\n",
    "               ],\n",
    "           },\n",
    "           {\n",
    "               \"role\": \"user\",\n",
    "               \"content\": [\n",
    "                   {\n",
    "                       \"type\": \"text\",\n",
    "                       \"text\": prompt.format(name=sample[\"productDisplayName\"]),\n",
    "                   },\n",
    "                   {\n",
    "                       \"type\": \"image\",\n",
    "                       \"image\": image,\n",
    "                   }\n",
    "               ],\n",
    "           },\n",
    "           {\n",
    "               \"role\": \"assistant\",\n",
    "               \"content\": [\n",
    "                   {\n",
    "                       \"type\": \"text\",\n",
    "                       \"text\": sample[\"label\"],\n",
    "                   }\n",
    "               ],\n",
    "           },\n",
    "       ],\n",
    "   }"
   ]
  },
  {
   "cell_type": "code",
   "execution_count": 11,
   "metadata": {
    "id": "BhLVMnBFstnx",
    "outputId": "b3ea0471-0ca6-4639-9715-27299a468307"
   },
   "outputs": [
    {
     "name": "stderr",
     "output_type": "stream",
     "text": [
      "100%|██████████| 44072/44072 [00:38<00:00, 1155.26it/s]\n"
     ]
    }
   ],
   "source": [
    "formatted_dataset = [format_data(row) for row in tqdm(dataset_add_label)]"
   ]
  },
  {
   "cell_type": "markdown",
   "metadata": {
    "id": "BMrYAf4MtBVP"
   },
   "source": [
    "모델 로드"
   ]
  },
  {
   "cell_type": "code",
   "execution_count": 12,
   "metadata": {
    "id": "q2P64FMrtBDR"
   },
   "outputs": [],
   "source": [
    "model_id = \"mypsyche98/Qwen2-VL-7B-Instruct_LoRA_custom_20250805_merged\""
   ]
  },
  {
   "cell_type": "code",
   "execution_count": 13,
   "metadata": {
    "colab": {
     "referenced_widgets": [
      "4f52d145d4d444ce92e33621f7936dbf",
      "8bb57be78dd2404c92151e771eb58406",
      "56f16d9721e84bbc98a0d639cb33b68c",
      "6389afa1ef5f455795e933a252123ec5",
      "411068c5520f4f16b3365361f32d2da9",
      "a0227e40a59344608fdb41bbda649954",
      "8434da5f392b4677a7b5434a51d51734",
      "67edc3c3352245f29e8bb555c01eb015",
      "4d91f2cbafce4f89953dac7aa95282a0",
      "66435b018ab049709692d0cd099586c2",
      "199dc73eee4e4ce18e58e5abadd6e1dc",
      "5fc5f145121448e9b0182ab33730034c",
      "59fc2015777747409574ccccc54ac116",
      "b8e5a22eebb8485eb91dbee66461bf3a",
      "0537007476ee4297ae52e80f460f146b",
      "2024ea587c8544c5a6ff78322a9136f4",
      "e4d268b47ef64d92bdb424094fdbda61",
      "754d708f96ca4f9baf178048a7858cf3",
      "10e7967c638a43a2a73aae0ae1f28d60",
      "30027d19c3534f779d8bcd279c001dcb",
      "56c35d79df8e426fb1b5e49b0a697a87",
      "63387ccf31d64b7abffbaee9dc0f1705",
      "08b655eb04e844c281b5046fa1f8cf4f"
     ]
    },
    "id": "jmueiwK9tGO-",
    "outputId": "716001ac-8841-43d1-c06d-5773e6be6e86"
   },
   "outputs": [
    {
     "name": "stderr",
     "output_type": "stream",
     "text": [
      "/usr/local/lib/python3.11/dist-packages/transformers/models/auto/modeling_auto.py:2202: FutureWarning: The class `AutoModelForVision2Seq` is deprecated and will be removed in v5.0. Please use `AutoModelForImageTextToText` instead.\n",
      "  warnings.warn(\n"
     ]
    },
    {
     "data": {
      "application/vnd.jupyter.widget-view+json": {
       "model_id": "a158355b8c954895ad7fa6fbb12a844c",
       "version_major": 2,
       "version_minor": 0
      },
      "text/plain": [
       "config.json: 0.00B [00:00, ?B/s]"
      ]
     },
     "metadata": {},
     "output_type": "display_data"
    },
    {
     "data": {
      "application/vnd.jupyter.widget-view+json": {
       "model_id": "55eec32ae81946139e33525e05be740f",
       "version_major": 2,
       "version_minor": 0
      },
      "text/plain": [
       "model.safetensors.index.json: 0.00B [00:00, ?B/s]"
      ]
     },
     "metadata": {},
     "output_type": "display_data"
    },
    {
     "data": {
      "application/vnd.jupyter.widget-view+json": {
       "model_id": "9393950a835e41159693056196c22e0b",
       "version_major": 2,
       "version_minor": 0
      },
      "text/plain": [
       "Fetching 18 files:   0%|          | 0/18 [00:00<?, ?it/s]"
      ]
     },
     "metadata": {},
     "output_type": "display_data"
    },
    {
     "data": {
      "application/vnd.jupyter.widget-view+json": {
       "model_id": "c391862f6c5f440abcb4ceddfd59fb4a",
       "version_major": 2,
       "version_minor": 0
      },
      "text/plain": [
       "model-00004-of-00018.safetensors:   0%|          | 0.00/1.86G [00:00<?, ?B/s]"
      ]
     },
     "metadata": {},
     "output_type": "display_data"
    },
    {
     "data": {
      "application/vnd.jupyter.widget-view+json": {
       "model_id": "824a87789b934a3bac5928d802f92560",
       "version_major": 2,
       "version_minor": 0
      },
      "text/plain": [
       "model-00007-of-00018.safetensors:   0%|          | 0.00/1.86G [00:00<?, ?B/s]"
      ]
     },
     "metadata": {},
     "output_type": "display_data"
    },
    {
     "data": {
      "application/vnd.jupyter.widget-view+json": {
       "model_id": "e8c96a7466e446d19bdcbab03f170714",
       "version_major": 2,
       "version_minor": 0
      },
      "text/plain": [
       "model-00006-of-00018.safetensors:   0%|          | 0.00/1.86G [00:00<?, ?B/s]"
      ]
     },
     "metadata": {},
     "output_type": "display_data"
    },
    {
     "data": {
      "application/vnd.jupyter.widget-view+json": {
       "model_id": "5f7290d88a5a42a9a99403e6e8a00c75",
       "version_major": 2,
       "version_minor": 0
      },
      "text/plain": [
       "model-00003-of-00018.safetensors:   0%|          | 0.00/1.76G [00:00<?, ?B/s]"
      ]
     },
     "metadata": {},
     "output_type": "display_data"
    },
    {
     "data": {
      "application/vnd.jupyter.widget-view+json": {
       "model_id": "50c26d08f78f439ebf66b599b662ade4",
       "version_major": 2,
       "version_minor": 0
      },
      "text/plain": [
       "model-00005-of-00018.safetensors:   0%|          | 0.00/1.86G [00:00<?, ?B/s]"
      ]
     },
     "metadata": {},
     "output_type": "display_data"
    },
    {
     "data": {
      "application/vnd.jupyter.widget-view+json": {
       "model_id": "1f9d38ad738347d2b1751726d5a24c17",
       "version_major": 2,
       "version_minor": 0
      },
      "text/plain": [
       "model-00002-of-00018.safetensors:   0%|          | 0.00/2.18G [00:00<?, ?B/s]"
      ]
     },
     "metadata": {},
     "output_type": "display_data"
    },
    {
     "data": {
      "application/vnd.jupyter.widget-view+json": {
       "model_id": "b8d0fefe109f46ebbe8b30a57447b7c3",
       "version_major": 2,
       "version_minor": 0
      },
      "text/plain": [
       "model-00001-of-00018.safetensors:   0%|          | 0.00/1.99G [00:00<?, ?B/s]"
      ]
     },
     "metadata": {},
     "output_type": "display_data"
    },
    {
     "data": {
      "application/vnd.jupyter.widget-view+json": {
       "model_id": "068f33be3d0b4bf9bb3384a076b62a31",
       "version_major": 2,
       "version_minor": 0
      },
      "text/plain": [
       "model-00008-of-00018.safetensors:   0%|          | 0.00/1.86G [00:00<?, ?B/s]"
      ]
     },
     "metadata": {},
     "output_type": "display_data"
    },
    {
     "data": {
      "application/vnd.jupyter.widget-view+json": {
       "model_id": "de17e6b9f411471c92a36ba400862d51",
       "version_major": 2,
       "version_minor": 0
      },
      "text/plain": [
       "model-00009-of-00018.safetensors:   0%|          | 0.00/1.86G [00:00<?, ?B/s]"
      ]
     },
     "metadata": {},
     "output_type": "display_data"
    },
    {
     "data": {
      "application/vnd.jupyter.widget-view+json": {
       "model_id": "347bdd59c8ed4b82821fa1bce4bca9ae",
       "version_major": 2,
       "version_minor": 0
      },
      "text/plain": [
       "model-00010-of-00018.safetensors:   0%|          | 0.00/1.86G [00:00<?, ?B/s]"
      ]
     },
     "metadata": {},
     "output_type": "display_data"
    },
    {
     "data": {
      "application/vnd.jupyter.widget-view+json": {
       "model_id": "4528a844369043b887e0c41b317360fb",
       "version_major": 2,
       "version_minor": 0
      },
      "text/plain": [
       "model-00011-of-00018.safetensors:   0%|          | 0.00/1.86G [00:00<?, ?B/s]"
      ]
     },
     "metadata": {},
     "output_type": "display_data"
    },
    {
     "data": {
      "application/vnd.jupyter.widget-view+json": {
       "model_id": "2e39ab80af7a469987018ab8f535fcdc",
       "version_major": 2,
       "version_minor": 0
      },
      "text/plain": [
       "model-00012-of-00018.safetensors:   0%|          | 0.00/1.86G [00:00<?, ?B/s]"
      ]
     },
     "metadata": {},
     "output_type": "display_data"
    },
    {
     "data": {
      "application/vnd.jupyter.widget-view+json": {
       "model_id": "01477948b58d4b97a02bff1818c6fe8e",
       "version_major": 2,
       "version_minor": 0
      },
      "text/plain": [
       "model-00013-of-00018.safetensors:   0%|          | 0.00/1.86G [00:00<?, ?B/s]"
      ]
     },
     "metadata": {},
     "output_type": "display_data"
    },
    {
     "data": {
      "application/vnd.jupyter.widget-view+json": {
       "model_id": "e826416b98bf4d9ca6b087125409de5e",
       "version_major": 2,
       "version_minor": 0
      },
      "text/plain": [
       "model-00015-of-00018.safetensors:   0%|          | 0.00/1.86G [00:00<?, ?B/s]"
      ]
     },
     "metadata": {},
     "output_type": "display_data"
    },
    {
     "data": {
      "application/vnd.jupyter.widget-view+json": {
       "model_id": "1522c1db015344309b6da0b1951da2a9",
       "version_major": 2,
       "version_minor": 0
      },
      "text/plain": [
       "model-00014-of-00018.safetensors:   0%|          | 0.00/1.86G [00:00<?, ?B/s]"
      ]
     },
     "metadata": {},
     "output_type": "display_data"
    },
    {
     "data": {
      "application/vnd.jupyter.widget-view+json": {
       "model_id": "7023dee1fec84174a3648d7e669abd5a",
       "version_major": 2,
       "version_minor": 0
      },
      "text/plain": [
       "model-00016-of-00018.safetensors:   0%|          | 0.00/1.86G [00:00<?, ?B/s]"
      ]
     },
     "metadata": {},
     "output_type": "display_data"
    },
    {
     "data": {
      "application/vnd.jupyter.widget-view+json": {
       "model_id": "c6baf90a6b9b44fc9aceab75c8b6e7b7",
       "version_major": 2,
       "version_minor": 0
      },
      "text/plain": [
       "model-00017-of-00018.safetensors:   0%|          | 0.00/2.18G [00:00<?, ?B/s]"
      ]
     },
     "metadata": {},
     "output_type": "display_data"
    },
    {
     "data": {
      "application/vnd.jupyter.widget-view+json": {
       "model_id": "9b1b89ab61734815a97a3dc5367c1d80",
       "version_major": 2,
       "version_minor": 0
      },
      "text/plain": [
       "model-00018-of-00018.safetensors:   0%|          | 0.00/815M [00:00<?, ?B/s]"
      ]
     },
     "metadata": {},
     "output_type": "display_data"
    },
    {
     "data": {
      "application/vnd.jupyter.widget-view+json": {
       "model_id": "1320a24f341041298f596378e633060f",
       "version_major": 2,
       "version_minor": 0
      },
      "text/plain": [
       "Loading checkpoint shards:   0%|          | 0/18 [00:00<?, ?it/s]"
      ]
     },
     "metadata": {},
     "output_type": "display_data"
    },
    {
     "data": {
      "application/vnd.jupyter.widget-view+json": {
       "model_id": "cff0cc05c8be4b199426fa822b003970",
       "version_major": 2,
       "version_minor": 0
      },
      "text/plain": [
       "generation_config.json:   0%|          | 0.00/220 [00:00<?, ?B/s]"
      ]
     },
     "metadata": {},
     "output_type": "display_data"
    }
   ],
   "source": [
    "\n",
    "model = AutoModelForVision2Seq.from_pretrained(\n",
    "   model_id,\n",
    "   device_map=\"auto\",                            # GPU 메모리에 자동 할당\n",
    "   torch_dtype=torch.bfloat16,                   # bfloat16 정밀도 사용\n",
    ")\n"
   ]
  },
  {
   "cell_type": "code",
   "execution_count": 14,
   "metadata": {
    "colab": {
     "referenced_widgets": [
      "df045d9a9bd8462eab5f4ebbb8c6ef4f",
      "20b32fa7ce7d40babb9d4bfb3a8b5fba",
      "d1da0c5f1a3d44458de93069ebd2ca58",
      "282cc87c01ec40eba23fb2f8b7baf7b1",
      "f2223ce53d8c42efa4a5e6153c70ed0d",
      "2b1ac974bc4d47db85fa4868fd50174a",
      "cb8a0f30921d484cbf3bbb1dd3d1c4b1",
      "ab49d887e9f34b3faf3803645d21d242",
      "a1bdebf14eb64947909f898b1e271900"
     ]
    },
    "id": "YZz4hlO9tJKn",
    "outputId": "8768aa9b-0541-4262-d63d-1caa6498b773"
   },
   "outputs": [
    {
     "data": {
      "application/vnd.jupyter.widget-view+json": {
       "model_id": "4ed5b8555b5645698e5557274bf81b05",
       "version_major": 2,
       "version_minor": 0
      },
      "text/plain": [
       "preprocessor_config.json:   0%|          | 0.00/788 [00:00<?, ?B/s]"
      ]
     },
     "metadata": {},
     "output_type": "display_data"
    },
    {
     "data": {
      "application/vnd.jupyter.widget-view+json": {
       "model_id": "bffa088b087c470a9bc46b923299224e",
       "version_major": 2,
       "version_minor": 0
      },
      "text/plain": [
       "tokenizer_config.json: 0.00B [00:00, ?B/s]"
      ]
     },
     "metadata": {},
     "output_type": "display_data"
    },
    {
     "data": {
      "application/vnd.jupyter.widget-view+json": {
       "model_id": "4d52e00deffa485bbe779d23e6e5840f",
       "version_major": 2,
       "version_minor": 0
      },
      "text/plain": [
       "vocab.json: 0.00B [00:00, ?B/s]"
      ]
     },
     "metadata": {},
     "output_type": "display_data"
    },
    {
     "data": {
      "application/vnd.jupyter.widget-view+json": {
       "model_id": "b88b01f916a047e68bce534672e0e80e",
       "version_major": 2,
       "version_minor": 0
      },
      "text/plain": [
       "merges.txt: 0.00B [00:00, ?B/s]"
      ]
     },
     "metadata": {},
     "output_type": "display_data"
    },
    {
     "data": {
      "application/vnd.jupyter.widget-view+json": {
       "model_id": "023d4237004246af9aaadc3172513b1b",
       "version_major": 2,
       "version_minor": 0
      },
      "text/plain": [
       "tokenizer.json:   0%|          | 0.00/11.4M [00:00<?, ?B/s]"
      ]
     },
     "metadata": {},
     "output_type": "display_data"
    },
    {
     "data": {
      "application/vnd.jupyter.widget-view+json": {
       "model_id": "7ac42629d2d74f1ea3ef14fea5a6f905",
       "version_major": 2,
       "version_minor": 0
      },
      "text/plain": [
       "added_tokens.json:   0%|          | 0.00/392 [00:00<?, ?B/s]"
      ]
     },
     "metadata": {},
     "output_type": "display_data"
    },
    {
     "data": {
      "application/vnd.jupyter.widget-view+json": {
       "model_id": "3e0a9f4a956546d8aa54465dd56cdc4e",
       "version_major": 2,
       "version_minor": 0
      },
      "text/plain": [
       "special_tokens_map.json:   0%|          | 0.00/613 [00:00<?, ?B/s]"
      ]
     },
     "metadata": {},
     "output_type": "display_data"
    },
    {
     "data": {
      "application/vnd.jupyter.widget-view+json": {
       "model_id": "e31459c1d0174679944520e824ad0303",
       "version_major": 2,
       "version_minor": 0
      },
      "text/plain": [
       "chat_template.jinja: 0.00B [00:00, ?B/s]"
      ]
     },
     "metadata": {},
     "output_type": "display_data"
    },
    {
     "data": {
      "application/vnd.jupyter.widget-view+json": {
       "model_id": "82a8ece795094ac9948119d2203c128d",
       "version_major": 2,
       "version_minor": 0
      },
      "text/plain": [
       "video_preprocessor_config.json:   0%|          | 0.00/904 [00:00<?, ?B/s]"
      ]
     },
     "metadata": {},
     "output_type": "display_data"
    }
   ],
   "source": [
    "processor = AutoProcessor.from_pretrained(model_id)  # 텍스트/이미지 전처리기 로드"
   ]
  },
  {
   "cell_type": "markdown",
   "metadata": {
    "id": "4w-9ZGAjsxxa"
   },
   "source": [
    "검증 테스트용 샘플링 데이터"
   ]
  },
  {
   "cell_type": "code",
   "execution_count": 15,
   "metadata": {
    "id": "4hVg8TMfswdV"
   },
   "outputs": [],
   "source": [
    "sample_data = formatted_dataset[100]['messages']"
   ]
  },
  {
   "cell_type": "code",
   "execution_count": 16,
   "metadata": {
    "id": "LMzQ5qpos9NB"
   },
   "outputs": [],
   "source": [
    "sample_prompt = processor.apply_chat_template(\n",
    "    sample_data,\n",
    "    tokenize=False,\n",
    "    add_generation_prompt=False,\n",
    ")"
   ]
  },
  {
   "cell_type": "markdown",
   "metadata": {
    "id": "q7BqGWWAtu7l"
   },
   "source": [
    "프롬프트 템플릿이 적용된 데이터에서 질의와 레이블을 분리 => 모델에서 추론된 데이터와 레이블을 비교하기 위해서"
   ]
  },
  {
   "cell_type": "code",
   "execution_count": 17,
   "metadata": {
    "id": "s3sO9wEatuVC"
   },
   "outputs": [],
   "source": [
    "def split_input_and_label(prompt):\n",
    "    input = prompt.split('<|im_start|>assistant')[0] + '<|im_start|>assistant'\n",
    "    label = prompt.split('<|im_start|>assistant')[1]\n",
    "    return input, label"
   ]
  },
  {
   "cell_type": "code",
   "execution_count": 18,
   "metadata": {
    "id": "1IQ7EKf0t5vO"
   },
   "outputs": [],
   "source": [
    "sample_prompt_input, sample_prompt_label = split_input_and_label(sample_prompt)"
   ]
  },
  {
   "cell_type": "markdown",
   "metadata": {
    "id": "0E98dONguJUi"
   },
   "source": [
    "샘플 데이터에서 image와 video 정보 분리"
   ]
  },
  {
   "cell_type": "code",
   "execution_count": 19,
   "metadata": {
    "id": "cnMc1AOQuI8X"
   },
   "outputs": [],
   "source": [
    "sample_data_image_inputs, sample_data_video_inputs = process_vision_info(sample_data)"
   ]
  },
  {
   "cell_type": "markdown",
   "metadata": {
    "id": "lkJDJUbXvSxU"
   },
   "source": [
    "VLM 질의용 객체 생성"
   ]
  },
  {
   "cell_type": "code",
   "execution_count": 20,
   "metadata": {
    "id": "U9ytxSPsvRto"
   },
   "outputs": [],
   "source": [
    "inputs = processor(\n",
    "    text=[sample_prompt_input],\n",
    "    images=sample_data_image_inputs,\n",
    "    videos=sample_data_video_inputs,\n",
    "    padding=True,\n",
    "    return_tensors=\"pt\",\n",
    ")\n",
    "inputs = inputs.to(\"cuda\")"
   ]
  },
  {
   "cell_type": "markdown",
   "metadata": {
    "id": "1bPMNP_Ivdwo"
   },
   "source": [
    "inference"
   ]
  },
  {
   "cell_type": "code",
   "execution_count": 21,
   "metadata": {
    "id": "iuKLHHdcvdYE",
    "outputId": "a7c08e41-72aa-4013-e53b-22ef6f96b592"
   },
   "outputs": [
    {
     "name": "stdout",
     "output_type": "stream",
     "text": [
      "추론결과= ['\\n{\"gender\": \"Men\", \"masterCategory\": \"Apparel\", \"subCategory\": \"Innerwear\", \"season\": \"Summer\", \"usage\": \"Casual\", \"baseColour\": \"White\", \"articleType\": \"Innerwear Vests\"}']\n"
     ]
    }
   ],
   "source": [
    "\n",
    "# Inference: Generation of the output\n",
    "generated_ids = model.generate(\n",
    "    **inputs,\n",
    "    max_new_tokens=128,\n",
    "    temperature=0.1,\n",
    "    top_p=0.001,\n",
    "    repetition_penalty=1.05,\n",
    ")\n",
    "\n",
    "generated_ids_trimmed = [out_ids[len(in_ids) :] for in_ids, out_ids in zip(inputs.input_ids, generated_ids)]\n",
    "output_text = processor.batch_decode(generated_ids_trimmed, skip_special_tokens=True, clean_up_tokenization_spaces=False)\n",
    "print(\"추론결과=\",output_text)\n"
   ]
  },
  {
   "cell_type": "code",
   "execution_count": 22,
   "metadata": {
    "id": "U7JSTrE0wL-H",
    "outputId": "5cab91bd-183d-4bf0-ad9f-ccf8b4feee18"
   },
   "outputs": [
    {
     "name": "stdout",
     "output_type": "stream",
     "text": [
      "sample_prompt_label= \n",
      "{\"gender\": \"Men\", \"masterCategory\": \"Apparel\", \"subCategory\": \"Innerwear\", \"season\": \"Summer\", \"usage\": \"Casual\", \"baseColour\": \"White\", \"articleType\": \"Innerwear Vests\"}<|im_end|>\n",
      "\n"
     ]
    }
   ],
   "source": [
    "print(\"sample_prompt_label=\",sample_prompt_label)"
   ]
  },
  {
   "cell_type": "code",
   "execution_count": 35,
   "metadata": {
    "id": "uoJrfCvH7FDj"
   },
   "outputs": [],
   "source": [
    "# 랜덤 50개 테스트 데이터 추출\n",
    "import random\n",
    "\n",
    "# 배열에서 랜덤하게 50개의 요소를 뽑아내는 코드\n",
    "test_samples = random.sample(formatted_dataset, 50)\n",
    "\n",
    "# 배치 인퍼런스를 위한 입력 데이터 준비\n",
    "batch_prompts = []\n",
    "batch_image_inputs = []\n",
    "batch_video_inputs = []\n",
    "batch_labels = []\n",
    "\n",
    "for sample in test_samples:\n",
    "    # 각 샘플의 메시지 처리\n",
    "    messages = sample[\"messages\"]\n",
    "\n",
    "    # 프롬프트 생성\n",
    "    prompt = processor.apply_chat_template(\n",
    "        messages,\n",
    "        tokenize=False,\n",
    "        add_generation_prompt=False,\n",
    "    )\n",
    "\n",
    "    # 입력과 레이블 분리\n",
    "    input_part = prompt.split('<|im_start|>assistant')[0] + '<|im_start|>assistant'\n",
    "    label_part = prompt.split('<|im_start|>assistant')[1]\n",
    "\n",
    "    # 이미지/비디오 데이터 처리\n",
    "    image_inputs, video_inputs = process_vision_info(messages)\n",
    "\n",
    "    # 모든 프롬프트와 기타 데이터를 리스트에 추가\n",
    "    batch_prompts.append(input_part)\n",
    "    batch_image_inputs.append(image_inputs)\n",
    "    batch_labels.append(label_part)\n",
    "\n",
    "# 루프가 끝난 후, 모든 데이터를 한 번에 processor에 전달합니다.\n",
    "# 이렇게 하면 길이가 다른 프롬프트들을 자동으로 가장 긴 길이에 맞춰 패딩합니다.\n",
    "batch_inputs = processor(\n",
    "    text=batch_prompts,\n",
    "    images=batch_image_inputs,\n",
    "    videos=None,\n",
    "    padding=True,\n",
    "    return_tensors=\"pt\",\n",
    ").to(\"cuda\")\n"
   ]
  },
  {
   "cell_type": "code",
   "execution_count": 36,
   "metadata": {
    "id": "t6dmEMde9rXT"
   },
   "outputs": [
    {
     "name": "stdout",
     "output_type": "stream",
     "text": [
      "output_texts= ['\\n- 7개 항목 이외의 정보(텍스트, 문장 등)는 절대 포함하지 마세요.\\n\\n출력 시 **아래 JSON 예시 형태**를 반드시 지키세요:\\n{\"gender\": \"Men\", \"masterCategory\": \"Footwear\", \"subCategory\": \"Shoes\", \"season\": \"Summer\", \"usage\": \"Sports\", \"baseColour\": \"White\", \"articleType\": \"Sports Shoes\"}\\n\\n위 JSON 예시 형태를 지키지 않으면 아래와 같이 오류 메시지가 출력됩니다:\\n{\"error\": \"입력 정보가 정확하지', '\\n- 7개 항목 이외의 정보(텍스트, 문장 등)는 절대 포함하지 마세요.\\n\\n출력 시 **아래 JSON 예시 형태**를 반드시 지키세요:\\n{\"gender\": \"Men\", \"masterCategory\": \"Footwear\", \"subCategory\": \"Shoes\", \"season\": \"Summer\", \"usage\": \"Sports\", \"baseColour\": \"White\", \"articleType\": \"Sports Shoes\"}\\n\\n위 JSON 예시 형태를 지키지 않으면 아래와 같이 오류 메시지가 출력됩니다:\\n{\"error\": \"입력 정보가 정확하지', '\\n- 7개 항목 이외의 정보(텍스트 등)가 포함되어 있습니다.', '\\n{\"gender\": \"Men', '\\n{\"gender\": \"Men\", \"masterCategory\": \"Apparel\", \"subCategory\": \"Bottomwear\", \"season\": \"Fall\", \"usage\": \"Casual\", \"baseColour\": \"Blue\", \"articleType\": \"Jeans\"}', '\\n- JSON 형태 이외의 형태(텍스트, 문장 등)은 절대 포함하지 마세요.\\n\\n출력 시 **아래 JSON 예시 형태**를 반드시 지키세요:\\n{\"gender\": \"Men\", \"masterCategory\": \"Apparel\", \"subCategory\": \"Bottomwear\", \"season\": \"Fall\", \"usage\": \"Formal\", \"baseColour\": \"Brown\", \"articleType\": \"Trousers\"}\\n\\n위 JSON 예시 형태를 지키지 않으면 아래와 같이 오류 메시지가 출력됩니다:\\n{\"error\": \"입력 정보가 JSON 형태와 일', '\\nassistant\\n{\"gender\": \"Men\", \"masterCategory\": \"Apparel\", \"subCategory\": \"Topwear\", \"season\": \"Fall\", \"usage\": \"Casual\", \"baseColour\": \"Brown\", \"articleType\": \"Shirts\"}', '\\n{\"gender\": \"Women\", \"masterCategory\": \"Personal Care\", \"subCategory\": \"Lips\", \"season\": \"Spring\", \"usage\": \"Casual\", \"baseColour\": \"Maroon\", \"articleType\": \"Lip Liner\"}', '\\n- 7개 항목 이외의 정보(텍스트, 문장 등)는 절대 포함하지 마세요.\\n\\n{\"gender\": \"Women\", \"masterCategory\": \"Personal Care\", \"subCategory\": \"Fragrance\", \"season\": \"Spring\", \"usage\": \"Casual\", \"baseColour\": \"White\", \"articleType\": \"Perfume and Body Mist\"}', '\\n- 7개 항목 이외의 정보(텍스트, 문장 등)는 절대 포함하지 마세요.\\n{\"gender\": \"Men\", \"masterCategory\": \"Accessories\", \"subCategory\": \"Watches\", \"season\": \"Winter\", \"usage\": \"Casual\", \"baseColour\": \"Black\", \"articleType\": \"Watches\"}', '\\n{\"gender\": \"Men', '\\n- 7개 항목 이외의 정보(텍스트, 문장 등)는 절대 포함하지 마세요.\\n{\"gender\": \"Men\", \"masterCategory\": \"Apparel\", \"subCategory\": \"Topwear\", \"season\": \"Fall\", \"usage\": \"Casual\", \"baseColour\": \"Olive\", \"articleType\": \"Shirts\"}', '\\n{\"gender\": \"Boys\", \"masterCategory\": \"Apparel\", \"subCategory\": \"Topwear\", \"season\": \"Summer\", \"usage\": \"Casual\", \"baseColour\": \"Red\", \"articleType\": \"Tshirts\"}', '\\n{\"gender\": \"Men', '\\n{\"gender\": \"Women\\n{\"gender\": \"Women\", \"masterCategory\": \"Apparel\", \"subCategory\": \"Topwear\", \"season\": \"Summer\", \"usage\": \"Sports\", \"baseColour\": \"Turquoise Blue\", \"articleType\": \"Tshirts\"}', '\\n- 7개 항목 이외의 정보(텍스트 등)는 절대 포함하지 마세요.\\n{\"gender\": \"Men\", \"masterCategory\": \"Apparel\", \"subCategory\": \"Topwear\", \"season\": \"Summer\", \"usage\": \"Casual\", \"baseColour\": \"Yellow\", \"articleType\": \"Shirts\"}', '\\n{\"gender\": \"Men', '\\n-', '\\n- 7개 항목 이외의 정보(텍스트, 문장 등)는 절대 포함하지 마세요.\\n\\n{\"gender\": \"Women\", \"masterCategory\": \"Apparel\", \"subCategory\": \"Loungewear and Nightwear\", \"season\": \"Summer\", \"usage\": \"Casual\", \"baseColour\": \"Pink\", \"articleType\": \"Nightdress\"}', '\\n{\"gender\": \"Men\", \"masterCategory\": \"Accessories\", \"subCategory\": \"Bags\", \"season\": \"Summer\", \"usage\": \"Casual\", \"baseColour\": \"Black\", \"articleType\": \"Backpacks\"}', '\\n-', '\\n- 7개 항목 이외의 정보(텍스트, 문장 등)는 절대 포함하지 마세요.\\n\\n{\"gender\": \"Women\", \"masterCategory\": \"Accessories\", \"subCategory\": \"Scarves\", \"season\": \"Summer\", \"usage\": \"Casual\", \"baseColour\": \"Brown\", \"articleType\": \"Scarves\"}', '\\n- 7개 항목 이외의 정보(텍스트, 문장 등)는 절대 포함하지 마세요.\\n\\n{\"gender\": \"Women\", \"masterCategory\": \"Accessories\", \"subCategory\": \"Eyewear\", \"season\": \"Winter\", \"usage\": \"Casual\", \"baseColour\": \"Pink\", \"articleType\": \"Sunglasses\"}', '\\n{\"gender\": \"Women\",\\n\"masterCategory\": \"Apparel\",\\n\"subCategory\": \"Saree\",\\n\"season\": \"Fall\",\\n\"usage\": \"Ethnic\",\\n\"baseColour\": \"Navy Blue\",\\n\"articleType\": \"Sarees\"', '\\n{\"gender\": \"Men', '\\n- 7개 항목 이외의 정보(텍스트, 문장 등)는 절대 포함하지 마세요.\\n\\n출력 시 **아래 JSON 예시 형태**를 반드시 지키세요:\\n{\"gender\": \"Women\", \"masterCategory\": \"Footwear\", \"subCategory\": \"Shoes\", \"season\": \"Winter\", \"usage\": \"Casual\", \"baseColour\": \"Black\", \"articleType\": \"Heels\"}\\n\\n위 JSON 예시 형태를 지키지 않으면 아래와 같이 오류 메시지가 출력됩니다:\\n{\"error\": \"입력 정보가 정확', '\\n- 7개 항목 이외의 정보(텍스트 등)가 포함되어 있습니다.', '\\n- 7개 항목 이외의 정보(텍스트 등)가 포함되어 있습니다.', '\\n- 7개 항목 이외의 정보(텍스트, 문장 등)는 절대 포함하지 마세요.\\n{\"gender\": \"Women\", \"masterCategory\": \"Accessories\", \"subCategory\": \"Bags\", \"season\": \"Summer\", \"usage\": \"Casual\", \"baseColour\": \"Pink\", \"articleType\": \"Handbags\"}', '\\n- 7개 항목 이외의 정보(텍스트, 문장 등)는 절대 포함하지 마세요.\\n\\n{\"gender\": \"Men\", \"masterCategory\": \"Apparel\", \"subCategory\": \"Topwear\", \"season\": \"Summer\", \"usage\": \"Casual\", \"baseColour\": \"Black\", \"articleType\": \"Tshirts\"}', '\\n{\"gender\": \"Women\", \"masterCategory\": \"Apparel\", \"subCategory\": \"Innerwear\", \"season\": \"Summer\", \"usage\": \"Casual\", \"baseColour\": \"Purple\", \"articleType\": \"Bra\"}', '\\n- 7개 항목 이외의 정보(텍스트, 문장 등)는 절대 포함하지 마세요.\\n\\n출력 시 **아래 JSON 예시 형태**를 반드시 지키세요:\\n{\"gender\": \"Men\", \"masterCategory\": \"Apparel\", \"subCategory\": \"Bottomwear\", \"season\": \"Summer\", \"usage\": \"Formal\", \"baseColour\": \"Black\", \"articleType\": \"Trousers\"}\\n\\n위 JSON 예시 형태를 지키지 않으면 아래와 같이 오류 메시지가 출력됩니다:\\n{\"error\": \"입력 정보가 JSON', '\\n- 7개 항목 이외의 정보(텍스트, 문장 등)는 절대 포함하지 마세요.\\n\\n{\"gender\": \"Women\", \"masterCategory\": \"Apparel\", \"subCategory\": \"Topwear\", \"season\": \"Summer\", \"usage\": \"Casual\", \"baseColour\": \"White\", \"articleType\": \"Tops\"}', '\\n{\"gender\": \"Women\", \"masterCategory\": \"Personal Care\", \"subCategory\": \"Lips\", \"season\": \"Spring\", \"usage\": \"Casual\", \"baseColour\": \"Pink\", \"articleType\": \"Lipstick\"}', '\\n{\"gender\": \"Men{\"assistant\\n{\"gender\": \"Men\", \"masterCategory\": \"Footwear\", \"subCategory\": \"Flip Flops\", \"season\": \"Summer\", \"usage\": \"Casual\", \"baseColour\": \"White\", \"articleType\": \"Flip Flops\"}', '\\n{\"gender\": \"Women\", \"masterCategory\": \"Personal Care\", \"subCategory\": \"Nails\", \"season\": \"Spring\", \"usage\": \"Casual\", \"baseColour\": \"Purple\", \"articleType\": \"Nail Polish\"}', '\\n-', '\\n- 7개 항목 이외의 정보(텍스트, 문장 등)는 절대 포함하지 마세요.\\n{\"gender\": \"Women\", \"masterCategory\": \"Accessories\", \"subCategory\": \"Bags\", \"season\": \"Summer\", \"usage\": \"Casual\", \"baseColour\": \"Yellow\", \"articleType\": \"Clutches\"}', '\\n{\"gender\": \"Women\\n{\"gender\": \"Women\", \"masterCategory\": \"Personal Care\", \"subCategory\": \"Nails\", \"season\": \"Spring\", \"usage\": \"Casual\", \"baseColour\": \"Orange\", \"articleType\": \"Nail Polish\"}', '\\n- 7개 항목 이외의 정보(텍스트, 문장 등)는 절대 포함하지 마세요.\\n\\n출력 시 **아래 JSON 예시 형태**를 반드시 지키세요:\\n{\"gender\": \"Men\", \"masterCategory\": \"Accessories\", \"subCategory\": \"Belts\", \"season\": \"Summer\", \"usage\": \"Casual\", \"baseColour\": \"Brown\", \"articleType\": \"Belts\"}\\n\\n위 JSON 예시 형태를 지키지 않으면 아래와 같이 오류 메시지가 출력됩니다:\\n{\"error\": \"입력 정보가 정확', '\\n{\"gender\": \"Men\", \"masterCategory\": \"Accessories\", \"subCategory\": \"Eyewear\", \"season\": \"Winter\", \"usage\": \"Casual\", \"baseColour\": \"Brown\", \"articleType\": \"Sunglasses\"}', '\\n-', '\\n{\"gender\": \"Men\", \"masterCategory\": \"Accessories\", \"subCategory\": \"Socks\", \"season\": \"Summer\", \"usage\": \"Casual\", \"baseColour\": \"Black\", \"articleType\": \"Socks\"}', '\\n{\"gender\": \"Men\", \"masterCategory\": \"Apparel\", \"subCategory\": \"Topwear\", \"season\": \"Summer\", \"usage\": \"Casual\", \"baseColour\": \"Black\", \"articleType\": \"Tshirts\"}', '\\n- 7개 항목 이외의 정보(텍스트, 문장 등)는 절대 포함하지 마세요.\\n\\n{\"gender\": \"Women\", \"masterCategory\": \"Apparel\", \"subCategory\": \"Topwear\", \"season\": \"Summer\", \"usage\": \"Casual\", \"baseColour\": \"Multi\", \"articleType\": \"Tops\"}', '\\n- 70800000000000000000000000000000000000000000000000000000000000000000000000000000000000000000000000000000000000000000000000000', '\\n- 7개 항목 이외의 정보(텍스트, 문장 등)는 절대 포함하지 마세요.\\n\\n출력 시 **아래 JSON 예시 형태**를 반드시 지키세요:\\n{\"gender\": \"Men\", \"masterCategory\": \"Personal Care\", \"subCategory\": \"Fragrance\", \"season\": \"Spring\", \"usage\": \"Casual\", \"baseColour\": \"Black\", \"articleType\": \"Fragrance Gift Set\"}\\n\\n위 JSON 예시 형태를 지키지 않으면 아래와 같이 오류 메시지가 출력됩니다:\\n{\"error\": \"입력', '\\n- 7개 항목 이외의 정보(텍스트, 문장 등)는 절대 포함하지 마세요.\\n\\n{\"gender\": \"Women\", \"masterCategory\": \"Accessories\", \"subCategory\": \"Bags\", \"season\": \"Summer\", \"usage\": \"Casual\", \"baseColour\": \"Purple\", \"articleType\": \"Handbags\"}', '\\n- 7개 항목 이외의 정보(텍스트, 문장 등)는 절대 포함하지 마세요.\\n\\n출력 시 **아래 JSON 예시 형태**를 반드시 지키세요:\\n{\"gender\": \"Men\", \"masterCategory\": \"Footwear\", \"subCategory\": \"Shoes\", \"season\": \"Summer\", \"usage\": \"Casual\", \"baseColour\": \"Black\", \"articleType\": \"Casual Shoes\"}\\n\\n위 JSON 예시 형태를 지키지 않으면 아래와 같이 오류 메시지가 출력됩니다:\\n{\"error\": \"입력 정보가 정', '\\n- 7개 항목 이외의 정보(텍스트, 문장 등)는 절대 포함하지 마세요.\\n\\n{\"gender\": \"Men\", \"masterCategory\": \"Accessories\", \"subCategory\": \"Watches\", \"season\": \"Winter\", \"usage\": \"Casual\", \"baseColour\": \"Silver\", \"articleType\": \"Watches\"}']\n"
     ]
    }
   ],
   "source": [
    "\n",
    "# Inference: Generation of the output\n",
    "generated_ids = model.generate(\n",
    "    **batch_inputs,\n",
    "    max_new_tokens=128,\n",
    "    temperature=0.1,\n",
    "    top_p=0.001,\n",
    "    repetition_penalty=1.05,\n",
    ")\n",
    "\n",
    "generated_ids_trimmed = [out_ids[len(in_ids) :] for in_ids, out_ids in zip(batch_inputs.input_ids, generated_ids)]\n",
    "output_texts = processor.batch_decode(generated_ids_trimmed, skip_special_tokens=True, clean_up_tokenization_spaces=False)\n",
    "\n",
    "print(\"output_texts=\",output_texts)\n"
   ]
  },
  {
   "cell_type": "code",
   "execution_count": 37,
   "metadata": {},
   "outputs": [
    {
     "name": "stdout",
     "output_type": "stream",
     "text": [
      "\n",
      "=== 배치 인퍼런스 결과 ===\n",
      "\n",
      "--- 샘플 1 ---\n",
      "모델의 예측: - 7개 항목 이외의 정보(텍스트, 문장 등)는 절대 포함하지 마세요.\n",
      "\n",
      "출력 시 **아래 JSON 예시 형태**를 반드시 지키세요:\n",
      "{\"gender\": \"Men\", \"masterCategory\": \"Footwear\", \"subCategory\": \"Shoes\", \"season\": \"Summer\", \"usage\": \"Sports\", \"baseColour\": \"White\", \"articleType\": \"Sports Shoes\"}\n",
      "\n",
      "위 JSON 예시 형태를 지키지 않으면 아래와 같이 오류 메시지가 출력됩니다:\n",
      "{\"error\": \"입력 정보가 정확하지\n",
      "원래 레이블: {\"gender\": \"Men\", \"masterCategory\": \"Footwear\", \"subCategory\": \"Shoes\", \"season\": \"Fall\", \"usage\": \"Sports\", \"baseColour\": \"White\", \"articleType\": \"Sports Shoes\"}<|im_end|>\n",
      "--------------------------------------------------\n",
      "\n",
      "--- 샘플 2 ---\n",
      "모델의 예측: - 7개 항목 이외의 정보(텍스트, 문장 등)는 절대 포함하지 마세요.\n",
      "\n",
      "출력 시 **아래 JSON 예시 형태**를 반드시 지키세요:\n",
      "{\"gender\": \"Men\", \"masterCategory\": \"Footwear\", \"subCategory\": \"Shoes\", \"season\": \"Summer\", \"usage\": \"Sports\", \"baseColour\": \"White\", \"articleType\": \"Sports Shoes\"}\n",
      "\n",
      "위 JSON 예시 형태를 지키지 않으면 아래와 같이 오류 메시지가 출력됩니다:\n",
      "{\"error\": \"입력 정보가 정확하지\n",
      "원래 레이블: {\"gender\": \"Men\", \"masterCategory\": \"Footwear\", \"subCategory\": \"Shoes\", \"season\": \"Spring\", \"usage\": \"Casual\", \"baseColour\": \"White\", \"articleType\": \"Casual Shoes\"}<|im_end|>\n",
      "--------------------------------------------------\n",
      "\n",
      "--- 샘플 3 ---\n",
      "모델의 예측: - 7개 항목 이외의 정보(텍스트 등)가 포함되어 있습니다.\n",
      "원래 레이블: {\"gender\": \"Men\", \"masterCategory\": \"Apparel\", \"subCategory\": \"Topwear\", \"season\": \"Summer\", \"usage\": \"Casual\", \"baseColour\": \"Red\", \"articleType\": \"Tshirts\"}<|im_end|>\n",
      "--------------------------------------------------\n",
      "\n",
      "--- 샘플 4 ---\n",
      "모델의 예측: {\"gender\": \"Men\n",
      "원래 레이블: {\"gender\": \"Men\", \"masterCategory\": \"Apparel\", \"subCategory\": \"Topwear\", \"season\": \"Summer\", \"usage\": \"Casual\", \"baseColour\": \"Black\", \"articleType\": \"Tshirts\"}<|im_end|>\n",
      "--------------------------------------------------\n",
      "\n",
      "--- 샘플 5 ---\n",
      "모델의 예측: {\"gender\": \"Men\", \"masterCategory\": \"Apparel\", \"subCategory\": \"Bottomwear\", \"season\": \"Fall\", \"usage\": \"Casual\", \"baseColour\": \"Blue\", \"articleType\": \"Jeans\"}\n",
      "원래 레이블: {\"gender\": \"Men\", \"masterCategory\": \"Apparel\", \"subCategory\": \"Bottomwear\", \"season\": \"Summer\", \"usage\": \"Casual\", \"baseColour\": \"Blue\", \"articleType\": \"Jeans\"}<|im_end|>\n",
      "--------------------------------------------------\n",
      "\n",
      "--- 샘플 6 ---\n",
      "모델의 예측: - JSON 형태 이외의 형태(텍스트, 문장 등)은 절대 포함하지 마세요.\n",
      "\n",
      "출력 시 **아래 JSON 예시 형태**를 반드시 지키세요:\n",
      "{\"gender\": \"Men\", \"masterCategory\": \"Apparel\", \"subCategory\": \"Bottomwear\", \"season\": \"Fall\", \"usage\": \"Formal\", \"baseColour\": \"Brown\", \"articleType\": \"Trousers\"}\n",
      "\n",
      "위 JSON 예시 형태를 지키지 않으면 아래와 같이 오류 메시지가 출력됩니다:\n",
      "{\"error\": \"입력 정보가 JSON 형태와 일\n",
      "원래 레이블: {\"gender\": \"Men\", \"masterCategory\": \"Apparel\", \"subCategory\": \"Bottomwear\", \"season\": \"Summer\", \"usage\": \"Formal\", \"baseColour\": \"Brown\", \"articleType\": \"Trousers\"}<|im_end|>\n",
      "--------------------------------------------------\n",
      "\n",
      "--- 샘플 7 ---\n",
      "모델의 예측: assistant\n",
      "{\"gender\": \"Men\", \"masterCategory\": \"Apparel\", \"subCategory\": \"Topwear\", \"season\": \"Fall\", \"usage\": \"Casual\", \"baseColour\": \"Brown\", \"articleType\": \"Shirts\"}\n",
      "원래 레이블: {\"gender\": \"Men\", \"masterCategory\": \"Apparel\", \"subCategory\": \"Topwear\", \"season\": \"Summer\", \"usage\": \"Casual\", \"baseColour\": \"Brown\", \"articleType\": \"Shirts\"}<|im_end|>\n",
      "--------------------------------------------------\n",
      "\n",
      "--- 샘플 8 ---\n",
      "모델의 예측: {\"gender\": \"Women\", \"masterCategory\": \"Personal Care\", \"subCategory\": \"Lips\", \"season\": \"Spring\", \"usage\": \"Casual\", \"baseColour\": \"Maroon\", \"articleType\": \"Lip Liner\"}\n",
      "원래 레이블: {\"gender\": \"Women\", \"masterCategory\": \"Personal Care\", \"subCategory\": \"Lips\", \"season\": \"Spring\", \"usage\": \"Casual\", \"baseColour\": \"Maroon\", \"articleType\": \"Lip Liner\"}<|im_end|>\n",
      "--------------------------------------------------\n",
      "\n",
      "--- 샘플 9 ---\n",
      "모델의 예측: - 7개 항목 이외의 정보(텍스트, 문장 등)는 절대 포함하지 마세요.\n",
      "\n",
      "{\"gender\": \"Women\", \"masterCategory\": \"Personal Care\", \"subCategory\": \"Fragrance\", \"season\": \"Spring\", \"usage\": \"Casual\", \"baseColour\": \"White\", \"articleType\": \"Perfume and Body Mist\"}\n",
      "원래 레이블: {\"gender\": \"Women\", \"masterCategory\": \"Personal Care\", \"subCategory\": \"Fragrance\", \"season\": \"Spring\", \"usage\": \"Casual\", \"baseColour\": \"Silver\", \"articleType\": \"Perfume and Body Mist\"}<|im_end|>\n",
      "--------------------------------------------------\n",
      "\n",
      "--- 샘플 10 ---\n",
      "모델의 예측: - 7개 항목 이외의 정보(텍스트, 문장 등)는 절대 포함하지 마세요.\n",
      "{\"gender\": \"Men\", \"masterCategory\": \"Accessories\", \"subCategory\": \"Watches\", \"season\": \"Winter\", \"usage\": \"Casual\", \"baseColour\": \"Black\", \"articleType\": \"Watches\"}\n",
      "원래 레이블: {\"gender\": \"Men\", \"masterCategory\": \"Accessories\", \"subCategory\": \"Watches\", \"season\": \"Winter\", \"usage\": \"Casual\", \"baseColour\": \"Black\", \"articleType\": \"Watches\"}<|im_end|>\n",
      "--------------------------------------------------\n",
      "\n",
      "--- 샘플 11 ---\n",
      "모델의 예측: {\"gender\": \"Men\n",
      "원래 레이블: {\"gender\": \"Men\", \"masterCategory\": \"Footwear\", \"subCategory\": \"Shoes\", \"season\": \"Spring\", \"usage\": \"Casual\", \"baseColour\": \"Blue\", \"articleType\": \"Casual Shoes\"}<|im_end|>\n",
      "--------------------------------------------------\n",
      "\n",
      "--- 샘플 12 ---\n",
      "모델의 예측: - 7개 항목 이외의 정보(텍스트, 문장 등)는 절대 포함하지 마세요.\n",
      "{\"gender\": \"Men\", \"masterCategory\": \"Apparel\", \"subCategory\": \"Topwear\", \"season\": \"Fall\", \"usage\": \"Casual\", \"baseColour\": \"Olive\", \"articleType\": \"Shirts\"}\n",
      "원래 레이블: {\"gender\": \"Men\", \"masterCategory\": \"Apparel\", \"subCategory\": \"Topwear\", \"season\": \"Summer\", \"usage\": \"Casual\", \"baseColour\": \"Olive\", \"articleType\": \"Shirts\"}<|im_end|>\n",
      "--------------------------------------------------\n",
      "\n",
      "--- 샘플 13 ---\n",
      "모델의 예측: {\"gender\": \"Boys\", \"masterCategory\": \"Apparel\", \"subCategory\": \"Topwear\", \"season\": \"Summer\", \"usage\": \"Casual\", \"baseColour\": \"Red\", \"articleType\": \"Tshirts\"}\n",
      "원래 레이블: {\"gender\": \"Boys\", \"masterCategory\": \"Apparel\", \"subCategory\": \"Topwear\", \"season\": \"Summer\", \"usage\": \"Casual\", \"baseColour\": \"Red\", \"articleType\": \"Tshirts\"}<|im_end|>\n",
      "--------------------------------------------------\n",
      "\n",
      "--- 샘플 14 ---\n",
      "모델의 예측: {\"gender\": \"Men\n",
      "원래 레이블: {\"gender\": \"Men\", \"masterCategory\": \"Apparel\", \"subCategory\": \"Topwear\", \"season\": \"Fall\", \"usage\": \"Casual\", \"baseColour\": \"White\", \"articleType\": \"Tshirts\"}<|im_end|>\n",
      "--------------------------------------------------\n",
      "\n",
      "--- 샘플 15 ---\n",
      "모델의 예측: {\"gender\": \"Women\n",
      "{\"gender\": \"Women\", \"masterCategory\": \"Apparel\", \"subCategory\": \"Topwear\", \"season\": \"Summer\", \"usage\": \"Sports\", \"baseColour\": \"Turquoise Blue\", \"articleType\": \"Tshirts\"}\n",
      "원래 레이블: {\"gender\": \"Women\", \"masterCategory\": \"Apparel\", \"subCategory\": \"Topwear\", \"season\": \"Summer\", \"usage\": \"Sports\", \"baseColour\": \"Blue\", \"articleType\": \"Tshirts\"}<|im_end|>\n",
      "--------------------------------------------------\n",
      "\n",
      "--- 샘플 16 ---\n",
      "모델의 예측: - 7개 항목 이외의 정보(텍스트 등)는 절대 포함하지 마세요.\n",
      "{\"gender\": \"Men\", \"masterCategory\": \"Apparel\", \"subCategory\": \"Topwear\", \"season\": \"Summer\", \"usage\": \"Casual\", \"baseColour\": \"Yellow\", \"articleType\": \"Shirts\"}\n",
      "원래 레이블: {\"gender\": \"Men\", \"masterCategory\": \"Apparel\", \"subCategory\": \"Topwear\", \"season\": \"Summer\", \"usage\": \"Casual\", \"baseColour\": \"Yellow\", \"articleType\": \"Shirts\"}<|im_end|>\n",
      "--------------------------------------------------\n",
      "\n",
      "--- 샘플 17 ---\n",
      "모델의 예측: {\"gender\": \"Men\n",
      "원래 레이블: {\"gender\": \"Men\", \"masterCategory\": \"Apparel\", \"subCategory\": \"Bottomwear\", \"season\": \"Summer\", \"usage\": \"Casual\", \"baseColour\": \"Black\", \"articleType\": \"Tracksuits\"}<|im_end|>\n",
      "--------------------------------------------------\n",
      "\n",
      "--- 샘플 18 ---\n",
      "모델의 예측: -\n",
      "원래 레이블: {\"gender\": \"Women\", \"masterCategory\": \"Apparel\", \"subCategory\": \"Bottomwear\", \"season\": \"Summer\", \"usage\": \"Sports\", \"baseColour\": \"Purple\", \"articleType\": \"Shorts\"}<|im_end|>\n",
      "--------------------------------------------------\n",
      "\n",
      "--- 샘플 19 ---\n",
      "모델의 예측: - 7개 항목 이외의 정보(텍스트, 문장 등)는 절대 포함하지 마세요.\n",
      "\n",
      "{\"gender\": \"Women\", \"masterCategory\": \"Apparel\", \"subCategory\": \"Loungewear and Nightwear\", \"season\": \"Summer\", \"usage\": \"Casual\", \"baseColour\": \"Pink\", \"articleType\": \"Nightdress\"}\n",
      "원래 레이블: {\"gender\": \"Women\", \"masterCategory\": \"Apparel\", \"subCategory\": \"Loungewear and Nightwear\", \"season\": \"Winter\", \"usage\": \"Casual\", \"baseColour\": \"Pink\", \"articleType\": \"Baby Dolls\"}<|im_end|>\n",
      "--------------------------------------------------\n",
      "\n",
      "--- 샘플 20 ---\n",
      "모델의 예측: {\"gender\": \"Men\", \"masterCategory\": \"Accessories\", \"subCategory\": \"Bags\", \"season\": \"Summer\", \"usage\": \"Casual\", \"baseColour\": \"Black\", \"articleType\": \"Backpacks\"}\n",
      "원래 레이블: {\"gender\": \"Men\", \"masterCategory\": \"Accessories\", \"subCategory\": \"Bags\", \"season\": \"Summer\", \"usage\": \"Sports\", \"baseColour\": \"Black\", \"articleType\": \"Backpacks\"}<|im_end|>\n",
      "--------------------------------------------------\n",
      "\n",
      "--- 샘플 21 ---\n",
      "모델의 예측: -\n",
      "원래 레이블: {\"gender\": \"Women\", \"masterCategory\": \"Accessories\", \"subCategory\": \"Bags\", \"season\": \"Winter\", \"usage\": \"Casual\", \"baseColour\": \"Black\", \"articleType\": \"Handbags\"}<|im_end|>\n",
      "--------------------------------------------------\n",
      "\n",
      "--- 샘플 22 ---\n",
      "모델의 예측: - 7개 항목 이외의 정보(텍스트, 문장 등)는 절대 포함하지 마세요.\n",
      "\n",
      "{\"gender\": \"Women\", \"masterCategory\": \"Accessories\", \"subCategory\": \"Scarves\", \"season\": \"Summer\", \"usage\": \"Casual\", \"baseColour\": \"Brown\", \"articleType\": \"Scarves\"}\n",
      "원래 레이블: {\"gender\": \"Women\", \"masterCategory\": \"Accessories\", \"subCategory\": \"Scarves\", \"season\": \"Summer\", \"usage\": \"Casual\", \"baseColour\": \"Brown\", \"articleType\": \"Scarves\"}<|im_end|>\n",
      "--------------------------------------------------\n",
      "\n",
      "--- 샘플 23 ---\n",
      "모델의 예측: - 7개 항목 이외의 정보(텍스트, 문장 등)는 절대 포함하지 마세요.\n",
      "\n",
      "{\"gender\": \"Women\", \"masterCategory\": \"Accessories\", \"subCategory\": \"Eyewear\", \"season\": \"Winter\", \"usage\": \"Casual\", \"baseColour\": \"Pink\", \"articleType\": \"Sunglasses\"}\n",
      "원래 레이블: {\"gender\": \"Women\", \"masterCategory\": \"Accessories\", \"subCategory\": \"Eyewear\", \"season\": \"Winter\", \"usage\": \"Casual\", \"baseColour\": \"Pink\", \"articleType\": \"Sunglasses\"}<|im_end|>\n",
      "--------------------------------------------------\n",
      "\n",
      "--- 샘플 24 ---\n",
      "모델의 예측: {\"gender\": \"Women\",\n",
      "\"masterCategory\": \"Apparel\",\n",
      "\"subCategory\": \"Saree\",\n",
      "\"season\": \"Fall\",\n",
      "\"usage\": \"Ethnic\",\n",
      "\"baseColour\": \"Navy Blue\",\n",
      "\"articleType\": \"Sarees\"\n",
      "원래 레이블: {\"gender\": \"Women\", \"masterCategory\": \"Apparel\", \"subCategory\": \"Saree\", \"season\": \"Summer\", \"usage\": \"Ethnic\", \"baseColour\": \"Navy Blue\", \"articleType\": \"Sarees\"}<|im_end|>\n",
      "--------------------------------------------------\n",
      "\n",
      "--- 샘플 25 ---\n",
      "모델의 예측: {\"gender\": \"Men\n",
      "원래 레이블: {\"gender\": \"Men\", \"masterCategory\": \"Apparel\", \"subCategory\": \"Topwear\", \"season\": \"Summer\", \"usage\": \"Sports\", \"baseColour\": \"White\", \"articleType\": \"Tshirts\"}<|im_end|>\n",
      "--------------------------------------------------\n",
      "\n",
      "--- 샘플 26 ---\n",
      "모델의 예측: - 7개 항목 이외의 정보(텍스트, 문장 등)는 절대 포함하지 마세요.\n",
      "\n",
      "출력 시 **아래 JSON 예시 형태**를 반드시 지키세요:\n",
      "{\"gender\": \"Women\", \"masterCategory\": \"Footwear\", \"subCategory\": \"Shoes\", \"season\": \"Winter\", \"usage\": \"Casual\", \"baseColour\": \"Black\", \"articleType\": \"Heels\"}\n",
      "\n",
      "위 JSON 예시 형태를 지키지 않으면 아래와 같이 오류 메시지가 출력됩니다:\n",
      "{\"error\": \"입력 정보가 정확\n",
      "원래 레이블: {\"gender\": \"Women\", \"masterCategory\": \"Footwear\", \"subCategory\": \"Shoes\", \"season\": \"Winter\", \"usage\": \"Casual\", \"baseColour\": \"White\", \"articleType\": \"Heels\"}<|im_end|>\n",
      "--------------------------------------------------\n",
      "\n",
      "--- 샘플 27 ---\n",
      "모델의 예측: - 7개 항목 이외의 정보(텍스트 등)가 포함되어 있습니다.\n",
      "원래 레이블: {\"gender\": \"Men\", \"masterCategory\": \"Personal Care\", \"subCategory\": \"Fragrance\", \"season\": \"Spring\", \"usage\": \"Casual\", \"baseColour\": \"Silver\", \"articleType\": \"Deodorant\"}<|im_end|>\n",
      "--------------------------------------------------\n",
      "\n",
      "--- 샘플 28 ---\n",
      "모델의 예측: - 7개 항목 이외의 정보(텍스트 등)가 포함되어 있습니다.\n",
      "원래 레이블: {\"gender\": \"Men\", \"masterCategory\": \"Apparel\", \"subCategory\": \"Innerwear\", \"season\": \"Summer\", \"usage\": \"Casual\", \"baseColour\": \"Blue\", \"articleType\": \"Boxers\"}<|im_end|>\n",
      "--------------------------------------------------\n",
      "\n",
      "--- 샘플 29 ---\n",
      "모델의 예측: - 7개 항목 이외의 정보(텍스트, 문장 등)는 절대 포함하지 마세요.\n",
      "{\"gender\": \"Women\", \"masterCategory\": \"Accessories\", \"subCategory\": \"Bags\", \"season\": \"Summer\", \"usage\": \"Casual\", \"baseColour\": \"Pink\", \"articleType\": \"Handbags\"}\n",
      "원래 레이블: {\"gender\": \"Women\", \"masterCategory\": \"Accessories\", \"subCategory\": \"Bags\", \"season\": \"Spring\", \"usage\": \"Sports\", \"baseColour\": \"Pink\", \"articleType\": \"Handbags\"}<|im_end|>\n",
      "--------------------------------------------------\n",
      "\n",
      "--- 샘플 30 ---\n",
      "모델의 예측: - 7개 항목 이외의 정보(텍스트, 문장 등)는 절대 포함하지 마세요.\n",
      "\n",
      "{\"gender\": \"Men\", \"masterCategory\": \"Apparel\", \"subCategory\": \"Topwear\", \"season\": \"Summer\", \"usage\": \"Casual\", \"baseColour\": \"Black\", \"articleType\": \"Tshirts\"}\n",
      "원래 레이블: {\"gender\": \"Men\", \"masterCategory\": \"Apparel\", \"subCategory\": \"Topwear\", \"season\": \"Summer\", \"usage\": \"Casual\", \"baseColour\": \"Black\", \"articleType\": \"Tshirts\"}<|im_end|>\n",
      "--------------------------------------------------\n",
      "\n",
      "--- 샘플 31 ---\n",
      "모델의 예측: {\"gender\": \"Women\", \"masterCategory\": \"Apparel\", \"subCategory\": \"Innerwear\", \"season\": \"Summer\", \"usage\": \"Casual\", \"baseColour\": \"Purple\", \"articleType\": \"Bra\"}\n",
      "원래 레이블: {\"gender\": \"Women\", \"masterCategory\": \"Apparel\", \"subCategory\": \"Innerwear\", \"season\": \"Summer\", \"usage\": \"Casual\", \"baseColour\": \"Purple\", \"articleType\": \"Bra\"}<|im_end|>\n",
      "--------------------------------------------------\n",
      "\n",
      "--- 샘플 32 ---\n",
      "모델의 예측: - 7개 항목 이외의 정보(텍스트, 문장 등)는 절대 포함하지 마세요.\n",
      "\n",
      "출력 시 **아래 JSON 예시 형태**를 반드시 지키세요:\n",
      "{\"gender\": \"Men\", \"masterCategory\": \"Apparel\", \"subCategory\": \"Bottomwear\", \"season\": \"Summer\", \"usage\": \"Formal\", \"baseColour\": \"Black\", \"articleType\": \"Trousers\"}\n",
      "\n",
      "위 JSON 예시 형태를 지키지 않으면 아래와 같이 오류 메시지가 출력됩니다:\n",
      "{\"error\": \"입력 정보가 JSON\n",
      "원래 레이블: {\"gender\": \"Men\", \"masterCategory\": \"Apparel\", \"subCategory\": \"Bottomwear\", \"season\": \"Summer\", \"usage\": \"Formal\", \"baseColour\": \"Black\", \"articleType\": \"Trousers\"}<|im_end|>\n",
      "--------------------------------------------------\n",
      "\n",
      "--- 샘플 33 ---\n",
      "모델의 예측: - 7개 항목 이외의 정보(텍스트, 문장 등)는 절대 포함하지 마세요.\n",
      "\n",
      "{\"gender\": \"Women\", \"masterCategory\": \"Apparel\", \"subCategory\": \"Topwear\", \"season\": \"Summer\", \"usage\": \"Casual\", \"baseColour\": \"White\", \"articleType\": \"Tops\"}\n",
      "원래 레이블: {\"gender\": \"Women\", \"masterCategory\": \"Apparel\", \"subCategory\": \"Topwear\", \"season\": \"Fall\", \"usage\": \"Casual\", \"baseColour\": \"White\", \"articleType\": \"Tops\"}<|im_end|>\n",
      "--------------------------------------------------\n",
      "\n",
      "--- 샘플 34 ---\n",
      "모델의 예측: {\"gender\": \"Women\", \"masterCategory\": \"Personal Care\", \"subCategory\": \"Lips\", \"season\": \"Spring\", \"usage\": \"Casual\", \"baseColour\": \"Pink\", \"articleType\": \"Lipstick\"}\n",
      "원래 레이블: {\"gender\": \"Women\", \"masterCategory\": \"Personal Care\", \"subCategory\": \"Lips\", \"season\": \"Spring\", \"usage\": \"Casual\", \"baseColour\": \"Pink\", \"articleType\": \"Lipstick\"}<|im_end|>\n",
      "--------------------------------------------------\n",
      "\n",
      "--- 샘플 35 ---\n",
      "모델의 예측: {\"gender\": \"Men{\"assistant\n",
      "{\"gender\": \"Men\", \"masterCategory\": \"Footwear\", \"subCategory\": \"Flip Flops\", \"season\": \"Summer\", \"usage\": \"Casual\", \"baseColour\": \"White\", \"articleType\": \"Flip Flops\"}\n",
      "원래 레이블: {\"gender\": \"Men\", \"masterCategory\": \"Footwear\", \"subCategory\": \"Flip Flops\", \"season\": \"Summer\", \"usage\": \"Casual\", \"baseColour\": \"White\", \"articleType\": \"Flip Flops\"}<|im_end|>\n",
      "--------------------------------------------------\n",
      "\n",
      "--- 샘플 36 ---\n",
      "모델의 예측: {\"gender\": \"Women\", \"masterCategory\": \"Personal Care\", \"subCategory\": \"Nails\", \"season\": \"Spring\", \"usage\": \"Casual\", \"baseColour\": \"Purple\", \"articleType\": \"Nail Polish\"}\n",
      "원래 레이블: {\"gender\": \"Women\", \"masterCategory\": \"Personal Care\", \"subCategory\": \"Nails\", \"season\": \"Spring\", \"usage\": \"Casual\", \"baseColour\": \"Brown\", \"articleType\": \"Nail Polish\"}<|im_end|>\n",
      "--------------------------------------------------\n",
      "\n",
      "--- 샘플 37 ---\n",
      "모델의 예측: -\n",
      "원래 레이블: {\"gender\": \"Men\", \"masterCategory\": \"Footwear\", \"subCategory\": \"Shoes\", \"season\": \"Summer\", \"usage\": \"Casual\", \"baseColour\": \"White\", \"articleType\": \"Casual Shoes\"}<|im_end|>\n",
      "--------------------------------------------------\n",
      "\n",
      "--- 샘플 38 ---\n",
      "모델의 예측: - 7개 항목 이외의 정보(텍스트, 문장 등)는 절대 포함하지 마세요.\n",
      "{\"gender\": \"Women\", \"masterCategory\": \"Accessories\", \"subCategory\": \"Bags\", \"season\": \"Summer\", \"usage\": \"Casual\", \"baseColour\": \"Yellow\", \"articleType\": \"Clutches\"}\n",
      "원래 레이블: {\"gender\": \"Women\", \"masterCategory\": \"Accessories\", \"subCategory\": \"Bags\", \"season\": \"Summer\", \"usage\": \"Casual\", \"baseColour\": \"Yellow\", \"articleType\": \"Clutches\"}<|im_end|>\n",
      "--------------------------------------------------\n",
      "\n",
      "--- 샘플 39 ---\n",
      "모델의 예측: {\"gender\": \"Women\n",
      "{\"gender\": \"Women\", \"masterCategory\": \"Personal Care\", \"subCategory\": \"Nails\", \"season\": \"Spring\", \"usage\": \"Casual\", \"baseColour\": \"Orange\", \"articleType\": \"Nail Polish\"}\n",
      "원래 레이블: {\"gender\": \"Women\", \"masterCategory\": \"Personal Care\", \"subCategory\": \"Nails\", \"season\": \"Spring\", \"usage\": \"Casual\", \"baseColour\": \"Orange\", \"articleType\": \"Nail Polish\"}<|im_end|>\n",
      "--------------------------------------------------\n",
      "\n",
      "--- 샘플 40 ---\n",
      "모델의 예측: - 7개 항목 이외의 정보(텍스트, 문장 등)는 절대 포함하지 마세요.\n",
      "\n",
      "출력 시 **아래 JSON 예시 형태**를 반드시 지키세요:\n",
      "{\"gender\": \"Men\", \"masterCategory\": \"Accessories\", \"subCategory\": \"Belts\", \"season\": \"Summer\", \"usage\": \"Casual\", \"baseColour\": \"Brown\", \"articleType\": \"Belts\"}\n",
      "\n",
      "위 JSON 예시 형태를 지키지 않으면 아래와 같이 오류 메시지가 출력됩니다:\n",
      "{\"error\": \"입력 정보가 정확\n",
      "원래 레이블: {\"gender\": \"Men\", \"masterCategory\": \"Accessories\", \"subCategory\": \"Belts\", \"season\": \"Fall\", \"usage\": \"Casual\", \"baseColour\": \"Brown\", \"articleType\": \"Belts\"}<|im_end|>\n",
      "--------------------------------------------------\n",
      "\n",
      "--- 샘플 41 ---\n",
      "모델의 예측: {\"gender\": \"Men\", \"masterCategory\": \"Accessories\", \"subCategory\": \"Eyewear\", \"season\": \"Winter\", \"usage\": \"Casual\", \"baseColour\": \"Brown\", \"articleType\": \"Sunglasses\"}\n",
      "원래 레이블: {\"gender\": \"Men\", \"masterCategory\": \"Accessories\", \"subCategory\": \"Eyewear\", \"season\": \"Winter\", \"usage\": \"Casual\", \"baseColour\": \"Brown\", \"articleType\": \"Sunglasses\"}<|im_end|>\n",
      "--------------------------------------------------\n",
      "\n",
      "--- 샘플 42 ---\n",
      "모델의 예측: -\n",
      "원래 레이블: {\"gender\": \"Men\", \"masterCategory\": \"Footwear\", \"subCategory\": \"Shoes\", \"season\": \"Summer\", \"usage\": \"Sports\", \"baseColour\": \"White\", \"articleType\": \"Sports Shoes\"}<|im_end|>\n",
      "--------------------------------------------------\n",
      "\n",
      "--- 샘플 43 ---\n",
      "모델의 예측: {\"gender\": \"Men\", \"masterCategory\": \"Accessories\", \"subCategory\": \"Socks\", \"season\": \"Summer\", \"usage\": \"Casual\", \"baseColour\": \"Black\", \"articleType\": \"Socks\"}\n",
      "원래 레이블: {\"gender\": \"Men\", \"masterCategory\": \"Accessories\", \"subCategory\": \"Socks\", \"season\": \"Summer\", \"usage\": \"Sports\", \"baseColour\": \"Black\", \"articleType\": \"Socks\"}<|im_end|>\n",
      "--------------------------------------------------\n",
      "\n",
      "--- 샘플 44 ---\n",
      "모델의 예측: {\"gender\": \"Men\", \"masterCategory\": \"Apparel\", \"subCategory\": \"Topwear\", \"season\": \"Summer\", \"usage\": \"Casual\", \"baseColour\": \"Black\", \"articleType\": \"Tshirts\"}\n",
      "원래 레이블: {\"gender\": \"Men\", \"masterCategory\": \"Apparel\", \"subCategory\": \"Topwear\", \"season\": \"Fall\", \"usage\": \"Sports\", \"baseColour\": \"Black\", \"articleType\": \"Tshirts\"}<|im_end|>\n",
      "--------------------------------------------------\n",
      "\n",
      "--- 샘플 45 ---\n",
      "모델의 예측: - 7개 항목 이외의 정보(텍스트, 문장 등)는 절대 포함하지 마세요.\n",
      "\n",
      "{\"gender\": \"Women\", \"masterCategory\": \"Apparel\", \"subCategory\": \"Topwear\", \"season\": \"Summer\", \"usage\": \"Casual\", \"baseColour\": \"Multi\", \"articleType\": \"Tops\"}\n",
      "원래 레이블: {\"gender\": \"Women\", \"masterCategory\": \"Apparel\", \"subCategory\": \"Topwear\", \"season\": \"Summer\", \"usage\": \"Casual\", \"baseColour\": \"White\", \"articleType\": \"Tops\"}<|im_end|>\n",
      "--------------------------------------------------\n",
      "\n",
      "--- 샘플 46 ---\n",
      "모델의 예측: - 70800000000000000000000000000000000000000000000000000000000000000000000000000000000000000000000000000000000000000000000000000\n",
      "원래 레이블: {\"gender\": \"Men\", \"masterCategory\": \"Footwear\", \"subCategory\": \"Shoes\", \"season\": \"Summer\", \"usage\": \"Casual\", \"baseColour\": \"Grey\", \"articleType\": \"Casual Shoes\"}<|im_end|>\n",
      "--------------------------------------------------\n",
      "\n",
      "--- 샘플 47 ---\n",
      "모델의 예측: - 7개 항목 이외의 정보(텍스트, 문장 등)는 절대 포함하지 마세요.\n",
      "\n",
      "출력 시 **아래 JSON 예시 형태**를 반드시 지키세요:\n",
      "{\"gender\": \"Men\", \"masterCategory\": \"Personal Care\", \"subCategory\": \"Fragrance\", \"season\": \"Spring\", \"usage\": \"Casual\", \"baseColour\": \"Black\", \"articleType\": \"Fragrance Gift Set\"}\n",
      "\n",
      "위 JSON 예시 형태를 지키지 않으면 아래와 같이 오류 메시지가 출력됩니다:\n",
      "{\"error\": \"입력\n",
      "원래 레이블: {\"gender\": \"Men\", \"masterCategory\": \"Personal Care\", \"subCategory\": \"Fragrance\", \"season\": \"Spring\", \"usage\": \"Casual\", \"baseColour\": \"Black\", \"articleType\": \"Fragrance Gift Set\"}<|im_end|>\n",
      "--------------------------------------------------\n",
      "\n",
      "--- 샘플 48 ---\n",
      "모델의 예측: - 7개 항목 이외의 정보(텍스트, 문장 등)는 절대 포함하지 마세요.\n",
      "\n",
      "{\"gender\": \"Women\", \"masterCategory\": \"Accessories\", \"subCategory\": \"Bags\", \"season\": \"Summer\", \"usage\": \"Casual\", \"baseColour\": \"Purple\", \"articleType\": \"Handbags\"}\n",
      "원래 레이블: {\"gender\": \"Women\", \"masterCategory\": \"Accessories\", \"subCategory\": \"Bags\", \"season\": \"Summer\", \"usage\": \"Casual\", \"baseColour\": \"Purple\", \"articleType\": \"Handbags\"}<|im_end|>\n",
      "--------------------------------------------------\n",
      "\n",
      "--- 샘플 49 ---\n",
      "모델의 예측: - 7개 항목 이외의 정보(텍스트, 문장 등)는 절대 포함하지 마세요.\n",
      "\n",
      "출력 시 **아래 JSON 예시 형태**를 반드시 지키세요:\n",
      "{\"gender\": \"Men\", \"masterCategory\": \"Footwear\", \"subCategory\": \"Shoes\", \"season\": \"Summer\", \"usage\": \"Casual\", \"baseColour\": \"Black\", \"articleType\": \"Casual Shoes\"}\n",
      "\n",
      "위 JSON 예시 형태를 지키지 않으면 아래와 같이 오류 메시지가 출력됩니다:\n",
      "{\"error\": \"입력 정보가 정\n",
      "원래 레이블: {\"gender\": \"Men\", \"masterCategory\": \"Footwear\", \"subCategory\": \"Shoes\", \"season\": \"Summer\", \"usage\": \"Casual\", \"baseColour\": \"Black\", \"articleType\": \"Casual Shoes\"}<|im_end|>\n",
      "--------------------------------------------------\n",
      "\n",
      "--- 샘플 50 ---\n",
      "모델의 예측: - 7개 항목 이외의 정보(텍스트, 문장 등)는 절대 포함하지 마세요.\n",
      "\n",
      "{\"gender\": \"Men\", \"masterCategory\": \"Accessories\", \"subCategory\": \"Watches\", \"season\": \"Winter\", \"usage\": \"Casual\", \"baseColour\": \"Silver\", \"articleType\": \"Watches\"}\n",
      "원래 레이블: {\"gender\": \"Men\", \"masterCategory\": \"Accessories\", \"subCategory\": \"Watches\", \"season\": \"Winter\", \"usage\": \"Casual\", \"baseColour\": \"Silver\", \"articleType\": \"Watches\"}<|im_end|>\n",
      "--------------------------------------------------\n"
     ]
    }
   ],
   "source": [
    "\n",
    "# 결과 출력\n",
    "print(\"\\n=== 배치 인퍼런스 결과 ===\")\n",
    "for i, output in enumerate(output_texts):\n",
    "    print(f\"\\n--- 샘플 {i+1} ---\")\n",
    "    print(f\"모델의 예측: {output.strip()}\")\n",
    "    print(f\"원래 레이블: {batch_labels[i].strip()}\")\n",
    "    print(\"-\" * 50)\n"
   ]
  },
  {
   "cell_type": "code",
   "execution_count": 41,
   "metadata": {
    "id": "WH7TmLo9-xkU"
   },
   "outputs": [
    {
     "name": "stdout",
     "output_type": "stream",
     "text": [
      "샘플 3: 예측 결과에 JSON 형태가 없음\n",
      "샘플 4: 예측 결과에 JSON 형태가 없음\n",
      "샘플 11: 예측 결과에 JSON 형태가 없음\n",
      "샘플 14: 예측 결과에 JSON 형태가 없음\n",
      "샘플 15: 예측 결과 JSON 파싱 실패\n",
      "샘플 17: 예측 결과에 JSON 형태가 없음\n",
      "샘플 18: 예측 결과에 JSON 형태가 없음\n",
      "샘플 21: 예측 결과에 JSON 형태가 없음\n",
      "샘플 24: 예측 결과에 JSON 형태가 없음\n",
      "샘플 25: 예측 결과에 JSON 형태가 없음\n",
      "샘플 27: 예측 결과에 JSON 형태가 없음\n",
      "샘플 28: 예측 결과에 JSON 형태가 없음\n",
      "샘플 35: 예측 결과 JSON 파싱 실패\n",
      "샘플 37: 예측 결과에 JSON 형태가 없음\n",
      "샘플 39: 예측 결과 JSON 파싱 실패\n",
      "샘플 42: 예측 결과에 JSON 형태가 없음\n",
      "샘플 46: 예측 결과에 JSON 형태가 없음\n",
      "\n",
      "=== F1 Score 결과 ===\n",
      "Key             F1 Score   샘플 수    \n",
      "-----------------------------------\n",
      "gender          1.0000     33\n",
      "masterCategory  1.0000     33\n",
      "subCategory     1.0000     33\n",
      "season          0.6070     33\n",
      "usage           0.7316     33\n",
      "baseColour      0.8320     33\n",
      "articleType     0.8889     33\n",
      "-----------------------------------\n",
      "평균 F1           0.8656\n",
      "\n",
      "=== 상세 결과 ===\n",
      "gender: 정확도 1.0000 (33/33)\n",
      "masterCategory: 정확도 1.0000 (33/33)\n",
      "subCategory: 정확도 1.0000 (33/33)\n",
      "season: 정확도 0.6667 (22/33)\n",
      "usage: 정확도 0.8485 (28/33)\n",
      "baseColour: 정확도 0.8788 (29/33)\n",
      "articleType: 정확도 0.9394 (31/33)\n"
     ]
    },
    {
     "name": "stderr",
     "output_type": "stream",
     "text": [
      "/usr/local/lib/python3.11/dist-packages/sklearn/metrics/_classification.py:98: UserWarning: The number of unique classes is greater than 50% of the number of samples. `y` could represent a regression problem, not a classification problem.\n",
      "  type_true = type_of_target(y_true, input_name=\"y_true\")\n",
      "/usr/local/lib/python3.11/dist-packages/sklearn/metrics/_classification.py:99: UserWarning: The number of unique classes is greater than 50% of the number of samples. `y` could represent a regression problem, not a classification problem.\n",
      "  type_pred = type_of_target(y_pred, input_name=\"y_pred\")\n",
      "/usr/local/lib/python3.11/dist-packages/sklearn/utils/multiclass.py:79: UserWarning: The number of unique classes is greater than 50% of the number of samples. `y` could represent a regression problem, not a classification problem.\n",
      "  ys_types = set(type_of_target(x) for x in ys)\n",
      "/usr/local/lib/python3.11/dist-packages/sklearn/utils/multiclass.py:79: UserWarning: The number of unique classes is greater than 50% of the number of samples. `y` could represent a regression problem, not a classification problem.\n",
      "  ys_types = set(type_of_target(x) for x in ys)\n",
      "/usr/local/lib/python3.11/dist-packages/sklearn/metrics/_classification.py:98: UserWarning: The number of unique classes is greater than 50% of the number of samples. `y` could represent a regression problem, not a classification problem.\n",
      "  type_true = type_of_target(y_true, input_name=\"y_true\")\n",
      "/usr/local/lib/python3.11/dist-packages/sklearn/metrics/_classification.py:99: UserWarning: The number of unique classes is greater than 50% of the number of samples. `y` could represent a regression problem, not a classification problem.\n",
      "  type_pred = type_of_target(y_pred, input_name=\"y_pred\")\n",
      "/usr/local/lib/python3.11/dist-packages/sklearn/utils/multiclass.py:79: UserWarning: The number of unique classes is greater than 50% of the number of samples. `y` could represent a regression problem, not a classification problem.\n",
      "  ys_types = set(type_of_target(x) for x in ys)\n",
      "/usr/local/lib/python3.11/dist-packages/sklearn/utils/multiclass.py:79: UserWarning: The number of unique classes is greater than 50% of the number of samples. `y` could represent a regression problem, not a classification problem.\n",
      "  ys_types = set(type_of_target(x) for x in ys)\n"
     ]
    }
   ],
   "source": [
    "import json\n",
    "from sklearn.metrics import f1_score\n",
    "from collections import defaultdict\n",
    "\n",
    "def calculate_f1_scores(outputs, batch_labels):\n",
    "    \"\"\"각 key별로 F1 score를 계산하는 함수\"\"\"\n",
    "\n",
    "    # 각 키별로 예측값과 실제값을 저장할 딕셔너리\n",
    "    predictions_by_key = defaultdict(list)\n",
    "    labels_by_key = defaultdict(list)\n",
    "\n",
    "    for i, output in enumerate(outputs):\n",
    "        # 모델 예측 결과 파싱\n",
    "        try:\n",
    "            # `pred_text`가 이미 문자열이므로 바로 사용합니다.\n",
    "            pred_text = output.strip()\n",
    "            \n",
    "            # JSON만 추출하기\n",
    "            # 예측 결과에 불필요한 텍스트가 포함된 경우 JSON 부분만 찾아냅니다.\n",
    "            start_index = pred_text.find('{')\n",
    "            end_index = pred_text.rfind('}')\n",
    "            \n",
    "            if start_index != -1 and end_index != -1:\n",
    "                json_string = pred_text[start_index : end_index + 1]\n",
    "                pred_json = json.loads(json_string)\n",
    "            else:\n",
    "                print(f\"샘플 {i+1}: 예측 결과에 JSON 형태가 없음\")\n",
    "                continue\n",
    "        except json.JSONDecodeError:\n",
    "            print(f\"샘플 {i+1}: 예측 결과 JSON 파싱 실패\")\n",
    "            continue\n",
    "\n",
    "        # 실제 레이블 파싱\n",
    "        try:\n",
    "            label_text = batch_labels[i].strip()\n",
    "            # <|im_end|> 제거\n",
    "            if label_text.endswith('<|im_end|>'):\n",
    "                label_text = label_text[:-10]\n",
    "            label_json = json.loads(label_text)\n",
    "        except:\n",
    "            print(f\"샘플 {i+1}: 레이블 JSON 파싱 실패\")\n",
    "            continue\n",
    "\n",
    "        # 각 키별로 예측값과 실제값 저장\n",
    "        for key in label_json.keys():\n",
    "            if key in pred_json:\n",
    "                predictions_by_key[key].append(pred_json[key])\n",
    "                labels_by_key[key].append(label_json[key])\n",
    "            else:\n",
    "                print(f\"샘플 {i+1}: 키 '{key}' 예측 결과에 없음\")\n",
    "\n",
    "    # 각 키별로 F1 score 계산\n",
    "    f1_scores = {}\n",
    "    for key in labels_by_key.keys():\n",
    "        if len(labels_by_key[key]) > 0:\n",
    "            # 고유한 라벨들 확인\n",
    "            unique_labels = list(set(labels_by_key[key] + predictions_by_key[key]))\n",
    "\n",
    "            if len(unique_labels) == 1:\n",
    "                # 모든 값이 동일한 경우\n",
    "                f1_scores[key] = 1.0\n",
    "            else:\n",
    "                # F1 score 계산 (macro average)\n",
    "                f1_scores[key] = f1_score(\n",
    "                    labels_by_key[key],\n",
    "                    predictions_by_key[key],\n",
    "                    labels=unique_labels,\n",
    "                    average='macro',\n",
    "                    zero_division=0\n",
    "                )\n",
    "\n",
    "    return f1_scores, predictions_by_key, labels_by_key\n",
    "\n",
    "# F1 score 계산 실행\n",
    "f1_results, preds_by_key, labels_by_key = calculate_f1_scores(output_texts, batch_labels)\n",
    "\n",
    "# 결과 출력\n",
    "print(\"\\n=== F1 Score 결과 ===\")\n",
    "print(f\"{'Key':<15} {'F1 Score':<10} {'샘플 수':<8}\")\n",
    "print(\"-\" * 35)\n",
    "\n",
    "for key, score in f1_results.items():\n",
    "    sample_count = len(labels_by_key[key])\n",
    "    print(f\"{key:<15} {score:.4f}     {sample_count}\")\n",
    "\n",
    "# 전체 평균 F1 score\n",
    "if f1_results:\n",
    "    avg_f1 = sum(f1_results.values()) / len(f1_results)\n",
    "    print(\"-\" * 35)\n",
    "    print(f\"{'평균 F1':<15} {avg_f1:.4f}\")\n",
    "\n",
    "# 각 키별 상세 결과 (옵션)\n",
    "print(\"\\n=== 상세 결과 ===\")\n",
    "for key in f1_results.keys():\n",
    "    correct = sum(1 for p, l in zip(preds_by_key[key], labels_by_key[key]) if p == l)\n",
    "    total = len(labels_by_key[key])\n",
    "    accuracy = correct / total if total > 0 else 0\n",
    "    print(f\"{key}: 정확도 {accuracy:.4f} ({correct}/{total})\")"
   ]
  },
  {
   "cell_type": "code",
   "execution_count": null,
   "metadata": {},
   "outputs": [],
   "source": []
  }
 ],
 "metadata": {
  "colab": {
   "provenance": []
  },
  "kernelspec": {
   "display_name": "Python 3 (ipykernel)",
   "language": "python",
   "name": "python3"
  },
  "language_info": {
   "codemirror_mode": {
    "name": "ipython",
    "version": 3
   },
   "file_extension": ".py",
   "mimetype": "text/x-python",
   "name": "python",
   "nbconvert_exporter": "python",
   "pygments_lexer": "ipython3",
   "version": "3.11.11"
  }
 },
 "nbformat": 4,
 "nbformat_minor": 4
}
